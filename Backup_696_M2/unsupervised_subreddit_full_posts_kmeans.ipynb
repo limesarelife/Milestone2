{
 "cells": [
  {
   "cell_type": "code",
   "execution_count": 24,
   "id": "f63208f2",
   "metadata": {},
   "outputs": [],
   "source": [
    "import pandas as pd\n",
    "import spacy\n",
    "from spacy import displacy\n",
    "import pandas as pd\n",
    "import numpy as np\n",
    "import matplotlib.pyplot as plt\n",
    "import matplotlib as mpl\n",
    "import seaborn as sns\n",
    "import string\n",
    "import nltk\n",
    "import en_core_web_sm\n",
    "#nlp = en_core_web_sm.load()\n",
    "nlp = spacy.load('en_core_web_sm')\n",
    "from sklearn.cluster import KMeans\n",
    "from sklearn.feature_extraction.text import TfidfVectorizer\n",
    "from sklearn.metrics import silhouette_samples, silhouette_score\n",
    "import random\n",
    "#!pip3 install https://github.com/explosion/spacy-models/releases/download/en_core_web_sm-3.0.0/en_core_web_sm-3.0.0.tar.gz"
   ]
  },
  {
   "cell_type": "code",
   "execution_count": 2,
   "id": "f5f611e9",
   "metadata": {},
   "outputs": [],
   "source": [
    "dftry2 = pd.read_csv(\"posts_st.txt\",\n",
    "                    sep = '|',\n",
    "                    names = ['AUTHOR','ID','SCORE','CREATED_DATE','TITLE','NUM_COMMENTS','SELFTEXT'],\n",
    "                    header=None, lineterminator = \"\\n\")"
   ]
  },
  {
   "cell_type": "markdown",
   "id": "d8519c65",
   "metadata": {},
   "source": [
    "### Removing where the title or the selftext are null and removing the posts where the moderator for the Subreddit deleted/removed the post or the original author deleted/removed the post."
   ]
  },
  {
   "cell_type": "code",
   "execution_count": 3,
   "id": "e8e1e0fe",
   "metadata": {},
   "outputs": [],
   "source": [
    "dftry2.dropna(subset=['TITLE'], inplace = True)\n",
    "dftry2.dropna(subset=['SELFTEXT'], inplace = True)\n",
    "df_touse = dftry2[dftry2['SELFTEXT'] != \"[removed]\"].copy()\n",
    "df_to_use_fin = df_touse[df_touse['SELFTEXT'] != \"[deleted]\"].copy()\n",
    "df_to_use_fin['FULL_POSTS'] = df_to_use_fin['TITLE']+\".\"+\" \"+df_touse['SELFTEXT']"
   ]
  },
  {
   "cell_type": "markdown",
   "id": "e7b030b6",
   "metadata": {},
   "source": [
    "### Only keeping posts from the release date of season 3 to current.  This just mirrors our supervised learning portion - although unrelated to one another except for both surround Stranger Things - we did not expect to bring back so much data from the pushshift api."
   ]
  },
  {
   "cell_type": "code",
   "execution_count": 4,
   "id": "5be04d27",
   "metadata": {},
   "outputs": [],
   "source": [
    "df_to_use_fin['CREATED_DATE'] = pd.to_datetime(df_to_use_fin['CREATED_DATE'])\n",
    "df_to_use_fin = df_to_use_fin[df_to_use_fin['CREATED_DATE']> \"2019-07-04\"].copy()"
   ]
  },
  {
   "cell_type": "markdown",
   "id": "985b4a09",
   "metadata": {},
   "source": [
    "### Text Cleaning Function, removes web address which holds links and appears when someone posts a png or jpg. They do many hand drawings of characters or scenes from the show in the subreddit. Then the function sets text to lower case and then removes all punctuation. Then utilizing spacy nlp we find the words lemma and then kick it out if it is a stop words, or is an instance of non alpha characters (such as numbers), then it removes if the word itself is less than 2 chars and finally removes the word if the word's part of speech is not in the allowed parts of speech list we have."
   ]
  },
  {
   "cell_type": "code",
   "execution_count": 5,
   "id": "cd8bb770",
   "metadata": {},
   "outputs": [],
   "source": [
    "# Text Cleaning Function\n",
    "import re\n",
    "\n",
    "def clean(text):\n",
    "    allowed_postags=[\"NOUN\", \"VERB\", \"ADJ\", \"ADV\", \"ADP\", \"PROPN\"]\n",
    "    \n",
    "    try: \n",
    "        text1 = re.sub(r\"http\\S+\", \"\", text)\n",
    "        #Convert text in lower case\n",
    "        text2 = text1.lower()\n",
    "        #text3 = text2.replace(\"[^a-zA-Z#]\", \" \")\n",
    "        #Removing Punctuations\n",
    "        punc_removed = text2.translate(str.maketrans('', '', string.punctuation))\n",
    "        doc= nlp(punc_removed)\n",
    "        text_out = [token.lemma_ for token in doc if token.is_stop == False and \\\n",
    "                    token.is_alpha and len(token)>2 and token.pos_ in allowed_postags\\\n",
    "                   ]\n",
    "        #txt = ' '.join(text_out)\n",
    "    except:\n",
    "        #txt = ''\n",
    "        text_out = ''\n",
    "    return text_out"
   ]
  },
  {
   "cell_type": "code",
   "execution_count": 6,
   "id": "b5af0e8b",
   "metadata": {},
   "outputs": [],
   "source": [
    "df_to_use_fin['token_lemma'] = df_to_use_fin['FULL_POSTS'].apply(clean)"
   ]
  },
  {
   "cell_type": "markdown",
   "id": "2aac1e3c",
   "metadata": {},
   "source": [
    "### Getting the sentiment by utilizing vader "
   ]
  },
  {
   "cell_type": "code",
   "execution_count": 10,
   "id": "8f01d5dd",
   "metadata": {},
   "outputs": [
    {
     "name": "stderr",
     "output_type": "stream",
     "text": [
      "[nltk_data] Downloading package vader_lexicon to\n",
      "[nltk_data]     /Users/jacquelineskunda/nltk_data...\n",
      "[nltk_data]   Package vader_lexicon is already up-to-date!\n"
     ]
    },
    {
     "name": "stdout",
     "output_type": "stream",
     "text": [
      "polarity checked successfull\n"
     ]
    }
   ],
   "source": [
    "nltk.download('vader_lexicon')\n",
    "from nltk.sentiment.vader import SentimentIntensityAnalyzer\n",
    "\n",
    "sid = SentimentIntensityAnalyzer()\n",
    "\n",
    "def polarity(text):\n",
    "    pol = sid.polarity_scores(text)\n",
    "    return pol\n",
    "#polarity checking\n",
    "def joiner(text):\n",
    "    txt = ' '.join(text)\n",
    "    return txt\n",
    "df_to_use_fin['FULL_POSTS_CLEAN'] = df_to_use_fin['token_lemma'].apply(joiner)\n",
    "df_to_use_fin['polarity'] = df_to_use_fin['FULL_POSTS_CLEAN'].apply(polarity)\n",
    "df_to_use_fin['compound']  = df_to_use_fin['polarity'].apply(lambda score_dict: score_dict['compound'])\n",
    "\n",
    "df_to_use_fin['sentiment'] = df_to_use_fin['compound'].apply(lambda x: \"Positive\" if x>0 else(\"Negative\" if x<0 else \"Neutral\") )\n",
    "print(\"polarity checked successfull\")"
   ]
  },
  {
   "cell_type": "markdown",
   "id": "7a356f41",
   "metadata": {},
   "source": [
    "### Removal of posts where the tokenized and lemmatized title+selftext, aka POSTS, have a length less than 5.  We believe this will help create more defined topics and also alleviates the issues where the poster only posted a short blurb of words and some sort of image/vid or a hyperlink elsewhere."
   ]
  },
  {
   "cell_type": "code",
   "execution_count": 11,
   "id": "18c07085",
   "metadata": {},
   "outputs": [
    {
     "data": {
      "text/plain": [
       "(30660, 14)"
      ]
     },
     "execution_count": 11,
     "metadata": {},
     "output_type": "execute_result"
    }
   ],
   "source": [
    "df_to_use_fin['tok_len'] = df_to_use_fin['token_lemma'].apply(lambda x: len(x))\n",
    "df_to_use_fin.groupby(['tok_len'])['tok_len'].count()[2759]\n",
    "df_to_use_fin = df_to_use_fin[df_to_use_fin['tok_len']>=5].copy()\n",
    "#checking shape to see how much data we have\n",
    "df_to_use_fin.shape"
   ]
  },
  {
   "cell_type": "markdown",
   "id": "7c36a81b",
   "metadata": {},
   "source": [
    "### Vectorization method - TF_IDF"
   ]
  },
  {
   "cell_type": "code",
   "execution_count": 49,
   "id": "cf784776",
   "metadata": {},
   "outputs": [],
   "source": [
    "from sklearn.feature_extraction.text import TfidfVectorizer\n",
    "import pandas as pd\n",
    "tf_idf_vectorizor = TfidfVectorizer(max_features = 20000) #1\n",
    "tf_idf = tf_idf_vectorizor.fit_transform(list(df_to_use_fin['FULL_POSTS_CLEAN'])) #2\n",
    "#tf_idf_array = tf_idf.toarray() \n",
    "X = pd.DataFrame(tf_idf.toarray(),columns=tf_idf_vectorizor.get_feature_names_out())#4"
   ]
  },
  {
   "cell_type": "code",
   "execution_count": 34,
   "id": "2ac560d2",
   "metadata": {},
   "outputs": [
    {
     "data": {
      "text/plain": [
       "(30660, 20000)"
      ]
     },
     "execution_count": 34,
     "metadata": {},
     "output_type": "execute_result"
    }
   ],
   "source": [
    "X.shape"
   ]
  },
  {
   "cell_type": "markdown",
   "id": "af7543e7",
   "metadata": {},
   "source": [
    "### Kmeans clustering"
   ]
  },
  {
   "cell_type": "code",
   "execution_count": 16,
   "id": "ddcddf01",
   "metadata": {},
   "outputs": [
    {
     "name": "stdout",
     "output_type": "stream",
     "text": [
      "Cluster 0:\n",
      " flayer\n",
      " mind\n",
      " vecna\n",
      " upside\n",
      " season\n",
      "\n",
      "Cluster 1:\n",
      " song\n",
      " play\n",
      " season\n",
      " music\n",
      " know\n",
      "\n",
      "Cluster 2:\n",
      " vecna\n",
      " max\n",
      " kill\n",
      " think\n",
      " theory\n",
      "\n",
      "Cluster 3:\n",
      " strange\n",
      " thing\n",
      " watch\n",
      " season\n",
      " stranger\n",
      "\n",
      "Cluster 4:\n",
      " steve\n",
      " nancy\n",
      " robin\n",
      " jonathan\n",
      " season\n",
      "\n",
      "Cluster 5:\n",
      " upside\n",
      " gate\n",
      " open\n",
      " demogorgon\n",
      " season\n",
      "\n",
      "Cluster 6:\n",
      " hopper\n",
      " russian\n",
      " joyce\n",
      " american\n",
      " season\n",
      "\n",
      "Cluster 7:\n",
      " season\n",
      " watch\n",
      " episode\n",
      " think\n",
      " like\n",
      "\n",
      "Cluster 8:\n",
      " character\n",
      " mike\n",
      " like\n",
      " season\n",
      " think\n",
      "\n",
      "Cluster 9:\n",
      " think\n",
      " know\n",
      " like\n",
      " season\n",
      " episode\n",
      "\n"
     ]
    },
    {
     "name": "stderr",
     "output_type": "stream",
     "text": [
      "/usr/local/lib/python3.9/site-packages/sklearn/utils/deprecation.py:87: FutureWarning: Function get_feature_names is deprecated; get_feature_names is deprecated in 1.0 and will be removed in 1.2. Please use get_feature_names_out instead.\n",
      "  warnings.warn(msg, category=FutureWarning)\n"
     ]
    }
   ],
   "source": [
    "#Looking at Kmeans using standard 10 topics for K\n",
    "\n",
    "num_clusters = 10\n",
    "kmeans_model = KMeans(n_clusters=num_clusters, init='k-means++', n_init=10, \n",
    "                          random_state = 100,\n",
    "                         verbose=False, max_iter=1000)\n",
    "kmeans = kmeans_model.fit(tf_idf)\n",
    "#kmeans_clusters = kmeans.predict(tf_idf)\n",
    "#kmeans_distances = kmeans.transform(tf_idf)\n",
    "sorted_centroids = kmeans.cluster_centers_.argsort()[:, ::-1]\n",
    "terms = tf_idf_vectorizor.get_feature_names_out()\n",
    "for i in range(num_clusters):\n",
    "    print(\"Cluster %d:\" % i)\n",
    "    for j in sorted_centroids[i, :5]:\n",
    "        print(' %s' % terms[j])\n",
    "    print()"
   ]
  },
  {
   "cell_type": "markdown",
   "id": "5422ad73",
   "metadata": {},
   "source": [
    "### Finding Ideal number of topics"
   ]
  },
  {
   "cell_type": "markdown",
   "id": "f11f146e",
   "metadata": {},
   "source": [
    "### Elbow Method"
   ]
  },
  {
   "cell_type": "code",
   "execution_count": 52,
   "id": "28f8d04b",
   "metadata": {},
   "outputs": [
    {
     "data": {
      "image/png": "[encoded data removed]",
      "text/plain": [
       "<Figure size 432x288 with 1 Axes>"
      ]
     },
     "metadata": {
      "needs_background": "dark"
     },
     "output_type": "display_data"
    }
   ],
   "source": [
    "Sum_of_squared_distances = []\n",
    "K = [4,8,10,14,20,24,30,50]\n",
    "for num_clusters in K :\n",
    "    kmeans = KMeans(n_clusters=num_clusters,init='k-means++', \n",
    "                          random_state = 100)\n",
    "    kmeans.fit(tf_idf)\n",
    "    Sum_of_squared_distances.append(kmeans.inertia_)\n",
    "plt.rcParams['axes.facecolor'] = 'black'\n",
    "COLOR = 'white'\n",
    "mpl.rcParams['text.color'] = COLOR\n",
    "mpl.rcParams['axes.labelcolor'] = COLOR\n",
    "mpl.rcParams['xtick.color'] = COLOR\n",
    "mpl.rcParams['ytick.color'] = COLOR\n",
    "plt.plot(K,Sum_of_squared_distances,'r-')\n",
    "plt.xlabel('Values of K') \n",
    "plt.ylabel('Sum of squared distances/Inertia') \n",
    "plt.title('Elbow Method For Optimal k')\n",
    "plt.show()"
   ]
  },
  {
   "cell_type": "markdown",
   "id": "41bc9a72",
   "metadata": {},
   "source": [
    "### The elbow method is not distinguishing a great K, this could be due to the data coming all from the same subreddit so it is not exhibiting well seperated clusters.  Also this means we will have to try a silouhette score instead which will help determine a ideal k.  The plot shows inertia keeps decreasing as K increases. Tthere is a turning point in terms of the inertia decreasing speed, and this is the Elbow point we should look for. Note that when we generate the data, we use three normal distributions. Thus it matches the result based \n",
    "\"The silhouette value for each point is a measure of how similar that point is to points in its own cluster compared to points in other clusters, and ranges from -1 to +1.\n",
    "\n",
    "The silhouette value for the ith point, Si, is defined as\n",
    "\n",
    "Si = (bi-ai)/ max(ai,bi) where ai is the average distance from the ith point to the other points in the same cluster as i, and bi is the minimum average distance from the ith point to points in a different cluster, minimized over clusters.\""
   ]
  },
  {
   "cell_type": "markdown",
   "id": "448df4e9",
   "metadata": {},
   "source": [
    "### Silouhette Score"
   ]
  },
  {
   "cell_type": "code",
   "execution_count": 84,
   "id": "cad7c5e7",
   "metadata": {},
   "outputs": [
    {
     "data": {
      "image/png": "[encoded data removed]",
      "text/plain": [
       "<Figure size 432x288 with 1 Axes>"
      ]
     },
     "metadata": {
      "needs_background": "dark"
     },
     "output_type": "display_data"
    }
   ],
   "source": [
    "range_n_clusters = [4,8,10,14,20,24,30,50]\n",
    "silhouette_avg = []\n",
    "for num_clusters in range_n_clusters:\n",
    "    # initialise kmeans\n",
    "    kmeans_sil = KMeans(n_clusters=num_clusters,init='k-means++', n_init=10, \n",
    "                          random_state = 100,\n",
    "                        )\n",
    "    kmeans_sil.fit(tf_idf)\n",
    "    cluster_labels = kmeans_sil.labels_\n",
    " \n",
    "    # silhouette score\n",
    "    silhouette_avg.append(silhouette_score(tf_idf, cluster_labels, metric = 'euclidean'))\n",
    "plt.plot(range_n_clusters,silhouette_avg,'r-')\n",
    "plt.rcParams['axes.facecolor'] = 'black'\n",
    "COLOR = 'white'\n",
    "mpl.rcParams['text.color'] = COLOR\n",
    "mpl.rcParams['axes.labelcolor'] = COLOR\n",
    "mpl.rcParams['xtick.color'] = COLOR\n",
    "mpl.rcParams['ytick.color'] = COLOR\n",
    "plt.xlabel('Values of K') \n",
    "plt.ylabel('Silhouette score') \n",
    "plt.title('Silhouette analysis For Optimal k')\n",
    "plt.show()"
   ]
  },
  {
   "cell_type": "markdown",
   "id": "dbd99be3",
   "metadata": {},
   "source": [
    "### The best value is 1 and the worst value is -1 for silouhette scores. Values near 0 indicate overlapping clusters. Negative values generally indicate that a sample has been assigned to the wrong cluster, as a different cluster is more similar. It would make sense that there are overlapping clusters since the data stems from the same subreddit, hence have silhouette scores around 0. Just by eyeing both plots it looks like there is a slight bend around 14 and one around, 20 and 30.  We will run all 3 and get there various metrics out for comparison."
   ]
  },
  {
   "cell_type": "markdown",
   "id": "a2bdb371",
   "metadata": {},
   "source": [
    "### Def below from sklearn documentation this we will use to pull out the different metrics for comparison. We are running on samples of 10K since this will take a while.\n",
    "https://scikit-learn.org/stable/auto_examples/cluster/plot_kmeans_digits.html#sphx-glr-auto-examples-cluster-plot-kmeans-digits-py"
   ]
  },
  {
   "cell_type": "code",
   "execution_count": 54,
   "id": "1258aaf0",
   "metadata": {},
   "outputs": [],
   "source": [
    "kmeans14 = KMeans(n_clusters=14, init='k-means++', n_init=10, \n",
    "                          random_state = 100,\n",
    "                         verbose=False, max_iter=1000)\n",
    "kmeans20 = KMeans(n_clusters=20, init='k-means++', n_init=10, \n",
    "                          random_state = 100,\n",
    "                         verbose=False, max_iter=1000)\n",
    "kmeans30 = KMeans(n_clusters=30, init='k-means++', n_init=10, \n",
    "                          random_state = 100,\n",
    "                         verbose=False, max_iter=1000)"
   ]
  },
  {
   "cell_type": "code",
   "execution_count": 81,
   "id": "9be42d01",
   "metadata": {},
   "outputs": [
    {
     "name": "stdout",
     "output_type": "stream",
     "text": [
      "14 Clusters k-means++\t3.611s\t584959164\t0.006\t1.000\t0.012\t0.000\t-0.000\t0.560\n",
      "20 Clusters k-means++\t4.968s\t575118026\t0.008\t1.000\t0.015\t0.000\t-0.000\t0.707\n",
      "30 Clusters k-means++\t11.703s\t558941725\t0.014\t1.000\t0.027\t0.000\t0.000\t0.682\n"
     ]
    }
   ],
   "source": [
    "import time\n",
    "from sklearn.preprocessing import StandardScaler\n",
    "from sklearn.pipeline import make_pipeline\n",
    "from sklearn import metrics\n",
    "\n",
    "def bench_k_means(kmeans, name, data, labels):\n",
    "    \"\"\"Benchmark to evaluate the KMeans initialization methods.\n",
    "\n",
    "    Parameters\n",
    "    ----------\n",
    "    kmeans : KMeans instance\n",
    "        A :class:`~sklearn.cluster.KMeans` instance with the initialization\n",
    "        already set.\n",
    "    name : str\n",
    "        Name given to the strategy. It will be used to show the results in a\n",
    "        table.\n",
    "    data : ndarray of shape (n_samples, n_features)\n",
    "        The data to cluster.\n",
    "    labels : ndarray of shape (n_samples,)\n",
    "        The labels used to compute the clustering metrics which requires some\n",
    "        supervision.\n",
    "    \"\"\"\n",
    "    t0 = time.time()\n",
    "    estimator = make_pipeline(StandardScaler(with_mean=False), kmeans).fit(data)\n",
    "    #cluster_labels = estimator.labels_\n",
    "    fit_time = time.time() - t0\n",
    "    results = [name, fit_time, estimator[-1].inertia_]\n",
    "\n",
    "    # Define the metrics which require only the true labels and estimator\n",
    "    # labels\n",
    "    clustering_metrics = [\n",
    "        metrics.homogeneity_score,\n",
    "        metrics.completeness_score,\n",
    "        metrics.v_measure_score,\n",
    "        metrics.adjusted_rand_score,\n",
    "        metrics.adjusted_mutual_info_score,\n",
    "    ]\n",
    "    results += [m(labels, estimator[-1].labels_) for m in clustering_metrics]\n",
    "\n",
    "    # The silhouette score requires the full dataset\n",
    "    results += [\n",
    "        metrics.silhouette_score(\n",
    "            data,\n",
    "            estimator[-1].labels_,\n",
    "            metric=\"euclidean\",\n",
    "            #sample_size=20000,\n",
    "        )\n",
    "    ]\n",
    "\n",
    "    # Show the results\n",
    "    formatter_result = (\n",
    "        \"{:9s}\\t{:.3f}s\\t{:.0f}\\t{:.3f}\\t{:.3f}\\t{:.3f}\\t{:.3f}\\t{:.3f}\\t{:.3f}\"\n",
    "    )\n",
    "    print(formatter_result.format(*results))\n",
    "    return formatter_result.format(*results)\n",
    "k_results_14 = bench_k_means(kmeans14, name = \"14 Clusters k-means++\", data = tf_idf.T, \\\n",
    "                             labels = tf_idf_vectorizor.get_feature_names_out())\n",
    "k_results_20 = bench_k_means(kmeans20, name = \"20 Clusters k-means++\", data = tf_idf.T, \\\n",
    "                             labels = tf_idf_vectorizor.get_feature_names_out())\n",
    "k_results_30 = bench_k_means(kmeans30, name = \"30 Clusters k-means++\", data = tf_idf.T, \\\n",
    "                             labels = tf_idf_vectorizor.get_feature_names_out())"
   ]
  },
  {
   "cell_type": "markdown",
   "id": "d157214d",
   "metadata": {},
   "source": [
    "#### Time, Inertia, Homogeneity score, Completeness, V measure, Adjusted Rand Score, Adjusted Mutual Information Score, Silouhette Score.  From sklearn documentation:     \n",
    "**Inertia:** For better clustering, the inertia value should be minimum. In contrast, if the inertia value is high, that means data points in the cluster are not similar to each other.   \n",
    "**Homogeneity:** A clustering result satisfies homogeneity if all of its clusters contain only data points which are members of a single class. Score between 0.0 and 1.0. 1.0 stands for perfectly homogeneous labeling.    \n",
    "**Completeness:** float. Score between 0.0 and 1.0. 1.0 stands for perfectly complete labeling.    \n",
    "**V_measure:** float. score between 0.0 and 1.0. 1.0 stands for perfectly complete labeling.    \n",
    "**ARI:** The ARI returns similarity score between -1.0 and 1.0. Random labelings have an ARI close to 0.0. 1.0 stands for perfect match. See also adjusted_mutual_info_score.  \n",
    "**AMI:** The AMI returns a value of 1 when the two partitions are identical (ie perfectly matched). Random partitions (independent labellings) have an expected AMI around 0 on average hence can be negative.   \n",
    "**Silhouette:** The best value is 1 and the worst value is -1 for silouhette scores. Values near 0 indicate overlapping clusters. Negative values generally indicate that a sample has been assigned to the wrong cluster, as a different cluster is more similar.   "
   ]
  },
  {
   "cell_type": "code",
   "execution_count": 80,
   "id": "f096242f",
   "metadata": {},
   "outputs": [
    {
     "data": {
      "text/plain": [
       "(20000, 30660)"
      ]
     },
     "execution_count": 80,
     "metadata": {},
     "output_type": "execute_result"
    }
   ],
   "source": [
    "tf_idf.T.shape"
   ]
  },
  {
   "cell_type": "code",
   "execution_count": 76,
   "id": "520aa171",
   "metadata": {},
   "outputs": [
    {
     "data": {
      "text/plain": [
       "(20000,)"
      ]
     },
     "execution_count": 76,
     "metadata": {},
     "output_type": "execute_result"
    }
   ],
   "source": [
    "tf_idf_vectorizor.get_feature_names_out().shape"
   ]
  },
  {
   "cell_type": "markdown",
   "id": "1ad4bbb2",
   "metadata": {},
   "source": [
    "### Based on our results it looks like 20 or 30 clusters would be ideal  20 has the highest silhouette score, but 30 clusters has the better values for the other metrics and came in second for silhouette score."
   ]
  },
  {
   "cell_type": "markdown",
   "id": "c90f905a",
   "metadata": {},
   "source": [
    "### Using KMeans with ideal number of Topics"
   ]
  },
  {
   "cell_type": "code",
   "execution_count": 87,
   "id": "d907bab6",
   "metadata": {},
   "outputs": [],
   "source": [
    "#Looking at Kmeans using 20 topics for K\n",
    "\n",
    "num_clusters = 20\n",
    "kmeans_model = KMeans(n_clusters=num_clusters, init='k-means++', n_init=10, \n",
    "                          random_state = 100,\n",
    "                         verbose=False, max_iter=1000)\n",
    "kmeans_20 = kmeans_model.fit(tf_idf)\n",
    "#kmeans_clusters = kmeans.predict(tf_idf)\n",
    "#kmeans_distances = kmeans.transform(tf_idf)"
   ]
  },
  {
   "cell_type": "code",
   "execution_count": 120,
   "id": "0ff89582",
   "metadata": {},
   "outputs": [
    {
     "name": "stdout",
     "output_type": "stream",
     "text": [
      "Cluster 0:\n",
      "['brenner', 'think', 'lab', 'season', 'know', 'power', 'child', 'theory', 'kid', 'kill']\n",
      "Cluster 1:\n",
      "['think', 'like', 'season', 'know', 'scene', 'thing', 'time', 'go', 'look', 'people']\n",
      "Cluster 2:\n",
      "['billy', 'max', 'season', 'think', 'scene', 'die', 'like', 'billys', 'know', 'character']\n",
      "Cluster 3:\n",
      "['vecna', 'max', 'kill', 'think', 'theory', 'season', 'mind', 'like', 'know', 'upside']\n",
      "Cluster 4:\n",
      "['watch', 'season', 'time', 'thing', 'strange', 'finish', 'episode', 'start', 'like', 'good']\n",
      "Cluster 5:\n",
      "['season', 'think', 'like', 'end', 'good', 'feel', 'time', 'go', 'thing', 'release']\n",
      "Cluster 6:\n",
      "['episode', 'season', 'think', 'watch', 'like', 'know', 'end', 'volume', 'scene', 'time']\n",
      "Cluster 7:\n",
      "['character', 'season', 'like', 'die', 'think', 'main', 'feel', 'death', 'kill', 'good']\n",
      "Cluster 8:\n",
      "['mike', 'season', 'like', 'love', 'think', 'friend', 'gay', 'say', 'max', 'know']\n",
      "Cluster 9:\n",
      "['song', 'play', 'season', 'music', 'know', 'soundtrack', 'hill', 'vecna', 'episode', 'run']\n",
      "Cluster 10:\n",
      "['flayer', 'mind', 'vecna', 'upside', 'season', 'think', 'control', 'theory', 'like', 'demogorgon']\n",
      "Cluster 11:\n",
      "['gate', 'open', 'season', 'upside', 'close', 'demogorgon', 'russian', 'hawkin', 'question', 'vecna']\n",
      "Cluster 12:\n",
      "['hopper', 'joyce', 'season', 'think', 'know', 'alive', 'end', 'like', 'theory', 'die']\n",
      "Cluster 13:\n",
      "['steve', 'nancy', 'robin', 'jonathan', 'season', 'think', 'like', 'dustin', 'love', 'character']\n",
      "Cluster 14:\n",
      "['eddie', 'eddy', 'think', 'dustin', 'guitar', 'munson', 'die', 'like', 'play', 'know']\n",
      "Cluster 15:\n",
      "['jason', 'eddie', 'think', 'lucas', 'people', 'murder', 'kill', 'die', 'girlfriend', 'like']\n",
      "Cluster 16:\n",
      "['power', 'kali', 'think', 'season', 'lose', 'use', 'kid', 'theory', 'like', 'know']\n",
      "Cluster 17:\n",
      "['upside', 'world', 'light', 'season', 'time', 'portal', 'theory', 'hawkin', 'demogorgon', 'create']\n",
      "Cluster 18:\n",
      "['russian', 'american', 'hopper', 'demogorgon', 'season', 'russia', 'credit', 'theory', 'think', 'upside']\n",
      "Cluster 19:\n",
      "['strange', 'thing', 'season', 'stranger', 'like', 'think', 'game', 'watch', 'know', 'want']\n"
     ]
    }
   ],
   "source": [
    "sorted_centroids = kmeans_20.cluster_centers_.argsort()[:, ::-1]\n",
    "terms = tf_idf_vectorizor.get_feature_names_out()\n",
    "for i in range(num_clusters):\n",
    "    print(\"Cluster %d:\" % i)\n",
    "    tops = []\n",
    "    for j in sorted_centroids[i, :10]:\n",
    "        curr_word = terms[j]\n",
    "        tops.append(terms[j])\n",
    "        #print(' %s' % terms[j])\n",
    "    print(tops)"
   ]
  },
  {
   "cell_type": "markdown",
   "id": "14183837",
   "metadata": {},
   "source": [
    "### Visualizing our Clusters"
   ]
  },
  {
   "cell_type": "code",
   "execution_count": 106,
   "id": "9bf172d5",
   "metadata": {},
   "outputs": [
    {
     "data": {
      "text/html": [
       "<div>\n",
       "<style scoped>\n",
       "    .dataframe tbody tr th:only-of-type {\n",
       "        vertical-align: middle;\n",
       "    }\n",
       "\n",
       "    .dataframe tbody tr th {\n",
       "        vertical-align: top;\n",
       "    }\n",
       "\n",
       "    .dataframe thead th {\n",
       "        text-align: right;\n",
       "    }\n",
       "</style>\n",
       "<table border=\"1\" class=\"dataframe\">\n",
       "  <thead>\n",
       "    <tr style=\"text-align: right;\">\n",
       "      <th></th>\n",
       "      <th>post</th>\n",
       "      <th>category</th>\n",
       "    </tr>\n",
       "  </thead>\n",
       "  <tbody>\n",
       "    <tr>\n",
       "      <th>1</th>\n",
       "      <td>upsidedown turn vecna survive reason vecna los...</td>\n",
       "      <td>3</td>\n",
       "    </tr>\n",
       "    <tr>\n",
       "      <th>2</th>\n",
       "      <td>season rewatch question go killing spree lab k...</td>\n",
       "      <td>5</td>\n",
       "    </tr>\n",
       "    <tr>\n",
       "      <th>8</th>\n",
       "      <td>dear billy vecna episode kid convince evil cal...</td>\n",
       "      <td>3</td>\n",
       "    </tr>\n",
       "    <tr>\n",
       "      <th>9</th>\n",
       "      <td>child vecna season notice second big mystery u...</td>\n",
       "      <td>11</td>\n",
       "    </tr>\n",
       "    <tr>\n",
       "      <th>13</th>\n",
       "      <td>theory spoiler vecna control think mind flayer...</td>\n",
       "      <td>1</td>\n",
       "    </tr>\n",
       "    <tr>\n",
       "      <th>...</th>\n",
       "      <td>...</td>\n",
       "      <td>...</td>\n",
       "    </tr>\n",
       "    <tr>\n",
       "      <th>48331</th>\n",
       "      <td>time relationship struggle call murray guy work</td>\n",
       "      <td>1</td>\n",
       "    </tr>\n",
       "    <tr>\n",
       "      <th>48333</th>\n",
       "      <td>minor spoilersthought kline sign look familiar...</td>\n",
       "      <td>1</td>\n",
       "    </tr>\n",
       "    <tr>\n",
       "      <th>48334</th>\n",
       "      <td>spoiler sure season way see episode spoiler</td>\n",
       "      <td>6</td>\n",
       "    </tr>\n",
       "    <tr>\n",
       "      <th>48335</th>\n",
       "      <td>episode joyce watch friend episode diane marry...</td>\n",
       "      <td>6</td>\n",
       "    </tr>\n",
       "    <tr>\n",
       "      <th>48336</th>\n",
       "      <td>feel like feel bad billy literally kid abuse d...</td>\n",
       "      <td>2</td>\n",
       "    </tr>\n",
       "  </tbody>\n",
       "</table>\n",
       "<p>30660 rows × 2 columns</p>\n",
       "</div>"
      ],
      "text/plain": [
       "                                                    post  category\n",
       "1      upsidedown turn vecna survive reason vecna los...         3\n",
       "2      season rewatch question go killing spree lab k...         5\n",
       "8      dear billy vecna episode kid convince evil cal...         3\n",
       "9      child vecna season notice second big mystery u...        11\n",
       "13     theory spoiler vecna control think mind flayer...         1\n",
       "...                                                  ...       ...\n",
       "48331    time relationship struggle call murray guy work         1\n",
       "48333  minor spoilersthought kline sign look familiar...         1\n",
       "48334        spoiler sure season way see episode spoiler         6\n",
       "48335  episode joyce watch friend episode diane marry...         6\n",
       "48336  feel like feel bad billy literally kid abuse d...         2\n",
       "\n",
       "[30660 rows x 2 columns]"
      ]
     },
     "execution_count": 106,
     "metadata": {},
     "output_type": "execute_result"
    }
   ],
   "source": [
    "results_final = pd.DataFrame()\n",
    "results_final['post'] = df_to_use_fin.FULL_POSTS_CLEAN\n",
    "results_final['category'] = kmeans_20.labels_\n",
    "results_final"
   ]
  },
  {
   "cell_type": "code",
   "execution_count": null,
   "id": "381098a7",
   "metadata": {},
   "outputs": [],
   "source": [
    "from sklearn.decomposition import SparsePCA\n",
    "reduced_data = SparsePCA(n_components=2, random_state = 100).fit_transform(tf_idf.toarray())\n",
    "kmeansFin = KMeans(init=\"k-means++\", n_clusters=20, n_init=10,\n",
    "                   random_state = 100,max_iter=1000)\n",
    "kmeansFin.fit(reduced_data)\n",
    "\n",
    "# Step size of the mesh. Decrease to increase the quality of the VQ.\n",
    "h = 0.02  # point in the mesh [x_min, x_max]x[y_min, y_max].\n",
    "\n",
    "# Plot the decision boundary. For that, we will assign a color to each\n",
    "x_min, x_max = reduced_data[:, 0].min() - 1, reduced_data[:, 0].max() + 1\n",
    "y_min, y_max = reduced_data[:, 1].min() - 1, reduced_data[:, 1].max() + 1\n",
    "xx, yy = np.meshgrid(np.arange(x_min, x_max, h), np.arange(y_min, y_max, h))\n",
    "\n",
    "# Obtain labels for each point in mesh. Use last trained model.\n",
    "Z = kmeans.predict(np.c_[xx.ravel(), yy.ravel()])\n",
    "\n",
    "# Put the result into a color plot\n",
    "Z = Z.reshape(xx.shape)\n",
    "plt.figure(1)\n",
    "plt.clf()\n",
    "plt.imshow(\n",
    "    Z,\n",
    "    interpolation=\"nearest\",\n",
    "    extent=(xx.min(), xx.max(), yy.min(), yy.max()),\n",
    "    cmap=plt.cm.Paired,\n",
    "    aspect=\"auto\",\n",
    "    origin=\"lower\",\n",
    ")\n",
    "\n",
    "plt.plot(reduced_data[:, 0], reduced_data[:, 1], \"k.\", markersize=2)\n",
    "# Plot the centroids as a white X\n",
    "centroids = kmeansFin.cluster_centers_\n",
    "plt.scatter(\n",
    "    centroids[:, 0],\n",
    "    centroids[:, 1],\n",
    "    marker=\"x\",\n",
    "    s=169,\n",
    "    linewidths=3,\n",
    "    color=\"w\",\n",
    "    zorder=10,\n",
    ")\n",
    "plt.title(\n",
    "    \"K-means clustering 20 Topics\"\n",
    "    \"Centroids are marked with white cross\"\n",
    ")\n",
    "plt.xlim(x_min, x_max)\n",
    "plt.ylim(y_min, y_max)\n",
    "plt.xticks(())\n",
    "plt.yticks(())\n",
    "plt.show()"
   ]
  },
  {
   "cell_type": "markdown",
   "id": "9406c5e8",
   "metadata": {},
   "source": [
    "### Possibly add on features of date of post and sentiment compound to help cluster, this doesnt seem like these feature add ons would be out of scope or \"cheating\" since we would always know when a subreddit post was made and the sentiment is a calculation"
   ]
  },
  {
   "cell_type": "code",
   "execution_count": null,
   "id": "43ea2d0c",
   "metadata": {},
   "outputs": [],
   "source": [
    "df_fin_to_use"
   ]
  },
  {
   "cell_type": "code",
   "execution_count": null,
   "id": "cb76ffc4",
   "metadata": {},
   "outputs": [],
   "source": []
  },
  {
   "cell_type": "code",
   "execution_count": null,
   "id": "3310af83",
   "metadata": {},
   "outputs": [],
   "source": []
  }
 ],
 "metadata": {
  "kernelspec": {
   "display_name": "Python 3 (ipykernel)",
   "language": "python",
   "name": "python3"
  },
  "language_info": {
   "codemirror_mode": {
    "name": "ipython",
    "version": 3
   },
   "file_extension": ".py",
   "mimetype": "text/x-python",
   "name": "python",
   "nbconvert_exporter": "python",
   "pygments_lexer": "ipython3",
   "version": "3.9.8"
  }
 },
 "nbformat": 4,
 "nbformat_minor": 5
}
