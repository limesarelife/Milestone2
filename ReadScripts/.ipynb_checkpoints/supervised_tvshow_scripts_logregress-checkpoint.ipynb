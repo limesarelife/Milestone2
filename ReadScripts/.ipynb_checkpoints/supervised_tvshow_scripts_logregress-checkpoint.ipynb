{
 "cells": [
  {
   "cell_type": "code",
   "execution_count": 208,
   "id": "8cbc4d3b",
   "metadata": {},
   "outputs": [],
   "source": [
    "import pandas as pd\n",
    "import numpy as np\n",
    "#add other dependencies for visuals"
   ]
  },
  {
   "cell_type": "code",
   "execution_count": 209,
   "id": "fce295fc",
   "metadata": {},
   "outputs": [],
   "source": [
    "#path_link=\"Data/Seasons_Episodes/output/charlines_df.csv\"\n",
    "#df_charlines = pd.read_csv(path_link)\n",
    "df_charlines = pd.read_csv(\"/Users/jacquelineskunda/Documents/GitHub/696/Milestone2/Data/Seasons_Episodes/output/charlines_df.csv\")"
   ]
  },
  {
   "cell_type": "code",
   "execution_count": 210,
   "id": "e86b59a3",
   "metadata": {},
   "outputs": [
    {
     "name": "stdout",
     "output_type": "stream",
     "text": [
      "<class 'pandas.core.frame.DataFrame'>\n",
      "RangeIndex: 6068 entries, 0 to 6067\n",
      "Data columns (total 11 columns):\n",
      " #   Column          Non-Null Count  Dtype \n",
      "---  ------          --------------  ----- \n",
      " 0   Unnamed: 0      6068 non-null   int64 \n",
      " 1   index           6068 non-null   int64 \n",
      " 2   Character       6068 non-null   object\n",
      " 3   Dialog          5457 non-null   object\n",
      " 4   Season          6068 non-null   int64 \n",
      " 5   Episode         6068 non-null   int64 \n",
      " 6   Fix Name        6068 non-null   object\n",
      " 7   Character_Fix   6068 non-null   object\n",
      " 8   Spoke_Before    5556 non-null   object\n",
      " 9   Character_Keep  6068 non-null   object\n",
      " 10  Length Dialog   6068 non-null   int64 \n",
      "dtypes: int64(5), object(6)\n",
      "memory usage: 521.6+ KB\n"
     ]
    }
   ],
   "source": [
    "df_charlines.info()"
   ]
  },
  {
   "cell_type": "code",
   "execution_count": 211,
   "id": "c0b9bea8",
   "metadata": {},
   "outputs": [
    {
     "data": {
      "text/html": [
       "<div>\n",
       "<style scoped>\n",
       "    .dataframe tbody tr th:only-of-type {\n",
       "        vertical-align: middle;\n",
       "    }\n",
       "\n",
       "    .dataframe tbody tr th {\n",
       "        vertical-align: top;\n",
       "    }\n",
       "\n",
       "    .dataframe thead th {\n",
       "        text-align: right;\n",
       "    }\n",
       "</style>\n",
       "<table border=\"1\" class=\"dataframe\">\n",
       "  <thead>\n",
       "    <tr style=\"text-align: right;\">\n",
       "      <th></th>\n",
       "      <th>Unnamed: 0</th>\n",
       "      <th>index</th>\n",
       "      <th>Character</th>\n",
       "      <th>Dialog</th>\n",
       "      <th>Season</th>\n",
       "      <th>Episode</th>\n",
       "      <th>Fix Name</th>\n",
       "      <th>Character_Fix</th>\n",
       "      <th>Spoke_Before</th>\n",
       "      <th>Character_Keep</th>\n",
       "      <th>Length Dialog</th>\n",
       "    </tr>\n",
       "  </thead>\n",
       "  <tbody>\n",
       "    <tr>\n",
       "      <th>0</th>\n",
       "      <td>0</td>\n",
       "      <td>3</td>\n",
       "      <td>HOPPER</td>\n",
       "      <td>NaN</td>\n",
       "      <td>3</td>\n",
       "      <td>5</td>\n",
       "      <td>True</td>\n",
       "      <td>HOPPER</td>\n",
       "      <td>NaN</td>\n",
       "      <td>Keep</td>\n",
       "      <td>0</td>\n",
       "    </tr>\n",
       "    <tr>\n",
       "      <th>1</th>\n",
       "      <td>0</td>\n",
       "      <td>3</td>\n",
       "      <td>HOPPER</td>\n",
       "      <td>NaN</td>\n",
       "      <td>3</td>\n",
       "      <td>5</td>\n",
       "      <td>True</td>\n",
       "      <td>HOPPER</td>\n",
       "      <td>NaN</td>\n",
       "      <td>Keep</td>\n",
       "      <td>0</td>\n",
       "    </tr>\n",
       "    <tr>\n",
       "      <th>2</th>\n",
       "      <td>0</td>\n",
       "      <td>3</td>\n",
       "      <td>HOPPER</td>\n",
       "      <td>NaN</td>\n",
       "      <td>3</td>\n",
       "      <td>5</td>\n",
       "      <td>True</td>\n",
       "      <td>HOPPER</td>\n",
       "      <td>NaN</td>\n",
       "      <td>Keep</td>\n",
       "      <td>0</td>\n",
       "    </tr>\n",
       "    <tr>\n",
       "      <th>3</th>\n",
       "      <td>0</td>\n",
       "      <td>3</td>\n",
       "      <td>HOPPER</td>\n",
       "      <td>NaN</td>\n",
       "      <td>3</td>\n",
       "      <td>5</td>\n",
       "      <td>True</td>\n",
       "      <td>HOPPER</td>\n",
       "      <td>NaN</td>\n",
       "      <td>Keep</td>\n",
       "      <td>0</td>\n",
       "    </tr>\n",
       "    <tr>\n",
       "      <th>4</th>\n",
       "      <td>0</td>\n",
       "      <td>3</td>\n",
       "      <td>HOPPER</td>\n",
       "      <td>NaN</td>\n",
       "      <td>3</td>\n",
       "      <td>5</td>\n",
       "      <td>True</td>\n",
       "      <td>HOPPER</td>\n",
       "      <td>NaN</td>\n",
       "      <td>Keep</td>\n",
       "      <td>0</td>\n",
       "    </tr>\n",
       "    <tr>\n",
       "      <th>5</th>\n",
       "      <td>0</td>\n",
       "      <td>3</td>\n",
       "      <td>HOPPER</td>\n",
       "      <td>Looks like somebody’s home. As the truck parks...</td>\n",
       "      <td>3</td>\n",
       "      <td>5</td>\n",
       "      <td>True</td>\n",
       "      <td>HOPPER</td>\n",
       "      <td>NaN</td>\n",
       "      <td>Keep</td>\n",
       "      <td>341</td>\n",
       "    </tr>\n",
       "    <tr>\n",
       "      <th>6</th>\n",
       "      <td>0</td>\n",
       "      <td>3</td>\n",
       "      <td>HOPPER</td>\n",
       "      <td>Where’s that coming from? Joyce pauses at the ...</td>\n",
       "      <td>3</td>\n",
       "      <td>5</td>\n",
       "      <td>True</td>\n",
       "      <td>HOPPER</td>\n",
       "      <td>NaN</td>\n",
       "      <td>Keep</td>\n",
       "      <td>165</td>\n",
       "    </tr>\n",
       "    <tr>\n",
       "      <th>7</th>\n",
       "      <td>0</td>\n",
       "      <td>3</td>\n",
       "      <td>HOPPER</td>\n",
       "      <td>Hey, dipshits! The men drop their tools and st...</td>\n",
       "      <td>3</td>\n",
       "      <td>5</td>\n",
       "      <td>True</td>\n",
       "      <td>HOPPER</td>\n",
       "      <td>NaN</td>\n",
       "      <td>Keep</td>\n",
       "      <td>80</td>\n",
       "    </tr>\n",
       "    <tr>\n",
       "      <th>8</th>\n",
       "      <td>0</td>\n",
       "      <td>3</td>\n",
       "      <td>HOPPER</td>\n",
       "      <td>Dr. Alexei steps forward, putting himself betw...</td>\n",
       "      <td>3</td>\n",
       "      <td>5</td>\n",
       "      <td>True</td>\n",
       "      <td>HOPPER</td>\n",
       "      <td>NaN</td>\n",
       "      <td>Keep</td>\n",
       "      <td>166</td>\n",
       "    </tr>\n",
       "    <tr>\n",
       "      <th>9</th>\n",
       "      <td>0</td>\n",
       "      <td>3</td>\n",
       "      <td>HOPPER</td>\n",
       "      <td>NaN</td>\n",
       "      <td>3</td>\n",
       "      <td>5</td>\n",
       "      <td>True</td>\n",
       "      <td>HOPPER</td>\n",
       "      <td>NaN</td>\n",
       "      <td>Keep</td>\n",
       "      <td>0</td>\n",
       "    </tr>\n",
       "  </tbody>\n",
       "</table>\n",
       "</div>"
      ],
      "text/plain": [
       "   Unnamed: 0  index Character  \\\n",
       "0           0      3    HOPPER   \n",
       "1           0      3    HOPPER   \n",
       "2           0      3    HOPPER   \n",
       "3           0      3    HOPPER   \n",
       "4           0      3    HOPPER   \n",
       "5           0      3    HOPPER   \n",
       "6           0      3    HOPPER   \n",
       "7           0      3    HOPPER   \n",
       "8           0      3    HOPPER   \n",
       "9           0      3    HOPPER   \n",
       "\n",
       "                                              Dialog  Season  Episode  \\\n",
       "0                                                NaN       3        5   \n",
       "1                                                NaN       3        5   \n",
       "2                                                NaN       3        5   \n",
       "3                                                NaN       3        5   \n",
       "4                                                NaN       3        5   \n",
       "5  Looks like somebody’s home. As the truck parks...       3        5   \n",
       "6  Where’s that coming from? Joyce pauses at the ...       3        5   \n",
       "7  Hey, dipshits! The men drop their tools and st...       3        5   \n",
       "8  Dr. Alexei steps forward, putting himself betw...       3        5   \n",
       "9                                                NaN       3        5   \n",
       "\n",
       "  Fix Name Character_Fix Spoke_Before Character_Keep  Length Dialog  \n",
       "0     True        HOPPER          NaN           Keep              0  \n",
       "1     True        HOPPER          NaN           Keep              0  \n",
       "2     True        HOPPER          NaN           Keep              0  \n",
       "3     True        HOPPER          NaN           Keep              0  \n",
       "4     True        HOPPER          NaN           Keep              0  \n",
       "5     True        HOPPER          NaN           Keep            341  \n",
       "6     True        HOPPER          NaN           Keep            165  \n",
       "7     True        HOPPER          NaN           Keep             80  \n",
       "8     True        HOPPER          NaN           Keep            166  \n",
       "9     True        HOPPER          NaN           Keep              0  "
      ]
     },
     "execution_count": 211,
     "metadata": {},
     "output_type": "execute_result"
    }
   ],
   "source": [
    "df_charlines.head(10)"
   ]
  },
  {
   "cell_type": "code",
   "execution_count": 212,
   "id": "642167e4",
   "metadata": {},
   "outputs": [],
   "source": [
    "df_charlines.loc[df_charlines[\"Spoke_Before\"].isnull(),'Spoke_Before'] = df_charlines['Character_Fix']"
   ]
  },
  {
   "cell_type": "code",
   "execution_count": 213,
   "id": "6648e6fc",
   "metadata": {},
   "outputs": [
    {
     "data": {
      "text/html": [
       "<div>\n",
       "<style scoped>\n",
       "    .dataframe tbody tr th:only-of-type {\n",
       "        vertical-align: middle;\n",
       "    }\n",
       "\n",
       "    .dataframe tbody tr th {\n",
       "        vertical-align: top;\n",
       "    }\n",
       "\n",
       "    .dataframe thead th {\n",
       "        text-align: right;\n",
       "    }\n",
       "</style>\n",
       "<table border=\"1\" class=\"dataframe\">\n",
       "  <thead>\n",
       "    <tr style=\"text-align: right;\">\n",
       "      <th></th>\n",
       "      <th>Unnamed: 0</th>\n",
       "      <th>index</th>\n",
       "      <th>Character</th>\n",
       "      <th>Dialog</th>\n",
       "      <th>Season</th>\n",
       "      <th>Episode</th>\n",
       "      <th>Fix Name</th>\n",
       "      <th>Character_Fix</th>\n",
       "      <th>Spoke_Before</th>\n",
       "      <th>Character_Keep</th>\n",
       "      <th>Length Dialog</th>\n",
       "    </tr>\n",
       "  </thead>\n",
       "  <tbody>\n",
       "    <tr>\n",
       "      <th>0</th>\n",
       "      <td>0</td>\n",
       "      <td>3</td>\n",
       "      <td>HOPPER</td>\n",
       "      <td>NaN</td>\n",
       "      <td>3</td>\n",
       "      <td>5</td>\n",
       "      <td>True</td>\n",
       "      <td>HOPPER</td>\n",
       "      <td>HOPPER</td>\n",
       "      <td>Keep</td>\n",
       "      <td>0</td>\n",
       "    </tr>\n",
       "    <tr>\n",
       "      <th>1</th>\n",
       "      <td>0</td>\n",
       "      <td>3</td>\n",
       "      <td>HOPPER</td>\n",
       "      <td>NaN</td>\n",
       "      <td>3</td>\n",
       "      <td>5</td>\n",
       "      <td>True</td>\n",
       "      <td>HOPPER</td>\n",
       "      <td>HOPPER</td>\n",
       "      <td>Keep</td>\n",
       "      <td>0</td>\n",
       "    </tr>\n",
       "    <tr>\n",
       "      <th>2</th>\n",
       "      <td>0</td>\n",
       "      <td>3</td>\n",
       "      <td>HOPPER</td>\n",
       "      <td>NaN</td>\n",
       "      <td>3</td>\n",
       "      <td>5</td>\n",
       "      <td>True</td>\n",
       "      <td>HOPPER</td>\n",
       "      <td>HOPPER</td>\n",
       "      <td>Keep</td>\n",
       "      <td>0</td>\n",
       "    </tr>\n",
       "    <tr>\n",
       "      <th>3</th>\n",
       "      <td>0</td>\n",
       "      <td>3</td>\n",
       "      <td>HOPPER</td>\n",
       "      <td>NaN</td>\n",
       "      <td>3</td>\n",
       "      <td>5</td>\n",
       "      <td>True</td>\n",
       "      <td>HOPPER</td>\n",
       "      <td>HOPPER</td>\n",
       "      <td>Keep</td>\n",
       "      <td>0</td>\n",
       "    </tr>\n",
       "    <tr>\n",
       "      <th>4</th>\n",
       "      <td>0</td>\n",
       "      <td>3</td>\n",
       "      <td>HOPPER</td>\n",
       "      <td>NaN</td>\n",
       "      <td>3</td>\n",
       "      <td>5</td>\n",
       "      <td>True</td>\n",
       "      <td>HOPPER</td>\n",
       "      <td>HOPPER</td>\n",
       "      <td>Keep</td>\n",
       "      <td>0</td>\n",
       "    </tr>\n",
       "  </tbody>\n",
       "</table>\n",
       "</div>"
      ],
      "text/plain": [
       "   Unnamed: 0  index Character Dialog  Season  Episode Fix Name Character_Fix  \\\n",
       "0           0      3    HOPPER    NaN       3        5     True        HOPPER   \n",
       "1           0      3    HOPPER    NaN       3        5     True        HOPPER   \n",
       "2           0      3    HOPPER    NaN       3        5     True        HOPPER   \n",
       "3           0      3    HOPPER    NaN       3        5     True        HOPPER   \n",
       "4           0      3    HOPPER    NaN       3        5     True        HOPPER   \n",
       "\n",
       "  Spoke_Before Character_Keep  Length Dialog  \n",
       "0       HOPPER           Keep              0  \n",
       "1       HOPPER           Keep              0  \n",
       "2       HOPPER           Keep              0  \n",
       "3       HOPPER           Keep              0  \n",
       "4       HOPPER           Keep              0  "
      ]
     },
     "execution_count": 213,
     "metadata": {},
     "output_type": "execute_result"
    }
   ],
   "source": [
    "df_charlines.head()"
   ]
  },
  {
   "cell_type": "code",
   "execution_count": 214,
   "id": "21483c24",
   "metadata": {},
   "outputs": [
    {
     "data": {
      "text/html": [
       "<div>\n",
       "<style scoped>\n",
       "    .dataframe tbody tr th:only-of-type {\n",
       "        vertical-align: middle;\n",
       "    }\n",
       "\n",
       "    .dataframe tbody tr th {\n",
       "        vertical-align: top;\n",
       "    }\n",
       "\n",
       "    .dataframe thead th {\n",
       "        text-align: right;\n",
       "    }\n",
       "</style>\n",
       "<table border=\"1\" class=\"dataframe\">\n",
       "  <thead>\n",
       "    <tr style=\"text-align: right;\">\n",
       "      <th></th>\n",
       "      <th>Unnamed: 0</th>\n",
       "      <th>index</th>\n",
       "      <th>Character</th>\n",
       "      <th>Dialog</th>\n",
       "      <th>Season</th>\n",
       "      <th>Episode</th>\n",
       "      <th>Fix Name</th>\n",
       "      <th>Character_Fix</th>\n",
       "      <th>Spoke_Before</th>\n",
       "      <th>Character_Keep</th>\n",
       "      <th>Length Dialog</th>\n",
       "    </tr>\n",
       "  </thead>\n",
       "  <tbody>\n",
       "    <tr>\n",
       "      <th>6063</th>\n",
       "      <td>38</td>\n",
       "      <td>268</td>\n",
       "      <td>SUSAN</td>\n",
       "      <td>See -- pretty -- !!</td>\n",
       "      <td>2</td>\n",
       "      <td>9</td>\n",
       "      <td>True</td>\n",
       "      <td>SUSAN</td>\n",
       "      <td>ERICA</td>\n",
       "      <td>Keep</td>\n",
       "      <td>19</td>\n",
       "    </tr>\n",
       "    <tr>\n",
       "      <th>6064</th>\n",
       "      <td>38</td>\n",
       "      <td>268</td>\n",
       "      <td>SUSAN</td>\n",
       "      <td>... Now -- you surrrre you don't  want to wear...</td>\n",
       "      <td>2</td>\n",
       "      <td>9</td>\n",
       "      <td>True</td>\n",
       "      <td>SUSAN</td>\n",
       "      <td>ERICA</td>\n",
       "      <td>Keep</td>\n",
       "      <td>116</td>\n",
       "    </tr>\n",
       "    <tr>\n",
       "      <th>6065</th>\n",
       "      <td>39</td>\n",
       "      <td>270</td>\n",
       "      <td>CLAUDIA</td>\n",
       "      <td>Where did you see it last?</td>\n",
       "      <td>2</td>\n",
       "      <td>9</td>\n",
       "      <td>True</td>\n",
       "      <td>CLAUDIA</td>\n",
       "      <td>SUSAN</td>\n",
       "      <td>Keep</td>\n",
       "      <td>26</td>\n",
       "    </tr>\n",
       "    <tr>\n",
       "      <th>6066</th>\n",
       "      <td>39</td>\n",
       "      <td>270</td>\n",
       "      <td>CLAUDIA</td>\n",
       "      <td>What's in there that's so important  anyway?  ...</td>\n",
       "      <td>2</td>\n",
       "      <td>9</td>\n",
       "      <td>True</td>\n",
       "      <td>CLAUDIA</td>\n",
       "      <td>SUSAN</td>\n",
       "      <td>Keep</td>\n",
       "      <td>132</td>\n",
       "    </tr>\n",
       "    <tr>\n",
       "      <th>6067</th>\n",
       "      <td>39</td>\n",
       "      <td>270</td>\n",
       "      <td>CLAUDIA</td>\n",
       "      <td>That's your ride!  Dusty??? The bag from Melva...</td>\n",
       "      <td>2</td>\n",
       "      <td>9</td>\n",
       "      <td>True</td>\n",
       "      <td>CLAUDIA</td>\n",
       "      <td>SUSAN</td>\n",
       "      <td>Keep</td>\n",
       "      <td>75</td>\n",
       "    </tr>\n",
       "  </tbody>\n",
       "</table>\n",
       "</div>"
      ],
      "text/plain": [
       "      Unnamed: 0  index Character  \\\n",
       "6063          38    268     SUSAN   \n",
       "6064          38    268     SUSAN   \n",
       "6065          39    270   CLAUDIA   \n",
       "6066          39    270   CLAUDIA   \n",
       "6067          39    270   CLAUDIA   \n",
       "\n",
       "                                                 Dialog  Season  Episode  \\\n",
       "6063                                See -- pretty -- !!       2        9   \n",
       "6064  ... Now -- you surrrre you don't  want to wear...       2        9   \n",
       "6065                         Where did you see it last?       2        9   \n",
       "6066  What's in there that's so important  anyway?  ...       2        9   \n",
       "6067  That's your ride!  Dusty??? The bag from Melva...       2        9   \n",
       "\n",
       "     Fix Name Character_Fix Spoke_Before Character_Keep  Length Dialog  \n",
       "6063     True         SUSAN        ERICA           Keep             19  \n",
       "6064     True         SUSAN        ERICA           Keep            116  \n",
       "6065     True       CLAUDIA        SUSAN           Keep             26  \n",
       "6066     True       CLAUDIA        SUSAN           Keep            132  \n",
       "6067     True       CLAUDIA        SUSAN           Keep             75  "
      ]
     },
     "execution_count": 214,
     "metadata": {},
     "output_type": "execute_result"
    }
   ],
   "source": [
    "df_charlines.tail()"
   ]
  },
  {
   "cell_type": "code",
   "execution_count": 215,
   "id": "d69b2555",
   "metadata": {},
   "outputs": [],
   "source": [
    "df_charlines.dropna(subset=['Dialog'],inplace = True)"
   ]
  },
  {
   "cell_type": "code",
   "execution_count": 216,
   "id": "8e9f9a48",
   "metadata": {},
   "outputs": [
    {
     "data": {
      "text/plain": [
       "(5457, 10)"
      ]
     },
     "execution_count": 216,
     "metadata": {},
     "output_type": "execute_result"
    }
   ],
   "source": [
    "df_charlines.drop(['Unnamed: 0'], axis=1, inplace = True)\n",
    "df_charlines.shape"
   ]
  },
  {
   "cell_type": "code",
   "execution_count": 217,
   "id": "df1182db",
   "metadata": {},
   "outputs": [],
   "source": [
    "df_charlines['Dialog_Check'] = df_charlines['Dialog'].apply(lambda x: x.isdigit())"
   ]
  },
  {
   "cell_type": "code",
   "execution_count": 218,
   "id": "18a7e515",
   "metadata": {},
   "outputs": [],
   "source": [
    "df_charlines['Remove_Lines'] = df_charlines['Dialog'].apply(lambda x: True if \"1/\" in x else False)"
   ]
  },
  {
   "cell_type": "code",
   "execution_count": 219,
   "id": "d00f7d96",
   "metadata": {},
   "outputs": [],
   "source": [
    "#df_charlines[df_charlines['Remove_Lines']==True]\n",
    "#removing odd script lines when based on location setting that were caught\n",
    "df_charlines2 = df_charlines[df_charlines['Remove_Lines']==False].copy()"
   ]
  },
  {
   "cell_type": "code",
   "execution_count": 220,
   "id": "5beb0b4b",
   "metadata": {},
   "outputs": [],
   "source": [
    "# reordering columns\n",
    "cols = list(df_charlines2)\n",
    "# move the column to head of list using index, pop and insert\n",
    "cols.insert(0, cols.pop(cols.index('Character_Fix')))\n",
    "#print(cols)\n",
    "#['Character_Fix', 'Character', 'Dialog', 'Season', 'Episode', 'Fix Name', 'Length Dialog', 'Character_Keep', \n",
    "#'Dialog_Check', 'Remove_Lines']\n",
    "# use index to reorder\n",
    "df_charlines2 = df_charlines2.loc[:, cols]"
   ]
  },
  {
   "cell_type": "code",
   "execution_count": 221,
   "id": "7604f885",
   "metadata": {},
   "outputs": [
    {
     "data": {
      "text/html": [
       "<div>\n",
       "<style scoped>\n",
       "    .dataframe tbody tr th:only-of-type {\n",
       "        vertical-align: middle;\n",
       "    }\n",
       "\n",
       "    .dataframe tbody tr th {\n",
       "        vertical-align: top;\n",
       "    }\n",
       "\n",
       "    .dataframe thead th {\n",
       "        text-align: right;\n",
       "    }\n",
       "</style>\n",
       "<table border=\"1\" class=\"dataframe\">\n",
       "  <thead>\n",
       "    <tr style=\"text-align: right;\">\n",
       "      <th></th>\n",
       "      <th>Character_Fix</th>\n",
       "      <th>index</th>\n",
       "      <th>Character</th>\n",
       "      <th>Dialog</th>\n",
       "      <th>Season</th>\n",
       "      <th>Episode</th>\n",
       "      <th>Fix Name</th>\n",
       "      <th>Spoke_Before</th>\n",
       "      <th>Character_Keep</th>\n",
       "      <th>Length Dialog</th>\n",
       "      <th>Dialog_Check</th>\n",
       "      <th>Remove_Lines</th>\n",
       "    </tr>\n",
       "  </thead>\n",
       "  <tbody>\n",
       "    <tr>\n",
       "      <th>5</th>\n",
       "      <td>HOPPER</td>\n",
       "      <td>3</td>\n",
       "      <td>HOPPER</td>\n",
       "      <td>Looks like somebody’s home. As the truck parks...</td>\n",
       "      <td>3</td>\n",
       "      <td>5</td>\n",
       "      <td>True</td>\n",
       "      <td>HOPPER</td>\n",
       "      <td>Keep</td>\n",
       "      <td>341</td>\n",
       "      <td>False</td>\n",
       "      <td>False</td>\n",
       "    </tr>\n",
       "    <tr>\n",
       "      <th>6</th>\n",
       "      <td>HOPPER</td>\n",
       "      <td>3</td>\n",
       "      <td>HOPPER</td>\n",
       "      <td>Where’s that coming from? Joyce pauses at the ...</td>\n",
       "      <td>3</td>\n",
       "      <td>5</td>\n",
       "      <td>True</td>\n",
       "      <td>HOPPER</td>\n",
       "      <td>Keep</td>\n",
       "      <td>165</td>\n",
       "      <td>False</td>\n",
       "      <td>False</td>\n",
       "    </tr>\n",
       "    <tr>\n",
       "      <th>7</th>\n",
       "      <td>HOPPER</td>\n",
       "      <td>3</td>\n",
       "      <td>HOPPER</td>\n",
       "      <td>Hey, dipshits! The men drop their tools and st...</td>\n",
       "      <td>3</td>\n",
       "      <td>5</td>\n",
       "      <td>True</td>\n",
       "      <td>HOPPER</td>\n",
       "      <td>Keep</td>\n",
       "      <td>80</td>\n",
       "      <td>False</td>\n",
       "      <td>False</td>\n",
       "    </tr>\n",
       "    <tr>\n",
       "      <th>8</th>\n",
       "      <td>HOPPER</td>\n",
       "      <td>3</td>\n",
       "      <td>HOPPER</td>\n",
       "      <td>Dr. Alexei steps forward, putting himself betw...</td>\n",
       "      <td>3</td>\n",
       "      <td>5</td>\n",
       "      <td>True</td>\n",
       "      <td>HOPPER</td>\n",
       "      <td>Keep</td>\n",
       "      <td>166</td>\n",
       "      <td>False</td>\n",
       "      <td>False</td>\n",
       "    </tr>\n",
       "    <tr>\n",
       "      <th>10</th>\n",
       "      <td>HOPPER</td>\n",
       "      <td>3</td>\n",
       "      <td>HOPPER</td>\n",
       "      <td>English! You speak English? Alexei tries to ca...</td>\n",
       "      <td>3</td>\n",
       "      <td>5</td>\n",
       "      <td>True</td>\n",
       "      <td>HOPPER</td>\n",
       "      <td>Keep</td>\n",
       "      <td>63</td>\n",
       "      <td>False</td>\n",
       "      <td>False</td>\n",
       "    </tr>\n",
       "  </tbody>\n",
       "</table>\n",
       "</div>"
      ],
      "text/plain": [
       "   Character_Fix  index Character  \\\n",
       "5         HOPPER      3    HOPPER   \n",
       "6         HOPPER      3    HOPPER   \n",
       "7         HOPPER      3    HOPPER   \n",
       "8         HOPPER      3    HOPPER   \n",
       "10        HOPPER      3    HOPPER   \n",
       "\n",
       "                                               Dialog  Season  Episode  \\\n",
       "5   Looks like somebody’s home. As the truck parks...       3        5   \n",
       "6   Where’s that coming from? Joyce pauses at the ...       3        5   \n",
       "7   Hey, dipshits! The men drop their tools and st...       3        5   \n",
       "8   Dr. Alexei steps forward, putting himself betw...       3        5   \n",
       "10  English! You speak English? Alexei tries to ca...       3        5   \n",
       "\n",
       "   Fix Name Spoke_Before Character_Keep  Length Dialog  Dialog_Check  \\\n",
       "5      True       HOPPER           Keep            341         False   \n",
       "6      True       HOPPER           Keep            165         False   \n",
       "7      True       HOPPER           Keep             80         False   \n",
       "8      True       HOPPER           Keep            166         False   \n",
       "10     True       HOPPER           Keep             63         False   \n",
       "\n",
       "    Remove_Lines  \n",
       "5          False  \n",
       "6          False  \n",
       "7          False  \n",
       "8          False  \n",
       "10         False  "
      ]
     },
     "execution_count": 221,
     "metadata": {},
     "output_type": "execute_result"
    }
   ],
   "source": [
    "df_charlines2.head()"
   ]
  },
  {
   "cell_type": "code",
   "execution_count": 222,
   "id": "4807a581",
   "metadata": {},
   "outputs": [
    {
     "data": {
      "text/plain": [
       "(5451, 12)"
      ]
     },
     "execution_count": 222,
     "metadata": {},
     "output_type": "execute_result"
    }
   ],
   "source": [
    "df_charlines2.shape"
   ]
  },
  {
   "cell_type": "code",
   "execution_count": 223,
   "id": "05f49ef9",
   "metadata": {},
   "outputs": [],
   "source": [
    "df_charlines2.to_csv(\"/Users/jacquelineskunda/Documents/GitHub/696/Milestone2/Data/Seasons_Episodes/output/df_charlines_for_EDA.csv\")"
   ]
  },
  {
   "cell_type": "code",
   "execution_count": 224,
   "id": "5b86d740",
   "metadata": {},
   "outputs": [
    {
     "name": "stderr",
     "output_type": "stream",
     "text": [
      "[nltk_data] Downloading package punkt to\n",
      "[nltk_data]     /Users/jacquelineskunda/nltk_data...\n",
      "[nltk_data]   Package punkt is already up-to-date!\n"
     ]
    }
   ],
   "source": [
    "import plotly as py\n",
    "import plotly.express as px\n",
    "import numpy as np\n",
    "import re\n",
    "import plotly.graph_objs as go\n",
    "from plotly.offline import init_notebook_mode, iplot\n",
    "from collections import Counter\n",
    "from nltk import word_tokenize\n",
    "import nltk\n",
    "nltk.download('punkt')\n",
    "sent_detector = nltk.data.load('tokenizers/punkt/english.pickle')\n",
    "\n",
    "#order = df[\"Character_Fix\"].unique()\n",
    "#dialog = df[\"Dialog\"]\n",
    "#dialogCounts = dialog.value_counts()\n",
    "#dialogCounts = dialogCounts.sort_values(ascending = False)[0:50]"
   ]
  },
  {
   "cell_type": "code",
   "execution_count": 225,
   "id": "f8b971a5",
   "metadata": {},
   "outputs": [],
   "source": [
    "df = df_charlines2.copy()\n",
    "df['Dialog_clean'] = df['Dialog'].apply(lambda x: re.sub(r'[^\\w\\s]','',x))\n",
    "df['Dialog_tokenized'] = df['Dialog_clean'].apply(lambda x: word_tokenize(x.strip().lower()))\n",
    "df['Dialog_Count'] = df['Dialog_tokenized'].apply(lambda x: len(x))\n",
    "LinesSpokeDf = df.groupby(['Character_Fix'])[\"Dialog_Count\"].sum().reset_index()\n",
    "LinesSpokeDf = LinesSpokeDf.sort_values(by=[\"Dialog_Count\"], ascending = False)"
   ]
  },
  {
   "cell_type": "code",
   "execution_count": 226,
   "id": "385f03bb",
   "metadata": {},
   "outputs": [
    {
     "data": {
      "text/html": [
       "<div>\n",
       "<style scoped>\n",
       "    .dataframe tbody tr th:only-of-type {\n",
       "        vertical-align: middle;\n",
       "    }\n",
       "\n",
       "    .dataframe tbody tr th {\n",
       "        vertical-align: top;\n",
       "    }\n",
       "\n",
       "    .dataframe thead th {\n",
       "        text-align: right;\n",
       "    }\n",
       "</style>\n",
       "<table border=\"1\" class=\"dataframe\">\n",
       "  <thead>\n",
       "    <tr style=\"text-align: right;\">\n",
       "      <th></th>\n",
       "      <th>Character_Fix</th>\n",
       "      <th>index</th>\n",
       "      <th>Character</th>\n",
       "      <th>Dialog</th>\n",
       "      <th>Season</th>\n",
       "      <th>Episode</th>\n",
       "      <th>Fix Name</th>\n",
       "      <th>Spoke_Before</th>\n",
       "      <th>Character_Keep</th>\n",
       "      <th>Length Dialog</th>\n",
       "      <th>Dialog_Check</th>\n",
       "      <th>Remove_Lines</th>\n",
       "      <th>Dialog_clean</th>\n",
       "      <th>Dialog_tokenized</th>\n",
       "      <th>Dialog_Count</th>\n",
       "    </tr>\n",
       "  </thead>\n",
       "  <tbody>\n",
       "    <tr>\n",
       "      <th>5</th>\n",
       "      <td>HOPPER</td>\n",
       "      <td>3</td>\n",
       "      <td>HOPPER</td>\n",
       "      <td>Looks like somebody’s home. As the truck parks...</td>\n",
       "      <td>3</td>\n",
       "      <td>5</td>\n",
       "      <td>True</td>\n",
       "      <td>HOPPER</td>\n",
       "      <td>Keep</td>\n",
       "      <td>341</td>\n",
       "      <td>False</td>\n",
       "      <td>False</td>\n",
       "      <td>Looks like somebodys home As the truck parks w...</td>\n",
       "      <td>[looks, like, somebodys, home, as, the, truck,...</td>\n",
       "      <td>59</td>\n",
       "    </tr>\n",
       "    <tr>\n",
       "      <th>6</th>\n",
       "      <td>HOPPER</td>\n",
       "      <td>3</td>\n",
       "      <td>HOPPER</td>\n",
       "      <td>Where’s that coming from? Joyce pauses at the ...</td>\n",
       "      <td>3</td>\n",
       "      <td>5</td>\n",
       "      <td>True</td>\n",
       "      <td>HOPPER</td>\n",
       "      <td>Keep</td>\n",
       "      <td>165</td>\n",
       "      <td>False</td>\n",
       "      <td>False</td>\n",
       "      <td>Wheres that coming from Joyce pauses at the fo...</td>\n",
       "      <td>[wheres, that, coming, from, joyce, pauses, at...</td>\n",
       "      <td>31</td>\n",
       "    </tr>\n",
       "    <tr>\n",
       "      <th>7</th>\n",
       "      <td>HOPPER</td>\n",
       "      <td>3</td>\n",
       "      <td>HOPPER</td>\n",
       "      <td>Hey, dipshits! The men drop their tools and st...</td>\n",
       "      <td>3</td>\n",
       "      <td>5</td>\n",
       "      <td>True</td>\n",
       "      <td>HOPPER</td>\n",
       "      <td>Keep</td>\n",
       "      <td>80</td>\n",
       "      <td>False</td>\n",
       "      <td>False</td>\n",
       "      <td>Hey dipshits The men drop their tools and stan...</td>\n",
       "      <td>[hey, dipshits, the, men, drop, their, tools, ...</td>\n",
       "      <td>15</td>\n",
       "    </tr>\n",
       "    <tr>\n",
       "      <th>8</th>\n",
       "      <td>HOPPER</td>\n",
       "      <td>3</td>\n",
       "      <td>HOPPER</td>\n",
       "      <td>Dr. Alexei steps forward, putting himself betw...</td>\n",
       "      <td>3</td>\n",
       "      <td>5</td>\n",
       "      <td>True</td>\n",
       "      <td>HOPPER</td>\n",
       "      <td>Keep</td>\n",
       "      <td>166</td>\n",
       "      <td>False</td>\n",
       "      <td>False</td>\n",
       "      <td>Dr Alexei steps forward putting himself betwee...</td>\n",
       "      <td>[dr, alexei, steps, forward, putting, himself,...</td>\n",
       "      <td>26</td>\n",
       "    </tr>\n",
       "    <tr>\n",
       "      <th>10</th>\n",
       "      <td>HOPPER</td>\n",
       "      <td>3</td>\n",
       "      <td>HOPPER</td>\n",
       "      <td>English! You speak English? Alexei tries to ca...</td>\n",
       "      <td>3</td>\n",
       "      <td>5</td>\n",
       "      <td>True</td>\n",
       "      <td>HOPPER</td>\n",
       "      <td>Keep</td>\n",
       "      <td>63</td>\n",
       "      <td>False</td>\n",
       "      <td>False</td>\n",
       "      <td>English You speak English Alexei tries to calm...</td>\n",
       "      <td>[english, you, speak, english, alexei, tries, ...</td>\n",
       "      <td>10</td>\n",
       "    </tr>\n",
       "    <tr>\n",
       "      <th>...</th>\n",
       "      <td>...</td>\n",
       "      <td>...</td>\n",
       "      <td>...</td>\n",
       "      <td>...</td>\n",
       "      <td>...</td>\n",
       "      <td>...</td>\n",
       "      <td>...</td>\n",
       "      <td>...</td>\n",
       "      <td>...</td>\n",
       "      <td>...</td>\n",
       "      <td>...</td>\n",
       "      <td>...</td>\n",
       "      <td>...</td>\n",
       "      <td>...</td>\n",
       "      <td>...</td>\n",
       "    </tr>\n",
       "    <tr>\n",
       "      <th>6063</th>\n",
       "      <td>SUSAN</td>\n",
       "      <td>268</td>\n",
       "      <td>SUSAN</td>\n",
       "      <td>See -- pretty -- !!</td>\n",
       "      <td>2</td>\n",
       "      <td>9</td>\n",
       "      <td>True</td>\n",
       "      <td>ERICA</td>\n",
       "      <td>Keep</td>\n",
       "      <td>19</td>\n",
       "      <td>False</td>\n",
       "      <td>False</td>\n",
       "      <td>See  pretty</td>\n",
       "      <td>[see, pretty]</td>\n",
       "      <td>2</td>\n",
       "    </tr>\n",
       "    <tr>\n",
       "      <th>6064</th>\n",
       "      <td>SUSAN</td>\n",
       "      <td>268</td>\n",
       "      <td>SUSAN</td>\n",
       "      <td>... Now -- you surrrre you don't  want to wear...</td>\n",
       "      <td>2</td>\n",
       "      <td>9</td>\n",
       "      <td>True</td>\n",
       "      <td>ERICA</td>\n",
       "      <td>Keep</td>\n",
       "      <td>116</td>\n",
       "      <td>False</td>\n",
       "      <td>False</td>\n",
       "      <td>Now  you surrrre you dont  want to wear a dre...</td>\n",
       "      <td>[now, you, surrrre, you, dont, want, to, wear,...</td>\n",
       "      <td>21</td>\n",
       "    </tr>\n",
       "    <tr>\n",
       "      <th>6065</th>\n",
       "      <td>CLAUDIA</td>\n",
       "      <td>270</td>\n",
       "      <td>CLAUDIA</td>\n",
       "      <td>Where did you see it last?</td>\n",
       "      <td>2</td>\n",
       "      <td>9</td>\n",
       "      <td>True</td>\n",
       "      <td>SUSAN</td>\n",
       "      <td>Keep</td>\n",
       "      <td>26</td>\n",
       "      <td>False</td>\n",
       "      <td>False</td>\n",
       "      <td>Where did you see it last</td>\n",
       "      <td>[where, did, you, see, it, last]</td>\n",
       "      <td>6</td>\n",
       "    </tr>\n",
       "    <tr>\n",
       "      <th>6066</th>\n",
       "      <td>CLAUDIA</td>\n",
       "      <td>270</td>\n",
       "      <td>CLAUDIA</td>\n",
       "      <td>What's in there that's so important  anyway?  ...</td>\n",
       "      <td>2</td>\n",
       "      <td>9</td>\n",
       "      <td>True</td>\n",
       "      <td>SUSAN</td>\n",
       "      <td>Keep</td>\n",
       "      <td>132</td>\n",
       "      <td>False</td>\n",
       "      <td>False</td>\n",
       "      <td>Whats in there thats so important  anyway  You...</td>\n",
       "      <td>[whats, in, there, thats, so, important, anywa...</td>\n",
       "      <td>23</td>\n",
       "    </tr>\n",
       "    <tr>\n",
       "      <th>6067</th>\n",
       "      <td>CLAUDIA</td>\n",
       "      <td>270</td>\n",
       "      <td>CLAUDIA</td>\n",
       "      <td>That's your ride!  Dusty??? The bag from Melva...</td>\n",
       "      <td>2</td>\n",
       "      <td>9</td>\n",
       "      <td>True</td>\n",
       "      <td>SUSAN</td>\n",
       "      <td>Keep</td>\n",
       "      <td>75</td>\n",
       "      <td>False</td>\n",
       "      <td>False</td>\n",
       "      <td>Thats your ride  Dusty The bag from Melvalds u...</td>\n",
       "      <td>[thats, your, ride, dusty, the, bag, from, mel...</td>\n",
       "      <td>11</td>\n",
       "    </tr>\n",
       "  </tbody>\n",
       "</table>\n",
       "<p>5451 rows × 15 columns</p>\n",
       "</div>"
      ],
      "text/plain": [
       "     Character_Fix  index Character  \\\n",
       "5           HOPPER      3    HOPPER   \n",
       "6           HOPPER      3    HOPPER   \n",
       "7           HOPPER      3    HOPPER   \n",
       "8           HOPPER      3    HOPPER   \n",
       "10          HOPPER      3    HOPPER   \n",
       "...            ...    ...       ...   \n",
       "6063         SUSAN    268     SUSAN   \n",
       "6064         SUSAN    268     SUSAN   \n",
       "6065       CLAUDIA    270   CLAUDIA   \n",
       "6066       CLAUDIA    270   CLAUDIA   \n",
       "6067       CLAUDIA    270   CLAUDIA   \n",
       "\n",
       "                                                 Dialog  Season  Episode  \\\n",
       "5     Looks like somebody’s home. As the truck parks...       3        5   \n",
       "6     Where’s that coming from? Joyce pauses at the ...       3        5   \n",
       "7     Hey, dipshits! The men drop their tools and st...       3        5   \n",
       "8     Dr. Alexei steps forward, putting himself betw...       3        5   \n",
       "10    English! You speak English? Alexei tries to ca...       3        5   \n",
       "...                                                 ...     ...      ...   \n",
       "6063                                See -- pretty -- !!       2        9   \n",
       "6064  ... Now -- you surrrre you don't  want to wear...       2        9   \n",
       "6065                         Where did you see it last?       2        9   \n",
       "6066  What's in there that's so important  anyway?  ...       2        9   \n",
       "6067  That's your ride!  Dusty??? The bag from Melva...       2        9   \n",
       "\n",
       "     Fix Name Spoke_Before Character_Keep  Length Dialog  Dialog_Check  \\\n",
       "5        True       HOPPER           Keep            341         False   \n",
       "6        True       HOPPER           Keep            165         False   \n",
       "7        True       HOPPER           Keep             80         False   \n",
       "8        True       HOPPER           Keep            166         False   \n",
       "10       True       HOPPER           Keep             63         False   \n",
       "...       ...          ...            ...            ...           ...   \n",
       "6063     True        ERICA           Keep             19         False   \n",
       "6064     True        ERICA           Keep            116         False   \n",
       "6065     True        SUSAN           Keep             26         False   \n",
       "6066     True        SUSAN           Keep            132         False   \n",
       "6067     True        SUSAN           Keep             75         False   \n",
       "\n",
       "      Remove_Lines                                       Dialog_clean  \\\n",
       "5            False  Looks like somebodys home As the truck parks w...   \n",
       "6            False  Wheres that coming from Joyce pauses at the fo...   \n",
       "7            False  Hey dipshits The men drop their tools and stan...   \n",
       "8            False  Dr Alexei steps forward putting himself betwee...   \n",
       "10           False  English You speak English Alexei tries to calm...   \n",
       "...            ...                                                ...   \n",
       "6063         False                                      See  pretty     \n",
       "6064         False   Now  you surrrre you dont  want to wear a dre...   \n",
       "6065         False                          Where did you see it last   \n",
       "6066         False  Whats in there thats so important  anyway  You...   \n",
       "6067         False  Thats your ride  Dusty The bag from Melvalds u...   \n",
       "\n",
       "                                       Dialog_tokenized  Dialog_Count  \n",
       "5     [looks, like, somebodys, home, as, the, truck,...            59  \n",
       "6     [wheres, that, coming, from, joyce, pauses, at...            31  \n",
       "7     [hey, dipshits, the, men, drop, their, tools, ...            15  \n",
       "8     [dr, alexei, steps, forward, putting, himself,...            26  \n",
       "10    [english, you, speak, english, alexei, tries, ...            10  \n",
       "...                                                 ...           ...  \n",
       "6063                                      [see, pretty]             2  \n",
       "6064  [now, you, surrrre, you, dont, want, to, wear,...            21  \n",
       "6065                   [where, did, you, see, it, last]             6  \n",
       "6066  [whats, in, there, thats, so, important, anywa...            23  \n",
       "6067  [thats, your, ride, dusty, the, bag, from, mel...            11  \n",
       "\n",
       "[5451 rows x 15 columns]"
      ]
     },
     "execution_count": 226,
     "metadata": {},
     "output_type": "execute_result"
    }
   ],
   "source": [
    "df"
   ]
  },
  {
   "cell_type": "code",
   "execution_count": 227,
   "id": "a7b6896c",
   "metadata": {},
   "outputs": [],
   "source": [
    "_20df = LinesSpokeDf.head(20)"
   ]
  },
  {
   "cell_type": "code",
   "execution_count": 228,
   "id": "b88c1aa5",
   "metadata": {},
   "outputs": [
    {
     "data": {
      "text/html": [
       "<div>\n",
       "<style scoped>\n",
       "    .dataframe tbody tr th:only-of-type {\n",
       "        vertical-align: middle;\n",
       "    }\n",
       "\n",
       "    .dataframe tbody tr th {\n",
       "        vertical-align: top;\n",
       "    }\n",
       "\n",
       "    .dataframe thead th {\n",
       "        text-align: right;\n",
       "    }\n",
       "</style>\n",
       "<table border=\"1\" class=\"dataframe\">\n",
       "  <thead>\n",
       "    <tr style=\"text-align: right;\">\n",
       "      <th></th>\n",
       "      <th>Character_Fix</th>\n",
       "      <th>Dialog_Count</th>\n",
       "    </tr>\n",
       "  </thead>\n",
       "  <tbody>\n",
       "    <tr>\n",
       "      <th>27</th>\n",
       "      <td>HOPPER</td>\n",
       "      <td>10560</td>\n",
       "    </tr>\n",
       "    <tr>\n",
       "      <th>38</th>\n",
       "      <td>MIKE</td>\n",
       "      <td>8048</td>\n",
       "    </tr>\n",
       "    <tr>\n",
       "      <th>45</th>\n",
       "      <td>STEVE</td>\n",
       "      <td>6859</td>\n",
       "    </tr>\n",
       "    <tr>\n",
       "      <th>18</th>\n",
       "      <td>DUSTIN</td>\n",
       "      <td>6609</td>\n",
       "    </tr>\n",
       "    <tr>\n",
       "      <th>32</th>\n",
       "      <td>JOYCE</td>\n",
       "      <td>6176</td>\n",
       "    </tr>\n",
       "    <tr>\n",
       "      <th>42</th>\n",
       "      <td>NANCY</td>\n",
       "      <td>6119</td>\n",
       "    </tr>\n",
       "    <tr>\n",
       "      <th>44</th>\n",
       "      <td>ROBIN</td>\n",
       "      <td>5049</td>\n",
       "    </tr>\n",
       "    <tr>\n",
       "      <th>36</th>\n",
       "      <td>MAX</td>\n",
       "      <td>4894</td>\n",
       "    </tr>\n",
       "    <tr>\n",
       "      <th>31</th>\n",
       "      <td>JONATHAN</td>\n",
       "      <td>3243</td>\n",
       "    </tr>\n",
       "    <tr>\n",
       "      <th>35</th>\n",
       "      <td>LUCAS</td>\n",
       "      <td>3076</td>\n",
       "    </tr>\n",
       "    <tr>\n",
       "      <th>56</th>\n",
       "      <td>WILL</td>\n",
       "      <td>3038</td>\n",
       "    </tr>\n",
       "    <tr>\n",
       "      <th>20</th>\n",
       "      <td>ELEVEN</td>\n",
       "      <td>2798</td>\n",
       "    </tr>\n",
       "    <tr>\n",
       "      <th>41</th>\n",
       "      <td>MURRAY</td>\n",
       "      <td>2630</td>\n",
       "    </tr>\n",
       "    <tr>\n",
       "      <th>7</th>\n",
       "      <td>BILLY</td>\n",
       "      <td>2545</td>\n",
       "    </tr>\n",
       "    <tr>\n",
       "      <th>21</th>\n",
       "      <td>ERICA</td>\n",
       "      <td>1697</td>\n",
       "    </tr>\n",
       "    <tr>\n",
       "      <th>33</th>\n",
       "      <td>KAREN</td>\n",
       "      <td>1414</td>\n",
       "    </tr>\n",
       "    <tr>\n",
       "      <th>16</th>\n",
       "      <td>DR BRENNER</td>\n",
       "      <td>1313</td>\n",
       "    </tr>\n",
       "    <tr>\n",
       "      <th>37</th>\n",
       "      <td>MAYOR KLINE</td>\n",
       "      <td>1266</td>\n",
       "    </tr>\n",
       "    <tr>\n",
       "      <th>17</th>\n",
       "      <td>DR OWENS</td>\n",
       "      <td>786</td>\n",
       "    </tr>\n",
       "    <tr>\n",
       "      <th>50</th>\n",
       "      <td>TOM</td>\n",
       "      <td>781</td>\n",
       "    </tr>\n",
       "  </tbody>\n",
       "</table>\n",
       "</div>"
      ],
      "text/plain": [
       "   Character_Fix  Dialog_Count\n",
       "27        HOPPER         10560\n",
       "38          MIKE          8048\n",
       "45         STEVE          6859\n",
       "18        DUSTIN          6609\n",
       "32         JOYCE          6176\n",
       "42         NANCY          6119\n",
       "44         ROBIN          5049\n",
       "36           MAX          4894\n",
       "31      JONATHAN          3243\n",
       "35         LUCAS          3076\n",
       "56          WILL          3038\n",
       "20        ELEVEN          2798\n",
       "41        MURRAY          2630\n",
       "7          BILLY          2545\n",
       "21         ERICA          1697\n",
       "33         KAREN          1414\n",
       "16    DR BRENNER          1313\n",
       "37   MAYOR KLINE          1266\n",
       "17      DR OWENS           786\n",
       "50           TOM           781"
      ]
     },
     "execution_count": 228,
     "metadata": {},
     "output_type": "execute_result"
    }
   ],
   "source": [
    "_20df"
   ]
  },
  {
   "cell_type": "code",
   "execution_count": 229,
   "id": "7c0e769d",
   "metadata": {},
   "outputs": [],
   "source": [
    "top20chars = list(_20df.Character_Fix.unique())"
   ]
  },
  {
   "cell_type": "code",
   "execution_count": 230,
   "id": "a7200416",
   "metadata": {},
   "outputs": [
    {
     "name": "stdout",
     "output_type": "stream",
     "text": [
      "['HOPPER', 'MIKE', 'STEVE', 'DUSTIN', 'JOYCE', 'NANCY', 'ROBIN', 'MAX', 'JONATHAN', 'LUCAS', 'WILL', 'ELEVEN', 'MURRAY', 'BILLY', 'ERICA', 'KAREN', 'DR BRENNER', 'MAYOR KLINE', 'DR OWENS', 'TOM']\n"
     ]
    }
   ],
   "source": [
    "print(top20chars)"
   ]
  },
  {
   "cell_type": "code",
   "execution_count": 231,
   "id": "eed36db6",
   "metadata": {},
   "outputs": [],
   "source": [
    "top20df = df[df['Character_Fix'].isin(top20chars)].copy()"
   ]
  },
  {
   "cell_type": "code",
   "execution_count": 232,
   "id": "3bb122c9",
   "metadata": {},
   "outputs": [],
   "source": [
    "top20dfv2 = top20df[top20df['Season']==3]"
   ]
  },
  {
   "cell_type": "code",
   "execution_count": 233,
   "id": "e9947bfb",
   "metadata": {},
   "outputs": [],
   "source": [
    "top20df_S3 = top20dfv2.groupby(['Character_Fix','Episode'])['Dialog_Count'].sum().reset_index()"
   ]
  },
  {
   "cell_type": "code",
   "execution_count": 234,
   "id": "04c5c3fa",
   "metadata": {},
   "outputs": [
    {
     "data": {
      "text/html": [
       "<div>\n",
       "<style scoped>\n",
       "    .dataframe tbody tr th:only-of-type {\n",
       "        vertical-align: middle;\n",
       "    }\n",
       "\n",
       "    .dataframe tbody tr th {\n",
       "        vertical-align: top;\n",
       "    }\n",
       "\n",
       "    .dataframe thead th {\n",
       "        text-align: right;\n",
       "    }\n",
       "</style>\n",
       "<table border=\"1\" class=\"dataframe\">\n",
       "  <thead>\n",
       "    <tr style=\"text-align: right;\">\n",
       "      <th></th>\n",
       "      <th>Character_Fix</th>\n",
       "      <th>Episode</th>\n",
       "      <th>Dialog_Count</th>\n",
       "    </tr>\n",
       "  </thead>\n",
       "  <tbody>\n",
       "    <tr>\n",
       "      <th>0</th>\n",
       "      <td>BILLY</td>\n",
       "      <td>1</td>\n",
       "      <td>447</td>\n",
       "    </tr>\n",
       "    <tr>\n",
       "      <th>1</th>\n",
       "      <td>BILLY</td>\n",
       "      <td>2</td>\n",
       "      <td>246</td>\n",
       "    </tr>\n",
       "    <tr>\n",
       "      <th>2</th>\n",
       "      <td>BILLY</td>\n",
       "      <td>3</td>\n",
       "      <td>236</td>\n",
       "    </tr>\n",
       "    <tr>\n",
       "      <th>3</th>\n",
       "      <td>BILLY</td>\n",
       "      <td>4</td>\n",
       "      <td>340</td>\n",
       "    </tr>\n",
       "    <tr>\n",
       "      <th>4</th>\n",
       "      <td>BILLY</td>\n",
       "      <td>6</td>\n",
       "      <td>447</td>\n",
       "    </tr>\n",
       "  </tbody>\n",
       "</table>\n",
       "</div>"
      ],
      "text/plain": [
       "  Character_Fix  Episode  Dialog_Count\n",
       "0         BILLY        1           447\n",
       "1         BILLY        2           246\n",
       "2         BILLY        3           236\n",
       "3         BILLY        4           340\n",
       "4         BILLY        6           447"
      ]
     },
     "execution_count": 234,
     "metadata": {},
     "output_type": "execute_result"
    }
   ],
   "source": [
    "top20df_S3.head()"
   ]
  },
  {
   "cell_type": "code",
   "execution_count": 235,
   "id": "86400988",
   "metadata": {},
   "outputs": [
    {
     "data": {
      "application/vnd.plotly.v1+json": {
       "config": {
        "plotlyServerURL": "https://plot.ly"
       },
       "data": [
        {
         "hovertemplate": "<b>%{hovertext}</b><br><br>Character_Fix=%{x}<br>Dialog_Count=%{marker.size}<br>Episode=%{marker.color}<extra></extra>",
         "hovertext": [
          1,
          2,
          3,
          4,
          6,
          7,
          8,
          1,
          2,
          3,
          4,
          5,
          6,
          7,
          8,
          1,
          2,
          3,
          4,
          5,
          6,
          7,
          8,
          1,
          2,
          3,
          4,
          5,
          6,
          7,
          8,
          1,
          2,
          3,
          4,
          5,
          6,
          7,
          8,
          1,
          2,
          3,
          4,
          5,
          6,
          7,
          8,
          1,
          2,
          3,
          4,
          5,
          6,
          7,
          8,
          1,
          2,
          4,
          5,
          7,
          1,
          2,
          3,
          4,
          5,
          6,
          7,
          8,
          1,
          2,
          3,
          4,
          5,
          6,
          7,
          8,
          2,
          4,
          6,
          7,
          1,
          2,
          3,
          4,
          5,
          6,
          7,
          8,
          5,
          6,
          7,
          8,
          1,
          2,
          3,
          4,
          5,
          6,
          7,
          8,
          1,
          2,
          3,
          4,
          5,
          6,
          7,
          8,
          1,
          2,
          3,
          4,
          5,
          6,
          7,
          8,
          1,
          2,
          3,
          4,
          5,
          1,
          2,
          3,
          4,
          5,
          6,
          7,
          8
         ],
         "legendgroup": "",
         "marker": {
          "color": [
           1,
           2,
           3,
           4,
           6,
           7,
           8,
           1,
           2,
           3,
           4,
           5,
           6,
           7,
           8,
           1,
           2,
           3,
           4,
           5,
           6,
           7,
           8,
           1,
           2,
           3,
           4,
           5,
           6,
           7,
           8,
           1,
           2,
           3,
           4,
           5,
           6,
           7,
           8,
           1,
           2,
           3,
           4,
           5,
           6,
           7,
           8,
           1,
           2,
           3,
           4,
           5,
           6,
           7,
           8,
           1,
           2,
           4,
           5,
           7,
           1,
           2,
           3,
           4,
           5,
           6,
           7,
           8,
           1,
           2,
           3,
           4,
           5,
           6,
           7,
           8,
           2,
           4,
           6,
           7,
           1,
           2,
           3,
           4,
           5,
           6,
           7,
           8,
           5,
           6,
           7,
           8,
           1,
           2,
           3,
           4,
           5,
           6,
           7,
           8,
           1,
           2,
           3,
           4,
           5,
           6,
           7,
           8,
           1,
           2,
           3,
           4,
           5,
           6,
           7,
           8,
           1,
           2,
           3,
           4,
           5,
           1,
           2,
           3,
           4,
           5,
           6,
           7,
           8
          ],
          "coloraxis": "coloraxis",
          "size": [
           447,
           246,
           236,
           340,
           447,
           20,
           102,
           737,
           377,
           342,
           277,
           363,
           588,
           724,
           1030,
           147,
           183,
           244,
           150,
           155,
           262,
           70,
           563,
           86,
           18,
           20,
           407,
           224,
           257,
           142,
           247,
           662,
           834,
           1290,
           744,
           1186,
           748,
           357,
           1553,
           144,
           228,
           175,
           158,
           254,
           240,
           72,
           556,
           498,
           99,
           575,
           382,
           817,
           317,
           235,
           586,
           114,
           238,
           255,
           2,
           144,
           249,
           190,
           278,
           156,
           212,
           49,
           296,
           176,
           276,
           359,
           919,
           453,
           91,
           291,
           260,
           336,
           279,
           447,
           250,
           290,
           588,
           453,
           566,
           616,
           290,
           492,
           488,
           686,
           128,
           664,
           578,
           943,
           322,
           380,
           419,
           353,
           1154,
           257,
           224,
           278,
           117,
           626,
           373,
           387,
           454,
           836,
           623,
           403,
           647,
           373,
           342,
           405,
           634,
           735,
           777,
           521,
           29,
           2,
           278,
           324,
           148,
           138,
           63,
           619,
           387,
           113,
           49,
           143,
           220
          ],
          "sizemode": "area",
          "sizeref": 0.4313888888888889,
          "symbol": "circle"
         },
         "mode": "markers",
         "name": "",
         "orientation": "v",
         "showlegend": false,
         "type": "scatter",
         "x": [
          "BILLY",
          "BILLY",
          "BILLY",
          "BILLY",
          "BILLY",
          "BILLY",
          "BILLY",
          "DUSTIN",
          "DUSTIN",
          "DUSTIN",
          "DUSTIN",
          "DUSTIN",
          "DUSTIN",
          "DUSTIN",
          "DUSTIN",
          "ELEVEN",
          "ELEVEN",
          "ELEVEN",
          "ELEVEN",
          "ELEVEN",
          "ELEVEN",
          "ELEVEN",
          "ELEVEN",
          "ERICA",
          "ERICA",
          "ERICA",
          "ERICA",
          "ERICA",
          "ERICA",
          "ERICA",
          "ERICA",
          "HOPPER",
          "HOPPER",
          "HOPPER",
          "HOPPER",
          "HOPPER",
          "HOPPER",
          "HOPPER",
          "HOPPER",
          "JONATHAN",
          "JONATHAN",
          "JONATHAN",
          "JONATHAN",
          "JONATHAN",
          "JONATHAN",
          "JONATHAN",
          "JONATHAN",
          "JOYCE",
          "JOYCE",
          "JOYCE",
          "JOYCE",
          "JOYCE",
          "JOYCE",
          "JOYCE",
          "JOYCE",
          "KAREN",
          "KAREN",
          "KAREN",
          "KAREN",
          "KAREN",
          "LUCAS",
          "LUCAS",
          "LUCAS",
          "LUCAS",
          "LUCAS",
          "LUCAS",
          "LUCAS",
          "LUCAS",
          "MAX",
          "MAX",
          "MAX",
          "MAX",
          "MAX",
          "MAX",
          "MAX",
          "MAX",
          "MAYOR KLINE",
          "MAYOR KLINE",
          "MAYOR KLINE",
          "MAYOR KLINE",
          "MIKE",
          "MIKE",
          "MIKE",
          "MIKE",
          "MIKE",
          "MIKE",
          "MIKE",
          "MIKE",
          "MURRAY",
          "MURRAY",
          "MURRAY",
          "MURRAY",
          "NANCY",
          "NANCY",
          "NANCY",
          "NANCY",
          "NANCY",
          "NANCY",
          "NANCY",
          "NANCY",
          "ROBIN",
          "ROBIN",
          "ROBIN",
          "ROBIN",
          "ROBIN",
          "ROBIN",
          "ROBIN",
          "ROBIN",
          "STEVE",
          "STEVE",
          "STEVE",
          "STEVE",
          "STEVE",
          "STEVE",
          "STEVE",
          "STEVE",
          "TOM",
          "TOM",
          "TOM",
          "TOM",
          "TOM",
          "WILL",
          "WILL",
          "WILL",
          "WILL",
          "WILL",
          "WILL",
          "WILL",
          "WILL"
         ],
         "xaxis": "x",
         "y": [
          447,
          246,
          236,
          340,
          447,
          20,
          102,
          737,
          377,
          342,
          277,
          363,
          588,
          724,
          1030,
          147,
          183,
          244,
          150,
          155,
          262,
          70,
          563,
          86,
          18,
          20,
          407,
          224,
          257,
          142,
          247,
          662,
          834,
          1290,
          744,
          1186,
          748,
          357,
          1553,
          144,
          228,
          175,
          158,
          254,
          240,
          72,
          556,
          498,
          99,
          575,
          382,
          817,
          317,
          235,
          586,
          114,
          238,
          255,
          2,
          144,
          249,
          190,
          278,
          156,
          212,
          49,
          296,
          176,
          276,
          359,
          919,
          453,
          91,
          291,
          260,
          336,
          279,
          447,
          250,
          290,
          588,
          453,
          566,
          616,
          290,
          492,
          488,
          686,
          128,
          664,
          578,
          943,
          322,
          380,
          419,
          353,
          1154,
          257,
          224,
          278,
          117,
          626,
          373,
          387,
          454,
          836,
          623,
          403,
          647,
          373,
          342,
          405,
          634,
          735,
          777,
          521,
          29,
          2,
          278,
          324,
          148,
          138,
          63,
          619,
          387,
          113,
          49,
          143,
          220
         ],
         "yaxis": "y"
        }
       ],
       "layout": {
        "coloraxis": {
         "colorbar": {
          "title": {
           "text": "Episode"
          }
         },
         "colorscale": [
          [
           0,
           "rgb(0,0,255)"
          ],
          [
           1,
           "rgb(255,0,0)"
          ]
         ]
        },
        "legend": {
         "itemsizing": "constant",
         "tracegroupgap": 0
        },
        "paper_bgcolor": "black",
        "plot_bgcolor": "black",
        "template": {
         "data": {
          "bar": [
           {
            "error_x": {
             "color": "#2a3f5f"
            },
            "error_y": {
             "color": "#2a3f5f"
            },
            "marker": {
             "line": {
              "color": "#E5ECF6",
              "width": 0.5
             },
             "pattern": {
              "fillmode": "overlay",
              "size": 10,
              "solidity": 0.2
             }
            },
            "type": "bar"
           }
          ],
          "barpolar": [
           {
            "marker": {
             "line": {
              "color": "#E5ECF6",
              "width": 0.5
             },
             "pattern": {
              "fillmode": "overlay",
              "size": 10,
              "solidity": 0.2
             }
            },
            "type": "barpolar"
           }
          ],
          "carpet": [
           {
            "aaxis": {
             "endlinecolor": "#2a3f5f",
             "gridcolor": "white",
             "linecolor": "white",
             "minorgridcolor": "white",
             "startlinecolor": "#2a3f5f"
            },
            "baxis": {
             "endlinecolor": "#2a3f5f",
             "gridcolor": "white",
             "linecolor": "white",
             "minorgridcolor": "white",
             "startlinecolor": "#2a3f5f"
            },
            "type": "carpet"
           }
          ],
          "choropleth": [
           {
            "colorbar": {
             "outlinewidth": 0,
             "ticks": ""
            },
            "type": "choropleth"
           }
          ],
          "contour": [
           {
            "colorbar": {
             "outlinewidth": 0,
             "ticks": ""
            },
            "colorscale": [
             [
              0,
              "#0d0887"
             ],
             [
              0.1111111111111111,
              "#46039f"
             ],
             [
              0.2222222222222222,
              "#7201a8"
             ],
             [
              0.3333333333333333,
              "#9c179e"
             ],
             [
              0.4444444444444444,
              "#bd3786"
             ],
             [
              0.5555555555555556,
              "#d8576b"
             ],
             [
              0.6666666666666666,
              "#ed7953"
             ],
             [
              0.7777777777777778,
              "#fb9f3a"
             ],
             [
              0.8888888888888888,
              "#fdca26"
             ],
             [
              1,
              "#f0f921"
             ]
            ],
            "type": "contour"
           }
          ],
          "contourcarpet": [
           {
            "colorbar": {
             "outlinewidth": 0,
             "ticks": ""
            },
            "type": "contourcarpet"
           }
          ],
          "heatmap": [
           {
            "colorbar": {
             "outlinewidth": 0,
             "ticks": ""
            },
            "colorscale": [
             [
              0,
              "#0d0887"
             ],
             [
              0.1111111111111111,
              "#46039f"
             ],
             [
              0.2222222222222222,
              "#7201a8"
             ],
             [
              0.3333333333333333,
              "#9c179e"
             ],
             [
              0.4444444444444444,
              "#bd3786"
             ],
             [
              0.5555555555555556,
              "#d8576b"
             ],
             [
              0.6666666666666666,
              "#ed7953"
             ],
             [
              0.7777777777777778,
              "#fb9f3a"
             ],
             [
              0.8888888888888888,
              "#fdca26"
             ],
             [
              1,
              "#f0f921"
             ]
            ],
            "type": "heatmap"
           }
          ],
          "heatmapgl": [
           {
            "colorbar": {
             "outlinewidth": 0,
             "ticks": ""
            },
            "colorscale": [
             [
              0,
              "#0d0887"
             ],
             [
              0.1111111111111111,
              "#46039f"
             ],
             [
              0.2222222222222222,
              "#7201a8"
             ],
             [
              0.3333333333333333,
              "#9c179e"
             ],
             [
              0.4444444444444444,
              "#bd3786"
             ],
             [
              0.5555555555555556,
              "#d8576b"
             ],
             [
              0.6666666666666666,
              "#ed7953"
             ],
             [
              0.7777777777777778,
              "#fb9f3a"
             ],
             [
              0.8888888888888888,
              "#fdca26"
             ],
             [
              1,
              "#f0f921"
             ]
            ],
            "type": "heatmapgl"
           }
          ],
          "histogram": [
           {
            "marker": {
             "pattern": {
              "fillmode": "overlay",
              "size": 10,
              "solidity": 0.2
             }
            },
            "type": "histogram"
           }
          ],
          "histogram2d": [
           {
            "colorbar": {
             "outlinewidth": 0,
             "ticks": ""
            },
            "colorscale": [
             [
              0,
              "#0d0887"
             ],
             [
              0.1111111111111111,
              "#46039f"
             ],
             [
              0.2222222222222222,
              "#7201a8"
             ],
             [
              0.3333333333333333,
              "#9c179e"
             ],
             [
              0.4444444444444444,
              "#bd3786"
             ],
             [
              0.5555555555555556,
              "#d8576b"
             ],
             [
              0.6666666666666666,
              "#ed7953"
             ],
             [
              0.7777777777777778,
              "#fb9f3a"
             ],
             [
              0.8888888888888888,
              "#fdca26"
             ],
             [
              1,
              "#f0f921"
             ]
            ],
            "type": "histogram2d"
           }
          ],
          "histogram2dcontour": [
           {
            "colorbar": {
             "outlinewidth": 0,
             "ticks": ""
            },
            "colorscale": [
             [
              0,
              "#0d0887"
             ],
             [
              0.1111111111111111,
              "#46039f"
             ],
             [
              0.2222222222222222,
              "#7201a8"
             ],
             [
              0.3333333333333333,
              "#9c179e"
             ],
             [
              0.4444444444444444,
              "#bd3786"
             ],
             [
              0.5555555555555556,
              "#d8576b"
             ],
             [
              0.6666666666666666,
              "#ed7953"
             ],
             [
              0.7777777777777778,
              "#fb9f3a"
             ],
             [
              0.8888888888888888,
              "#fdca26"
             ],
             [
              1,
              "#f0f921"
             ]
            ],
            "type": "histogram2dcontour"
           }
          ],
          "mesh3d": [
           {
            "colorbar": {
             "outlinewidth": 0,
             "ticks": ""
            },
            "type": "mesh3d"
           }
          ],
          "parcoords": [
           {
            "line": {
             "colorbar": {
              "outlinewidth": 0,
              "ticks": ""
             }
            },
            "type": "parcoords"
           }
          ],
          "pie": [
           {
            "automargin": true,
            "type": "pie"
           }
          ],
          "scatter": [
           {
            "marker": {
             "colorbar": {
              "outlinewidth": 0,
              "ticks": ""
             }
            },
            "type": "scatter"
           }
          ],
          "scatter3d": [
           {
            "line": {
             "colorbar": {
              "outlinewidth": 0,
              "ticks": ""
             }
            },
            "marker": {
             "colorbar": {
              "outlinewidth": 0,
              "ticks": ""
             }
            },
            "type": "scatter3d"
           }
          ],
          "scattercarpet": [
           {
            "marker": {
             "colorbar": {
              "outlinewidth": 0,
              "ticks": ""
             }
            },
            "type": "scattercarpet"
           }
          ],
          "scattergeo": [
           {
            "marker": {
             "colorbar": {
              "outlinewidth": 0,
              "ticks": ""
             }
            },
            "type": "scattergeo"
           }
          ],
          "scattergl": [
           {
            "marker": {
             "colorbar": {
              "outlinewidth": 0,
              "ticks": ""
             }
            },
            "type": "scattergl"
           }
          ],
          "scattermapbox": [
           {
            "marker": {
             "colorbar": {
              "outlinewidth": 0,
              "ticks": ""
             }
            },
            "type": "scattermapbox"
           }
          ],
          "scatterpolar": [
           {
            "marker": {
             "colorbar": {
              "outlinewidth": 0,
              "ticks": ""
             }
            },
            "type": "scatterpolar"
           }
          ],
          "scatterpolargl": [
           {
            "marker": {
             "colorbar": {
              "outlinewidth": 0,
              "ticks": ""
             }
            },
            "type": "scatterpolargl"
           }
          ],
          "scatterternary": [
           {
            "marker": {
             "colorbar": {
              "outlinewidth": 0,
              "ticks": ""
             }
            },
            "type": "scatterternary"
           }
          ],
          "surface": [
           {
            "colorbar": {
             "outlinewidth": 0,
             "ticks": ""
            },
            "colorscale": [
             [
              0,
              "#0d0887"
             ],
             [
              0.1111111111111111,
              "#46039f"
             ],
             [
              0.2222222222222222,
              "#7201a8"
             ],
             [
              0.3333333333333333,
              "#9c179e"
             ],
             [
              0.4444444444444444,
              "#bd3786"
             ],
             [
              0.5555555555555556,
              "#d8576b"
             ],
             [
              0.6666666666666666,
              "#ed7953"
             ],
             [
              0.7777777777777778,
              "#fb9f3a"
             ],
             [
              0.8888888888888888,
              "#fdca26"
             ],
             [
              1,
              "#f0f921"
             ]
            ],
            "type": "surface"
           }
          ],
          "table": [
           {
            "cells": {
             "fill": {
              "color": "#EBF0F8"
             },
             "line": {
              "color": "white"
             }
            },
            "header": {
             "fill": {
              "color": "#C8D4E3"
             },
             "line": {
              "color": "white"
             }
            },
            "type": "table"
           }
          ]
         },
         "layout": {
          "annotationdefaults": {
           "arrowcolor": "#2a3f5f",
           "arrowhead": 0,
           "arrowwidth": 1
          },
          "autotypenumbers": "strict",
          "coloraxis": {
           "colorbar": {
            "outlinewidth": 0,
            "ticks": ""
           }
          },
          "colorscale": {
           "diverging": [
            [
             0,
             "#8e0152"
            ],
            [
             0.1,
             "#c51b7d"
            ],
            [
             0.2,
             "#de77ae"
            ],
            [
             0.3,
             "#f1b6da"
            ],
            [
             0.4,
             "#fde0ef"
            ],
            [
             0.5,
             "#f7f7f7"
            ],
            [
             0.6,
             "#e6f5d0"
            ],
            [
             0.7,
             "#b8e186"
            ],
            [
             0.8,
             "#7fbc41"
            ],
            [
             0.9,
             "#4d9221"
            ],
            [
             1,
             "#276419"
            ]
           ],
           "sequential": [
            [
             0,
             "#0d0887"
            ],
            [
             0.1111111111111111,
             "#46039f"
            ],
            [
             0.2222222222222222,
             "#7201a8"
            ],
            [
             0.3333333333333333,
             "#9c179e"
            ],
            [
             0.4444444444444444,
             "#bd3786"
            ],
            [
             0.5555555555555556,
             "#d8576b"
            ],
            [
             0.6666666666666666,
             "#ed7953"
            ],
            [
             0.7777777777777778,
             "#fb9f3a"
            ],
            [
             0.8888888888888888,
             "#fdca26"
            ],
            [
             1,
             "#f0f921"
            ]
           ],
           "sequentialminus": [
            [
             0,
             "#0d0887"
            ],
            [
             0.1111111111111111,
             "#46039f"
            ],
            [
             0.2222222222222222,
             "#7201a8"
            ],
            [
             0.3333333333333333,
             "#9c179e"
            ],
            [
             0.4444444444444444,
             "#bd3786"
            ],
            [
             0.5555555555555556,
             "#d8576b"
            ],
            [
             0.6666666666666666,
             "#ed7953"
            ],
            [
             0.7777777777777778,
             "#fb9f3a"
            ],
            [
             0.8888888888888888,
             "#fdca26"
            ],
            [
             1,
             "#f0f921"
            ]
           ]
          },
          "colorway": [
           "#636efa",
           "#EF553B",
           "#00cc96",
           "#ab63fa",
           "#FFA15A",
           "#19d3f3",
           "#FF6692",
           "#B6E880",
           "#FF97FF",
           "#FECB52"
          ],
          "font": {
           "color": "#2a3f5f"
          },
          "geo": {
           "bgcolor": "white",
           "lakecolor": "white",
           "landcolor": "#E5ECF6",
           "showlakes": true,
           "showland": true,
           "subunitcolor": "white"
          },
          "hoverlabel": {
           "align": "left"
          },
          "hovermode": "closest",
          "mapbox": {
           "style": "light"
          },
          "paper_bgcolor": "white",
          "plot_bgcolor": "#E5ECF6",
          "polar": {
           "angularaxis": {
            "gridcolor": "white",
            "linecolor": "white",
            "ticks": ""
           },
           "bgcolor": "#E5ECF6",
           "radialaxis": {
            "gridcolor": "white",
            "linecolor": "white",
            "ticks": ""
           }
          },
          "scene": {
           "xaxis": {
            "backgroundcolor": "#E5ECF6",
            "gridcolor": "white",
            "gridwidth": 2,
            "linecolor": "white",
            "showbackground": true,
            "ticks": "",
            "zerolinecolor": "white"
           },
           "yaxis": {
            "backgroundcolor": "#E5ECF6",
            "gridcolor": "white",
            "gridwidth": 2,
            "linecolor": "white",
            "showbackground": true,
            "ticks": "",
            "zerolinecolor": "white"
           },
           "zaxis": {
            "backgroundcolor": "#E5ECF6",
            "gridcolor": "white",
            "gridwidth": 2,
            "linecolor": "white",
            "showbackground": true,
            "ticks": "",
            "zerolinecolor": "white"
           }
          },
          "shapedefaults": {
           "line": {
            "color": "#2a3f5f"
           }
          },
          "ternary": {
           "aaxis": {
            "gridcolor": "white",
            "linecolor": "white",
            "ticks": ""
           },
           "baxis": {
            "gridcolor": "white",
            "linecolor": "white",
            "ticks": ""
           },
           "bgcolor": "#E5ECF6",
           "caxis": {
            "gridcolor": "white",
            "linecolor": "white",
            "ticks": ""
           }
          },
          "title": {
           "x": 0.05
          },
          "xaxis": {
           "automargin": true,
           "gridcolor": "white",
           "linecolor": "white",
           "ticks": "",
           "title": {
            "standoff": 15
           },
           "zerolinecolor": "white",
           "zerolinewidth": 2
          },
          "yaxis": {
           "automargin": true,
           "gridcolor": "white",
           "linecolor": "white",
           "ticks": "",
           "title": {
            "standoff": 15
           },
           "zerolinecolor": "white",
           "zerolinewidth": 2
          }
         }
        },
        "title": {
         "text": "Total Lines spoken by Top 20 Characters Season 3"
        },
        "xaxis": {
         "anchor": "y",
         "domain": [
          0,
          1
         ],
         "title": {
          "text": "Character_Fix"
         }
        },
        "yaxis": {
         "anchor": "x",
         "domain": [
          0,
          1
         ],
         "title": {
          "text": "Dialog_Count"
         }
        }
       }
      },
      "text/html": [
       "<div>                            <div id=\"2a7e6147-db45-4dc8-a51c-5bddc57e7270\" class=\"plotly-graph-div\" style=\"height:525px; width:100%;\"></div>            <script type=\"text/javascript\">                require([\"plotly\"], function(Plotly) {                    window.PLOTLYENV=window.PLOTLYENV || {};                                    if (document.getElementById(\"2a7e6147-db45-4dc8-a51c-5bddc57e7270\")) {                    Plotly.newPlot(                        \"2a7e6147-db45-4dc8-a51c-5bddc57e7270\",                        [{\"hovertemplate\":\"<b>%{hovertext}</b><br><br>Character_Fix=%{x}<br>Dialog_Count=%{marker.size}<br>Episode=%{marker.color}<extra></extra>\",\"hovertext\":[1.0,2.0,3.0,4.0,6.0,7.0,8.0,1.0,2.0,3.0,4.0,5.0,6.0,7.0,8.0,1.0,2.0,3.0,4.0,5.0,6.0,7.0,8.0,1.0,2.0,3.0,4.0,5.0,6.0,7.0,8.0,1.0,2.0,3.0,4.0,5.0,6.0,7.0,8.0,1.0,2.0,3.0,4.0,5.0,6.0,7.0,8.0,1.0,2.0,3.0,4.0,5.0,6.0,7.0,8.0,1.0,2.0,4.0,5.0,7.0,1.0,2.0,3.0,4.0,5.0,6.0,7.0,8.0,1.0,2.0,3.0,4.0,5.0,6.0,7.0,8.0,2.0,4.0,6.0,7.0,1.0,2.0,3.0,4.0,5.0,6.0,7.0,8.0,5.0,6.0,7.0,8.0,1.0,2.0,3.0,4.0,5.0,6.0,7.0,8.0,1.0,2.0,3.0,4.0,5.0,6.0,7.0,8.0,1.0,2.0,3.0,4.0,5.0,6.0,7.0,8.0,1.0,2.0,3.0,4.0,5.0,1.0,2.0,3.0,4.0,5.0,6.0,7.0,8.0],\"legendgroup\":\"\",\"marker\":{\"color\":[1,2,3,4,6,7,8,1,2,3,4,5,6,7,8,1,2,3,4,5,6,7,8,1,2,3,4,5,6,7,8,1,2,3,4,5,6,7,8,1,2,3,4,5,6,7,8,1,2,3,4,5,6,7,8,1,2,4,5,7,1,2,3,4,5,6,7,8,1,2,3,4,5,6,7,8,2,4,6,7,1,2,3,4,5,6,7,8,5,6,7,8,1,2,3,4,5,6,7,8,1,2,3,4,5,6,7,8,1,2,3,4,5,6,7,8,1,2,3,4,5,1,2,3,4,5,6,7,8],\"coloraxis\":\"coloraxis\",\"size\":[447,246,236,340,447,20,102,737,377,342,277,363,588,724,1030,147,183,244,150,155,262,70,563,86,18,20,407,224,257,142,247,662,834,1290,744,1186,748,357,1553,144,228,175,158,254,240,72,556,498,99,575,382,817,317,235,586,114,238,255,2,144,249,190,278,156,212,49,296,176,276,359,919,453,91,291,260,336,279,447,250,290,588,453,566,616,290,492,488,686,128,664,578,943,322,380,419,353,1154,257,224,278,117,626,373,387,454,836,623,403,647,373,342,405,634,735,777,521,29,2,278,324,148,138,63,619,387,113,49,143,220],\"sizemode\":\"area\",\"sizeref\":0.4313888888888889,\"symbol\":\"circle\"},\"mode\":\"markers\",\"name\":\"\",\"orientation\":\"v\",\"showlegend\":false,\"x\":[\"BILLY\",\"BILLY\",\"BILLY\",\"BILLY\",\"BILLY\",\"BILLY\",\"BILLY\",\"DUSTIN\",\"DUSTIN\",\"DUSTIN\",\"DUSTIN\",\"DUSTIN\",\"DUSTIN\",\"DUSTIN\",\"DUSTIN\",\"ELEVEN\",\"ELEVEN\",\"ELEVEN\",\"ELEVEN\",\"ELEVEN\",\"ELEVEN\",\"ELEVEN\",\"ELEVEN\",\"ERICA\",\"ERICA\",\"ERICA\",\"ERICA\",\"ERICA\",\"ERICA\",\"ERICA\",\"ERICA\",\"HOPPER\",\"HOPPER\",\"HOPPER\",\"HOPPER\",\"HOPPER\",\"HOPPER\",\"HOPPER\",\"HOPPER\",\"JONATHAN\",\"JONATHAN\",\"JONATHAN\",\"JONATHAN\",\"JONATHAN\",\"JONATHAN\",\"JONATHAN\",\"JONATHAN\",\"JOYCE\",\"JOYCE\",\"JOYCE\",\"JOYCE\",\"JOYCE\",\"JOYCE\",\"JOYCE\",\"JOYCE\",\"KAREN\",\"KAREN\",\"KAREN\",\"KAREN\",\"KAREN\",\"LUCAS\",\"LUCAS\",\"LUCAS\",\"LUCAS\",\"LUCAS\",\"LUCAS\",\"LUCAS\",\"LUCAS\",\"MAX\",\"MAX\",\"MAX\",\"MAX\",\"MAX\",\"MAX\",\"MAX\",\"MAX\",\"MAYOR KLINE\",\"MAYOR KLINE\",\"MAYOR KLINE\",\"MAYOR KLINE\",\"MIKE\",\"MIKE\",\"MIKE\",\"MIKE\",\"MIKE\",\"MIKE\",\"MIKE\",\"MIKE\",\"MURRAY\",\"MURRAY\",\"MURRAY\",\"MURRAY\",\"NANCY\",\"NANCY\",\"NANCY\",\"NANCY\",\"NANCY\",\"NANCY\",\"NANCY\",\"NANCY\",\"ROBIN\",\"ROBIN\",\"ROBIN\",\"ROBIN\",\"ROBIN\",\"ROBIN\",\"ROBIN\",\"ROBIN\",\"STEVE\",\"STEVE\",\"STEVE\",\"STEVE\",\"STEVE\",\"STEVE\",\"STEVE\",\"STEVE\",\"TOM\",\"TOM\",\"TOM\",\"TOM\",\"TOM\",\"WILL\",\"WILL\",\"WILL\",\"WILL\",\"WILL\",\"WILL\",\"WILL\",\"WILL\"],\"xaxis\":\"x\",\"y\":[447,246,236,340,447,20,102,737,377,342,277,363,588,724,1030,147,183,244,150,155,262,70,563,86,18,20,407,224,257,142,247,662,834,1290,744,1186,748,357,1553,144,228,175,158,254,240,72,556,498,99,575,382,817,317,235,586,114,238,255,2,144,249,190,278,156,212,49,296,176,276,359,919,453,91,291,260,336,279,447,250,290,588,453,566,616,290,492,488,686,128,664,578,943,322,380,419,353,1154,257,224,278,117,626,373,387,454,836,623,403,647,373,342,405,634,735,777,521,29,2,278,324,148,138,63,619,387,113,49,143,220],\"yaxis\":\"y\",\"type\":\"scatter\"}],                        {\"template\":{\"data\":{\"bar\":[{\"error_x\":{\"color\":\"#2a3f5f\"},\"error_y\":{\"color\":\"#2a3f5f\"},\"marker\":{\"line\":{\"color\":\"#E5ECF6\",\"width\":0.5},\"pattern\":{\"fillmode\":\"overlay\",\"size\":10,\"solidity\":0.2}},\"type\":\"bar\"}],\"barpolar\":[{\"marker\":{\"line\":{\"color\":\"#E5ECF6\",\"width\":0.5},\"pattern\":{\"fillmode\":\"overlay\",\"size\":10,\"solidity\":0.2}},\"type\":\"barpolar\"}],\"carpet\":[{\"aaxis\":{\"endlinecolor\":\"#2a3f5f\",\"gridcolor\":\"white\",\"linecolor\":\"white\",\"minorgridcolor\":\"white\",\"startlinecolor\":\"#2a3f5f\"},\"baxis\":{\"endlinecolor\":\"#2a3f5f\",\"gridcolor\":\"white\",\"linecolor\":\"white\",\"minorgridcolor\":\"white\",\"startlinecolor\":\"#2a3f5f\"},\"type\":\"carpet\"}],\"choropleth\":[{\"colorbar\":{\"outlinewidth\":0,\"ticks\":\"\"},\"type\":\"choropleth\"}],\"contour\":[{\"colorbar\":{\"outlinewidth\":0,\"ticks\":\"\"},\"colorscale\":[[0.0,\"#0d0887\"],[0.1111111111111111,\"#46039f\"],[0.2222222222222222,\"#7201a8\"],[0.3333333333333333,\"#9c179e\"],[0.4444444444444444,\"#bd3786\"],[0.5555555555555556,\"#d8576b\"],[0.6666666666666666,\"#ed7953\"],[0.7777777777777778,\"#fb9f3a\"],[0.8888888888888888,\"#fdca26\"],[1.0,\"#f0f921\"]],\"type\":\"contour\"}],\"contourcarpet\":[{\"colorbar\":{\"outlinewidth\":0,\"ticks\":\"\"},\"type\":\"contourcarpet\"}],\"heatmap\":[{\"colorbar\":{\"outlinewidth\":0,\"ticks\":\"\"},\"colorscale\":[[0.0,\"#0d0887\"],[0.1111111111111111,\"#46039f\"],[0.2222222222222222,\"#7201a8\"],[0.3333333333333333,\"#9c179e\"],[0.4444444444444444,\"#bd3786\"],[0.5555555555555556,\"#d8576b\"],[0.6666666666666666,\"#ed7953\"],[0.7777777777777778,\"#fb9f3a\"],[0.8888888888888888,\"#fdca26\"],[1.0,\"#f0f921\"]],\"type\":\"heatmap\"}],\"heatmapgl\":[{\"colorbar\":{\"outlinewidth\":0,\"ticks\":\"\"},\"colorscale\":[[0.0,\"#0d0887\"],[0.1111111111111111,\"#46039f\"],[0.2222222222222222,\"#7201a8\"],[0.3333333333333333,\"#9c179e\"],[0.4444444444444444,\"#bd3786\"],[0.5555555555555556,\"#d8576b\"],[0.6666666666666666,\"#ed7953\"],[0.7777777777777778,\"#fb9f3a\"],[0.8888888888888888,\"#fdca26\"],[1.0,\"#f0f921\"]],\"type\":\"heatmapgl\"}],\"histogram\":[{\"marker\":{\"pattern\":{\"fillmode\":\"overlay\",\"size\":10,\"solidity\":0.2}},\"type\":\"histogram\"}],\"histogram2d\":[{\"colorbar\":{\"outlinewidth\":0,\"ticks\":\"\"},\"colorscale\":[[0.0,\"#0d0887\"],[0.1111111111111111,\"#46039f\"],[0.2222222222222222,\"#7201a8\"],[0.3333333333333333,\"#9c179e\"],[0.4444444444444444,\"#bd3786\"],[0.5555555555555556,\"#d8576b\"],[0.6666666666666666,\"#ed7953\"],[0.7777777777777778,\"#fb9f3a\"],[0.8888888888888888,\"#fdca26\"],[1.0,\"#f0f921\"]],\"type\":\"histogram2d\"}],\"histogram2dcontour\":[{\"colorbar\":{\"outlinewidth\":0,\"ticks\":\"\"},\"colorscale\":[[0.0,\"#0d0887\"],[0.1111111111111111,\"#46039f\"],[0.2222222222222222,\"#7201a8\"],[0.3333333333333333,\"#9c179e\"],[0.4444444444444444,\"#bd3786\"],[0.5555555555555556,\"#d8576b\"],[0.6666666666666666,\"#ed7953\"],[0.7777777777777778,\"#fb9f3a\"],[0.8888888888888888,\"#fdca26\"],[1.0,\"#f0f921\"]],\"type\":\"histogram2dcontour\"}],\"mesh3d\":[{\"colorbar\":{\"outlinewidth\":0,\"ticks\":\"\"},\"type\":\"mesh3d\"}],\"parcoords\":[{\"line\":{\"colorbar\":{\"outlinewidth\":0,\"ticks\":\"\"}},\"type\":\"parcoords\"}],\"pie\":[{\"automargin\":true,\"type\":\"pie\"}],\"scatter\":[{\"marker\":{\"colorbar\":{\"outlinewidth\":0,\"ticks\":\"\"}},\"type\":\"scatter\"}],\"scatter3d\":[{\"line\":{\"colorbar\":{\"outlinewidth\":0,\"ticks\":\"\"}},\"marker\":{\"colorbar\":{\"outlinewidth\":0,\"ticks\":\"\"}},\"type\":\"scatter3d\"}],\"scattercarpet\":[{\"marker\":{\"colorbar\":{\"outlinewidth\":0,\"ticks\":\"\"}},\"type\":\"scattercarpet\"}],\"scattergeo\":[{\"marker\":{\"colorbar\":{\"outlinewidth\":0,\"ticks\":\"\"}},\"type\":\"scattergeo\"}],\"scattergl\":[{\"marker\":{\"colorbar\":{\"outlinewidth\":0,\"ticks\":\"\"}},\"type\":\"scattergl\"}],\"scattermapbox\":[{\"marker\":{\"colorbar\":{\"outlinewidth\":0,\"ticks\":\"\"}},\"type\":\"scattermapbox\"}],\"scatterpolar\":[{\"marker\":{\"colorbar\":{\"outlinewidth\":0,\"ticks\":\"\"}},\"type\":\"scatterpolar\"}],\"scatterpolargl\":[{\"marker\":{\"colorbar\":{\"outlinewidth\":0,\"ticks\":\"\"}},\"type\":\"scatterpolargl\"}],\"scatterternary\":[{\"marker\":{\"colorbar\":{\"outlinewidth\":0,\"ticks\":\"\"}},\"type\":\"scatterternary\"}],\"surface\":[{\"colorbar\":{\"outlinewidth\":0,\"ticks\":\"\"},\"colorscale\":[[0.0,\"#0d0887\"],[0.1111111111111111,\"#46039f\"],[0.2222222222222222,\"#7201a8\"],[0.3333333333333333,\"#9c179e\"],[0.4444444444444444,\"#bd3786\"],[0.5555555555555556,\"#d8576b\"],[0.6666666666666666,\"#ed7953\"],[0.7777777777777778,\"#fb9f3a\"],[0.8888888888888888,\"#fdca26\"],[1.0,\"#f0f921\"]],\"type\":\"surface\"}],\"table\":[{\"cells\":{\"fill\":{\"color\":\"#EBF0F8\"},\"line\":{\"color\":\"white\"}},\"header\":{\"fill\":{\"color\":\"#C8D4E3\"},\"line\":{\"color\":\"white\"}},\"type\":\"table\"}]},\"layout\":{\"annotationdefaults\":{\"arrowcolor\":\"#2a3f5f\",\"arrowhead\":0,\"arrowwidth\":1},\"autotypenumbers\":\"strict\",\"coloraxis\":{\"colorbar\":{\"outlinewidth\":0,\"ticks\":\"\"}},\"colorscale\":{\"diverging\":[[0,\"#8e0152\"],[0.1,\"#c51b7d\"],[0.2,\"#de77ae\"],[0.3,\"#f1b6da\"],[0.4,\"#fde0ef\"],[0.5,\"#f7f7f7\"],[0.6,\"#e6f5d0\"],[0.7,\"#b8e186\"],[0.8,\"#7fbc41\"],[0.9,\"#4d9221\"],[1,\"#276419\"]],\"sequential\":[[0.0,\"#0d0887\"],[0.1111111111111111,\"#46039f\"],[0.2222222222222222,\"#7201a8\"],[0.3333333333333333,\"#9c179e\"],[0.4444444444444444,\"#bd3786\"],[0.5555555555555556,\"#d8576b\"],[0.6666666666666666,\"#ed7953\"],[0.7777777777777778,\"#fb9f3a\"],[0.8888888888888888,\"#fdca26\"],[1.0,\"#f0f921\"]],\"sequentialminus\":[[0.0,\"#0d0887\"],[0.1111111111111111,\"#46039f\"],[0.2222222222222222,\"#7201a8\"],[0.3333333333333333,\"#9c179e\"],[0.4444444444444444,\"#bd3786\"],[0.5555555555555556,\"#d8576b\"],[0.6666666666666666,\"#ed7953\"],[0.7777777777777778,\"#fb9f3a\"],[0.8888888888888888,\"#fdca26\"],[1.0,\"#f0f921\"]]},\"colorway\":[\"#636efa\",\"#EF553B\",\"#00cc96\",\"#ab63fa\",\"#FFA15A\",\"#19d3f3\",\"#FF6692\",\"#B6E880\",\"#FF97FF\",\"#FECB52\"],\"font\":{\"color\":\"#2a3f5f\"},\"geo\":{\"bgcolor\":\"white\",\"lakecolor\":\"white\",\"landcolor\":\"#E5ECF6\",\"showlakes\":true,\"showland\":true,\"subunitcolor\":\"white\"},\"hoverlabel\":{\"align\":\"left\"},\"hovermode\":\"closest\",\"mapbox\":{\"style\":\"light\"},\"paper_bgcolor\":\"white\",\"plot_bgcolor\":\"#E5ECF6\",\"polar\":{\"angularaxis\":{\"gridcolor\":\"white\",\"linecolor\":\"white\",\"ticks\":\"\"},\"bgcolor\":\"#E5ECF6\",\"radialaxis\":{\"gridcolor\":\"white\",\"linecolor\":\"white\",\"ticks\":\"\"}},\"scene\":{\"xaxis\":{\"backgroundcolor\":\"#E5ECF6\",\"gridcolor\":\"white\",\"gridwidth\":2,\"linecolor\":\"white\",\"showbackground\":true,\"ticks\":\"\",\"zerolinecolor\":\"white\"},\"yaxis\":{\"backgroundcolor\":\"#E5ECF6\",\"gridcolor\":\"white\",\"gridwidth\":2,\"linecolor\":\"white\",\"showbackground\":true,\"ticks\":\"\",\"zerolinecolor\":\"white\"},\"zaxis\":{\"backgroundcolor\":\"#E5ECF6\",\"gridcolor\":\"white\",\"gridwidth\":2,\"linecolor\":\"white\",\"showbackground\":true,\"ticks\":\"\",\"zerolinecolor\":\"white\"}},\"shapedefaults\":{\"line\":{\"color\":\"#2a3f5f\"}},\"ternary\":{\"aaxis\":{\"gridcolor\":\"white\",\"linecolor\":\"white\",\"ticks\":\"\"},\"baxis\":{\"gridcolor\":\"white\",\"linecolor\":\"white\",\"ticks\":\"\"},\"bgcolor\":\"#E5ECF6\",\"caxis\":{\"gridcolor\":\"white\",\"linecolor\":\"white\",\"ticks\":\"\"}},\"title\":{\"x\":0.05},\"xaxis\":{\"automargin\":true,\"gridcolor\":\"white\",\"linecolor\":\"white\",\"ticks\":\"\",\"title\":{\"standoff\":15},\"zerolinecolor\":\"white\",\"zerolinewidth\":2},\"yaxis\":{\"automargin\":true,\"gridcolor\":\"white\",\"linecolor\":\"white\",\"ticks\":\"\",\"title\":{\"standoff\":15},\"zerolinecolor\":\"white\",\"zerolinewidth\":2}}},\"xaxis\":{\"anchor\":\"y\",\"domain\":[0.0,1.0],\"title\":{\"text\":\"Character_Fix\"}},\"yaxis\":{\"anchor\":\"x\",\"domain\":[0.0,1.0],\"title\":{\"text\":\"Dialog_Count\"}},\"coloraxis\":{\"colorbar\":{\"title\":{\"text\":\"Episode\"}},\"colorscale\":[[0.0,\"rgb(0,0,255)\"],[1.0,\"rgb(255,0,0)\"]]},\"legend\":{\"tracegroupgap\":0,\"itemsizing\":\"constant\"},\"title\":{\"text\":\"Total Lines spoken by Top 20 Characters Season 3\"},\"paper_bgcolor\":\"black\",\"plot_bgcolor\":\"black\"},                        {\"responsive\": true}                    ).then(function(){\n",
       "                            \n",
       "var gd = document.getElementById('2a7e6147-db45-4dc8-a51c-5bddc57e7270');\n",
       "var x = new MutationObserver(function (mutations, observer) {{\n",
       "        var display = window.getComputedStyle(gd).display;\n",
       "        if (!display || display === 'none') {{\n",
       "            console.log([gd, 'removed!']);\n",
       "            Plotly.purge(gd);\n",
       "            observer.disconnect();\n",
       "        }}\n",
       "}});\n",
       "\n",
       "// Listen for the removal of the full notebook cells\n",
       "var notebookContainer = gd.closest('#notebook-container');\n",
       "if (notebookContainer) {{\n",
       "    x.observe(notebookContainer, {childList: true});\n",
       "}}\n",
       "\n",
       "// Listen for the clearing of the current output cell\n",
       "var outputEl = gd.closest('.output');\n",
       "if (outputEl) {{\n",
       "    x.observe(outputEl, {childList: true});\n",
       "}}\n",
       "\n",
       "                        })                };                });            </script>        </div>"
      ]
     },
     "metadata": {},
     "output_type": "display_data"
    }
   ],
   "source": [
    "fig = px.scatter(top20df_S3, x=\"Character_Fix\", y=\"Dialog_Count\",\n",
    "                 size=\"Dialog_Count\",hover_name=\"Episode\",\n",
    "                 color_continuous_scale=\"Bluered\", \n",
    "                 size_max=60, color='Episode',\n",
    "                 title= \"Total Lines spoken by Top 20 Characters Season 3\")\n",
    "#fig.update_layout(paper_bgcolor = 'rgba(0, 0, 0, 0)', plot_bgcolor = 'rgba(0, 0, 0, 0)')\n",
    "fig.update_layout(paper_bgcolor = 'black', plot_bgcolor = 'black')\n",
    "fig.show()"
   ]
  },
  {
   "cell_type": "code",
   "execution_count": 236,
   "id": "ab4405b3",
   "metadata": {},
   "outputs": [
    {
     "data": {
      "application/vnd.plotly.v1+json": {
       "config": {
        "plotlyServerURL": "https://plot.ly"
       },
       "data": [
        {
         "hovertemplate": "<b>%{hovertext}</b><br><br>Character_Fix=%{x}<br>Dialog_Count=%{marker.size}<extra></extra>",
         "hovertext": [
          "HOPPER",
          "MIKE",
          "STEVE",
          "DUSTIN",
          "JOYCE",
          "NANCY",
          "ROBIN",
          "MAX",
          "JONATHAN",
          "LUCAS",
          "WILL",
          "ELEVEN",
          "MURRAY",
          "BILLY",
          "ERICA",
          "KAREN",
          "DR BRENNER",
          "MAYOR KLINE",
          "DR OWENS",
          "TOM"
         ],
         "legendgroup": "",
         "marker": {
          "color": "#636efa",
          "size": [
           10560,
           8048,
           6859,
           6609,
           6176,
           6119,
           5049,
           4894,
           3243,
           3076,
           3038,
           2798,
           2630,
           2545,
           1697,
           1414,
           1313,
           1266,
           786,
           781
          ],
          "sizemode": "area",
          "sizeref": 2.933333333333333,
          "symbol": "circle"
         },
         "mode": "markers",
         "name": "",
         "orientation": "v",
         "showlegend": false,
         "type": "scatter",
         "x": [
          "HOPPER",
          "MIKE",
          "STEVE",
          "DUSTIN",
          "JOYCE",
          "NANCY",
          "ROBIN",
          "MAX",
          "JONATHAN",
          "LUCAS",
          "WILL",
          "ELEVEN",
          "MURRAY",
          "BILLY",
          "ERICA",
          "KAREN",
          "DR BRENNER",
          "MAYOR KLINE",
          "DR OWENS",
          "TOM"
         ],
         "xaxis": "x",
         "y": [
          10560,
          8048,
          6859,
          6609,
          6176,
          6119,
          5049,
          4894,
          3243,
          3076,
          3038,
          2798,
          2630,
          2545,
          1697,
          1414,
          1313,
          1266,
          786,
          781
         ],
         "yaxis": "y"
        }
       ],
       "layout": {
        "legend": {
         "itemsizing": "constant",
         "tracegroupgap": 0
        },
        "paper_bgcolor": "black",
        "plot_bgcolor": "black",
        "template": {
         "data": {
          "bar": [
           {
            "error_x": {
             "color": "#2a3f5f"
            },
            "error_y": {
             "color": "#2a3f5f"
            },
            "marker": {
             "line": {
              "color": "#E5ECF6",
              "width": 0.5
             },
             "pattern": {
              "fillmode": "overlay",
              "size": 10,
              "solidity": 0.2
             }
            },
            "type": "bar"
           }
          ],
          "barpolar": [
           {
            "marker": {
             "line": {
              "color": "#E5ECF6",
              "width": 0.5
             },
             "pattern": {
              "fillmode": "overlay",
              "size": 10,
              "solidity": 0.2
             }
            },
            "type": "barpolar"
           }
          ],
          "carpet": [
           {
            "aaxis": {
             "endlinecolor": "#2a3f5f",
             "gridcolor": "white",
             "linecolor": "white",
             "minorgridcolor": "white",
             "startlinecolor": "#2a3f5f"
            },
            "baxis": {
             "endlinecolor": "#2a3f5f",
             "gridcolor": "white",
             "linecolor": "white",
             "minorgridcolor": "white",
             "startlinecolor": "#2a3f5f"
            },
            "type": "carpet"
           }
          ],
          "choropleth": [
           {
            "colorbar": {
             "outlinewidth": 0,
             "ticks": ""
            },
            "type": "choropleth"
           }
          ],
          "contour": [
           {
            "colorbar": {
             "outlinewidth": 0,
             "ticks": ""
            },
            "colorscale": [
             [
              0,
              "#0d0887"
             ],
             [
              0.1111111111111111,
              "#46039f"
             ],
             [
              0.2222222222222222,
              "#7201a8"
             ],
             [
              0.3333333333333333,
              "#9c179e"
             ],
             [
              0.4444444444444444,
              "#bd3786"
             ],
             [
              0.5555555555555556,
              "#d8576b"
             ],
             [
              0.6666666666666666,
              "#ed7953"
             ],
             [
              0.7777777777777778,
              "#fb9f3a"
             ],
             [
              0.8888888888888888,
              "#fdca26"
             ],
             [
              1,
              "#f0f921"
             ]
            ],
            "type": "contour"
           }
          ],
          "contourcarpet": [
           {
            "colorbar": {
             "outlinewidth": 0,
             "ticks": ""
            },
            "type": "contourcarpet"
           }
          ],
          "heatmap": [
           {
            "colorbar": {
             "outlinewidth": 0,
             "ticks": ""
            },
            "colorscale": [
             [
              0,
              "#0d0887"
             ],
             [
              0.1111111111111111,
              "#46039f"
             ],
             [
              0.2222222222222222,
              "#7201a8"
             ],
             [
              0.3333333333333333,
              "#9c179e"
             ],
             [
              0.4444444444444444,
              "#bd3786"
             ],
             [
              0.5555555555555556,
              "#d8576b"
             ],
             [
              0.6666666666666666,
              "#ed7953"
             ],
             [
              0.7777777777777778,
              "#fb9f3a"
             ],
             [
              0.8888888888888888,
              "#fdca26"
             ],
             [
              1,
              "#f0f921"
             ]
            ],
            "type": "heatmap"
           }
          ],
          "heatmapgl": [
           {
            "colorbar": {
             "outlinewidth": 0,
             "ticks": ""
            },
            "colorscale": [
             [
              0,
              "#0d0887"
             ],
             [
              0.1111111111111111,
              "#46039f"
             ],
             [
              0.2222222222222222,
              "#7201a8"
             ],
             [
              0.3333333333333333,
              "#9c179e"
             ],
             [
              0.4444444444444444,
              "#bd3786"
             ],
             [
              0.5555555555555556,
              "#d8576b"
             ],
             [
              0.6666666666666666,
              "#ed7953"
             ],
             [
              0.7777777777777778,
              "#fb9f3a"
             ],
             [
              0.8888888888888888,
              "#fdca26"
             ],
             [
              1,
              "#f0f921"
             ]
            ],
            "type": "heatmapgl"
           }
          ],
          "histogram": [
           {
            "marker": {
             "pattern": {
              "fillmode": "overlay",
              "size": 10,
              "solidity": 0.2
             }
            },
            "type": "histogram"
           }
          ],
          "histogram2d": [
           {
            "colorbar": {
             "outlinewidth": 0,
             "ticks": ""
            },
            "colorscale": [
             [
              0,
              "#0d0887"
             ],
             [
              0.1111111111111111,
              "#46039f"
             ],
             [
              0.2222222222222222,
              "#7201a8"
             ],
             [
              0.3333333333333333,
              "#9c179e"
             ],
             [
              0.4444444444444444,
              "#bd3786"
             ],
             [
              0.5555555555555556,
              "#d8576b"
             ],
             [
              0.6666666666666666,
              "#ed7953"
             ],
             [
              0.7777777777777778,
              "#fb9f3a"
             ],
             [
              0.8888888888888888,
              "#fdca26"
             ],
             [
              1,
              "#f0f921"
             ]
            ],
            "type": "histogram2d"
           }
          ],
          "histogram2dcontour": [
           {
            "colorbar": {
             "outlinewidth": 0,
             "ticks": ""
            },
            "colorscale": [
             [
              0,
              "#0d0887"
             ],
             [
              0.1111111111111111,
              "#46039f"
             ],
             [
              0.2222222222222222,
              "#7201a8"
             ],
             [
              0.3333333333333333,
              "#9c179e"
             ],
             [
              0.4444444444444444,
              "#bd3786"
             ],
             [
              0.5555555555555556,
              "#d8576b"
             ],
             [
              0.6666666666666666,
              "#ed7953"
             ],
             [
              0.7777777777777778,
              "#fb9f3a"
             ],
             [
              0.8888888888888888,
              "#fdca26"
             ],
             [
              1,
              "#f0f921"
             ]
            ],
            "type": "histogram2dcontour"
           }
          ],
          "mesh3d": [
           {
            "colorbar": {
             "outlinewidth": 0,
             "ticks": ""
            },
            "type": "mesh3d"
           }
          ],
          "parcoords": [
           {
            "line": {
             "colorbar": {
              "outlinewidth": 0,
              "ticks": ""
             }
            },
            "type": "parcoords"
           }
          ],
          "pie": [
           {
            "automargin": true,
            "type": "pie"
           }
          ],
          "scatter": [
           {
            "marker": {
             "colorbar": {
              "outlinewidth": 0,
              "ticks": ""
             }
            },
            "type": "scatter"
           }
          ],
          "scatter3d": [
           {
            "line": {
             "colorbar": {
              "outlinewidth": 0,
              "ticks": ""
             }
            },
            "marker": {
             "colorbar": {
              "outlinewidth": 0,
              "ticks": ""
             }
            },
            "type": "scatter3d"
           }
          ],
          "scattercarpet": [
           {
            "marker": {
             "colorbar": {
              "outlinewidth": 0,
              "ticks": ""
             }
            },
            "type": "scattercarpet"
           }
          ],
          "scattergeo": [
           {
            "marker": {
             "colorbar": {
              "outlinewidth": 0,
              "ticks": ""
             }
            },
            "type": "scattergeo"
           }
          ],
          "scattergl": [
           {
            "marker": {
             "colorbar": {
              "outlinewidth": 0,
              "ticks": ""
             }
            },
            "type": "scattergl"
           }
          ],
          "scattermapbox": [
           {
            "marker": {
             "colorbar": {
              "outlinewidth": 0,
              "ticks": ""
             }
            },
            "type": "scattermapbox"
           }
          ],
          "scatterpolar": [
           {
            "marker": {
             "colorbar": {
              "outlinewidth": 0,
              "ticks": ""
             }
            },
            "type": "scatterpolar"
           }
          ],
          "scatterpolargl": [
           {
            "marker": {
             "colorbar": {
              "outlinewidth": 0,
              "ticks": ""
             }
            },
            "type": "scatterpolargl"
           }
          ],
          "scatterternary": [
           {
            "marker": {
             "colorbar": {
              "outlinewidth": 0,
              "ticks": ""
             }
            },
            "type": "scatterternary"
           }
          ],
          "surface": [
           {
            "colorbar": {
             "outlinewidth": 0,
             "ticks": ""
            },
            "colorscale": [
             [
              0,
              "#0d0887"
             ],
             [
              0.1111111111111111,
              "#46039f"
             ],
             [
              0.2222222222222222,
              "#7201a8"
             ],
             [
              0.3333333333333333,
              "#9c179e"
             ],
             [
              0.4444444444444444,
              "#bd3786"
             ],
             [
              0.5555555555555556,
              "#d8576b"
             ],
             [
              0.6666666666666666,
              "#ed7953"
             ],
             [
              0.7777777777777778,
              "#fb9f3a"
             ],
             [
              0.8888888888888888,
              "#fdca26"
             ],
             [
              1,
              "#f0f921"
             ]
            ],
            "type": "surface"
           }
          ],
          "table": [
           {
            "cells": {
             "fill": {
              "color": "#EBF0F8"
             },
             "line": {
              "color": "white"
             }
            },
            "header": {
             "fill": {
              "color": "#C8D4E3"
             },
             "line": {
              "color": "white"
             }
            },
            "type": "table"
           }
          ]
         },
         "layout": {
          "annotationdefaults": {
           "arrowcolor": "#2a3f5f",
           "arrowhead": 0,
           "arrowwidth": 1
          },
          "autotypenumbers": "strict",
          "coloraxis": {
           "colorbar": {
            "outlinewidth": 0,
            "ticks": ""
           }
          },
          "colorscale": {
           "diverging": [
            [
             0,
             "#8e0152"
            ],
            [
             0.1,
             "#c51b7d"
            ],
            [
             0.2,
             "#de77ae"
            ],
            [
             0.3,
             "#f1b6da"
            ],
            [
             0.4,
             "#fde0ef"
            ],
            [
             0.5,
             "#f7f7f7"
            ],
            [
             0.6,
             "#e6f5d0"
            ],
            [
             0.7,
             "#b8e186"
            ],
            [
             0.8,
             "#7fbc41"
            ],
            [
             0.9,
             "#4d9221"
            ],
            [
             1,
             "#276419"
            ]
           ],
           "sequential": [
            [
             0,
             "#0d0887"
            ],
            [
             0.1111111111111111,
             "#46039f"
            ],
            [
             0.2222222222222222,
             "#7201a8"
            ],
            [
             0.3333333333333333,
             "#9c179e"
            ],
            [
             0.4444444444444444,
             "#bd3786"
            ],
            [
             0.5555555555555556,
             "#d8576b"
            ],
            [
             0.6666666666666666,
             "#ed7953"
            ],
            [
             0.7777777777777778,
             "#fb9f3a"
            ],
            [
             0.8888888888888888,
             "#fdca26"
            ],
            [
             1,
             "#f0f921"
            ]
           ],
           "sequentialminus": [
            [
             0,
             "#0d0887"
            ],
            [
             0.1111111111111111,
             "#46039f"
            ],
            [
             0.2222222222222222,
             "#7201a8"
            ],
            [
             0.3333333333333333,
             "#9c179e"
            ],
            [
             0.4444444444444444,
             "#bd3786"
            ],
            [
             0.5555555555555556,
             "#d8576b"
            ],
            [
             0.6666666666666666,
             "#ed7953"
            ],
            [
             0.7777777777777778,
             "#fb9f3a"
            ],
            [
             0.8888888888888888,
             "#fdca26"
            ],
            [
             1,
             "#f0f921"
            ]
           ]
          },
          "colorway": [
           "#636efa",
           "#EF553B",
           "#00cc96",
           "#ab63fa",
           "#FFA15A",
           "#19d3f3",
           "#FF6692",
           "#B6E880",
           "#FF97FF",
           "#FECB52"
          ],
          "font": {
           "color": "#2a3f5f"
          },
          "geo": {
           "bgcolor": "white",
           "lakecolor": "white",
           "landcolor": "#E5ECF6",
           "showlakes": true,
           "showland": true,
           "subunitcolor": "white"
          },
          "hoverlabel": {
           "align": "left"
          },
          "hovermode": "closest",
          "mapbox": {
           "style": "light"
          },
          "paper_bgcolor": "white",
          "plot_bgcolor": "#E5ECF6",
          "polar": {
           "angularaxis": {
            "gridcolor": "white",
            "linecolor": "white",
            "ticks": ""
           },
           "bgcolor": "#E5ECF6",
           "radialaxis": {
            "gridcolor": "white",
            "linecolor": "white",
            "ticks": ""
           }
          },
          "scene": {
           "xaxis": {
            "backgroundcolor": "#E5ECF6",
            "gridcolor": "white",
            "gridwidth": 2,
            "linecolor": "white",
            "showbackground": true,
            "ticks": "",
            "zerolinecolor": "white"
           },
           "yaxis": {
            "backgroundcolor": "#E5ECF6",
            "gridcolor": "white",
            "gridwidth": 2,
            "linecolor": "white",
            "showbackground": true,
            "ticks": "",
            "zerolinecolor": "white"
           },
           "zaxis": {
            "backgroundcolor": "#E5ECF6",
            "gridcolor": "white",
            "gridwidth": 2,
            "linecolor": "white",
            "showbackground": true,
            "ticks": "",
            "zerolinecolor": "white"
           }
          },
          "shapedefaults": {
           "line": {
            "color": "#2a3f5f"
           }
          },
          "ternary": {
           "aaxis": {
            "gridcolor": "white",
            "linecolor": "white",
            "ticks": ""
           },
           "baxis": {
            "gridcolor": "white",
            "linecolor": "white",
            "ticks": ""
           },
           "bgcolor": "#E5ECF6",
           "caxis": {
            "gridcolor": "white",
            "linecolor": "white",
            "ticks": ""
           }
          },
          "title": {
           "x": 0.05
          },
          "xaxis": {
           "automargin": true,
           "gridcolor": "white",
           "linecolor": "white",
           "ticks": "",
           "title": {
            "standoff": 15
           },
           "zerolinecolor": "white",
           "zerolinewidth": 2
          },
          "yaxis": {
           "automargin": true,
           "gridcolor": "white",
           "linecolor": "white",
           "ticks": "",
           "title": {
            "standoff": 15
           },
           "zerolinecolor": "white",
           "zerolinewidth": 2
          }
         }
        },
        "title": {
         "font": {
          "color": "white"
         },
         "text": "Total Lines spoken by Top 20 Characters"
        },
        "xaxis": {
         "anchor": "y",
         "domain": [
          0,
          1
         ],
         "title": {
          "text": "Character_Fix"
         }
        },
        "yaxis": {
         "anchor": "x",
         "domain": [
          0,
          1
         ],
         "title": {
          "text": "Dialog_Count"
         }
        }
       }
      },
      "text/html": [
       "<div>                            <div id=\"3006bde7-ecc8-4a48-9511-0c0fc6ce0038\" class=\"plotly-graph-div\" style=\"height:525px; width:100%;\"></div>            <script type=\"text/javascript\">                require([\"plotly\"], function(Plotly) {                    window.PLOTLYENV=window.PLOTLYENV || {};                                    if (document.getElementById(\"3006bde7-ecc8-4a48-9511-0c0fc6ce0038\")) {                    Plotly.newPlot(                        \"3006bde7-ecc8-4a48-9511-0c0fc6ce0038\",                        [{\"hovertemplate\":\"<b>%{hovertext}</b><br><br>Character_Fix=%{x}<br>Dialog_Count=%{marker.size}<extra></extra>\",\"hovertext\":[\"HOPPER\",\"MIKE\",\"STEVE\",\"DUSTIN\",\"JOYCE\",\"NANCY\",\"ROBIN\",\"MAX\",\"JONATHAN\",\"LUCAS\",\"WILL\",\"ELEVEN\",\"MURRAY\",\"BILLY\",\"ERICA\",\"KAREN\",\"DR BRENNER\",\"MAYOR KLINE\",\"DR OWENS\",\"TOM\"],\"legendgroup\":\"\",\"marker\":{\"color\":\"#636efa\",\"size\":[10560,8048,6859,6609,6176,6119,5049,4894,3243,3076,3038,2798,2630,2545,1697,1414,1313,1266,786,781],\"sizemode\":\"area\",\"sizeref\":2.933333333333333,\"symbol\":\"circle\"},\"mode\":\"markers\",\"name\":\"\",\"orientation\":\"v\",\"showlegend\":false,\"x\":[\"HOPPER\",\"MIKE\",\"STEVE\",\"DUSTIN\",\"JOYCE\",\"NANCY\",\"ROBIN\",\"MAX\",\"JONATHAN\",\"LUCAS\",\"WILL\",\"ELEVEN\",\"MURRAY\",\"BILLY\",\"ERICA\",\"KAREN\",\"DR BRENNER\",\"MAYOR KLINE\",\"DR OWENS\",\"TOM\"],\"xaxis\":\"x\",\"y\":[10560,8048,6859,6609,6176,6119,5049,4894,3243,3076,3038,2798,2630,2545,1697,1414,1313,1266,786,781],\"yaxis\":\"y\",\"type\":\"scatter\"}],                        {\"template\":{\"data\":{\"bar\":[{\"error_x\":{\"color\":\"#2a3f5f\"},\"error_y\":{\"color\":\"#2a3f5f\"},\"marker\":{\"line\":{\"color\":\"#E5ECF6\",\"width\":0.5},\"pattern\":{\"fillmode\":\"overlay\",\"size\":10,\"solidity\":0.2}},\"type\":\"bar\"}],\"barpolar\":[{\"marker\":{\"line\":{\"color\":\"#E5ECF6\",\"width\":0.5},\"pattern\":{\"fillmode\":\"overlay\",\"size\":10,\"solidity\":0.2}},\"type\":\"barpolar\"}],\"carpet\":[{\"aaxis\":{\"endlinecolor\":\"#2a3f5f\",\"gridcolor\":\"white\",\"linecolor\":\"white\",\"minorgridcolor\":\"white\",\"startlinecolor\":\"#2a3f5f\"},\"baxis\":{\"endlinecolor\":\"#2a3f5f\",\"gridcolor\":\"white\",\"linecolor\":\"white\",\"minorgridcolor\":\"white\",\"startlinecolor\":\"#2a3f5f\"},\"type\":\"carpet\"}],\"choropleth\":[{\"colorbar\":{\"outlinewidth\":0,\"ticks\":\"\"},\"type\":\"choropleth\"}],\"contour\":[{\"colorbar\":{\"outlinewidth\":0,\"ticks\":\"\"},\"colorscale\":[[0.0,\"#0d0887\"],[0.1111111111111111,\"#46039f\"],[0.2222222222222222,\"#7201a8\"],[0.3333333333333333,\"#9c179e\"],[0.4444444444444444,\"#bd3786\"],[0.5555555555555556,\"#d8576b\"],[0.6666666666666666,\"#ed7953\"],[0.7777777777777778,\"#fb9f3a\"],[0.8888888888888888,\"#fdca26\"],[1.0,\"#f0f921\"]],\"type\":\"contour\"}],\"contourcarpet\":[{\"colorbar\":{\"outlinewidth\":0,\"ticks\":\"\"},\"type\":\"contourcarpet\"}],\"heatmap\":[{\"colorbar\":{\"outlinewidth\":0,\"ticks\":\"\"},\"colorscale\":[[0.0,\"#0d0887\"],[0.1111111111111111,\"#46039f\"],[0.2222222222222222,\"#7201a8\"],[0.3333333333333333,\"#9c179e\"],[0.4444444444444444,\"#bd3786\"],[0.5555555555555556,\"#d8576b\"],[0.6666666666666666,\"#ed7953\"],[0.7777777777777778,\"#fb9f3a\"],[0.8888888888888888,\"#fdca26\"],[1.0,\"#f0f921\"]],\"type\":\"heatmap\"}],\"heatmapgl\":[{\"colorbar\":{\"outlinewidth\":0,\"ticks\":\"\"},\"colorscale\":[[0.0,\"#0d0887\"],[0.1111111111111111,\"#46039f\"],[0.2222222222222222,\"#7201a8\"],[0.3333333333333333,\"#9c179e\"],[0.4444444444444444,\"#bd3786\"],[0.5555555555555556,\"#d8576b\"],[0.6666666666666666,\"#ed7953\"],[0.7777777777777778,\"#fb9f3a\"],[0.8888888888888888,\"#fdca26\"],[1.0,\"#f0f921\"]],\"type\":\"heatmapgl\"}],\"histogram\":[{\"marker\":{\"pattern\":{\"fillmode\":\"overlay\",\"size\":10,\"solidity\":0.2}},\"type\":\"histogram\"}],\"histogram2d\":[{\"colorbar\":{\"outlinewidth\":0,\"ticks\":\"\"},\"colorscale\":[[0.0,\"#0d0887\"],[0.1111111111111111,\"#46039f\"],[0.2222222222222222,\"#7201a8\"],[0.3333333333333333,\"#9c179e\"],[0.4444444444444444,\"#bd3786\"],[0.5555555555555556,\"#d8576b\"],[0.6666666666666666,\"#ed7953\"],[0.7777777777777778,\"#fb9f3a\"],[0.8888888888888888,\"#fdca26\"],[1.0,\"#f0f921\"]],\"type\":\"histogram2d\"}],\"histogram2dcontour\":[{\"colorbar\":{\"outlinewidth\":0,\"ticks\":\"\"},\"colorscale\":[[0.0,\"#0d0887\"],[0.1111111111111111,\"#46039f\"],[0.2222222222222222,\"#7201a8\"],[0.3333333333333333,\"#9c179e\"],[0.4444444444444444,\"#bd3786\"],[0.5555555555555556,\"#d8576b\"],[0.6666666666666666,\"#ed7953\"],[0.7777777777777778,\"#fb9f3a\"],[0.8888888888888888,\"#fdca26\"],[1.0,\"#f0f921\"]],\"type\":\"histogram2dcontour\"}],\"mesh3d\":[{\"colorbar\":{\"outlinewidth\":0,\"ticks\":\"\"},\"type\":\"mesh3d\"}],\"parcoords\":[{\"line\":{\"colorbar\":{\"outlinewidth\":0,\"ticks\":\"\"}},\"type\":\"parcoords\"}],\"pie\":[{\"automargin\":true,\"type\":\"pie\"}],\"scatter\":[{\"marker\":{\"colorbar\":{\"outlinewidth\":0,\"ticks\":\"\"}},\"type\":\"scatter\"}],\"scatter3d\":[{\"line\":{\"colorbar\":{\"outlinewidth\":0,\"ticks\":\"\"}},\"marker\":{\"colorbar\":{\"outlinewidth\":0,\"ticks\":\"\"}},\"type\":\"scatter3d\"}],\"scattercarpet\":[{\"marker\":{\"colorbar\":{\"outlinewidth\":0,\"ticks\":\"\"}},\"type\":\"scattercarpet\"}],\"scattergeo\":[{\"marker\":{\"colorbar\":{\"outlinewidth\":0,\"ticks\":\"\"}},\"type\":\"scattergeo\"}],\"scattergl\":[{\"marker\":{\"colorbar\":{\"outlinewidth\":0,\"ticks\":\"\"}},\"type\":\"scattergl\"}],\"scattermapbox\":[{\"marker\":{\"colorbar\":{\"outlinewidth\":0,\"ticks\":\"\"}},\"type\":\"scattermapbox\"}],\"scatterpolar\":[{\"marker\":{\"colorbar\":{\"outlinewidth\":0,\"ticks\":\"\"}},\"type\":\"scatterpolar\"}],\"scatterpolargl\":[{\"marker\":{\"colorbar\":{\"outlinewidth\":0,\"ticks\":\"\"}},\"type\":\"scatterpolargl\"}],\"scatterternary\":[{\"marker\":{\"colorbar\":{\"outlinewidth\":0,\"ticks\":\"\"}},\"type\":\"scatterternary\"}],\"surface\":[{\"colorbar\":{\"outlinewidth\":0,\"ticks\":\"\"},\"colorscale\":[[0.0,\"#0d0887\"],[0.1111111111111111,\"#46039f\"],[0.2222222222222222,\"#7201a8\"],[0.3333333333333333,\"#9c179e\"],[0.4444444444444444,\"#bd3786\"],[0.5555555555555556,\"#d8576b\"],[0.6666666666666666,\"#ed7953\"],[0.7777777777777778,\"#fb9f3a\"],[0.8888888888888888,\"#fdca26\"],[1.0,\"#f0f921\"]],\"type\":\"surface\"}],\"table\":[{\"cells\":{\"fill\":{\"color\":\"#EBF0F8\"},\"line\":{\"color\":\"white\"}},\"header\":{\"fill\":{\"color\":\"#C8D4E3\"},\"line\":{\"color\":\"white\"}},\"type\":\"table\"}]},\"layout\":{\"annotationdefaults\":{\"arrowcolor\":\"#2a3f5f\",\"arrowhead\":0,\"arrowwidth\":1},\"autotypenumbers\":\"strict\",\"coloraxis\":{\"colorbar\":{\"outlinewidth\":0,\"ticks\":\"\"}},\"colorscale\":{\"diverging\":[[0,\"#8e0152\"],[0.1,\"#c51b7d\"],[0.2,\"#de77ae\"],[0.3,\"#f1b6da\"],[0.4,\"#fde0ef\"],[0.5,\"#f7f7f7\"],[0.6,\"#e6f5d0\"],[0.7,\"#b8e186\"],[0.8,\"#7fbc41\"],[0.9,\"#4d9221\"],[1,\"#276419\"]],\"sequential\":[[0.0,\"#0d0887\"],[0.1111111111111111,\"#46039f\"],[0.2222222222222222,\"#7201a8\"],[0.3333333333333333,\"#9c179e\"],[0.4444444444444444,\"#bd3786\"],[0.5555555555555556,\"#d8576b\"],[0.6666666666666666,\"#ed7953\"],[0.7777777777777778,\"#fb9f3a\"],[0.8888888888888888,\"#fdca26\"],[1.0,\"#f0f921\"]],\"sequentialminus\":[[0.0,\"#0d0887\"],[0.1111111111111111,\"#46039f\"],[0.2222222222222222,\"#7201a8\"],[0.3333333333333333,\"#9c179e\"],[0.4444444444444444,\"#bd3786\"],[0.5555555555555556,\"#d8576b\"],[0.6666666666666666,\"#ed7953\"],[0.7777777777777778,\"#fb9f3a\"],[0.8888888888888888,\"#fdca26\"],[1.0,\"#f0f921\"]]},\"colorway\":[\"#636efa\",\"#EF553B\",\"#00cc96\",\"#ab63fa\",\"#FFA15A\",\"#19d3f3\",\"#FF6692\",\"#B6E880\",\"#FF97FF\",\"#FECB52\"],\"font\":{\"color\":\"#2a3f5f\"},\"geo\":{\"bgcolor\":\"white\",\"lakecolor\":\"white\",\"landcolor\":\"#E5ECF6\",\"showlakes\":true,\"showland\":true,\"subunitcolor\":\"white\"},\"hoverlabel\":{\"align\":\"left\"},\"hovermode\":\"closest\",\"mapbox\":{\"style\":\"light\"},\"paper_bgcolor\":\"white\",\"plot_bgcolor\":\"#E5ECF6\",\"polar\":{\"angularaxis\":{\"gridcolor\":\"white\",\"linecolor\":\"white\",\"ticks\":\"\"},\"bgcolor\":\"#E5ECF6\",\"radialaxis\":{\"gridcolor\":\"white\",\"linecolor\":\"white\",\"ticks\":\"\"}},\"scene\":{\"xaxis\":{\"backgroundcolor\":\"#E5ECF6\",\"gridcolor\":\"white\",\"gridwidth\":2,\"linecolor\":\"white\",\"showbackground\":true,\"ticks\":\"\",\"zerolinecolor\":\"white\"},\"yaxis\":{\"backgroundcolor\":\"#E5ECF6\",\"gridcolor\":\"white\",\"gridwidth\":2,\"linecolor\":\"white\",\"showbackground\":true,\"ticks\":\"\",\"zerolinecolor\":\"white\"},\"zaxis\":{\"backgroundcolor\":\"#E5ECF6\",\"gridcolor\":\"white\",\"gridwidth\":2,\"linecolor\":\"white\",\"showbackground\":true,\"ticks\":\"\",\"zerolinecolor\":\"white\"}},\"shapedefaults\":{\"line\":{\"color\":\"#2a3f5f\"}},\"ternary\":{\"aaxis\":{\"gridcolor\":\"white\",\"linecolor\":\"white\",\"ticks\":\"\"},\"baxis\":{\"gridcolor\":\"white\",\"linecolor\":\"white\",\"ticks\":\"\"},\"bgcolor\":\"#E5ECF6\",\"caxis\":{\"gridcolor\":\"white\",\"linecolor\":\"white\",\"ticks\":\"\"}},\"title\":{\"x\":0.05},\"xaxis\":{\"automargin\":true,\"gridcolor\":\"white\",\"linecolor\":\"white\",\"ticks\":\"\",\"title\":{\"standoff\":15},\"zerolinecolor\":\"white\",\"zerolinewidth\":2},\"yaxis\":{\"automargin\":true,\"gridcolor\":\"white\",\"linecolor\":\"white\",\"ticks\":\"\",\"title\":{\"standoff\":15},\"zerolinecolor\":\"white\",\"zerolinewidth\":2}}},\"xaxis\":{\"anchor\":\"y\",\"domain\":[0.0,1.0],\"title\":{\"text\":\"Character_Fix\"}},\"yaxis\":{\"anchor\":\"x\",\"domain\":[0.0,1.0],\"title\":{\"text\":\"Dialog_Count\"}},\"legend\":{\"tracegroupgap\":0,\"itemsizing\":\"constant\"},\"title\":{\"text\":\"Total Lines spoken by Top 20 Characters\",\"font\":{\"color\":\"white\"}},\"paper_bgcolor\":\"black\",\"plot_bgcolor\":\"black\"},                        {\"responsive\": true}                    ).then(function(){\n",
       "                            \n",
       "var gd = document.getElementById('3006bde7-ecc8-4a48-9511-0c0fc6ce0038');\n",
       "var x = new MutationObserver(function (mutations, observer) {{\n",
       "        var display = window.getComputedStyle(gd).display;\n",
       "        if (!display || display === 'none') {{\n",
       "            console.log([gd, 'removed!']);\n",
       "            Plotly.purge(gd);\n",
       "            observer.disconnect();\n",
       "        }}\n",
       "}});\n",
       "\n",
       "// Listen for the removal of the full notebook cells\n",
       "var notebookContainer = gd.closest('#notebook-container');\n",
       "if (notebookContainer) {{\n",
       "    x.observe(notebookContainer, {childList: true});\n",
       "}}\n",
       "\n",
       "// Listen for the clearing of the current output cell\n",
       "var outputEl = gd.closest('.output');\n",
       "if (outputEl) {{\n",
       "    x.observe(outputEl, {childList: true});\n",
       "}}\n",
       "\n",
       "                        })                };                });            </script>        </div>"
      ]
     },
     "metadata": {},
     "output_type": "display_data"
    }
   ],
   "source": [
    "fig = px.scatter(_20df, x=\"Character_Fix\", y=\"Dialog_Count\",\n",
    "                 size=\"Dialog_Count\",hover_name=\"Character_Fix\",\n",
    "                 color_continuous_scale=\"Bluered\", \n",
    "                 size_max=60,\n",
    "                 title= \"Total Lines spoken by Top 20 Characters\")\n",
    "#fig.update_layout(paper_bgcolor = 'rgba(0, 0, 0, 0)', plot_bgcolor = 'rgba(0, 0, 0, 0)')\n",
    "fig.update_layout(paper_bgcolor = 'black', plot_bgcolor = 'black')\n",
    "fig.update_layout(title_font_color='white') \n",
    "fig.show()"
   ]
  },
  {
   "cell_type": "code",
   "execution_count": 237,
   "id": "9594afca",
   "metadata": {},
   "outputs": [
    {
     "data": {
      "application/vnd.plotly.v1+json": {
       "config": {
        "plotlyServerURL": "https://plot.ly"
       },
       "data": [
        {
         "alignmentgroup": "True",
         "hovertemplate": "<b>%{hovertext}</b><br><br>Character_Fix=%{x}<br>Dialog_Count=%{y}<extra></extra>",
         "hovertext": [
          "HOPPER",
          "MIKE",
          "STEVE",
          "DUSTIN",
          "JOYCE",
          "NANCY",
          "ROBIN",
          "MAX",
          "JONATHAN",
          "LUCAS",
          "WILL",
          "ELEVEN",
          "MURRAY",
          "BILLY",
          "ERICA",
          "KAREN",
          "DR BRENNER",
          "MAYOR KLINE",
          "DR OWENS",
          "TOM"
         ],
         "legendgroup": "",
         "marker": {
          "color": "#636efa",
          "pattern": {
           "shape": ""
          }
         },
         "name": "",
         "offsetgroup": "",
         "orientation": "v",
         "showlegend": false,
         "textposition": "auto",
         "type": "bar",
         "x": [
          "HOPPER",
          "MIKE",
          "STEVE",
          "DUSTIN",
          "JOYCE",
          "NANCY",
          "ROBIN",
          "MAX",
          "JONATHAN",
          "LUCAS",
          "WILL",
          "ELEVEN",
          "MURRAY",
          "BILLY",
          "ERICA",
          "KAREN",
          "DR BRENNER",
          "MAYOR KLINE",
          "DR OWENS",
          "TOM"
         ],
         "xaxis": "x",
         "y": [
          10560,
          8048,
          6859,
          6609,
          6176,
          6119,
          5049,
          4894,
          3243,
          3076,
          3038,
          2798,
          2630,
          2545,
          1697,
          1414,
          1313,
          1266,
          786,
          781
         ],
         "yaxis": "y"
        }
       ],
       "layout": {
        "barmode": "relative",
        "legend": {
         "tracegroupgap": 0
        },
        "paper_bgcolor": "black",
        "plot_bgcolor": "black",
        "template": {
         "data": {
          "bar": [
           {
            "error_x": {
             "color": "#2a3f5f"
            },
            "error_y": {
             "color": "#2a3f5f"
            },
            "marker": {
             "line": {
              "color": "#E5ECF6",
              "width": 0.5
             },
             "pattern": {
              "fillmode": "overlay",
              "size": 10,
              "solidity": 0.2
             }
            },
            "type": "bar"
           }
          ],
          "barpolar": [
           {
            "marker": {
             "line": {
              "color": "#E5ECF6",
              "width": 0.5
             },
             "pattern": {
              "fillmode": "overlay",
              "size": 10,
              "solidity": 0.2
             }
            },
            "type": "barpolar"
           }
          ],
          "carpet": [
           {
            "aaxis": {
             "endlinecolor": "#2a3f5f",
             "gridcolor": "white",
             "linecolor": "white",
             "minorgridcolor": "white",
             "startlinecolor": "#2a3f5f"
            },
            "baxis": {
             "endlinecolor": "#2a3f5f",
             "gridcolor": "white",
             "linecolor": "white",
             "minorgridcolor": "white",
             "startlinecolor": "#2a3f5f"
            },
            "type": "carpet"
           }
          ],
          "choropleth": [
           {
            "colorbar": {
             "outlinewidth": 0,
             "ticks": ""
            },
            "type": "choropleth"
           }
          ],
          "contour": [
           {
            "colorbar": {
             "outlinewidth": 0,
             "ticks": ""
            },
            "colorscale": [
             [
              0,
              "#0d0887"
             ],
             [
              0.1111111111111111,
              "#46039f"
             ],
             [
              0.2222222222222222,
              "#7201a8"
             ],
             [
              0.3333333333333333,
              "#9c179e"
             ],
             [
              0.4444444444444444,
              "#bd3786"
             ],
             [
              0.5555555555555556,
              "#d8576b"
             ],
             [
              0.6666666666666666,
              "#ed7953"
             ],
             [
              0.7777777777777778,
              "#fb9f3a"
             ],
             [
              0.8888888888888888,
              "#fdca26"
             ],
             [
              1,
              "#f0f921"
             ]
            ],
            "type": "contour"
           }
          ],
          "contourcarpet": [
           {
            "colorbar": {
             "outlinewidth": 0,
             "ticks": ""
            },
            "type": "contourcarpet"
           }
          ],
          "heatmap": [
           {
            "colorbar": {
             "outlinewidth": 0,
             "ticks": ""
            },
            "colorscale": [
             [
              0,
              "#0d0887"
             ],
             [
              0.1111111111111111,
              "#46039f"
             ],
             [
              0.2222222222222222,
              "#7201a8"
             ],
             [
              0.3333333333333333,
              "#9c179e"
             ],
             [
              0.4444444444444444,
              "#bd3786"
             ],
             [
              0.5555555555555556,
              "#d8576b"
             ],
             [
              0.6666666666666666,
              "#ed7953"
             ],
             [
              0.7777777777777778,
              "#fb9f3a"
             ],
             [
              0.8888888888888888,
              "#fdca26"
             ],
             [
              1,
              "#f0f921"
             ]
            ],
            "type": "heatmap"
           }
          ],
          "heatmapgl": [
           {
            "colorbar": {
             "outlinewidth": 0,
             "ticks": ""
            },
            "colorscale": [
             [
              0,
              "#0d0887"
             ],
             [
              0.1111111111111111,
              "#46039f"
             ],
             [
              0.2222222222222222,
              "#7201a8"
             ],
             [
              0.3333333333333333,
              "#9c179e"
             ],
             [
              0.4444444444444444,
              "#bd3786"
             ],
             [
              0.5555555555555556,
              "#d8576b"
             ],
             [
              0.6666666666666666,
              "#ed7953"
             ],
             [
              0.7777777777777778,
              "#fb9f3a"
             ],
             [
              0.8888888888888888,
              "#fdca26"
             ],
             [
              1,
              "#f0f921"
             ]
            ],
            "type": "heatmapgl"
           }
          ],
          "histogram": [
           {
            "marker": {
             "pattern": {
              "fillmode": "overlay",
              "size": 10,
              "solidity": 0.2
             }
            },
            "type": "histogram"
           }
          ],
          "histogram2d": [
           {
            "colorbar": {
             "outlinewidth": 0,
             "ticks": ""
            },
            "colorscale": [
             [
              0,
              "#0d0887"
             ],
             [
              0.1111111111111111,
              "#46039f"
             ],
             [
              0.2222222222222222,
              "#7201a8"
             ],
             [
              0.3333333333333333,
              "#9c179e"
             ],
             [
              0.4444444444444444,
              "#bd3786"
             ],
             [
              0.5555555555555556,
              "#d8576b"
             ],
             [
              0.6666666666666666,
              "#ed7953"
             ],
             [
              0.7777777777777778,
              "#fb9f3a"
             ],
             [
              0.8888888888888888,
              "#fdca26"
             ],
             [
              1,
              "#f0f921"
             ]
            ],
            "type": "histogram2d"
           }
          ],
          "histogram2dcontour": [
           {
            "colorbar": {
             "outlinewidth": 0,
             "ticks": ""
            },
            "colorscale": [
             [
              0,
              "#0d0887"
             ],
             [
              0.1111111111111111,
              "#46039f"
             ],
             [
              0.2222222222222222,
              "#7201a8"
             ],
             [
              0.3333333333333333,
              "#9c179e"
             ],
             [
              0.4444444444444444,
              "#bd3786"
             ],
             [
              0.5555555555555556,
              "#d8576b"
             ],
             [
              0.6666666666666666,
              "#ed7953"
             ],
             [
              0.7777777777777778,
              "#fb9f3a"
             ],
             [
              0.8888888888888888,
              "#fdca26"
             ],
             [
              1,
              "#f0f921"
             ]
            ],
            "type": "histogram2dcontour"
           }
          ],
          "mesh3d": [
           {
            "colorbar": {
             "outlinewidth": 0,
             "ticks": ""
            },
            "type": "mesh3d"
           }
          ],
          "parcoords": [
           {
            "line": {
             "colorbar": {
              "outlinewidth": 0,
              "ticks": ""
             }
            },
            "type": "parcoords"
           }
          ],
          "pie": [
           {
            "automargin": true,
            "type": "pie"
           }
          ],
          "scatter": [
           {
            "marker": {
             "colorbar": {
              "outlinewidth": 0,
              "ticks": ""
             }
            },
            "type": "scatter"
           }
          ],
          "scatter3d": [
           {
            "line": {
             "colorbar": {
              "outlinewidth": 0,
              "ticks": ""
             }
            },
            "marker": {
             "colorbar": {
              "outlinewidth": 0,
              "ticks": ""
             }
            },
            "type": "scatter3d"
           }
          ],
          "scattercarpet": [
           {
            "marker": {
             "colorbar": {
              "outlinewidth": 0,
              "ticks": ""
             }
            },
            "type": "scattercarpet"
           }
          ],
          "scattergeo": [
           {
            "marker": {
             "colorbar": {
              "outlinewidth": 0,
              "ticks": ""
             }
            },
            "type": "scattergeo"
           }
          ],
          "scattergl": [
           {
            "marker": {
             "colorbar": {
              "outlinewidth": 0,
              "ticks": ""
             }
            },
            "type": "scattergl"
           }
          ],
          "scattermapbox": [
           {
            "marker": {
             "colorbar": {
              "outlinewidth": 0,
              "ticks": ""
             }
            },
            "type": "scattermapbox"
           }
          ],
          "scatterpolar": [
           {
            "marker": {
             "colorbar": {
              "outlinewidth": 0,
              "ticks": ""
             }
            },
            "type": "scatterpolar"
           }
          ],
          "scatterpolargl": [
           {
            "marker": {
             "colorbar": {
              "outlinewidth": 0,
              "ticks": ""
             }
            },
            "type": "scatterpolargl"
           }
          ],
          "scatterternary": [
           {
            "marker": {
             "colorbar": {
              "outlinewidth": 0,
              "ticks": ""
             }
            },
            "type": "scatterternary"
           }
          ],
          "surface": [
           {
            "colorbar": {
             "outlinewidth": 0,
             "ticks": ""
            },
            "colorscale": [
             [
              0,
              "#0d0887"
             ],
             [
              0.1111111111111111,
              "#46039f"
             ],
             [
              0.2222222222222222,
              "#7201a8"
             ],
             [
              0.3333333333333333,
              "#9c179e"
             ],
             [
              0.4444444444444444,
              "#bd3786"
             ],
             [
              0.5555555555555556,
              "#d8576b"
             ],
             [
              0.6666666666666666,
              "#ed7953"
             ],
             [
              0.7777777777777778,
              "#fb9f3a"
             ],
             [
              0.8888888888888888,
              "#fdca26"
             ],
             [
              1,
              "#f0f921"
             ]
            ],
            "type": "surface"
           }
          ],
          "table": [
           {
            "cells": {
             "fill": {
              "color": "#EBF0F8"
             },
             "line": {
              "color": "white"
             }
            },
            "header": {
             "fill": {
              "color": "#C8D4E3"
             },
             "line": {
              "color": "white"
             }
            },
            "type": "table"
           }
          ]
         },
         "layout": {
          "annotationdefaults": {
           "arrowcolor": "#2a3f5f",
           "arrowhead": 0,
           "arrowwidth": 1
          },
          "autotypenumbers": "strict",
          "coloraxis": {
           "colorbar": {
            "outlinewidth": 0,
            "ticks": ""
           }
          },
          "colorscale": {
           "diverging": [
            [
             0,
             "#8e0152"
            ],
            [
             0.1,
             "#c51b7d"
            ],
            [
             0.2,
             "#de77ae"
            ],
            [
             0.3,
             "#f1b6da"
            ],
            [
             0.4,
             "#fde0ef"
            ],
            [
             0.5,
             "#f7f7f7"
            ],
            [
             0.6,
             "#e6f5d0"
            ],
            [
             0.7,
             "#b8e186"
            ],
            [
             0.8,
             "#7fbc41"
            ],
            [
             0.9,
             "#4d9221"
            ],
            [
             1,
             "#276419"
            ]
           ],
           "sequential": [
            [
             0,
             "#0d0887"
            ],
            [
             0.1111111111111111,
             "#46039f"
            ],
            [
             0.2222222222222222,
             "#7201a8"
            ],
            [
             0.3333333333333333,
             "#9c179e"
            ],
            [
             0.4444444444444444,
             "#bd3786"
            ],
            [
             0.5555555555555556,
             "#d8576b"
            ],
            [
             0.6666666666666666,
             "#ed7953"
            ],
            [
             0.7777777777777778,
             "#fb9f3a"
            ],
            [
             0.8888888888888888,
             "#fdca26"
            ],
            [
             1,
             "#f0f921"
            ]
           ],
           "sequentialminus": [
            [
             0,
             "#0d0887"
            ],
            [
             0.1111111111111111,
             "#46039f"
            ],
            [
             0.2222222222222222,
             "#7201a8"
            ],
            [
             0.3333333333333333,
             "#9c179e"
            ],
            [
             0.4444444444444444,
             "#bd3786"
            ],
            [
             0.5555555555555556,
             "#d8576b"
            ],
            [
             0.6666666666666666,
             "#ed7953"
            ],
            [
             0.7777777777777778,
             "#fb9f3a"
            ],
            [
             0.8888888888888888,
             "#fdca26"
            ],
            [
             1,
             "#f0f921"
            ]
           ]
          },
          "colorway": [
           "#636efa",
           "#EF553B",
           "#00cc96",
           "#ab63fa",
           "#FFA15A",
           "#19d3f3",
           "#FF6692",
           "#B6E880",
           "#FF97FF",
           "#FECB52"
          ],
          "font": {
           "color": "#2a3f5f"
          },
          "geo": {
           "bgcolor": "white",
           "lakecolor": "white",
           "landcolor": "#E5ECF6",
           "showlakes": true,
           "showland": true,
           "subunitcolor": "white"
          },
          "hoverlabel": {
           "align": "left"
          },
          "hovermode": "closest",
          "mapbox": {
           "style": "light"
          },
          "paper_bgcolor": "white",
          "plot_bgcolor": "#E5ECF6",
          "polar": {
           "angularaxis": {
            "gridcolor": "white",
            "linecolor": "white",
            "ticks": ""
           },
           "bgcolor": "#E5ECF6",
           "radialaxis": {
            "gridcolor": "white",
            "linecolor": "white",
            "ticks": ""
           }
          },
          "scene": {
           "xaxis": {
            "backgroundcolor": "#E5ECF6",
            "gridcolor": "white",
            "gridwidth": 2,
            "linecolor": "white",
            "showbackground": true,
            "ticks": "",
            "zerolinecolor": "white"
           },
           "yaxis": {
            "backgroundcolor": "#E5ECF6",
            "gridcolor": "white",
            "gridwidth": 2,
            "linecolor": "white",
            "showbackground": true,
            "ticks": "",
            "zerolinecolor": "white"
           },
           "zaxis": {
            "backgroundcolor": "#E5ECF6",
            "gridcolor": "white",
            "gridwidth": 2,
            "linecolor": "white",
            "showbackground": true,
            "ticks": "",
            "zerolinecolor": "white"
           }
          },
          "shapedefaults": {
           "line": {
            "color": "#2a3f5f"
           }
          },
          "ternary": {
           "aaxis": {
            "gridcolor": "white",
            "linecolor": "white",
            "ticks": ""
           },
           "baxis": {
            "gridcolor": "white",
            "linecolor": "white",
            "ticks": ""
           },
           "bgcolor": "#E5ECF6",
           "caxis": {
            "gridcolor": "white",
            "linecolor": "white",
            "ticks": ""
           }
          },
          "title": {
           "x": 0.05
          },
          "xaxis": {
           "automargin": true,
           "gridcolor": "white",
           "linecolor": "white",
           "ticks": "",
           "title": {
            "standoff": 15
           },
           "zerolinecolor": "white",
           "zerolinewidth": 2
          },
          "yaxis": {
           "automargin": true,
           "gridcolor": "white",
           "linecolor": "white",
           "ticks": "",
           "title": {
            "standoff": 15
           },
           "zerolinecolor": "white",
           "zerolinewidth": 2
          }
         }
        },
        "title": {
         "font": {
          "color": "white"
         },
         "text": "Total Lines spoken by Top 20 Characters"
        },
        "xaxis": {
         "anchor": "y",
         "domain": [
          0,
          1
         ],
         "title": {
          "text": "Character_Fix"
         }
        },
        "yaxis": {
         "anchor": "x",
         "domain": [
          0,
          1
         ],
         "title": {
          "text": "Dialog_Count"
         }
        }
       }
      },
      "text/html": [
       "<div>                            <div id=\"dc3d3c32-f011-45f5-b63a-e940d764e928\" class=\"plotly-graph-div\" style=\"height:525px; width:100%;\"></div>            <script type=\"text/javascript\">                require([\"plotly\"], function(Plotly) {                    window.PLOTLYENV=window.PLOTLYENV || {};                                    if (document.getElementById(\"dc3d3c32-f011-45f5-b63a-e940d764e928\")) {                    Plotly.newPlot(                        \"dc3d3c32-f011-45f5-b63a-e940d764e928\",                        [{\"alignmentgroup\":\"True\",\"hovertemplate\":\"<b>%{hovertext}</b><br><br>Character_Fix=%{x}<br>Dialog_Count=%{y}<extra></extra>\",\"hovertext\":[\"HOPPER\",\"MIKE\",\"STEVE\",\"DUSTIN\",\"JOYCE\",\"NANCY\",\"ROBIN\",\"MAX\",\"JONATHAN\",\"LUCAS\",\"WILL\",\"ELEVEN\",\"MURRAY\",\"BILLY\",\"ERICA\",\"KAREN\",\"DR BRENNER\",\"MAYOR KLINE\",\"DR OWENS\",\"TOM\"],\"legendgroup\":\"\",\"marker\":{\"color\":\"#636efa\",\"pattern\":{\"shape\":\"\"}},\"name\":\"\",\"offsetgroup\":\"\",\"orientation\":\"v\",\"showlegend\":false,\"textposition\":\"auto\",\"x\":[\"HOPPER\",\"MIKE\",\"STEVE\",\"DUSTIN\",\"JOYCE\",\"NANCY\",\"ROBIN\",\"MAX\",\"JONATHAN\",\"LUCAS\",\"WILL\",\"ELEVEN\",\"MURRAY\",\"BILLY\",\"ERICA\",\"KAREN\",\"DR BRENNER\",\"MAYOR KLINE\",\"DR OWENS\",\"TOM\"],\"xaxis\":\"x\",\"y\":[10560,8048,6859,6609,6176,6119,5049,4894,3243,3076,3038,2798,2630,2545,1697,1414,1313,1266,786,781],\"yaxis\":\"y\",\"type\":\"bar\"}],                        {\"template\":{\"data\":{\"bar\":[{\"error_x\":{\"color\":\"#2a3f5f\"},\"error_y\":{\"color\":\"#2a3f5f\"},\"marker\":{\"line\":{\"color\":\"#E5ECF6\",\"width\":0.5},\"pattern\":{\"fillmode\":\"overlay\",\"size\":10,\"solidity\":0.2}},\"type\":\"bar\"}],\"barpolar\":[{\"marker\":{\"line\":{\"color\":\"#E5ECF6\",\"width\":0.5},\"pattern\":{\"fillmode\":\"overlay\",\"size\":10,\"solidity\":0.2}},\"type\":\"barpolar\"}],\"carpet\":[{\"aaxis\":{\"endlinecolor\":\"#2a3f5f\",\"gridcolor\":\"white\",\"linecolor\":\"white\",\"minorgridcolor\":\"white\",\"startlinecolor\":\"#2a3f5f\"},\"baxis\":{\"endlinecolor\":\"#2a3f5f\",\"gridcolor\":\"white\",\"linecolor\":\"white\",\"minorgridcolor\":\"white\",\"startlinecolor\":\"#2a3f5f\"},\"type\":\"carpet\"}],\"choropleth\":[{\"colorbar\":{\"outlinewidth\":0,\"ticks\":\"\"},\"type\":\"choropleth\"}],\"contour\":[{\"colorbar\":{\"outlinewidth\":0,\"ticks\":\"\"},\"colorscale\":[[0.0,\"#0d0887\"],[0.1111111111111111,\"#46039f\"],[0.2222222222222222,\"#7201a8\"],[0.3333333333333333,\"#9c179e\"],[0.4444444444444444,\"#bd3786\"],[0.5555555555555556,\"#d8576b\"],[0.6666666666666666,\"#ed7953\"],[0.7777777777777778,\"#fb9f3a\"],[0.8888888888888888,\"#fdca26\"],[1.0,\"#f0f921\"]],\"type\":\"contour\"}],\"contourcarpet\":[{\"colorbar\":{\"outlinewidth\":0,\"ticks\":\"\"},\"type\":\"contourcarpet\"}],\"heatmap\":[{\"colorbar\":{\"outlinewidth\":0,\"ticks\":\"\"},\"colorscale\":[[0.0,\"#0d0887\"],[0.1111111111111111,\"#46039f\"],[0.2222222222222222,\"#7201a8\"],[0.3333333333333333,\"#9c179e\"],[0.4444444444444444,\"#bd3786\"],[0.5555555555555556,\"#d8576b\"],[0.6666666666666666,\"#ed7953\"],[0.7777777777777778,\"#fb9f3a\"],[0.8888888888888888,\"#fdca26\"],[1.0,\"#f0f921\"]],\"type\":\"heatmap\"}],\"heatmapgl\":[{\"colorbar\":{\"outlinewidth\":0,\"ticks\":\"\"},\"colorscale\":[[0.0,\"#0d0887\"],[0.1111111111111111,\"#46039f\"],[0.2222222222222222,\"#7201a8\"],[0.3333333333333333,\"#9c179e\"],[0.4444444444444444,\"#bd3786\"],[0.5555555555555556,\"#d8576b\"],[0.6666666666666666,\"#ed7953\"],[0.7777777777777778,\"#fb9f3a\"],[0.8888888888888888,\"#fdca26\"],[1.0,\"#f0f921\"]],\"type\":\"heatmapgl\"}],\"histogram\":[{\"marker\":{\"pattern\":{\"fillmode\":\"overlay\",\"size\":10,\"solidity\":0.2}},\"type\":\"histogram\"}],\"histogram2d\":[{\"colorbar\":{\"outlinewidth\":0,\"ticks\":\"\"},\"colorscale\":[[0.0,\"#0d0887\"],[0.1111111111111111,\"#46039f\"],[0.2222222222222222,\"#7201a8\"],[0.3333333333333333,\"#9c179e\"],[0.4444444444444444,\"#bd3786\"],[0.5555555555555556,\"#d8576b\"],[0.6666666666666666,\"#ed7953\"],[0.7777777777777778,\"#fb9f3a\"],[0.8888888888888888,\"#fdca26\"],[1.0,\"#f0f921\"]],\"type\":\"histogram2d\"}],\"histogram2dcontour\":[{\"colorbar\":{\"outlinewidth\":0,\"ticks\":\"\"},\"colorscale\":[[0.0,\"#0d0887\"],[0.1111111111111111,\"#46039f\"],[0.2222222222222222,\"#7201a8\"],[0.3333333333333333,\"#9c179e\"],[0.4444444444444444,\"#bd3786\"],[0.5555555555555556,\"#d8576b\"],[0.6666666666666666,\"#ed7953\"],[0.7777777777777778,\"#fb9f3a\"],[0.8888888888888888,\"#fdca26\"],[1.0,\"#f0f921\"]],\"type\":\"histogram2dcontour\"}],\"mesh3d\":[{\"colorbar\":{\"outlinewidth\":0,\"ticks\":\"\"},\"type\":\"mesh3d\"}],\"parcoords\":[{\"line\":{\"colorbar\":{\"outlinewidth\":0,\"ticks\":\"\"}},\"type\":\"parcoords\"}],\"pie\":[{\"automargin\":true,\"type\":\"pie\"}],\"scatter\":[{\"marker\":{\"colorbar\":{\"outlinewidth\":0,\"ticks\":\"\"}},\"type\":\"scatter\"}],\"scatter3d\":[{\"line\":{\"colorbar\":{\"outlinewidth\":0,\"ticks\":\"\"}},\"marker\":{\"colorbar\":{\"outlinewidth\":0,\"ticks\":\"\"}},\"type\":\"scatter3d\"}],\"scattercarpet\":[{\"marker\":{\"colorbar\":{\"outlinewidth\":0,\"ticks\":\"\"}},\"type\":\"scattercarpet\"}],\"scattergeo\":[{\"marker\":{\"colorbar\":{\"outlinewidth\":0,\"ticks\":\"\"}},\"type\":\"scattergeo\"}],\"scattergl\":[{\"marker\":{\"colorbar\":{\"outlinewidth\":0,\"ticks\":\"\"}},\"type\":\"scattergl\"}],\"scattermapbox\":[{\"marker\":{\"colorbar\":{\"outlinewidth\":0,\"ticks\":\"\"}},\"type\":\"scattermapbox\"}],\"scatterpolar\":[{\"marker\":{\"colorbar\":{\"outlinewidth\":0,\"ticks\":\"\"}},\"type\":\"scatterpolar\"}],\"scatterpolargl\":[{\"marker\":{\"colorbar\":{\"outlinewidth\":0,\"ticks\":\"\"}},\"type\":\"scatterpolargl\"}],\"scatterternary\":[{\"marker\":{\"colorbar\":{\"outlinewidth\":0,\"ticks\":\"\"}},\"type\":\"scatterternary\"}],\"surface\":[{\"colorbar\":{\"outlinewidth\":0,\"ticks\":\"\"},\"colorscale\":[[0.0,\"#0d0887\"],[0.1111111111111111,\"#46039f\"],[0.2222222222222222,\"#7201a8\"],[0.3333333333333333,\"#9c179e\"],[0.4444444444444444,\"#bd3786\"],[0.5555555555555556,\"#d8576b\"],[0.6666666666666666,\"#ed7953\"],[0.7777777777777778,\"#fb9f3a\"],[0.8888888888888888,\"#fdca26\"],[1.0,\"#f0f921\"]],\"type\":\"surface\"}],\"table\":[{\"cells\":{\"fill\":{\"color\":\"#EBF0F8\"},\"line\":{\"color\":\"white\"}},\"header\":{\"fill\":{\"color\":\"#C8D4E3\"},\"line\":{\"color\":\"white\"}},\"type\":\"table\"}]},\"layout\":{\"annotationdefaults\":{\"arrowcolor\":\"#2a3f5f\",\"arrowhead\":0,\"arrowwidth\":1},\"autotypenumbers\":\"strict\",\"coloraxis\":{\"colorbar\":{\"outlinewidth\":0,\"ticks\":\"\"}},\"colorscale\":{\"diverging\":[[0,\"#8e0152\"],[0.1,\"#c51b7d\"],[0.2,\"#de77ae\"],[0.3,\"#f1b6da\"],[0.4,\"#fde0ef\"],[0.5,\"#f7f7f7\"],[0.6,\"#e6f5d0\"],[0.7,\"#b8e186\"],[0.8,\"#7fbc41\"],[0.9,\"#4d9221\"],[1,\"#276419\"]],\"sequential\":[[0.0,\"#0d0887\"],[0.1111111111111111,\"#46039f\"],[0.2222222222222222,\"#7201a8\"],[0.3333333333333333,\"#9c179e\"],[0.4444444444444444,\"#bd3786\"],[0.5555555555555556,\"#d8576b\"],[0.6666666666666666,\"#ed7953\"],[0.7777777777777778,\"#fb9f3a\"],[0.8888888888888888,\"#fdca26\"],[1.0,\"#f0f921\"]],\"sequentialminus\":[[0.0,\"#0d0887\"],[0.1111111111111111,\"#46039f\"],[0.2222222222222222,\"#7201a8\"],[0.3333333333333333,\"#9c179e\"],[0.4444444444444444,\"#bd3786\"],[0.5555555555555556,\"#d8576b\"],[0.6666666666666666,\"#ed7953\"],[0.7777777777777778,\"#fb9f3a\"],[0.8888888888888888,\"#fdca26\"],[1.0,\"#f0f921\"]]},\"colorway\":[\"#636efa\",\"#EF553B\",\"#00cc96\",\"#ab63fa\",\"#FFA15A\",\"#19d3f3\",\"#FF6692\",\"#B6E880\",\"#FF97FF\",\"#FECB52\"],\"font\":{\"color\":\"#2a3f5f\"},\"geo\":{\"bgcolor\":\"white\",\"lakecolor\":\"white\",\"landcolor\":\"#E5ECF6\",\"showlakes\":true,\"showland\":true,\"subunitcolor\":\"white\"},\"hoverlabel\":{\"align\":\"left\"},\"hovermode\":\"closest\",\"mapbox\":{\"style\":\"light\"},\"paper_bgcolor\":\"white\",\"plot_bgcolor\":\"#E5ECF6\",\"polar\":{\"angularaxis\":{\"gridcolor\":\"white\",\"linecolor\":\"white\",\"ticks\":\"\"},\"bgcolor\":\"#E5ECF6\",\"radialaxis\":{\"gridcolor\":\"white\",\"linecolor\":\"white\",\"ticks\":\"\"}},\"scene\":{\"xaxis\":{\"backgroundcolor\":\"#E5ECF6\",\"gridcolor\":\"white\",\"gridwidth\":2,\"linecolor\":\"white\",\"showbackground\":true,\"ticks\":\"\",\"zerolinecolor\":\"white\"},\"yaxis\":{\"backgroundcolor\":\"#E5ECF6\",\"gridcolor\":\"white\",\"gridwidth\":2,\"linecolor\":\"white\",\"showbackground\":true,\"ticks\":\"\",\"zerolinecolor\":\"white\"},\"zaxis\":{\"backgroundcolor\":\"#E5ECF6\",\"gridcolor\":\"white\",\"gridwidth\":2,\"linecolor\":\"white\",\"showbackground\":true,\"ticks\":\"\",\"zerolinecolor\":\"white\"}},\"shapedefaults\":{\"line\":{\"color\":\"#2a3f5f\"}},\"ternary\":{\"aaxis\":{\"gridcolor\":\"white\",\"linecolor\":\"white\",\"ticks\":\"\"},\"baxis\":{\"gridcolor\":\"white\",\"linecolor\":\"white\",\"ticks\":\"\"},\"bgcolor\":\"#E5ECF6\",\"caxis\":{\"gridcolor\":\"white\",\"linecolor\":\"white\",\"ticks\":\"\"}},\"title\":{\"x\":0.05},\"xaxis\":{\"automargin\":true,\"gridcolor\":\"white\",\"linecolor\":\"white\",\"ticks\":\"\",\"title\":{\"standoff\":15},\"zerolinecolor\":\"white\",\"zerolinewidth\":2},\"yaxis\":{\"automargin\":true,\"gridcolor\":\"white\",\"linecolor\":\"white\",\"ticks\":\"\",\"title\":{\"standoff\":15},\"zerolinecolor\":\"white\",\"zerolinewidth\":2}}},\"xaxis\":{\"anchor\":\"y\",\"domain\":[0.0,1.0],\"title\":{\"text\":\"Character_Fix\"}},\"yaxis\":{\"anchor\":\"x\",\"domain\":[0.0,1.0],\"title\":{\"text\":\"Dialog_Count\"}},\"legend\":{\"tracegroupgap\":0},\"title\":{\"text\":\"Total Lines spoken by Top 20 Characters\",\"font\":{\"color\":\"white\"}},\"barmode\":\"relative\",\"paper_bgcolor\":\"black\",\"plot_bgcolor\":\"black\"},                        {\"responsive\": true}                    ).then(function(){\n",
       "                            \n",
       "var gd = document.getElementById('dc3d3c32-f011-45f5-b63a-e940d764e928');\n",
       "var x = new MutationObserver(function (mutations, observer) {{\n",
       "        var display = window.getComputedStyle(gd).display;\n",
       "        if (!display || display === 'none') {{\n",
       "            console.log([gd, 'removed!']);\n",
       "            Plotly.purge(gd);\n",
       "            observer.disconnect();\n",
       "        }}\n",
       "}});\n",
       "\n",
       "// Listen for the removal of the full notebook cells\n",
       "var notebookContainer = gd.closest('#notebook-container');\n",
       "if (notebookContainer) {{\n",
       "    x.observe(notebookContainer, {childList: true});\n",
       "}}\n",
       "\n",
       "// Listen for the clearing of the current output cell\n",
       "var outputEl = gd.closest('.output');\n",
       "if (outputEl) {{\n",
       "    x.observe(outputEl, {childList: true});\n",
       "}}\n",
       "\n",
       "                        })                };                });            </script>        </div>"
      ]
     },
     "metadata": {},
     "output_type": "display_data"
    }
   ],
   "source": [
    "fig = px.bar(_20df, x=\"Character_Fix\", y=\"Dialog_Count\",\n",
    "                 hover_name=\"Character_Fix\",\n",
    "                 color_continuous_scale=\"Purplered\", \n",
    "                 title= \"Total Lines spoken by Top 20 Characters\")\n",
    "#fig.update_layout(paper_bgcolor = 'rgba(0, 0, 0, 0)', plot_bgcolor = 'rgba(0, 0, 0, 0)')\n",
    "fig.update_layout(paper_bgcolor = 'black', plot_bgcolor = 'black')\n",
    "fig.update_layout(title_font_color='white') \n",
    "fig.show()"
   ]
  },
  {
   "cell_type": "code",
   "execution_count": 238,
   "id": "6b181333",
   "metadata": {},
   "outputs": [],
   "source": [
    "gender = pd.read_csv('/Users/jacquelineskunda/Documents/GitHub/696/Milestone2/Data/Seasons_Episodes/output/gender_st.csv')"
   ]
  },
  {
   "cell_type": "code",
   "execution_count": 239,
   "id": "986950b6",
   "metadata": {},
   "outputs": [
    {
     "data": {
      "text/html": [
       "<div>\n",
       "<style scoped>\n",
       "    .dataframe tbody tr th:only-of-type {\n",
       "        vertical-align: middle;\n",
       "    }\n",
       "\n",
       "    .dataframe tbody tr th {\n",
       "        vertical-align: top;\n",
       "    }\n",
       "\n",
       "    .dataframe thead th {\n",
       "        text-align: right;\n",
       "    }\n",
       "</style>\n",
       "<table border=\"1\" class=\"dataframe\">\n",
       "  <thead>\n",
       "    <tr style=\"text-align: right;\">\n",
       "      <th></th>\n",
       "      <th>Character_Fix</th>\n",
       "      <th>Gender</th>\n",
       "    </tr>\n",
       "  </thead>\n",
       "  <tbody>\n",
       "    <tr>\n",
       "      <th>0</th>\n",
       "      <td>AGENT FRAZIER</td>\n",
       "      <td>Male</td>\n",
       "    </tr>\n",
       "    <tr>\n",
       "      <th>1</th>\n",
       "      <td>AGENT HARMON</td>\n",
       "      <td>Male</td>\n",
       "    </tr>\n",
       "    <tr>\n",
       "      <th>2</th>\n",
       "      <td>ALEXEI</td>\n",
       "      <td>Male</td>\n",
       "    </tr>\n",
       "    <tr>\n",
       "      <th>3</th>\n",
       "      <td>ANDY</td>\n",
       "      <td>Male</td>\n",
       "    </tr>\n",
       "    <tr>\n",
       "      <th>4</th>\n",
       "      <td>ARGYLE</td>\n",
       "      <td>Male</td>\n",
       "    </tr>\n",
       "    <tr>\n",
       "      <th>...</th>\n",
       "      <td>...</td>\n",
       "      <td>...</td>\n",
       "    </tr>\n",
       "    <tr>\n",
       "      <th>57</th>\n",
       "      <td>VICKIE</td>\n",
       "      <td>Female</td>\n",
       "    </tr>\n",
       "    <tr>\n",
       "      <th>58</th>\n",
       "      <td>VICTOR CREEL</td>\n",
       "      <td>Male</td>\n",
       "    </tr>\n",
       "    <tr>\n",
       "      <th>59</th>\n",
       "      <td>WAYNE</td>\n",
       "      <td>Male</td>\n",
       "    </tr>\n",
       "    <tr>\n",
       "      <th>60</th>\n",
       "      <td>WILL</td>\n",
       "      <td>Male</td>\n",
       "    </tr>\n",
       "    <tr>\n",
       "      <th>61</th>\n",
       "      <td>YURI</td>\n",
       "      <td>Male</td>\n",
       "    </tr>\n",
       "  </tbody>\n",
       "</table>\n",
       "<p>62 rows × 2 columns</p>\n",
       "</div>"
      ],
      "text/plain": [
       "    Character_Fix   Gender\n",
       "0   AGENT FRAZIER     Male\n",
       "1    AGENT HARMON     Male\n",
       "2          ALEXEI    Male \n",
       "3            ANDY     Male\n",
       "4          ARGYLE     Male\n",
       "..            ...      ...\n",
       "57         VICKIE  Female \n",
       "58   VICTOR CREEL     Male\n",
       "59          WAYNE    Male \n",
       "60           WILL     Male\n",
       "61           YURI     Male\n",
       "\n",
       "[62 rows x 2 columns]"
      ]
     },
     "execution_count": 239,
     "metadata": {},
     "output_type": "execute_result"
    }
   ],
   "source": [
    "gender"
   ]
  },
  {
   "cell_type": "code",
   "execution_count": 240,
   "id": "320d60ef",
   "metadata": {},
   "outputs": [],
   "source": [
    "gender_20df = pd.merge(_20df, gender, on=\"Character_Fix\")"
   ]
  },
  {
   "cell_type": "code",
   "execution_count": 241,
   "id": "79bc57c2",
   "metadata": {},
   "outputs": [],
   "source": [
    "gender_20df['Gender'] = gender_20df['Gender'].apply(lambda x: x.strip())"
   ]
  },
  {
   "cell_type": "code",
   "execution_count": 242,
   "id": "5d60f91c",
   "metadata": {},
   "outputs": [
    {
     "data": {
      "application/vnd.plotly.v1+json": {
       "config": {
        "plotlyServerURL": "https://plot.ly"
       },
       "data": [
        {
         "alignmentgroup": "True",
         "hovertemplate": "<b>%{hovertext}</b><br><br>Gender=Male<br>Dialog_Count=%{x}<br>Character_Fix=%{y}<extra></extra>",
         "hovertext": [
          "HOPPER",
          "MIKE",
          "STEVE",
          "DUSTIN",
          "JONATHAN",
          "LUCAS",
          "WILL",
          "MURRAY",
          "BILLY",
          "DR BRENNER",
          "MAYOR KLINE",
          "DR OWENS",
          "TOM"
         ],
         "legendgroup": "Male",
         "marker": {
          "color": "#636efa",
          "pattern": {
           "shape": ""
          }
         },
         "name": "Male",
         "offsetgroup": "Male",
         "orientation": "h",
         "showlegend": true,
         "textposition": "auto",
         "type": "bar",
         "x": [
          10560,
          8048,
          6859,
          6609,
          3243,
          3076,
          3038,
          2630,
          2545,
          1313,
          1266,
          786,
          781
         ],
         "xaxis": "x",
         "y": [
          "HOPPER",
          "MIKE",
          "STEVE",
          "DUSTIN",
          "JONATHAN",
          "LUCAS",
          "WILL",
          "MURRAY",
          "BILLY",
          "DR BRENNER",
          "MAYOR KLINE",
          "DR OWENS",
          "TOM"
         ],
         "yaxis": "y"
        },
        {
         "alignmentgroup": "True",
         "hovertemplate": "<b>%{hovertext}</b><br><br>Gender=Female<br>Dialog_Count=%{x}<br>Character_Fix=%{y}<extra></extra>",
         "hovertext": [
          "JOYCE",
          "NANCY",
          "ROBIN",
          "MAX",
          "ELEVEN",
          "ERICA",
          "KAREN"
         ],
         "legendgroup": "Female",
         "marker": {
          "color": "#EF553B",
          "pattern": {
           "shape": ""
          }
         },
         "name": "Female",
         "offsetgroup": "Female",
         "orientation": "h",
         "showlegend": true,
         "textposition": "auto",
         "type": "bar",
         "x": [
          6176,
          6119,
          5049,
          4894,
          2798,
          1697,
          1414
         ],
         "xaxis": "x",
         "y": [
          "JOYCE",
          "NANCY",
          "ROBIN",
          "MAX",
          "ELEVEN",
          "ERICA",
          "KAREN"
         ],
         "yaxis": "y"
        }
       ],
       "layout": {
        "barmode": "relative",
        "legend": {
         "title": {
          "text": "Gender"
         },
         "tracegroupgap": 0
        },
        "paper_bgcolor": "black",
        "plot_bgcolor": "black",
        "template": {
         "data": {
          "bar": [
           {
            "error_x": {
             "color": "#2a3f5f"
            },
            "error_y": {
             "color": "#2a3f5f"
            },
            "marker": {
             "line": {
              "color": "#E5ECF6",
              "width": 0.5
             },
             "pattern": {
              "fillmode": "overlay",
              "size": 10,
              "solidity": 0.2
             }
            },
            "type": "bar"
           }
          ],
          "barpolar": [
           {
            "marker": {
             "line": {
              "color": "#E5ECF6",
              "width": 0.5
             },
             "pattern": {
              "fillmode": "overlay",
              "size": 10,
              "solidity": 0.2
             }
            },
            "type": "barpolar"
           }
          ],
          "carpet": [
           {
            "aaxis": {
             "endlinecolor": "#2a3f5f",
             "gridcolor": "white",
             "linecolor": "white",
             "minorgridcolor": "white",
             "startlinecolor": "#2a3f5f"
            },
            "baxis": {
             "endlinecolor": "#2a3f5f",
             "gridcolor": "white",
             "linecolor": "white",
             "minorgridcolor": "white",
             "startlinecolor": "#2a3f5f"
            },
            "type": "carpet"
           }
          ],
          "choropleth": [
           {
            "colorbar": {
             "outlinewidth": 0,
             "ticks": ""
            },
            "type": "choropleth"
           }
          ],
          "contour": [
           {
            "colorbar": {
             "outlinewidth": 0,
             "ticks": ""
            },
            "colorscale": [
             [
              0,
              "#0d0887"
             ],
             [
              0.1111111111111111,
              "#46039f"
             ],
             [
              0.2222222222222222,
              "#7201a8"
             ],
             [
              0.3333333333333333,
              "#9c179e"
             ],
             [
              0.4444444444444444,
              "#bd3786"
             ],
             [
              0.5555555555555556,
              "#d8576b"
             ],
             [
              0.6666666666666666,
              "#ed7953"
             ],
             [
              0.7777777777777778,
              "#fb9f3a"
             ],
             [
              0.8888888888888888,
              "#fdca26"
             ],
             [
              1,
              "#f0f921"
             ]
            ],
            "type": "contour"
           }
          ],
          "contourcarpet": [
           {
            "colorbar": {
             "outlinewidth": 0,
             "ticks": ""
            },
            "type": "contourcarpet"
           }
          ],
          "heatmap": [
           {
            "colorbar": {
             "outlinewidth": 0,
             "ticks": ""
            },
            "colorscale": [
             [
              0,
              "#0d0887"
             ],
             [
              0.1111111111111111,
              "#46039f"
             ],
             [
              0.2222222222222222,
              "#7201a8"
             ],
             [
              0.3333333333333333,
              "#9c179e"
             ],
             [
              0.4444444444444444,
              "#bd3786"
             ],
             [
              0.5555555555555556,
              "#d8576b"
             ],
             [
              0.6666666666666666,
              "#ed7953"
             ],
             [
              0.7777777777777778,
              "#fb9f3a"
             ],
             [
              0.8888888888888888,
              "#fdca26"
             ],
             [
              1,
              "#f0f921"
             ]
            ],
            "type": "heatmap"
           }
          ],
          "heatmapgl": [
           {
            "colorbar": {
             "outlinewidth": 0,
             "ticks": ""
            },
            "colorscale": [
             [
              0,
              "#0d0887"
             ],
             [
              0.1111111111111111,
              "#46039f"
             ],
             [
              0.2222222222222222,
              "#7201a8"
             ],
             [
              0.3333333333333333,
              "#9c179e"
             ],
             [
              0.4444444444444444,
              "#bd3786"
             ],
             [
              0.5555555555555556,
              "#d8576b"
             ],
             [
              0.6666666666666666,
              "#ed7953"
             ],
             [
              0.7777777777777778,
              "#fb9f3a"
             ],
             [
              0.8888888888888888,
              "#fdca26"
             ],
             [
              1,
              "#f0f921"
             ]
            ],
            "type": "heatmapgl"
           }
          ],
          "histogram": [
           {
            "marker": {
             "pattern": {
              "fillmode": "overlay",
              "size": 10,
              "solidity": 0.2
             }
            },
            "type": "histogram"
           }
          ],
          "histogram2d": [
           {
            "colorbar": {
             "outlinewidth": 0,
             "ticks": ""
            },
            "colorscale": [
             [
              0,
              "#0d0887"
             ],
             [
              0.1111111111111111,
              "#46039f"
             ],
             [
              0.2222222222222222,
              "#7201a8"
             ],
             [
              0.3333333333333333,
              "#9c179e"
             ],
             [
              0.4444444444444444,
              "#bd3786"
             ],
             [
              0.5555555555555556,
              "#d8576b"
             ],
             [
              0.6666666666666666,
              "#ed7953"
             ],
             [
              0.7777777777777778,
              "#fb9f3a"
             ],
             [
              0.8888888888888888,
              "#fdca26"
             ],
             [
              1,
              "#f0f921"
             ]
            ],
            "type": "histogram2d"
           }
          ],
          "histogram2dcontour": [
           {
            "colorbar": {
             "outlinewidth": 0,
             "ticks": ""
            },
            "colorscale": [
             [
              0,
              "#0d0887"
             ],
             [
              0.1111111111111111,
              "#46039f"
             ],
             [
              0.2222222222222222,
              "#7201a8"
             ],
             [
              0.3333333333333333,
              "#9c179e"
             ],
             [
              0.4444444444444444,
              "#bd3786"
             ],
             [
              0.5555555555555556,
              "#d8576b"
             ],
             [
              0.6666666666666666,
              "#ed7953"
             ],
             [
              0.7777777777777778,
              "#fb9f3a"
             ],
             [
              0.8888888888888888,
              "#fdca26"
             ],
             [
              1,
              "#f0f921"
             ]
            ],
            "type": "histogram2dcontour"
           }
          ],
          "mesh3d": [
           {
            "colorbar": {
             "outlinewidth": 0,
             "ticks": ""
            },
            "type": "mesh3d"
           }
          ],
          "parcoords": [
           {
            "line": {
             "colorbar": {
              "outlinewidth": 0,
              "ticks": ""
             }
            },
            "type": "parcoords"
           }
          ],
          "pie": [
           {
            "automargin": true,
            "type": "pie"
           }
          ],
          "scatter": [
           {
            "marker": {
             "colorbar": {
              "outlinewidth": 0,
              "ticks": ""
             }
            },
            "type": "scatter"
           }
          ],
          "scatter3d": [
           {
            "line": {
             "colorbar": {
              "outlinewidth": 0,
              "ticks": ""
             }
            },
            "marker": {
             "colorbar": {
              "outlinewidth": 0,
              "ticks": ""
             }
            },
            "type": "scatter3d"
           }
          ],
          "scattercarpet": [
           {
            "marker": {
             "colorbar": {
              "outlinewidth": 0,
              "ticks": ""
             }
            },
            "type": "scattercarpet"
           }
          ],
          "scattergeo": [
           {
            "marker": {
             "colorbar": {
              "outlinewidth": 0,
              "ticks": ""
             }
            },
            "type": "scattergeo"
           }
          ],
          "scattergl": [
           {
            "marker": {
             "colorbar": {
              "outlinewidth": 0,
              "ticks": ""
             }
            },
            "type": "scattergl"
           }
          ],
          "scattermapbox": [
           {
            "marker": {
             "colorbar": {
              "outlinewidth": 0,
              "ticks": ""
             }
            },
            "type": "scattermapbox"
           }
          ],
          "scatterpolar": [
           {
            "marker": {
             "colorbar": {
              "outlinewidth": 0,
              "ticks": ""
             }
            },
            "type": "scatterpolar"
           }
          ],
          "scatterpolargl": [
           {
            "marker": {
             "colorbar": {
              "outlinewidth": 0,
              "ticks": ""
             }
            },
            "type": "scatterpolargl"
           }
          ],
          "scatterternary": [
           {
            "marker": {
             "colorbar": {
              "outlinewidth": 0,
              "ticks": ""
             }
            },
            "type": "scatterternary"
           }
          ],
          "surface": [
           {
            "colorbar": {
             "outlinewidth": 0,
             "ticks": ""
            },
            "colorscale": [
             [
              0,
              "#0d0887"
             ],
             [
              0.1111111111111111,
              "#46039f"
             ],
             [
              0.2222222222222222,
              "#7201a8"
             ],
             [
              0.3333333333333333,
              "#9c179e"
             ],
             [
              0.4444444444444444,
              "#bd3786"
             ],
             [
              0.5555555555555556,
              "#d8576b"
             ],
             [
              0.6666666666666666,
              "#ed7953"
             ],
             [
              0.7777777777777778,
              "#fb9f3a"
             ],
             [
              0.8888888888888888,
              "#fdca26"
             ],
             [
              1,
              "#f0f921"
             ]
            ],
            "type": "surface"
           }
          ],
          "table": [
           {
            "cells": {
             "fill": {
              "color": "#EBF0F8"
             },
             "line": {
              "color": "white"
             }
            },
            "header": {
             "fill": {
              "color": "#C8D4E3"
             },
             "line": {
              "color": "white"
             }
            },
            "type": "table"
           }
          ]
         },
         "layout": {
          "annotationdefaults": {
           "arrowcolor": "#2a3f5f",
           "arrowhead": 0,
           "arrowwidth": 1
          },
          "autotypenumbers": "strict",
          "coloraxis": {
           "colorbar": {
            "outlinewidth": 0,
            "ticks": ""
           }
          },
          "colorscale": {
           "diverging": [
            [
             0,
             "#8e0152"
            ],
            [
             0.1,
             "#c51b7d"
            ],
            [
             0.2,
             "#de77ae"
            ],
            [
             0.3,
             "#f1b6da"
            ],
            [
             0.4,
             "#fde0ef"
            ],
            [
             0.5,
             "#f7f7f7"
            ],
            [
             0.6,
             "#e6f5d0"
            ],
            [
             0.7,
             "#b8e186"
            ],
            [
             0.8,
             "#7fbc41"
            ],
            [
             0.9,
             "#4d9221"
            ],
            [
             1,
             "#276419"
            ]
           ],
           "sequential": [
            [
             0,
             "#0d0887"
            ],
            [
             0.1111111111111111,
             "#46039f"
            ],
            [
             0.2222222222222222,
             "#7201a8"
            ],
            [
             0.3333333333333333,
             "#9c179e"
            ],
            [
             0.4444444444444444,
             "#bd3786"
            ],
            [
             0.5555555555555556,
             "#d8576b"
            ],
            [
             0.6666666666666666,
             "#ed7953"
            ],
            [
             0.7777777777777778,
             "#fb9f3a"
            ],
            [
             0.8888888888888888,
             "#fdca26"
            ],
            [
             1,
             "#f0f921"
            ]
           ],
           "sequentialminus": [
            [
             0,
             "#0d0887"
            ],
            [
             0.1111111111111111,
             "#46039f"
            ],
            [
             0.2222222222222222,
             "#7201a8"
            ],
            [
             0.3333333333333333,
             "#9c179e"
            ],
            [
             0.4444444444444444,
             "#bd3786"
            ],
            [
             0.5555555555555556,
             "#d8576b"
            ],
            [
             0.6666666666666666,
             "#ed7953"
            ],
            [
             0.7777777777777778,
             "#fb9f3a"
            ],
            [
             0.8888888888888888,
             "#fdca26"
            ],
            [
             1,
             "#f0f921"
            ]
           ]
          },
          "colorway": [
           "#636efa",
           "#EF553B",
           "#00cc96",
           "#ab63fa",
           "#FFA15A",
           "#19d3f3",
           "#FF6692",
           "#B6E880",
           "#FF97FF",
           "#FECB52"
          ],
          "font": {
           "color": "#2a3f5f"
          },
          "geo": {
           "bgcolor": "white",
           "lakecolor": "white",
           "landcolor": "#E5ECF6",
           "showlakes": true,
           "showland": true,
           "subunitcolor": "white"
          },
          "hoverlabel": {
           "align": "left"
          },
          "hovermode": "closest",
          "mapbox": {
           "style": "light"
          },
          "paper_bgcolor": "white",
          "plot_bgcolor": "#E5ECF6",
          "polar": {
           "angularaxis": {
            "gridcolor": "white",
            "linecolor": "white",
            "ticks": ""
           },
           "bgcolor": "#E5ECF6",
           "radialaxis": {
            "gridcolor": "white",
            "linecolor": "white",
            "ticks": ""
           }
          },
          "scene": {
           "xaxis": {
            "backgroundcolor": "#E5ECF6",
            "gridcolor": "white",
            "gridwidth": 2,
            "linecolor": "white",
            "showbackground": true,
            "ticks": "",
            "zerolinecolor": "white"
           },
           "yaxis": {
            "backgroundcolor": "#E5ECF6",
            "gridcolor": "white",
            "gridwidth": 2,
            "linecolor": "white",
            "showbackground": true,
            "ticks": "",
            "zerolinecolor": "white"
           },
           "zaxis": {
            "backgroundcolor": "#E5ECF6",
            "gridcolor": "white",
            "gridwidth": 2,
            "linecolor": "white",
            "showbackground": true,
            "ticks": "",
            "zerolinecolor": "white"
           }
          },
          "shapedefaults": {
           "line": {
            "color": "#2a3f5f"
           }
          },
          "ternary": {
           "aaxis": {
            "gridcolor": "white",
            "linecolor": "white",
            "ticks": ""
           },
           "baxis": {
            "gridcolor": "white",
            "linecolor": "white",
            "ticks": ""
           },
           "bgcolor": "#E5ECF6",
           "caxis": {
            "gridcolor": "white",
            "linecolor": "white",
            "ticks": ""
           }
          },
          "title": {
           "x": 0.05
          },
          "xaxis": {
           "automargin": true,
           "gridcolor": "white",
           "linecolor": "white",
           "ticks": "",
           "title": {
            "standoff": 15
           },
           "zerolinecolor": "white",
           "zerolinewidth": 2
          },
          "yaxis": {
           "automargin": true,
           "gridcolor": "white",
           "linecolor": "white",
           "ticks": "",
           "title": {
            "standoff": 15
           },
           "zerolinecolor": "white",
           "zerolinewidth": 2
          }
         }
        },
        "title": {
         "font": {
          "color": "white"
         },
         "text": "Total Lines spoken by Top 20 Characters by Gender"
        },
        "xaxis": {
         "anchor": "y",
         "domain": [
          0,
          1
         ],
         "title": {
          "text": "Dialog_Count"
         }
        },
        "yaxis": {
         "anchor": "x",
         "domain": [
          0,
          1
         ],
         "title": {
          "text": "Character_Fix"
         }
        }
       }
      },
      "text/html": [
       "<div>                            <div id=\"4cdc21b1-5eb6-45df-967f-c02ea60e543a\" class=\"plotly-graph-div\" style=\"height:525px; width:100%;\"></div>            <script type=\"text/javascript\">                require([\"plotly\"], function(Plotly) {                    window.PLOTLYENV=window.PLOTLYENV || {};                                    if (document.getElementById(\"4cdc21b1-5eb6-45df-967f-c02ea60e543a\")) {                    Plotly.newPlot(                        \"4cdc21b1-5eb6-45df-967f-c02ea60e543a\",                        [{\"alignmentgroup\":\"True\",\"hovertemplate\":\"<b>%{hovertext}</b><br><br>Gender=Male<br>Dialog_Count=%{x}<br>Character_Fix=%{y}<extra></extra>\",\"hovertext\":[\"HOPPER\",\"MIKE\",\"STEVE\",\"DUSTIN\",\"JONATHAN\",\"LUCAS\",\"WILL\",\"MURRAY\",\"BILLY\",\"DR BRENNER\",\"MAYOR KLINE\",\"DR OWENS\",\"TOM\"],\"legendgroup\":\"Male\",\"marker\":{\"color\":\"#636efa\",\"pattern\":{\"shape\":\"\"}},\"name\":\"Male\",\"offsetgroup\":\"Male\",\"orientation\":\"h\",\"showlegend\":true,\"textposition\":\"auto\",\"x\":[10560,8048,6859,6609,3243,3076,3038,2630,2545,1313,1266,786,781],\"xaxis\":\"x\",\"y\":[\"HOPPER\",\"MIKE\",\"STEVE\",\"DUSTIN\",\"JONATHAN\",\"LUCAS\",\"WILL\",\"MURRAY\",\"BILLY\",\"DR BRENNER\",\"MAYOR KLINE\",\"DR OWENS\",\"TOM\"],\"yaxis\":\"y\",\"type\":\"bar\"},{\"alignmentgroup\":\"True\",\"hovertemplate\":\"<b>%{hovertext}</b><br><br>Gender=Female<br>Dialog_Count=%{x}<br>Character_Fix=%{y}<extra></extra>\",\"hovertext\":[\"JOYCE\",\"NANCY\",\"ROBIN\",\"MAX\",\"ELEVEN\",\"ERICA\",\"KAREN\"],\"legendgroup\":\"Female\",\"marker\":{\"color\":\"#EF553B\",\"pattern\":{\"shape\":\"\"}},\"name\":\"Female\",\"offsetgroup\":\"Female\",\"orientation\":\"h\",\"showlegend\":true,\"textposition\":\"auto\",\"x\":[6176,6119,5049,4894,2798,1697,1414],\"xaxis\":\"x\",\"y\":[\"JOYCE\",\"NANCY\",\"ROBIN\",\"MAX\",\"ELEVEN\",\"ERICA\",\"KAREN\"],\"yaxis\":\"y\",\"type\":\"bar\"}],                        {\"template\":{\"data\":{\"bar\":[{\"error_x\":{\"color\":\"#2a3f5f\"},\"error_y\":{\"color\":\"#2a3f5f\"},\"marker\":{\"line\":{\"color\":\"#E5ECF6\",\"width\":0.5},\"pattern\":{\"fillmode\":\"overlay\",\"size\":10,\"solidity\":0.2}},\"type\":\"bar\"}],\"barpolar\":[{\"marker\":{\"line\":{\"color\":\"#E5ECF6\",\"width\":0.5},\"pattern\":{\"fillmode\":\"overlay\",\"size\":10,\"solidity\":0.2}},\"type\":\"barpolar\"}],\"carpet\":[{\"aaxis\":{\"endlinecolor\":\"#2a3f5f\",\"gridcolor\":\"white\",\"linecolor\":\"white\",\"minorgridcolor\":\"white\",\"startlinecolor\":\"#2a3f5f\"},\"baxis\":{\"endlinecolor\":\"#2a3f5f\",\"gridcolor\":\"white\",\"linecolor\":\"white\",\"minorgridcolor\":\"white\",\"startlinecolor\":\"#2a3f5f\"},\"type\":\"carpet\"}],\"choropleth\":[{\"colorbar\":{\"outlinewidth\":0,\"ticks\":\"\"},\"type\":\"choropleth\"}],\"contour\":[{\"colorbar\":{\"outlinewidth\":0,\"ticks\":\"\"},\"colorscale\":[[0.0,\"#0d0887\"],[0.1111111111111111,\"#46039f\"],[0.2222222222222222,\"#7201a8\"],[0.3333333333333333,\"#9c179e\"],[0.4444444444444444,\"#bd3786\"],[0.5555555555555556,\"#d8576b\"],[0.6666666666666666,\"#ed7953\"],[0.7777777777777778,\"#fb9f3a\"],[0.8888888888888888,\"#fdca26\"],[1.0,\"#f0f921\"]],\"type\":\"contour\"}],\"contourcarpet\":[{\"colorbar\":{\"outlinewidth\":0,\"ticks\":\"\"},\"type\":\"contourcarpet\"}],\"heatmap\":[{\"colorbar\":{\"outlinewidth\":0,\"ticks\":\"\"},\"colorscale\":[[0.0,\"#0d0887\"],[0.1111111111111111,\"#46039f\"],[0.2222222222222222,\"#7201a8\"],[0.3333333333333333,\"#9c179e\"],[0.4444444444444444,\"#bd3786\"],[0.5555555555555556,\"#d8576b\"],[0.6666666666666666,\"#ed7953\"],[0.7777777777777778,\"#fb9f3a\"],[0.8888888888888888,\"#fdca26\"],[1.0,\"#f0f921\"]],\"type\":\"heatmap\"}],\"heatmapgl\":[{\"colorbar\":{\"outlinewidth\":0,\"ticks\":\"\"},\"colorscale\":[[0.0,\"#0d0887\"],[0.1111111111111111,\"#46039f\"],[0.2222222222222222,\"#7201a8\"],[0.3333333333333333,\"#9c179e\"],[0.4444444444444444,\"#bd3786\"],[0.5555555555555556,\"#d8576b\"],[0.6666666666666666,\"#ed7953\"],[0.7777777777777778,\"#fb9f3a\"],[0.8888888888888888,\"#fdca26\"],[1.0,\"#f0f921\"]],\"type\":\"heatmapgl\"}],\"histogram\":[{\"marker\":{\"pattern\":{\"fillmode\":\"overlay\",\"size\":10,\"solidity\":0.2}},\"type\":\"histogram\"}],\"histogram2d\":[{\"colorbar\":{\"outlinewidth\":0,\"ticks\":\"\"},\"colorscale\":[[0.0,\"#0d0887\"],[0.1111111111111111,\"#46039f\"],[0.2222222222222222,\"#7201a8\"],[0.3333333333333333,\"#9c179e\"],[0.4444444444444444,\"#bd3786\"],[0.5555555555555556,\"#d8576b\"],[0.6666666666666666,\"#ed7953\"],[0.7777777777777778,\"#fb9f3a\"],[0.8888888888888888,\"#fdca26\"],[1.0,\"#f0f921\"]],\"type\":\"histogram2d\"}],\"histogram2dcontour\":[{\"colorbar\":{\"outlinewidth\":0,\"ticks\":\"\"},\"colorscale\":[[0.0,\"#0d0887\"],[0.1111111111111111,\"#46039f\"],[0.2222222222222222,\"#7201a8\"],[0.3333333333333333,\"#9c179e\"],[0.4444444444444444,\"#bd3786\"],[0.5555555555555556,\"#d8576b\"],[0.6666666666666666,\"#ed7953\"],[0.7777777777777778,\"#fb9f3a\"],[0.8888888888888888,\"#fdca26\"],[1.0,\"#f0f921\"]],\"type\":\"histogram2dcontour\"}],\"mesh3d\":[{\"colorbar\":{\"outlinewidth\":0,\"ticks\":\"\"},\"type\":\"mesh3d\"}],\"parcoords\":[{\"line\":{\"colorbar\":{\"outlinewidth\":0,\"ticks\":\"\"}},\"type\":\"parcoords\"}],\"pie\":[{\"automargin\":true,\"type\":\"pie\"}],\"scatter\":[{\"marker\":{\"colorbar\":{\"outlinewidth\":0,\"ticks\":\"\"}},\"type\":\"scatter\"}],\"scatter3d\":[{\"line\":{\"colorbar\":{\"outlinewidth\":0,\"ticks\":\"\"}},\"marker\":{\"colorbar\":{\"outlinewidth\":0,\"ticks\":\"\"}},\"type\":\"scatter3d\"}],\"scattercarpet\":[{\"marker\":{\"colorbar\":{\"outlinewidth\":0,\"ticks\":\"\"}},\"type\":\"scattercarpet\"}],\"scattergeo\":[{\"marker\":{\"colorbar\":{\"outlinewidth\":0,\"ticks\":\"\"}},\"type\":\"scattergeo\"}],\"scattergl\":[{\"marker\":{\"colorbar\":{\"outlinewidth\":0,\"ticks\":\"\"}},\"type\":\"scattergl\"}],\"scattermapbox\":[{\"marker\":{\"colorbar\":{\"outlinewidth\":0,\"ticks\":\"\"}},\"type\":\"scattermapbox\"}],\"scatterpolar\":[{\"marker\":{\"colorbar\":{\"outlinewidth\":0,\"ticks\":\"\"}},\"type\":\"scatterpolar\"}],\"scatterpolargl\":[{\"marker\":{\"colorbar\":{\"outlinewidth\":0,\"ticks\":\"\"}},\"type\":\"scatterpolargl\"}],\"scatterternary\":[{\"marker\":{\"colorbar\":{\"outlinewidth\":0,\"ticks\":\"\"}},\"type\":\"scatterternary\"}],\"surface\":[{\"colorbar\":{\"outlinewidth\":0,\"ticks\":\"\"},\"colorscale\":[[0.0,\"#0d0887\"],[0.1111111111111111,\"#46039f\"],[0.2222222222222222,\"#7201a8\"],[0.3333333333333333,\"#9c179e\"],[0.4444444444444444,\"#bd3786\"],[0.5555555555555556,\"#d8576b\"],[0.6666666666666666,\"#ed7953\"],[0.7777777777777778,\"#fb9f3a\"],[0.8888888888888888,\"#fdca26\"],[1.0,\"#f0f921\"]],\"type\":\"surface\"}],\"table\":[{\"cells\":{\"fill\":{\"color\":\"#EBF0F8\"},\"line\":{\"color\":\"white\"}},\"header\":{\"fill\":{\"color\":\"#C8D4E3\"},\"line\":{\"color\":\"white\"}},\"type\":\"table\"}]},\"layout\":{\"annotationdefaults\":{\"arrowcolor\":\"#2a3f5f\",\"arrowhead\":0,\"arrowwidth\":1},\"autotypenumbers\":\"strict\",\"coloraxis\":{\"colorbar\":{\"outlinewidth\":0,\"ticks\":\"\"}},\"colorscale\":{\"diverging\":[[0,\"#8e0152\"],[0.1,\"#c51b7d\"],[0.2,\"#de77ae\"],[0.3,\"#f1b6da\"],[0.4,\"#fde0ef\"],[0.5,\"#f7f7f7\"],[0.6,\"#e6f5d0\"],[0.7,\"#b8e186\"],[0.8,\"#7fbc41\"],[0.9,\"#4d9221\"],[1,\"#276419\"]],\"sequential\":[[0.0,\"#0d0887\"],[0.1111111111111111,\"#46039f\"],[0.2222222222222222,\"#7201a8\"],[0.3333333333333333,\"#9c179e\"],[0.4444444444444444,\"#bd3786\"],[0.5555555555555556,\"#d8576b\"],[0.6666666666666666,\"#ed7953\"],[0.7777777777777778,\"#fb9f3a\"],[0.8888888888888888,\"#fdca26\"],[1.0,\"#f0f921\"]],\"sequentialminus\":[[0.0,\"#0d0887\"],[0.1111111111111111,\"#46039f\"],[0.2222222222222222,\"#7201a8\"],[0.3333333333333333,\"#9c179e\"],[0.4444444444444444,\"#bd3786\"],[0.5555555555555556,\"#d8576b\"],[0.6666666666666666,\"#ed7953\"],[0.7777777777777778,\"#fb9f3a\"],[0.8888888888888888,\"#fdca26\"],[1.0,\"#f0f921\"]]},\"colorway\":[\"#636efa\",\"#EF553B\",\"#00cc96\",\"#ab63fa\",\"#FFA15A\",\"#19d3f3\",\"#FF6692\",\"#B6E880\",\"#FF97FF\",\"#FECB52\"],\"font\":{\"color\":\"#2a3f5f\"},\"geo\":{\"bgcolor\":\"white\",\"lakecolor\":\"white\",\"landcolor\":\"#E5ECF6\",\"showlakes\":true,\"showland\":true,\"subunitcolor\":\"white\"},\"hoverlabel\":{\"align\":\"left\"},\"hovermode\":\"closest\",\"mapbox\":{\"style\":\"light\"},\"paper_bgcolor\":\"white\",\"plot_bgcolor\":\"#E5ECF6\",\"polar\":{\"angularaxis\":{\"gridcolor\":\"white\",\"linecolor\":\"white\",\"ticks\":\"\"},\"bgcolor\":\"#E5ECF6\",\"radialaxis\":{\"gridcolor\":\"white\",\"linecolor\":\"white\",\"ticks\":\"\"}},\"scene\":{\"xaxis\":{\"backgroundcolor\":\"#E5ECF6\",\"gridcolor\":\"white\",\"gridwidth\":2,\"linecolor\":\"white\",\"showbackground\":true,\"ticks\":\"\",\"zerolinecolor\":\"white\"},\"yaxis\":{\"backgroundcolor\":\"#E5ECF6\",\"gridcolor\":\"white\",\"gridwidth\":2,\"linecolor\":\"white\",\"showbackground\":true,\"ticks\":\"\",\"zerolinecolor\":\"white\"},\"zaxis\":{\"backgroundcolor\":\"#E5ECF6\",\"gridcolor\":\"white\",\"gridwidth\":2,\"linecolor\":\"white\",\"showbackground\":true,\"ticks\":\"\",\"zerolinecolor\":\"white\"}},\"shapedefaults\":{\"line\":{\"color\":\"#2a3f5f\"}},\"ternary\":{\"aaxis\":{\"gridcolor\":\"white\",\"linecolor\":\"white\",\"ticks\":\"\"},\"baxis\":{\"gridcolor\":\"white\",\"linecolor\":\"white\",\"ticks\":\"\"},\"bgcolor\":\"#E5ECF6\",\"caxis\":{\"gridcolor\":\"white\",\"linecolor\":\"white\",\"ticks\":\"\"}},\"title\":{\"x\":0.05},\"xaxis\":{\"automargin\":true,\"gridcolor\":\"white\",\"linecolor\":\"white\",\"ticks\":\"\",\"title\":{\"standoff\":15},\"zerolinecolor\":\"white\",\"zerolinewidth\":2},\"yaxis\":{\"automargin\":true,\"gridcolor\":\"white\",\"linecolor\":\"white\",\"ticks\":\"\",\"title\":{\"standoff\":15},\"zerolinecolor\":\"white\",\"zerolinewidth\":2}}},\"xaxis\":{\"anchor\":\"y\",\"domain\":[0.0,1.0],\"title\":{\"text\":\"Dialog_Count\"}},\"yaxis\":{\"anchor\":\"x\",\"domain\":[0.0,1.0],\"title\":{\"text\":\"Character_Fix\"}},\"legend\":{\"title\":{\"text\":\"Gender\"},\"tracegroupgap\":0},\"title\":{\"text\":\"Total Lines spoken by Top 20 Characters by Gender\",\"font\":{\"color\":\"white\"}},\"barmode\":\"relative\",\"paper_bgcolor\":\"black\",\"plot_bgcolor\":\"black\"},                        {\"responsive\": true}                    ).then(function(){\n",
       "                            \n",
       "var gd = document.getElementById('4cdc21b1-5eb6-45df-967f-c02ea60e543a');\n",
       "var x = new MutationObserver(function (mutations, observer) {{\n",
       "        var display = window.getComputedStyle(gd).display;\n",
       "        if (!display || display === 'none') {{\n",
       "            console.log([gd, 'removed!']);\n",
       "            Plotly.purge(gd);\n",
       "            observer.disconnect();\n",
       "        }}\n",
       "}});\n",
       "\n",
       "// Listen for the removal of the full notebook cells\n",
       "var notebookContainer = gd.closest('#notebook-container');\n",
       "if (notebookContainer) {{\n",
       "    x.observe(notebookContainer, {childList: true});\n",
       "}}\n",
       "\n",
       "// Listen for the clearing of the current output cell\n",
       "var outputEl = gd.closest('.output');\n",
       "if (outputEl) {{\n",
       "    x.observe(outputEl, {childList: true});\n",
       "}}\n",
       "\n",
       "                        })                };                });            </script>        </div>"
      ]
     },
     "metadata": {},
     "output_type": "display_data"
    }
   ],
   "source": [
    "fig = px.bar(gender_20df, y=\"Character_Fix\", x=\"Dialog_Count\",\n",
    "                 hover_name=\"Character_Fix\",color = 'Gender',\n",
    "                 color_continuous_scale=\"Bluered\", \n",
    "                 title= \"Total Lines spoken by Top 20 Characters by Gender\")\n",
    "#fig.update_layout(paper_bgcolor = 'rgba(0, 0, 0, 0)', plot_bgcolor = 'rgba(0, 0, 0, 0)')\n",
    "fig.update_layout(paper_bgcolor = 'black', plot_bgcolor = 'black')\n",
    "fig.update_layout(title_font_color='white') \n",
    "fig.show()"
   ]
  },
  {
   "cell_type": "code",
   "execution_count": 243,
   "id": "a97404d5",
   "metadata": {},
   "outputs": [
    {
     "data": {
      "text/html": [
       "<div>\n",
       "<style scoped>\n",
       "    .dataframe tbody tr th:only-of-type {\n",
       "        vertical-align: middle;\n",
       "    }\n",
       "\n",
       "    .dataframe tbody tr th {\n",
       "        vertical-align: top;\n",
       "    }\n",
       "\n",
       "    .dataframe thead th {\n",
       "        text-align: right;\n",
       "    }\n",
       "</style>\n",
       "<table border=\"1\" class=\"dataframe\">\n",
       "  <thead>\n",
       "    <tr style=\"text-align: right;\">\n",
       "      <th></th>\n",
       "      <th>Character_Fix</th>\n",
       "      <th>Gender</th>\n",
       "    </tr>\n",
       "  </thead>\n",
       "  <tbody>\n",
       "    <tr>\n",
       "      <th>0</th>\n",
       "      <td>AGENT FRAZIER</td>\n",
       "      <td>Male</td>\n",
       "    </tr>\n",
       "    <tr>\n",
       "      <th>1</th>\n",
       "      <td>AGENT HARMON</td>\n",
       "      <td>Male</td>\n",
       "    </tr>\n",
       "    <tr>\n",
       "      <th>2</th>\n",
       "      <td>ALEXEI</td>\n",
       "      <td>Male</td>\n",
       "    </tr>\n",
       "    <tr>\n",
       "      <th>3</th>\n",
       "      <td>ANDY</td>\n",
       "      <td>Male</td>\n",
       "    </tr>\n",
       "    <tr>\n",
       "      <th>4</th>\n",
       "      <td>ARGYLE</td>\n",
       "      <td>Male</td>\n",
       "    </tr>\n",
       "    <tr>\n",
       "      <th>...</th>\n",
       "      <td>...</td>\n",
       "      <td>...</td>\n",
       "    </tr>\n",
       "    <tr>\n",
       "      <th>57</th>\n",
       "      <td>VICKIE</td>\n",
       "      <td>Female</td>\n",
       "    </tr>\n",
       "    <tr>\n",
       "      <th>58</th>\n",
       "      <td>VICTOR CREEL</td>\n",
       "      <td>Male</td>\n",
       "    </tr>\n",
       "    <tr>\n",
       "      <th>59</th>\n",
       "      <td>WAYNE</td>\n",
       "      <td>Male</td>\n",
       "    </tr>\n",
       "    <tr>\n",
       "      <th>60</th>\n",
       "      <td>WILL</td>\n",
       "      <td>Male</td>\n",
       "    </tr>\n",
       "    <tr>\n",
       "      <th>61</th>\n",
       "      <td>YURI</td>\n",
       "      <td>Male</td>\n",
       "    </tr>\n",
       "  </tbody>\n",
       "</table>\n",
       "<p>62 rows × 2 columns</p>\n",
       "</div>"
      ],
      "text/plain": [
       "    Character_Fix   Gender\n",
       "0   AGENT FRAZIER     Male\n",
       "1    AGENT HARMON     Male\n",
       "2          ALEXEI    Male \n",
       "3            ANDY     Male\n",
       "4          ARGYLE     Male\n",
       "..            ...      ...\n",
       "57         VICKIE  Female \n",
       "58   VICTOR CREEL     Male\n",
       "59          WAYNE    Male \n",
       "60           WILL     Male\n",
       "61           YURI     Male\n",
       "\n",
       "[62 rows x 2 columns]"
      ]
     },
     "execution_count": 243,
     "metadata": {},
     "output_type": "execute_result"
    }
   ],
   "source": [
    "gender"
   ]
  },
  {
   "cell_type": "code",
   "execution_count": 244,
   "id": "3d5ae9e4",
   "metadata": {},
   "outputs": [],
   "source": [
    "fulldf_gen = pd.merge(df, gender, on=\"Character_Fix\")\n",
    "fulldf_gen['Gender'] = fulldf_gen['Gender'].apply(lambda x: x.strip())\n",
    "eggos = fulldf_gen.groupby(['Gender'])['Dialog_Count'].sum().reset_index()"
   ]
  },
  {
   "cell_type": "code",
   "execution_count": 245,
   "id": "38cf8010",
   "metadata": {},
   "outputs": [],
   "source": [
    "Total = eggos['Dialog_Count'].sum()\n",
    "eggos['percent'] = eggos.Dialog_Count.apply(lambda x: x/Total)\n"
   ]
  },
  {
   "cell_type": "code",
   "execution_count": 246,
   "id": "9323f00c",
   "metadata": {},
   "outputs": [
    {
     "data": {
      "application/vnd.plotly.v1+json": {
       "config": {
        "plotlyServerURL": "https://plot.ly"
       },
       "data": [
        {
         "customdata": [
          [
           "Female"
          ],
          [
           "Male"
          ],
          [
           "Neutral"
          ]
         ],
         "domain": {
          "x": [
           0,
           1
          ],
          "y": [
           0,
           1
          ]
         },
         "hovertemplate": "Gender=%{customdata[0]}<br>percent=%{value}<extra></extra>",
         "labels": [
          "Female",
          "Male",
          "Neutral"
         ],
         "legendgroup": "",
         "marker": {
          "colors": [
           "blue",
           "purple",
           "red"
          ]
         },
         "name": "",
         "showlegend": true,
         "type": "pie",
         "values": [
          0.345077071838917,
          0.6548432967407998,
          7.963142028326034e-05
         ]
        }
       ],
       "layout": {
        "legend": {
         "tracegroupgap": 0
        },
        "paper_bgcolor": "black",
        "piecolorway": [
         "blue",
         "purple",
         "red"
        ],
        "plot_bgcolor": "black",
        "template": {
         "data": {
          "bar": [
           {
            "error_x": {
             "color": "#2a3f5f"
            },
            "error_y": {
             "color": "#2a3f5f"
            },
            "marker": {
             "line": {
              "color": "#E5ECF6",
              "width": 0.5
             },
             "pattern": {
              "fillmode": "overlay",
              "size": 10,
              "solidity": 0.2
             }
            },
            "type": "bar"
           }
          ],
          "barpolar": [
           {
            "marker": {
             "line": {
              "color": "#E5ECF6",
              "width": 0.5
             },
             "pattern": {
              "fillmode": "overlay",
              "size": 10,
              "solidity": 0.2
             }
            },
            "type": "barpolar"
           }
          ],
          "carpet": [
           {
            "aaxis": {
             "endlinecolor": "#2a3f5f",
             "gridcolor": "white",
             "linecolor": "white",
             "minorgridcolor": "white",
             "startlinecolor": "#2a3f5f"
            },
            "baxis": {
             "endlinecolor": "#2a3f5f",
             "gridcolor": "white",
             "linecolor": "white",
             "minorgridcolor": "white",
             "startlinecolor": "#2a3f5f"
            },
            "type": "carpet"
           }
          ],
          "choropleth": [
           {
            "colorbar": {
             "outlinewidth": 0,
             "ticks": ""
            },
            "type": "choropleth"
           }
          ],
          "contour": [
           {
            "colorbar": {
             "outlinewidth": 0,
             "ticks": ""
            },
            "colorscale": [
             [
              0,
              "#0d0887"
             ],
             [
              0.1111111111111111,
              "#46039f"
             ],
             [
              0.2222222222222222,
              "#7201a8"
             ],
             [
              0.3333333333333333,
              "#9c179e"
             ],
             [
              0.4444444444444444,
              "#bd3786"
             ],
             [
              0.5555555555555556,
              "#d8576b"
             ],
             [
              0.6666666666666666,
              "#ed7953"
             ],
             [
              0.7777777777777778,
              "#fb9f3a"
             ],
             [
              0.8888888888888888,
              "#fdca26"
             ],
             [
              1,
              "#f0f921"
             ]
            ],
            "type": "contour"
           }
          ],
          "contourcarpet": [
           {
            "colorbar": {
             "outlinewidth": 0,
             "ticks": ""
            },
            "type": "contourcarpet"
           }
          ],
          "heatmap": [
           {
            "colorbar": {
             "outlinewidth": 0,
             "ticks": ""
            },
            "colorscale": [
             [
              0,
              "#0d0887"
             ],
             [
              0.1111111111111111,
              "#46039f"
             ],
             [
              0.2222222222222222,
              "#7201a8"
             ],
             [
              0.3333333333333333,
              "#9c179e"
             ],
             [
              0.4444444444444444,
              "#bd3786"
             ],
             [
              0.5555555555555556,
              "#d8576b"
             ],
             [
              0.6666666666666666,
              "#ed7953"
             ],
             [
              0.7777777777777778,
              "#fb9f3a"
             ],
             [
              0.8888888888888888,
              "#fdca26"
             ],
             [
              1,
              "#f0f921"
             ]
            ],
            "type": "heatmap"
           }
          ],
          "heatmapgl": [
           {
            "colorbar": {
             "outlinewidth": 0,
             "ticks": ""
            },
            "colorscale": [
             [
              0,
              "#0d0887"
             ],
             [
              0.1111111111111111,
              "#46039f"
             ],
             [
              0.2222222222222222,
              "#7201a8"
             ],
             [
              0.3333333333333333,
              "#9c179e"
             ],
             [
              0.4444444444444444,
              "#bd3786"
             ],
             [
              0.5555555555555556,
              "#d8576b"
             ],
             [
              0.6666666666666666,
              "#ed7953"
             ],
             [
              0.7777777777777778,
              "#fb9f3a"
             ],
             [
              0.8888888888888888,
              "#fdca26"
             ],
             [
              1,
              "#f0f921"
             ]
            ],
            "type": "heatmapgl"
           }
          ],
          "histogram": [
           {
            "marker": {
             "pattern": {
              "fillmode": "overlay",
              "size": 10,
              "solidity": 0.2
             }
            },
            "type": "histogram"
           }
          ],
          "histogram2d": [
           {
            "colorbar": {
             "outlinewidth": 0,
             "ticks": ""
            },
            "colorscale": [
             [
              0,
              "#0d0887"
             ],
             [
              0.1111111111111111,
              "#46039f"
             ],
             [
              0.2222222222222222,
              "#7201a8"
             ],
             [
              0.3333333333333333,
              "#9c179e"
             ],
             [
              0.4444444444444444,
              "#bd3786"
             ],
             [
              0.5555555555555556,
              "#d8576b"
             ],
             [
              0.6666666666666666,
              "#ed7953"
             ],
             [
              0.7777777777777778,
              "#fb9f3a"
             ],
             [
              0.8888888888888888,
              "#fdca26"
             ],
             [
              1,
              "#f0f921"
             ]
            ],
            "type": "histogram2d"
           }
          ],
          "histogram2dcontour": [
           {
            "colorbar": {
             "outlinewidth": 0,
             "ticks": ""
            },
            "colorscale": [
             [
              0,
              "#0d0887"
             ],
             [
              0.1111111111111111,
              "#46039f"
             ],
             [
              0.2222222222222222,
              "#7201a8"
             ],
             [
              0.3333333333333333,
              "#9c179e"
             ],
             [
              0.4444444444444444,
              "#bd3786"
             ],
             [
              0.5555555555555556,
              "#d8576b"
             ],
             [
              0.6666666666666666,
              "#ed7953"
             ],
             [
              0.7777777777777778,
              "#fb9f3a"
             ],
             [
              0.8888888888888888,
              "#fdca26"
             ],
             [
              1,
              "#f0f921"
             ]
            ],
            "type": "histogram2dcontour"
           }
          ],
          "mesh3d": [
           {
            "colorbar": {
             "outlinewidth": 0,
             "ticks": ""
            },
            "type": "mesh3d"
           }
          ],
          "parcoords": [
           {
            "line": {
             "colorbar": {
              "outlinewidth": 0,
              "ticks": ""
             }
            },
            "type": "parcoords"
           }
          ],
          "pie": [
           {
            "automargin": true,
            "type": "pie"
           }
          ],
          "scatter": [
           {
            "marker": {
             "colorbar": {
              "outlinewidth": 0,
              "ticks": ""
             }
            },
            "type": "scatter"
           }
          ],
          "scatter3d": [
           {
            "line": {
             "colorbar": {
              "outlinewidth": 0,
              "ticks": ""
             }
            },
            "marker": {
             "colorbar": {
              "outlinewidth": 0,
              "ticks": ""
             }
            },
            "type": "scatter3d"
           }
          ],
          "scattercarpet": [
           {
            "marker": {
             "colorbar": {
              "outlinewidth": 0,
              "ticks": ""
             }
            },
            "type": "scattercarpet"
           }
          ],
          "scattergeo": [
           {
            "marker": {
             "colorbar": {
              "outlinewidth": 0,
              "ticks": ""
             }
            },
            "type": "scattergeo"
           }
          ],
          "scattergl": [
           {
            "marker": {
             "colorbar": {
              "outlinewidth": 0,
              "ticks": ""
             }
            },
            "type": "scattergl"
           }
          ],
          "scattermapbox": [
           {
            "marker": {
             "colorbar": {
              "outlinewidth": 0,
              "ticks": ""
             }
            },
            "type": "scattermapbox"
           }
          ],
          "scatterpolar": [
           {
            "marker": {
             "colorbar": {
              "outlinewidth": 0,
              "ticks": ""
             }
            },
            "type": "scatterpolar"
           }
          ],
          "scatterpolargl": [
           {
            "marker": {
             "colorbar": {
              "outlinewidth": 0,
              "ticks": ""
             }
            },
            "type": "scatterpolargl"
           }
          ],
          "scatterternary": [
           {
            "marker": {
             "colorbar": {
              "outlinewidth": 0,
              "ticks": ""
             }
            },
            "type": "scatterternary"
           }
          ],
          "surface": [
           {
            "colorbar": {
             "outlinewidth": 0,
             "ticks": ""
            },
            "colorscale": [
             [
              0,
              "#0d0887"
             ],
             [
              0.1111111111111111,
              "#46039f"
             ],
             [
              0.2222222222222222,
              "#7201a8"
             ],
             [
              0.3333333333333333,
              "#9c179e"
             ],
             [
              0.4444444444444444,
              "#bd3786"
             ],
             [
              0.5555555555555556,
              "#d8576b"
             ],
             [
              0.6666666666666666,
              "#ed7953"
             ],
             [
              0.7777777777777778,
              "#fb9f3a"
             ],
             [
              0.8888888888888888,
              "#fdca26"
             ],
             [
              1,
              "#f0f921"
             ]
            ],
            "type": "surface"
           }
          ],
          "table": [
           {
            "cells": {
             "fill": {
              "color": "#EBF0F8"
             },
             "line": {
              "color": "white"
             }
            },
            "header": {
             "fill": {
              "color": "#C8D4E3"
             },
             "line": {
              "color": "white"
             }
            },
            "type": "table"
           }
          ]
         },
         "layout": {
          "annotationdefaults": {
           "arrowcolor": "#2a3f5f",
           "arrowhead": 0,
           "arrowwidth": 1
          },
          "autotypenumbers": "strict",
          "coloraxis": {
           "colorbar": {
            "outlinewidth": 0,
            "ticks": ""
           }
          },
          "colorscale": {
           "diverging": [
            [
             0,
             "#8e0152"
            ],
            [
             0.1,
             "#c51b7d"
            ],
            [
             0.2,
             "#de77ae"
            ],
            [
             0.3,
             "#f1b6da"
            ],
            [
             0.4,
             "#fde0ef"
            ],
            [
             0.5,
             "#f7f7f7"
            ],
            [
             0.6,
             "#e6f5d0"
            ],
            [
             0.7,
             "#b8e186"
            ],
            [
             0.8,
             "#7fbc41"
            ],
            [
             0.9,
             "#4d9221"
            ],
            [
             1,
             "#276419"
            ]
           ],
           "sequential": [
            [
             0,
             "#0d0887"
            ],
            [
             0.1111111111111111,
             "#46039f"
            ],
            [
             0.2222222222222222,
             "#7201a8"
            ],
            [
             0.3333333333333333,
             "#9c179e"
            ],
            [
             0.4444444444444444,
             "#bd3786"
            ],
            [
             0.5555555555555556,
             "#d8576b"
            ],
            [
             0.6666666666666666,
             "#ed7953"
            ],
            [
             0.7777777777777778,
             "#fb9f3a"
            ],
            [
             0.8888888888888888,
             "#fdca26"
            ],
            [
             1,
             "#f0f921"
            ]
           ],
           "sequentialminus": [
            [
             0,
             "#0d0887"
            ],
            [
             0.1111111111111111,
             "#46039f"
            ],
            [
             0.2222222222222222,
             "#7201a8"
            ],
            [
             0.3333333333333333,
             "#9c179e"
            ],
            [
             0.4444444444444444,
             "#bd3786"
            ],
            [
             0.5555555555555556,
             "#d8576b"
            ],
            [
             0.6666666666666666,
             "#ed7953"
            ],
            [
             0.7777777777777778,
             "#fb9f3a"
            ],
            [
             0.8888888888888888,
             "#fdca26"
            ],
            [
             1,
             "#f0f921"
            ]
           ]
          },
          "colorway": [
           "#636efa",
           "#EF553B",
           "#00cc96",
           "#ab63fa",
           "#FFA15A",
           "#19d3f3",
           "#FF6692",
           "#B6E880",
           "#FF97FF",
           "#FECB52"
          ],
          "font": {
           "color": "#2a3f5f"
          },
          "geo": {
           "bgcolor": "white",
           "lakecolor": "white",
           "landcolor": "#E5ECF6",
           "showlakes": true,
           "showland": true,
           "subunitcolor": "white"
          },
          "hoverlabel": {
           "align": "left"
          },
          "hovermode": "closest",
          "mapbox": {
           "style": "light"
          },
          "paper_bgcolor": "white",
          "plot_bgcolor": "#E5ECF6",
          "polar": {
           "angularaxis": {
            "gridcolor": "white",
            "linecolor": "white",
            "ticks": ""
           },
           "bgcolor": "#E5ECF6",
           "radialaxis": {
            "gridcolor": "white",
            "linecolor": "white",
            "ticks": ""
           }
          },
          "scene": {
           "xaxis": {
            "backgroundcolor": "#E5ECF6",
            "gridcolor": "white",
            "gridwidth": 2,
            "linecolor": "white",
            "showbackground": true,
            "ticks": "",
            "zerolinecolor": "white"
           },
           "yaxis": {
            "backgroundcolor": "#E5ECF6",
            "gridcolor": "white",
            "gridwidth": 2,
            "linecolor": "white",
            "showbackground": true,
            "ticks": "",
            "zerolinecolor": "white"
           },
           "zaxis": {
            "backgroundcolor": "#E5ECF6",
            "gridcolor": "white",
            "gridwidth": 2,
            "linecolor": "white",
            "showbackground": true,
            "ticks": "",
            "zerolinecolor": "white"
           }
          },
          "shapedefaults": {
           "line": {
            "color": "#2a3f5f"
           }
          },
          "ternary": {
           "aaxis": {
            "gridcolor": "white",
            "linecolor": "white",
            "ticks": ""
           },
           "baxis": {
            "gridcolor": "white",
            "linecolor": "white",
            "ticks": ""
           },
           "bgcolor": "#E5ECF6",
           "caxis": {
            "gridcolor": "white",
            "linecolor": "white",
            "ticks": ""
           }
          },
          "title": {
           "x": 0.05
          },
          "xaxis": {
           "automargin": true,
           "gridcolor": "white",
           "linecolor": "white",
           "ticks": "",
           "title": {
            "standoff": 15
           },
           "zerolinecolor": "white",
           "zerolinewidth": 2
          },
          "yaxis": {
           "automargin": true,
           "gridcolor": "white",
           "linecolor": "white",
           "ticks": "",
           "title": {
            "standoff": 15
           },
           "zerolinecolor": "white",
           "zerolinewidth": 2
          }
         }
        },
        "title": {
         "font": {
          "color": "white"
         },
         "text": "% of Lines Spoken by Each Gender"
        }
       }
      },
      "text/html": [
       "<div>                            <div id=\"e7eaba3d-6b3a-4690-b3f7-08c9d218fa39\" class=\"plotly-graph-div\" style=\"height:525px; width:100%;\"></div>            <script type=\"text/javascript\">                require([\"plotly\"], function(Plotly) {                    window.PLOTLYENV=window.PLOTLYENV || {};                                    if (document.getElementById(\"e7eaba3d-6b3a-4690-b3f7-08c9d218fa39\")) {                    Plotly.newPlot(                        \"e7eaba3d-6b3a-4690-b3f7-08c9d218fa39\",                        [{\"customdata\":[[\"Female\"],[\"Male\"],[\"Neutral\"]],\"domain\":{\"x\":[0.0,1.0],\"y\":[0.0,1.0]},\"hovertemplate\":\"Gender=%{customdata[0]}<br>percent=%{value}<extra></extra>\",\"labels\":[\"Female\",\"Male\",\"Neutral\"],\"legendgroup\":\"\",\"marker\":{\"colors\":[\"blue\",\"purple\",\"red\"]},\"name\":\"\",\"showlegend\":true,\"values\":[0.345077071838917,0.6548432967407998,7.963142028326034e-05],\"type\":\"pie\"}],                        {\"template\":{\"data\":{\"bar\":[{\"error_x\":{\"color\":\"#2a3f5f\"},\"error_y\":{\"color\":\"#2a3f5f\"},\"marker\":{\"line\":{\"color\":\"#E5ECF6\",\"width\":0.5},\"pattern\":{\"fillmode\":\"overlay\",\"size\":10,\"solidity\":0.2}},\"type\":\"bar\"}],\"barpolar\":[{\"marker\":{\"line\":{\"color\":\"#E5ECF6\",\"width\":0.5},\"pattern\":{\"fillmode\":\"overlay\",\"size\":10,\"solidity\":0.2}},\"type\":\"barpolar\"}],\"carpet\":[{\"aaxis\":{\"endlinecolor\":\"#2a3f5f\",\"gridcolor\":\"white\",\"linecolor\":\"white\",\"minorgridcolor\":\"white\",\"startlinecolor\":\"#2a3f5f\"},\"baxis\":{\"endlinecolor\":\"#2a3f5f\",\"gridcolor\":\"white\",\"linecolor\":\"white\",\"minorgridcolor\":\"white\",\"startlinecolor\":\"#2a3f5f\"},\"type\":\"carpet\"}],\"choropleth\":[{\"colorbar\":{\"outlinewidth\":0,\"ticks\":\"\"},\"type\":\"choropleth\"}],\"contour\":[{\"colorbar\":{\"outlinewidth\":0,\"ticks\":\"\"},\"colorscale\":[[0.0,\"#0d0887\"],[0.1111111111111111,\"#46039f\"],[0.2222222222222222,\"#7201a8\"],[0.3333333333333333,\"#9c179e\"],[0.4444444444444444,\"#bd3786\"],[0.5555555555555556,\"#d8576b\"],[0.6666666666666666,\"#ed7953\"],[0.7777777777777778,\"#fb9f3a\"],[0.8888888888888888,\"#fdca26\"],[1.0,\"#f0f921\"]],\"type\":\"contour\"}],\"contourcarpet\":[{\"colorbar\":{\"outlinewidth\":0,\"ticks\":\"\"},\"type\":\"contourcarpet\"}],\"heatmap\":[{\"colorbar\":{\"outlinewidth\":0,\"ticks\":\"\"},\"colorscale\":[[0.0,\"#0d0887\"],[0.1111111111111111,\"#46039f\"],[0.2222222222222222,\"#7201a8\"],[0.3333333333333333,\"#9c179e\"],[0.4444444444444444,\"#bd3786\"],[0.5555555555555556,\"#d8576b\"],[0.6666666666666666,\"#ed7953\"],[0.7777777777777778,\"#fb9f3a\"],[0.8888888888888888,\"#fdca26\"],[1.0,\"#f0f921\"]],\"type\":\"heatmap\"}],\"heatmapgl\":[{\"colorbar\":{\"outlinewidth\":0,\"ticks\":\"\"},\"colorscale\":[[0.0,\"#0d0887\"],[0.1111111111111111,\"#46039f\"],[0.2222222222222222,\"#7201a8\"],[0.3333333333333333,\"#9c179e\"],[0.4444444444444444,\"#bd3786\"],[0.5555555555555556,\"#d8576b\"],[0.6666666666666666,\"#ed7953\"],[0.7777777777777778,\"#fb9f3a\"],[0.8888888888888888,\"#fdca26\"],[1.0,\"#f0f921\"]],\"type\":\"heatmapgl\"}],\"histogram\":[{\"marker\":{\"pattern\":{\"fillmode\":\"overlay\",\"size\":10,\"solidity\":0.2}},\"type\":\"histogram\"}],\"histogram2d\":[{\"colorbar\":{\"outlinewidth\":0,\"ticks\":\"\"},\"colorscale\":[[0.0,\"#0d0887\"],[0.1111111111111111,\"#46039f\"],[0.2222222222222222,\"#7201a8\"],[0.3333333333333333,\"#9c179e\"],[0.4444444444444444,\"#bd3786\"],[0.5555555555555556,\"#d8576b\"],[0.6666666666666666,\"#ed7953\"],[0.7777777777777778,\"#fb9f3a\"],[0.8888888888888888,\"#fdca26\"],[1.0,\"#f0f921\"]],\"type\":\"histogram2d\"}],\"histogram2dcontour\":[{\"colorbar\":{\"outlinewidth\":0,\"ticks\":\"\"},\"colorscale\":[[0.0,\"#0d0887\"],[0.1111111111111111,\"#46039f\"],[0.2222222222222222,\"#7201a8\"],[0.3333333333333333,\"#9c179e\"],[0.4444444444444444,\"#bd3786\"],[0.5555555555555556,\"#d8576b\"],[0.6666666666666666,\"#ed7953\"],[0.7777777777777778,\"#fb9f3a\"],[0.8888888888888888,\"#fdca26\"],[1.0,\"#f0f921\"]],\"type\":\"histogram2dcontour\"}],\"mesh3d\":[{\"colorbar\":{\"outlinewidth\":0,\"ticks\":\"\"},\"type\":\"mesh3d\"}],\"parcoords\":[{\"line\":{\"colorbar\":{\"outlinewidth\":0,\"ticks\":\"\"}},\"type\":\"parcoords\"}],\"pie\":[{\"automargin\":true,\"type\":\"pie\"}],\"scatter\":[{\"marker\":{\"colorbar\":{\"outlinewidth\":0,\"ticks\":\"\"}},\"type\":\"scatter\"}],\"scatter3d\":[{\"line\":{\"colorbar\":{\"outlinewidth\":0,\"ticks\":\"\"}},\"marker\":{\"colorbar\":{\"outlinewidth\":0,\"ticks\":\"\"}},\"type\":\"scatter3d\"}],\"scattercarpet\":[{\"marker\":{\"colorbar\":{\"outlinewidth\":0,\"ticks\":\"\"}},\"type\":\"scattercarpet\"}],\"scattergeo\":[{\"marker\":{\"colorbar\":{\"outlinewidth\":0,\"ticks\":\"\"}},\"type\":\"scattergeo\"}],\"scattergl\":[{\"marker\":{\"colorbar\":{\"outlinewidth\":0,\"ticks\":\"\"}},\"type\":\"scattergl\"}],\"scattermapbox\":[{\"marker\":{\"colorbar\":{\"outlinewidth\":0,\"ticks\":\"\"}},\"type\":\"scattermapbox\"}],\"scatterpolar\":[{\"marker\":{\"colorbar\":{\"outlinewidth\":0,\"ticks\":\"\"}},\"type\":\"scatterpolar\"}],\"scatterpolargl\":[{\"marker\":{\"colorbar\":{\"outlinewidth\":0,\"ticks\":\"\"}},\"type\":\"scatterpolargl\"}],\"scatterternary\":[{\"marker\":{\"colorbar\":{\"outlinewidth\":0,\"ticks\":\"\"}},\"type\":\"scatterternary\"}],\"surface\":[{\"colorbar\":{\"outlinewidth\":0,\"ticks\":\"\"},\"colorscale\":[[0.0,\"#0d0887\"],[0.1111111111111111,\"#46039f\"],[0.2222222222222222,\"#7201a8\"],[0.3333333333333333,\"#9c179e\"],[0.4444444444444444,\"#bd3786\"],[0.5555555555555556,\"#d8576b\"],[0.6666666666666666,\"#ed7953\"],[0.7777777777777778,\"#fb9f3a\"],[0.8888888888888888,\"#fdca26\"],[1.0,\"#f0f921\"]],\"type\":\"surface\"}],\"table\":[{\"cells\":{\"fill\":{\"color\":\"#EBF0F8\"},\"line\":{\"color\":\"white\"}},\"header\":{\"fill\":{\"color\":\"#C8D4E3\"},\"line\":{\"color\":\"white\"}},\"type\":\"table\"}]},\"layout\":{\"annotationdefaults\":{\"arrowcolor\":\"#2a3f5f\",\"arrowhead\":0,\"arrowwidth\":1},\"autotypenumbers\":\"strict\",\"coloraxis\":{\"colorbar\":{\"outlinewidth\":0,\"ticks\":\"\"}},\"colorscale\":{\"diverging\":[[0,\"#8e0152\"],[0.1,\"#c51b7d\"],[0.2,\"#de77ae\"],[0.3,\"#f1b6da\"],[0.4,\"#fde0ef\"],[0.5,\"#f7f7f7\"],[0.6,\"#e6f5d0\"],[0.7,\"#b8e186\"],[0.8,\"#7fbc41\"],[0.9,\"#4d9221\"],[1,\"#276419\"]],\"sequential\":[[0.0,\"#0d0887\"],[0.1111111111111111,\"#46039f\"],[0.2222222222222222,\"#7201a8\"],[0.3333333333333333,\"#9c179e\"],[0.4444444444444444,\"#bd3786\"],[0.5555555555555556,\"#d8576b\"],[0.6666666666666666,\"#ed7953\"],[0.7777777777777778,\"#fb9f3a\"],[0.8888888888888888,\"#fdca26\"],[1.0,\"#f0f921\"]],\"sequentialminus\":[[0.0,\"#0d0887\"],[0.1111111111111111,\"#46039f\"],[0.2222222222222222,\"#7201a8\"],[0.3333333333333333,\"#9c179e\"],[0.4444444444444444,\"#bd3786\"],[0.5555555555555556,\"#d8576b\"],[0.6666666666666666,\"#ed7953\"],[0.7777777777777778,\"#fb9f3a\"],[0.8888888888888888,\"#fdca26\"],[1.0,\"#f0f921\"]]},\"colorway\":[\"#636efa\",\"#EF553B\",\"#00cc96\",\"#ab63fa\",\"#FFA15A\",\"#19d3f3\",\"#FF6692\",\"#B6E880\",\"#FF97FF\",\"#FECB52\"],\"font\":{\"color\":\"#2a3f5f\"},\"geo\":{\"bgcolor\":\"white\",\"lakecolor\":\"white\",\"landcolor\":\"#E5ECF6\",\"showlakes\":true,\"showland\":true,\"subunitcolor\":\"white\"},\"hoverlabel\":{\"align\":\"left\"},\"hovermode\":\"closest\",\"mapbox\":{\"style\":\"light\"},\"paper_bgcolor\":\"white\",\"plot_bgcolor\":\"#E5ECF6\",\"polar\":{\"angularaxis\":{\"gridcolor\":\"white\",\"linecolor\":\"white\",\"ticks\":\"\"},\"bgcolor\":\"#E5ECF6\",\"radialaxis\":{\"gridcolor\":\"white\",\"linecolor\":\"white\",\"ticks\":\"\"}},\"scene\":{\"xaxis\":{\"backgroundcolor\":\"#E5ECF6\",\"gridcolor\":\"white\",\"gridwidth\":2,\"linecolor\":\"white\",\"showbackground\":true,\"ticks\":\"\",\"zerolinecolor\":\"white\"},\"yaxis\":{\"backgroundcolor\":\"#E5ECF6\",\"gridcolor\":\"white\",\"gridwidth\":2,\"linecolor\":\"white\",\"showbackground\":true,\"ticks\":\"\",\"zerolinecolor\":\"white\"},\"zaxis\":{\"backgroundcolor\":\"#E5ECF6\",\"gridcolor\":\"white\",\"gridwidth\":2,\"linecolor\":\"white\",\"showbackground\":true,\"ticks\":\"\",\"zerolinecolor\":\"white\"}},\"shapedefaults\":{\"line\":{\"color\":\"#2a3f5f\"}},\"ternary\":{\"aaxis\":{\"gridcolor\":\"white\",\"linecolor\":\"white\",\"ticks\":\"\"},\"baxis\":{\"gridcolor\":\"white\",\"linecolor\":\"white\",\"ticks\":\"\"},\"bgcolor\":\"#E5ECF6\",\"caxis\":{\"gridcolor\":\"white\",\"linecolor\":\"white\",\"ticks\":\"\"}},\"title\":{\"x\":0.05},\"xaxis\":{\"automargin\":true,\"gridcolor\":\"white\",\"linecolor\":\"white\",\"ticks\":\"\",\"title\":{\"standoff\":15},\"zerolinecolor\":\"white\",\"zerolinewidth\":2},\"yaxis\":{\"automargin\":true,\"gridcolor\":\"white\",\"linecolor\":\"white\",\"ticks\":\"\",\"title\":{\"standoff\":15},\"zerolinecolor\":\"white\",\"zerolinewidth\":2}}},\"legend\":{\"tracegroupgap\":0},\"title\":{\"text\":\"% of Lines Spoken by Each Gender\",\"font\":{\"color\":\"white\"}},\"piecolorway\":[\"blue\",\"purple\",\"red\"],\"paper_bgcolor\":\"black\",\"plot_bgcolor\":\"black\"},                        {\"responsive\": true}                    ).then(function(){\n",
       "                            \n",
       "var gd = document.getElementById('e7eaba3d-6b3a-4690-b3f7-08c9d218fa39');\n",
       "var x = new MutationObserver(function (mutations, observer) {{\n",
       "        var display = window.getComputedStyle(gd).display;\n",
       "        if (!display || display === 'none') {{\n",
       "            console.log([gd, 'removed!']);\n",
       "            Plotly.purge(gd);\n",
       "            observer.disconnect();\n",
       "        }}\n",
       "}});\n",
       "\n",
       "// Listen for the removal of the full notebook cells\n",
       "var notebookContainer = gd.closest('#notebook-container');\n",
       "if (notebookContainer) {{\n",
       "    x.observe(notebookContainer, {childList: true});\n",
       "}}\n",
       "\n",
       "// Listen for the clearing of the current output cell\n",
       "var outputEl = gd.closest('.output');\n",
       "if (outputEl) {{\n",
       "    x.observe(outputEl, {childList: true});\n",
       "}}\n",
       "\n",
       "                        })                };                });            </script>        </div>"
      ]
     },
     "metadata": {},
     "output_type": "display_data"
    }
   ],
   "source": [
    "fig = px.pie(eggos, values='percent', color = 'Gender',\n",
    "             names='Gender', color_discrete_sequence=('blue',\"purple\",\"red\"),\n",
    "             title='% of Lines Spoken by Each Gender')\n",
    "fig.update_layout(paper_bgcolor = 'black', plot_bgcolor = 'black')\n",
    "fig.update_layout(title_font_color='white') \n",
    "#font={'family':'Droid Serif'}\n",
    "fig.show()"
   ]
  },
  {
   "cell_type": "code",
   "execution_count": 247,
   "id": "3f019c1b",
   "metadata": {},
   "outputs": [],
   "source": [
    "sent_dict = top20dfv2.groupby('Character_Fix')['Dialog_clean'].apply(list).reset_index()#.apply(list).to_dict()"
   ]
  },
  {
   "cell_type": "code",
   "execution_count": 248,
   "id": "7c20cf2d",
   "metadata": {},
   "outputs": [],
   "source": [
    "sent_dict['Dialog_clean'] = sent_dict['Dialog_clean'].apply(lambda x: \".\".join(str(e) for e in x))"
   ]
  },
  {
   "cell_type": "code",
   "execution_count": 249,
   "id": "4e09569b",
   "metadata": {},
   "outputs": [
    {
     "data": {
      "text/html": [
       "<div>\n",
       "<style scoped>\n",
       "    .dataframe tbody tr th:only-of-type {\n",
       "        vertical-align: middle;\n",
       "    }\n",
       "\n",
       "    .dataframe tbody tr th {\n",
       "        vertical-align: top;\n",
       "    }\n",
       "\n",
       "    .dataframe thead th {\n",
       "        text-align: right;\n",
       "    }\n",
       "</style>\n",
       "<table border=\"1\" class=\"dataframe\">\n",
       "  <thead>\n",
       "    <tr style=\"text-align: right;\">\n",
       "      <th></th>\n",
       "      <th>Character_Fix</th>\n",
       "      <th>Dialog_clean</th>\n",
       "    </tr>\n",
       "  </thead>\n",
       "  <tbody>\n",
       "    <tr>\n",
       "      <th>0</th>\n",
       "      <td>BILLY</td>\n",
       "      <td>Dont be afraid Itll be over  soon Just try and...</td>\n",
       "    </tr>\n",
       "    <tr>\n",
       "      <th>1</th>\n",
       "      <td>DUSTIN</td>\n",
       "      <td>Shit Shit.Why dont these buttons work.What do ...</td>\n",
       "    </tr>\n",
       "    <tr>\n",
       "      <th>2</th>\n",
       "      <td>ELEVEN</td>\n",
       "      <td>JONATHAN . KAREN WHEELER .I found him MIKE WI...</td>\n",
       "    </tr>\n",
       "    <tr>\n",
       "      <th>3</th>\n",
       "      <td>ERICA</td>\n",
       "      <td>Press the button.JUST THEN the elevator comes ...</td>\n",
       "    </tr>\n",
       "    <tr>\n",
       "      <th>4</th>\n",
       "      <td>HOPPER</td>\n",
       "      <td>Looks like somebodys home As the truck parks w...</td>\n",
       "    </tr>\n",
       "    <tr>\n",
       "      <th>5</th>\n",
       "      <td>JONATHAN</td>\n",
       "      <td>LUCAS .to himself God Shut up FIFTH RI  It do...</td>\n",
       "    </tr>\n",
       "    <tr>\n",
       "      <th>6</th>\n",
       "      <td>JOYCE</td>\n",
       "      <td>Did you hear that Hopper says nothing He and J...</td>\n",
       "    </tr>\n",
       "    <tr>\n",
       "      <th>7</th>\n",
       "      <td>KAREN</td>\n",
       "      <td>Mike Breakfast.Hey youre home early She doesnt...</td>\n",
       "    </tr>\n",
       "    <tr>\n",
       "      <th>8</th>\n",
       "      <td>LUCAS</td>\n",
       "      <td>What does it matter The bottom  line is theyre...</td>\n",
       "    </tr>\n",
       "    <tr>\n",
       "      <th>9</th>\n",
       "      <td>MAX</td>\n",
       "      <td>Where is he Woods Woods.What are they doing.We...</td>\n",
       "    </tr>\n",
       "    <tr>\n",
       "      <th>10</th>\n",
       "      <td>MAYOR KLINE</td>\n",
       "      <td>signals Hopper to come  in Ah Tony hang on Hop...</td>\n",
       "    </tr>\n",
       "    <tr>\n",
       "      <th>11</th>\n",
       "      <td>MIKE</td>\n",
       "      <td>Somethings not right I cant get  Hopper off my...</td>\n",
       "    </tr>\n",
       "    <tr>\n",
       "      <th>12</th>\n",
       "      <td>MURRAY</td>\n",
       "      <td>Hopper leans toward the buzzer The camera Abov...</td>\n",
       "    </tr>\n",
       "    <tr>\n",
       "      <th>13</th>\n",
       "      <td>NANCY</td>\n",
       "      <td>Jonathan.Listen to me okay. Im at the hospital...</td>\n",
       "    </tr>\n",
       "    <tr>\n",
       "      <th>14</th>\n",
       "      <td>ROBIN</td>\n",
       "      <td>No shit Harrington.Weve clearly established th...</td>\n",
       "    </tr>\n",
       "    <tr>\n",
       "      <th>15</th>\n",
       "      <td>STEVE</td>\n",
       "      <td>28.Were going down Were going down.Come on Pre...</td>\n",
       "    </tr>\n",
       "    <tr>\n",
       "      <th>16</th>\n",
       "      <td>TOM</td>\n",
       "      <td>Call 91  Heather smashes Tom with the bottle N...</td>\n",
       "    </tr>\n",
       "    <tr>\n",
       "      <th>17</th>\n",
       "      <td>WILL</td>\n",
       "      <td>My mom Lakeridge 305.Maybe El does They all lo...</td>\n",
       "    </tr>\n",
       "  </tbody>\n",
       "</table>\n",
       "</div>"
      ],
      "text/plain": [
       "   Character_Fix                                       Dialog_clean\n",
       "0          BILLY  Dont be afraid Itll be over  soon Just try and...\n",
       "1         DUSTIN  Shit Shit.Why dont these buttons work.What do ...\n",
       "2         ELEVEN   JONATHAN . KAREN WHEELER .I found him MIKE WI...\n",
       "3          ERICA  Press the button.JUST THEN the elevator comes ...\n",
       "4         HOPPER  Looks like somebodys home As the truck parks w...\n",
       "5       JONATHAN   LUCAS .to himself God Shut up FIFTH RI  It do...\n",
       "6          JOYCE  Did you hear that Hopper says nothing He and J...\n",
       "7          KAREN  Mike Breakfast.Hey youre home early She doesnt...\n",
       "8          LUCAS  What does it matter The bottom  line is theyre...\n",
       "9            MAX  Where is he Woods Woods.What are they doing.We...\n",
       "10   MAYOR KLINE  signals Hopper to come  in Ah Tony hang on Hop...\n",
       "11          MIKE  Somethings not right I cant get  Hopper off my...\n",
       "12        MURRAY  Hopper leans toward the buzzer The camera Abov...\n",
       "13         NANCY  Jonathan.Listen to me okay. Im at the hospital...\n",
       "14         ROBIN  No shit Harrington.Weve clearly established th...\n",
       "15         STEVE  28.Were going down Were going down.Come on Pre...\n",
       "16           TOM  Call 91  Heather smashes Tom with the bottle N...\n",
       "17          WILL  My mom Lakeridge 305.Maybe El does They all lo..."
      ]
     },
     "execution_count": 249,
     "metadata": {},
     "output_type": "execute_result"
    }
   ],
   "source": [
    "sent_dict"
   ]
  },
  {
   "cell_type": "code",
   "execution_count": 250,
   "id": "fb8afbf3",
   "metadata": {},
   "outputs": [
    {
     "name": "stderr",
     "output_type": "stream",
     "text": [
      "[nltk_data] Downloading package vader_lexicon to\n",
      "[nltk_data]     /Users/jacquelineskunda/nltk_data...\n",
      "[nltk_data]   Package vader_lexicon is already up-to-date!\n"
     ]
    },
    {
     "name": "stdout",
     "output_type": "stream",
     "text": [
      "polarity checked successfull\n"
     ]
    }
   ],
   "source": [
    "import nltk\n",
    "nltk.download('vader_lexicon')\n",
    "from nltk.sentiment.vader import SentimentIntensityAnalyzer\n",
    "\n",
    "sid = SentimentIntensityAnalyzer()\n",
    "\n",
    "\n",
    "def polarity(text):\n",
    "    pol = sid.polarity_scores(text)\n",
    "    return pol\n",
    "sent_dict['Dialog_clean'] = sent_dict['Dialog_clean'].apply(lambda x: x.lower())\n",
    "sent_dict['polarity'] = sent_dict['Dialog_clean'].apply(polarity)  #polarity checking\n",
    "sent_dict['compound']  = sent_dict['polarity'].apply(lambda score_dict: score_dict['compound'])\n",
    "\n",
    "sent_dict['sentiment'] = sent_dict['compound'].apply(lambda x: \"Positive\" if x>=0.5 \\\n",
    "                                                     else(\"Negative\" if x<=-0.5 \\\n",
    "                                                     else \"Neutral\"))\n",
    "print(\"polarity checked successfull\")"
   ]
  },
  {
   "cell_type": "code",
   "execution_count": 251,
   "id": "edec5f24",
   "metadata": {},
   "outputs": [
    {
     "data": {
      "text/html": [
       "<div>\n",
       "<style scoped>\n",
       "    .dataframe tbody tr th:only-of-type {\n",
       "        vertical-align: middle;\n",
       "    }\n",
       "\n",
       "    .dataframe tbody tr th {\n",
       "        vertical-align: top;\n",
       "    }\n",
       "\n",
       "    .dataframe thead th {\n",
       "        text-align: right;\n",
       "    }\n",
       "</style>\n",
       "<table border=\"1\" class=\"dataframe\">\n",
       "  <thead>\n",
       "    <tr style=\"text-align: right;\">\n",
       "      <th></th>\n",
       "      <th>Character_Fix</th>\n",
       "      <th>Dialog_clean</th>\n",
       "      <th>polarity</th>\n",
       "      <th>compound</th>\n",
       "      <th>sentiment</th>\n",
       "    </tr>\n",
       "  </thead>\n",
       "  <tbody>\n",
       "    <tr>\n",
       "      <th>0</th>\n",
       "      <td>BILLY</td>\n",
       "      <td>dont be afraid itll be over  soon just try and...</td>\n",
       "      <td>{'neg': 0.116, 'neu': 0.815, 'pos': 0.069, 'co...</td>\n",
       "      <td>-0.9982</td>\n",
       "      <td>Negative</td>\n",
       "    </tr>\n",
       "    <tr>\n",
       "      <th>1</th>\n",
       "      <td>DUSTIN</td>\n",
       "      <td>shit shit.why dont these buttons work.what do ...</td>\n",
       "      <td>{'neg': 0.091, 'neu': 0.803, 'pos': 0.106, 'co...</td>\n",
       "      <td>0.9970</td>\n",
       "      <td>Positive</td>\n",
       "    </tr>\n",
       "    <tr>\n",
       "      <th>2</th>\n",
       "      <td>ELEVEN</td>\n",
       "      <td>jonathan . karen wheeler .i found him mike wi...</td>\n",
       "      <td>{'neg': 0.088, 'neu': 0.819, 'pos': 0.093, 'co...</td>\n",
       "      <td>0.9724</td>\n",
       "      <td>Positive</td>\n",
       "    </tr>\n",
       "    <tr>\n",
       "      <th>3</th>\n",
       "      <td>ERICA</td>\n",
       "      <td>press the button.just then the elevator comes ...</td>\n",
       "      <td>{'neg': 0.087, 'neu': 0.816, 'pos': 0.097, 'co...</td>\n",
       "      <td>0.9125</td>\n",
       "      <td>Positive</td>\n",
       "    </tr>\n",
       "    <tr>\n",
       "      <th>4</th>\n",
       "      <td>HOPPER</td>\n",
       "      <td>looks like somebodys home as the truck parks w...</td>\n",
       "      <td>{'neg': 0.087, 'neu': 0.811, 'pos': 0.102, 'co...</td>\n",
       "      <td>0.9988</td>\n",
       "      <td>Positive</td>\n",
       "    </tr>\n",
       "    <tr>\n",
       "      <th>5</th>\n",
       "      <td>JONATHAN</td>\n",
       "      <td>lucas .to himself god shut up fifth ri  it do...</td>\n",
       "      <td>{'neg': 0.084, 'neu': 0.858, 'pos': 0.059, 'co...</td>\n",
       "      <td>-0.9958</td>\n",
       "      <td>Negative</td>\n",
       "    </tr>\n",
       "    <tr>\n",
       "      <th>6</th>\n",
       "      <td>JOYCE</td>\n",
       "      <td>did you hear that hopper says nothing he and j...</td>\n",
       "      <td>{'neg': 0.068, 'neu': 0.849, 'pos': 0.084, 'co...</td>\n",
       "      <td>0.9964</td>\n",
       "      <td>Positive</td>\n",
       "    </tr>\n",
       "    <tr>\n",
       "      <th>7</th>\n",
       "      <td>KAREN</td>\n",
       "      <td>mike breakfast.hey youre home early she doesnt...</td>\n",
       "      <td>{'neg': 0.062, 'neu': 0.877, 'pos': 0.061, 'co...</td>\n",
       "      <td>0.1650</td>\n",
       "      <td>Neutral</td>\n",
       "    </tr>\n",
       "    <tr>\n",
       "      <th>8</th>\n",
       "      <td>LUCAS</td>\n",
       "      <td>what does it matter the bottom  line is theyre...</td>\n",
       "      <td>{'neg': 0.11, 'neu': 0.8, 'pos': 0.091, 'compo...</td>\n",
       "      <td>-0.9709</td>\n",
       "      <td>Negative</td>\n",
       "    </tr>\n",
       "    <tr>\n",
       "      <th>9</th>\n",
       "      <td>MAX</td>\n",
       "      <td>where is he woods woods.what are they doing.we...</td>\n",
       "      <td>{'neg': 0.088, 'neu': 0.786, 'pos': 0.127, 'co...</td>\n",
       "      <td>0.9992</td>\n",
       "      <td>Positive</td>\n",
       "    </tr>\n",
       "    <tr>\n",
       "      <th>10</th>\n",
       "      <td>MAYOR KLINE</td>\n",
       "      <td>signals hopper to come  in ah tony hang on hop...</td>\n",
       "      <td>{'neg': 0.058, 'neu': 0.822, 'pos': 0.12, 'com...</td>\n",
       "      <td>0.9971</td>\n",
       "      <td>Positive</td>\n",
       "    </tr>\n",
       "    <tr>\n",
       "      <th>11</th>\n",
       "      <td>MIKE</td>\n",
       "      <td>somethings not right i cant get  hopper off my...</td>\n",
       "      <td>{'neg': 0.118, 'neu': 0.774, 'pos': 0.108, 'co...</td>\n",
       "      <td>-0.9947</td>\n",
       "      <td>Negative</td>\n",
       "    </tr>\n",
       "    <tr>\n",
       "      <th>12</th>\n",
       "      <td>MURRAY</td>\n",
       "      <td>hopper leans toward the buzzer the camera abov...</td>\n",
       "      <td>{'neg': 0.095, 'neu': 0.782, 'pos': 0.122, 'co...</td>\n",
       "      <td>0.9970</td>\n",
       "      <td>Positive</td>\n",
       "    </tr>\n",
       "    <tr>\n",
       "      <th>13</th>\n",
       "      <td>NANCY</td>\n",
       "      <td>jonathan.listen to me okay. im at the hospital...</td>\n",
       "      <td>{'neg': 0.088, 'neu': 0.826, 'pos': 0.086, 'co...</td>\n",
       "      <td>-0.9382</td>\n",
       "      <td>Negative</td>\n",
       "    </tr>\n",
       "    <tr>\n",
       "      <th>14</th>\n",
       "      <td>ROBIN</td>\n",
       "      <td>no shit harrington.weve clearly established th...</td>\n",
       "      <td>{'neg': 0.083, 'neu': 0.816, 'pos': 0.102, 'co...</td>\n",
       "      <td>0.9974</td>\n",
       "      <td>Positive</td>\n",
       "    </tr>\n",
       "    <tr>\n",
       "      <th>15</th>\n",
       "      <td>STEVE</td>\n",
       "      <td>28.were going down were going down.come on pre...</td>\n",
       "      <td>{'neg': 0.073, 'neu': 0.787, 'pos': 0.14, 'com...</td>\n",
       "      <td>0.9998</td>\n",
       "      <td>Positive</td>\n",
       "    </tr>\n",
       "    <tr>\n",
       "      <th>16</th>\n",
       "      <td>TOM</td>\n",
       "      <td>call 91  heather smashes tom with the bottle n...</td>\n",
       "      <td>{'neg': 0.11, 'neu': 0.822, 'pos': 0.068, 'com...</td>\n",
       "      <td>-0.9886</td>\n",
       "      <td>Negative</td>\n",
       "    </tr>\n",
       "    <tr>\n",
       "      <th>17</th>\n",
       "      <td>WILL</td>\n",
       "      <td>my mom lakeridge 305.maybe el does they all lo...</td>\n",
       "      <td>{'neg': 0.106, 'neu': 0.824, 'pos': 0.07, 'com...</td>\n",
       "      <td>-0.9947</td>\n",
       "      <td>Negative</td>\n",
       "    </tr>\n",
       "  </tbody>\n",
       "</table>\n",
       "</div>"
      ],
      "text/plain": [
       "   Character_Fix                                       Dialog_clean  \\\n",
       "0          BILLY  dont be afraid itll be over  soon just try and...   \n",
       "1         DUSTIN  shit shit.why dont these buttons work.what do ...   \n",
       "2         ELEVEN   jonathan . karen wheeler .i found him mike wi...   \n",
       "3          ERICA  press the button.just then the elevator comes ...   \n",
       "4         HOPPER  looks like somebodys home as the truck parks w...   \n",
       "5       JONATHAN   lucas .to himself god shut up fifth ri  it do...   \n",
       "6          JOYCE  did you hear that hopper says nothing he and j...   \n",
       "7          KAREN  mike breakfast.hey youre home early she doesnt...   \n",
       "8          LUCAS  what does it matter the bottom  line is theyre...   \n",
       "9            MAX  where is he woods woods.what are they doing.we...   \n",
       "10   MAYOR KLINE  signals hopper to come  in ah tony hang on hop...   \n",
       "11          MIKE  somethings not right i cant get  hopper off my...   \n",
       "12        MURRAY  hopper leans toward the buzzer the camera abov...   \n",
       "13         NANCY  jonathan.listen to me okay. im at the hospital...   \n",
       "14         ROBIN  no shit harrington.weve clearly established th...   \n",
       "15         STEVE  28.were going down were going down.come on pre...   \n",
       "16           TOM  call 91  heather smashes tom with the bottle n...   \n",
       "17          WILL  my mom lakeridge 305.maybe el does they all lo...   \n",
       "\n",
       "                                             polarity  compound sentiment  \n",
       "0   {'neg': 0.116, 'neu': 0.815, 'pos': 0.069, 'co...   -0.9982  Negative  \n",
       "1   {'neg': 0.091, 'neu': 0.803, 'pos': 0.106, 'co...    0.9970  Positive  \n",
       "2   {'neg': 0.088, 'neu': 0.819, 'pos': 0.093, 'co...    0.9724  Positive  \n",
       "3   {'neg': 0.087, 'neu': 0.816, 'pos': 0.097, 'co...    0.9125  Positive  \n",
       "4   {'neg': 0.087, 'neu': 0.811, 'pos': 0.102, 'co...    0.9988  Positive  \n",
       "5   {'neg': 0.084, 'neu': 0.858, 'pos': 0.059, 'co...   -0.9958  Negative  \n",
       "6   {'neg': 0.068, 'neu': 0.849, 'pos': 0.084, 'co...    0.9964  Positive  \n",
       "7   {'neg': 0.062, 'neu': 0.877, 'pos': 0.061, 'co...    0.1650   Neutral  \n",
       "8   {'neg': 0.11, 'neu': 0.8, 'pos': 0.091, 'compo...   -0.9709  Negative  \n",
       "9   {'neg': 0.088, 'neu': 0.786, 'pos': 0.127, 'co...    0.9992  Positive  \n",
       "10  {'neg': 0.058, 'neu': 0.822, 'pos': 0.12, 'com...    0.9971  Positive  \n",
       "11  {'neg': 0.118, 'neu': 0.774, 'pos': 0.108, 'co...   -0.9947  Negative  \n",
       "12  {'neg': 0.095, 'neu': 0.782, 'pos': 0.122, 'co...    0.9970  Positive  \n",
       "13  {'neg': 0.088, 'neu': 0.826, 'pos': 0.086, 'co...   -0.9382  Negative  \n",
       "14  {'neg': 0.083, 'neu': 0.816, 'pos': 0.102, 'co...    0.9974  Positive  \n",
       "15  {'neg': 0.073, 'neu': 0.787, 'pos': 0.14, 'com...    0.9998  Positive  \n",
       "16  {'neg': 0.11, 'neu': 0.822, 'pos': 0.068, 'com...   -0.9886  Negative  \n",
       "17  {'neg': 0.106, 'neu': 0.824, 'pos': 0.07, 'com...   -0.9947  Negative  "
      ]
     },
     "execution_count": 251,
     "metadata": {},
     "output_type": "execute_result"
    }
   ],
   "source": [
    "sent_dict"
   ]
  },
  {
   "cell_type": "code",
   "execution_count": 252,
   "id": "5d3cea7f",
   "metadata": {},
   "outputs": [
    {
     "data": {
      "application/vnd.plotly.v1+json": {
       "config": {
        "plotlyServerURL": "https://plot.ly"
       },
       "data": [
        {
         "alignmentgroup": "True",
         "hovertemplate": "color=Negative<br>x=%{x}<br>y=%{y}<extra></extra>",
         "legendgroup": "Negative",
         "marker": {
          "color": "#636efa",
          "pattern": {
           "shape": ""
          }
         },
         "name": "Negative",
         "offsetgroup": "Negative",
         "orientation": "v",
         "showlegend": true,
         "textposition": "auto",
         "type": "bar",
         "x": [
          "BILLY",
          "JONATHAN",
          "LUCAS",
          "MIKE",
          "NANCY",
          "TOM",
          "WILL"
         ],
         "xaxis": "x",
         "y": [
          -0.9982,
          -0.9958,
          -0.9709,
          -0.9947,
          -0.9382,
          -0.9886,
          -0.9947
         ],
         "yaxis": "y"
        },
        {
         "alignmentgroup": "True",
         "hovertemplate": "color=Positive<br>x=%{x}<br>y=%{y}<extra></extra>",
         "legendgroup": "Positive",
         "marker": {
          "color": "#EF553B",
          "pattern": {
           "shape": ""
          }
         },
         "name": "Positive",
         "offsetgroup": "Positive",
         "orientation": "v",
         "showlegend": true,
         "textposition": "auto",
         "type": "bar",
         "x": [
          "DUSTIN",
          "ELEVEN",
          "ERICA",
          "HOPPER",
          "JOYCE",
          "MAX",
          "MAYOR KLINE",
          "MURRAY",
          "ROBIN",
          "STEVE"
         ],
         "xaxis": "x",
         "y": [
          0.997,
          0.9724,
          0.9125,
          0.9988,
          0.9964,
          0.9992,
          0.9971,
          0.997,
          0.9974,
          0.9998
         ],
         "yaxis": "y"
        },
        {
         "alignmentgroup": "True",
         "hovertemplate": "color=Neutral<br>x=%{x}<br>y=%{y}<extra></extra>",
         "legendgroup": "Neutral",
         "marker": {
          "color": "#00cc96",
          "pattern": {
           "shape": ""
          }
         },
         "name": "Neutral",
         "offsetgroup": "Neutral",
         "orientation": "v",
         "showlegend": true,
         "textposition": "auto",
         "type": "bar",
         "x": [
          "KAREN"
         ],
         "xaxis": "x",
         "y": [
          0.165
         ],
         "yaxis": "y"
        }
       ],
       "layout": {
        "barmode": "relative",
        "legend": {
         "title": {
          "text": "color"
         },
         "tracegroupgap": 0
        },
        "paper_bgcolor": "black",
        "plot_bgcolor": "black",
        "template": {
         "data": {
          "bar": [
           {
            "error_x": {
             "color": "#2a3f5f"
            },
            "error_y": {
             "color": "#2a3f5f"
            },
            "marker": {
             "line": {
              "color": "#E5ECF6",
              "width": 0.5
             },
             "pattern": {
              "fillmode": "overlay",
              "size": 10,
              "solidity": 0.2
             }
            },
            "type": "bar"
           }
          ],
          "barpolar": [
           {
            "marker": {
             "line": {
              "color": "#E5ECF6",
              "width": 0.5
             },
             "pattern": {
              "fillmode": "overlay",
              "size": 10,
              "solidity": 0.2
             }
            },
            "type": "barpolar"
           }
          ],
          "carpet": [
           {
            "aaxis": {
             "endlinecolor": "#2a3f5f",
             "gridcolor": "white",
             "linecolor": "white",
             "minorgridcolor": "white",
             "startlinecolor": "#2a3f5f"
            },
            "baxis": {
             "endlinecolor": "#2a3f5f",
             "gridcolor": "white",
             "linecolor": "white",
             "minorgridcolor": "white",
             "startlinecolor": "#2a3f5f"
            },
            "type": "carpet"
           }
          ],
          "choropleth": [
           {
            "colorbar": {
             "outlinewidth": 0,
             "ticks": ""
            },
            "type": "choropleth"
           }
          ],
          "contour": [
           {
            "colorbar": {
             "outlinewidth": 0,
             "ticks": ""
            },
            "colorscale": [
             [
              0,
              "#0d0887"
             ],
             [
              0.1111111111111111,
              "#46039f"
             ],
             [
              0.2222222222222222,
              "#7201a8"
             ],
             [
              0.3333333333333333,
              "#9c179e"
             ],
             [
              0.4444444444444444,
              "#bd3786"
             ],
             [
              0.5555555555555556,
              "#d8576b"
             ],
             [
              0.6666666666666666,
              "#ed7953"
             ],
             [
              0.7777777777777778,
              "#fb9f3a"
             ],
             [
              0.8888888888888888,
              "#fdca26"
             ],
             [
              1,
              "#f0f921"
             ]
            ],
            "type": "contour"
           }
          ],
          "contourcarpet": [
           {
            "colorbar": {
             "outlinewidth": 0,
             "ticks": ""
            },
            "type": "contourcarpet"
           }
          ],
          "heatmap": [
           {
            "colorbar": {
             "outlinewidth": 0,
             "ticks": ""
            },
            "colorscale": [
             [
              0,
              "#0d0887"
             ],
             [
              0.1111111111111111,
              "#46039f"
             ],
             [
              0.2222222222222222,
              "#7201a8"
             ],
             [
              0.3333333333333333,
              "#9c179e"
             ],
             [
              0.4444444444444444,
              "#bd3786"
             ],
             [
              0.5555555555555556,
              "#d8576b"
             ],
             [
              0.6666666666666666,
              "#ed7953"
             ],
             [
              0.7777777777777778,
              "#fb9f3a"
             ],
             [
              0.8888888888888888,
              "#fdca26"
             ],
             [
              1,
              "#f0f921"
             ]
            ],
            "type": "heatmap"
           }
          ],
          "heatmapgl": [
           {
            "colorbar": {
             "outlinewidth": 0,
             "ticks": ""
            },
            "colorscale": [
             [
              0,
              "#0d0887"
             ],
             [
              0.1111111111111111,
              "#46039f"
             ],
             [
              0.2222222222222222,
              "#7201a8"
             ],
             [
              0.3333333333333333,
              "#9c179e"
             ],
             [
              0.4444444444444444,
              "#bd3786"
             ],
             [
              0.5555555555555556,
              "#d8576b"
             ],
             [
              0.6666666666666666,
              "#ed7953"
             ],
             [
              0.7777777777777778,
              "#fb9f3a"
             ],
             [
              0.8888888888888888,
              "#fdca26"
             ],
             [
              1,
              "#f0f921"
             ]
            ],
            "type": "heatmapgl"
           }
          ],
          "histogram": [
           {
            "marker": {
             "pattern": {
              "fillmode": "overlay",
              "size": 10,
              "solidity": 0.2
             }
            },
            "type": "histogram"
           }
          ],
          "histogram2d": [
           {
            "colorbar": {
             "outlinewidth": 0,
             "ticks": ""
            },
            "colorscale": [
             [
              0,
              "#0d0887"
             ],
             [
              0.1111111111111111,
              "#46039f"
             ],
             [
              0.2222222222222222,
              "#7201a8"
             ],
             [
              0.3333333333333333,
              "#9c179e"
             ],
             [
              0.4444444444444444,
              "#bd3786"
             ],
             [
              0.5555555555555556,
              "#d8576b"
             ],
             [
              0.6666666666666666,
              "#ed7953"
             ],
             [
              0.7777777777777778,
              "#fb9f3a"
             ],
             [
              0.8888888888888888,
              "#fdca26"
             ],
             [
              1,
              "#f0f921"
             ]
            ],
            "type": "histogram2d"
           }
          ],
          "histogram2dcontour": [
           {
            "colorbar": {
             "outlinewidth": 0,
             "ticks": ""
            },
            "colorscale": [
             [
              0,
              "#0d0887"
             ],
             [
              0.1111111111111111,
              "#46039f"
             ],
             [
              0.2222222222222222,
              "#7201a8"
             ],
             [
              0.3333333333333333,
              "#9c179e"
             ],
             [
              0.4444444444444444,
              "#bd3786"
             ],
             [
              0.5555555555555556,
              "#d8576b"
             ],
             [
              0.6666666666666666,
              "#ed7953"
             ],
             [
              0.7777777777777778,
              "#fb9f3a"
             ],
             [
              0.8888888888888888,
              "#fdca26"
             ],
             [
              1,
              "#f0f921"
             ]
            ],
            "type": "histogram2dcontour"
           }
          ],
          "mesh3d": [
           {
            "colorbar": {
             "outlinewidth": 0,
             "ticks": ""
            },
            "type": "mesh3d"
           }
          ],
          "parcoords": [
           {
            "line": {
             "colorbar": {
              "outlinewidth": 0,
              "ticks": ""
             }
            },
            "type": "parcoords"
           }
          ],
          "pie": [
           {
            "automargin": true,
            "type": "pie"
           }
          ],
          "scatter": [
           {
            "marker": {
             "colorbar": {
              "outlinewidth": 0,
              "ticks": ""
             }
            },
            "type": "scatter"
           }
          ],
          "scatter3d": [
           {
            "line": {
             "colorbar": {
              "outlinewidth": 0,
              "ticks": ""
             }
            },
            "marker": {
             "colorbar": {
              "outlinewidth": 0,
              "ticks": ""
             }
            },
            "type": "scatter3d"
           }
          ],
          "scattercarpet": [
           {
            "marker": {
             "colorbar": {
              "outlinewidth": 0,
              "ticks": ""
             }
            },
            "type": "scattercarpet"
           }
          ],
          "scattergeo": [
           {
            "marker": {
             "colorbar": {
              "outlinewidth": 0,
              "ticks": ""
             }
            },
            "type": "scattergeo"
           }
          ],
          "scattergl": [
           {
            "marker": {
             "colorbar": {
              "outlinewidth": 0,
              "ticks": ""
             }
            },
            "type": "scattergl"
           }
          ],
          "scattermapbox": [
           {
            "marker": {
             "colorbar": {
              "outlinewidth": 0,
              "ticks": ""
             }
            },
            "type": "scattermapbox"
           }
          ],
          "scatterpolar": [
           {
            "marker": {
             "colorbar": {
              "outlinewidth": 0,
              "ticks": ""
             }
            },
            "type": "scatterpolar"
           }
          ],
          "scatterpolargl": [
           {
            "marker": {
             "colorbar": {
              "outlinewidth": 0,
              "ticks": ""
             }
            },
            "type": "scatterpolargl"
           }
          ],
          "scatterternary": [
           {
            "marker": {
             "colorbar": {
              "outlinewidth": 0,
              "ticks": ""
             }
            },
            "type": "scatterternary"
           }
          ],
          "surface": [
           {
            "colorbar": {
             "outlinewidth": 0,
             "ticks": ""
            },
            "colorscale": [
             [
              0,
              "#0d0887"
             ],
             [
              0.1111111111111111,
              "#46039f"
             ],
             [
              0.2222222222222222,
              "#7201a8"
             ],
             [
              0.3333333333333333,
              "#9c179e"
             ],
             [
              0.4444444444444444,
              "#bd3786"
             ],
             [
              0.5555555555555556,
              "#d8576b"
             ],
             [
              0.6666666666666666,
              "#ed7953"
             ],
             [
              0.7777777777777778,
              "#fb9f3a"
             ],
             [
              0.8888888888888888,
              "#fdca26"
             ],
             [
              1,
              "#f0f921"
             ]
            ],
            "type": "surface"
           }
          ],
          "table": [
           {
            "cells": {
             "fill": {
              "color": "#EBF0F8"
             },
             "line": {
              "color": "white"
             }
            },
            "header": {
             "fill": {
              "color": "#C8D4E3"
             },
             "line": {
              "color": "white"
             }
            },
            "type": "table"
           }
          ]
         },
         "layout": {
          "annotationdefaults": {
           "arrowcolor": "#2a3f5f",
           "arrowhead": 0,
           "arrowwidth": 1
          },
          "autotypenumbers": "strict",
          "coloraxis": {
           "colorbar": {
            "outlinewidth": 0,
            "ticks": ""
           }
          },
          "colorscale": {
           "diverging": [
            [
             0,
             "#8e0152"
            ],
            [
             0.1,
             "#c51b7d"
            ],
            [
             0.2,
             "#de77ae"
            ],
            [
             0.3,
             "#f1b6da"
            ],
            [
             0.4,
             "#fde0ef"
            ],
            [
             0.5,
             "#f7f7f7"
            ],
            [
             0.6,
             "#e6f5d0"
            ],
            [
             0.7,
             "#b8e186"
            ],
            [
             0.8,
             "#7fbc41"
            ],
            [
             0.9,
             "#4d9221"
            ],
            [
             1,
             "#276419"
            ]
           ],
           "sequential": [
            [
             0,
             "#0d0887"
            ],
            [
             0.1111111111111111,
             "#46039f"
            ],
            [
             0.2222222222222222,
             "#7201a8"
            ],
            [
             0.3333333333333333,
             "#9c179e"
            ],
            [
             0.4444444444444444,
             "#bd3786"
            ],
            [
             0.5555555555555556,
             "#d8576b"
            ],
            [
             0.6666666666666666,
             "#ed7953"
            ],
            [
             0.7777777777777778,
             "#fb9f3a"
            ],
            [
             0.8888888888888888,
             "#fdca26"
            ],
            [
             1,
             "#f0f921"
            ]
           ],
           "sequentialminus": [
            [
             0,
             "#0d0887"
            ],
            [
             0.1111111111111111,
             "#46039f"
            ],
            [
             0.2222222222222222,
             "#7201a8"
            ],
            [
             0.3333333333333333,
             "#9c179e"
            ],
            [
             0.4444444444444444,
             "#bd3786"
            ],
            [
             0.5555555555555556,
             "#d8576b"
            ],
            [
             0.6666666666666666,
             "#ed7953"
            ],
            [
             0.7777777777777778,
             "#fb9f3a"
            ],
            [
             0.8888888888888888,
             "#fdca26"
            ],
            [
             1,
             "#f0f921"
            ]
           ]
          },
          "colorway": [
           "#636efa",
           "#EF553B",
           "#00cc96",
           "#ab63fa",
           "#FFA15A",
           "#19d3f3",
           "#FF6692",
           "#B6E880",
           "#FF97FF",
           "#FECB52"
          ],
          "font": {
           "color": "#2a3f5f"
          },
          "geo": {
           "bgcolor": "white",
           "lakecolor": "white",
           "landcolor": "#E5ECF6",
           "showlakes": true,
           "showland": true,
           "subunitcolor": "white"
          },
          "hoverlabel": {
           "align": "left"
          },
          "hovermode": "closest",
          "mapbox": {
           "style": "light"
          },
          "paper_bgcolor": "white",
          "plot_bgcolor": "#E5ECF6",
          "polar": {
           "angularaxis": {
            "gridcolor": "white",
            "linecolor": "white",
            "ticks": ""
           },
           "bgcolor": "#E5ECF6",
           "radialaxis": {
            "gridcolor": "white",
            "linecolor": "white",
            "ticks": ""
           }
          },
          "scene": {
           "xaxis": {
            "backgroundcolor": "#E5ECF6",
            "gridcolor": "white",
            "gridwidth": 2,
            "linecolor": "white",
            "showbackground": true,
            "ticks": "",
            "zerolinecolor": "white"
           },
           "yaxis": {
            "backgroundcolor": "#E5ECF6",
            "gridcolor": "white",
            "gridwidth": 2,
            "linecolor": "white",
            "showbackground": true,
            "ticks": "",
            "zerolinecolor": "white"
           },
           "zaxis": {
            "backgroundcolor": "#E5ECF6",
            "gridcolor": "white",
            "gridwidth": 2,
            "linecolor": "white",
            "showbackground": true,
            "ticks": "",
            "zerolinecolor": "white"
           }
          },
          "shapedefaults": {
           "line": {
            "color": "#2a3f5f"
           }
          },
          "ternary": {
           "aaxis": {
            "gridcolor": "white",
            "linecolor": "white",
            "ticks": ""
           },
           "baxis": {
            "gridcolor": "white",
            "linecolor": "white",
            "ticks": ""
           },
           "bgcolor": "#E5ECF6",
           "caxis": {
            "gridcolor": "white",
            "linecolor": "white",
            "ticks": ""
           }
          },
          "title": {
           "x": 0.05
          },
          "xaxis": {
           "automargin": true,
           "gridcolor": "white",
           "linecolor": "white",
           "ticks": "",
           "title": {
            "standoff": 15
           },
           "zerolinecolor": "white",
           "zerolinewidth": 2
          },
          "yaxis": {
           "automargin": true,
           "gridcolor": "white",
           "linecolor": "white",
           "ticks": "",
           "title": {
            "standoff": 15
           },
           "zerolinecolor": "white",
           "zerolinewidth": 2
          }
         }
        },
        "title": {
         "font": {
          "color": "white"
         },
         "text": "Sentiment Scores for Top 20 Characters"
        },
        "xaxis": {
         "anchor": "y",
         "domain": [
          0,
          1
         ],
         "title": {
          "text": "x"
         }
        },
        "yaxis": {
         "anchor": "x",
         "domain": [
          0,
          1
         ],
         "title": {
          "text": "y"
         }
        }
       }
      },
      "text/html": [
       "<div>                            <div id=\"80e8bef8-fff1-4415-99c8-25fc6507d1b3\" class=\"plotly-graph-div\" style=\"height:525px; width:100%;\"></div>            <script type=\"text/javascript\">                require([\"plotly\"], function(Plotly) {                    window.PLOTLYENV=window.PLOTLYENV || {};                                    if (document.getElementById(\"80e8bef8-fff1-4415-99c8-25fc6507d1b3\")) {                    Plotly.newPlot(                        \"80e8bef8-fff1-4415-99c8-25fc6507d1b3\",                        [{\"alignmentgroup\":\"True\",\"hovertemplate\":\"color=Negative<br>x=%{x}<br>y=%{y}<extra></extra>\",\"legendgroup\":\"Negative\",\"marker\":{\"color\":\"#636efa\",\"pattern\":{\"shape\":\"\"}},\"name\":\"Negative\",\"offsetgroup\":\"Negative\",\"orientation\":\"v\",\"showlegend\":true,\"textposition\":\"auto\",\"x\":[\"BILLY\",\"JONATHAN\",\"LUCAS\",\"MIKE\",\"NANCY\",\"TOM\",\"WILL\"],\"xaxis\":\"x\",\"y\":[-0.9982,-0.9958,-0.9709,-0.9947,-0.9382,-0.9886,-0.9947],\"yaxis\":\"y\",\"type\":\"bar\"},{\"alignmentgroup\":\"True\",\"hovertemplate\":\"color=Positive<br>x=%{x}<br>y=%{y}<extra></extra>\",\"legendgroup\":\"Positive\",\"marker\":{\"color\":\"#EF553B\",\"pattern\":{\"shape\":\"\"}},\"name\":\"Positive\",\"offsetgroup\":\"Positive\",\"orientation\":\"v\",\"showlegend\":true,\"textposition\":\"auto\",\"x\":[\"DUSTIN\",\"ELEVEN\",\"ERICA\",\"HOPPER\",\"JOYCE\",\"MAX\",\"MAYOR KLINE\",\"MURRAY\",\"ROBIN\",\"STEVE\"],\"xaxis\":\"x\",\"y\":[0.997,0.9724,0.9125,0.9988,0.9964,0.9992,0.9971,0.997,0.9974,0.9998],\"yaxis\":\"y\",\"type\":\"bar\"},{\"alignmentgroup\":\"True\",\"hovertemplate\":\"color=Neutral<br>x=%{x}<br>y=%{y}<extra></extra>\",\"legendgroup\":\"Neutral\",\"marker\":{\"color\":\"#00cc96\",\"pattern\":{\"shape\":\"\"}},\"name\":\"Neutral\",\"offsetgroup\":\"Neutral\",\"orientation\":\"v\",\"showlegend\":true,\"textposition\":\"auto\",\"x\":[\"KAREN\"],\"xaxis\":\"x\",\"y\":[0.165],\"yaxis\":\"y\",\"type\":\"bar\"}],                        {\"template\":{\"data\":{\"bar\":[{\"error_x\":{\"color\":\"#2a3f5f\"},\"error_y\":{\"color\":\"#2a3f5f\"},\"marker\":{\"line\":{\"color\":\"#E5ECF6\",\"width\":0.5},\"pattern\":{\"fillmode\":\"overlay\",\"size\":10,\"solidity\":0.2}},\"type\":\"bar\"}],\"barpolar\":[{\"marker\":{\"line\":{\"color\":\"#E5ECF6\",\"width\":0.5},\"pattern\":{\"fillmode\":\"overlay\",\"size\":10,\"solidity\":0.2}},\"type\":\"barpolar\"}],\"carpet\":[{\"aaxis\":{\"endlinecolor\":\"#2a3f5f\",\"gridcolor\":\"white\",\"linecolor\":\"white\",\"minorgridcolor\":\"white\",\"startlinecolor\":\"#2a3f5f\"},\"baxis\":{\"endlinecolor\":\"#2a3f5f\",\"gridcolor\":\"white\",\"linecolor\":\"white\",\"minorgridcolor\":\"white\",\"startlinecolor\":\"#2a3f5f\"},\"type\":\"carpet\"}],\"choropleth\":[{\"colorbar\":{\"outlinewidth\":0,\"ticks\":\"\"},\"type\":\"choropleth\"}],\"contour\":[{\"colorbar\":{\"outlinewidth\":0,\"ticks\":\"\"},\"colorscale\":[[0.0,\"#0d0887\"],[0.1111111111111111,\"#46039f\"],[0.2222222222222222,\"#7201a8\"],[0.3333333333333333,\"#9c179e\"],[0.4444444444444444,\"#bd3786\"],[0.5555555555555556,\"#d8576b\"],[0.6666666666666666,\"#ed7953\"],[0.7777777777777778,\"#fb9f3a\"],[0.8888888888888888,\"#fdca26\"],[1.0,\"#f0f921\"]],\"type\":\"contour\"}],\"contourcarpet\":[{\"colorbar\":{\"outlinewidth\":0,\"ticks\":\"\"},\"type\":\"contourcarpet\"}],\"heatmap\":[{\"colorbar\":{\"outlinewidth\":0,\"ticks\":\"\"},\"colorscale\":[[0.0,\"#0d0887\"],[0.1111111111111111,\"#46039f\"],[0.2222222222222222,\"#7201a8\"],[0.3333333333333333,\"#9c179e\"],[0.4444444444444444,\"#bd3786\"],[0.5555555555555556,\"#d8576b\"],[0.6666666666666666,\"#ed7953\"],[0.7777777777777778,\"#fb9f3a\"],[0.8888888888888888,\"#fdca26\"],[1.0,\"#f0f921\"]],\"type\":\"heatmap\"}],\"heatmapgl\":[{\"colorbar\":{\"outlinewidth\":0,\"ticks\":\"\"},\"colorscale\":[[0.0,\"#0d0887\"],[0.1111111111111111,\"#46039f\"],[0.2222222222222222,\"#7201a8\"],[0.3333333333333333,\"#9c179e\"],[0.4444444444444444,\"#bd3786\"],[0.5555555555555556,\"#d8576b\"],[0.6666666666666666,\"#ed7953\"],[0.7777777777777778,\"#fb9f3a\"],[0.8888888888888888,\"#fdca26\"],[1.0,\"#f0f921\"]],\"type\":\"heatmapgl\"}],\"histogram\":[{\"marker\":{\"pattern\":{\"fillmode\":\"overlay\",\"size\":10,\"solidity\":0.2}},\"type\":\"histogram\"}],\"histogram2d\":[{\"colorbar\":{\"outlinewidth\":0,\"ticks\":\"\"},\"colorscale\":[[0.0,\"#0d0887\"],[0.1111111111111111,\"#46039f\"],[0.2222222222222222,\"#7201a8\"],[0.3333333333333333,\"#9c179e\"],[0.4444444444444444,\"#bd3786\"],[0.5555555555555556,\"#d8576b\"],[0.6666666666666666,\"#ed7953\"],[0.7777777777777778,\"#fb9f3a\"],[0.8888888888888888,\"#fdca26\"],[1.0,\"#f0f921\"]],\"type\":\"histogram2d\"}],\"histogram2dcontour\":[{\"colorbar\":{\"outlinewidth\":0,\"ticks\":\"\"},\"colorscale\":[[0.0,\"#0d0887\"],[0.1111111111111111,\"#46039f\"],[0.2222222222222222,\"#7201a8\"],[0.3333333333333333,\"#9c179e\"],[0.4444444444444444,\"#bd3786\"],[0.5555555555555556,\"#d8576b\"],[0.6666666666666666,\"#ed7953\"],[0.7777777777777778,\"#fb9f3a\"],[0.8888888888888888,\"#fdca26\"],[1.0,\"#f0f921\"]],\"type\":\"histogram2dcontour\"}],\"mesh3d\":[{\"colorbar\":{\"outlinewidth\":0,\"ticks\":\"\"},\"type\":\"mesh3d\"}],\"parcoords\":[{\"line\":{\"colorbar\":{\"outlinewidth\":0,\"ticks\":\"\"}},\"type\":\"parcoords\"}],\"pie\":[{\"automargin\":true,\"type\":\"pie\"}],\"scatter\":[{\"marker\":{\"colorbar\":{\"outlinewidth\":0,\"ticks\":\"\"}},\"type\":\"scatter\"}],\"scatter3d\":[{\"line\":{\"colorbar\":{\"outlinewidth\":0,\"ticks\":\"\"}},\"marker\":{\"colorbar\":{\"outlinewidth\":0,\"ticks\":\"\"}},\"type\":\"scatter3d\"}],\"scattercarpet\":[{\"marker\":{\"colorbar\":{\"outlinewidth\":0,\"ticks\":\"\"}},\"type\":\"scattercarpet\"}],\"scattergeo\":[{\"marker\":{\"colorbar\":{\"outlinewidth\":0,\"ticks\":\"\"}},\"type\":\"scattergeo\"}],\"scattergl\":[{\"marker\":{\"colorbar\":{\"outlinewidth\":0,\"ticks\":\"\"}},\"type\":\"scattergl\"}],\"scattermapbox\":[{\"marker\":{\"colorbar\":{\"outlinewidth\":0,\"ticks\":\"\"}},\"type\":\"scattermapbox\"}],\"scatterpolar\":[{\"marker\":{\"colorbar\":{\"outlinewidth\":0,\"ticks\":\"\"}},\"type\":\"scatterpolar\"}],\"scatterpolargl\":[{\"marker\":{\"colorbar\":{\"outlinewidth\":0,\"ticks\":\"\"}},\"type\":\"scatterpolargl\"}],\"scatterternary\":[{\"marker\":{\"colorbar\":{\"outlinewidth\":0,\"ticks\":\"\"}},\"type\":\"scatterternary\"}],\"surface\":[{\"colorbar\":{\"outlinewidth\":0,\"ticks\":\"\"},\"colorscale\":[[0.0,\"#0d0887\"],[0.1111111111111111,\"#46039f\"],[0.2222222222222222,\"#7201a8\"],[0.3333333333333333,\"#9c179e\"],[0.4444444444444444,\"#bd3786\"],[0.5555555555555556,\"#d8576b\"],[0.6666666666666666,\"#ed7953\"],[0.7777777777777778,\"#fb9f3a\"],[0.8888888888888888,\"#fdca26\"],[1.0,\"#f0f921\"]],\"type\":\"surface\"}],\"table\":[{\"cells\":{\"fill\":{\"color\":\"#EBF0F8\"},\"line\":{\"color\":\"white\"}},\"header\":{\"fill\":{\"color\":\"#C8D4E3\"},\"line\":{\"color\":\"white\"}},\"type\":\"table\"}]},\"layout\":{\"annotationdefaults\":{\"arrowcolor\":\"#2a3f5f\",\"arrowhead\":0,\"arrowwidth\":1},\"autotypenumbers\":\"strict\",\"coloraxis\":{\"colorbar\":{\"outlinewidth\":0,\"ticks\":\"\"}},\"colorscale\":{\"diverging\":[[0,\"#8e0152\"],[0.1,\"#c51b7d\"],[0.2,\"#de77ae\"],[0.3,\"#f1b6da\"],[0.4,\"#fde0ef\"],[0.5,\"#f7f7f7\"],[0.6,\"#e6f5d0\"],[0.7,\"#b8e186\"],[0.8,\"#7fbc41\"],[0.9,\"#4d9221\"],[1,\"#276419\"]],\"sequential\":[[0.0,\"#0d0887\"],[0.1111111111111111,\"#46039f\"],[0.2222222222222222,\"#7201a8\"],[0.3333333333333333,\"#9c179e\"],[0.4444444444444444,\"#bd3786\"],[0.5555555555555556,\"#d8576b\"],[0.6666666666666666,\"#ed7953\"],[0.7777777777777778,\"#fb9f3a\"],[0.8888888888888888,\"#fdca26\"],[1.0,\"#f0f921\"]],\"sequentialminus\":[[0.0,\"#0d0887\"],[0.1111111111111111,\"#46039f\"],[0.2222222222222222,\"#7201a8\"],[0.3333333333333333,\"#9c179e\"],[0.4444444444444444,\"#bd3786\"],[0.5555555555555556,\"#d8576b\"],[0.6666666666666666,\"#ed7953\"],[0.7777777777777778,\"#fb9f3a\"],[0.8888888888888888,\"#fdca26\"],[1.0,\"#f0f921\"]]},\"colorway\":[\"#636efa\",\"#EF553B\",\"#00cc96\",\"#ab63fa\",\"#FFA15A\",\"#19d3f3\",\"#FF6692\",\"#B6E880\",\"#FF97FF\",\"#FECB52\"],\"font\":{\"color\":\"#2a3f5f\"},\"geo\":{\"bgcolor\":\"white\",\"lakecolor\":\"white\",\"landcolor\":\"#E5ECF6\",\"showlakes\":true,\"showland\":true,\"subunitcolor\":\"white\"},\"hoverlabel\":{\"align\":\"left\"},\"hovermode\":\"closest\",\"mapbox\":{\"style\":\"light\"},\"paper_bgcolor\":\"white\",\"plot_bgcolor\":\"#E5ECF6\",\"polar\":{\"angularaxis\":{\"gridcolor\":\"white\",\"linecolor\":\"white\",\"ticks\":\"\"},\"bgcolor\":\"#E5ECF6\",\"radialaxis\":{\"gridcolor\":\"white\",\"linecolor\":\"white\",\"ticks\":\"\"}},\"scene\":{\"xaxis\":{\"backgroundcolor\":\"#E5ECF6\",\"gridcolor\":\"white\",\"gridwidth\":2,\"linecolor\":\"white\",\"showbackground\":true,\"ticks\":\"\",\"zerolinecolor\":\"white\"},\"yaxis\":{\"backgroundcolor\":\"#E5ECF6\",\"gridcolor\":\"white\",\"gridwidth\":2,\"linecolor\":\"white\",\"showbackground\":true,\"ticks\":\"\",\"zerolinecolor\":\"white\"},\"zaxis\":{\"backgroundcolor\":\"#E5ECF6\",\"gridcolor\":\"white\",\"gridwidth\":2,\"linecolor\":\"white\",\"showbackground\":true,\"ticks\":\"\",\"zerolinecolor\":\"white\"}},\"shapedefaults\":{\"line\":{\"color\":\"#2a3f5f\"}},\"ternary\":{\"aaxis\":{\"gridcolor\":\"white\",\"linecolor\":\"white\",\"ticks\":\"\"},\"baxis\":{\"gridcolor\":\"white\",\"linecolor\":\"white\",\"ticks\":\"\"},\"bgcolor\":\"#E5ECF6\",\"caxis\":{\"gridcolor\":\"white\",\"linecolor\":\"white\",\"ticks\":\"\"}},\"title\":{\"x\":0.05},\"xaxis\":{\"automargin\":true,\"gridcolor\":\"white\",\"linecolor\":\"white\",\"ticks\":\"\",\"title\":{\"standoff\":15},\"zerolinecolor\":\"white\",\"zerolinewidth\":2},\"yaxis\":{\"automargin\":true,\"gridcolor\":\"white\",\"linecolor\":\"white\",\"ticks\":\"\",\"title\":{\"standoff\":15},\"zerolinecolor\":\"white\",\"zerolinewidth\":2}}},\"xaxis\":{\"anchor\":\"y\",\"domain\":[0.0,1.0],\"title\":{\"text\":\"x\"}},\"yaxis\":{\"anchor\":\"x\",\"domain\":[0.0,1.0],\"title\":{\"text\":\"y\"}},\"legend\":{\"title\":{\"text\":\"color\"},\"tracegroupgap\":0},\"title\":{\"text\":\"Sentiment Scores for Top 20 Characters\",\"font\":{\"color\":\"white\"}},\"barmode\":\"relative\",\"paper_bgcolor\":\"black\",\"plot_bgcolor\":\"black\"},                        {\"responsive\": true}                    ).then(function(){\n",
       "                            \n",
       "var gd = document.getElementById('80e8bef8-fff1-4415-99c8-25fc6507d1b3');\n",
       "var x = new MutationObserver(function (mutations, observer) {{\n",
       "        var display = window.getComputedStyle(gd).display;\n",
       "        if (!display || display === 'none') {{\n",
       "            console.log([gd, 'removed!']);\n",
       "            Plotly.purge(gd);\n",
       "            observer.disconnect();\n",
       "        }}\n",
       "}});\n",
       "\n",
       "// Listen for the removal of the full notebook cells\n",
       "var notebookContainer = gd.closest('#notebook-container');\n",
       "if (notebookContainer) {{\n",
       "    x.observe(notebookContainer, {childList: true});\n",
       "}}\n",
       "\n",
       "// Listen for the clearing of the current output cell\n",
       "var outputEl = gd.closest('.output');\n",
       "if (outputEl) {{\n",
       "    x.observe(outputEl, {childList: true});\n",
       "}}\n",
       "\n",
       "                        })                };                });            </script>        </div>"
      ]
     },
     "metadata": {},
     "output_type": "display_data"
    }
   ],
   "source": [
    "import plotly.graph_objects as go\n",
    "\n",
    "fig2=px.bar(x = sent_dict.Character_Fix,y = sent_dict.compound, color = sent_dict.sentiment,\n",
    "       color_continuous_scale=\"Bluered\", \n",
    "     title= \"Sentiment Scores for Top 20 Characters\")\n",
    "\n",
    "fig2.update_layout(paper_bgcolor = 'black', plot_bgcolor = 'black')\n",
    "fig2.update_layout(title_font_color='white') \n",
    "fig2.show()"
   ]
  },
  {
   "cell_type": "markdown",
   "id": "c731544d",
   "metadata": {},
   "source": [
    "### Start of supervised Learning"
   ]
  },
  {
   "cell_type": "code",
   "execution_count": 253,
   "id": "29f35efc",
   "metadata": {},
   "outputs": [],
   "source": [
    "df_show = df[['Character_Fix','Season',\"Episode\",\"Dialog\"]].copy()"
   ]
  },
  {
   "cell_type": "code",
   "execution_count": 254,
   "id": "71d2fbb0",
   "metadata": {},
   "outputs": [
    {
     "data": {
      "text/html": [
       "<div>\n",
       "<style scoped>\n",
       "    .dataframe tbody tr th:only-of-type {\n",
       "        vertical-align: middle;\n",
       "    }\n",
       "\n",
       "    .dataframe tbody tr th {\n",
       "        vertical-align: top;\n",
       "    }\n",
       "\n",
       "    .dataframe thead th {\n",
       "        text-align: right;\n",
       "    }\n",
       "</style>\n",
       "<table border=\"1\" class=\"dataframe\">\n",
       "  <thead>\n",
       "    <tr style=\"text-align: right;\">\n",
       "      <th></th>\n",
       "      <th>Character_Fix</th>\n",
       "      <th>Season</th>\n",
       "      <th>Episode</th>\n",
       "      <th>Dialog</th>\n",
       "    </tr>\n",
       "  </thead>\n",
       "  <tbody>\n",
       "    <tr>\n",
       "      <th>5</th>\n",
       "      <td>HOPPER</td>\n",
       "      <td>3</td>\n",
       "      <td>5</td>\n",
       "      <td>Looks like somebody’s home. As the truck parks...</td>\n",
       "    </tr>\n",
       "    <tr>\n",
       "      <th>6</th>\n",
       "      <td>HOPPER</td>\n",
       "      <td>3</td>\n",
       "      <td>5</td>\n",
       "      <td>Where’s that coming from? Joyce pauses at the ...</td>\n",
       "    </tr>\n",
       "    <tr>\n",
       "      <th>7</th>\n",
       "      <td>HOPPER</td>\n",
       "      <td>3</td>\n",
       "      <td>5</td>\n",
       "      <td>Hey, dipshits! The men drop their tools and st...</td>\n",
       "    </tr>\n",
       "    <tr>\n",
       "      <th>8</th>\n",
       "      <td>HOPPER</td>\n",
       "      <td>3</td>\n",
       "      <td>5</td>\n",
       "      <td>Dr. Alexei steps forward, putting himself betw...</td>\n",
       "    </tr>\n",
       "    <tr>\n",
       "      <th>10</th>\n",
       "      <td>HOPPER</td>\n",
       "      <td>3</td>\n",
       "      <td>5</td>\n",
       "      <td>English! You speak English? Alexei tries to ca...</td>\n",
       "    </tr>\n",
       "    <tr>\n",
       "      <th>...</th>\n",
       "      <td>...</td>\n",
       "      <td>...</td>\n",
       "      <td>...</td>\n",
       "      <td>...</td>\n",
       "    </tr>\n",
       "    <tr>\n",
       "      <th>6063</th>\n",
       "      <td>SUSAN</td>\n",
       "      <td>2</td>\n",
       "      <td>9</td>\n",
       "      <td>See -- pretty -- !!</td>\n",
       "    </tr>\n",
       "    <tr>\n",
       "      <th>6064</th>\n",
       "      <td>SUSAN</td>\n",
       "      <td>2</td>\n",
       "      <td>9</td>\n",
       "      <td>... Now -- you surrrre you don't  want to wear...</td>\n",
       "    </tr>\n",
       "    <tr>\n",
       "      <th>6065</th>\n",
       "      <td>CLAUDIA</td>\n",
       "      <td>2</td>\n",
       "      <td>9</td>\n",
       "      <td>Where did you see it last?</td>\n",
       "    </tr>\n",
       "    <tr>\n",
       "      <th>6066</th>\n",
       "      <td>CLAUDIA</td>\n",
       "      <td>2</td>\n",
       "      <td>9</td>\n",
       "      <td>What's in there that's so important  anyway?  ...</td>\n",
       "    </tr>\n",
       "    <tr>\n",
       "      <th>6067</th>\n",
       "      <td>CLAUDIA</td>\n",
       "      <td>2</td>\n",
       "      <td>9</td>\n",
       "      <td>That's your ride!  Dusty??? The bag from Melva...</td>\n",
       "    </tr>\n",
       "  </tbody>\n",
       "</table>\n",
       "<p>5451 rows × 4 columns</p>\n",
       "</div>"
      ],
      "text/plain": [
       "     Character_Fix  Season  Episode  \\\n",
       "5           HOPPER       3        5   \n",
       "6           HOPPER       3        5   \n",
       "7           HOPPER       3        5   \n",
       "8           HOPPER       3        5   \n",
       "10          HOPPER       3        5   \n",
       "...            ...     ...      ...   \n",
       "6063         SUSAN       2        9   \n",
       "6064         SUSAN       2        9   \n",
       "6065       CLAUDIA       2        9   \n",
       "6066       CLAUDIA       2        9   \n",
       "6067       CLAUDIA       2        9   \n",
       "\n",
       "                                                 Dialog  \n",
       "5     Looks like somebody’s home. As the truck parks...  \n",
       "6     Where’s that coming from? Joyce pauses at the ...  \n",
       "7     Hey, dipshits! The men drop their tools and st...  \n",
       "8     Dr. Alexei steps forward, putting himself betw...  \n",
       "10    English! You speak English? Alexei tries to ca...  \n",
       "...                                                 ...  \n",
       "6063                                See -- pretty -- !!  \n",
       "6064  ... Now -- you surrrre you don't  want to wear...  \n",
       "6065                         Where did you see it last?  \n",
       "6066  What's in there that's so important  anyway?  ...  \n",
       "6067  That's your ride!  Dusty??? The bag from Melva...  \n",
       "\n",
       "[5451 rows x 4 columns]"
      ]
     },
     "execution_count": 254,
     "metadata": {},
     "output_type": "execute_result"
    }
   ],
   "source": [
    "df_show"
   ]
  },
  {
   "cell_type": "code",
   "execution_count": 255,
   "id": "12c6bb73",
   "metadata": {},
   "outputs": [],
   "source": [
    "# Function to preprocess text\n",
    "def cleaner(text):\n",
    "  \t# Create doc object\n",
    "    doc = nlp(text)\n",
    "    \n",
    "    # Generate lemmas and lower case and remove punctuation\n",
    "    lemmas = [token.lemma_.lower() for token in doc if not token.is_punct\\\n",
    "              and token.is_alpha]\n",
    "    #token.is_stop == False \n",
    "    # Remove stopwords, extra characters like numbers (second check)\n",
    "    #all_lemmas = [lemma for lemma in lemmas if lemma.isalpha]\n",
    "    \n",
    "    return \" \".join(lemmas)"
   ]
  },
  {
   "cell_type": "code",
   "execution_count": 256,
   "id": "658303d5",
   "metadata": {},
   "outputs": [],
   "source": [
    "import spacy\n",
    "from spacy import displacy\n",
    "import seaborn as sns\n",
    "import string\n",
    "import nltk\n",
    "import en_core_web_sm\n",
    "#nlp = en_core_web_sm.load()\n",
    "nlp = spacy.load('en_core_web_sm')"
   ]
  },
  {
   "cell_type": "code",
   "execution_count": 257,
   "id": "74eb8f24",
   "metadata": {},
   "outputs": [],
   "source": [
    "df_show['token_lemma'] = df_show['Dialog'].apply(cleaner)"
   ]
  },
  {
   "cell_type": "code",
   "execution_count": 258,
   "id": "5b4776c0",
   "metadata": {},
   "outputs": [
    {
     "data": {
      "text/html": [
       "<div>\n",
       "<style scoped>\n",
       "    .dataframe tbody tr th:only-of-type {\n",
       "        vertical-align: middle;\n",
       "    }\n",
       "\n",
       "    .dataframe tbody tr th {\n",
       "        vertical-align: top;\n",
       "    }\n",
       "\n",
       "    .dataframe thead th {\n",
       "        text-align: right;\n",
       "    }\n",
       "</style>\n",
       "<table border=\"1\" class=\"dataframe\">\n",
       "  <thead>\n",
       "    <tr style=\"text-align: right;\">\n",
       "      <th></th>\n",
       "      <th>Character_Fix</th>\n",
       "      <th>Season</th>\n",
       "      <th>Episode</th>\n",
       "      <th>Dialog</th>\n",
       "      <th>token_lemma</th>\n",
       "    </tr>\n",
       "  </thead>\n",
       "  <tbody>\n",
       "    <tr>\n",
       "      <th>5</th>\n",
       "      <td>HOPPER</td>\n",
       "      <td>3</td>\n",
       "      <td>5</td>\n",
       "      <td>Looks like somebody’s home. As the truck parks...</td>\n",
       "      <td>look like somebody home as the truck park we r...</td>\n",
       "    </tr>\n",
       "    <tr>\n",
       "      <th>6</th>\n",
       "      <td>HOPPER</td>\n",
       "      <td>3</td>\n",
       "      <td>5</td>\n",
       "      <td>Where’s that coming from? Joyce pauses at the ...</td>\n",
       "      <td>where that come from joyce pause at the foot o...</td>\n",
       "    </tr>\n",
       "    <tr>\n",
       "      <th>7</th>\n",
       "      <td>HOPPER</td>\n",
       "      <td>3</td>\n",
       "      <td>5</td>\n",
       "      <td>Hey, dipshits! The men drop their tools and st...</td>\n",
       "      <td>hey dipshit the man drop their tool and stand ...</td>\n",
       "    </tr>\n",
       "    <tr>\n",
       "      <th>8</th>\n",
       "      <td>HOPPER</td>\n",
       "      <td>3</td>\n",
       "      <td>5</td>\n",
       "      <td>Dr. Alexei steps forward, putting himself betw...</td>\n",
       "      <td>alexei step forward put himself between hopper...</td>\n",
       "    </tr>\n",
       "    <tr>\n",
       "      <th>10</th>\n",
       "      <td>HOPPER</td>\n",
       "      <td>3</td>\n",
       "      <td>5</td>\n",
       "      <td>English! You speak English? Alexei tries to ca...</td>\n",
       "      <td>english you speak english alexei try to calm t...</td>\n",
       "    </tr>\n",
       "    <tr>\n",
       "      <th>...</th>\n",
       "      <td>...</td>\n",
       "      <td>...</td>\n",
       "      <td>...</td>\n",
       "      <td>...</td>\n",
       "      <td>...</td>\n",
       "    </tr>\n",
       "    <tr>\n",
       "      <th>6063</th>\n",
       "      <td>SUSAN</td>\n",
       "      <td>2</td>\n",
       "      <td>9</td>\n",
       "      <td>See -- pretty -- !!</td>\n",
       "      <td>see pretty</td>\n",
       "    </tr>\n",
       "    <tr>\n",
       "      <th>6064</th>\n",
       "      <td>SUSAN</td>\n",
       "      <td>2</td>\n",
       "      <td>9</td>\n",
       "      <td>... Now -- you surrrre you don't  want to wear...</td>\n",
       "      <td>now you surrrre you do want to wear a dress ma...</td>\n",
       "    </tr>\n",
       "    <tr>\n",
       "      <th>6065</th>\n",
       "      <td>CLAUDIA</td>\n",
       "      <td>2</td>\n",
       "      <td>9</td>\n",
       "      <td>Where did you see it last?</td>\n",
       "      <td>where do you see it last</td>\n",
       "    </tr>\n",
       "    <tr>\n",
       "      <th>6066</th>\n",
       "      <td>CLAUDIA</td>\n",
       "      <td>2</td>\n",
       "      <td>9</td>\n",
       "      <td>What's in there that's so important  anyway?  ...</td>\n",
       "      <td>what in there that so important anyway you loo...</td>\n",
       "    </tr>\n",
       "    <tr>\n",
       "      <th>6067</th>\n",
       "      <td>CLAUDIA</td>\n",
       "      <td>2</td>\n",
       "      <td>9</td>\n",
       "      <td>That's your ride!  Dusty??? The bag from Melva...</td>\n",
       "      <td>that your ride dusty the bag from melvald upen...</td>\n",
       "    </tr>\n",
       "  </tbody>\n",
       "</table>\n",
       "<p>5451 rows × 5 columns</p>\n",
       "</div>"
      ],
      "text/plain": [
       "     Character_Fix  Season  Episode  \\\n",
       "5           HOPPER       3        5   \n",
       "6           HOPPER       3        5   \n",
       "7           HOPPER       3        5   \n",
       "8           HOPPER       3        5   \n",
       "10          HOPPER       3        5   \n",
       "...            ...     ...      ...   \n",
       "6063         SUSAN       2        9   \n",
       "6064         SUSAN       2        9   \n",
       "6065       CLAUDIA       2        9   \n",
       "6066       CLAUDIA       2        9   \n",
       "6067       CLAUDIA       2        9   \n",
       "\n",
       "                                                 Dialog  \\\n",
       "5     Looks like somebody’s home. As the truck parks...   \n",
       "6     Where’s that coming from? Joyce pauses at the ...   \n",
       "7     Hey, dipshits! The men drop their tools and st...   \n",
       "8     Dr. Alexei steps forward, putting himself betw...   \n",
       "10    English! You speak English? Alexei tries to ca...   \n",
       "...                                                 ...   \n",
       "6063                                See -- pretty -- !!   \n",
       "6064  ... Now -- you surrrre you don't  want to wear...   \n",
       "6065                         Where did you see it last?   \n",
       "6066  What's in there that's so important  anyway?  ...   \n",
       "6067  That's your ride!  Dusty??? The bag from Melva...   \n",
       "\n",
       "                                            token_lemma  \n",
       "5     look like somebody home as the truck park we r...  \n",
       "6     where that come from joyce pause at the foot o...  \n",
       "7     hey dipshit the man drop their tool and stand ...  \n",
       "8     alexei step forward put himself between hopper...  \n",
       "10    english you speak english alexei try to calm t...  \n",
       "...                                                 ...  \n",
       "6063                                         see pretty  \n",
       "6064  now you surrrre you do want to wear a dress ma...  \n",
       "6065                           where do you see it last  \n",
       "6066  what in there that so important anyway you loo...  \n",
       "6067  that your ride dusty the bag from melvald upen...  \n",
       "\n",
       "[5451 rows x 5 columns]"
      ]
     },
     "execution_count": 258,
     "metadata": {},
     "output_type": "execute_result"
    }
   ],
   "source": [
    "df_show"
   ]
  },
  {
   "cell_type": "markdown",
   "id": "12c62d7a",
   "metadata": {},
   "source": [
    "Supervised learning classification techniques:   \n",
    "Logistic Regression: to understand the strength of relationships by leveraging signals to approximate the most appropriate classification. This will be our baseline for classification.    \n",
    "Random Forest Classifier: to perform classification tasks on noisy and/or highly dimensional data by making use of an ensemble of decision trees for classification.     \n",
    "LinearSVM based regression: generalization capability of the words/lines with high prediction accuracy for character name, robust to outliers. Will need to transform all lines of text into vectors in order to encode and leverage the power of SVM.     \n",
    "\n",
    "Evaluation Metrics:\n",
    "F1 Score : mean of precision and recall scores    \n",
    "Precision : explains how many of the correctly predicted cases actually turned out to be positive. Precision is useful where False Positives are a higher concern than False Negatives.     \n",
    "AUC (Area Under the Curve): to measure how well the classifier was able to distinguish different classes, if our dataset proves to be imbalanced which might be the case since characters do speak different volumes of lines etc.    \n",
    "K-Fold cross validation accuracy: to measure and test if our various models' accuracy would be better, worse or the same if we had used a different section of the data set as a validation set. Evaluation is performed using different shuffling and chunking of the dataset through various iterations. This will be great because we can see the various scoring/evaluation metrics above at once (such as accuracy, precision, recall and f1)    \n",
    "Visualizations:\n",
    "Confusion matrix: in order to compare actual label versus predicted label (TP, TN, FP, FN) and identify proper (best) evaluation metrics/scoring to use.  \n",
    "Histograms: to show frequency of characters predicted (by probability with use of bins)\n",
    "We will try to inspect model performance via visualizations between different characters (classes).   \n",
    "Line charts for visualizing AUC-ROC and other results/metrics.    \n",
    "All visualizations will keep the Stranger Things aesthetic as well. Will look into building a visualization which is composed of characters face/faces with model output probabilities showing the confidence prediction. Or sentiment of characters lines spoken, we are sure there are characters which have more negative sentiment overall than others. We will scope out over the course of project work.    "
   ]
  },
  {
   "cell_type": "markdown",
   "id": "3d7eb007",
   "metadata": {},
   "source": [
    "### Logistic Regression"
   ]
  },
  {
   "cell_type": "code",
   "execution_count": 259,
   "id": "b81f6a45",
   "metadata": {},
   "outputs": [],
   "source": [
    "from sklearn.model_selection import train_test_split\n",
    "from sklearn.linear_model import LogisticRegression\n",
    "from sklearn import model_selection\n",
    "from sklearn.metrics import precision_recall_fscore_support\n",
    "from sklearn.feature_extraction.text import CountVectorizer,TfidfVectorizer\n",
    "from sklearn import preprocessing\n",
    "from sklearn.preprocessing import StandardScaler\n",
    "from sklearn import metrics"
   ]
  },
  {
   "cell_type": "code",
   "execution_count": 260,
   "id": "cb32dca7",
   "metadata": {},
   "outputs": [],
   "source": [
    "RANDOM_SEED = 655"
   ]
  },
  {
   "cell_type": "code",
   "execution_count": 261,
   "id": "adfca401",
   "metadata": {},
   "outputs": [
    {
     "data": {
      "text/html": [
       "<div>\n",
       "<style scoped>\n",
       "    .dataframe tbody tr th:only-of-type {\n",
       "        vertical-align: middle;\n",
       "    }\n",
       "\n",
       "    .dataframe tbody tr th {\n",
       "        vertical-align: top;\n",
       "    }\n",
       "\n",
       "    .dataframe thead th {\n",
       "        text-align: right;\n",
       "    }\n",
       "</style>\n",
       "<table border=\"1\" class=\"dataframe\">\n",
       "  <thead>\n",
       "    <tr style=\"text-align: right;\">\n",
       "      <th></th>\n",
       "      <th>Character_Fix</th>\n",
       "      <th>Season</th>\n",
       "      <th>Episode</th>\n",
       "      <th>Dialog</th>\n",
       "      <th>token_lemma</th>\n",
       "    </tr>\n",
       "  </thead>\n",
       "  <tbody>\n",
       "    <tr>\n",
       "      <th>5</th>\n",
       "      <td>HOPPER</td>\n",
       "      <td>3</td>\n",
       "      <td>5</td>\n",
       "      <td>Looks like somebody’s home. As the truck parks...</td>\n",
       "      <td>look like somebody home as the truck park we r...</td>\n",
       "    </tr>\n",
       "    <tr>\n",
       "      <th>6</th>\n",
       "      <td>HOPPER</td>\n",
       "      <td>3</td>\n",
       "      <td>5</td>\n",
       "      <td>Where’s that coming from? Joyce pauses at the ...</td>\n",
       "      <td>where that come from joyce pause at the foot o...</td>\n",
       "    </tr>\n",
       "    <tr>\n",
       "      <th>7</th>\n",
       "      <td>HOPPER</td>\n",
       "      <td>3</td>\n",
       "      <td>5</td>\n",
       "      <td>Hey, dipshits! The men drop their tools and st...</td>\n",
       "      <td>hey dipshit the man drop their tool and stand ...</td>\n",
       "    </tr>\n",
       "    <tr>\n",
       "      <th>8</th>\n",
       "      <td>HOPPER</td>\n",
       "      <td>3</td>\n",
       "      <td>5</td>\n",
       "      <td>Dr. Alexei steps forward, putting himself betw...</td>\n",
       "      <td>alexei step forward put himself between hopper...</td>\n",
       "    </tr>\n",
       "    <tr>\n",
       "      <th>10</th>\n",
       "      <td>HOPPER</td>\n",
       "      <td>3</td>\n",
       "      <td>5</td>\n",
       "      <td>English! You speak English? Alexei tries to ca...</td>\n",
       "      <td>english you speak english alexei try to calm t...</td>\n",
       "    </tr>\n",
       "    <tr>\n",
       "      <th>...</th>\n",
       "      <td>...</td>\n",
       "      <td>...</td>\n",
       "      <td>...</td>\n",
       "      <td>...</td>\n",
       "      <td>...</td>\n",
       "    </tr>\n",
       "    <tr>\n",
       "      <th>6063</th>\n",
       "      <td>SUSAN</td>\n",
       "      <td>2</td>\n",
       "      <td>9</td>\n",
       "      <td>See -- pretty -- !!</td>\n",
       "      <td>see pretty</td>\n",
       "    </tr>\n",
       "    <tr>\n",
       "      <th>6064</th>\n",
       "      <td>SUSAN</td>\n",
       "      <td>2</td>\n",
       "      <td>9</td>\n",
       "      <td>... Now -- you surrrre you don't  want to wear...</td>\n",
       "      <td>now you surrrre you do want to wear a dress ma...</td>\n",
       "    </tr>\n",
       "    <tr>\n",
       "      <th>6065</th>\n",
       "      <td>CLAUDIA</td>\n",
       "      <td>2</td>\n",
       "      <td>9</td>\n",
       "      <td>Where did you see it last?</td>\n",
       "      <td>where do you see it last</td>\n",
       "    </tr>\n",
       "    <tr>\n",
       "      <th>6066</th>\n",
       "      <td>CLAUDIA</td>\n",
       "      <td>2</td>\n",
       "      <td>9</td>\n",
       "      <td>What's in there that's so important  anyway?  ...</td>\n",
       "      <td>what in there that so important anyway you loo...</td>\n",
       "    </tr>\n",
       "    <tr>\n",
       "      <th>6067</th>\n",
       "      <td>CLAUDIA</td>\n",
       "      <td>2</td>\n",
       "      <td>9</td>\n",
       "      <td>That's your ride!  Dusty??? The bag from Melva...</td>\n",
       "      <td>that your ride dusty the bag from melvald upen...</td>\n",
       "    </tr>\n",
       "  </tbody>\n",
       "</table>\n",
       "<p>5451 rows × 5 columns</p>\n",
       "</div>"
      ],
      "text/plain": [
       "     Character_Fix  Season  Episode  \\\n",
       "5           HOPPER       3        5   \n",
       "6           HOPPER       3        5   \n",
       "7           HOPPER       3        5   \n",
       "8           HOPPER       3        5   \n",
       "10          HOPPER       3        5   \n",
       "...            ...     ...      ...   \n",
       "6063         SUSAN       2        9   \n",
       "6064         SUSAN       2        9   \n",
       "6065       CLAUDIA       2        9   \n",
       "6066       CLAUDIA       2        9   \n",
       "6067       CLAUDIA       2        9   \n",
       "\n",
       "                                                 Dialog  \\\n",
       "5     Looks like somebody’s home. As the truck parks...   \n",
       "6     Where’s that coming from? Joyce pauses at the ...   \n",
       "7     Hey, dipshits! The men drop their tools and st...   \n",
       "8     Dr. Alexei steps forward, putting himself betw...   \n",
       "10    English! You speak English? Alexei tries to ca...   \n",
       "...                                                 ...   \n",
       "6063                                See -- pretty -- !!   \n",
       "6064  ... Now -- you surrrre you don't  want to wear...   \n",
       "6065                         Where did you see it last?   \n",
       "6066  What's in there that's so important  anyway?  ...   \n",
       "6067  That's your ride!  Dusty??? The bag from Melva...   \n",
       "\n",
       "                                            token_lemma  \n",
       "5     look like somebody home as the truck park we r...  \n",
       "6     where that come from joyce pause at the foot o...  \n",
       "7     hey dipshit the man drop their tool and stand ...  \n",
       "8     alexei step forward put himself between hopper...  \n",
       "10    english you speak english alexei try to calm t...  \n",
       "...                                                 ...  \n",
       "6063                                         see pretty  \n",
       "6064  now you surrrre you do want to wear a dress ma...  \n",
       "6065                           where do you see it last  \n",
       "6066  what in there that so important anyway you loo...  \n",
       "6067  that your ride dusty the bag from melvald upen...  \n",
       "\n",
       "[5451 rows x 5 columns]"
      ]
     },
     "execution_count": 261,
     "metadata": {},
     "output_type": "execute_result"
    }
   ],
   "source": [
    "df_show"
   ]
  },
  {
   "cell_type": "code",
   "execution_count": 262,
   "id": "e2ba21ce",
   "metadata": {},
   "outputs": [],
   "source": [
    "df_show['length'] = df_show.token_lemma.apply(lambda x: len(x))"
   ]
  },
  {
   "cell_type": "code",
   "execution_count": 263,
   "id": "84661590",
   "metadata": {},
   "outputs": [],
   "source": [
    "check = df_show.groupby(['length']).min().reset_index()"
   ]
  },
  {
   "cell_type": "code",
   "execution_count": 264,
   "id": "d998ae69",
   "metadata": {},
   "outputs": [
    {
     "data": {
      "text/html": [
       "<div>\n",
       "<style scoped>\n",
       "    .dataframe tbody tr th:only-of-type {\n",
       "        vertical-align: middle;\n",
       "    }\n",
       "\n",
       "    .dataframe tbody tr th {\n",
       "        vertical-align: top;\n",
       "    }\n",
       "\n",
       "    .dataframe thead th {\n",
       "        text-align: right;\n",
       "    }\n",
       "</style>\n",
       "<table border=\"1\" class=\"dataframe\">\n",
       "  <thead>\n",
       "    <tr style=\"text-align: right;\">\n",
       "      <th></th>\n",
       "      <th>length</th>\n",
       "      <th>Character_Fix</th>\n",
       "      <th>Season</th>\n",
       "      <th>Episode</th>\n",
       "      <th>Dialog</th>\n",
       "      <th>token_lemma</th>\n",
       "    </tr>\n",
       "  </thead>\n",
       "  <tbody>\n",
       "    <tr>\n",
       "      <th>0</th>\n",
       "      <td>0</td>\n",
       "      <td>STEVE</td>\n",
       "      <td>3</td>\n",
       "      <td>5</td>\n",
       "      <td>2/8</td>\n",
       "      <td></td>\n",
       "    </tr>\n",
       "    <tr>\n",
       "      <th>1</th>\n",
       "      <td>2</td>\n",
       "      <td>BILLY</td>\n",
       "      <td>1</td>\n",
       "      <td>1</td>\n",
       "      <td>-- Hi...</td>\n",
       "      <td>go</td>\n",
       "    </tr>\n",
       "    <tr>\n",
       "      <th>2</th>\n",
       "      <td>3</td>\n",
       "      <td>DEPUTY CALLAHAN</td>\n",
       "      <td>1</td>\n",
       "      <td>1</td>\n",
       "      <td>... God --</td>\n",
       "      <td>and</td>\n",
       "    </tr>\n",
       "    <tr>\n",
       "      <th>3</th>\n",
       "      <td>4</td>\n",
       "      <td>ARGYLE</td>\n",
       "      <td>1</td>\n",
       "      <td>1</td>\n",
       "      <td>Boop.</td>\n",
       "      <td>boop</td>\n",
       "    </tr>\n",
       "    <tr>\n",
       "      <th>4</th>\n",
       "      <td>5</td>\n",
       "      <td>BILLY</td>\n",
       "      <td>1</td>\n",
       "      <td>1</td>\n",
       "      <td>, LUCAS</td>\n",
       "      <td>a man</td>\n",
       "    </tr>\n",
       "  </tbody>\n",
       "</table>\n",
       "</div>"
      ],
      "text/plain": [
       "   length    Character_Fix  Season  Episode       Dialog token_lemma\n",
       "0       0            STEVE       3        5          2/8            \n",
       "1       2            BILLY       1        1   -- Hi...            go\n",
       "2       3  DEPUTY CALLAHAN       1        1  ... God --          and\n",
       "3       4           ARGYLE       1        1        Boop.        boop\n",
       "4       5            BILLY       1        1     , LUCAS        a man"
      ]
     },
     "execution_count": 264,
     "metadata": {},
     "output_type": "execute_result"
    }
   ],
   "source": [
    "check.iloc[0:5,:]"
   ]
  },
  {
   "cell_type": "code",
   "execution_count": 265,
   "id": "d8611322",
   "metadata": {},
   "outputs": [],
   "source": [
    "df_show2= df_show.explode(column='token_lemma').dropna(subset=['token_lemma'])"
   ]
  },
  {
   "cell_type": "code",
   "execution_count": 266,
   "id": "ef3eb141",
   "metadata": {},
   "outputs": [
    {
     "data": {
      "text/html": [
       "<div>\n",
       "<style scoped>\n",
       "    .dataframe tbody tr th:only-of-type {\n",
       "        vertical-align: middle;\n",
       "    }\n",
       "\n",
       "    .dataframe tbody tr th {\n",
       "        vertical-align: top;\n",
       "    }\n",
       "\n",
       "    .dataframe thead th {\n",
       "        text-align: right;\n",
       "    }\n",
       "</style>\n",
       "<table border=\"1\" class=\"dataframe\">\n",
       "  <thead>\n",
       "    <tr style=\"text-align: right;\">\n",
       "      <th></th>\n",
       "      <th>Character_Fix</th>\n",
       "      <th>Season</th>\n",
       "      <th>Episode</th>\n",
       "      <th>Dialog</th>\n",
       "      <th>token_lemma</th>\n",
       "      <th>length</th>\n",
       "    </tr>\n",
       "  </thead>\n",
       "  <tbody>\n",
       "    <tr>\n",
       "      <th>5</th>\n",
       "      <td>HOPPER</td>\n",
       "      <td>3</td>\n",
       "      <td>5</td>\n",
       "      <td>Looks like somebody’s home. As the truck parks...</td>\n",
       "      <td>look like somebody home as the truck park we r...</td>\n",
       "      <td>303</td>\n",
       "    </tr>\n",
       "    <tr>\n",
       "      <th>6</th>\n",
       "      <td>HOPPER</td>\n",
       "      <td>3</td>\n",
       "      <td>5</td>\n",
       "      <td>Where’s that coming from? Joyce pauses at the ...</td>\n",
       "      <td>where that come from joyce pause at the foot o...</td>\n",
       "      <td>150</td>\n",
       "    </tr>\n",
       "    <tr>\n",
       "      <th>7</th>\n",
       "      <td>HOPPER</td>\n",
       "      <td>3</td>\n",
       "      <td>5</td>\n",
       "      <td>Hey, dipshits! The men drop their tools and st...</td>\n",
       "      <td>hey dipshit the man drop their tool and stand ...</td>\n",
       "      <td>72</td>\n",
       "    </tr>\n",
       "    <tr>\n",
       "      <th>8</th>\n",
       "      <td>HOPPER</td>\n",
       "      <td>3</td>\n",
       "      <td>5</td>\n",
       "      <td>Dr. Alexei steps forward, putting himself betw...</td>\n",
       "      <td>alexei step forward put himself between hopper...</td>\n",
       "      <td>140</td>\n",
       "    </tr>\n",
       "    <tr>\n",
       "      <th>10</th>\n",
       "      <td>HOPPER</td>\n",
       "      <td>3</td>\n",
       "      <td>5</td>\n",
       "      <td>English! You speak English? Alexei tries to ca...</td>\n",
       "      <td>english you speak english alexei try to calm t...</td>\n",
       "      <td>58</td>\n",
       "    </tr>\n",
       "  </tbody>\n",
       "</table>\n",
       "</div>"
      ],
      "text/plain": [
       "   Character_Fix  Season  Episode  \\\n",
       "5         HOPPER       3        5   \n",
       "6         HOPPER       3        5   \n",
       "7         HOPPER       3        5   \n",
       "8         HOPPER       3        5   \n",
       "10        HOPPER       3        5   \n",
       "\n",
       "                                               Dialog  \\\n",
       "5   Looks like somebody’s home. As the truck parks...   \n",
       "6   Where’s that coming from? Joyce pauses at the ...   \n",
       "7   Hey, dipshits! The men drop their tools and st...   \n",
       "8   Dr. Alexei steps forward, putting himself betw...   \n",
       "10  English! You speak English? Alexei tries to ca...   \n",
       "\n",
       "                                          token_lemma  length  \n",
       "5   look like somebody home as the truck park we r...     303  \n",
       "6   where that come from joyce pause at the foot o...     150  \n",
       "7   hey dipshit the man drop their tool and stand ...      72  \n",
       "8   alexei step forward put himself between hopper...     140  \n",
       "10  english you speak english alexei try to calm t...      58  "
      ]
     },
     "execution_count": 266,
     "metadata": {},
     "output_type": "execute_result"
    }
   ],
   "source": [
    "df_show2.head()"
   ]
  },
  {
   "cell_type": "code",
   "execution_count": 267,
   "id": "dec12721",
   "metadata": {},
   "outputs": [
    {
     "name": "stdout",
     "output_type": "stream",
     "text": [
      "4360 1091\n"
     ]
    }
   ],
   "source": [
    "train_df, test_df = \\\n",
    "              np.split(df_show.sample(frac=1, random_state=RANDOM_SEED), \n",
    "                       [int(.8*len(df_show))])\n",
    "print(len(train_df), len(test_df))"
   ]
  },
  {
   "cell_type": "code",
   "execution_count": 268,
   "id": "dc613473",
   "metadata": {},
   "outputs": [],
   "source": [
    "#bow_converter = CountVectorizer()\n",
    "#x = bow_converter.fit_transform(train_df['token_lemma'])\n",
    "#words = bow_converter.get_feature_names_out()\n",
    "#len(words)"
   ]
  },
  {
   "cell_type": "code",
   "execution_count": 269,
   "id": "1887be34",
   "metadata": {},
   "outputs": [],
   "source": [
    "#words"
   ]
  },
  {
   "cell_type": "code",
   "execution_count": 270,
   "id": "db321390",
   "metadata": {},
   "outputs": [],
   "source": [
    "vectorizer = TfidfVectorizer(min_df = 20, stop_words = 'english')\n",
    "X_train = vectorizer.fit_transform(train_df.token_lemma)\n",
    "X_test = vectorizer.transform(test_df.token_lemma)"
   ]
  },
  {
   "cell_type": "code",
   "execution_count": 271,
   "id": "a46c1b92",
   "metadata": {},
   "outputs": [],
   "source": [
    "y_train=train_df['Character_Fix'].values\n",
    "y_test=test_df['Character_Fix'].values"
   ]
  },
  {
   "cell_type": "code",
   "execution_count": 272,
   "id": "224f79ec",
   "metadata": {},
   "outputs": [],
   "source": [
    "X_scaler = preprocessing.StandardScaler(with_mean=False).fit_transform(X_train)\n",
    "X_test_Scaler = preprocessing.StandardScaler(with_mean=False).fit_transform(X_test)"
   ]
  },
  {
   "cell_type": "code",
   "execution_count": 273,
   "id": "61a9f2ae",
   "metadata": {},
   "outputs": [],
   "source": [
    "lg_model = LogisticRegression(max_iter = 500, \\\n",
    "                              random_state=RANDOM_SEED,\\\n",
    "                              solver = 'liblinear').fit(X_scaler, y_train)"
   ]
  },
  {
   "cell_type": "code",
   "execution_count": 274,
   "id": "a0320ac8",
   "metadata": {},
   "outputs": [],
   "source": [
    "y_pred_lg_model = lg_model.predict(X_test_Scaler)"
   ]
  },
  {
   "cell_type": "code",
   "execution_count": 275,
   "id": "955369ca",
   "metadata": {},
   "outputs": [],
   "source": [
    "accm = metrics.accuracy_score(y_test,y_pred_lg_model)\n",
    "lg_model_scr = lg_model.score(X_test_Scaler, y_test)"
   ]
  },
  {
   "cell_type": "code",
   "execution_count": 352,
   "id": "2b909198",
   "metadata": {},
   "outputs": [],
   "source": [
    "lg_model_Train_scr = lg_model.score(X_scaler, y_train)"
   ]
  },
  {
   "cell_type": "code",
   "execution_count": 353,
   "id": "43ba22c7",
   "metadata": {},
   "outputs": [
    {
     "data": {
      "text/plain": [
       "0.45137614678899085"
      ]
     },
     "execution_count": 353,
     "metadata": {},
     "output_type": "execute_result"
    }
   ],
   "source": [
    "lg_model_Train_scr"
   ]
  },
  {
   "cell_type": "code",
   "execution_count": 276,
   "id": "7d168eb7",
   "metadata": {},
   "outputs": [
    {
     "data": {
      "text/plain": [
       "0.1759853345554537"
      ]
     },
     "execution_count": 276,
     "metadata": {},
     "output_type": "execute_result"
    }
   ],
   "source": [
    "accm"
   ]
  },
  {
   "cell_type": "code",
   "execution_count": 277,
   "id": "5bdb080a",
   "metadata": {},
   "outputs": [
    {
     "data": {
      "text/plain": [
       "0.1759853345554537"
      ]
     },
     "execution_count": 277,
     "metadata": {},
     "output_type": "execute_result"
    }
   ],
   "source": [
    "lg_model_scr"
   ]
  },
  {
   "cell_type": "markdown",
   "id": "fa03a409",
   "metadata": {},
   "source": [
    "### Terrible score now we hyperparameter tune!"
   ]
  },
  {
   "cell_type": "code",
   "execution_count": 314,
   "id": "b2b03e72",
   "metadata": {},
   "outputs": [],
   "source": [
    "param_grid_ = {'C': np.logspace(-3,3,7),\n",
    "                'penalty':['l1','l2'],\n",
    "                'solver':['liblinear','lbfgs','newton-cg','sag','saga'],\n",
    "                }\n",
    "#bow_search = model_selection.GridSearchCV(LogisticRegression(), cv=5, param_grid=param_grid_)\n",
    "tfidf_search = model_selection.GridSearchCV(LogisticRegression(random_state = RANDOM_SEED,\\\n",
    "                                                              max_iter = 500),n_jobs = 50,\n",
    "                                                              param_grid=param_grid_,\n",
    "                                                              scoring = 'accuracy',\n",
    "                                                              cv = 5)\n",
    "\n",
    "tfidf_search.fit(X_scaler, y_train)\n",
    "\n",
    "print(\"Tuned Hyperparameters:\", tfidf_search.best_params_)\n",
    "print(\"Accuracy:\",tfidf_search.best_score_)"
   ]
  },
  {
   "cell_type": "markdown",
   "id": "54d5398c",
   "metadata": {},
   "source": [
    "### Accuracy is still terrible so we will do two things to try and help out the data set.   \n",
    "### 1. Only use characters who are top 20 characters (1st attempt)\n",
    "### 2. 1st attempt along with only getting spoken dialog where there are more than 2 or 3 words."
   ]
  },
  {
   "cell_type": "markdown",
   "id": "d00ed28d",
   "metadata": {},
   "source": [
    "### We can also add the gender along with season and episode as features?"
   ]
  },
  {
   "cell_type": "code",
   "execution_count": 322,
   "id": "b9dc15e2",
   "metadata": {},
   "outputs": [],
   "source": [
    "df = pd.DataFrame(list(zip(y_test,y_pred_lg_model)), columns = ['Character', 'Predicted'])\n",
    "#df['Error'] = df['Character'] - df['Predicted']\n",
    "\n",
    "#Plot the joint distribution\n",
    "#Let's start by seeing how the two distributions line up\n",
    "#sns.barplot(data=df, x='Character', y='Predicted', kind=\"hex\", color=\"red\",\n",
    "#             )"
   ]
  },
  {
   "cell_type": "code",
   "execution_count": 279,
   "id": "d7a5f003",
   "metadata": {},
   "outputs": [],
   "source": [
    "df_tf = pd.DataFrame(X_scaler.toarray(), columns=vectorizer.get_feature_names_out())"
   ]
  },
  {
   "cell_type": "code",
   "execution_count": 280,
   "id": "dc1e4c85",
   "metadata": {},
   "outputs": [
    {
     "data": {
      "text/plain": [
       "(4360, 289)"
      ]
     },
     "execution_count": 280,
     "metadata": {},
     "output_type": "execute_result"
    }
   ],
   "source": [
    "df_tf.shape"
   ]
  },
  {
   "cell_type": "code",
   "execution_count": 467,
   "id": "599486cc",
   "metadata": {},
   "outputs": [
    {
     "data": {
      "text/html": [
       "<div>\n",
       "<style scoped>\n",
       "    .dataframe tbody tr th:only-of-type {\n",
       "        vertical-align: middle;\n",
       "    }\n",
       "\n",
       "    .dataframe tbody tr th {\n",
       "        vertical-align: top;\n",
       "    }\n",
       "\n",
       "    .dataframe thead th {\n",
       "        text-align: right;\n",
       "    }\n",
       "</style>\n",
       "<table border=\"1\" class=\"dataframe\">\n",
       "  <thead>\n",
       "    <tr style=\"text-align: right;\">\n",
       "      <th></th>\n",
       "      <th>actually</th>\n",
       "      <th>ago</th>\n",
       "      <th>ahead</th>\n",
       "      <th>alexei</th>\n",
       "      <th>answer</th>\n",
       "      <th>approach</th>\n",
       "      <th>arm</th>\n",
       "      <th>ask</th>\n",
       "      <th>attention</th>\n",
       "      <th>away</th>\n",
       "      <th>...</th>\n",
       "      <th>whoa</th>\n",
       "      <th>window</th>\n",
       "      <th>word</th>\n",
       "      <th>work</th>\n",
       "      <th>world</th>\n",
       "      <th>wrong</th>\n",
       "      <th>yeah</th>\n",
       "      <th>year</th>\n",
       "      <th>yes</th>\n",
       "      <th>yuri</th>\n",
       "    </tr>\n",
       "  </thead>\n",
       "  <tbody>\n",
       "    <tr>\n",
       "      <th>0</th>\n",
       "      <td>0.0</td>\n",
       "      <td>0.000000</td>\n",
       "      <td>0.0</td>\n",
       "      <td>0.0</td>\n",
       "      <td>0.0</td>\n",
       "      <td>0.0</td>\n",
       "      <td>0.0</td>\n",
       "      <td>0.000000</td>\n",
       "      <td>0.0</td>\n",
       "      <td>0.0</td>\n",
       "      <td>...</td>\n",
       "      <td>0.0</td>\n",
       "      <td>0.0</td>\n",
       "      <td>0.000000</td>\n",
       "      <td>0.0</td>\n",
       "      <td>0.0</td>\n",
       "      <td>0.0</td>\n",
       "      <td>0.0</td>\n",
       "      <td>0.000000</td>\n",
       "      <td>14.042199</td>\n",
       "      <td>0.0</td>\n",
       "    </tr>\n",
       "    <tr>\n",
       "      <th>1</th>\n",
       "      <td>0.0</td>\n",
       "      <td>0.000000</td>\n",
       "      <td>0.0</td>\n",
       "      <td>0.0</td>\n",
       "      <td>0.0</td>\n",
       "      <td>0.0</td>\n",
       "      <td>0.0</td>\n",
       "      <td>0.000000</td>\n",
       "      <td>0.0</td>\n",
       "      <td>0.0</td>\n",
       "      <td>...</td>\n",
       "      <td>0.0</td>\n",
       "      <td>0.0</td>\n",
       "      <td>0.000000</td>\n",
       "      <td>0.0</td>\n",
       "      <td>0.0</td>\n",
       "      <td>0.0</td>\n",
       "      <td>0.0</td>\n",
       "      <td>0.000000</td>\n",
       "      <td>0.000000</td>\n",
       "      <td>0.0</td>\n",
       "    </tr>\n",
       "    <tr>\n",
       "      <th>2</th>\n",
       "      <td>0.0</td>\n",
       "      <td>0.000000</td>\n",
       "      <td>0.0</td>\n",
       "      <td>0.0</td>\n",
       "      <td>0.0</td>\n",
       "      <td>0.0</td>\n",
       "      <td>0.0</td>\n",
       "      <td>0.000000</td>\n",
       "      <td>0.0</td>\n",
       "      <td>0.0</td>\n",
       "      <td>...</td>\n",
       "      <td>0.0</td>\n",
       "      <td>0.0</td>\n",
       "      <td>0.000000</td>\n",
       "      <td>0.0</td>\n",
       "      <td>0.0</td>\n",
       "      <td>0.0</td>\n",
       "      <td>0.0</td>\n",
       "      <td>0.000000</td>\n",
       "      <td>0.000000</td>\n",
       "      <td>0.0</td>\n",
       "    </tr>\n",
       "    <tr>\n",
       "      <th>3</th>\n",
       "      <td>0.0</td>\n",
       "      <td>0.000000</td>\n",
       "      <td>0.0</td>\n",
       "      <td>0.0</td>\n",
       "      <td>0.0</td>\n",
       "      <td>0.0</td>\n",
       "      <td>0.0</td>\n",
       "      <td>0.000000</td>\n",
       "      <td>0.0</td>\n",
       "      <td>0.0</td>\n",
       "      <td>...</td>\n",
       "      <td>0.0</td>\n",
       "      <td>0.0</td>\n",
       "      <td>0.000000</td>\n",
       "      <td>0.0</td>\n",
       "      <td>0.0</td>\n",
       "      <td>0.0</td>\n",
       "      <td>0.0</td>\n",
       "      <td>0.000000</td>\n",
       "      <td>0.000000</td>\n",
       "      <td>0.0</td>\n",
       "    </tr>\n",
       "    <tr>\n",
       "      <th>4</th>\n",
       "      <td>0.0</td>\n",
       "      <td>0.000000</td>\n",
       "      <td>0.0</td>\n",
       "      <td>0.0</td>\n",
       "      <td>0.0</td>\n",
       "      <td>0.0</td>\n",
       "      <td>0.0</td>\n",
       "      <td>14.287376</td>\n",
       "      <td>0.0</td>\n",
       "      <td>0.0</td>\n",
       "      <td>...</td>\n",
       "      <td>0.0</td>\n",
       "      <td>0.0</td>\n",
       "      <td>0.000000</td>\n",
       "      <td>0.0</td>\n",
       "      <td>0.0</td>\n",
       "      <td>0.0</td>\n",
       "      <td>0.0</td>\n",
       "      <td>0.000000</td>\n",
       "      <td>0.000000</td>\n",
       "      <td>0.0</td>\n",
       "    </tr>\n",
       "    <tr>\n",
       "      <th>...</th>\n",
       "      <td>...</td>\n",
       "      <td>...</td>\n",
       "      <td>...</td>\n",
       "      <td>...</td>\n",
       "      <td>...</td>\n",
       "      <td>...</td>\n",
       "      <td>...</td>\n",
       "      <td>...</td>\n",
       "      <td>...</td>\n",
       "      <td>...</td>\n",
       "      <td>...</td>\n",
       "      <td>...</td>\n",
       "      <td>...</td>\n",
       "      <td>...</td>\n",
       "      <td>...</td>\n",
       "      <td>...</td>\n",
       "      <td>...</td>\n",
       "      <td>...</td>\n",
       "      <td>...</td>\n",
       "      <td>...</td>\n",
       "      <td>...</td>\n",
       "    </tr>\n",
       "    <tr>\n",
       "      <th>4355</th>\n",
       "      <td>0.0</td>\n",
       "      <td>0.000000</td>\n",
       "      <td>0.0</td>\n",
       "      <td>0.0</td>\n",
       "      <td>0.0</td>\n",
       "      <td>0.0</td>\n",
       "      <td>0.0</td>\n",
       "      <td>0.000000</td>\n",
       "      <td>0.0</td>\n",
       "      <td>0.0</td>\n",
       "      <td>...</td>\n",
       "      <td>0.0</td>\n",
       "      <td>0.0</td>\n",
       "      <td>0.000000</td>\n",
       "      <td>0.0</td>\n",
       "      <td>0.0</td>\n",
       "      <td>0.0</td>\n",
       "      <td>0.0</td>\n",
       "      <td>0.000000</td>\n",
       "      <td>0.000000</td>\n",
       "      <td>0.0</td>\n",
       "    </tr>\n",
       "    <tr>\n",
       "      <th>4356</th>\n",
       "      <td>0.0</td>\n",
       "      <td>0.000000</td>\n",
       "      <td>0.0</td>\n",
       "      <td>0.0</td>\n",
       "      <td>0.0</td>\n",
       "      <td>0.0</td>\n",
       "      <td>0.0</td>\n",
       "      <td>0.000000</td>\n",
       "      <td>0.0</td>\n",
       "      <td>0.0</td>\n",
       "      <td>...</td>\n",
       "      <td>0.0</td>\n",
       "      <td>0.0</td>\n",
       "      <td>0.000000</td>\n",
       "      <td>0.0</td>\n",
       "      <td>0.0</td>\n",
       "      <td>0.0</td>\n",
       "      <td>0.0</td>\n",
       "      <td>0.000000</td>\n",
       "      <td>0.000000</td>\n",
       "      <td>0.0</td>\n",
       "    </tr>\n",
       "    <tr>\n",
       "      <th>4357</th>\n",
       "      <td>0.0</td>\n",
       "      <td>20.384901</td>\n",
       "      <td>0.0</td>\n",
       "      <td>0.0</td>\n",
       "      <td>0.0</td>\n",
       "      <td>0.0</td>\n",
       "      <td>0.0</td>\n",
       "      <td>0.000000</td>\n",
       "      <td>0.0</td>\n",
       "      <td>0.0</td>\n",
       "      <td>...</td>\n",
       "      <td>0.0</td>\n",
       "      <td>0.0</td>\n",
       "      <td>0.000000</td>\n",
       "      <td>0.0</td>\n",
       "      <td>0.0</td>\n",
       "      <td>0.0</td>\n",
       "      <td>0.0</td>\n",
       "      <td>17.600958</td>\n",
       "      <td>0.000000</td>\n",
       "      <td>0.0</td>\n",
       "    </tr>\n",
       "    <tr>\n",
       "      <th>4358</th>\n",
       "      <td>0.0</td>\n",
       "      <td>0.000000</td>\n",
       "      <td>0.0</td>\n",
       "      <td>0.0</td>\n",
       "      <td>0.0</td>\n",
       "      <td>0.0</td>\n",
       "      <td>0.0</td>\n",
       "      <td>0.000000</td>\n",
       "      <td>0.0</td>\n",
       "      <td>0.0</td>\n",
       "      <td>...</td>\n",
       "      <td>0.0</td>\n",
       "      <td>0.0</td>\n",
       "      <td>0.000000</td>\n",
       "      <td>0.0</td>\n",
       "      <td>0.0</td>\n",
       "      <td>0.0</td>\n",
       "      <td>0.0</td>\n",
       "      <td>0.000000</td>\n",
       "      <td>0.000000</td>\n",
       "      <td>0.0</td>\n",
       "    </tr>\n",
       "    <tr>\n",
       "      <th>4359</th>\n",
       "      <td>0.0</td>\n",
       "      <td>0.000000</td>\n",
       "      <td>0.0</td>\n",
       "      <td>0.0</td>\n",
       "      <td>0.0</td>\n",
       "      <td>0.0</td>\n",
       "      <td>0.0</td>\n",
       "      <td>0.000000</td>\n",
       "      <td>0.0</td>\n",
       "      <td>0.0</td>\n",
       "      <td>...</td>\n",
       "      <td>0.0</td>\n",
       "      <td>0.0</td>\n",
       "      <td>24.036851</td>\n",
       "      <td>0.0</td>\n",
       "      <td>0.0</td>\n",
       "      <td>0.0</td>\n",
       "      <td>0.0</td>\n",
       "      <td>0.000000</td>\n",
       "      <td>0.000000</td>\n",
       "      <td>0.0</td>\n",
       "    </tr>\n",
       "  </tbody>\n",
       "</table>\n",
       "<p>4360 rows × 289 columns</p>\n",
       "</div>"
      ],
      "text/plain": [
       "      actually        ago  ahead  alexei  answer  approach  arm        ask  \\\n",
       "0          0.0   0.000000    0.0     0.0     0.0       0.0  0.0   0.000000   \n",
       "1          0.0   0.000000    0.0     0.0     0.0       0.0  0.0   0.000000   \n",
       "2          0.0   0.000000    0.0     0.0     0.0       0.0  0.0   0.000000   \n",
       "3          0.0   0.000000    0.0     0.0     0.0       0.0  0.0   0.000000   \n",
       "4          0.0   0.000000    0.0     0.0     0.0       0.0  0.0  14.287376   \n",
       "...        ...        ...    ...     ...     ...       ...  ...        ...   \n",
       "4355       0.0   0.000000    0.0     0.0     0.0       0.0  0.0   0.000000   \n",
       "4356       0.0   0.000000    0.0     0.0     0.0       0.0  0.0   0.000000   \n",
       "4357       0.0  20.384901    0.0     0.0     0.0       0.0  0.0   0.000000   \n",
       "4358       0.0   0.000000    0.0     0.0     0.0       0.0  0.0   0.000000   \n",
       "4359       0.0   0.000000    0.0     0.0     0.0       0.0  0.0   0.000000   \n",
       "\n",
       "      attention  away  ...  whoa  window       word  work  world  wrong  yeah  \\\n",
       "0           0.0   0.0  ...   0.0     0.0   0.000000   0.0    0.0    0.0   0.0   \n",
       "1           0.0   0.0  ...   0.0     0.0   0.000000   0.0    0.0    0.0   0.0   \n",
       "2           0.0   0.0  ...   0.0     0.0   0.000000   0.0    0.0    0.0   0.0   \n",
       "3           0.0   0.0  ...   0.0     0.0   0.000000   0.0    0.0    0.0   0.0   \n",
       "4           0.0   0.0  ...   0.0     0.0   0.000000   0.0    0.0    0.0   0.0   \n",
       "...         ...   ...  ...   ...     ...        ...   ...    ...    ...   ...   \n",
       "4355        0.0   0.0  ...   0.0     0.0   0.000000   0.0    0.0    0.0   0.0   \n",
       "4356        0.0   0.0  ...   0.0     0.0   0.000000   0.0    0.0    0.0   0.0   \n",
       "4357        0.0   0.0  ...   0.0     0.0   0.000000   0.0    0.0    0.0   0.0   \n",
       "4358        0.0   0.0  ...   0.0     0.0   0.000000   0.0    0.0    0.0   0.0   \n",
       "4359        0.0   0.0  ...   0.0     0.0  24.036851   0.0    0.0    0.0   0.0   \n",
       "\n",
       "           year        yes  yuri  \n",
       "0      0.000000  14.042199   0.0  \n",
       "1      0.000000   0.000000   0.0  \n",
       "2      0.000000   0.000000   0.0  \n",
       "3      0.000000   0.000000   0.0  \n",
       "4      0.000000   0.000000   0.0  \n",
       "...         ...        ...   ...  \n",
       "4355   0.000000   0.000000   0.0  \n",
       "4356   0.000000   0.000000   0.0  \n",
       "4357  17.600958   0.000000   0.0  \n",
       "4358   0.000000   0.000000   0.0  \n",
       "4359   0.000000   0.000000   0.0  \n",
       "\n",
       "[4360 rows x 289 columns]"
      ]
     },
     "execution_count": 467,
     "metadata": {},
     "output_type": "execute_result"
    }
   ],
   "source": [
    "df_tf"
   ]
  },
  {
   "cell_type": "code",
   "execution_count": 281,
   "id": "6e3beeae",
   "metadata": {},
   "outputs": [
    {
     "data": {
      "text/plain": [
       "(4360, 6)"
      ]
     },
     "execution_count": 281,
     "metadata": {},
     "output_type": "execute_result"
    }
   ],
   "source": [
    "train_df.shape"
   ]
  },
  {
   "cell_type": "code",
   "execution_count": 282,
   "id": "282042ad",
   "metadata": {},
   "outputs": [],
   "source": [
    "tr_df = train_df.reset_index()"
   ]
  },
  {
   "cell_type": "code",
   "execution_count": 283,
   "id": "5499cf47",
   "metadata": {},
   "outputs": [],
   "source": [
    "train_w_feat = pd.concat([df_tf,tr_df],axis=1)"
   ]
  },
  {
   "cell_type": "code",
   "execution_count": 284,
   "id": "131c44b1",
   "metadata": {},
   "outputs": [
    {
     "data": {
      "text/plain": [
       "(4360, 296)"
      ]
     },
     "execution_count": 284,
     "metadata": {},
     "output_type": "execute_result"
    }
   ],
   "source": [
    "train_w_feat.shape"
   ]
  },
  {
   "cell_type": "code",
   "execution_count": 285,
   "id": "55c596af",
   "metadata": {},
   "outputs": [],
   "source": [
    "train_w_feat.drop(['Dialog','token_lemma','index'], axis=1, inplace=True)"
   ]
  },
  {
   "cell_type": "code",
   "execution_count": 286,
   "id": "1f04b2cd",
   "metadata": {},
   "outputs": [],
   "source": [
    "train_w_features = pd.merge(train_w_feat, gender, on=\"Character_Fix\",how='left')"
   ]
  },
  {
   "cell_type": "code",
   "execution_count": 287,
   "id": "3c5fa16c",
   "metadata": {},
   "outputs": [],
   "source": [
    "fix = train_w_features[train_w_features.Gender.isnull()]"
   ]
  },
  {
   "cell_type": "code",
   "execution_count": 288,
   "id": "38b94cb1",
   "metadata": {},
   "outputs": [
    {
     "data": {
      "text/html": [
       "<div>\n",
       "<style scoped>\n",
       "    .dataframe tbody tr th:only-of-type {\n",
       "        vertical-align: middle;\n",
       "    }\n",
       "\n",
       "    .dataframe tbody tr th {\n",
       "        vertical-align: top;\n",
       "    }\n",
       "\n",
       "    .dataframe thead th {\n",
       "        text-align: right;\n",
       "    }\n",
       "</style>\n",
       "<table border=\"1\" class=\"dataframe\">\n",
       "  <thead>\n",
       "    <tr style=\"text-align: right;\">\n",
       "      <th></th>\n",
       "      <th>actually</th>\n",
       "      <th>ago</th>\n",
       "      <th>ahead</th>\n",
       "      <th>alexei</th>\n",
       "      <th>answer</th>\n",
       "      <th>approach</th>\n",
       "      <th>arm</th>\n",
       "      <th>ask</th>\n",
       "      <th>attention</th>\n",
       "      <th>away</th>\n",
       "      <th>...</th>\n",
       "      <th>wrong</th>\n",
       "      <th>yeah</th>\n",
       "      <th>year</th>\n",
       "      <th>yes</th>\n",
       "      <th>yuri</th>\n",
       "      <th>Character_Fix</th>\n",
       "      <th>Season</th>\n",
       "      <th>Episode</th>\n",
       "      <th>length</th>\n",
       "      <th>Gender</th>\n",
       "    </tr>\n",
       "  </thead>\n",
       "  <tbody>\n",
       "  </tbody>\n",
       "</table>\n",
       "<p>0 rows × 294 columns</p>\n",
       "</div>"
      ],
      "text/plain": [
       "Empty DataFrame\n",
       "Columns: [actually, ago, ahead, alexei, answer, approach, arm, ask, attention, away, baby, bad, barb, beat, begin, believe, big, billy, blood, blue, body, box, boy, break, brenner, bruce, byers, ca, car, care, carry, catch, chair, change, check, child, close, code, come, continue, cool, copy, cover, crazy, dad, dark, day, dead, die, door, driscoll, drive, drop, dude, dustin, eat, el, end, enter, erica, exactly, eye, face, fall, family, far, feel, figure, fine, flashlight, flayer, floor, follow, foot, friend, fun, gate, girl, glance, god, gon, good, grab, great, grigori, ground, guard, guess, gun, guy, hair, hand, hang, happen, hard, hawkins, head, hear, heather, hell, ...]\n",
       "Index: []\n",
       "\n",
       "[0 rows x 294 columns]"
      ]
     },
     "execution_count": 288,
     "metadata": {},
     "output_type": "execute_result"
    }
   ],
   "source": [
    "fix"
   ]
  },
  {
   "cell_type": "code",
   "execution_count": 289,
   "id": "96636db5",
   "metadata": {},
   "outputs": [],
   "source": [
    "#train_w_features2 =train_w_features[train_w_features['length']>=3].copy()"
   ]
  },
  {
   "cell_type": "code",
   "execution_count": 290,
   "id": "89736257",
   "metadata": {},
   "outputs": [],
   "source": [
    "train_w_features3 = train_w_features.drop(['Character_Fix'], axis=1).copy()"
   ]
  },
  {
   "cell_type": "code",
   "execution_count": 291,
   "id": "9a4f75b7",
   "metadata": {},
   "outputs": [],
   "source": [
    "train_w_features3['Gender'].replace(['Female ', 'Female','Male','Male ','Neutral'],\n",
    "                        [1, 1,2,2,0], inplace=True)"
   ]
  },
  {
   "cell_type": "code",
   "execution_count": 292,
   "id": "438adce2",
   "metadata": {},
   "outputs": [
    {
     "data": {
      "text/html": [
       "<div>\n",
       "<style scoped>\n",
       "    .dataframe tbody tr th:only-of-type {\n",
       "        vertical-align: middle;\n",
       "    }\n",
       "\n",
       "    .dataframe tbody tr th {\n",
       "        vertical-align: top;\n",
       "    }\n",
       "\n",
       "    .dataframe thead th {\n",
       "        text-align: right;\n",
       "    }\n",
       "</style>\n",
       "<table border=\"1\" class=\"dataframe\">\n",
       "  <thead>\n",
       "    <tr style=\"text-align: right;\">\n",
       "      <th></th>\n",
       "      <th>actually</th>\n",
       "      <th>ago</th>\n",
       "      <th>ahead</th>\n",
       "      <th>alexei</th>\n",
       "      <th>answer</th>\n",
       "      <th>approach</th>\n",
       "      <th>arm</th>\n",
       "      <th>ask</th>\n",
       "      <th>attention</th>\n",
       "      <th>away</th>\n",
       "      <th>...</th>\n",
       "      <th>world</th>\n",
       "      <th>wrong</th>\n",
       "      <th>yeah</th>\n",
       "      <th>year</th>\n",
       "      <th>yes</th>\n",
       "      <th>yuri</th>\n",
       "      <th>Season</th>\n",
       "      <th>Episode</th>\n",
       "      <th>length</th>\n",
       "      <th>Gender</th>\n",
       "    </tr>\n",
       "  </thead>\n",
       "  <tbody>\n",
       "    <tr>\n",
       "      <th>0</th>\n",
       "      <td>0.0</td>\n",
       "      <td>0.000000</td>\n",
       "      <td>0.0</td>\n",
       "      <td>0.0</td>\n",
       "      <td>0.0</td>\n",
       "      <td>0.0</td>\n",
       "      <td>0.0</td>\n",
       "      <td>0.000000</td>\n",
       "      <td>0.0</td>\n",
       "      <td>0.0</td>\n",
       "      <td>...</td>\n",
       "      <td>0.0</td>\n",
       "      <td>0.0</td>\n",
       "      <td>0.0</td>\n",
       "      <td>0.000000</td>\n",
       "      <td>14.042199</td>\n",
       "      <td>0.0</td>\n",
       "      <td>1</td>\n",
       "      <td>2</td>\n",
       "      <td>18</td>\n",
       "      <td>1</td>\n",
       "    </tr>\n",
       "    <tr>\n",
       "      <th>1</th>\n",
       "      <td>0.0</td>\n",
       "      <td>0.000000</td>\n",
       "      <td>0.0</td>\n",
       "      <td>0.0</td>\n",
       "      <td>0.0</td>\n",
       "      <td>0.0</td>\n",
       "      <td>0.0</td>\n",
       "      <td>0.000000</td>\n",
       "      <td>0.0</td>\n",
       "      <td>0.0</td>\n",
       "      <td>...</td>\n",
       "      <td>0.0</td>\n",
       "      <td>0.0</td>\n",
       "      <td>0.0</td>\n",
       "      <td>0.000000</td>\n",
       "      <td>0.000000</td>\n",
       "      <td>0.0</td>\n",
       "      <td>4</td>\n",
       "      <td>4</td>\n",
       "      <td>16</td>\n",
       "      <td>2</td>\n",
       "    </tr>\n",
       "    <tr>\n",
       "      <th>2</th>\n",
       "      <td>0.0</td>\n",
       "      <td>0.000000</td>\n",
       "      <td>0.0</td>\n",
       "      <td>0.0</td>\n",
       "      <td>0.0</td>\n",
       "      <td>0.0</td>\n",
       "      <td>0.0</td>\n",
       "      <td>0.000000</td>\n",
       "      <td>0.0</td>\n",
       "      <td>0.0</td>\n",
       "      <td>...</td>\n",
       "      <td>0.0</td>\n",
       "      <td>0.0</td>\n",
       "      <td>0.0</td>\n",
       "      <td>0.000000</td>\n",
       "      <td>0.000000</td>\n",
       "      <td>0.0</td>\n",
       "      <td>3</td>\n",
       "      <td>3</td>\n",
       "      <td>136</td>\n",
       "      <td>2</td>\n",
       "    </tr>\n",
       "    <tr>\n",
       "      <th>3</th>\n",
       "      <td>0.0</td>\n",
       "      <td>0.000000</td>\n",
       "      <td>0.0</td>\n",
       "      <td>0.0</td>\n",
       "      <td>0.0</td>\n",
       "      <td>0.0</td>\n",
       "      <td>0.0</td>\n",
       "      <td>0.000000</td>\n",
       "      <td>0.0</td>\n",
       "      <td>0.0</td>\n",
       "      <td>...</td>\n",
       "      <td>0.0</td>\n",
       "      <td>0.0</td>\n",
       "      <td>0.0</td>\n",
       "      <td>0.000000</td>\n",
       "      <td>0.000000</td>\n",
       "      <td>0.0</td>\n",
       "      <td>1</td>\n",
       "      <td>1</td>\n",
       "      <td>30</td>\n",
       "      <td>1</td>\n",
       "    </tr>\n",
       "    <tr>\n",
       "      <th>4</th>\n",
       "      <td>0.0</td>\n",
       "      <td>0.000000</td>\n",
       "      <td>0.0</td>\n",
       "      <td>0.0</td>\n",
       "      <td>0.0</td>\n",
       "      <td>0.0</td>\n",
       "      <td>0.0</td>\n",
       "      <td>14.287376</td>\n",
       "      <td>0.0</td>\n",
       "      <td>0.0</td>\n",
       "      <td>...</td>\n",
       "      <td>0.0</td>\n",
       "      <td>0.0</td>\n",
       "      <td>0.0</td>\n",
       "      <td>0.000000</td>\n",
       "      <td>0.000000</td>\n",
       "      <td>0.0</td>\n",
       "      <td>4</td>\n",
       "      <td>8</td>\n",
       "      <td>38</td>\n",
       "      <td>2</td>\n",
       "    </tr>\n",
       "    <tr>\n",
       "      <th>...</th>\n",
       "      <td>...</td>\n",
       "      <td>...</td>\n",
       "      <td>...</td>\n",
       "      <td>...</td>\n",
       "      <td>...</td>\n",
       "      <td>...</td>\n",
       "      <td>...</td>\n",
       "      <td>...</td>\n",
       "      <td>...</td>\n",
       "      <td>...</td>\n",
       "      <td>...</td>\n",
       "      <td>...</td>\n",
       "      <td>...</td>\n",
       "      <td>...</td>\n",
       "      <td>...</td>\n",
       "      <td>...</td>\n",
       "      <td>...</td>\n",
       "      <td>...</td>\n",
       "      <td>...</td>\n",
       "      <td>...</td>\n",
       "      <td>...</td>\n",
       "    </tr>\n",
       "    <tr>\n",
       "      <th>4355</th>\n",
       "      <td>0.0</td>\n",
       "      <td>0.000000</td>\n",
       "      <td>0.0</td>\n",
       "      <td>0.0</td>\n",
       "      <td>0.0</td>\n",
       "      <td>0.0</td>\n",
       "      <td>0.0</td>\n",
       "      <td>0.000000</td>\n",
       "      <td>0.0</td>\n",
       "      <td>0.0</td>\n",
       "      <td>...</td>\n",
       "      <td>0.0</td>\n",
       "      <td>0.0</td>\n",
       "      <td>0.0</td>\n",
       "      <td>0.000000</td>\n",
       "      <td>0.000000</td>\n",
       "      <td>0.0</td>\n",
       "      <td>3</td>\n",
       "      <td>7</td>\n",
       "      <td>5</td>\n",
       "      <td>2</td>\n",
       "    </tr>\n",
       "    <tr>\n",
       "      <th>4356</th>\n",
       "      <td>0.0</td>\n",
       "      <td>0.000000</td>\n",
       "      <td>0.0</td>\n",
       "      <td>0.0</td>\n",
       "      <td>0.0</td>\n",
       "      <td>0.0</td>\n",
       "      <td>0.0</td>\n",
       "      <td>0.000000</td>\n",
       "      <td>0.0</td>\n",
       "      <td>0.0</td>\n",
       "      <td>...</td>\n",
       "      <td>0.0</td>\n",
       "      <td>0.0</td>\n",
       "      <td>0.0</td>\n",
       "      <td>0.000000</td>\n",
       "      <td>0.000000</td>\n",
       "      <td>0.0</td>\n",
       "      <td>3</td>\n",
       "      <td>3</td>\n",
       "      <td>18</td>\n",
       "      <td>2</td>\n",
       "    </tr>\n",
       "    <tr>\n",
       "      <th>4357</th>\n",
       "      <td>0.0</td>\n",
       "      <td>20.384901</td>\n",
       "      <td>0.0</td>\n",
       "      <td>0.0</td>\n",
       "      <td>0.0</td>\n",
       "      <td>0.0</td>\n",
       "      <td>0.0</td>\n",
       "      <td>0.000000</td>\n",
       "      <td>0.0</td>\n",
       "      <td>0.0</td>\n",
       "      <td>...</td>\n",
       "      <td>0.0</td>\n",
       "      <td>0.0</td>\n",
       "      <td>0.0</td>\n",
       "      <td>17.600958</td>\n",
       "      <td>0.000000</td>\n",
       "      <td>0.0</td>\n",
       "      <td>4</td>\n",
       "      <td>8</td>\n",
       "      <td>52</td>\n",
       "      <td>2</td>\n",
       "    </tr>\n",
       "    <tr>\n",
       "      <th>4358</th>\n",
       "      <td>0.0</td>\n",
       "      <td>0.000000</td>\n",
       "      <td>0.0</td>\n",
       "      <td>0.0</td>\n",
       "      <td>0.0</td>\n",
       "      <td>0.0</td>\n",
       "      <td>0.0</td>\n",
       "      <td>0.000000</td>\n",
       "      <td>0.0</td>\n",
       "      <td>0.0</td>\n",
       "      <td>...</td>\n",
       "      <td>0.0</td>\n",
       "      <td>0.0</td>\n",
       "      <td>0.0</td>\n",
       "      <td>0.000000</td>\n",
       "      <td>0.000000</td>\n",
       "      <td>0.0</td>\n",
       "      <td>4</td>\n",
       "      <td>8</td>\n",
       "      <td>133</td>\n",
       "      <td>2</td>\n",
       "    </tr>\n",
       "    <tr>\n",
       "      <th>4359</th>\n",
       "      <td>0.0</td>\n",
       "      <td>0.000000</td>\n",
       "      <td>0.0</td>\n",
       "      <td>0.0</td>\n",
       "      <td>0.0</td>\n",
       "      <td>0.0</td>\n",
       "      <td>0.0</td>\n",
       "      <td>0.000000</td>\n",
       "      <td>0.0</td>\n",
       "      <td>0.0</td>\n",
       "      <td>...</td>\n",
       "      <td>0.0</td>\n",
       "      <td>0.0</td>\n",
       "      <td>0.0</td>\n",
       "      <td>0.000000</td>\n",
       "      <td>0.000000</td>\n",
       "      <td>0.0</td>\n",
       "      <td>2</td>\n",
       "      <td>9</td>\n",
       "      <td>60</td>\n",
       "      <td>2</td>\n",
       "    </tr>\n",
       "  </tbody>\n",
       "</table>\n",
       "<p>4360 rows × 293 columns</p>\n",
       "</div>"
      ],
      "text/plain": [
       "      actually        ago  ahead  alexei  answer  approach  arm        ask  \\\n",
       "0          0.0   0.000000    0.0     0.0     0.0       0.0  0.0   0.000000   \n",
       "1          0.0   0.000000    0.0     0.0     0.0       0.0  0.0   0.000000   \n",
       "2          0.0   0.000000    0.0     0.0     0.0       0.0  0.0   0.000000   \n",
       "3          0.0   0.000000    0.0     0.0     0.0       0.0  0.0   0.000000   \n",
       "4          0.0   0.000000    0.0     0.0     0.0       0.0  0.0  14.287376   \n",
       "...        ...        ...    ...     ...     ...       ...  ...        ...   \n",
       "4355       0.0   0.000000    0.0     0.0     0.0       0.0  0.0   0.000000   \n",
       "4356       0.0   0.000000    0.0     0.0     0.0       0.0  0.0   0.000000   \n",
       "4357       0.0  20.384901    0.0     0.0     0.0       0.0  0.0   0.000000   \n",
       "4358       0.0   0.000000    0.0     0.0     0.0       0.0  0.0   0.000000   \n",
       "4359       0.0   0.000000    0.0     0.0     0.0       0.0  0.0   0.000000   \n",
       "\n",
       "      attention  away  ...  world  wrong  yeah       year        yes  yuri  \\\n",
       "0           0.0   0.0  ...    0.0    0.0   0.0   0.000000  14.042199   0.0   \n",
       "1           0.0   0.0  ...    0.0    0.0   0.0   0.000000   0.000000   0.0   \n",
       "2           0.0   0.0  ...    0.0    0.0   0.0   0.000000   0.000000   0.0   \n",
       "3           0.0   0.0  ...    0.0    0.0   0.0   0.000000   0.000000   0.0   \n",
       "4           0.0   0.0  ...    0.0    0.0   0.0   0.000000   0.000000   0.0   \n",
       "...         ...   ...  ...    ...    ...   ...        ...        ...   ...   \n",
       "4355        0.0   0.0  ...    0.0    0.0   0.0   0.000000   0.000000   0.0   \n",
       "4356        0.0   0.0  ...    0.0    0.0   0.0   0.000000   0.000000   0.0   \n",
       "4357        0.0   0.0  ...    0.0    0.0   0.0  17.600958   0.000000   0.0   \n",
       "4358        0.0   0.0  ...    0.0    0.0   0.0   0.000000   0.000000   0.0   \n",
       "4359        0.0   0.0  ...    0.0    0.0   0.0   0.000000   0.000000   0.0   \n",
       "\n",
       "      Season  Episode  length  Gender  \n",
       "0          1        2      18       1  \n",
       "1          4        4      16       2  \n",
       "2          3        3     136       2  \n",
       "3          1        1      30       1  \n",
       "4          4        8      38       2  \n",
       "...      ...      ...     ...     ...  \n",
       "4355       3        7       5       2  \n",
       "4356       3        3      18       2  \n",
       "4357       4        8      52       2  \n",
       "4358       4        8     133       2  \n",
       "4359       2        9      60       2  \n",
       "\n",
       "[4360 rows x 293 columns]"
      ]
     },
     "execution_count": 292,
     "metadata": {},
     "output_type": "execute_result"
    }
   ],
   "source": [
    "train_w_features3"
   ]
  },
  {
   "cell_type": "code",
   "execution_count": 293,
   "id": "54e15e14",
   "metadata": {},
   "outputs": [],
   "source": [
    "lg_model_v2 = LogisticRegression(max_iter = 500, \\\n",
    "                              random_state=RANDOM_SEED,\\\n",
    "                              solver = 'liblinear').fit(train_w_features3, y_train)"
   ]
  },
  {
   "cell_type": "code",
   "execution_count": 306,
   "id": "7ddd40f4",
   "metadata": {},
   "outputs": [
    {
     "data": {
      "text/plain": [
       "4360"
      ]
     },
     "execution_count": 306,
     "metadata": {},
     "output_type": "execute_result"
    }
   ],
   "source": [
    "len(y_train)"
   ]
  },
  {
   "cell_type": "code",
   "execution_count": 307,
   "id": "1015ccb4",
   "metadata": {},
   "outputs": [
    {
     "data": {
      "text/plain": [
       "1091"
      ]
     },
     "execution_count": 307,
     "metadata": {},
     "output_type": "execute_result"
    }
   ],
   "source": [
    "len(y_test)"
   ]
  },
  {
   "cell_type": "code",
   "execution_count": 295,
   "id": "3d0e34bc",
   "metadata": {},
   "outputs": [],
   "source": [
    "df_tf_test = pd.DataFrame(X_test_Scaler.toarray(), columns=vectorizer.get_feature_names_out())"
   ]
  },
  {
   "cell_type": "code",
   "execution_count": 298,
   "id": "40de9ff1",
   "metadata": {},
   "outputs": [],
   "source": [
    "tr_df_test = test_df.reset_index()"
   ]
  },
  {
   "cell_type": "code",
   "execution_count": 308,
   "id": "e138deb9",
   "metadata": {
    "scrolled": true
   },
   "outputs": [
    {
     "data": {
      "text/plain": [
       "(1091, 293)"
      ]
     },
     "execution_count": 308,
     "metadata": {},
     "output_type": "execute_result"
    }
   ],
   "source": [
    "test_w_feat = pd.concat([df_tf_test,tr_df_test],axis=1)\n",
    "test_w_feat.drop(['Dialog','token_lemma','index'], axis=1, inplace=True)\n",
    "test_w_features = pd.merge(test_w_feat, gender, on=\"Character_Fix\",how='left')\n",
    "test_w_features3 = test_w_features.drop(['Character_Fix'], axis=1).copy()\n",
    "test_w_features3['Gender'].replace(['Female ', 'Female','Male','Male ','Neutral'],\n",
    "                        [1, 1,2,2,0], inplace=True)\n",
    "test_w_features3.shape"
   ]
  },
  {
   "cell_type": "code",
   "execution_count": 309,
   "id": "25030132",
   "metadata": {},
   "outputs": [],
   "source": [
    "y_pred_lg_modelv2 = lg_model_v2.predict(test_w_features3)"
   ]
  },
  {
   "cell_type": "code",
   "execution_count": 311,
   "id": "c5140e3c",
   "metadata": {},
   "outputs": [
    {
     "data": {
      "text/plain": [
       "1091"
      ]
     },
     "execution_count": 311,
     "metadata": {},
     "output_type": "execute_result"
    }
   ],
   "source": [
    "len(y_pred_lg_modelv2)"
   ]
  },
  {
   "cell_type": "code",
   "execution_count": 312,
   "id": "24701090",
   "metadata": {},
   "outputs": [],
   "source": [
    "accm2 = metrics.accuracy_score(y_test,y_pred_lg_modelv2)\n",
    "#lg_model_scr2 = lg_model.score(test_w_features3, y_test)"
   ]
  },
  {
   "cell_type": "code",
   "execution_count": 313,
   "id": "d4a30e06",
   "metadata": {},
   "outputs": [
    {
     "data": {
      "text/plain": [
       "0.2758936755270394"
      ]
     },
     "execution_count": 313,
     "metadata": {},
     "output_type": "execute_result"
    }
   ],
   "source": [
    "accm2"
   ]
  },
  {
   "cell_type": "code",
   "execution_count": 350,
   "id": "1bbf605d",
   "metadata": {},
   "outputs": [
    {
     "data": {
      "text/plain": [
       "0.6002293577981651"
      ]
     },
     "execution_count": 350,
     "metadata": {},
     "output_type": "execute_result"
    }
   ],
   "source": [
    "lg_model_v2.score(train_w_features3, y_train)"
   ]
  },
  {
   "cell_type": "markdown",
   "id": "4b9b93ff",
   "metadata": {},
   "source": [
    "### Try this with our new hyper parameters since it went from 17% to 19% and is now out 27.5% with adding some features to the data.\n"
   ]
  },
  {
   "cell_type": "code",
   "execution_count": null,
   "id": "6a2f9a64",
   "metadata": {},
   "outputs": [],
   "source": [
    "lg_model_tuned = LogisticRegression(max_iter = 500, \\ class_weight = 'balanced',\n",
    "                              random_state=RANDOM_SEED,\\\n",
    "                              solver = 'liblinear',penalty= 'l1',\n",
    "                              C = 0.1, verbose = 15, ).fit(train_w_features3, y_train)\n",
    "\n",
    "y_pred_lg_model_tuned = lg_model_tuned.predict(test_w_features3)\n",
    "\n",
    "accm_tuned = metrics.accuracy_score(y_test,y_pred_lg_model_tuned)\n",
    "\n",
    "accm_tuned\n",
    "\n",
    "acc_train = lg_model_tuned.score(train_w_features3, y_train)\n",
    "\n",
    "acc_train"
   ]
  },
  {
   "cell_type": "markdown",
   "id": "846e919e",
   "metadata": {},
   "source": [
    "### It only performed 3.2% better so we are not getting far, I think dropping data from the org data based on length of line spoken and how often a character occurs along with text difficulty as well as keeping our features we already just used (gender, season, episode) will help this process along.  We can try and add in who spoke durng scene as well to see if it helps.  We would be thrilled if this was able to get over 50%.  We knew after performing EDA and QAing the data there were issues with just using pdf's in general and then through the show there actually isnt much dialog as one would hope, it is more scene setting and action."
   ]
  },
  {
   "cell_type": "markdown",
   "id": "4522d5c9",
   "metadata": {},
   "source": [
    "### Next drop out rows where length is less than 2 or 3 and redo training/hyperparameter tuning and/or characters who speak less than 5 times, maybe standard scale new df"
   ]
  },
  {
   "cell_type": "markdown",
   "id": "df7ac4cc",
   "metadata": {},
   "source": [
    "### I think what also needs to happen is hyper parameter tuning with these features and data"
   ]
  },
  {
   "cell_type": "code",
   "execution_count": 430,
   "id": "dd8da354",
   "metadata": {},
   "outputs": [
    {
     "data": {
      "text/html": [
       "<div>\n",
       "<style scoped>\n",
       "    .dataframe tbody tr th:only-of-type {\n",
       "        vertical-align: middle;\n",
       "    }\n",
       "\n",
       "    .dataframe tbody tr th {\n",
       "        vertical-align: top;\n",
       "    }\n",
       "\n",
       "    .dataframe thead th {\n",
       "        text-align: right;\n",
       "    }\n",
       "</style>\n",
       "<table border=\"1\" class=\"dataframe\">\n",
       "  <thead>\n",
       "    <tr style=\"text-align: right;\">\n",
       "      <th></th>\n",
       "      <th>Character_Fix</th>\n",
       "      <th>Season</th>\n",
       "      <th>Episode</th>\n",
       "      <th>Dialog</th>\n",
       "      <th>token_lemma</th>\n",
       "      <th>length</th>\n",
       "    </tr>\n",
       "  </thead>\n",
       "  <tbody>\n",
       "    <tr>\n",
       "      <th>5</th>\n",
       "      <td>HOPPER</td>\n",
       "      <td>3</td>\n",
       "      <td>5</td>\n",
       "      <td>Looks like somebody’s home. As the truck parks...</td>\n",
       "      <td>look like somebody home as the truck park we r...</td>\n",
       "      <td>303</td>\n",
       "    </tr>\n",
       "    <tr>\n",
       "      <th>6</th>\n",
       "      <td>HOPPER</td>\n",
       "      <td>3</td>\n",
       "      <td>5</td>\n",
       "      <td>Where’s that coming from? Joyce pauses at the ...</td>\n",
       "      <td>where that come from joyce pause at the foot o...</td>\n",
       "      <td>150</td>\n",
       "    </tr>\n",
       "    <tr>\n",
       "      <th>7</th>\n",
       "      <td>HOPPER</td>\n",
       "      <td>3</td>\n",
       "      <td>5</td>\n",
       "      <td>Hey, dipshits! The men drop their tools and st...</td>\n",
       "      <td>hey dipshit the man drop their tool and stand ...</td>\n",
       "      <td>72</td>\n",
       "    </tr>\n",
       "    <tr>\n",
       "      <th>8</th>\n",
       "      <td>HOPPER</td>\n",
       "      <td>3</td>\n",
       "      <td>5</td>\n",
       "      <td>Dr. Alexei steps forward, putting himself betw...</td>\n",
       "      <td>alexei step forward put himself between hopper...</td>\n",
       "      <td>140</td>\n",
       "    </tr>\n",
       "    <tr>\n",
       "      <th>10</th>\n",
       "      <td>HOPPER</td>\n",
       "      <td>3</td>\n",
       "      <td>5</td>\n",
       "      <td>English! You speak English? Alexei tries to ca...</td>\n",
       "      <td>english you speak english alexei try to calm t...</td>\n",
       "      <td>58</td>\n",
       "    </tr>\n",
       "    <tr>\n",
       "      <th>...</th>\n",
       "      <td>...</td>\n",
       "      <td>...</td>\n",
       "      <td>...</td>\n",
       "      <td>...</td>\n",
       "      <td>...</td>\n",
       "      <td>...</td>\n",
       "    </tr>\n",
       "    <tr>\n",
       "      <th>6063</th>\n",
       "      <td>SUSAN</td>\n",
       "      <td>2</td>\n",
       "      <td>9</td>\n",
       "      <td>See -- pretty -- !!</td>\n",
       "      <td>see pretty</td>\n",
       "      <td>10</td>\n",
       "    </tr>\n",
       "    <tr>\n",
       "      <th>6064</th>\n",
       "      <td>SUSAN</td>\n",
       "      <td>2</td>\n",
       "      <td>9</td>\n",
       "      <td>... Now -- you surrrre you don't  want to wear...</td>\n",
       "      <td>now you surrrre you do want to wear a dress ma...</td>\n",
       "      <td>94</td>\n",
       "    </tr>\n",
       "    <tr>\n",
       "      <th>6065</th>\n",
       "      <td>CLAUDIA</td>\n",
       "      <td>2</td>\n",
       "      <td>9</td>\n",
       "      <td>Where did you see it last?</td>\n",
       "      <td>where do you see it last</td>\n",
       "      <td>24</td>\n",
       "    </tr>\n",
       "    <tr>\n",
       "      <th>6066</th>\n",
       "      <td>CLAUDIA</td>\n",
       "      <td>2</td>\n",
       "      <td>9</td>\n",
       "      <td>What's in there that's so important  anyway?  ...</td>\n",
       "      <td>what in there that so important anyway you loo...</td>\n",
       "      <td>116</td>\n",
       "    </tr>\n",
       "    <tr>\n",
       "      <th>6067</th>\n",
       "      <td>CLAUDIA</td>\n",
       "      <td>2</td>\n",
       "      <td>9</td>\n",
       "      <td>That's your ride!  Dusty??? The bag from Melva...</td>\n",
       "      <td>that your ride dusty the bag from melvald upen...</td>\n",
       "      <td>58</td>\n",
       "    </tr>\n",
       "  </tbody>\n",
       "</table>\n",
       "<p>5451 rows × 6 columns</p>\n",
       "</div>"
      ],
      "text/plain": [
       "     Character_Fix  Season  Episode  \\\n",
       "5           HOPPER       3        5   \n",
       "6           HOPPER       3        5   \n",
       "7           HOPPER       3        5   \n",
       "8           HOPPER       3        5   \n",
       "10          HOPPER       3        5   \n",
       "...            ...     ...      ...   \n",
       "6063         SUSAN       2        9   \n",
       "6064         SUSAN       2        9   \n",
       "6065       CLAUDIA       2        9   \n",
       "6066       CLAUDIA       2        9   \n",
       "6067       CLAUDIA       2        9   \n",
       "\n",
       "                                                 Dialog  \\\n",
       "5     Looks like somebody’s home. As the truck parks...   \n",
       "6     Where’s that coming from? Joyce pauses at the ...   \n",
       "7     Hey, dipshits! The men drop their tools and st...   \n",
       "8     Dr. Alexei steps forward, putting himself betw...   \n",
       "10    English! You speak English? Alexei tries to ca...   \n",
       "...                                                 ...   \n",
       "6063                                See -- pretty -- !!   \n",
       "6064  ... Now -- you surrrre you don't  want to wear...   \n",
       "6065                         Where did you see it last?   \n",
       "6066  What's in there that's so important  anyway?  ...   \n",
       "6067  That's your ride!  Dusty??? The bag from Melva...   \n",
       "\n",
       "                                            token_lemma  length  \n",
       "5     look like somebody home as the truck park we r...     303  \n",
       "6     where that come from joyce pause at the foot o...     150  \n",
       "7     hey dipshit the man drop their tool and stand ...      72  \n",
       "8     alexei step forward put himself between hopper...     140  \n",
       "10    english you speak english alexei try to calm t...      58  \n",
       "...                                                 ...     ...  \n",
       "6063                                         see pretty      10  \n",
       "6064  now you surrrre you do want to wear a dress ma...      94  \n",
       "6065                           where do you see it last      24  \n",
       "6066  what in there that so important anyway you loo...     116  \n",
       "6067  that your ride dusty the bag from melvald upen...      58  \n",
       "\n",
       "[5451 rows x 6 columns]"
      ]
     },
     "execution_count": 430,
     "metadata": {},
     "output_type": "execute_result"
    }
   ],
   "source": [
    "### starting with the data and features - not split yet.\n",
    "df_show"
   ]
  },
  {
   "cell_type": "code",
   "execution_count": 431,
   "id": "69a19423",
   "metadata": {},
   "outputs": [],
   "source": [
    "df_sh2 = df_show.merge(gender, how=\"left\", on ='Character_Fix')"
   ]
  },
  {
   "cell_type": "code",
   "execution_count": 432,
   "id": "35d33385",
   "metadata": {},
   "outputs": [
    {
     "data": {
      "text/html": [
       "<div>\n",
       "<style scoped>\n",
       "    .dataframe tbody tr th:only-of-type {\n",
       "        vertical-align: middle;\n",
       "    }\n",
       "\n",
       "    .dataframe tbody tr th {\n",
       "        vertical-align: top;\n",
       "    }\n",
       "\n",
       "    .dataframe thead th {\n",
       "        text-align: right;\n",
       "    }\n",
       "</style>\n",
       "<table border=\"1\" class=\"dataframe\">\n",
       "  <thead>\n",
       "    <tr style=\"text-align: right;\">\n",
       "      <th></th>\n",
       "      <th>Character_Fix</th>\n",
       "      <th>Season</th>\n",
       "      <th>Episode</th>\n",
       "      <th>Dialog</th>\n",
       "      <th>token_lemma</th>\n",
       "      <th>length</th>\n",
       "      <th>Gender</th>\n",
       "    </tr>\n",
       "  </thead>\n",
       "  <tbody>\n",
       "    <tr>\n",
       "      <th>0</th>\n",
       "      <td>HOPPER</td>\n",
       "      <td>3</td>\n",
       "      <td>5</td>\n",
       "      <td>Looks like somebody’s home. As the truck parks...</td>\n",
       "      <td>look like somebody home as the truck park we r...</td>\n",
       "      <td>303</td>\n",
       "      <td>Male</td>\n",
       "    </tr>\n",
       "    <tr>\n",
       "      <th>1</th>\n",
       "      <td>HOPPER</td>\n",
       "      <td>3</td>\n",
       "      <td>5</td>\n",
       "      <td>Where’s that coming from? Joyce pauses at the ...</td>\n",
       "      <td>where that come from joyce pause at the foot o...</td>\n",
       "      <td>150</td>\n",
       "      <td>Male</td>\n",
       "    </tr>\n",
       "    <tr>\n",
       "      <th>2</th>\n",
       "      <td>HOPPER</td>\n",
       "      <td>3</td>\n",
       "      <td>5</td>\n",
       "      <td>Hey, dipshits! The men drop their tools and st...</td>\n",
       "      <td>hey dipshit the man drop their tool and stand ...</td>\n",
       "      <td>72</td>\n",
       "      <td>Male</td>\n",
       "    </tr>\n",
       "    <tr>\n",
       "      <th>3</th>\n",
       "      <td>HOPPER</td>\n",
       "      <td>3</td>\n",
       "      <td>5</td>\n",
       "      <td>Dr. Alexei steps forward, putting himself betw...</td>\n",
       "      <td>alexei step forward put himself between hopper...</td>\n",
       "      <td>140</td>\n",
       "      <td>Male</td>\n",
       "    </tr>\n",
       "    <tr>\n",
       "      <th>4</th>\n",
       "      <td>HOPPER</td>\n",
       "      <td>3</td>\n",
       "      <td>5</td>\n",
       "      <td>English! You speak English? Alexei tries to ca...</td>\n",
       "      <td>english you speak english alexei try to calm t...</td>\n",
       "      <td>58</td>\n",
       "      <td>Male</td>\n",
       "    </tr>\n",
       "    <tr>\n",
       "      <th>...</th>\n",
       "      <td>...</td>\n",
       "      <td>...</td>\n",
       "      <td>...</td>\n",
       "      <td>...</td>\n",
       "      <td>...</td>\n",
       "      <td>...</td>\n",
       "      <td>...</td>\n",
       "    </tr>\n",
       "    <tr>\n",
       "      <th>5446</th>\n",
       "      <td>SUSAN</td>\n",
       "      <td>2</td>\n",
       "      <td>9</td>\n",
       "      <td>See -- pretty -- !!</td>\n",
       "      <td>see pretty</td>\n",
       "      <td>10</td>\n",
       "      <td>Female</td>\n",
       "    </tr>\n",
       "    <tr>\n",
       "      <th>5447</th>\n",
       "      <td>SUSAN</td>\n",
       "      <td>2</td>\n",
       "      <td>9</td>\n",
       "      <td>... Now -- you surrrre you don't  want to wear...</td>\n",
       "      <td>now you surrrre you do want to wear a dress ma...</td>\n",
       "      <td>94</td>\n",
       "      <td>Female</td>\n",
       "    </tr>\n",
       "    <tr>\n",
       "      <th>5448</th>\n",
       "      <td>CLAUDIA</td>\n",
       "      <td>2</td>\n",
       "      <td>9</td>\n",
       "      <td>Where did you see it last?</td>\n",
       "      <td>where do you see it last</td>\n",
       "      <td>24</td>\n",
       "      <td>Female</td>\n",
       "    </tr>\n",
       "    <tr>\n",
       "      <th>5449</th>\n",
       "      <td>CLAUDIA</td>\n",
       "      <td>2</td>\n",
       "      <td>9</td>\n",
       "      <td>What's in there that's so important  anyway?  ...</td>\n",
       "      <td>what in there that so important anyway you loo...</td>\n",
       "      <td>116</td>\n",
       "      <td>Female</td>\n",
       "    </tr>\n",
       "    <tr>\n",
       "      <th>5450</th>\n",
       "      <td>CLAUDIA</td>\n",
       "      <td>2</td>\n",
       "      <td>9</td>\n",
       "      <td>That's your ride!  Dusty??? The bag from Melva...</td>\n",
       "      <td>that your ride dusty the bag from melvald upen...</td>\n",
       "      <td>58</td>\n",
       "      <td>Female</td>\n",
       "    </tr>\n",
       "  </tbody>\n",
       "</table>\n",
       "<p>5451 rows × 7 columns</p>\n",
       "</div>"
      ],
      "text/plain": [
       "     Character_Fix  Season  Episode  \\\n",
       "0           HOPPER       3        5   \n",
       "1           HOPPER       3        5   \n",
       "2           HOPPER       3        5   \n",
       "3           HOPPER       3        5   \n",
       "4           HOPPER       3        5   \n",
       "...            ...     ...      ...   \n",
       "5446         SUSAN       2        9   \n",
       "5447         SUSAN       2        9   \n",
       "5448       CLAUDIA       2        9   \n",
       "5449       CLAUDIA       2        9   \n",
       "5450       CLAUDIA       2        9   \n",
       "\n",
       "                                                 Dialog  \\\n",
       "0     Looks like somebody’s home. As the truck parks...   \n",
       "1     Where’s that coming from? Joyce pauses at the ...   \n",
       "2     Hey, dipshits! The men drop their tools and st...   \n",
       "3     Dr. Alexei steps forward, putting himself betw...   \n",
       "4     English! You speak English? Alexei tries to ca...   \n",
       "...                                                 ...   \n",
       "5446                                See -- pretty -- !!   \n",
       "5447  ... Now -- you surrrre you don't  want to wear...   \n",
       "5448                         Where did you see it last?   \n",
       "5449  What's in there that's so important  anyway?  ...   \n",
       "5450  That's your ride!  Dusty??? The bag from Melva...   \n",
       "\n",
       "                                            token_lemma  length  Gender  \n",
       "0     look like somebody home as the truck park we r...     303   Male   \n",
       "1     where that come from joyce pause at the foot o...     150   Male   \n",
       "2     hey dipshit the man drop their tool and stand ...      72   Male   \n",
       "3     alexei step forward put himself between hopper...     140   Male   \n",
       "4     english you speak english alexei try to calm t...      58   Male   \n",
       "...                                                 ...     ...     ...  \n",
       "5446                                         see pretty      10  Female  \n",
       "5447  now you surrrre you do want to wear a dress ma...      94  Female  \n",
       "5448                           where do you see it last      24  Female  \n",
       "5449  what in there that so important anyway you loo...     116  Female  \n",
       "5450  that your ride dusty the bag from melvald upen...      58  Female  \n",
       "\n",
       "[5451 rows x 7 columns]"
      ]
     },
     "execution_count": 432,
     "metadata": {},
     "output_type": "execute_result"
    }
   ],
   "source": [
    "df_sh2"
   ]
  },
  {
   "cell_type": "code",
   "execution_count": 433,
   "id": "879f2a54",
   "metadata": {},
   "outputs": [],
   "source": [
    "#https://pypi.org/project/textstat/\n",
    "import textstat\n",
    "df_sh2['grade'] = df_sh2.Dialog.apply(lambda x: textstat.flesch_kincaid_grade(x))\n",
    "df_sh2['difficulty'] = df_sh2.Dialog.apply(lambda x: textstat.difficult_words(x))"
   ]
  },
  {
   "cell_type": "code",
   "execution_count": 434,
   "id": "750efd6c",
   "metadata": {},
   "outputs": [
    {
     "data": {
      "text/html": [
       "<div>\n",
       "<style scoped>\n",
       "    .dataframe tbody tr th:only-of-type {\n",
       "        vertical-align: middle;\n",
       "    }\n",
       "\n",
       "    .dataframe tbody tr th {\n",
       "        vertical-align: top;\n",
       "    }\n",
       "\n",
       "    .dataframe thead th {\n",
       "        text-align: right;\n",
       "    }\n",
       "</style>\n",
       "<table border=\"1\" class=\"dataframe\">\n",
       "  <thead>\n",
       "    <tr style=\"text-align: right;\">\n",
       "      <th></th>\n",
       "      <th>Character_Fix</th>\n",
       "      <th>Season</th>\n",
       "      <th>Episode</th>\n",
       "      <th>Dialog</th>\n",
       "      <th>token_lemma</th>\n",
       "      <th>length</th>\n",
       "      <th>Gender</th>\n",
       "      <th>grade</th>\n",
       "      <th>difficulty</th>\n",
       "    </tr>\n",
       "  </thead>\n",
       "  <tbody>\n",
       "    <tr>\n",
       "      <th>0</th>\n",
       "      <td>HOPPER</td>\n",
       "      <td>3</td>\n",
       "      <td>5</td>\n",
       "      <td>Looks like somebody’s home. As the truck parks...</td>\n",
       "      <td>look like somebody home as the truck park we r...</td>\n",
       "      <td>303</td>\n",
       "      <td>Male</td>\n",
       "      <td>2.6</td>\n",
       "      <td>11</td>\n",
       "    </tr>\n",
       "    <tr>\n",
       "      <th>1</th>\n",
       "      <td>HOPPER</td>\n",
       "      <td>3</td>\n",
       "      <td>5</td>\n",
       "      <td>Where’s that coming from? Joyce pauses at the ...</td>\n",
       "      <td>where that come from joyce pause at the foot o...</td>\n",
       "      <td>150</td>\n",
       "      <td>Male</td>\n",
       "      <td>2.8</td>\n",
       "      <td>3</td>\n",
       "    </tr>\n",
       "    <tr>\n",
       "      <th>2</th>\n",
       "      <td>HOPPER</td>\n",
       "      <td>3</td>\n",
       "      <td>5</td>\n",
       "      <td>Hey, dipshits! The men drop their tools and st...</td>\n",
       "      <td>hey dipshit the man drop their tool and stand ...</td>\n",
       "      <td>72</td>\n",
       "      <td>Male</td>\n",
       "      <td>0.3</td>\n",
       "      <td>1</td>\n",
       "    </tr>\n",
       "    <tr>\n",
       "      <th>3</th>\n",
       "      <td>HOPPER</td>\n",
       "      <td>3</td>\n",
       "      <td>5</td>\n",
       "      <td>Dr. Alexei steps forward, putting himself betw...</td>\n",
       "      <td>alexei step forward put himself between hopper...</td>\n",
       "      <td>140</td>\n",
       "      <td>Male</td>\n",
       "      <td>4.3</td>\n",
       "      <td>6</td>\n",
       "    </tr>\n",
       "    <tr>\n",
       "      <th>4</th>\n",
       "      <td>HOPPER</td>\n",
       "      <td>3</td>\n",
       "      <td>5</td>\n",
       "      <td>English! You speak English? Alexei tries to ca...</td>\n",
       "      <td>english you speak english alexei try to calm t...</td>\n",
       "      <td>58</td>\n",
       "      <td>Male</td>\n",
       "      <td>5.2</td>\n",
       "      <td>2</td>\n",
       "    </tr>\n",
       "    <tr>\n",
       "      <th>...</th>\n",
       "      <td>...</td>\n",
       "      <td>...</td>\n",
       "      <td>...</td>\n",
       "      <td>...</td>\n",
       "      <td>...</td>\n",
       "      <td>...</td>\n",
       "      <td>...</td>\n",
       "      <td>...</td>\n",
       "      <td>...</td>\n",
       "    </tr>\n",
       "    <tr>\n",
       "      <th>5446</th>\n",
       "      <td>SUSAN</td>\n",
       "      <td>2</td>\n",
       "      <td>9</td>\n",
       "      <td>See -- pretty -- !!</td>\n",
       "      <td>see pretty</td>\n",
       "      <td>10</td>\n",
       "      <td>Female</td>\n",
       "      <td>2.9</td>\n",
       "      <td>0</td>\n",
       "    </tr>\n",
       "    <tr>\n",
       "      <th>5447</th>\n",
       "      <td>SUSAN</td>\n",
       "      <td>2</td>\n",
       "      <td>9</td>\n",
       "      <td>... Now -- you surrrre you don't  want to wear...</td>\n",
       "      <td>now you surrrre you do want to wear a dress ma...</td>\n",
       "      <td>94</td>\n",
       "      <td>Female</td>\n",
       "      <td>0.1</td>\n",
       "      <td>2</td>\n",
       "    </tr>\n",
       "    <tr>\n",
       "      <th>5448</th>\n",
       "      <td>CLAUDIA</td>\n",
       "      <td>2</td>\n",
       "      <td>9</td>\n",
       "      <td>Where did you see it last?</td>\n",
       "      <td>where do you see it last</td>\n",
       "      <td>24</td>\n",
       "      <td>Female</td>\n",
       "      <td>-1.5</td>\n",
       "      <td>0</td>\n",
       "    </tr>\n",
       "    <tr>\n",
       "      <th>5449</th>\n",
       "      <td>CLAUDIA</td>\n",
       "      <td>2</td>\n",
       "      <td>9</td>\n",
       "      <td>What's in there that's so important  anyway?  ...</td>\n",
       "      <td>what in there that so important anyway you loo...</td>\n",
       "      <td>116</td>\n",
       "      <td>Female</td>\n",
       "      <td>3.2</td>\n",
       "      <td>3</td>\n",
       "    </tr>\n",
       "    <tr>\n",
       "      <th>5450</th>\n",
       "      <td>CLAUDIA</td>\n",
       "      <td>2</td>\n",
       "      <td>9</td>\n",
       "      <td>That's your ride!  Dusty??? The bag from Melva...</td>\n",
       "      <td>that your ride dusty the bag from melvald upen...</td>\n",
       "      <td>58</td>\n",
       "      <td>Female</td>\n",
       "      <td>1.9</td>\n",
       "      <td>3</td>\n",
       "    </tr>\n",
       "  </tbody>\n",
       "</table>\n",
       "<p>5451 rows × 9 columns</p>\n",
       "</div>"
      ],
      "text/plain": [
       "     Character_Fix  Season  Episode  \\\n",
       "0           HOPPER       3        5   \n",
       "1           HOPPER       3        5   \n",
       "2           HOPPER       3        5   \n",
       "3           HOPPER       3        5   \n",
       "4           HOPPER       3        5   \n",
       "...            ...     ...      ...   \n",
       "5446         SUSAN       2        9   \n",
       "5447         SUSAN       2        9   \n",
       "5448       CLAUDIA       2        9   \n",
       "5449       CLAUDIA       2        9   \n",
       "5450       CLAUDIA       2        9   \n",
       "\n",
       "                                                 Dialog  \\\n",
       "0     Looks like somebody’s home. As the truck parks...   \n",
       "1     Where’s that coming from? Joyce pauses at the ...   \n",
       "2     Hey, dipshits! The men drop their tools and st...   \n",
       "3     Dr. Alexei steps forward, putting himself betw...   \n",
       "4     English! You speak English? Alexei tries to ca...   \n",
       "...                                                 ...   \n",
       "5446                                See -- pretty -- !!   \n",
       "5447  ... Now -- you surrrre you don't  want to wear...   \n",
       "5448                         Where did you see it last?   \n",
       "5449  What's in there that's so important  anyway?  ...   \n",
       "5450  That's your ride!  Dusty??? The bag from Melva...   \n",
       "\n",
       "                                            token_lemma  length  Gender  \\\n",
       "0     look like somebody home as the truck park we r...     303   Male    \n",
       "1     where that come from joyce pause at the foot o...     150   Male    \n",
       "2     hey dipshit the man drop their tool and stand ...      72   Male    \n",
       "3     alexei step forward put himself between hopper...     140   Male    \n",
       "4     english you speak english alexei try to calm t...      58   Male    \n",
       "...                                                 ...     ...     ...   \n",
       "5446                                         see pretty      10  Female   \n",
       "5447  now you surrrre you do want to wear a dress ma...      94  Female   \n",
       "5448                           where do you see it last      24  Female   \n",
       "5449  what in there that so important anyway you loo...     116  Female   \n",
       "5450  that your ride dusty the bag from melvald upen...      58  Female   \n",
       "\n",
       "      grade  difficulty  \n",
       "0       2.6          11  \n",
       "1       2.8           3  \n",
       "2       0.3           1  \n",
       "3       4.3           6  \n",
       "4       5.2           2  \n",
       "...     ...         ...  \n",
       "5446    2.9           0  \n",
       "5447    0.1           2  \n",
       "5448   -1.5           0  \n",
       "5449    3.2           3  \n",
       "5450    1.9           3  \n",
       "\n",
       "[5451 rows x 9 columns]"
      ]
     },
     "execution_count": 434,
     "metadata": {},
     "output_type": "execute_result"
    }
   ],
   "source": [
    "df_sh2"
   ]
  },
  {
   "cell_type": "code",
   "execution_count": 435,
   "id": "3ba196ba",
   "metadata": {},
   "outputs": [
    {
     "name": "stdout",
     "output_type": "stream",
     "text": [
      "polarity checked successfull\n"
     ]
    }
   ],
   "source": [
    "#adding the compound score on again but with the token lemma\n",
    "\n",
    "df_sh2['polarity'] = df_sh2['token_lemma'].apply(polarity)  #polarity checking\n",
    "df_sh2['compound']  = df_sh2['polarity'].apply(lambda score_dict: score_dict['compound'])\n",
    "\n",
    "df_sh2['sentiment'] = df_sh2['compound'].apply(lambda x: \"Positive\" if x>=0.5 \\\n",
    "                                                     else(\"Negative\" if x<=-0.5 \\\n",
    "                                                     else \"Neutral\"))\n",
    "print(\"polarity checked successfull\")"
   ]
  },
  {
   "cell_type": "code",
   "execution_count": 436,
   "id": "17fc3b60",
   "metadata": {},
   "outputs": [],
   "source": [
    "#removing short spoken lines like, no, what, so , hey, yep etc \n",
    "#basically when someone spoke 3 words or less\n",
    "df_sh2['length_spk'] = df_sh2['token_lemma'].apply(lambda x: len(x.split()))"
   ]
  },
  {
   "cell_type": "code",
   "execution_count": 437,
   "id": "722890bb",
   "metadata": {},
   "outputs": [],
   "source": [
    "df_sh2 = df_sh2[df_sh2['length_spk'] >3].copy()"
   ]
  },
  {
   "cell_type": "code",
   "execution_count": 438,
   "id": "2ffcb0e5",
   "metadata": {},
   "outputs": [
    {
     "data": {
      "text/html": [
       "<div>\n",
       "<style scoped>\n",
       "    .dataframe tbody tr th:only-of-type {\n",
       "        vertical-align: middle;\n",
       "    }\n",
       "\n",
       "    .dataframe tbody tr th {\n",
       "        vertical-align: top;\n",
       "    }\n",
       "\n",
       "    .dataframe thead th {\n",
       "        text-align: right;\n",
       "    }\n",
       "</style>\n",
       "<table border=\"1\" class=\"dataframe\">\n",
       "  <thead>\n",
       "    <tr style=\"text-align: right;\">\n",
       "      <th></th>\n",
       "      <th>Character_Fix</th>\n",
       "      <th>Season</th>\n",
       "      <th>Episode</th>\n",
       "      <th>Dialog</th>\n",
       "      <th>token_lemma</th>\n",
       "      <th>length</th>\n",
       "      <th>Gender</th>\n",
       "      <th>grade</th>\n",
       "      <th>difficulty</th>\n",
       "      <th>polarity</th>\n",
       "      <th>compound</th>\n",
       "      <th>sentiment</th>\n",
       "      <th>length_spk</th>\n",
       "    </tr>\n",
       "  </thead>\n",
       "  <tbody>\n",
       "    <tr>\n",
       "      <th>0</th>\n",
       "      <td>HOPPER</td>\n",
       "      <td>3</td>\n",
       "      <td>5</td>\n",
       "      <td>Looks like somebody’s home. As the truck parks...</td>\n",
       "      <td>look like somebody home as the truck park we r...</td>\n",
       "      <td>303</td>\n",
       "      <td>Male</td>\n",
       "      <td>2.6</td>\n",
       "      <td>11</td>\n",
       "      <td>{'neg': 0.089, 'neu': 0.881, 'pos': 0.03, 'com...</td>\n",
       "      <td>-0.3612</td>\n",
       "      <td>Neutral</td>\n",
       "      <td>59</td>\n",
       "    </tr>\n",
       "    <tr>\n",
       "      <th>1</th>\n",
       "      <td>HOPPER</td>\n",
       "      <td>3</td>\n",
       "      <td>5</td>\n",
       "      <td>Where’s that coming from? Joyce pauses at the ...</td>\n",
       "      <td>where that come from joyce pause at the foot o...</td>\n",
       "      <td>150</td>\n",
       "      <td>Male</td>\n",
       "      <td>2.8</td>\n",
       "      <td>3</td>\n",
       "      <td>{'neg': 0.0, 'neu': 1.0, 'pos': 0.0, 'compound...</td>\n",
       "      <td>0.0000</td>\n",
       "      <td>Neutral</td>\n",
       "      <td>31</td>\n",
       "    </tr>\n",
       "    <tr>\n",
       "      <th>2</th>\n",
       "      <td>HOPPER</td>\n",
       "      <td>3</td>\n",
       "      <td>5</td>\n",
       "      <td>Hey, dipshits! The men drop their tools and st...</td>\n",
       "      <td>hey dipshit the man drop their tool and stand ...</td>\n",
       "      <td>72</td>\n",
       "      <td>Male</td>\n",
       "      <td>0.3</td>\n",
       "      <td>1</td>\n",
       "      <td>{'neg': 0.255, 'neu': 0.588, 'pos': 0.157, 'co...</td>\n",
       "      <td>-0.2500</td>\n",
       "      <td>Neutral</td>\n",
       "      <td>15</td>\n",
       "    </tr>\n",
       "    <tr>\n",
       "      <th>3</th>\n",
       "      <td>HOPPER</td>\n",
       "      <td>3</td>\n",
       "      <td>5</td>\n",
       "      <td>Dr. Alexei steps forward, putting himself betw...</td>\n",
       "      <td>alexei step forward put himself between hopper...</td>\n",
       "      <td>140</td>\n",
       "      <td>Male</td>\n",
       "      <td>4.3</td>\n",
       "      <td>6</td>\n",
       "      <td>{'neg': 0.176, 'neu': 0.824, 'pos': 0.0, 'comp...</td>\n",
       "      <td>-0.5719</td>\n",
       "      <td>Negative</td>\n",
       "      <td>25</td>\n",
       "    </tr>\n",
       "    <tr>\n",
       "      <th>4</th>\n",
       "      <td>HOPPER</td>\n",
       "      <td>3</td>\n",
       "      <td>5</td>\n",
       "      <td>English! You speak English? Alexei tries to ca...</td>\n",
       "      <td>english you speak english alexei try to calm t...</td>\n",
       "      <td>58</td>\n",
       "      <td>Male</td>\n",
       "      <td>5.2</td>\n",
       "      <td>2</td>\n",
       "      <td>{'neg': 0.0, 'neu': 0.796, 'pos': 0.204, 'comp...</td>\n",
       "      <td>0.3182</td>\n",
       "      <td>Neutral</td>\n",
       "      <td>10</td>\n",
       "    </tr>\n",
       "    <tr>\n",
       "      <th>...</th>\n",
       "      <td>...</td>\n",
       "      <td>...</td>\n",
       "      <td>...</td>\n",
       "      <td>...</td>\n",
       "      <td>...</td>\n",
       "      <td>...</td>\n",
       "      <td>...</td>\n",
       "      <td>...</td>\n",
       "      <td>...</td>\n",
       "      <td>...</td>\n",
       "      <td>...</td>\n",
       "      <td>...</td>\n",
       "      <td>...</td>\n",
       "    </tr>\n",
       "    <tr>\n",
       "      <th>5445</th>\n",
       "      <td>SUSAN</td>\n",
       "      <td>2</td>\n",
       "      <td>9</td>\n",
       "      <td>It's gonna be worth it -- promise! As Susan co...</td>\n",
       "      <td>it gon na be worth it promise as susan continu...</td>\n",
       "      <td>231</td>\n",
       "      <td>Female</td>\n",
       "      <td>3.3</td>\n",
       "      <td>6</td>\n",
       "      <td>{'neg': 0.094, 'neu': 0.824, 'pos': 0.082, 'co...</td>\n",
       "      <td>-0.1531</td>\n",
       "      <td>Neutral</td>\n",
       "      <td>46</td>\n",
       "    </tr>\n",
       "    <tr>\n",
       "      <th>5447</th>\n",
       "      <td>SUSAN</td>\n",
       "      <td>2</td>\n",
       "      <td>9</td>\n",
       "      <td>... Now -- you surrrre you don't  want to wear...</td>\n",
       "      <td>now you surrrre you do want to wear a dress ma...</td>\n",
       "      <td>94</td>\n",
       "      <td>Female</td>\n",
       "      <td>0.1</td>\n",
       "      <td>2</td>\n",
       "      <td>{'neg': 0.0, 'neu': 0.936, 'pos': 0.064, 'comp...</td>\n",
       "      <td>0.0772</td>\n",
       "      <td>Neutral</td>\n",
       "      <td>21</td>\n",
       "    </tr>\n",
       "    <tr>\n",
       "      <th>5448</th>\n",
       "      <td>CLAUDIA</td>\n",
       "      <td>2</td>\n",
       "      <td>9</td>\n",
       "      <td>Where did you see it last?</td>\n",
       "      <td>where do you see it last</td>\n",
       "      <td>24</td>\n",
       "      <td>Female</td>\n",
       "      <td>-1.5</td>\n",
       "      <td>0</td>\n",
       "      <td>{'neg': 0.0, 'neu': 1.0, 'pos': 0.0, 'compound...</td>\n",
       "      <td>0.0000</td>\n",
       "      <td>Neutral</td>\n",
       "      <td>6</td>\n",
       "    </tr>\n",
       "    <tr>\n",
       "      <th>5449</th>\n",
       "      <td>CLAUDIA</td>\n",
       "      <td>2</td>\n",
       "      <td>9</td>\n",
       "      <td>What's in there that's so important  anyway?  ...</td>\n",
       "      <td>what in there that so important anyway you loo...</td>\n",
       "      <td>116</td>\n",
       "      <td>Female</td>\n",
       "      <td>3.2</td>\n",
       "      <td>3</td>\n",
       "      <td>{'neg': 0.082, 'neu': 0.762, 'pos': 0.156, 'co...</td>\n",
       "      <td>0.2103</td>\n",
       "      <td>Neutral</td>\n",
       "      <td>23</td>\n",
       "    </tr>\n",
       "    <tr>\n",
       "      <th>5450</th>\n",
       "      <td>CLAUDIA</td>\n",
       "      <td>2</td>\n",
       "      <td>9</td>\n",
       "      <td>That's your ride!  Dusty??? The bag from Melva...</td>\n",
       "      <td>that your ride dusty the bag from melvald upen...</td>\n",
       "      <td>58</td>\n",
       "      <td>Female</td>\n",
       "      <td>1.9</td>\n",
       "      <td>3</td>\n",
       "      <td>{'neg': 0.0, 'neu': 1.0, 'pos': 0.0, 'compound...</td>\n",
       "      <td>0.0000</td>\n",
       "      <td>Neutral</td>\n",
       "      <td>11</td>\n",
       "    </tr>\n",
       "  </tbody>\n",
       "</table>\n",
       "<p>4655 rows × 13 columns</p>\n",
       "</div>"
      ],
      "text/plain": [
       "     Character_Fix  Season  Episode  \\\n",
       "0           HOPPER       3        5   \n",
       "1           HOPPER       3        5   \n",
       "2           HOPPER       3        5   \n",
       "3           HOPPER       3        5   \n",
       "4           HOPPER       3        5   \n",
       "...            ...     ...      ...   \n",
       "5445         SUSAN       2        9   \n",
       "5447         SUSAN       2        9   \n",
       "5448       CLAUDIA       2        9   \n",
       "5449       CLAUDIA       2        9   \n",
       "5450       CLAUDIA       2        9   \n",
       "\n",
       "                                                 Dialog  \\\n",
       "0     Looks like somebody’s home. As the truck parks...   \n",
       "1     Where’s that coming from? Joyce pauses at the ...   \n",
       "2     Hey, dipshits! The men drop their tools and st...   \n",
       "3     Dr. Alexei steps forward, putting himself betw...   \n",
       "4     English! You speak English? Alexei tries to ca...   \n",
       "...                                                 ...   \n",
       "5445  It's gonna be worth it -- promise! As Susan co...   \n",
       "5447  ... Now -- you surrrre you don't  want to wear...   \n",
       "5448                         Where did you see it last?   \n",
       "5449  What's in there that's so important  anyway?  ...   \n",
       "5450  That's your ride!  Dusty??? The bag from Melva...   \n",
       "\n",
       "                                            token_lemma  length  Gender  \\\n",
       "0     look like somebody home as the truck park we r...     303   Male    \n",
       "1     where that come from joyce pause at the foot o...     150   Male    \n",
       "2     hey dipshit the man drop their tool and stand ...      72   Male    \n",
       "3     alexei step forward put himself between hopper...     140   Male    \n",
       "4     english you speak english alexei try to calm t...      58   Male    \n",
       "...                                                 ...     ...     ...   \n",
       "5445  it gon na be worth it promise as susan continu...     231  Female   \n",
       "5447  now you surrrre you do want to wear a dress ma...      94  Female   \n",
       "5448                           where do you see it last      24  Female   \n",
       "5449  what in there that so important anyway you loo...     116  Female   \n",
       "5450  that your ride dusty the bag from melvald upen...      58  Female   \n",
       "\n",
       "      grade  difficulty                                           polarity  \\\n",
       "0       2.6          11  {'neg': 0.089, 'neu': 0.881, 'pos': 0.03, 'com...   \n",
       "1       2.8           3  {'neg': 0.0, 'neu': 1.0, 'pos': 0.0, 'compound...   \n",
       "2       0.3           1  {'neg': 0.255, 'neu': 0.588, 'pos': 0.157, 'co...   \n",
       "3       4.3           6  {'neg': 0.176, 'neu': 0.824, 'pos': 0.0, 'comp...   \n",
       "4       5.2           2  {'neg': 0.0, 'neu': 0.796, 'pos': 0.204, 'comp...   \n",
       "...     ...         ...                                                ...   \n",
       "5445    3.3           6  {'neg': 0.094, 'neu': 0.824, 'pos': 0.082, 'co...   \n",
       "5447    0.1           2  {'neg': 0.0, 'neu': 0.936, 'pos': 0.064, 'comp...   \n",
       "5448   -1.5           0  {'neg': 0.0, 'neu': 1.0, 'pos': 0.0, 'compound...   \n",
       "5449    3.2           3  {'neg': 0.082, 'neu': 0.762, 'pos': 0.156, 'co...   \n",
       "5450    1.9           3  {'neg': 0.0, 'neu': 1.0, 'pos': 0.0, 'compound...   \n",
       "\n",
       "      compound sentiment  length_spk  \n",
       "0      -0.3612   Neutral          59  \n",
       "1       0.0000   Neutral          31  \n",
       "2      -0.2500   Neutral          15  \n",
       "3      -0.5719  Negative          25  \n",
       "4       0.3182   Neutral          10  \n",
       "...        ...       ...         ...  \n",
       "5445   -0.1531   Neutral          46  \n",
       "5447    0.0772   Neutral          21  \n",
       "5448    0.0000   Neutral           6  \n",
       "5449    0.2103   Neutral          23  \n",
       "5450    0.0000   Neutral          11  \n",
       "\n",
       "[4655 rows x 13 columns]"
      ]
     },
     "execution_count": 438,
     "metadata": {},
     "output_type": "execute_result"
    }
   ],
   "source": [
    "df_sh2"
   ]
  },
  {
   "cell_type": "code",
   "execution_count": 439,
   "id": "758b7c9f",
   "metadata": {},
   "outputs": [],
   "source": [
    "check_appearance = df_sh2.groupby(['Character_Fix'])['Character_Fix'].count()"
   ]
  },
  {
   "cell_type": "code",
   "execution_count": 440,
   "id": "d750fc45",
   "metadata": {},
   "outputs": [],
   "source": [
    "appearance = pd.DataFrame({'Character_Fix':check_appearance.index, 'Num':check_appearance.values})"
   ]
  },
  {
   "cell_type": "code",
   "execution_count": 441,
   "id": "a4c730e1",
   "metadata": {},
   "outputs": [
    {
     "data": {
      "text/html": [
       "<div>\n",
       "<style scoped>\n",
       "    .dataframe tbody tr th:only-of-type {\n",
       "        vertical-align: middle;\n",
       "    }\n",
       "\n",
       "    .dataframe tbody tr th {\n",
       "        vertical-align: top;\n",
       "    }\n",
       "\n",
       "    .dataframe thead th {\n",
       "        text-align: right;\n",
       "    }\n",
       "</style>\n",
       "<table border=\"1\" class=\"dataframe\">\n",
       "  <thead>\n",
       "    <tr style=\"text-align: right;\">\n",
       "      <th></th>\n",
       "      <th>Character_Fix</th>\n",
       "      <th>Num</th>\n",
       "    </tr>\n",
       "  </thead>\n",
       "  <tbody>\n",
       "    <tr>\n",
       "      <th>3</th>\n",
       "      <td>ANDY</td>\n",
       "      <td>1</td>\n",
       "    </tr>\n",
       "    <tr>\n",
       "      <th>52</th>\n",
       "      <td>TROY</td>\n",
       "      <td>1</td>\n",
       "    </tr>\n",
       "    <tr>\n",
       "      <th>51</th>\n",
       "      <td>TOMMY</td>\n",
       "      <td>1</td>\n",
       "    </tr>\n",
       "    <tr>\n",
       "      <th>29</th>\n",
       "      <td>JAMES</td>\n",
       "      <td>1</td>\n",
       "    </tr>\n",
       "    <tr>\n",
       "      <th>13</th>\n",
       "      <td>DEMOGORGON</td>\n",
       "      <td>1</td>\n",
       "    </tr>\n",
       "    <tr>\n",
       "      <th>55</th>\n",
       "      <td>VICTOR CREEL</td>\n",
       "      <td>2</td>\n",
       "    </tr>\n",
       "    <tr>\n",
       "      <th>54</th>\n",
       "      <td>VICKIE</td>\n",
       "      <td>2</td>\n",
       "    </tr>\n",
       "    <tr>\n",
       "      <th>49</th>\n",
       "      <td>TERRY</td>\n",
       "      <td>2</td>\n",
       "    </tr>\n",
       "    <tr>\n",
       "      <th>8</th>\n",
       "      <td>BOB</td>\n",
       "      <td>2</td>\n",
       "    </tr>\n",
       "    <tr>\n",
       "      <th>25</th>\n",
       "      <td>HENRY</td>\n",
       "      <td>2</td>\n",
       "    </tr>\n",
       "    <tr>\n",
       "      <th>0</th>\n",
       "      <td>AGENT FRAZIER</td>\n",
       "      <td>3</td>\n",
       "    </tr>\n",
       "    <tr>\n",
       "      <th>26</th>\n",
       "      <td>HOLLY</td>\n",
       "      <td>4</td>\n",
       "    </tr>\n",
       "    <tr>\n",
       "      <th>28</th>\n",
       "      <td>IVAN</td>\n",
       "      <td>5</td>\n",
       "    </tr>\n",
       "    <tr>\n",
       "      <th>11</th>\n",
       "      <td>CLAUDIA</td>\n",
       "      <td>5</td>\n",
       "    </tr>\n",
       "    <tr>\n",
       "      <th>1</th>\n",
       "      <td>AGENT HARMON</td>\n",
       "      <td>6</td>\n",
       "    </tr>\n",
       "    <tr>\n",
       "      <th>43</th>\n",
       "      <td>OFFICER POWELL</td>\n",
       "      <td>7</td>\n",
       "    </tr>\n",
       "    <tr>\n",
       "      <th>22</th>\n",
       "      <td>FLORENCE</td>\n",
       "      <td>8</td>\n",
       "    </tr>\n",
       "    <tr>\n",
       "      <th>10</th>\n",
       "      <td>CAROL</td>\n",
       "      <td>9</td>\n",
       "    </tr>\n",
       "    <tr>\n",
       "      <th>12</th>\n",
       "      <td>COLONEL SULLIVAN</td>\n",
       "      <td>9</td>\n",
       "    </tr>\n",
       "    <tr>\n",
       "      <th>48</th>\n",
       "      <td>TED</td>\n",
       "      <td>11</td>\n",
       "    </tr>\n",
       "    <tr>\n",
       "      <th>34</th>\n",
       "      <td>LONNIE</td>\n",
       "      <td>11</td>\n",
       "    </tr>\n",
       "    <tr>\n",
       "      <th>47</th>\n",
       "      <td>SUZIE</td>\n",
       "      <td>14</td>\n",
       "    </tr>\n",
       "    <tr>\n",
       "      <th>23</th>\n",
       "      <td>GRIGORI</td>\n",
       "      <td>14</td>\n",
       "    </tr>\n",
       "    <tr>\n",
       "      <th>19</th>\n",
       "      <td>EDDIE</td>\n",
       "      <td>15</td>\n",
       "    </tr>\n",
       "    <tr>\n",
       "      <th>14</th>\n",
       "      <td>DEPUTY CALLAHAN</td>\n",
       "      <td>15</td>\n",
       "    </tr>\n",
       "    <tr>\n",
       "      <th>53</th>\n",
       "      <td>VECNA</td>\n",
       "      <td>17</td>\n",
       "    </tr>\n",
       "    <tr>\n",
       "      <th>30</th>\n",
       "      <td>JASON</td>\n",
       "      <td>17</td>\n",
       "    </tr>\n",
       "    <tr>\n",
       "      <th>40</th>\n",
       "      <td>MRS DRISCOLL</td>\n",
       "      <td>17</td>\n",
       "    </tr>\n",
       "    <tr>\n",
       "      <th>24</th>\n",
       "      <td>HEATHER</td>\n",
       "      <td>19</td>\n",
       "    </tr>\n",
       "    <tr>\n",
       "      <th>46</th>\n",
       "      <td>SUSAN</td>\n",
       "      <td>20</td>\n",
       "    </tr>\n",
       "    <tr>\n",
       "      <th>5</th>\n",
       "      <td>BARBARA</td>\n",
       "      <td>20</td>\n",
       "    </tr>\n",
       "    <tr>\n",
       "      <th>9</th>\n",
       "      <td>BRUCE</td>\n",
       "      <td>22</td>\n",
       "    </tr>\n",
       "    <tr>\n",
       "      <th>39</th>\n",
       "      <td>MR CLARKE</td>\n",
       "      <td>25</td>\n",
       "    </tr>\n",
       "    <tr>\n",
       "      <th>4</th>\n",
       "      <td>ARGYLE</td>\n",
       "      <td>26</td>\n",
       "    </tr>\n",
       "    <tr>\n",
       "      <th>2</th>\n",
       "      <td>ALEXEI</td>\n",
       "      <td>27</td>\n",
       "    </tr>\n",
       "    <tr>\n",
       "      <th>57</th>\n",
       "      <td>YURI</td>\n",
       "      <td>29</td>\n",
       "    </tr>\n",
       "    <tr>\n",
       "      <th>50</th>\n",
       "      <td>TOM</td>\n",
       "      <td>30</td>\n",
       "    </tr>\n",
       "    <tr>\n",
       "      <th>6</th>\n",
       "      <td>BENNY</td>\n",
       "      <td>31</td>\n",
       "    </tr>\n",
       "    <tr>\n",
       "      <th>15</th>\n",
       "      <td>DMITRI</td>\n",
       "      <td>33</td>\n",
       "    </tr>\n",
       "    <tr>\n",
       "      <th>17</th>\n",
       "      <td>DR OWENS</td>\n",
       "      <td>33</td>\n",
       "    </tr>\n",
       "    <tr>\n",
       "      <th>37</th>\n",
       "      <td>MAYOR KLINE</td>\n",
       "      <td>56</td>\n",
       "    </tr>\n",
       "    <tr>\n",
       "      <th>16</th>\n",
       "      <td>DR BRENNER</td>\n",
       "      <td>58</td>\n",
       "    </tr>\n",
       "    <tr>\n",
       "      <th>33</th>\n",
       "      <td>KAREN</td>\n",
       "      <td>87</td>\n",
       "    </tr>\n",
       "    <tr>\n",
       "      <th>7</th>\n",
       "      <td>BILLY</td>\n",
       "      <td>116</td>\n",
       "    </tr>\n",
       "    <tr>\n",
       "      <th>21</th>\n",
       "      <td>ERICA</td>\n",
       "      <td>121</td>\n",
       "    </tr>\n",
       "    <tr>\n",
       "      <th>41</th>\n",
       "      <td>MURRAY</td>\n",
       "      <td>133</td>\n",
       "    </tr>\n",
       "    <tr>\n",
       "      <th>56</th>\n",
       "      <td>WILL</td>\n",
       "      <td>151</td>\n",
       "    </tr>\n",
       "    <tr>\n",
       "      <th>20</th>\n",
       "      <td>ELEVEN</td>\n",
       "      <td>171</td>\n",
       "    </tr>\n",
       "    <tr>\n",
       "      <th>31</th>\n",
       "      <td>JONATHAN</td>\n",
       "      <td>185</td>\n",
       "    </tr>\n",
       "    <tr>\n",
       "      <th>35</th>\n",
       "      <td>LUCAS</td>\n",
       "      <td>216</td>\n",
       "    </tr>\n",
       "    <tr>\n",
       "      <th>36</th>\n",
       "      <td>MAX</td>\n",
       "      <td>237</td>\n",
       "    </tr>\n",
       "    <tr>\n",
       "      <th>44</th>\n",
       "      <td>ROBIN</td>\n",
       "      <td>260</td>\n",
       "    </tr>\n",
       "    <tr>\n",
       "      <th>42</th>\n",
       "      <td>NANCY</td>\n",
       "      <td>309</td>\n",
       "    </tr>\n",
       "    <tr>\n",
       "      <th>32</th>\n",
       "      <td>JOYCE</td>\n",
       "      <td>336</td>\n",
       "    </tr>\n",
       "    <tr>\n",
       "      <th>45</th>\n",
       "      <td>STEVE</td>\n",
       "      <td>372</td>\n",
       "    </tr>\n",
       "    <tr>\n",
       "      <th>18</th>\n",
       "      <td>DUSTIN</td>\n",
       "      <td>387</td>\n",
       "    </tr>\n",
       "    <tr>\n",
       "      <th>38</th>\n",
       "      <td>MIKE</td>\n",
       "      <td>442</td>\n",
       "    </tr>\n",
       "    <tr>\n",
       "      <th>27</th>\n",
       "      <td>HOPPER</td>\n",
       "      <td>501</td>\n",
       "    </tr>\n",
       "  </tbody>\n",
       "</table>\n",
       "</div>"
      ],
      "text/plain": [
       "       Character_Fix  Num\n",
       "3               ANDY    1\n",
       "52              TROY    1\n",
       "51             TOMMY    1\n",
       "29             JAMES    1\n",
       "13        DEMOGORGON    1\n",
       "55      VICTOR CREEL    2\n",
       "54            VICKIE    2\n",
       "49             TERRY    2\n",
       "8                BOB    2\n",
       "25             HENRY    2\n",
       "0      AGENT FRAZIER    3\n",
       "26             HOLLY    4\n",
       "28              IVAN    5\n",
       "11           CLAUDIA    5\n",
       "1       AGENT HARMON    6\n",
       "43    OFFICER POWELL    7\n",
       "22          FLORENCE    8\n",
       "10             CAROL    9\n",
       "12  COLONEL SULLIVAN    9\n",
       "48               TED   11\n",
       "34            LONNIE   11\n",
       "47             SUZIE   14\n",
       "23           GRIGORI   14\n",
       "19             EDDIE   15\n",
       "14   DEPUTY CALLAHAN   15\n",
       "53             VECNA   17\n",
       "30             JASON   17\n",
       "40      MRS DRISCOLL   17\n",
       "24           HEATHER   19\n",
       "46             SUSAN   20\n",
       "5            BARBARA   20\n",
       "9              BRUCE   22\n",
       "39         MR CLARKE   25\n",
       "4             ARGYLE   26\n",
       "2             ALEXEI   27\n",
       "57              YURI   29\n",
       "50               TOM   30\n",
       "6              BENNY   31\n",
       "15            DMITRI   33\n",
       "17          DR OWENS   33\n",
       "37       MAYOR KLINE   56\n",
       "16        DR BRENNER   58\n",
       "33             KAREN   87\n",
       "7              BILLY  116\n",
       "21             ERICA  121\n",
       "41            MURRAY  133\n",
       "56              WILL  151\n",
       "20            ELEVEN  171\n",
       "31          JONATHAN  185\n",
       "35             LUCAS  216\n",
       "36               MAX  237\n",
       "44             ROBIN  260\n",
       "42             NANCY  309\n",
       "32             JOYCE  336\n",
       "45             STEVE  372\n",
       "18            DUSTIN  387\n",
       "38              MIKE  442\n",
       "27            HOPPER  501"
      ]
     },
     "execution_count": 441,
     "metadata": {},
     "output_type": "execute_result"
    }
   ],
   "source": [
    "appearance.sort_values(by='Num')"
   ]
  },
  {
   "cell_type": "code",
   "execution_count": 442,
   "id": "5c34513f",
   "metadata": {},
   "outputs": [],
   "source": [
    "df_sh2 = df_sh2.merge(appearance, how=\"left\", on ='Character_Fix').copy()"
   ]
  },
  {
   "cell_type": "code",
   "execution_count": 443,
   "id": "17c07ed5",
   "metadata": {},
   "outputs": [],
   "source": [
    "df_sh2 = df_sh2[df_sh2['Num']> 2].copy()"
   ]
  },
  {
   "cell_type": "code",
   "execution_count": 444,
   "id": "bd749e95",
   "metadata": {},
   "outputs": [],
   "source": [
    "df_sh2['Gender'].replace(['Female ', 'Female','Male','Male ','Neutral'],\n",
    "                        [1, 1,2,2,0], inplace=True)"
   ]
  },
  {
   "cell_type": "code",
   "execution_count": 445,
   "id": "8d85dc93",
   "metadata": {},
   "outputs": [],
   "source": [
    "df_sh2['sentiment'].replace(['Negative', 'Neutral','Positive'],\n",
    "                        [-1,0,1], inplace=True)"
   ]
  },
  {
   "cell_type": "code",
   "execution_count": 446,
   "id": "7abda78f",
   "metadata": {},
   "outputs": [],
   "source": [
    "df_sh2.drop(columns=['Dialog','length','polarity'],inplace=True, axis = 1)"
   ]
  },
  {
   "cell_type": "code",
   "execution_count": 447,
   "id": "595ca2c3",
   "metadata": {},
   "outputs": [
    {
     "data": {
      "text/html": [
       "<div>\n",
       "<style scoped>\n",
       "    .dataframe tbody tr th:only-of-type {\n",
       "        vertical-align: middle;\n",
       "    }\n",
       "\n",
       "    .dataframe tbody tr th {\n",
       "        vertical-align: top;\n",
       "    }\n",
       "\n",
       "    .dataframe thead th {\n",
       "        text-align: right;\n",
       "    }\n",
       "</style>\n",
       "<table border=\"1\" class=\"dataframe\">\n",
       "  <thead>\n",
       "    <tr style=\"text-align: right;\">\n",
       "      <th></th>\n",
       "      <th>Character_Fix</th>\n",
       "      <th>Season</th>\n",
       "      <th>Episode</th>\n",
       "      <th>token_lemma</th>\n",
       "      <th>Gender</th>\n",
       "      <th>grade</th>\n",
       "      <th>difficulty</th>\n",
       "      <th>compound</th>\n",
       "      <th>sentiment</th>\n",
       "      <th>length_spk</th>\n",
       "      <th>Num</th>\n",
       "    </tr>\n",
       "  </thead>\n",
       "  <tbody>\n",
       "    <tr>\n",
       "      <th>0</th>\n",
       "      <td>HOPPER</td>\n",
       "      <td>3</td>\n",
       "      <td>5</td>\n",
       "      <td>look like somebody home as the truck park we r...</td>\n",
       "      <td>2</td>\n",
       "      <td>2.6</td>\n",
       "      <td>11</td>\n",
       "      <td>-0.3612</td>\n",
       "      <td>0</td>\n",
       "      <td>59</td>\n",
       "      <td>501</td>\n",
       "    </tr>\n",
       "    <tr>\n",
       "      <th>1</th>\n",
       "      <td>HOPPER</td>\n",
       "      <td>3</td>\n",
       "      <td>5</td>\n",
       "      <td>where that come from joyce pause at the foot o...</td>\n",
       "      <td>2</td>\n",
       "      <td>2.8</td>\n",
       "      <td>3</td>\n",
       "      <td>0.0000</td>\n",
       "      <td>0</td>\n",
       "      <td>31</td>\n",
       "      <td>501</td>\n",
       "    </tr>\n",
       "    <tr>\n",
       "      <th>2</th>\n",
       "      <td>HOPPER</td>\n",
       "      <td>3</td>\n",
       "      <td>5</td>\n",
       "      <td>hey dipshit the man drop their tool and stand ...</td>\n",
       "      <td>2</td>\n",
       "      <td>0.3</td>\n",
       "      <td>1</td>\n",
       "      <td>-0.2500</td>\n",
       "      <td>0</td>\n",
       "      <td>15</td>\n",
       "      <td>501</td>\n",
       "    </tr>\n",
       "    <tr>\n",
       "      <th>3</th>\n",
       "      <td>HOPPER</td>\n",
       "      <td>3</td>\n",
       "      <td>5</td>\n",
       "      <td>alexei step forward put himself between hopper...</td>\n",
       "      <td>2</td>\n",
       "      <td>4.3</td>\n",
       "      <td>6</td>\n",
       "      <td>-0.5719</td>\n",
       "      <td>-1</td>\n",
       "      <td>25</td>\n",
       "      <td>501</td>\n",
       "    </tr>\n",
       "    <tr>\n",
       "      <th>4</th>\n",
       "      <td>HOPPER</td>\n",
       "      <td>3</td>\n",
       "      <td>5</td>\n",
       "      <td>english you speak english alexei try to calm t...</td>\n",
       "      <td>2</td>\n",
       "      <td>5.2</td>\n",
       "      <td>2</td>\n",
       "      <td>0.3182</td>\n",
       "      <td>0</td>\n",
       "      <td>10</td>\n",
       "      <td>501</td>\n",
       "    </tr>\n",
       "  </tbody>\n",
       "</table>\n",
       "</div>"
      ],
      "text/plain": [
       "  Character_Fix  Season  Episode  \\\n",
       "0        HOPPER       3        5   \n",
       "1        HOPPER       3        5   \n",
       "2        HOPPER       3        5   \n",
       "3        HOPPER       3        5   \n",
       "4        HOPPER       3        5   \n",
       "\n",
       "                                         token_lemma  Gender  grade  \\\n",
       "0  look like somebody home as the truck park we r...       2    2.6   \n",
       "1  where that come from joyce pause at the foot o...       2    2.8   \n",
       "2  hey dipshit the man drop their tool and stand ...       2    0.3   \n",
       "3  alexei step forward put himself between hopper...       2    4.3   \n",
       "4  english you speak english alexei try to calm t...       2    5.2   \n",
       "\n",
       "   difficulty  compound  sentiment  length_spk  Num  \n",
       "0          11   -0.3612          0          59  501  \n",
       "1           3    0.0000          0          31  501  \n",
       "2           1   -0.2500          0          15  501  \n",
       "3           6   -0.5719         -1          25  501  \n",
       "4           2    0.3182          0          10  501  "
      ]
     },
     "execution_count": 447,
     "metadata": {},
     "output_type": "execute_result"
    }
   ],
   "source": [
    "df_sh2.head()"
   ]
  },
  {
   "cell_type": "markdown",
   "id": "6426f0cd",
   "metadata": {},
   "source": [
    "### Let's vectorize and train with our hyper parameters designated above before we re-tune with this new df with more features and removal of characters who appeared two times or less and removal of character rows when they spoke who spoke 3 words or less."
   ]
  },
  {
   "cell_type": "code",
   "execution_count": 472,
   "id": "d8bac6d7",
   "metadata": {},
   "outputs": [],
   "source": [
    "#df_sh2.shape"
   ]
  },
  {
   "cell_type": "code",
   "execution_count": 473,
   "id": "0e2bfb01",
   "metadata": {},
   "outputs": [],
   "source": [
    "#df_train2 = df_sh2.drop(columns=['Character_Fix'],axis=1)"
   ]
  },
  {
   "cell_type": "code",
   "execution_count": 474,
   "id": "6a974ca3",
   "metadata": {},
   "outputs": [],
   "source": [
    "#from sklearn.model_selection import train_test_split\n",
    "#X_train, X_test, y_train, y_test = train_test_split(x_var_2d, y_var, test_size = .2)\n",
    "train_df2_fin, test_df2_fin = \\\n",
    "              np.split(df_sh2.sample(frac=1, random_state=RANDOM_SEED), \n",
    "                       [int(.8*len(df_sh2))])\n"
   ]
  },
  {
   "cell_type": "code",
   "execution_count": 475,
   "id": "c9adcf68",
   "metadata": {},
   "outputs": [
    {
     "name": "stdout",
     "output_type": "stream",
     "text": [
      "3712 928\n"
     ]
    }
   ],
   "source": [
    "print(len(train_df2_fin), len(test_df2_fin))"
   ]
  },
  {
   "cell_type": "code",
   "execution_count": 476,
   "id": "5893af9b",
   "metadata": {},
   "outputs": [],
   "source": [
    "vectorizer2 = TfidfVectorizer(min_df = 20, stop_words = 'english')\n",
    "X_train2 = vectorizer2.fit_transform(train_df2_fin.token_lemma)\n",
    "X_test2 = vectorizer2.transform(test_df2_fin.token_lemma)"
   ]
  },
  {
   "cell_type": "code",
   "execution_count": 477,
   "id": "97114fcf",
   "metadata": {},
   "outputs": [],
   "source": [
    "y_train2=train_df2_fin['Character_Fix'].values\n",
    "y_test2=test_df2_fin['Character_Fix'].values"
   ]
  },
  {
   "cell_type": "code",
   "execution_count": 478,
   "id": "62142dbe",
   "metadata": {},
   "outputs": [],
   "source": [
    "X_scaler2 = preprocessing.StandardScaler(with_mean=False).fit_transform(X_train2)\n",
    "X_test_Scaler2 = preprocessing.StandardScaler(with_mean=False).fit_transform(X_test2)"
   ]
  },
  {
   "cell_type": "code",
   "execution_count": 479,
   "id": "6f333cdc",
   "metadata": {},
   "outputs": [],
   "source": [
    "df_tf2_fin = pd.DataFrame(X_scaler2.toarray(), columns=vectorizer2.get_feature_names_out())"
   ]
  },
  {
   "cell_type": "code",
   "execution_count": 480,
   "id": "99334e3d",
   "metadata": {},
   "outputs": [
    {
     "data": {
      "text/html": [
       "<div>\n",
       "<style scoped>\n",
       "    .dataframe tbody tr th:only-of-type {\n",
       "        vertical-align: middle;\n",
       "    }\n",
       "\n",
       "    .dataframe tbody tr th {\n",
       "        vertical-align: top;\n",
       "    }\n",
       "\n",
       "    .dataframe thead th {\n",
       "        text-align: right;\n",
       "    }\n",
       "</style>\n",
       "<table border=\"1\" class=\"dataframe\">\n",
       "  <thead>\n",
       "    <tr style=\"text-align: right;\">\n",
       "      <th></th>\n",
       "      <th>alexei</th>\n",
       "      <th>answer</th>\n",
       "      <th>approach</th>\n",
       "      <th>arm</th>\n",
       "      <th>ask</th>\n",
       "      <th>attention</th>\n",
       "      <th>away</th>\n",
       "      <th>bad</th>\n",
       "      <th>beat</th>\n",
       "      <th>bed</th>\n",
       "      <th>...</th>\n",
       "      <th>wheeler</th>\n",
       "      <th>window</th>\n",
       "      <th>word</th>\n",
       "      <th>work</th>\n",
       "      <th>world</th>\n",
       "      <th>wrong</th>\n",
       "      <th>yeah</th>\n",
       "      <th>year</th>\n",
       "      <th>yes</th>\n",
       "      <th>yuri</th>\n",
       "    </tr>\n",
       "  </thead>\n",
       "  <tbody>\n",
       "    <tr>\n",
       "      <th>0</th>\n",
       "      <td>0.0</td>\n",
       "      <td>0.0</td>\n",
       "      <td>0.0</td>\n",
       "      <td>0.000000</td>\n",
       "      <td>0.0</td>\n",
       "      <td>0.0</td>\n",
       "      <td>0.0</td>\n",
       "      <td>5.895428</td>\n",
       "      <td>0.0</td>\n",
       "      <td>0.0</td>\n",
       "      <td>...</td>\n",
       "      <td>0.0</td>\n",
       "      <td>0.0</td>\n",
       "      <td>0.0</td>\n",
       "      <td>0.0</td>\n",
       "      <td>0.0</td>\n",
       "      <td>0.0</td>\n",
       "      <td>1.713303</td>\n",
       "      <td>0.0</td>\n",
       "      <td>0.0</td>\n",
       "      <td>0.0</td>\n",
       "    </tr>\n",
       "    <tr>\n",
       "      <th>1</th>\n",
       "      <td>0.0</td>\n",
       "      <td>0.0</td>\n",
       "      <td>0.0</td>\n",
       "      <td>0.000000</td>\n",
       "      <td>0.0</td>\n",
       "      <td>0.0</td>\n",
       "      <td>0.0</td>\n",
       "      <td>0.000000</td>\n",
       "      <td>0.0</td>\n",
       "      <td>0.0</td>\n",
       "      <td>...</td>\n",
       "      <td>0.0</td>\n",
       "      <td>0.0</td>\n",
       "      <td>0.0</td>\n",
       "      <td>0.0</td>\n",
       "      <td>0.0</td>\n",
       "      <td>0.0</td>\n",
       "      <td>0.000000</td>\n",
       "      <td>0.0</td>\n",
       "      <td>0.0</td>\n",
       "      <td>0.0</td>\n",
       "    </tr>\n",
       "    <tr>\n",
       "      <th>2</th>\n",
       "      <td>0.0</td>\n",
       "      <td>0.0</td>\n",
       "      <td>0.0</td>\n",
       "      <td>0.000000</td>\n",
       "      <td>0.0</td>\n",
       "      <td>0.0</td>\n",
       "      <td>0.0</td>\n",
       "      <td>0.000000</td>\n",
       "      <td>0.0</td>\n",
       "      <td>0.0</td>\n",
       "      <td>...</td>\n",
       "      <td>0.0</td>\n",
       "      <td>0.0</td>\n",
       "      <td>0.0</td>\n",
       "      <td>0.0</td>\n",
       "      <td>0.0</td>\n",
       "      <td>0.0</td>\n",
       "      <td>0.000000</td>\n",
       "      <td>0.0</td>\n",
       "      <td>0.0</td>\n",
       "      <td>0.0</td>\n",
       "    </tr>\n",
       "    <tr>\n",
       "      <th>3</th>\n",
       "      <td>0.0</td>\n",
       "      <td>0.0</td>\n",
       "      <td>0.0</td>\n",
       "      <td>0.000000</td>\n",
       "      <td>0.0</td>\n",
       "      <td>0.0</td>\n",
       "      <td>0.0</td>\n",
       "      <td>0.000000</td>\n",
       "      <td>0.0</td>\n",
       "      <td>0.0</td>\n",
       "      <td>...</td>\n",
       "      <td>0.0</td>\n",
       "      <td>0.0</td>\n",
       "      <td>0.0</td>\n",
       "      <td>0.0</td>\n",
       "      <td>0.0</td>\n",
       "      <td>0.0</td>\n",
       "      <td>0.000000</td>\n",
       "      <td>0.0</td>\n",
       "      <td>0.0</td>\n",
       "      <td>0.0</td>\n",
       "    </tr>\n",
       "    <tr>\n",
       "      <th>4</th>\n",
       "      <td>0.0</td>\n",
       "      <td>0.0</td>\n",
       "      <td>0.0</td>\n",
       "      <td>12.150417</td>\n",
       "      <td>0.0</td>\n",
       "      <td>0.0</td>\n",
       "      <td>0.0</td>\n",
       "      <td>0.000000</td>\n",
       "      <td>0.0</td>\n",
       "      <td>0.0</td>\n",
       "      <td>...</td>\n",
       "      <td>0.0</td>\n",
       "      <td>0.0</td>\n",
       "      <td>0.0</td>\n",
       "      <td>0.0</td>\n",
       "      <td>0.0</td>\n",
       "      <td>0.0</td>\n",
       "      <td>0.000000</td>\n",
       "      <td>0.0</td>\n",
       "      <td>0.0</td>\n",
       "      <td>0.0</td>\n",
       "    </tr>\n",
       "    <tr>\n",
       "      <th>...</th>\n",
       "      <td>...</td>\n",
       "      <td>...</td>\n",
       "      <td>...</td>\n",
       "      <td>...</td>\n",
       "      <td>...</td>\n",
       "      <td>...</td>\n",
       "      <td>...</td>\n",
       "      <td>...</td>\n",
       "      <td>...</td>\n",
       "      <td>...</td>\n",
       "      <td>...</td>\n",
       "      <td>...</td>\n",
       "      <td>...</td>\n",
       "      <td>...</td>\n",
       "      <td>...</td>\n",
       "      <td>...</td>\n",
       "      <td>...</td>\n",
       "      <td>...</td>\n",
       "      <td>...</td>\n",
       "      <td>...</td>\n",
       "      <td>...</td>\n",
       "    </tr>\n",
       "    <tr>\n",
       "      <th>3707</th>\n",
       "      <td>0.0</td>\n",
       "      <td>0.0</td>\n",
       "      <td>0.0</td>\n",
       "      <td>0.000000</td>\n",
       "      <td>0.0</td>\n",
       "      <td>0.0</td>\n",
       "      <td>0.0</td>\n",
       "      <td>0.000000</td>\n",
       "      <td>0.0</td>\n",
       "      <td>0.0</td>\n",
       "      <td>...</td>\n",
       "      <td>0.0</td>\n",
       "      <td>0.0</td>\n",
       "      <td>0.0</td>\n",
       "      <td>0.0</td>\n",
       "      <td>0.0</td>\n",
       "      <td>0.0</td>\n",
       "      <td>0.000000</td>\n",
       "      <td>0.0</td>\n",
       "      <td>0.0</td>\n",
       "      <td>0.0</td>\n",
       "    </tr>\n",
       "    <tr>\n",
       "      <th>3708</th>\n",
       "      <td>0.0</td>\n",
       "      <td>0.0</td>\n",
       "      <td>0.0</td>\n",
       "      <td>0.000000</td>\n",
       "      <td>0.0</td>\n",
       "      <td>0.0</td>\n",
       "      <td>0.0</td>\n",
       "      <td>0.000000</td>\n",
       "      <td>0.0</td>\n",
       "      <td>0.0</td>\n",
       "      <td>...</td>\n",
       "      <td>0.0</td>\n",
       "      <td>0.0</td>\n",
       "      <td>0.0</td>\n",
       "      <td>0.0</td>\n",
       "      <td>0.0</td>\n",
       "      <td>0.0</td>\n",
       "      <td>0.000000</td>\n",
       "      <td>0.0</td>\n",
       "      <td>0.0</td>\n",
       "      <td>0.0</td>\n",
       "    </tr>\n",
       "    <tr>\n",
       "      <th>3709</th>\n",
       "      <td>0.0</td>\n",
       "      <td>0.0</td>\n",
       "      <td>0.0</td>\n",
       "      <td>0.000000</td>\n",
       "      <td>0.0</td>\n",
       "      <td>0.0</td>\n",
       "      <td>0.0</td>\n",
       "      <td>0.000000</td>\n",
       "      <td>0.0</td>\n",
       "      <td>0.0</td>\n",
       "      <td>...</td>\n",
       "      <td>0.0</td>\n",
       "      <td>0.0</td>\n",
       "      <td>0.0</td>\n",
       "      <td>0.0</td>\n",
       "      <td>0.0</td>\n",
       "      <td>0.0</td>\n",
       "      <td>0.000000</td>\n",
       "      <td>0.0</td>\n",
       "      <td>0.0</td>\n",
       "      <td>0.0</td>\n",
       "    </tr>\n",
       "    <tr>\n",
       "      <th>3710</th>\n",
       "      <td>0.0</td>\n",
       "      <td>0.0</td>\n",
       "      <td>0.0</td>\n",
       "      <td>0.000000</td>\n",
       "      <td>0.0</td>\n",
       "      <td>0.0</td>\n",
       "      <td>0.0</td>\n",
       "      <td>0.000000</td>\n",
       "      <td>0.0</td>\n",
       "      <td>0.0</td>\n",
       "      <td>...</td>\n",
       "      <td>0.0</td>\n",
       "      <td>0.0</td>\n",
       "      <td>0.0</td>\n",
       "      <td>0.0</td>\n",
       "      <td>0.0</td>\n",
       "      <td>0.0</td>\n",
       "      <td>0.000000</td>\n",
       "      <td>0.0</td>\n",
       "      <td>0.0</td>\n",
       "      <td>0.0</td>\n",
       "    </tr>\n",
       "    <tr>\n",
       "      <th>3711</th>\n",
       "      <td>0.0</td>\n",
       "      <td>0.0</td>\n",
       "      <td>0.0</td>\n",
       "      <td>0.000000</td>\n",
       "      <td>0.0</td>\n",
       "      <td>0.0</td>\n",
       "      <td>0.0</td>\n",
       "      <td>0.000000</td>\n",
       "      <td>0.0</td>\n",
       "      <td>0.0</td>\n",
       "      <td>...</td>\n",
       "      <td>0.0</td>\n",
       "      <td>0.0</td>\n",
       "      <td>0.0</td>\n",
       "      <td>0.0</td>\n",
       "      <td>0.0</td>\n",
       "      <td>0.0</td>\n",
       "      <td>0.000000</td>\n",
       "      <td>0.0</td>\n",
       "      <td>0.0</td>\n",
       "      <td>0.0</td>\n",
       "    </tr>\n",
       "  </tbody>\n",
       "</table>\n",
       "<p>3712 rows × 269 columns</p>\n",
       "</div>"
      ],
      "text/plain": [
       "      alexei  answer  approach        arm  ask  attention  away       bad  \\\n",
       "0        0.0     0.0       0.0   0.000000  0.0        0.0   0.0  5.895428   \n",
       "1        0.0     0.0       0.0   0.000000  0.0        0.0   0.0  0.000000   \n",
       "2        0.0     0.0       0.0   0.000000  0.0        0.0   0.0  0.000000   \n",
       "3        0.0     0.0       0.0   0.000000  0.0        0.0   0.0  0.000000   \n",
       "4        0.0     0.0       0.0  12.150417  0.0        0.0   0.0  0.000000   \n",
       "...      ...     ...       ...        ...  ...        ...   ...       ...   \n",
       "3707     0.0     0.0       0.0   0.000000  0.0        0.0   0.0  0.000000   \n",
       "3708     0.0     0.0       0.0   0.000000  0.0        0.0   0.0  0.000000   \n",
       "3709     0.0     0.0       0.0   0.000000  0.0        0.0   0.0  0.000000   \n",
       "3710     0.0     0.0       0.0   0.000000  0.0        0.0   0.0  0.000000   \n",
       "3711     0.0     0.0       0.0   0.000000  0.0        0.0   0.0  0.000000   \n",
       "\n",
       "      beat  bed  ...  wheeler  window  word  work  world  wrong      yeah  \\\n",
       "0      0.0  0.0  ...      0.0     0.0   0.0   0.0    0.0    0.0  1.713303   \n",
       "1      0.0  0.0  ...      0.0     0.0   0.0   0.0    0.0    0.0  0.000000   \n",
       "2      0.0  0.0  ...      0.0     0.0   0.0   0.0    0.0    0.0  0.000000   \n",
       "3      0.0  0.0  ...      0.0     0.0   0.0   0.0    0.0    0.0  0.000000   \n",
       "4      0.0  0.0  ...      0.0     0.0   0.0   0.0    0.0    0.0  0.000000   \n",
       "...    ...  ...  ...      ...     ...   ...   ...    ...    ...       ...   \n",
       "3707   0.0  0.0  ...      0.0     0.0   0.0   0.0    0.0    0.0  0.000000   \n",
       "3708   0.0  0.0  ...      0.0     0.0   0.0   0.0    0.0    0.0  0.000000   \n",
       "3709   0.0  0.0  ...      0.0     0.0   0.0   0.0    0.0    0.0  0.000000   \n",
       "3710   0.0  0.0  ...      0.0     0.0   0.0   0.0    0.0    0.0  0.000000   \n",
       "3711   0.0  0.0  ...      0.0     0.0   0.0   0.0    0.0    0.0  0.000000   \n",
       "\n",
       "      year  yes  yuri  \n",
       "0      0.0  0.0   0.0  \n",
       "1      0.0  0.0   0.0  \n",
       "2      0.0  0.0   0.0  \n",
       "3      0.0  0.0   0.0  \n",
       "4      0.0  0.0   0.0  \n",
       "...    ...  ...   ...  \n",
       "3707   0.0  0.0   0.0  \n",
       "3708   0.0  0.0   0.0  \n",
       "3709   0.0  0.0   0.0  \n",
       "3710   0.0  0.0   0.0  \n",
       "3711   0.0  0.0   0.0  \n",
       "\n",
       "[3712 rows x 269 columns]"
      ]
     },
     "execution_count": 480,
     "metadata": {},
     "output_type": "execute_result"
    }
   ],
   "source": [
    "df_tf2_fin"
   ]
  },
  {
   "cell_type": "code",
   "execution_count": 481,
   "id": "f12e0e6c",
   "metadata": {},
   "outputs": [
    {
     "data": {
      "text/html": [
       "<div>\n",
       "<style scoped>\n",
       "    .dataframe tbody tr th:only-of-type {\n",
       "        vertical-align: middle;\n",
       "    }\n",
       "\n",
       "    .dataframe tbody tr th {\n",
       "        vertical-align: top;\n",
       "    }\n",
       "\n",
       "    .dataframe thead th {\n",
       "        text-align: right;\n",
       "    }\n",
       "</style>\n",
       "<table border=\"1\" class=\"dataframe\">\n",
       "  <thead>\n",
       "    <tr style=\"text-align: right;\">\n",
       "      <th></th>\n",
       "      <th>Character_Fix</th>\n",
       "      <th>Season</th>\n",
       "      <th>Episode</th>\n",
       "      <th>token_lemma</th>\n",
       "      <th>Gender</th>\n",
       "      <th>grade</th>\n",
       "      <th>difficulty</th>\n",
       "      <th>compound</th>\n",
       "      <th>sentiment</th>\n",
       "      <th>length_spk</th>\n",
       "      <th>Num</th>\n",
       "    </tr>\n",
       "  </thead>\n",
       "  <tbody>\n",
       "    <tr>\n",
       "      <th>2858</th>\n",
       "      <td>MIKE</td>\n",
       "      <td>1</td>\n",
       "      <td>2</td>\n",
       "      <td>i just i do feel good i wake up and my head it...</td>\n",
       "      <td>2</td>\n",
       "      <td>6.8</td>\n",
       "      <td>1</td>\n",
       "      <td>-0.6469</td>\n",
       "      <td>-1</td>\n",
       "      <td>48</td>\n",
       "      <td>442</td>\n",
       "    </tr>\n",
       "    <tr>\n",
       "      <th>4286</th>\n",
       "      <td>JASON</td>\n",
       "      <td>4</td>\n",
       "      <td>8</td>\n",
       "      <td>would expect to find you here</td>\n",
       "      <td>2</td>\n",
       "      <td>2.1</td>\n",
       "      <td>0</td>\n",
       "      <td>0.0000</td>\n",
       "      <td>0</td>\n",
       "      <td>6</td>\n",
       "      <td>17</td>\n",
       "    </tr>\n",
       "    <tr>\n",
       "      <th>2681</th>\n",
       "      <td>NANCY</td>\n",
       "      <td>3</td>\n",
       "      <td>1</td>\n",
       "      <td>no i mean i ca be late they like you no matter...</td>\n",
       "      <td>1</td>\n",
       "      <td>0.3</td>\n",
       "      <td>0</td>\n",
       "      <td>-0.2023</td>\n",
       "      <td>0</td>\n",
       "      <td>15</td>\n",
       "      <td>309</td>\n",
       "    </tr>\n",
       "    <tr>\n",
       "      <th>3106</th>\n",
       "      <td>KAREN</td>\n",
       "      <td>1</td>\n",
       "      <td>2</td>\n",
       "      <td>i not mad at you</td>\n",
       "      <td>1</td>\n",
       "      <td>-1.9</td>\n",
       "      <td>0</td>\n",
       "      <td>0.3875</td>\n",
       "      <td>0</td>\n",
       "      <td>5</td>\n",
       "      <td>87</td>\n",
       "    </tr>\n",
       "    <tr>\n",
       "      <th>774</th>\n",
       "      <td>BILLY</td>\n",
       "      <td>3</td>\n",
       "      <td>8</td>\n",
       "      <td>go the mind flayer tentacle have nearly envelo...</td>\n",
       "      <td>2</td>\n",
       "      <td>5.6</td>\n",
       "      <td>3</td>\n",
       "      <td>0.0000</td>\n",
       "      <td>0</td>\n",
       "      <td>12</td>\n",
       "      <td>116</td>\n",
       "    </tr>\n",
       "    <tr>\n",
       "      <th>...</th>\n",
       "      <td>...</td>\n",
       "      <td>...</td>\n",
       "      <td>...</td>\n",
       "      <td>...</td>\n",
       "      <td>...</td>\n",
       "      <td>...</td>\n",
       "      <td>...</td>\n",
       "      <td>...</td>\n",
       "      <td>...</td>\n",
       "      <td>...</td>\n",
       "      <td>...</td>\n",
       "    </tr>\n",
       "    <tr>\n",
       "      <th>617</th>\n",
       "      <td>JONATHAN</td>\n",
       "      <td>3</td>\n",
       "      <td>8</td>\n",
       "      <td>i guess so jonathan walk to the center of the ...</td>\n",
       "      <td>2</td>\n",
       "      <td>-0.2</td>\n",
       "      <td>0</td>\n",
       "      <td>-0.2960</td>\n",
       "      <td>0</td>\n",
       "      <td>13</td>\n",
       "      <td>185</td>\n",
       "    </tr>\n",
       "    <tr>\n",
       "      <th>3568</th>\n",
       "      <td>DUSTIN</td>\n",
       "      <td>3</td>\n",
       "      <td>6</td>\n",
       "      <td>i wo forget you dustin say this as if it the l...</td>\n",
       "      <td>2</td>\n",
       "      <td>0.7</td>\n",
       "      <td>0</td>\n",
       "      <td>-0.2263</td>\n",
       "      <td>0</td>\n",
       "      <td>17</td>\n",
       "      <td>387</td>\n",
       "    </tr>\n",
       "    <tr>\n",
       "      <th>499</th>\n",
       "      <td>ERICA</td>\n",
       "      <td>3</td>\n",
       "      <td>8</td>\n",
       "      <td>well that settle it he gon na die they all gon...</td>\n",
       "      <td>1</td>\n",
       "      <td>-1.3</td>\n",
       "      <td>1</td>\n",
       "      <td>-0.7717</td>\n",
       "      <td>-1</td>\n",
       "      <td>13</td>\n",
       "      <td>121</td>\n",
       "    </tr>\n",
       "    <tr>\n",
       "      <th>2954</th>\n",
       "      <td>JONATHAN</td>\n",
       "      <td>1</td>\n",
       "      <td>2</td>\n",
       "      <td>no i know i tell you i get it</td>\n",
       "      <td>2</td>\n",
       "      <td>-2.1</td>\n",
       "      <td>0</td>\n",
       "      <td>-0.2960</td>\n",
       "      <td>0</td>\n",
       "      <td>9</td>\n",
       "      <td>185</td>\n",
       "    </tr>\n",
       "    <tr>\n",
       "      <th>498</th>\n",
       "      <td>ERICA</td>\n",
       "      <td>3</td>\n",
       "      <td>8</td>\n",
       "      <td>um i ten you bald bastard</td>\n",
       "      <td>1</td>\n",
       "      <td>2.9</td>\n",
       "      <td>1</td>\n",
       "      <td>-0.5423</td>\n",
       "      <td>-1</td>\n",
       "      <td>6</td>\n",
       "      <td>121</td>\n",
       "    </tr>\n",
       "  </tbody>\n",
       "</table>\n",
       "<p>3712 rows × 11 columns</p>\n",
       "</div>"
      ],
      "text/plain": [
       "     Character_Fix  Season  Episode  \\\n",
       "2858          MIKE       1        2   \n",
       "4286         JASON       4        8   \n",
       "2681         NANCY       3        1   \n",
       "3106         KAREN       1        2   \n",
       "774          BILLY       3        8   \n",
       "...            ...     ...      ...   \n",
       "617       JONATHAN       3        8   \n",
       "3568        DUSTIN       3        6   \n",
       "499          ERICA       3        8   \n",
       "2954      JONATHAN       1        2   \n",
       "498          ERICA       3        8   \n",
       "\n",
       "                                            token_lemma  Gender  grade  \\\n",
       "2858  i just i do feel good i wake up and my head it...       2    6.8   \n",
       "4286                      would expect to find you here       2    2.1   \n",
       "2681  no i mean i ca be late they like you no matter...       1    0.3   \n",
       "3106                                   i not mad at you       1   -1.9   \n",
       "774   go the mind flayer tentacle have nearly envelo...       2    5.6   \n",
       "...                                                 ...     ...    ...   \n",
       "617   i guess so jonathan walk to the center of the ...       2   -0.2   \n",
       "3568  i wo forget you dustin say this as if it the l...       2    0.7   \n",
       "499   well that settle it he gon na die they all gon...       1   -1.3   \n",
       "2954                      no i know i tell you i get it       2   -2.1   \n",
       "498                           um i ten you bald bastard       1    2.9   \n",
       "\n",
       "      difficulty  compound  sentiment  length_spk  Num  \n",
       "2858           1   -0.6469         -1          48  442  \n",
       "4286           0    0.0000          0           6   17  \n",
       "2681           0   -0.2023          0          15  309  \n",
       "3106           0    0.3875          0           5   87  \n",
       "774            3    0.0000          0          12  116  \n",
       "...          ...       ...        ...         ...  ...  \n",
       "617            0   -0.2960          0          13  185  \n",
       "3568           0   -0.2263          0          17  387  \n",
       "499            1   -0.7717         -1          13  121  \n",
       "2954           0   -0.2960          0           9  185  \n",
       "498            1   -0.5423         -1           6  121  \n",
       "\n",
       "[3712 rows x 11 columns]"
      ]
     },
     "execution_count": 481,
     "metadata": {},
     "output_type": "execute_result"
    }
   ],
   "source": [
    "train_df2_fin"
   ]
  },
  {
   "cell_type": "code",
   "execution_count": 482,
   "id": "86d98147",
   "metadata": {},
   "outputs": [],
   "source": [
    "train_df2_fin.reset_index(inplace=True)"
   ]
  },
  {
   "cell_type": "code",
   "execution_count": 483,
   "id": "d36e91f8",
   "metadata": {},
   "outputs": [
    {
     "data": {
      "text/html": [
       "<div>\n",
       "<style scoped>\n",
       "    .dataframe tbody tr th:only-of-type {\n",
       "        vertical-align: middle;\n",
       "    }\n",
       "\n",
       "    .dataframe tbody tr th {\n",
       "        vertical-align: top;\n",
       "    }\n",
       "\n",
       "    .dataframe thead th {\n",
       "        text-align: right;\n",
       "    }\n",
       "</style>\n",
       "<table border=\"1\" class=\"dataframe\">\n",
       "  <thead>\n",
       "    <tr style=\"text-align: right;\">\n",
       "      <th></th>\n",
       "      <th>index</th>\n",
       "      <th>Character_Fix</th>\n",
       "      <th>Season</th>\n",
       "      <th>Episode</th>\n",
       "      <th>token_lemma</th>\n",
       "      <th>Gender</th>\n",
       "      <th>grade</th>\n",
       "      <th>difficulty</th>\n",
       "      <th>compound</th>\n",
       "      <th>sentiment</th>\n",
       "      <th>length_spk</th>\n",
       "      <th>Num</th>\n",
       "    </tr>\n",
       "  </thead>\n",
       "  <tbody>\n",
       "    <tr>\n",
       "      <th>0</th>\n",
       "      <td>2858</td>\n",
       "      <td>MIKE</td>\n",
       "      <td>1</td>\n",
       "      <td>2</td>\n",
       "      <td>i just i do feel good i wake up and my head it...</td>\n",
       "      <td>2</td>\n",
       "      <td>6.8</td>\n",
       "      <td>1</td>\n",
       "      <td>-0.6469</td>\n",
       "      <td>-1</td>\n",
       "      <td>48</td>\n",
       "      <td>442</td>\n",
       "    </tr>\n",
       "    <tr>\n",
       "      <th>1</th>\n",
       "      <td>4286</td>\n",
       "      <td>JASON</td>\n",
       "      <td>4</td>\n",
       "      <td>8</td>\n",
       "      <td>would expect to find you here</td>\n",
       "      <td>2</td>\n",
       "      <td>2.1</td>\n",
       "      <td>0</td>\n",
       "      <td>0.0000</td>\n",
       "      <td>0</td>\n",
       "      <td>6</td>\n",
       "      <td>17</td>\n",
       "    </tr>\n",
       "    <tr>\n",
       "      <th>2</th>\n",
       "      <td>2681</td>\n",
       "      <td>NANCY</td>\n",
       "      <td>3</td>\n",
       "      <td>1</td>\n",
       "      <td>no i mean i ca be late they like you no matter...</td>\n",
       "      <td>1</td>\n",
       "      <td>0.3</td>\n",
       "      <td>0</td>\n",
       "      <td>-0.2023</td>\n",
       "      <td>0</td>\n",
       "      <td>15</td>\n",
       "      <td>309</td>\n",
       "    </tr>\n",
       "    <tr>\n",
       "      <th>3</th>\n",
       "      <td>3106</td>\n",
       "      <td>KAREN</td>\n",
       "      <td>1</td>\n",
       "      <td>2</td>\n",
       "      <td>i not mad at you</td>\n",
       "      <td>1</td>\n",
       "      <td>-1.9</td>\n",
       "      <td>0</td>\n",
       "      <td>0.3875</td>\n",
       "      <td>0</td>\n",
       "      <td>5</td>\n",
       "      <td>87</td>\n",
       "    </tr>\n",
       "    <tr>\n",
       "      <th>4</th>\n",
       "      <td>774</td>\n",
       "      <td>BILLY</td>\n",
       "      <td>3</td>\n",
       "      <td>8</td>\n",
       "      <td>go the mind flayer tentacle have nearly envelo...</td>\n",
       "      <td>2</td>\n",
       "      <td>5.6</td>\n",
       "      <td>3</td>\n",
       "      <td>0.0000</td>\n",
       "      <td>0</td>\n",
       "      <td>12</td>\n",
       "      <td>116</td>\n",
       "    </tr>\n",
       "    <tr>\n",
       "      <th>...</th>\n",
       "      <td>...</td>\n",
       "      <td>...</td>\n",
       "      <td>...</td>\n",
       "      <td>...</td>\n",
       "      <td>...</td>\n",
       "      <td>...</td>\n",
       "      <td>...</td>\n",
       "      <td>...</td>\n",
       "      <td>...</td>\n",
       "      <td>...</td>\n",
       "      <td>...</td>\n",
       "      <td>...</td>\n",
       "    </tr>\n",
       "    <tr>\n",
       "      <th>3707</th>\n",
       "      <td>617</td>\n",
       "      <td>JONATHAN</td>\n",
       "      <td>3</td>\n",
       "      <td>8</td>\n",
       "      <td>i guess so jonathan walk to the center of the ...</td>\n",
       "      <td>2</td>\n",
       "      <td>-0.2</td>\n",
       "      <td>0</td>\n",
       "      <td>-0.2960</td>\n",
       "      <td>0</td>\n",
       "      <td>13</td>\n",
       "      <td>185</td>\n",
       "    </tr>\n",
       "    <tr>\n",
       "      <th>3708</th>\n",
       "      <td>3568</td>\n",
       "      <td>DUSTIN</td>\n",
       "      <td>3</td>\n",
       "      <td>6</td>\n",
       "      <td>i wo forget you dustin say this as if it the l...</td>\n",
       "      <td>2</td>\n",
       "      <td>0.7</td>\n",
       "      <td>0</td>\n",
       "      <td>-0.2263</td>\n",
       "      <td>0</td>\n",
       "      <td>17</td>\n",
       "      <td>387</td>\n",
       "    </tr>\n",
       "    <tr>\n",
       "      <th>3709</th>\n",
       "      <td>499</td>\n",
       "      <td>ERICA</td>\n",
       "      <td>3</td>\n",
       "      <td>8</td>\n",
       "      <td>well that settle it he gon na die they all gon...</td>\n",
       "      <td>1</td>\n",
       "      <td>-1.3</td>\n",
       "      <td>1</td>\n",
       "      <td>-0.7717</td>\n",
       "      <td>-1</td>\n",
       "      <td>13</td>\n",
       "      <td>121</td>\n",
       "    </tr>\n",
       "    <tr>\n",
       "      <th>3710</th>\n",
       "      <td>2954</td>\n",
       "      <td>JONATHAN</td>\n",
       "      <td>1</td>\n",
       "      <td>2</td>\n",
       "      <td>no i know i tell you i get it</td>\n",
       "      <td>2</td>\n",
       "      <td>-2.1</td>\n",
       "      <td>0</td>\n",
       "      <td>-0.2960</td>\n",
       "      <td>0</td>\n",
       "      <td>9</td>\n",
       "      <td>185</td>\n",
       "    </tr>\n",
       "    <tr>\n",
       "      <th>3711</th>\n",
       "      <td>498</td>\n",
       "      <td>ERICA</td>\n",
       "      <td>3</td>\n",
       "      <td>8</td>\n",
       "      <td>um i ten you bald bastard</td>\n",
       "      <td>1</td>\n",
       "      <td>2.9</td>\n",
       "      <td>1</td>\n",
       "      <td>-0.5423</td>\n",
       "      <td>-1</td>\n",
       "      <td>6</td>\n",
       "      <td>121</td>\n",
       "    </tr>\n",
       "  </tbody>\n",
       "</table>\n",
       "<p>3712 rows × 12 columns</p>\n",
       "</div>"
      ],
      "text/plain": [
       "      index Character_Fix  Season  Episode  \\\n",
       "0      2858          MIKE       1        2   \n",
       "1      4286         JASON       4        8   \n",
       "2      2681         NANCY       3        1   \n",
       "3      3106         KAREN       1        2   \n",
       "4       774         BILLY       3        8   \n",
       "...     ...           ...     ...      ...   \n",
       "3707    617      JONATHAN       3        8   \n",
       "3708   3568        DUSTIN       3        6   \n",
       "3709    499         ERICA       3        8   \n",
       "3710   2954      JONATHAN       1        2   \n",
       "3711    498         ERICA       3        8   \n",
       "\n",
       "                                            token_lemma  Gender  grade  \\\n",
       "0     i just i do feel good i wake up and my head it...       2    6.8   \n",
       "1                         would expect to find you here       2    2.1   \n",
       "2     no i mean i ca be late they like you no matter...       1    0.3   \n",
       "3                                      i not mad at you       1   -1.9   \n",
       "4     go the mind flayer tentacle have nearly envelo...       2    5.6   \n",
       "...                                                 ...     ...    ...   \n",
       "3707  i guess so jonathan walk to the center of the ...       2   -0.2   \n",
       "3708  i wo forget you dustin say this as if it the l...       2    0.7   \n",
       "3709  well that settle it he gon na die they all gon...       1   -1.3   \n",
       "3710                      no i know i tell you i get it       2   -2.1   \n",
       "3711                          um i ten you bald bastard       1    2.9   \n",
       "\n",
       "      difficulty  compound  sentiment  length_spk  Num  \n",
       "0              1   -0.6469         -1          48  442  \n",
       "1              0    0.0000          0           6   17  \n",
       "2              0   -0.2023          0          15  309  \n",
       "3              0    0.3875          0           5   87  \n",
       "4              3    0.0000          0          12  116  \n",
       "...          ...       ...        ...         ...  ...  \n",
       "3707           0   -0.2960          0          13  185  \n",
       "3708           0   -0.2263          0          17  387  \n",
       "3709           1   -0.7717         -1          13  121  \n",
       "3710           0   -0.2960          0           9  185  \n",
       "3711           1   -0.5423         -1           6  121  \n",
       "\n",
       "[3712 rows x 12 columns]"
      ]
     },
     "execution_count": 483,
     "metadata": {},
     "output_type": "execute_result"
    }
   ],
   "source": [
    "train_df2_fin"
   ]
  },
  {
   "cell_type": "code",
   "execution_count": 484,
   "id": "acaf9549",
   "metadata": {},
   "outputs": [],
   "source": [
    "fin_train_w_feat = pd.concat([df_tf2_fin,train_df2_fin],axis=1)"
   ]
  },
  {
   "cell_type": "code",
   "execution_count": 485,
   "id": "07de2f47",
   "metadata": {},
   "outputs": [
    {
     "data": {
      "text/html": [
       "<div>\n",
       "<style scoped>\n",
       "    .dataframe tbody tr th:only-of-type {\n",
       "        vertical-align: middle;\n",
       "    }\n",
       "\n",
       "    .dataframe tbody tr th {\n",
       "        vertical-align: top;\n",
       "    }\n",
       "\n",
       "    .dataframe thead th {\n",
       "        text-align: right;\n",
       "    }\n",
       "</style>\n",
       "<table border=\"1\" class=\"dataframe\">\n",
       "  <thead>\n",
       "    <tr style=\"text-align: right;\">\n",
       "      <th></th>\n",
       "      <th>alexei</th>\n",
       "      <th>answer</th>\n",
       "      <th>approach</th>\n",
       "      <th>arm</th>\n",
       "      <th>ask</th>\n",
       "      <th>attention</th>\n",
       "      <th>away</th>\n",
       "      <th>bad</th>\n",
       "      <th>beat</th>\n",
       "      <th>bed</th>\n",
       "      <th>...</th>\n",
       "      <th>Season</th>\n",
       "      <th>Episode</th>\n",
       "      <th>token_lemma</th>\n",
       "      <th>Gender</th>\n",
       "      <th>grade</th>\n",
       "      <th>difficulty</th>\n",
       "      <th>compound</th>\n",
       "      <th>sentiment</th>\n",
       "      <th>length_spk</th>\n",
       "      <th>Num</th>\n",
       "    </tr>\n",
       "  </thead>\n",
       "  <tbody>\n",
       "    <tr>\n",
       "      <th>0</th>\n",
       "      <td>0.0</td>\n",
       "      <td>0.0</td>\n",
       "      <td>0.0</td>\n",
       "      <td>0.000000</td>\n",
       "      <td>0.0</td>\n",
       "      <td>0.0</td>\n",
       "      <td>0.0</td>\n",
       "      <td>5.895428</td>\n",
       "      <td>0.0</td>\n",
       "      <td>0.0</td>\n",
       "      <td>...</td>\n",
       "      <td>1</td>\n",
       "      <td>2</td>\n",
       "      <td>i just i do feel good i wake up and my head it...</td>\n",
       "      <td>2</td>\n",
       "      <td>6.8</td>\n",
       "      <td>1</td>\n",
       "      <td>-0.6469</td>\n",
       "      <td>-1</td>\n",
       "      <td>48</td>\n",
       "      <td>442</td>\n",
       "    </tr>\n",
       "    <tr>\n",
       "      <th>1</th>\n",
       "      <td>0.0</td>\n",
       "      <td>0.0</td>\n",
       "      <td>0.0</td>\n",
       "      <td>0.000000</td>\n",
       "      <td>0.0</td>\n",
       "      <td>0.0</td>\n",
       "      <td>0.0</td>\n",
       "      <td>0.000000</td>\n",
       "      <td>0.0</td>\n",
       "      <td>0.0</td>\n",
       "      <td>...</td>\n",
       "      <td>4</td>\n",
       "      <td>8</td>\n",
       "      <td>would expect to find you here</td>\n",
       "      <td>2</td>\n",
       "      <td>2.1</td>\n",
       "      <td>0</td>\n",
       "      <td>0.0000</td>\n",
       "      <td>0</td>\n",
       "      <td>6</td>\n",
       "      <td>17</td>\n",
       "    </tr>\n",
       "    <tr>\n",
       "      <th>2</th>\n",
       "      <td>0.0</td>\n",
       "      <td>0.0</td>\n",
       "      <td>0.0</td>\n",
       "      <td>0.000000</td>\n",
       "      <td>0.0</td>\n",
       "      <td>0.0</td>\n",
       "      <td>0.0</td>\n",
       "      <td>0.000000</td>\n",
       "      <td>0.0</td>\n",
       "      <td>0.0</td>\n",
       "      <td>...</td>\n",
       "      <td>3</td>\n",
       "      <td>1</td>\n",
       "      <td>no i mean i ca be late they like you no matter...</td>\n",
       "      <td>1</td>\n",
       "      <td>0.3</td>\n",
       "      <td>0</td>\n",
       "      <td>-0.2023</td>\n",
       "      <td>0</td>\n",
       "      <td>15</td>\n",
       "      <td>309</td>\n",
       "    </tr>\n",
       "    <tr>\n",
       "      <th>3</th>\n",
       "      <td>0.0</td>\n",
       "      <td>0.0</td>\n",
       "      <td>0.0</td>\n",
       "      <td>0.000000</td>\n",
       "      <td>0.0</td>\n",
       "      <td>0.0</td>\n",
       "      <td>0.0</td>\n",
       "      <td>0.000000</td>\n",
       "      <td>0.0</td>\n",
       "      <td>0.0</td>\n",
       "      <td>...</td>\n",
       "      <td>1</td>\n",
       "      <td>2</td>\n",
       "      <td>i not mad at you</td>\n",
       "      <td>1</td>\n",
       "      <td>-1.9</td>\n",
       "      <td>0</td>\n",
       "      <td>0.3875</td>\n",
       "      <td>0</td>\n",
       "      <td>5</td>\n",
       "      <td>87</td>\n",
       "    </tr>\n",
       "    <tr>\n",
       "      <th>4</th>\n",
       "      <td>0.0</td>\n",
       "      <td>0.0</td>\n",
       "      <td>0.0</td>\n",
       "      <td>12.150417</td>\n",
       "      <td>0.0</td>\n",
       "      <td>0.0</td>\n",
       "      <td>0.0</td>\n",
       "      <td>0.000000</td>\n",
       "      <td>0.0</td>\n",
       "      <td>0.0</td>\n",
       "      <td>...</td>\n",
       "      <td>3</td>\n",
       "      <td>8</td>\n",
       "      <td>go the mind flayer tentacle have nearly envelo...</td>\n",
       "      <td>2</td>\n",
       "      <td>5.6</td>\n",
       "      <td>3</td>\n",
       "      <td>0.0000</td>\n",
       "      <td>0</td>\n",
       "      <td>12</td>\n",
       "      <td>116</td>\n",
       "    </tr>\n",
       "    <tr>\n",
       "      <th>...</th>\n",
       "      <td>...</td>\n",
       "      <td>...</td>\n",
       "      <td>...</td>\n",
       "      <td>...</td>\n",
       "      <td>...</td>\n",
       "      <td>...</td>\n",
       "      <td>...</td>\n",
       "      <td>...</td>\n",
       "      <td>...</td>\n",
       "      <td>...</td>\n",
       "      <td>...</td>\n",
       "      <td>...</td>\n",
       "      <td>...</td>\n",
       "      <td>...</td>\n",
       "      <td>...</td>\n",
       "      <td>...</td>\n",
       "      <td>...</td>\n",
       "      <td>...</td>\n",
       "      <td>...</td>\n",
       "      <td>...</td>\n",
       "      <td>...</td>\n",
       "    </tr>\n",
       "    <tr>\n",
       "      <th>3707</th>\n",
       "      <td>0.0</td>\n",
       "      <td>0.0</td>\n",
       "      <td>0.0</td>\n",
       "      <td>0.000000</td>\n",
       "      <td>0.0</td>\n",
       "      <td>0.0</td>\n",
       "      <td>0.0</td>\n",
       "      <td>0.000000</td>\n",
       "      <td>0.0</td>\n",
       "      <td>0.0</td>\n",
       "      <td>...</td>\n",
       "      <td>3</td>\n",
       "      <td>8</td>\n",
       "      <td>i guess so jonathan walk to the center of the ...</td>\n",
       "      <td>2</td>\n",
       "      <td>-0.2</td>\n",
       "      <td>0</td>\n",
       "      <td>-0.2960</td>\n",
       "      <td>0</td>\n",
       "      <td>13</td>\n",
       "      <td>185</td>\n",
       "    </tr>\n",
       "    <tr>\n",
       "      <th>3708</th>\n",
       "      <td>0.0</td>\n",
       "      <td>0.0</td>\n",
       "      <td>0.0</td>\n",
       "      <td>0.000000</td>\n",
       "      <td>0.0</td>\n",
       "      <td>0.0</td>\n",
       "      <td>0.0</td>\n",
       "      <td>0.000000</td>\n",
       "      <td>0.0</td>\n",
       "      <td>0.0</td>\n",
       "      <td>...</td>\n",
       "      <td>3</td>\n",
       "      <td>6</td>\n",
       "      <td>i wo forget you dustin say this as if it the l...</td>\n",
       "      <td>2</td>\n",
       "      <td>0.7</td>\n",
       "      <td>0</td>\n",
       "      <td>-0.2263</td>\n",
       "      <td>0</td>\n",
       "      <td>17</td>\n",
       "      <td>387</td>\n",
       "    </tr>\n",
       "    <tr>\n",
       "      <th>3709</th>\n",
       "      <td>0.0</td>\n",
       "      <td>0.0</td>\n",
       "      <td>0.0</td>\n",
       "      <td>0.000000</td>\n",
       "      <td>0.0</td>\n",
       "      <td>0.0</td>\n",
       "      <td>0.0</td>\n",
       "      <td>0.000000</td>\n",
       "      <td>0.0</td>\n",
       "      <td>0.0</td>\n",
       "      <td>...</td>\n",
       "      <td>3</td>\n",
       "      <td>8</td>\n",
       "      <td>well that settle it he gon na die they all gon...</td>\n",
       "      <td>1</td>\n",
       "      <td>-1.3</td>\n",
       "      <td>1</td>\n",
       "      <td>-0.7717</td>\n",
       "      <td>-1</td>\n",
       "      <td>13</td>\n",
       "      <td>121</td>\n",
       "    </tr>\n",
       "    <tr>\n",
       "      <th>3710</th>\n",
       "      <td>0.0</td>\n",
       "      <td>0.0</td>\n",
       "      <td>0.0</td>\n",
       "      <td>0.000000</td>\n",
       "      <td>0.0</td>\n",
       "      <td>0.0</td>\n",
       "      <td>0.0</td>\n",
       "      <td>0.000000</td>\n",
       "      <td>0.0</td>\n",
       "      <td>0.0</td>\n",
       "      <td>...</td>\n",
       "      <td>1</td>\n",
       "      <td>2</td>\n",
       "      <td>no i know i tell you i get it</td>\n",
       "      <td>2</td>\n",
       "      <td>-2.1</td>\n",
       "      <td>0</td>\n",
       "      <td>-0.2960</td>\n",
       "      <td>0</td>\n",
       "      <td>9</td>\n",
       "      <td>185</td>\n",
       "    </tr>\n",
       "    <tr>\n",
       "      <th>3711</th>\n",
       "      <td>0.0</td>\n",
       "      <td>0.0</td>\n",
       "      <td>0.0</td>\n",
       "      <td>0.000000</td>\n",
       "      <td>0.0</td>\n",
       "      <td>0.0</td>\n",
       "      <td>0.0</td>\n",
       "      <td>0.000000</td>\n",
       "      <td>0.0</td>\n",
       "      <td>0.0</td>\n",
       "      <td>...</td>\n",
       "      <td>3</td>\n",
       "      <td>8</td>\n",
       "      <td>um i ten you bald bastard</td>\n",
       "      <td>1</td>\n",
       "      <td>2.9</td>\n",
       "      <td>1</td>\n",
       "      <td>-0.5423</td>\n",
       "      <td>-1</td>\n",
       "      <td>6</td>\n",
       "      <td>121</td>\n",
       "    </tr>\n",
       "  </tbody>\n",
       "</table>\n",
       "<p>3712 rows × 281 columns</p>\n",
       "</div>"
      ],
      "text/plain": [
       "      alexei  answer  approach        arm  ask  attention  away       bad  \\\n",
       "0        0.0     0.0       0.0   0.000000  0.0        0.0   0.0  5.895428   \n",
       "1        0.0     0.0       0.0   0.000000  0.0        0.0   0.0  0.000000   \n",
       "2        0.0     0.0       0.0   0.000000  0.0        0.0   0.0  0.000000   \n",
       "3        0.0     0.0       0.0   0.000000  0.0        0.0   0.0  0.000000   \n",
       "4        0.0     0.0       0.0  12.150417  0.0        0.0   0.0  0.000000   \n",
       "...      ...     ...       ...        ...  ...        ...   ...       ...   \n",
       "3707     0.0     0.0       0.0   0.000000  0.0        0.0   0.0  0.000000   \n",
       "3708     0.0     0.0       0.0   0.000000  0.0        0.0   0.0  0.000000   \n",
       "3709     0.0     0.0       0.0   0.000000  0.0        0.0   0.0  0.000000   \n",
       "3710     0.0     0.0       0.0   0.000000  0.0        0.0   0.0  0.000000   \n",
       "3711     0.0     0.0       0.0   0.000000  0.0        0.0   0.0  0.000000   \n",
       "\n",
       "      beat  bed  ...  Season  Episode  \\\n",
       "0      0.0  0.0  ...       1        2   \n",
       "1      0.0  0.0  ...       4        8   \n",
       "2      0.0  0.0  ...       3        1   \n",
       "3      0.0  0.0  ...       1        2   \n",
       "4      0.0  0.0  ...       3        8   \n",
       "...    ...  ...  ...     ...      ...   \n",
       "3707   0.0  0.0  ...       3        8   \n",
       "3708   0.0  0.0  ...       3        6   \n",
       "3709   0.0  0.0  ...       3        8   \n",
       "3710   0.0  0.0  ...       1        2   \n",
       "3711   0.0  0.0  ...       3        8   \n",
       "\n",
       "                                            token_lemma  Gender  grade  \\\n",
       "0     i just i do feel good i wake up and my head it...       2    6.8   \n",
       "1                         would expect to find you here       2    2.1   \n",
       "2     no i mean i ca be late they like you no matter...       1    0.3   \n",
       "3                                      i not mad at you       1   -1.9   \n",
       "4     go the mind flayer tentacle have nearly envelo...       2    5.6   \n",
       "...                                                 ...     ...    ...   \n",
       "3707  i guess so jonathan walk to the center of the ...       2   -0.2   \n",
       "3708  i wo forget you dustin say this as if it the l...       2    0.7   \n",
       "3709  well that settle it he gon na die they all gon...       1   -1.3   \n",
       "3710                      no i know i tell you i get it       2   -2.1   \n",
       "3711                          um i ten you bald bastard       1    2.9   \n",
       "\n",
       "      difficulty  compound  sentiment  length_spk  Num  \n",
       "0              1   -0.6469         -1          48  442  \n",
       "1              0    0.0000          0           6   17  \n",
       "2              0   -0.2023          0          15  309  \n",
       "3              0    0.3875          0           5   87  \n",
       "4              3    0.0000          0          12  116  \n",
       "...          ...       ...        ...         ...  ...  \n",
       "3707           0   -0.2960          0          13  185  \n",
       "3708           0   -0.2263          0          17  387  \n",
       "3709           1   -0.7717         -1          13  121  \n",
       "3710           0   -0.2960          0           9  185  \n",
       "3711           1   -0.5423         -1           6  121  \n",
       "\n",
       "[3712 rows x 281 columns]"
      ]
     },
     "execution_count": 485,
     "metadata": {},
     "output_type": "execute_result"
    }
   ],
   "source": [
    "fin_train_w_feat"
   ]
  },
  {
   "cell_type": "code",
   "execution_count": 486,
   "id": "c53d394f",
   "metadata": {},
   "outputs": [],
   "source": [
    "fin_train_w_feat.drop(['token_lemma','index'], axis=1, inplace=True)"
   ]
  },
  {
   "cell_type": "code",
   "execution_count": 487,
   "id": "0e613c75",
   "metadata": {},
   "outputs": [],
   "source": [
    "#doing the same to the test data\n",
    "df_tf_test_fin = pd.DataFrame(X_test_Scaler2.toarray(), columns=vectorizer2.get_feature_names_out())"
   ]
  },
  {
   "cell_type": "code",
   "execution_count": 488,
   "id": "d08f8043",
   "metadata": {},
   "outputs": [],
   "source": [
    "final_df_test = test_df2_fin.reset_index()\n",
    "test_w_feat_final = pd.concat([df_tf_test_fin,final_df_test],axis=1)\n",
    "test_w_feat_final.drop(['token_lemma','index'], axis=1, inplace=True)"
   ]
  },
  {
   "cell_type": "code",
   "execution_count": 490,
   "id": "dbad1f0d",
   "metadata": {},
   "outputs": [],
   "source": [
    "test_w_feat_final.drop(['Character_Fix'],axis=1,inplace = True)"
   ]
  },
  {
   "cell_type": "code",
   "execution_count": 491,
   "id": "697c0459",
   "metadata": {},
   "outputs": [],
   "source": [
    "fin_train_w_feat.drop(['Character_Fix'], axis=1, inplace=True)"
   ]
  },
  {
   "cell_type": "code",
   "execution_count": 492,
   "id": "bd6192b7",
   "metadata": {
    "scrolled": false
   },
   "outputs": [
    {
     "name": "stdout",
     "output_type": "stream",
     "text": [
      "0.5398706896551724\n",
      "0.7039331896551724\n"
     ]
    }
   ],
   "source": [
    "#now we try it out\n",
    "lg_model_tuned_v2 = LogisticRegression(max_iter = 500,\n",
    "                              random_state=RANDOM_SEED,\n",
    "                              solver = 'liblinear',penalty= 'l1',\n",
    "                              C = 0.1).fit(fin_train_w_feat, y_train2)\n",
    "\n",
    "y_pred_lg_model_tuned2 = lg_model_tuned_v2.predict(test_w_feat_final)\n",
    "\n",
    "accm_tuned2 = metrics.accuracy_score(y_test2,y_pred_lg_model_tuned2)\n",
    "\n",
    "print(accm_tuned2)\n",
    "\n",
    "acc_train2 = lg_model_tuned_v2.score(fin_train_w_feat, y_train2)\n",
    "\n",
    "print(acc_train2)"
   ]
  },
  {
   "cell_type": "markdown",
   "id": "578e60d0",
   "metadata": {},
   "source": [
    "#### Tuning with our model which has features and row removed (based on too few appearences overall and too few words spoken"
   ]
  },
  {
   "cell_type": "code",
   "execution_count": 499,
   "id": "016976a0",
   "metadata": {},
   "outputs": [
    {
     "name": "stderr",
     "output_type": "stream",
     "text": [
      "/usr/local/lib/python3.9/site-packages/sklearn/linear_model/_logistic.py:814: ConvergenceWarning: lbfgs failed to converge (status=1):\n",
      "STOP: TOTAL NO. of ITERATIONS REACHED LIMIT.\n",
      "\n",
      "Increase the number of iterations (max_iter) or scale the data as shown in:\n",
      "    https://scikit-learn.org/stable/modules/preprocessing.html\n",
      "Please also refer to the documentation for alternative solver options:\n",
      "    https://scikit-learn.org/stable/modules/linear_model.html#logistic-regression\n",
      "  n_iter_i = _check_optimize_result(\n",
      "/usr/local/lib/python3.9/site-packages/sklearn/linear_model/_logistic.py:814: ConvergenceWarning: lbfgs failed to converge (status=1):\n",
      "STOP: TOTAL NO. of ITERATIONS REACHED LIMIT.\n",
      "\n",
      "Increase the number of iterations (max_iter) or scale the data as shown in:\n",
      "    https://scikit-learn.org/stable/modules/preprocessing.html\n",
      "Please also refer to the documentation for alternative solver options:\n",
      "    https://scikit-learn.org/stable/modules/linear_model.html#logistic-regression\n",
      "  n_iter_i = _check_optimize_result(\n",
      "/usr/local/lib/python3.9/site-packages/sklearn/linear_model/_logistic.py:814: ConvergenceWarning: lbfgs failed to converge (status=1):\n",
      "STOP: TOTAL NO. of ITERATIONS REACHED LIMIT.\n",
      "\n",
      "Increase the number of iterations (max_iter) or scale the data as shown in:\n",
      "    https://scikit-learn.org/stable/modules/preprocessing.html\n",
      "Please also refer to the documentation for alternative solver options:\n",
      "    https://scikit-learn.org/stable/modules/linear_model.html#logistic-regression\n",
      "  n_iter_i = _check_optimize_result(\n",
      "/usr/local/lib/python3.9/site-packages/sklearn/linear_model/_logistic.py:814: ConvergenceWarning: lbfgs failed to converge (status=1):\n",
      "STOP: TOTAL NO. of ITERATIONS REACHED LIMIT.\n",
      "\n",
      "Increase the number of iterations (max_iter) or scale the data as shown in:\n",
      "    https://scikit-learn.org/stable/modules/preprocessing.html\n",
      "Please also refer to the documentation for alternative solver options:\n",
      "    https://scikit-learn.org/stable/modules/linear_model.html#logistic-regression\n",
      "  n_iter_i = _check_optimize_result(\n",
      "/usr/local/lib/python3.9/site-packages/sklearn/linear_model/_logistic.py:814: ConvergenceWarning: lbfgs failed to converge (status=1):\n",
      "STOP: TOTAL NO. of ITERATIONS REACHED LIMIT.\n",
      "\n",
      "Increase the number of iterations (max_iter) or scale the data as shown in:\n",
      "    https://scikit-learn.org/stable/modules/preprocessing.html\n",
      "Please also refer to the documentation for alternative solver options:\n",
      "    https://scikit-learn.org/stable/modules/linear_model.html#logistic-regression\n",
      "  n_iter_i = _check_optimize_result(\n",
      "/usr/local/lib/python3.9/site-packages/sklearn/linear_model/_logistic.py:814: ConvergenceWarning: lbfgs failed to converge (status=1):\n",
      "STOP: TOTAL NO. of ITERATIONS REACHED LIMIT.\n",
      "\n",
      "Increase the number of iterations (max_iter) or scale the data as shown in:\n",
      "    https://scikit-learn.org/stable/modules/preprocessing.html\n",
      "Please also refer to the documentation for alternative solver options:\n",
      "    https://scikit-learn.org/stable/modules/linear_model.html#logistic-regression\n",
      "  n_iter_i = _check_optimize_result(\n",
      "/usr/local/lib/python3.9/site-packages/sklearn/linear_model/_logistic.py:814: ConvergenceWarning: lbfgs failed to converge (status=1):\n",
      "STOP: TOTAL NO. of ITERATIONS REACHED LIMIT.\n",
      "\n",
      "Increase the number of iterations (max_iter) or scale the data as shown in:\n",
      "    https://scikit-learn.org/stable/modules/preprocessing.html\n",
      "Please also refer to the documentation for alternative solver options:\n",
      "    https://scikit-learn.org/stable/modules/linear_model.html#logistic-regression\n",
      "  n_iter_i = _check_optimize_result(\n",
      "/usr/local/lib/python3.9/site-packages/sklearn/linear_model/_logistic.py:814: ConvergenceWarning: lbfgs failed to converge (status=1):\n",
      "STOP: TOTAL NO. of ITERATIONS REACHED LIMIT.\n",
      "\n",
      "Increase the number of iterations (max_iter) or scale the data as shown in:\n",
      "    https://scikit-learn.org/stable/modules/preprocessing.html\n",
      "Please also refer to the documentation for alternative solver options:\n",
      "    https://scikit-learn.org/stable/modules/linear_model.html#logistic-regression\n",
      "  n_iter_i = _check_optimize_result(\n",
      "/usr/local/lib/python3.9/site-packages/sklearn/linear_model/_logistic.py:814: ConvergenceWarning: lbfgs failed to converge (status=1):\n",
      "STOP: TOTAL NO. of ITERATIONS REACHED LIMIT.\n",
      "\n",
      "Increase the number of iterations (max_iter) or scale the data as shown in:\n",
      "    https://scikit-learn.org/stable/modules/preprocessing.html\n",
      "Please also refer to the documentation for alternative solver options:\n",
      "    https://scikit-learn.org/stable/modules/linear_model.html#logistic-regression\n",
      "  n_iter_i = _check_optimize_result(\n",
      "/usr/local/lib/python3.9/site-packages/sklearn/linear_model/_logistic.py:814: ConvergenceWarning: lbfgs failed to converge (status=1):\n",
      "STOP: TOTAL NO. of ITERATIONS REACHED LIMIT.\n",
      "\n",
      "Increase the number of iterations (max_iter) or scale the data as shown in:\n",
      "    https://scikit-learn.org/stable/modules/preprocessing.html\n",
      "Please also refer to the documentation for alternative solver options:\n",
      "    https://scikit-learn.org/stable/modules/linear_model.html#logistic-regression\n",
      "  n_iter_i = _check_optimize_result(\n",
      "/usr/local/lib/python3.9/site-packages/sklearn/linear_model/_sag.py:352: ConvergenceWarning: The max_iter was reached which means the coef_ did not converge\n",
      "  warnings.warn(\n",
      "/usr/local/lib/python3.9/site-packages/sklearn/linear_model/_sag.py:352: ConvergenceWarning: The max_iter was reached which means the coef_ did not converge\n",
      "  warnings.warn(\n",
      "/usr/local/lib/python3.9/site-packages/sklearn/linear_model/_sag.py:352: ConvergenceWarning: The max_iter was reached which means the coef_ did not converge\n",
      "  warnings.warn(\n",
      "/usr/local/lib/python3.9/site-packages/sklearn/linear_model/_sag.py:352: ConvergenceWarning: The max_iter was reached which means the coef_ did not converge\n",
      "  warnings.warn(\n",
      "/usr/local/lib/python3.9/site-packages/sklearn/linear_model/_sag.py:352: ConvergenceWarning: The max_iter was reached which means the coef_ did not converge\n",
      "  warnings.warn(\n",
      "/usr/local/lib/python3.9/site-packages/sklearn/linear_model/_sag.py:352: ConvergenceWarning: The max_iter was reached which means the coef_ did not converge\n",
      "  warnings.warn(\n",
      "/usr/local/lib/python3.9/site-packages/sklearn/linear_model/_sag.py:352: ConvergenceWarning: The max_iter was reached which means the coef_ did not converge\n",
      "  warnings.warn(\n",
      "/usr/local/lib/python3.9/site-packages/sklearn/linear_model/_sag.py:352: ConvergenceWarning: The max_iter was reached which means the coef_ did not converge\n",
      "  warnings.warn(\n",
      "/usr/local/lib/python3.9/site-packages/sklearn/linear_model/_sag.py:352: ConvergenceWarning: The max_iter was reached which means the coef_ did not converge\n",
      "  warnings.warn(\n",
      "/usr/local/lib/python3.9/site-packages/sklearn/linear_model/_sag.py:352: ConvergenceWarning: The max_iter was reached which means the coef_ did not converge\n",
      "  warnings.warn(\n",
      "/usr/local/lib/python3.9/site-packages/sklearn/linear_model/_sag.py:352: ConvergenceWarning: The max_iter was reached which means the coef_ did not converge\n",
      "  warnings.warn(\n",
      "/usr/local/lib/python3.9/site-packages/sklearn/linear_model/_sag.py:352: ConvergenceWarning: The max_iter was reached which means the coef_ did not converge\n",
      "  warnings.warn(\n",
      "/usr/local/lib/python3.9/site-packages/sklearn/linear_model/_sag.py:352: ConvergenceWarning: The max_iter was reached which means the coef_ did not converge\n",
      "  warnings.warn(\n",
      "/usr/local/lib/python3.9/site-packages/sklearn/linear_model/_sag.py:352: ConvergenceWarning: The max_iter was reached which means the coef_ did not converge\n",
      "  warnings.warn(\n",
      "/usr/local/lib/python3.9/site-packages/sklearn/linear_model/_sag.py:352: ConvergenceWarning: The max_iter was reached which means the coef_ did not converge\n",
      "  warnings.warn(\n",
      "/usr/local/lib/python3.9/site-packages/sklearn/linear_model/_sag.py:352: ConvergenceWarning: The max_iter was reached which means the coef_ did not converge\n",
      "  warnings.warn(\n",
      "/usr/local/lib/python3.9/site-packages/sklearn/linear_model/_sag.py:352: ConvergenceWarning: The max_iter was reached which means the coef_ did not converge\n",
      "  warnings.warn(\n",
      "/usr/local/lib/python3.9/site-packages/sklearn/linear_model/_sag.py:352: ConvergenceWarning: The max_iter was reached which means the coef_ did not converge\n",
      "  warnings.warn(\n"
     ]
    },
    {
     "name": "stderr",
     "output_type": "stream",
     "text": [
      "/usr/local/lib/python3.9/site-packages/sklearn/linear_model/_sag.py:352: ConvergenceWarning: The max_iter was reached which means the coef_ did not converge\n",
      "  warnings.warn(\n",
      "/usr/local/lib/python3.9/site-packages/sklearn/linear_model/_sag.py:352: ConvergenceWarning: The max_iter was reached which means the coef_ did not converge\n",
      "  warnings.warn(\n",
      "/usr/local/lib/python3.9/site-packages/sklearn/linear_model/_sag.py:352: ConvergenceWarning: The max_iter was reached which means the coef_ did not converge\n",
      "  warnings.warn(\n",
      "/usr/local/lib/python3.9/site-packages/sklearn/linear_model/_sag.py:352: ConvergenceWarning: The max_iter was reached which means the coef_ did not converge\n",
      "  warnings.warn(\n",
      "/usr/local/lib/python3.9/site-packages/sklearn/linear_model/_sag.py:352: ConvergenceWarning: The max_iter was reached which means the coef_ did not converge\n",
      "  warnings.warn(\n",
      "/usr/local/lib/python3.9/site-packages/sklearn/linear_model/_sag.py:352: ConvergenceWarning: The max_iter was reached which means the coef_ did not converge\n",
      "  warnings.warn(\n",
      "/usr/local/lib/python3.9/site-packages/sklearn/linear_model/_sag.py:352: ConvergenceWarning: The max_iter was reached which means the coef_ did not converge\n",
      "  warnings.warn(\n",
      "/usr/local/lib/python3.9/site-packages/sklearn/linear_model/_sag.py:352: ConvergenceWarning: The max_iter was reached which means the coef_ did not converge\n",
      "  warnings.warn(\n",
      "/usr/local/lib/python3.9/site-packages/sklearn/linear_model/_sag.py:352: ConvergenceWarning: The max_iter was reached which means the coef_ did not converge\n",
      "  warnings.warn(\n",
      "/usr/local/lib/python3.9/site-packages/sklearn/linear_model/_sag.py:352: ConvergenceWarning: The max_iter was reached which means the coef_ did not converge\n",
      "  warnings.warn(\n",
      "/usr/local/lib/python3.9/site-packages/sklearn/linear_model/_sag.py:352: ConvergenceWarning: The max_iter was reached which means the coef_ did not converge\n",
      "  warnings.warn(\n",
      "/usr/local/lib/python3.9/site-packages/sklearn/linear_model/_sag.py:352: ConvergenceWarning: The max_iter was reached which means the coef_ did not converge\n",
      "  warnings.warn(\n",
      "/usr/local/lib/python3.9/site-packages/sklearn/linear_model/_sag.py:352: ConvergenceWarning: The max_iter was reached which means the coef_ did not converge\n",
      "  warnings.warn(\n",
      "/usr/local/lib/python3.9/site-packages/sklearn/linear_model/_sag.py:352: ConvergenceWarning: The max_iter was reached which means the coef_ did not converge\n",
      "  warnings.warn(\n",
      "/usr/local/lib/python3.9/site-packages/sklearn/linear_model/_sag.py:352: ConvergenceWarning: The max_iter was reached which means the coef_ did not converge\n",
      "  warnings.warn(\n",
      "/usr/local/lib/python3.9/site-packages/sklearn/linear_model/_sag.py:352: ConvergenceWarning: The max_iter was reached which means the coef_ did not converge\n",
      "  warnings.warn(\n",
      "/usr/local/lib/python3.9/site-packages/sklearn/linear_model/_sag.py:352: ConvergenceWarning: The max_iter was reached which means the coef_ did not converge\n",
      "  warnings.warn(\n",
      "/usr/local/lib/python3.9/site-packages/sklearn/model_selection/_validation.py:372: FitFailedWarning:\n",
      "\n",
      "\n",
      "24 fits failed out of a total of 96.\n",
      "The score on these train-test partitions for these parameters will be set to nan.\n",
      "If these failures are not expected, you can try to debug them by setting error_score='raise'.\n",
      "\n",
      "Below are more details about the failures:\n",
      "--------------------------------------------------------------------------------\n",
      "12 fits failed with the following error:\n",
      "Traceback (most recent call last):\n",
      "  File \"/usr/local/lib/python3.9/site-packages/sklearn/model_selection/_validation.py\", line 681, in _fit_and_score\n",
      "    estimator.fit(X_train, y_train, **fit_params)\n",
      "  File \"/usr/local/lib/python3.9/site-packages/sklearn/linear_model/_logistic.py\", line 1461, in fit\n",
      "    solver = _check_solver(self.solver, self.penalty, self.dual)\n",
      "  File \"/usr/local/lib/python3.9/site-packages/sklearn/linear_model/_logistic.py\", line 447, in _check_solver\n",
      "    raise ValueError(\n",
      "ValueError: Solver lbfgs supports only 'l2' or 'none' penalties, got l1 penalty.\n",
      "\n",
      "--------------------------------------------------------------------------------\n",
      "12 fits failed with the following error:\n",
      "Traceback (most recent call last):\n",
      "  File \"/usr/local/lib/python3.9/site-packages/sklearn/model_selection/_validation.py\", line 681, in _fit_and_score\n",
      "    estimator.fit(X_train, y_train, **fit_params)\n",
      "  File \"/usr/local/lib/python3.9/site-packages/sklearn/linear_model/_logistic.py\", line 1461, in fit\n",
      "    solver = _check_solver(self.solver, self.penalty, self.dual)\n",
      "  File \"/usr/local/lib/python3.9/site-packages/sklearn/linear_model/_logistic.py\", line 447, in _check_solver\n",
      "    raise ValueError(\n",
      "ValueError: Solver sag supports only 'l2' or 'none' penalties, got l1 penalty.\n",
      "\n",
      "\n",
      "/usr/local/lib/python3.9/site-packages/sklearn/model_selection/_search.py:969: UserWarning:\n",
      "\n",
      "One or more of the test scores are non-finite: [0.15813578        nan        nan 0.18588362 0.28960129 0.33970905\n",
      " 0.33943966 0.33674569 0.45366379        nan        nan 0.50161638\n",
      " 0.32947198 0.37284483 0.359375   0.34779095 0.46955819        nan\n",
      "        nan 0.44450431 0.34428879 0.38739224 0.36503233 0.35210129\n",
      " 0.44989224        nan        nan 0.41298491 0.35264009 0.39251078\n",
      " 0.36126078 0.35102371 0.43130388        nan        nan 0.3674569\n",
      " 0.35721983 0.40409483 0.35479526 0.34698276 0.41163793        nan\n",
      "        nan 0.35371767 0.35775862 0.40625    0.35237069 0.34617457]\n",
      "\n"
     ]
    },
    {
     "name": "stdout",
     "output_type": "stream",
     "text": [
      "Tuned Hyperparameters: {'C': 0.1, 'penalty': 'l1', 'solver': 'saga'}\n",
      "Accuracy: 0.5016163793103448\n"
     ]
    },
    {
     "name": "stderr",
     "output_type": "stream",
     "text": [
      "/usr/local/lib/python3.9/site-packages/sklearn/linear_model/_sag.py:352: ConvergenceWarning:\n",
      "\n",
      "The max_iter was reached which means the coef_ did not converge\n",
      "\n"
     ]
    }
   ],
   "source": [
    "X_train_scaler_final = preprocessing.StandardScaler(with_mean=False).fit_transform(fin_train_w_feat)\n",
    "X_test_scaler_final = preprocessing.StandardScaler(with_mean=False).fit_transform(test_w_feat_final)\n",
    "\n",
    "param_grid_2 = {'C': [0.01,0.1,0.5,1.0,5,10],\n",
    "                'penalty':['l1','l2'],\n",
    "                'solver':['liblinear','lbfgs','sag','saga'],\n",
    "                }\n",
    "#bow_search = model_selection.GridSearchCV(LogisticRegression(), cv=5, param_grid=param_grid_)\n",
    "tfidf_search = model_selection.GridSearchCV(LogisticRegression(random_state = RANDOM_SEED,\\\n",
    "                                                              max_iter = 250),n_jobs = 50,\n",
    "                                                              param_grid=param_grid_2,\n",
    "                                                              scoring = 'accuracy',\n",
    "                                                              cv = 2)\n",
    "\n",
    "tfidf_search.fit(X_train_scaler_final, y_train2)\n",
    "\n",
    "print(\"Tuned Hyperparameters:\", tfidf_search.best_params_)\n",
    "print(\"Accuracy:\",tfidf_search.best_score_)"
   ]
  },
  {
   "cell_type": "code",
   "execution_count": 525,
   "id": "ec355dcb",
   "metadata": {},
   "outputs": [
    {
     "name": "stdout",
     "output_type": "stream",
     "text": [
      "0.6174568965517241\n",
      "0.7591594827586207\n"
     ]
    },
    {
     "name": "stderr",
     "output_type": "stream",
     "text": [
      "/usr/local/lib/python3.9/site-packages/sklearn/linear_model/_sag.py:352: ConvergenceWarning:\n",
      "\n",
      "The max_iter was reached which means the coef_ did not converge\n",
      "\n"
     ]
    }
   ],
   "source": [
    "#now we try it out\n",
    "lg_model_tuned_v3 = LogisticRegression(max_iter = 500,\n",
    "                              random_state=RANDOM_SEED,\n",
    "                              solver = 'saga',penalty= 'l1',\n",
    "                              C = 0.1).fit(X_train_scaler_final, y_train2)\n",
    "\n",
    "y_pred_lg_model_tuned3 = lg_model_tuned_v3.predict(X_test_scaler_final)\n",
    "\n",
    "accm_tuned3 = metrics.accuracy_score(y_test2,y_pred_lg_model_tuned3)\n",
    "\n",
    "print(accm_tuned3)\n",
    "\n",
    "acc_train3 = lg_model_tuned_v3.score(X_train_scaler_final, y_train2)\n",
    "\n",
    "print(acc_train3)"
   ]
  },
  {
   "cell_type": "code",
   "execution_count": 522,
   "id": "4213a770",
   "metadata": {},
   "outputs": [
    {
     "name": "stdout",
     "output_type": "stream",
     "text": [
      "Classification report of imbalanced logistic regression \n",
      "                   precision    recall  f1-score   support\n",
      "\n",
      "   AGENT FRAZIER       0.00      0.00      0.00         1\n",
      "    AGENT HARMON       1.00      0.50      0.67         2\n",
      "          ALEXEI       0.00      0.00      0.00         4\n",
      "          ARGYLE       1.00      0.57      0.73         7\n",
      "         BARBARA       0.00      0.00      0.00         4\n",
      "           BENNY       0.50      0.50      0.50         2\n",
      "           BILLY       0.44      0.55      0.49        22\n",
      "           BRUCE       0.57      0.67      0.62         6\n",
      "           CAROL       0.00      0.00      0.00         2\n",
      "COLONEL SULLIVAN       0.00      0.00      0.00         2\n",
      " DEPUTY CALLAHAN       0.00      0.00      0.00         4\n",
      "          DMITRI       0.50      0.17      0.25         6\n",
      "      DR BRENNER       0.39      0.64      0.48        11\n",
      "        DR OWENS       0.20      0.14      0.17         7\n",
      "          DUSTIN       0.61      0.43      0.50        82\n",
      "           EDDIE       0.00      0.00      0.00         1\n",
      "          ELEVEN       0.65      0.55      0.59        40\n",
      "           ERICA       0.39      0.41      0.40        22\n",
      "        FLORENCE       0.00      0.00      0.00         2\n",
      "         GRIGORI       0.00      0.00      0.00         1\n",
      "         HEATHER       1.00      0.33      0.50         6\n",
      "           HOLLY       0.00      0.00      0.00         1\n",
      "          HOPPER       0.97      1.00      0.99       104\n",
      "            IVAN       0.00      0.00      0.00         0\n",
      "           JASON       0.00      0.00      0.00         3\n",
      "        JONATHAN       0.41      0.38      0.39        37\n",
      "           JOYCE       0.72      0.98      0.83        64\n",
      "           KAREN       0.54      0.74      0.62        19\n",
      "          LONNIE       0.00      0.00      0.00         4\n",
      "           LUCAS       0.41      0.62      0.50        40\n",
      "             MAX       0.51      0.47      0.49        55\n",
      "     MAYOR KLINE       0.67      0.18      0.29        11\n",
      "            MIKE       0.78      0.89      0.83        85\n",
      "       MR CLARKE       0.00      0.00      0.00         5\n",
      "    MRS DRISCOLL       0.50      0.67      0.57         3\n",
      "          MURRAY       0.58      0.70      0.64        30\n",
      "           NANCY       0.77      0.53      0.63        62\n",
      "  OFFICER POWELL       0.00      0.00      0.00         2\n",
      "           ROBIN       0.56      0.76      0.64        49\n",
      "           STEVE       0.57      0.69      0.63        67\n",
      "           SUSAN       0.00      0.00      0.00         2\n",
      "           SUZIE       0.00      0.00      0.00         2\n",
      "             TOM       0.00      0.00      0.00         7\n",
      "           VECNA       0.00      0.00      0.00         2\n",
      "            WILL       0.23      0.22      0.22        37\n",
      "            YURI       0.60      1.00      0.75         3\n",
      "\n",
      "        accuracy                           0.62       928\n",
      "       macro avg       0.35      0.33      0.32       928\n",
      "    weighted avg       0.60      0.62      0.60       928\n",
      "\n"
     ]
    },
    {
     "data": {
      "text/plain": [
       "<sklearn.metrics._plot.confusion_matrix.ConfusionMatrixDisplay at 0x13c408640>"
      ]
     },
     "execution_count": 522,
     "metadata": {},
     "output_type": "execute_result"
    },
    {
     "data": {
      "image/png": "[encoded data removed]",
      "text/plain": [
       "<Figure size 1008x1008 with 2 Axes>"
      ]
     },
     "metadata": {
      "needs_background": "light"
     },
     "output_type": "display_data"
    }
   ],
   "source": [
    "from sklearn.metrics import classification_report\n",
    "from sklearn.metrics import confusion_matrix, ConfusionMatrixDisplay\n",
    "import matplotlib.pyplot as plot\n",
    "print('Classification report of imbalanced logistic regression \\n',classification_report(y_test2,\n",
    "                                                                                         y_pred_lg_model_tuned3,\n",
    "                                                                                        zero_division = 0))\n",
    "\n",
    "cm = confusion_matrix(y_test2,y_pred_lg_model_tuned3,normalize='true',\n",
    "                      labels=lg_model_tuned_v3.classes_)\n",
    "disp = ConfusionMatrixDisplay(confusion_matrix=cm,\n",
    "                              display_labels=lg_model_tuned_v3.classes_)\n",
    "fig2, ax2 = plot.subplots(figsize=(14,14))\n",
    "disp.plot(cmap='inferno', ax=ax2,xticks_rotation='vertical')\n"
   ]
  },
  {
   "cell_type": "code",
   "execution_count": 527,
   "id": "e7f9cf3f",
   "metadata": {},
   "outputs": [
    {
     "name": "stdout",
     "output_type": "stream",
     "text": [
      "[LibLinear]iter   1  #CD cycles 1\n",
      "iter   2  #CD cycles 1\n",
      "iter   3  #CD cycles 1\n",
      "iter   4  #CD cycles 1\n",
      "iter   5  #CD cycles 3\n",
      "iter   6  #CD cycles 1\n",
      "iter   7  #CD cycles 1\n",
      "iter   8  #CD cycles 4\n",
      "iter   9  #CD cycles 1\n",
      "iter  10  #CD cycles 1\n",
      "iter  11  #CD cycles 3\n",
      "iter  12  #CD cycles 1\n",
      "iter  13  #CD cycles 3\n",
      "iter  14  #CD cycles 2\n",
      "iter  15  #CD cycles 1\n",
      "iter  16  #CD cycles 4\n",
      "iter  17  #CD cycles 2\n",
      "iter  18  #CD cycles 1\n",
      "iter  19  #CD cycles 2\n",
      "iter  20  #CD cycles 3\n",
      "iter  21  #CD cycles 1\n",
      "iter  22  #CD cycles 5\n",
      "=========================\n",
      "optimization finished, #iter = 22\n",
      "Objective value = 4.199998\n",
      "#nonzeros/#features = 4/279\n",
      "iter   1  #CD cycles 1\n",
      "iter   2  #CD cycles 1\n",
      "iter   3  #CD cycles 1\n",
      "iter   4  #CD cycles 1\n",
      "iter   5  #CD cycles 3\n",
      "iter   6  #CD cycles 1\n",
      "iter   7  #CD cycles 1\n",
      "iter   8  #CD cycles 4\n",
      "iter   9  #CD cycles 1\n",
      "iter  10  #CD cycles 7\n",
      "iter  11  #CD cycles 1\n",
      "iter  12  #CD cycles 5\n",
      "iter  13  #CD cycles 1\n",
      "iter  14  #CD cycles 4\n",
      "iter  15  #CD cycles 3\n",
      "iter  16  #CD cycles 1\n",
      "iter  17  #CD cycles 4\n",
      "iter  18  #CD cycles 4\n",
      "iter  19  #CD cycles 1\n",
      "iter  20  #CD cycles 6\n",
      "iter  21  #CD cycles 1\n",
      "iter  22  #CD cycles 11\n",
      "=========================\n",
      "optimization finished, #iter = 22\n",
      "Objective value = 5.738318\n",
      "#nonzeros/#features = 7/279\n",
      "iter   1  #CD cycles 1\n",
      "iter   2  #CD cycles 1\n",
      "iter   3  #CD cycles 1\n",
      "iter   4  #CD cycles 3\n",
      "iter   5  #CD cycles 1\n",
      "iter   6  #CD cycles 1\n",
      "iter   7  #CD cycles 5\n",
      "iter   8  #CD cycles 3\n",
      "iter   9  #CD cycles 1\n",
      "iter  10  #CD cycles 2\n",
      "iter  11  #CD cycles 1\n",
      "iter  12  #CD cycles 7\n",
      "iter  13  #CD cycles 2\n",
      "iter  14  #CD cycles 1\n",
      "iter  15  #CD cycles 33\n",
      "iter  16  #CD cycles 1\n",
      "iter  17  #CD cycles 1\n",
      "iter  18  #CD cycles 8\n",
      "iter  19  #CD cycles 1\n",
      "=========================\n",
      "optimization finished, #iter = 19\n",
      "Objective value = 13.421185\n",
      "#nonzeros/#features = 20/279\n",
      "iter   1  #CD cycles 1\n",
      "iter   2  #CD cycles 1\n",
      "iter   3  #CD cycles 1\n",
      "iter   4  #CD cycles 1\n",
      "iter   5  #CD cycles 3\n",
      "iter   6  #CD cycles 1\n",
      "iter   7  #CD cycles 3\n",
      "iter   8  #CD cycles 1\n",
      "iter   9  #CD cycles 6\n",
      "iter  10  #CD cycles 1\n",
      "iter  11  #CD cycles 14\n",
      "iter  12  #CD cycles 3\n",
      "iter  13  #CD cycles 1\n",
      "iter  14  #CD cycles 22\n",
      "iter  15  #CD cycles 8\n",
      "iter  16  #CD cycles 2\n",
      "iter  17  #CD cycles 1\n",
      "iter  18  #CD cycles 24\n",
      "iter  19  #CD cycles 4\n",
      "iter  20  #CD cycles 1\n",
      "iter  21  #CD cycles 23\n",
      "iter  22  #CD cycles 6\n",
      "iter  23  #CD cycles 4\n",
      "iter  24  #CD cycles 1\n",
      "iter  25  #CD cycles 24\n",
      "=========================\n",
      "optimization finished, #iter = 25\n",
      "Objective value = 11.912277\n",
      "#nonzeros/#features = 18/279\n",
      "iter   1  #CD cycles 1\n",
      "iter   2  #CD cycles 1\n",
      "iter   3  #CD cycles 1\n",
      "iter   4  #CD cycles 3\n",
      "iter   5  #CD cycles 1\n",
      "iter   6  #CD cycles 1\n",
      "iter   7  #CD cycles 1\n",
      "iter   8  #CD cycles 2\n",
      "iter   9  #CD cycles 1\n",
      "iter  10  #CD cycles 4\n",
      "iter  11  #CD cycles 1\n",
      "iter  12  #CD cycles 2\n",
      "iter  13  #CD cycles 1\n",
      "iter  14  #CD cycles 6\n",
      "iter  15  #CD cycles 1\n",
      "iter  16  #CD cycles 3\n",
      "iter  17  #CD cycles 1\n",
      "iter  18  #CD cycles 4\n",
      "=========================\n",
      "optimization finished, #iter = 18\n",
      "Objective value = 7.344678\n",
      "#nonzeros/#features = 10/279\n",
      "iter   1  #CD cycles 1\n",
      "iter   2  #CD cycles 1\n",
      "iter   3  #CD cycles 1\n",
      "iter   4  #CD cycles 1\n",
      "iter   5  #CD cycles 3\n",
      "iter   6  #CD cycles 1\n",
      "iter   7  #CD cycles 1\n",
      "iter   8  #CD cycles 9\n",
      "iter   9  #CD cycles 4\n",
      "iter  10  #CD cycles 1\n",
      "iter  11  #CD cycles 3\n",
      "iter  12  #CD cycles 1\n",
      "iter  13  #CD cycles 7\n",
      "iter  14  #CD cycles 2\n",
      "iter  15  #CD cycles 1\n",
      "iter  16  #CD cycles 6\n",
      "iter  17  #CD cycles 1\n",
      "iter  18  #CD cycles 4\n",
      "iter  19  #CD cycles 2\n",
      "iter  20  #CD cycles 1\n",
      "=========================\n",
      "optimization finished, #iter = 20\n",
      "Objective value = 8.850920\n",
      "#nonzeros/#features = 11/279\n",
      "iter   1  #CD cycles 1\n",
      "iter   2  #CD cycles 1\n",
      "iter   3  #CD cycles 1\n",
      "iter   4  #CD cycles 3\n",
      "iter   5  #CD cycles 1\n",
      "iter   6  #CD cycles 3\n",
      "iter   7  #CD cycles 1\n",
      "iter   8  #CD cycles 11\n",
      "iter   9  #CD cycles 1\n",
      "iter  10  #CD cycles 20\n",
      "iter  11  #CD cycles 5\n",
      "iter  12  #CD cycles 1\n",
      "iter  13  #CD cycles 46\n",
      "iter  14  #CD cycles 2\n",
      "iter  15  #CD cycles 1\n",
      "iter  16  #CD cycles 50\n",
      "iter  17  #CD cycles 1\n",
      "iter  18  #CD cycles 55\n",
      "iter  19  #CD cycles 3\n",
      "iter  20  #CD cycles 1\n",
      "iter  21  #CD cycles 48\n",
      "=========================\n",
      "optimization finished, #iter = 21\n",
      "Objective value = 32.581230\n",
      "#nonzeros/#features = 69/279\n",
      "iter   1  #CD cycles 1\n",
      "iter   2  #CD cycles 1\n",
      "iter   3  #CD cycles 1\n",
      "iter   4  #CD cycles 1\n",
      "iter   5  #CD cycles 3\n",
      "iter   6  #CD cycles 1\n",
      "iter   7  #CD cycles 1\n",
      "iter   8  #CD cycles 5\n",
      "iter   9  #CD cycles 10\n",
      "iter  10  #CD cycles 2\n",
      "iter  11  #CD cycles 1\n",
      "iter  12  #CD cycles 11\n",
      "iter  13  #CD cycles 1\n",
      "iter  14  #CD cycles 4\n",
      "iter  15  #CD cycles 1\n",
      "iter  16  #CD cycles 5\n",
      "iter  17  #CD cycles 1\n",
      "iter  18  #CD cycles 5\n",
      "iter  19  #CD cycles 3\n",
      "=========================\n",
      "optimization finished, #iter = 19\n",
      "Objective value = 9.196373\n",
      "#nonzeros/#features = 12/279\n",
      "iter   1  #CD cycles 1\n",
      "iter   2  #CD cycles 1\n",
      "iter   3  #CD cycles 1\n",
      "iter   4  #CD cycles 1\n",
      "iter   5  #CD cycles 1\n",
      "iter   6  #CD cycles 1\n",
      "iter   7  #CD cycles 9\n",
      "iter   8  #CD cycles 2\n",
      "iter   9  #CD cycles 1\n",
      "iter  10  #CD cycles 2\n",
      "iter  11  #CD cycles 1\n",
      "iter  12  #CD cycles 3\n",
      "iter  13  #CD cycles 1\n",
      "iter  14  #CD cycles 5\n",
      "iter  15  #CD cycles 2\n",
      "iter  16  #CD cycles 1\n",
      "iter  17  #CD cycles 4\n",
      "iter  18  #CD cycles 1\n",
      "iter  19  #CD cycles 7\n",
      "=========================\n",
      "optimization finished, #iter = 19\n",
      "Objective value = 5.808198\n",
      "#nonzeros/#features = 5/279\n",
      "iter   1  #CD cycles 1\n",
      "iter   2  #CD cycles 1\n",
      "iter   3  #CD cycles 1\n",
      "iter   4  #CD cycles 1\n",
      "iter   5  #CD cycles 3\n",
      "iter   6  #CD cycles 1\n",
      "iter   7  #CD cycles 1\n",
      "iter   8  #CD cycles 1\n",
      "iter   9  #CD cycles 4\n",
      "iter  10  #CD cycles 1\n",
      "iter  11  #CD cycles 5\n",
      "iter  12  #CD cycles 2\n",
      "iter  13  #CD cycles 1\n",
      "iter  14  #CD cycles 7\n",
      "iter  15  #CD cycles 1\n",
      "iter  16  #CD cycles 7\n",
      "iter  17  #CD cycles 2\n",
      "iter  18  #CD cycles 1\n",
      "iter  19  #CD cycles 7\n",
      "=========================\n",
      "optimization finished, #iter = 19\n",
      "Objective value = 5.379901\n",
      "#nonzeros/#features = 4/279\n",
      "iter   1  #CD cycles 1\n",
      "iter   2  #CD cycles 1\n",
      "iter   3  #CD cycles 1\n",
      "iter   4  #CD cycles 1\n",
      "iter   5  #CD cycles 1\n",
      "iter   6  #CD cycles 3\n",
      "iter   7  #CD cycles 1\n",
      "iter   8  #CD cycles 3\n",
      "iter   9  #CD cycles 1\n",
      "iter  10  #CD cycles 9\n",
      "iter  11  #CD cycles 2\n",
      "iter  12  #CD cycles 1\n",
      "iter  13  #CD cycles 4\n",
      "iter  14  #CD cycles 1\n",
      "iter  15  #CD cycles 6\n",
      "iter  16  #CD cycles 2\n",
      "iter  17  #CD cycles 1\n",
      "iter  18  #CD cycles 4\n",
      "iter  19  #CD cycles 2\n",
      "iter  20  #CD cycles 1\n",
      "iter  21  #CD cycles 6\n",
      "iter  22  #CD cycles 2\n",
      "=========================\n",
      "optimization finished, #iter = 22\n",
      "Objective value = 7.604593\n",
      "#nonzeros/#features = 10/279\n",
      "iter   1  #CD cycles 1\n",
      "iter   2  #CD cycles 1\n",
      "iter   3  #CD cycles 1\n",
      "iter   4  #CD cycles 1\n",
      "iter   5  #CD cycles 1\n",
      "iter   6  #CD cycles 3\n",
      "iter   7  #CD cycles 1\n",
      "iter   8  #CD cycles 4\n",
      "iter   9  #CD cycles 1\n",
      "iter  10  #CD cycles 6\n",
      "iter  11  #CD cycles 1\n",
      "iter  12  #CD cycles 6\n",
      "iter  13  #CD cycles 1\n",
      "iter  14  #CD cycles 3\n",
      "iter  15  #CD cycles 1\n",
      "iter  16  #CD cycles 5\n",
      "iter  17  #CD cycles 3\n",
      "iter  18  #CD cycles 1\n",
      "iter  19  #CD cycles 4\n",
      "=========================\n",
      "optimization finished, #iter = 19\n",
      "Objective value = 7.250913\n",
      "#nonzeros/#features = 6/279\n",
      "iter   1  #CD cycles 1\n",
      "iter   2  #CD cycles 1\n",
      "iter   3  #CD cycles 1\n",
      "iter   4  #CD cycles 1\n",
      "iter   5  #CD cycles 3\n",
      "iter   6  #CD cycles 1\n",
      "iter   7  #CD cycles 4\n",
      "iter   8  #CD cycles 1\n",
      "iter   9  #CD cycles 6\n",
      "iter  10  #CD cycles 1\n",
      "iter  11  #CD cycles 6\n",
      "iter  12  #CD cycles 4\n",
      "iter  13  #CD cycles 6\n",
      "iter  14  #CD cycles 1\n",
      "iter  15  #CD cycles 25\n",
      "iter  16  #CD cycles 3\n",
      "iter  17  #CD cycles 2\n",
      "iter  18  #CD cycles 1\n",
      "iter  19  #CD cycles 22\n",
      "iter  20  #CD cycles 2\n",
      "iter  21  #CD cycles 1\n",
      "iter  22  #CD cycles 28\n",
      "iter  23  #CD cycles 3\n",
      "=========================\n",
      "optimization finished, #iter = 23\n",
      "Objective value = 15.615683\n",
      "#nonzeros/#features = 22/279\n",
      "iter   1  #CD cycles 1\n",
      "iter   2  #CD cycles 1\n",
      "iter   3  #CD cycles 1\n",
      "iter   4  #CD cycles 1\n",
      "iter   5  #CD cycles 3\n",
      "iter   6  #CD cycles 1\n",
      "iter   7  #CD cycles 4\n",
      "iter   8  #CD cycles 1\n",
      "iter   9  #CD cycles 16\n",
      "iter  10  #CD cycles 1\n",
      "iter  11  #CD cycles 11\n",
      "iter  12  #CD cycles 14\n",
      "iter  13  #CD cycles 1\n",
      "iter  14  #CD cycles 37\n",
      "iter  15  #CD cycles 1\n",
      "iter  16  #CD cycles 33\n",
      "iter  17  #CD cycles 2\n",
      "iter  18  #CD cycles 1\n",
      "iter  19  #CD cycles 34\n",
      "iter  20  #CD cycles 2\n",
      "iter  21  #CD cycles 5\n",
      "=========================\n",
      "optimization finished, #iter = 21\n",
      "Objective value = 20.025688\n",
      "#nonzeros/#features = 35/279\n",
      "iter   1  #CD cycles 1\n",
      "iter   2  #CD cycles 1\n",
      "iter   3  #CD cycles 1\n",
      "iter   4  #CD cycles 3\n",
      "iter   5  #CD cycles 1\n",
      "iter   6  #CD cycles 1\n",
      "iter   7  #CD cycles 3\n",
      "iter   8  #CD cycles 1\n",
      "iter   9  #CD cycles 5\n",
      "iter  10  #CD cycles 1\n",
      "iter  11  #CD cycles 14\n",
      "iter  12  #CD cycles 2\n",
      "iter  13  #CD cycles 1\n",
      "iter  14  #CD cycles 17\n",
      "iter  15  #CD cycles 4\n",
      "iter  16  #CD cycles 3\n",
      "iter  17  #CD cycles 2\n",
      "iter  18  #CD cycles 2\n",
      "iter  19  #CD cycles 1\n",
      "iter  20  #CD cycles 19\n",
      "iter  21  #CD cycles 4\n",
      "iter  22  #CD cycles 3\n",
      "iter  23  #CD cycles 1\n",
      "iter  24  #CD cycles 30\n",
      "iter  25  #CD cycles 6\n",
      "=========================\n",
      "optimization finished, #iter = 25\n",
      "Objective value = 14.907882\n",
      "#nonzeros/#features = 23/279\n",
      "iter   1  #CD cycles 1\n",
      "iter   2  #CD cycles 1\n",
      "iter   3  #CD cycles 1\n",
      "iter   4  #CD cycles 3\n",
      "iter   5  #CD cycles 1\n",
      "iter   6  #CD cycles 9\n",
      "iter   7  #CD cycles 3\n",
      "iter   8  #CD cycles 4\n",
      "iter   9  #CD cycles 1\n",
      "iter  10  #CD cycles 53\n",
      "iter  11  #CD cycles 10\n",
      "iter  12  #CD cycles 8\n",
      "iter  13  #CD cycles 7\n",
      "iter  14  #CD cycles 1\n",
      "iter  15  #CD cycles 79\n",
      "iter  16  #CD cycles 9\n",
      "iter  17  #CD cycles 2\n",
      "iter  18  #CD cycles 6\n",
      "iter  19  #CD cycles 2\n",
      "iter  20  #CD cycles 1\n",
      "iter  21  #CD cycles 77\n",
      "iter  22  #CD cycles 20\n",
      "iter  23  #CD cycles 1\n",
      "iter  24  #CD cycles 111\n",
      "iter  25  #CD cycles 1\n",
      "iter  26  #CD cycles 108\n",
      "=========================\n",
      "optimization finished, #iter = 26\n",
      "Objective value = 83.271673\n",
      "#nonzeros/#features = 148/279\n",
      "iter   1  #CD cycles 1\n",
      "iter   2  #CD cycles 1\n",
      "iter   3  #CD cycles 1\n",
      "iter   4  #CD cycles 1\n",
      "iter   5  #CD cycles 3\n",
      "iter   6  #CD cycles 1\n",
      "iter   7  #CD cycles 3\n",
      "iter   8  #CD cycles 1\n",
      "iter   9  #CD cycles 1\n",
      "iter  10  #CD cycles 5\n",
      "iter  11  #CD cycles 8\n",
      "iter  12  #CD cycles 2\n",
      "iter  13  #CD cycles 1\n",
      "iter  14  #CD cycles 11\n",
      "iter  15  #CD cycles 1\n",
      "iter  16  #CD cycles 24\n",
      "iter  17  #CD cycles 6\n",
      "iter  18  #CD cycles 1\n",
      "iter  19  #CD cycles 16\n",
      "iter  20  #CD cycles 2\n",
      "iter  21  #CD cycles 6\n",
      "iter  22  #CD cycles 1\n",
      "iter  23  #CD cycles 12\n",
      "iter  24  #CD cycles 6\n",
      "iter  25  #CD cycles 4\n",
      "=========================\n",
      "optimization finished, #iter = 25\n",
      "Objective value = 11.140653\n",
      "#nonzeros/#features = 9/279\n",
      "iter   1  #CD cycles 1\n",
      "iter   2  #CD cycles 1\n",
      "iter   3  #CD cycles 1\n",
      "iter   4  #CD cycles 3\n",
      "iter   5  #CD cycles 1\n",
      "iter   6  #CD cycles 1\n",
      "iter   7  #CD cycles 11\n",
      "iter   8  #CD cycles 6\n",
      "iter   9  #CD cycles 1\n",
      "iter  10  #CD cycles 14\n",
      "iter  11  #CD cycles 2\n",
      "iter  12  #CD cycles 1\n",
      "iter  13  #CD cycles 19\n",
      "iter  14  #CD cycles 1\n",
      "iter  15  #CD cycles 21\n",
      "iter  16  #CD cycles 1\n",
      "iter  17  #CD cycles 18\n",
      "iter  18  #CD cycles 2\n",
      "iter  19  #CD cycles 2\n",
      "=========================\n",
      "optimization finished, #iter = 19\n",
      "Objective value = 38.190612\n",
      "#nonzeros/#features = 76/279\n",
      "iter   1  #CD cycles 1\n",
      "iter   2  #CD cycles 1\n",
      "iter   3  #CD cycles 1\n",
      "iter   4  #CD cycles 1\n",
      "iter   5  #CD cycles 5\n",
      "iter   6  #CD cycles 1\n",
      "iter   7  #CD cycles 6\n",
      "iter   8  #CD cycles 6\n",
      "iter   9  #CD cycles 1\n",
      "iter  10  #CD cycles 15\n",
      "iter  11  #CD cycles 1\n",
      "iter  12  #CD cycles 28\n",
      "iter  13  #CD cycles 3\n",
      "iter  14  #CD cycles 1\n"
     ]
    },
    {
     "name": "stdout",
     "output_type": "stream",
     "text": [
      "iter  15  #CD cycles 23\n",
      "iter  16  #CD cycles 1\n",
      "iter  17  #CD cycles 27\n",
      "iter  18  #CD cycles 1\n",
      "iter  19  #CD cycles 26\n",
      "=========================\n",
      "optimization finished, #iter = 19\n",
      "Objective value = 28.249419\n",
      "#nonzeros/#features = 53/279\n",
      "iter   1  #CD cycles 1\n",
      "iter   2  #CD cycles 1\n",
      "iter   3  #CD cycles 1\n",
      "iter   4  #CD cycles 1\n",
      "iter   5  #CD cycles 1\n",
      "iter   6  #CD cycles 1\n",
      "iter   7  #CD cycles 4\n",
      "iter   8  #CD cycles 1\n",
      "iter   9  #CD cycles 1\n",
      "iter  10  #CD cycles 5\n",
      "iter  11  #CD cycles 1\n",
      "iter  12  #CD cycles 7\n",
      "iter  13  #CD cycles 2\n",
      "iter  14  #CD cycles 1\n",
      "iter  15  #CD cycles 6\n",
      "iter  16  #CD cycles 1\n",
      "iter  17  #CD cycles 4\n",
      "iter  18  #CD cycles 2\n",
      "=========================\n",
      "optimization finished, #iter = 18\n",
      "Objective value = 5.285725\n",
      "#nonzeros/#features = 9/279\n",
      "iter   1  #CD cycles 1\n",
      "iter   2  #CD cycles 1\n",
      "iter   3  #CD cycles 1\n",
      "iter   4  #CD cycles 1\n",
      "iter   5  #CD cycles 3\n",
      "iter   6  #CD cycles 1\n",
      "iter   7  #CD cycles 1\n",
      "iter   8  #CD cycles 4\n",
      "iter   9  #CD cycles 1\n",
      "iter  10  #CD cycles 9\n",
      "iter  11  #CD cycles 1\n",
      "iter  12  #CD cycles 2\n",
      "iter  13  #CD cycles 1\n",
      "iter  14  #CD cycles 3\n",
      "iter  15  #CD cycles 5\n",
      "iter  16  #CD cycles 1\n",
      "iter  17  #CD cycles 7\n",
      "iter  18  #CD cycles 1\n",
      "iter  19  #CD cycles 7\n",
      "=========================\n",
      "optimization finished, #iter = 19\n",
      "Objective value = 9.703297\n",
      "#nonzeros/#features = 9/279\n",
      "iter   1  #CD cycles 1\n",
      "iter   2  #CD cycles 1\n",
      "iter   3  #CD cycles 1\n",
      "iter   4  #CD cycles 1\n",
      "iter   5  #CD cycles 3\n",
      "iter   6  #CD cycles 1\n",
      "iter   7  #CD cycles 3\n",
      "iter   8  #CD cycles 1\n",
      "iter   9  #CD cycles 3\n",
      "iter  10  #CD cycles 1\n",
      "iter  11  #CD cycles 6\n",
      "iter  12  #CD cycles 1\n",
      "iter  13  #CD cycles 5\n",
      "iter  14  #CD cycles 1\n",
      "iter  15  #CD cycles 4\n",
      "iter  16  #CD cycles 2\n",
      "iter  17  #CD cycles 1\n",
      "iter  18  #CD cycles 5\n",
      "iter  19  #CD cycles 1\n",
      "iter  20  #CD cycles 4\n",
      "=========================\n",
      "optimization finished, #iter = 20\n",
      "Objective value = 7.340440\n",
      "#nonzeros/#features = 10/279\n",
      "iter   1  #CD cycles 1\n",
      "iter   2  #CD cycles 1\n",
      "iter   3  #CD cycles 1\n",
      "iter   4  #CD cycles 1\n",
      "iter   5  #CD cycles 3\n",
      "iter   6  #CD cycles 1\n",
      "iter   7  #CD cycles 1\n",
      "iter   8  #CD cycles 4\n",
      "iter   9  #CD cycles 1\n",
      "iter  10  #CD cycles 3\n",
      "iter  11  #CD cycles 2\n",
      "iter  12  #CD cycles 1\n",
      "iter  13  #CD cycles 7\n",
      "iter  14  #CD cycles 1\n",
      "iter  15  #CD cycles 9\n",
      "iter  16  #CD cycles 1\n",
      "iter  17  #CD cycles 7\n",
      "iter  18  #CD cycles 3\n",
      "iter  19  #CD cycles 2\n",
      "iter  20  #CD cycles 1\n",
      "iter  21  #CD cycles 8\n",
      "iter  22  #CD cycles 1\n",
      "iter  23  #CD cycles 9\n",
      "=========================\n",
      "optimization finished, #iter = 23\n",
      "Objective value = 4.498369\n",
      "#nonzeros/#features = 5/279\n",
      "iter   1  #CD cycles 1\n",
      "iter   2  #CD cycles 1\n",
      "iter   3  #CD cycles 1\n",
      "iter   4  #CD cycles 5\n",
      "iter   5  #CD cycles 1\n",
      "iter   6  #CD cycles 23\n",
      "iter   7  #CD cycles 14\n",
      "iter   8  #CD cycles 14\n",
      "iter   9  #CD cycles 3\n",
      "iter  10  #CD cycles 1\n",
      "iter  11  #CD cycles 91\n",
      "iter  12  #CD cycles 51\n",
      "iter  13  #CD cycles 18\n",
      "iter  14  #CD cycles 9\n",
      "iter  15  #CD cycles 13\n",
      "iter  16  #CD cycles 1\n",
      "iter  17  #CD cycles 199\n",
      "iter  18  #CD cycles 71\n",
      "iter  19  #CD cycles 2\n",
      "iter  20  #CD cycles 2\n",
      "iter  21  #CD cycles 1\n",
      "iter  22  #CD cycles 269\n",
      "iter  23  #CD cycles 14\n",
      "iter  24  #CD cycles 6\n",
      "iter  25  #CD cycles 10\n",
      "iter  26  #CD cycles 3\n",
      "iter  27  #CD cycles 12\n",
      "iter  28  #CD cycles 5\n",
      "iter  29  #CD cycles 3\n",
      "iter  30  #CD cycles 3\n",
      "iter  31  #CD cycles 3\n",
      "iter  32  #CD cycles 6\n",
      "iter  33  #CD cycles 3\n",
      "iter  34  #CD cycles 6\n",
      "iter  35  #CD cycles 5\n",
      "iter  36  #CD cycles 4\n",
      "iter  37  #CD cycles 5\n",
      "iter  38  #CD cycles 2\n",
      "iter  39  #CD cycles 2\n",
      "iter  40  #CD cycles 5\n",
      "iter  41  #CD cycles 1\n",
      "iter  42  #CD cycles 331\n",
      "iter  43  #CD cycles 1\n",
      "iter  44  #CD cycles 333\n",
      "=========================\n",
      "optimization finished, #iter = 44\n",
      "Objective value = 42.061856\n",
      "#nonzeros/#features = 32/279\n",
      "iter   1  #CD cycles 1\n",
      "iter   2  #CD cycles 1\n",
      "iter   3  #CD cycles 1\n",
      "iter   4  #CD cycles 1\n",
      "iter   5  #CD cycles 3\n",
      "iter   6  #CD cycles 1\n",
      "iter   7  #CD cycles 1\n",
      "iter   8  #CD cycles 6\n",
      "iter   9  #CD cycles 1\n",
      "iter  10  #CD cycles 6\n",
      "iter  11  #CD cycles 1\n",
      "iter  12  #CD cycles 3\n",
      "iter  13  #CD cycles 2\n",
      "iter  14  #CD cycles 1\n",
      "iter  15  #CD cycles 4\n",
      "iter  16  #CD cycles 1\n",
      "iter  17  #CD cycles 6\n",
      "iter  18  #CD cycles 1\n",
      "iter  19  #CD cycles 9\n",
      "iter  20  #CD cycles 2\n",
      "=========================\n",
      "optimization finished, #iter = 20\n",
      "Objective value = 6.705732\n",
      "#nonzeros/#features = 6/279\n",
      "iter   1  #CD cycles 1\n",
      "iter   2  #CD cycles 1\n",
      "iter   3  #CD cycles 1\n",
      "iter   4  #CD cycles 3\n",
      "iter   5  #CD cycles 1\n",
      "iter   6  #CD cycles 1\n",
      "iter   7  #CD cycles 1\n",
      "iter   8  #CD cycles 6\n",
      "iter   9  #CD cycles 1\n",
      "iter  10  #CD cycles 11\n",
      "iter  11  #CD cycles 1\n",
      "iter  12  #CD cycles 14\n",
      "iter  13  #CD cycles 2\n",
      "iter  14  #CD cycles 2\n",
      "iter  15  #CD cycles 1\n",
      "iter  16  #CD cycles 9\n",
      "iter  17  #CD cycles 6\n",
      "iter  18  #CD cycles 1\n",
      "iter  19  #CD cycles 18\n",
      "iter  20  #CD cycles 1\n",
      "iter  21  #CD cycles 28\n",
      "=========================\n",
      "optimization finished, #iter = 21\n",
      "Objective value = 11.347161\n",
      "#nonzeros/#features = 12/279\n",
      "iter   1  #CD cycles 1\n",
      "iter   2  #CD cycles 1\n",
      "iter   3  #CD cycles 1\n",
      "iter   4  #CD cycles 3\n",
      "iter   5  #CD cycles 1\n",
      "iter   6  #CD cycles 3\n",
      "iter   7  #CD cycles 1\n",
      "iter   8  #CD cycles 13\n",
      "iter   9  #CD cycles 3\n",
      "iter  10  #CD cycles 1\n",
      "iter  11  #CD cycles 50\n",
      "iter  12  #CD cycles 13\n",
      "iter  13  #CD cycles 1\n",
      "iter  14  #CD cycles 47\n",
      "iter  15  #CD cycles 3\n",
      "iter  16  #CD cycles 9\n",
      "iter  17  #CD cycles 2\n",
      "iter  18  #CD cycles 1\n",
      "iter  19  #CD cycles 52\n",
      "iter  20  #CD cycles 5\n",
      "iter  21  #CD cycles 3\n",
      "iter  22  #CD cycles 2\n",
      "iter  23  #CD cycles 2\n",
      "iter  24  #CD cycles 2\n",
      "iter  25  #CD cycles 1\n",
      "iter  26  #CD cycles 66\n",
      "iter  27  #CD cycles 3\n",
      "iter  28  #CD cycles 3\n",
      "=========================\n",
      "optimization finished, #iter = 28\n",
      "Objective value = 53.486622\n",
      "#nonzeros/#features = 115/279\n",
      "iter   1  #CD cycles 1\n",
      "iter   2  #CD cycles 1\n",
      "iter   3  #CD cycles 1\n",
      "iter   4  #CD cycles 4\n",
      "iter   5  #CD cycles 1\n",
      "iter   6  #CD cycles 14\n",
      "iter   7  #CD cycles 11\n",
      "iter   8  #CD cycles 11\n",
      "iter   9  #CD cycles 3\n",
      "iter  10  #CD cycles 1\n",
      "iter  11  #CD cycles 51\n",
      "iter  12  #CD cycles 35\n",
      "iter  13  #CD cycles 3\n",
      "iter  14  #CD cycles 1\n",
      "iter  15  #CD cycles 113\n",
      "iter  16  #CD cycles 44\n",
      "iter  17  #CD cycles 5\n",
      "iter  18  #CD cycles 3\n",
      "iter  19  #CD cycles 2\n",
      "iter  20  #CD cycles 2\n",
      "iter  21  #CD cycles 3\n",
      "iter  22  #CD cycles 1\n",
      "iter  23  #CD cycles 162\n",
      "iter  24  #CD cycles 8\n",
      "iter  25  #CD cycles 30\n",
      "iter  26  #CD cycles 4\n",
      "iter  27  #CD cycles 6\n",
      "iter  28  #CD cycles 1\n",
      "iter  29  #CD cycles 198\n",
      "iter  30  #CD cycles 9\n",
      "iter  31  #CD cycles 4\n",
      "iter  32  #CD cycles 1\n",
      "iter  33  #CD cycles 206\n",
      "=========================\n",
      "optimization finished, #iter = 33\n",
      "Objective value = 34.224300\n",
      "#nonzeros/#features = 55/279\n",
      "iter   1  #CD cycles 1\n",
      "iter   2  #CD cycles 1\n",
      "iter   3  #CD cycles 1\n",
      "iter   4  #CD cycles 3\n",
      "iter   5  #CD cycles 1\n",
      "iter   6  #CD cycles 3\n",
      "iter   7  #CD cycles 1\n",
      "iter   8  #CD cycles 6\n",
      "iter   9  #CD cycles 1\n",
      "iter  10  #CD cycles 2\n",
      "iter  11  #CD cycles 3\n",
      "iter  12  #CD cycles 1\n",
      "iter  13  #CD cycles 9\n",
      "iter  14  #CD cycles 2\n",
      "iter  15  #CD cycles 1\n",
      "iter  16  #CD cycles 10\n",
      "iter  17  #CD cycles 1\n",
      "iter  18  #CD cycles 13\n",
      "iter  19  #CD cycles 1\n",
      "iter  20  #CD cycles 13\n",
      "=========================\n",
      "optimization finished, #iter = 20\n",
      "Objective value = 21.974846\n",
      "#nonzeros/#features = 35/279\n",
      "iter   1  #CD cycles 1\n",
      "iter   2  #CD cycles 1\n",
      "iter   3  #CD cycles 1\n",
      "iter   4  #CD cycles 1\n",
      "iter   5  #CD cycles 1\n",
      "iter   6  #CD cycles 3\n",
      "iter   7  #CD cycles 1\n",
      "iter   8  #CD cycles 7\n",
      "iter   9  #CD cycles 1\n",
      "iter  10  #CD cycles 1\n",
      "iter  11  #CD cycles 3\n",
      "iter  12  #CD cycles 1\n",
      "iter  13  #CD cycles 4\n",
      "iter  14  #CD cycles 1\n",
      "iter  15  #CD cycles 4\n",
      "iter  16  #CD cycles 1\n",
      "iter  17  #CD cycles 4\n",
      "=========================\n",
      "optimization finished, #iter = 17\n",
      "Objective value = 5.927664\n",
      "#nonzeros/#features = 6/279\n",
      "iter   1  #CD cycles 1\n",
      "iter   2  #CD cycles 1\n",
      "iter   3  #CD cycles 1\n",
      "iter   4  #CD cycles 1\n",
      "iter   5  #CD cycles 8\n",
      "iter   6  #CD cycles 3\n",
      "iter   7  #CD cycles 1\n",
      "iter   8  #CD cycles 17\n",
      "iter   9  #CD cycles 1\n",
      "iter  10  #CD cycles 45\n",
      "iter  11  #CD cycles 4\n",
      "iter  12  #CD cycles 8\n",
      "iter  13  #CD cycles 1\n",
      "iter  14  #CD cycles 69\n",
      "iter  15  #CD cycles 1\n",
      "iter  16  #CD cycles 70\n",
      "iter  17  #CD cycles 2\n",
      "iter  18  #CD cycles 1\n",
      "iter  19  #CD cycles 64\n",
      "iter  20  #CD cycles 10\n",
      "iter  21  #CD cycles 5\n",
      "iter  22  #CD cycles 3\n",
      "iter  23  #CD cycles 1\n",
      "=========================\n",
      "optimization finished, #iter = 23\n",
      "Objective value = 60.413182\n",
      "#nonzeros/#features = 121/279\n",
      "iter   1  #CD cycles 1\n",
      "iter   2  #CD cycles 1\n",
      "iter   3  #CD cycles 1\n",
      "iter   4  #CD cycles 3\n",
      "iter   5  #CD cycles 1\n",
      "iter   6  #CD cycles 8\n",
      "iter   7  #CD cycles 5\n",
      "iter   8  #CD cycles 1\n",
      "iter   9  #CD cycles 12\n",
      "iter  10  #CD cycles 4\n",
      "iter  11  #CD cycles 1\n",
      "iter  12  #CD cycles 21\n",
      "iter  13  #CD cycles 3\n",
      "iter  14  #CD cycles 5\n",
      "iter  15  #CD cycles 1\n",
      "iter  16  #CD cycles 26\n",
      "iter  17  #CD cycles 1\n",
      "iter  18  #CD cycles 27\n",
      "iter  19  #CD cycles 3\n",
      "iter  20  #CD cycles 2\n",
      "iter  21  #CD cycles 1\n",
      "iter  22  #CD cycles 29\n",
      "=========================\n",
      "optimization finished, #iter = 22\n",
      "Objective value = 47.522397\n",
      "#nonzeros/#features = 103/279\n",
      "iter   1  #CD cycles 1\n",
      "iter   2  #CD cycles 1\n",
      "iter   3  #CD cycles 1\n",
      "iter   4  #CD cycles 1\n",
      "iter   5  #CD cycles 3\n",
      "iter   6  #CD cycles 1\n",
      "iter   7  #CD cycles 3\n",
      "iter   8  #CD cycles 1\n",
      "iter   9  #CD cycles 5\n",
      "iter  10  #CD cycles 2\n",
      "iter  11  #CD cycles 1\n",
      "iter  12  #CD cycles 13\n",
      "iter  13  #CD cycles 2\n",
      "iter  14  #CD cycles 1\n",
      "iter  15  #CD cycles 16\n",
      "iter  16  #CD cycles 2\n",
      "iter  17  #CD cycles 1\n",
      "iter  18  #CD cycles 22\n",
      "iter  19  #CD cycles 2\n",
      "iter  20  #CD cycles 1\n",
      "iter  21  #CD cycles 33\n",
      "=========================\n",
      "optimization finished, #iter = 21\n",
      "Objective value = 18.021811\n",
      "#nonzeros/#features = 29/279\n",
      "iter   1  #CD cycles 1\n",
      "iter   2  #CD cycles 1\n",
      "iter   3  #CD cycles 1\n",
      "iter   4  #CD cycles 5\n",
      "iter   5  #CD cycles 1\n",
      "iter   6  #CD cycles 17\n",
      "iter   7  #CD cycles 6\n",
      "iter   8  #CD cycles 4\n",
      "iter   9  #CD cycles 1\n",
      "iter  10  #CD cycles 36\n",
      "iter  11  #CD cycles 3\n",
      "iter  12  #CD cycles 13\n",
      "iter  13  #CD cycles 6\n",
      "iter  14  #CD cycles 1\n",
      "iter  15  #CD cycles 66\n",
      "iter  16  #CD cycles 8\n",
      "iter  17  #CD cycles 5\n",
      "iter  18  #CD cycles 2\n",
      "iter  19  #CD cycles 1\n",
      "iter  20  #CD cycles 95\n",
      "iter  21  #CD cycles 5\n",
      "iter  22  #CD cycles 1\n",
      "iter  23  #CD cycles 104\n",
      "iter  24  #CD cycles 4\n",
      "iter  25  #CD cycles 8\n",
      "iter  26  #CD cycles 3\n",
      "iter  27  #CD cycles 1\n",
      "iter  28  #CD cycles 90\n",
      "=========================\n",
      "optimization finished, #iter = 28\n",
      "Objective value = 77.520992\n",
      "#nonzeros/#features = 144/279\n",
      "iter   1  #CD cycles 1\n",
      "iter   2  #CD cycles 1\n",
      "iter   3  #CD cycles 1\n",
      "iter   4  #CD cycles 1\n",
      "iter   5  #CD cycles 3\n",
      "iter   6  #CD cycles 1\n",
      "iter   7  #CD cycles 1\n",
      "iter   8  #CD cycles 3\n",
      "iter   9  #CD cycles 2\n",
      "iter  10  #CD cycles 2\n",
      "iter  11  #CD cycles 2\n",
      "iter  12  #CD cycles 1\n",
      "iter  13  #CD cycles 4\n",
      "iter  14  #CD cycles 1\n",
      "iter  15  #CD cycles 4\n",
      "iter  16  #CD cycles 1\n",
      "iter  17  #CD cycles 2\n",
      "iter  18  #CD cycles 1\n",
      "iter  19  #CD cycles 6\n",
      "=========================\n",
      "optimization finished, #iter = 19\n",
      "Objective value = 10.996024\n",
      "#nonzeros/#features = 14/279\n",
      "iter   1  #CD cycles 1\n",
      "iter   2  #CD cycles 1\n",
      "iter   3  #CD cycles 1\n",
      "iter   4  #CD cycles 1\n",
      "iter   5  #CD cycles 3\n",
      "iter   6  #CD cycles 1\n",
      "iter   7  #CD cycles 1\n",
      "iter   8  #CD cycles 4\n",
      "iter   9  #CD cycles 1\n",
      "iter  10  #CD cycles 3\n",
      "iter  11  #CD cycles 1\n",
      "iter  12  #CD cycles 4\n",
      "iter  13  #CD cycles 1\n",
      "iter  14  #CD cycles 4\n",
      "iter  15  #CD cycles 1\n",
      "iter  16  #CD cycles 5\n",
      "iter  17  #CD cycles 1\n",
      "iter  18  #CD cycles 4\n",
      "=========================\n",
      "optimization finished, #iter = 18\n",
      "Objective value = 7.633775\n",
      "#nonzeros/#features = 15/279\n",
      "iter   1  #CD cycles 1\n",
      "iter   2  #CD cycles 1\n",
      "iter   3  #CD cycles 1\n",
      "iter   4  #CD cycles 3\n",
      "iter   5  #CD cycles 1\n",
      "iter   6  #CD cycles 3\n",
      "iter   7  #CD cycles 1\n",
      "iter   8  #CD cycles 9\n",
      "iter   9  #CD cycles 1\n",
      "iter  10  #CD cycles 20\n",
      "iter  11  #CD cycles 2\n",
      "iter  12  #CD cycles 1\n",
      "iter  13  #CD cycles 38\n",
      "iter  14  #CD cycles 1\n",
      "iter  15  #CD cycles 35\n",
      "iter  16  #CD cycles 10\n",
      "iter  17  #CD cycles 6\n",
      "iter  18  #CD cycles 2\n",
      "iter  19  #CD cycles 1\n",
      "iter  20  #CD cycles 51\n",
      "=========================\n",
      "optimization finished, #iter = 20\n",
      "Objective value = 35.596971\n",
      "#nonzeros/#features = 66/279\n",
      "iter   1  #CD cycles 1\n",
      "iter   2  #CD cycles 1\n",
      "iter   3  #CD cycles 1\n",
      "iter   4  #CD cycles 4\n",
      "iter   5  #CD cycles 1\n",
      "iter   6  #CD cycles 12\n",
      "iter   7  #CD cycles 5\n",
      "iter   8  #CD cycles 1\n",
      "iter   9  #CD cycles 25\n",
      "iter  10  #CD cycles 19\n",
      "iter  11  #CD cycles 1\n",
      "iter  12  #CD cycles 48\n",
      "iter  13  #CD cycles 19\n",
      "iter  14  #CD cycles 1\n",
      "iter  15  #CD cycles 69\n",
      "iter  16  #CD cycles 2\n",
      "iter  17  #CD cycles 2\n",
      "iter  18  #CD cycles 1\n",
      "iter  19  #CD cycles 71\n",
      "iter  20  #CD cycles 1\n",
      "iter  21  #CD cycles 65\n",
      "=========================\n",
      "optimization finished, #iter = 21\n",
      "Objective value = 48.753319\n",
      "#nonzeros/#features = 96/279\n",
      "iter   1  #CD cycles 1\n",
      "iter   2  #CD cycles 1\n",
      "iter   3  #CD cycles 1\n",
      "iter   4  #CD cycles 1\n",
      "iter   5  #CD cycles 3\n",
      "iter   6  #CD cycles 1\n",
      "iter   7  #CD cycles 1\n",
      "iter   8  #CD cycles 2\n",
      "iter   9  #CD cycles 4\n",
      "iter  10  #CD cycles 1\n",
      "iter  11  #CD cycles 2\n",
      "iter  12  #CD cycles 1\n",
      "iter  13  #CD cycles 1\n",
      "iter  14  #CD cycles 5\n",
      "iter  15  #CD cycles 1\n",
      "iter  16  #CD cycles 6\n",
      "iter  17  #CD cycles 1\n",
      "iter  18  #CD cycles 4\n",
      "=========================\n",
      "optimization finished, #iter = 18\n",
      "Objective value = 5.638382\n",
      "#nonzeros/#features = 7/279\n",
      "iter   1  #CD cycles 1\n",
      "iter   2  #CD cycles 1\n",
      "iter   3  #CD cycles 1\n",
      "iter   4  #CD cycles 4\n",
      "iter   5  #CD cycles 1\n",
      "iter   6  #CD cycles 8\n",
      "iter   7  #CD cycles 5\n",
      "iter   8  #CD cycles 1\n",
      "iter   9  #CD cycles 18\n",
      "iter  10  #CD cycles 7\n",
      "iter  11  #CD cycles 1\n",
      "iter  12  #CD cycles 26\n",
      "iter  13  #CD cycles 8\n",
      "iter  14  #CD cycles 1\n",
      "iter  15  #CD cycles 38\n",
      "iter  16  #CD cycles 1\n",
      "iter  17  #CD cycles 33\n",
      "iter  18  #CD cycles 1\n",
      "iter  19  #CD cycles 36\n",
      "=========================\n",
      "optimization finished, #iter = 19\n",
      "Objective value = 48.759253\n",
      "#nonzeros/#features = 112/279\n",
      "iter   1  #CD cycles 1\n",
      "iter   2  #CD cycles 1\n",
      "iter   3  #CD cycles 1\n",
      "iter   4  #CD cycles 3\n",
      "iter   5  #CD cycles 1\n",
      "iter   6  #CD cycles 18\n",
      "iter   7  #CD cycles 5\n",
      "iter   8  #CD cycles 1\n",
      "iter   9  #CD cycles 56\n",
      "iter  10  #CD cycles 15\n",
      "iter  11  #CD cycles 3\n",
      "iter  12  #CD cycles 1\n",
      "iter  13  #CD cycles 82\n",
      "iter  14  #CD cycles 22\n",
      "iter  15  #CD cycles 1\n",
      "iter  16  #CD cycles 94\n"
     ]
    },
    {
     "name": "stdout",
     "output_type": "stream",
     "text": [
      "iter  17  #CD cycles 10\n",
      "iter  18  #CD cycles 6\n",
      "iter  19  #CD cycles 1\n",
      "iter  20  #CD cycles 122\n",
      "iter  21  #CD cycles 4\n",
      "iter  22  #CD cycles 2\n",
      "iter  23  #CD cycles 1\n",
      "iter  24  #CD cycles 107\n",
      "=========================\n",
      "optimization finished, #iter = 24\n",
      "Objective value = 86.647667\n",
      "#nonzeros/#features = 144/279\n",
      "iter   1  #CD cycles 1\n",
      "iter   2  #CD cycles 1\n",
      "iter   3  #CD cycles 1\n",
      "iter   4  #CD cycles 1\n",
      "iter   5  #CD cycles 3\n",
      "iter   6  #CD cycles 1\n",
      "iter   7  #CD cycles 2\n",
      "iter   8  #CD cycles 1\n",
      "iter   9  #CD cycles 9\n",
      "iter  10  #CD cycles 1\n",
      "iter  11  #CD cycles 4\n",
      "iter  12  #CD cycles 1\n",
      "iter  13  #CD cycles 1\n",
      "iter  14  #CD cycles 3\n",
      "iter  15  #CD cycles 1\n",
      "iter  16  #CD cycles 1\n",
      "=========================\n",
      "optimization finished, #iter = 16\n",
      "Objective value = 8.863121\n",
      "#nonzeros/#features = 13/279\n",
      "iter   1  #CD cycles 1\n",
      "iter   2  #CD cycles 1\n",
      "iter   3  #CD cycles 1\n",
      "iter   4  #CD cycles 3\n",
      "iter   5  #CD cycles 1\n",
      "iter   6  #CD cycles 1\n",
      "iter   7  #CD cycles 3\n",
      "iter   8  #CD cycles 1\n",
      "iter   9  #CD cycles 1\n",
      "iter  10  #CD cycles 7\n",
      "iter  11  #CD cycles 2\n",
      "iter  12  #CD cycles 1\n",
      "iter  13  #CD cycles 2\n",
      "iter  14  #CD cycles 1\n",
      "iter  15  #CD cycles 2\n",
      "iter  16  #CD cycles 1\n",
      "iter  17  #CD cycles 1\n",
      "=========================\n",
      "optimization finished, #iter = 17\n",
      "Objective value = 7.286511\n",
      "#nonzeros/#features = 9/279\n",
      "iter   1  #CD cycles 1\n",
      "iter   2  #CD cycles 1\n",
      "iter   3  #CD cycles 1\n",
      "iter   4  #CD cycles 1\n",
      "iter   5  #CD cycles 3\n",
      "iter   6  #CD cycles 1\n",
      "iter   7  #CD cycles 1\n",
      "iter   8  #CD cycles 10\n",
      "iter   9  #CD cycles 1\n",
      "iter  10  #CD cycles 1\n",
      "iter  11  #CD cycles 3\n",
      "iter  12  #CD cycles 1\n",
      "iter  13  #CD cycles 3\n",
      "iter  14  #CD cycles 1\n",
      "iter  15  #CD cycles 5\n",
      "iter  16  #CD cycles 1\n",
      "=========================\n",
      "optimization finished, #iter = 16\n",
      "Objective value = 8.478453\n",
      "#nonzeros/#features = 9/279\n",
      "iter   1  #CD cycles 1\n",
      "iter   2  #CD cycles 1\n",
      "iter   3  #CD cycles 1\n",
      "iter   4  #CD cycles 3\n",
      "iter   5  #CD cycles 1\n",
      "iter   6  #CD cycles 1\n",
      "iter   7  #CD cycles 1\n",
      "iter   8  #CD cycles 4\n",
      "iter   9  #CD cycles 2\n",
      "iter  10  #CD cycles 1\n",
      "iter  11  #CD cycles 4\n",
      "iter  12  #CD cycles 1\n",
      "iter  13  #CD cycles 13\n",
      "iter  14  #CD cycles 2\n",
      "iter  15  #CD cycles 1\n",
      "iter  16  #CD cycles 19\n",
      "iter  17  #CD cycles 2\n",
      "iter  18  #CD cycles 1\n",
      "iter  19  #CD cycles 25\n",
      "iter  20  #CD cycles 3\n",
      "=========================\n",
      "optimization finished, #iter = 20\n",
      "Objective value = 11.888805\n",
      "#nonzeros/#features = 22/279\n",
      "iter   1  #CD cycles 1\n",
      "iter   2  #CD cycles 1\n",
      "iter   3  #CD cycles 1\n",
      "iter   4  #CD cycles 1\n",
      "iter   5  #CD cycles 1\n",
      "iter   6  #CD cycles 3\n",
      "iter   7  #CD cycles 1\n",
      "iter   8  #CD cycles 5\n",
      "iter   9  #CD cycles 1\n",
      "iter  10  #CD cycles 24\n",
      "iter  11  #CD cycles 1\n",
      "iter  12  #CD cycles 17\n",
      "iter  13  #CD cycles 5\n",
      "iter  14  #CD cycles 1\n",
      "iter  15  #CD cycles 24\n",
      "iter  16  #CD cycles 2\n",
      "iter  17  #CD cycles 1\n",
      "iter  18  #CD cycles 19\n",
      "iter  19  #CD cycles 4\n",
      "iter  20  #CD cycles 1\n",
      "iter  21  #CD cycles 31\n",
      "=========================\n",
      "optimization finished, #iter = 21\n",
      "Objective value = 10.713294\n",
      "#nonzeros/#features = 17/279\n",
      "iter   1  #CD cycles 1\n",
      "iter   2  #CD cycles 1\n",
      "iter   3  #CD cycles 1\n",
      "iter   4  #CD cycles 1\n",
      "iter   5  #CD cycles 4\n",
      "iter   6  #CD cycles 3\n",
      "iter   7  #CD cycles 1\n",
      "iter   8  #CD cycles 15\n",
      "iter   9  #CD cycles 1\n",
      "iter  10  #CD cycles 40\n",
      "iter  11  #CD cycles 6\n",
      "iter  12  #CD cycles 3\n",
      "iter  13  #CD cycles 1\n",
      "iter  14  #CD cycles 45\n",
      "iter  15  #CD cycles 2\n",
      "iter  16  #CD cycles 1\n",
      "iter  17  #CD cycles 49\n",
      "iter  18  #CD cycles 1\n",
      "iter  19  #CD cycles 40\n",
      "iter  20  #CD cycles 3\n",
      "iter  21  #CD cycles 4\n",
      "iter  22  #CD cycles 3\n",
      "iter  23  #CD cycles 1\n",
      "=========================\n",
      "optimization finished, #iter = 23\n",
      "Objective value = 43.939049\n",
      "#nonzeros/#features = 97/279\n",
      "iter   1  #CD cycles 1\n",
      "iter   2  #CD cycles 1\n",
      "iter   3  #CD cycles 1\n",
      "iter   4  #CD cycles 1\n",
      "iter   5  #CD cycles 3\n",
      "iter   6  #CD cycles 1\n",
      "iter   7  #CD cycles 3\n",
      "iter   8  #CD cycles 1\n",
      "iter   9  #CD cycles 7\n",
      "iter  10  #CD cycles 1\n",
      "iter  11  #CD cycles 7\n",
      "iter  12  #CD cycles 7\n",
      "iter  13  #CD cycles 2\n",
      "iter  14  #CD cycles 1\n",
      "iter  15  #CD cycles 17\n",
      "iter  16  #CD cycles 4\n",
      "iter  17  #CD cycles 1\n",
      "iter  18  #CD cycles 16\n",
      "iter  19  #CD cycles 3\n",
      "iter  20  #CD cycles 1\n",
      "iter  21  #CD cycles 11\n",
      "iter  22  #CD cycles 7\n",
      "iter  23  #CD cycles 1\n",
      "iter  24  #CD cycles 23\n",
      "=========================\n",
      "optimization finished, #iter = 24\n",
      "Objective value = 12.452376\n",
      "#nonzeros/#features = 17/279\n",
      "0.6174568965517241\n",
      "0.6834590517241379\n"
     ]
    }
   ],
   "source": [
    "#now we try it out\n",
    "lg_model_tuned_v4 = LogisticRegression(max_iter = 500,\n",
    "                              random_state=RANDOM_SEED,\n",
    "                              solver = 'liblinear',penalty= 'l1',\n",
    "                              C = 0.1,verbose = 5).fit(X_train_scaler_final, y_train2)\n",
    "\n",
    "y_pred_lg_model_tuned4 = lg_model_tuned_v4.predict(X_test_scaler_final)\n",
    "\n",
    "accm_tuned4 = metrics.accuracy_score(y_test2,y_pred_lg_model_tuned3)\n",
    "\n",
    "print(accm_tuned4)\n",
    "\n",
    "acc_train4 = lg_model_tuned_v4.score(X_train_scaler_final, y_train2)\n",
    "\n",
    "print(acc_train4)"
   ]
  },
  {
   "cell_type": "code",
   "execution_count": null,
   "id": "ab1fb4d0",
   "metadata": {},
   "outputs": [],
   "source": []
  }
 ],
 "metadata": {
  "kernelspec": {
   "display_name": "Python 3 (ipykernel)",
   "language": "python",
   "name": "python3"
  },
  "language_info": {
   "codemirror_mode": {
    "name": "ipython",
    "version": 3
   },
   "file_extension": ".py",
   "mimetype": "text/x-python",
   "name": "python",
   "nbconvert_exporter": "python",
   "pygments_lexer": "ipython3",
   "version": "3.9.8"
  }
 },
 "nbformat": 4,
 "nbformat_minor": 5
}
