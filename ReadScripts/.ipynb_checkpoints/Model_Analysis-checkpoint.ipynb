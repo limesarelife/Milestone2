{
 "cells": [
  {
   "cell_type": "code",
   "execution_count": 185,
   "id": "90c666c0",
   "metadata": {},
   "outputs": [
    {
     "name": "stderr",
     "output_type": "stream",
     "text": [
      "[nltk_data] Downloading package vader_lexicon to\n",
      "[nltk_data]     /Users/jacquelineskunda/nltk_data...\n",
      "[nltk_data]   Package vader_lexicon is already up-to-date!\n"
     ]
    }
   ],
   "source": [
    "import pandas as pd\n",
    "import numpy as np\n",
    "import plotly as py\n",
    "import plotly.express as px\n",
    "import numpy as np\n",
    "import re\n",
    "import plotly.graph_objs as go\n",
    "from plotly.offline import init_notebook_mode, iplot\n",
    "from collections import Counter\n",
    "from nltk import word_tokenize\n",
    "import nltk\n",
    "import spacy\n",
    "from spacy import displacy\n",
    "import seaborn as sns\n",
    "import string\n",
    "import en_core_web_sm\n",
    "#nlp = en_core_web_sm.load()\n",
    "nlp = spacy.load('en_core_web_sm')\n",
    "from sklearn.model_selection import train_test_split\n",
    "from sklearn.ensemble import RandomForestClassifier\n",
    "from sklearn.linear_model import LogisticRegression\n",
    "from sklearn.model_selection import RandomizedSearchCV\n",
    "from sklearn import model_selection\n",
    "from sklearn.metrics import precision_recall_fscore_support\n",
    "from sklearn.feature_extraction.text import CountVectorizer,TfidfVectorizer\n",
    "from sklearn import preprocessing\n",
    "from sklearn.preprocessing import StandardScaler\n",
    "from sklearn import metrics\n",
    "import textstat\n",
    "from sklearn.model_selection import KFold\n",
    "from sklearn.model_selection import cross_val_score\n",
    "from numpy import mean\n",
    "from numpy import std\n",
    "from sklearn import svm\n",
    "import matplotlib.pyplot as plt\n",
    "import nltk\n",
    "nltk.download('vader_lexicon')\n",
    "from nltk.sentiment.vader import SentimentIntensityAnalyzer"
   ]
  },
  {
   "cell_type": "code",
   "execution_count": 186,
   "id": "ad4927b7",
   "metadata": {},
   "outputs": [],
   "source": [
    "df_charlines = pd.read_csv(\"/Users/jacquelineskunda/Documents/GitHub/696/Milestone2/Data/Seasons_Episodes/output/charlines_df.csv\")"
   ]
  },
  {
   "cell_type": "code",
   "execution_count": 187,
   "id": "ef0d327e",
   "metadata": {},
   "outputs": [],
   "source": [
    "df_charlines.loc[df_charlines[\"Spoke_Before\"].isnull(),'Spoke_Before'] = df_charlines['Character_Fix']"
   ]
  },
  {
   "cell_type": "code",
   "execution_count": 188,
   "id": "9162508f",
   "metadata": {},
   "outputs": [
    {
     "data": {
      "text/html": [
       "<div>\n",
       "<style scoped>\n",
       "    .dataframe tbody tr th:only-of-type {\n",
       "        vertical-align: middle;\n",
       "    }\n",
       "\n",
       "    .dataframe tbody tr th {\n",
       "        vertical-align: top;\n",
       "    }\n",
       "\n",
       "    .dataframe thead th {\n",
       "        text-align: right;\n",
       "    }\n",
       "</style>\n",
       "<table border=\"1\" class=\"dataframe\">\n",
       "  <thead>\n",
       "    <tr style=\"text-align: right;\">\n",
       "      <th></th>\n",
       "      <th>Unnamed: 0</th>\n",
       "      <th>index</th>\n",
       "      <th>Character</th>\n",
       "      <th>Dialog</th>\n",
       "      <th>Season</th>\n",
       "      <th>Episode</th>\n",
       "      <th>Fix Name</th>\n",
       "      <th>Character_Fix</th>\n",
       "      <th>Spoke_Before</th>\n",
       "      <th>Character_Keep</th>\n",
       "      <th>Length Dialog</th>\n",
       "    </tr>\n",
       "  </thead>\n",
       "  <tbody>\n",
       "    <tr>\n",
       "      <th>6065</th>\n",
       "      <td>39</td>\n",
       "      <td>270</td>\n",
       "      <td>CLAUDIA</td>\n",
       "      <td>Where did you see it last?</td>\n",
       "      <td>2</td>\n",
       "      <td>9</td>\n",
       "      <td>True</td>\n",
       "      <td>CLAUDIA</td>\n",
       "      <td>SUSAN</td>\n",
       "      <td>Keep</td>\n",
       "      <td>26</td>\n",
       "    </tr>\n",
       "    <tr>\n",
       "      <th>6066</th>\n",
       "      <td>39</td>\n",
       "      <td>270</td>\n",
       "      <td>CLAUDIA</td>\n",
       "      <td>What's in there that's so important  anyway?  ...</td>\n",
       "      <td>2</td>\n",
       "      <td>9</td>\n",
       "      <td>True</td>\n",
       "      <td>CLAUDIA</td>\n",
       "      <td>SUSAN</td>\n",
       "      <td>Keep</td>\n",
       "      <td>132</td>\n",
       "    </tr>\n",
       "    <tr>\n",
       "      <th>6067</th>\n",
       "      <td>39</td>\n",
       "      <td>270</td>\n",
       "      <td>CLAUDIA</td>\n",
       "      <td>That's your ride!  Dusty??? The bag from Melva...</td>\n",
       "      <td>2</td>\n",
       "      <td>9</td>\n",
       "      <td>True</td>\n",
       "      <td>CLAUDIA</td>\n",
       "      <td>SUSAN</td>\n",
       "      <td>Keep</td>\n",
       "      <td>75</td>\n",
       "    </tr>\n",
       "  </tbody>\n",
       "</table>\n",
       "</div>"
      ],
      "text/plain": [
       "      Unnamed: 0  index Character  \\\n",
       "6065          39    270   CLAUDIA   \n",
       "6066          39    270   CLAUDIA   \n",
       "6067          39    270   CLAUDIA   \n",
       "\n",
       "                                                 Dialog  Season  Episode  \\\n",
       "6065                         Where did you see it last?       2        9   \n",
       "6066  What's in there that's so important  anyway?  ...       2        9   \n",
       "6067  That's your ride!  Dusty??? The bag from Melva...       2        9   \n",
       "\n",
       "     Fix Name Character_Fix Spoke_Before Character_Keep  Length Dialog  \n",
       "6065     True       CLAUDIA        SUSAN           Keep             26  \n",
       "6066     True       CLAUDIA        SUSAN           Keep            132  \n",
       "6067     True       CLAUDIA        SUSAN           Keep             75  "
      ]
     },
     "execution_count": 188,
     "metadata": {},
     "output_type": "execute_result"
    }
   ],
   "source": [
    "df_charlines.tail(3)"
   ]
  },
  {
   "cell_type": "code",
   "execution_count": 189,
   "id": "2ca10cc1",
   "metadata": {},
   "outputs": [],
   "source": [
    "df_charlines.dropna(subset=['Dialog'],inplace = True)"
   ]
  },
  {
   "cell_type": "code",
   "execution_count": 190,
   "id": "ae34518b",
   "metadata": {},
   "outputs": [
    {
     "data": {
      "text/plain": [
       "(5457, 10)"
      ]
     },
     "execution_count": 190,
     "metadata": {},
     "output_type": "execute_result"
    }
   ],
   "source": [
    "df_charlines.drop(['Unnamed: 0'], axis=1, inplace = True)\n",
    "df_charlines.shape"
   ]
  },
  {
   "cell_type": "code",
   "execution_count": 191,
   "id": "99e0d025",
   "metadata": {},
   "outputs": [],
   "source": [
    "df_charlines['Dialog_Check'] = df_charlines['Dialog'].apply(lambda x: x.isdigit())"
   ]
  },
  {
   "cell_type": "code",
   "execution_count": 192,
   "id": "ccc8ae6b",
   "metadata": {},
   "outputs": [],
   "source": [
    "df_charlines['Remove_Lines'] = df_charlines['Dialog'].apply(lambda x: True if \"1/\" in x else False)"
   ]
  },
  {
   "cell_type": "code",
   "execution_count": 193,
   "id": "20911e4c",
   "metadata": {},
   "outputs": [],
   "source": [
    "df_charlines2 = df_charlines[df_charlines['Remove_Lines']==False].copy()"
   ]
  },
  {
   "cell_type": "code",
   "execution_count": 194,
   "id": "021e4de7",
   "metadata": {},
   "outputs": [
    {
     "data": {
      "text/plain": [
       "(5451, 12)"
      ]
     },
     "execution_count": 194,
     "metadata": {},
     "output_type": "execute_result"
    }
   ],
   "source": [
    "df_charlines2.shape"
   ]
  },
  {
   "cell_type": "code",
   "execution_count": 195,
   "id": "296e9053",
   "metadata": {},
   "outputs": [],
   "source": [
    "df = df_charlines2.copy()\n",
    "df['Dialog_clean'] = df['Dialog'].apply(lambda x: re.sub(r'[^\\w\\s]','',x))\n",
    "df['Dialog_tokenized'] = df['Dialog_clean'].apply(lambda x: word_tokenize(x.strip().lower()))\n",
    "df['Dialog_Count'] = df['Dialog_tokenized'].apply(lambda x: len(x))\n",
    "LinesSpokeDf = df.groupby(['Character_Fix'])[\"Dialog_Count\"].sum().reset_index()\n",
    "LinesSpokeDf = LinesSpokeDf.sort_values(by=[\"Dialog_Count\"], ascending = False)"
   ]
  },
  {
   "cell_type": "code",
   "execution_count": 196,
   "id": "fd23b9ad",
   "metadata": {},
   "outputs": [],
   "source": [
    "_20df = LinesSpokeDf.head(20)"
   ]
  },
  {
   "cell_type": "code",
   "execution_count": 197,
   "id": "51f5f616",
   "metadata": {},
   "outputs": [],
   "source": [
    "top20chars = list(_20df.Character_Fix.unique())"
   ]
  },
  {
   "cell_type": "code",
   "execution_count": 198,
   "id": "af28aaf2",
   "metadata": {},
   "outputs": [],
   "source": [
    "gender = pd.read_csv('/Users/jacquelineskunda/Documents/GitHub/696/Milestone2/Data/Seasons_Episodes/output/gender_st.csv')"
   ]
  },
  {
   "cell_type": "code",
   "execution_count": 199,
   "id": "760df271",
   "metadata": {},
   "outputs": [],
   "source": [
    "df_show = df[['Character_Fix','Season',\"Episode\",\"Dialog\"]].copy()"
   ]
  },
  {
   "cell_type": "code",
   "execution_count": 200,
   "id": "bf62e7fd",
   "metadata": {},
   "outputs": [
    {
     "name": "stderr",
     "output_type": "stream",
     "text": [
      "[nltk_data] Downloading package vader_lexicon to\n",
      "[nltk_data]     /Users/jacquelineskunda/nltk_data...\n",
      "[nltk_data]   Package vader_lexicon is already up-to-date!\n"
     ]
    }
   ],
   "source": [
    "import nltk\n",
    "nltk.download('vader_lexicon')\n",
    "from nltk.sentiment.vader import SentimentIntensityAnalyzer\n",
    "\n",
    "sid = SentimentIntensityAnalyzer()\n",
    "\n",
    "def polarity(text):\n",
    "    pol = sid.polarity_scores(text)\n",
    "    return pol"
   ]
  },
  {
   "cell_type": "code",
   "execution_count": 201,
   "id": "40500df1",
   "metadata": {},
   "outputs": [],
   "source": [
    "#Function to preprocess text\n",
    "def cleaner(text):\n",
    "  \t# Create doc object\n",
    "    doc = nlp(text)\n",
    "    \n",
    "    # Generate lemmas and lower case and remove punctuation\n",
    "    lemmas = [token.lemma_.lower() for token in doc if not token.is_punct\\\n",
    "              and token.is_alpha]\n",
    "    #token.is_stop == False \n",
    "    # Remove stopwords, extra characters like numbers (second check)\n",
    "    #all_lemmas = [lemma for lemma in lemmas if lemma.isalpha]\n",
    "    \n",
    "    return \" \".join(lemmas)"
   ]
  },
  {
   "cell_type": "code",
   "execution_count": 202,
   "id": "04cce9ea",
   "metadata": {},
   "outputs": [],
   "source": [
    "df_show['token_lemma'] = df_show['Dialog'].apply(cleaner)"
   ]
  },
  {
   "cell_type": "code",
   "execution_count": 203,
   "id": "468c3136",
   "metadata": {},
   "outputs": [
    {
     "data": {
      "text/html": [
       "<div>\n",
       "<style scoped>\n",
       "    .dataframe tbody tr th:only-of-type {\n",
       "        vertical-align: middle;\n",
       "    }\n",
       "\n",
       "    .dataframe tbody tr th {\n",
       "        vertical-align: top;\n",
       "    }\n",
       "\n",
       "    .dataframe thead th {\n",
       "        text-align: right;\n",
       "    }\n",
       "</style>\n",
       "<table border=\"1\" class=\"dataframe\">\n",
       "  <thead>\n",
       "    <tr style=\"text-align: right;\">\n",
       "      <th></th>\n",
       "      <th>Character_Fix</th>\n",
       "      <th>Season</th>\n",
       "      <th>Episode</th>\n",
       "      <th>Dialog</th>\n",
       "      <th>token_lemma</th>\n",
       "    </tr>\n",
       "  </thead>\n",
       "  <tbody>\n",
       "    <tr>\n",
       "      <th>6065</th>\n",
       "      <td>CLAUDIA</td>\n",
       "      <td>2</td>\n",
       "      <td>9</td>\n",
       "      <td>Where did you see it last?</td>\n",
       "      <td>where do you see it last</td>\n",
       "    </tr>\n",
       "    <tr>\n",
       "      <th>6066</th>\n",
       "      <td>CLAUDIA</td>\n",
       "      <td>2</td>\n",
       "      <td>9</td>\n",
       "      <td>What's in there that's so important  anyway?  ...</td>\n",
       "      <td>what in there that so important anyway you loo...</td>\n",
       "    </tr>\n",
       "    <tr>\n",
       "      <th>6067</th>\n",
       "      <td>CLAUDIA</td>\n",
       "      <td>2</td>\n",
       "      <td>9</td>\n",
       "      <td>That's your ride!  Dusty??? The bag from Melva...</td>\n",
       "      <td>that your ride dusty the bag from melvald upen...</td>\n",
       "    </tr>\n",
       "  </tbody>\n",
       "</table>\n",
       "</div>"
      ],
      "text/plain": [
       "     Character_Fix  Season  Episode  \\\n",
       "6065       CLAUDIA       2        9   \n",
       "6066       CLAUDIA       2        9   \n",
       "6067       CLAUDIA       2        9   \n",
       "\n",
       "                                                 Dialog  \\\n",
       "6065                         Where did you see it last?   \n",
       "6066  What's in there that's so important  anyway?  ...   \n",
       "6067  That's your ride!  Dusty??? The bag from Melva...   \n",
       "\n",
       "                                            token_lemma  \n",
       "6065                           where do you see it last  \n",
       "6066  what in there that so important anyway you loo...  \n",
       "6067  that your ride dusty the bag from melvald upen...  "
      ]
     },
     "execution_count": 203,
     "metadata": {},
     "output_type": "execute_result"
    }
   ],
   "source": [
    "df_show.tail(3)"
   ]
  },
  {
   "cell_type": "code",
   "execution_count": 204,
   "id": "c774ae16",
   "metadata": {},
   "outputs": [],
   "source": [
    "RANDOM_SEED = 655"
   ]
  },
  {
   "cell_type": "code",
   "execution_count": 205,
   "id": "d29c0303",
   "metadata": {},
   "outputs": [],
   "source": [
    "df_show['length'] = df_show.token_lemma.apply(lambda x: len(x))"
   ]
  },
  {
   "cell_type": "code",
   "execution_count": 206,
   "id": "359fe8a6",
   "metadata": {},
   "outputs": [],
   "source": [
    "df_show2= df_show.explode(column='token_lemma').dropna(subset=['token_lemma'])\n",
    "#adding grade leve of spoken lines and difficulty\n",
    "df_show2['grade'] = df_show2.Dialog.apply(lambda x: textstat.flesch_kincaid_grade(x))\n",
    "df_show2['difficulty'] = df_show2.Dialog.apply(lambda x: textstat.difficult_words(x))\n",
    "\n",
    "#adding the compound score on again but with the token lemma\n",
    "df_show2['polarity'] = df_show2['token_lemma'].apply(polarity)  #polarity checking\n",
    "df_show2['compound']  = df_show2['polarity'].apply(lambda score_dict: score_dict['compound'])\n",
    "\n",
    "df_show2['sentiment'] = df_show2['compound'].apply(lambda x: \"Positive\" if x>=0.5 \\\n",
    "                                                     else(\"Negative\" if x<=-0.5 \\\n",
    "                                                     else \"Neutral\"))\n",
    "#filtering those who spoke less than 3 works\n",
    "df_show2['length_spk'] = df_show2['token_lemma'].apply(lambda x: len(x.split()))\n",
    "df_show2 = df_show2[df_show2['length_spk'] >3].copy()\n"
   ]
  },
  {
   "cell_type": "code",
   "execution_count": 207,
   "id": "36cb7f0b",
   "metadata": {},
   "outputs": [],
   "source": [
    "#filtering characters who appeared 2 times or less in the show\n",
    "check_appearance = df_show2.groupby(['Character_Fix'])['Character_Fix'].count()\n",
    "appearance = pd.DataFrame({'Character_Fix':check_appearance.index,'Num':check_appearance.values})"
   ]
  },
  {
   "cell_type": "code",
   "execution_count": 208,
   "id": "b774d95b",
   "metadata": {},
   "outputs": [],
   "source": [
    "appearance.sort_values(by='Num',inplace = True)"
   ]
  },
  {
   "cell_type": "code",
   "execution_count": 209,
   "id": "1211a97b",
   "metadata": {},
   "outputs": [],
   "source": [
    "df_show2 = df_show2.merge(appearance, how=\"left\", on ='Character_Fix').copy()\n",
    "df_show2 = df_show2[df_show2['Num']> 2].copy()"
   ]
  },
  {
   "cell_type": "code",
   "execution_count": 210,
   "id": "6569c2c2",
   "metadata": {},
   "outputs": [],
   "source": [
    "#Top20 Characters Only\n",
    "df_show2['TOP_20'] = df_show2['Character_Fix'].apply(lambda x: \\\n",
    "                                True if x in top20chars else False)\n",
    "\n",
    "df_show2 = df_show2[df_show2['TOP_20']==True].copy()"
   ]
  },
  {
   "cell_type": "code",
   "execution_count": 211,
   "id": "517a15b0",
   "metadata": {},
   "outputs": [
    {
     "name": "stdout",
     "output_type": "stream",
     "text": [
      "3360 841\n"
     ]
    }
   ],
   "source": [
    "train_df, test_df = np.split(df_show2.sample(frac=1, random_state=RANDOM_SEED), \n",
    "                       [int(.8*len(df_show2))])\n",
    "print(len(train_df), len(test_df))\n",
    "\n",
    "vectorizer = TfidfVectorizer(min_df = 20, stop_words = 'english')\n",
    "X_train = vectorizer.fit_transform(train_df.token_lemma)\n",
    "X_test = vectorizer.transform(test_df.token_lemma)\n",
    "\n",
    "y_train=train_df['Character_Fix'].values\n",
    "y_test=test_df['Character_Fix'].values\n",
    "\n",
    "df_tf = pd.DataFrame(X_train.toarray(), columns=vectorizer.get_feature_names_out())\n",
    "df_tf_test = pd.DataFrame(X_test.toarray(), columns=vectorizer.get_feature_names_out())\n",
    "\n",
    "tr_df = train_df.reset_index()\n",
    "tr_df_test = test_df.reset_index()\n",
    "\n",
    "train_w_feat = pd.concat([df_tf,tr_df],axis=1)\n",
    "test_w_feat = pd.concat([df_tf_test,tr_df_test],axis=1)\n",
    "\n",
    "train_w_feat.drop(['Dialog','token_lemma','index'], axis=1, inplace=True)\n",
    "test_w_feat.drop(['Dialog','token_lemma','index'], axis=1, inplace=True)\n",
    "\n",
    "train_w_features = pd.merge(train_w_feat, gender, on=\"Character_Fix\",how='left')\n",
    "test_w_features = pd.merge(test_w_feat, gender, on=\"Character_Fix\",how='left')\n",
    "\n",
    "train_w_features3 = train_w_features.drop(['Character_Fix'], axis=1).copy()\n",
    "test_w_features3 = test_w_features.drop(['Character_Fix'], axis=1).copy()\n",
    "\n",
    "train_w_features3['Gender'].replace(['Female ', 'Female','Male','Male ','Neutral'],\n",
    "                        [1, 1,2,2,0], inplace=True)\n",
    "test_w_features3['Gender'].replace(['Female ', 'Female','Male','Male ','Neutral'],\n",
    "                        [1, 1,2,2,0], inplace=True)\n",
    "\n"
   ]
  },
  {
   "cell_type": "code",
   "execution_count": 212,
   "id": "c2a93a5f",
   "metadata": {},
   "outputs": [],
   "source": [
    "train_w_features3.drop(['polarity'], axis=1, inplace = True)\n",
    "test_w_features3.drop(['polarity'], axis=1, inplace = True)\n",
    "train_w_features3['sentiment'] = train_w_features3['compound'].apply(lambda x: \"Positive\" if x>=0.5 \\\n",
    "                                                     else(\"Negative\" if x<=-0.5 \\\n",
    "                                                     else \"Neutral\"))\n",
    "test_w_features3['sentiment'] = test_w_features3['compound'].apply(lambda x: \"Positive\" if x>=0.5 \\\n",
    "                                                     else(\"Negative\" if x<=-0.5 \\\n",
    "                                                     else \"Neutral\"))"
   ]
  },
  {
   "cell_type": "code",
   "execution_count": 213,
   "id": "e9eb9f82",
   "metadata": {},
   "outputs": [],
   "source": [
    "train_w_features3['sentiment'].replace(['Negative', 'Neutral','Positive'],\n",
    "                        [-1,0,1], inplace=True)\n",
    "test_w_features3['sentiment'].replace(['Negative', 'Neutral','Positive'],\n",
    "                        [-1,0,1], inplace=True)"
   ]
  },
  {
   "cell_type": "code",
   "execution_count": 214,
   "id": "a32cfd85",
   "metadata": {},
   "outputs": [
    {
     "data": {
      "text/plain": [
       "False"
      ]
     },
     "execution_count": 214,
     "metadata": {},
     "output_type": "execute_result"
    }
   ],
   "source": [
    "train_w_features3.isna().values.any()"
   ]
  },
  {
   "cell_type": "code",
   "execution_count": 257,
   "id": "3f43b268",
   "metadata": {},
   "outputs": [],
   "source": [
    "# prepare the cross-validation procedure\n",
    "cv = KFold(n_splits=10, random_state=RANDOM_SEED, shuffle=True)\n",
    "# create model\n",
    "cv_scores = []\n",
    "model_name = []"
   ]
  },
  {
   "cell_type": "code",
   "execution_count": 258,
   "id": "51c0380b",
   "metadata": {},
   "outputs": [
    {
     "name": "stdout",
     "output_type": "stream",
     "text": [
      "Accuracy: 0.849 (0.019)\n",
      "All Accuracy Scores: %.3f [0.81547619 0.83630952 0.84821429 0.86309524 0.87202381 0.82142857\n",
      " 0.8422619  0.85119048 0.86309524 0.87202381]\n"
     ]
    }
   ],
   "source": [
    "# create model\n",
    "model_rf = RandomForestClassifier(n_estimators= 500, \n",
    "                                           min_samples_split= 20, \n",
    "                                           min_samples_leaf= 1,\n",
    "                                           max_features= 'sqrt', \n",
    "                                           max_depth= 30, \n",
    "                                           criterion= 'gini',\n",
    "                                           n_jobs = -1,\n",
    "                              random_state=RANDOM_SEED).fit(train_w_features3, y_train)\n",
    "# evaluate model\n",
    "scores_rf = cross_val_score(model_rf, train_w_features3, y_train, scoring='accuracy', cv=cv, n_jobs=-1)\n",
    "# report performance\n",
    "print('Accuracy: %.3f (%.3f)' % (mean(scores_rf), std(scores_rf)))\n",
    "print('All Accuracy Scores: %.3f',scores_rf)\n",
    "cv_scores.append(scores_rf)\n",
    "model_name.append('Random Forest Tuned')"
   ]
  },
  {
   "cell_type": "code",
   "execution_count": 259,
   "id": "670faebd",
   "metadata": {},
   "outputs": [
    {
     "name": "stdout",
     "output_type": "stream",
     "text": [
      "Accuracy: 0.903 (0.014)\n",
      "All Accuracy Scores: [0.89583333 0.88392857 0.89880952 0.93154762 0.90178571 0.88690476\n",
      " 0.9077381  0.88988095 0.91369048 0.91964286]\n"
     ]
    }
   ],
   "source": [
    "# create model\n",
    "model_rf_notune = RandomForestClassifier(n_estimators=100,\n",
    "                              max_features='sqrt',\n",
    "                              random_state=RANDOM_SEED).fit(train_w_features3, y_train)\n",
    "# evaluate model\n",
    "scores_rf2 = cross_val_score(model_rf_notune, train_w_features3, y_train, scoring='accuracy', cv=cv, n_jobs=-1)\n",
    "# report performance\n",
    "print('Accuracy: %.3f (%.3f)' % (mean(scores_rf2), std(scores_rf2)))\n",
    "print('All Accuracy Scores:',scores_rf2)\n",
    "cv_scores.append(scores_rf2)\n",
    "model_name.append('Random Forest')"
   ]
  },
  {
   "cell_type": "code",
   "execution_count": 260,
   "id": "3aaeada6",
   "metadata": {},
   "outputs": [
    {
     "name": "stdout",
     "output_type": "stream",
     "text": [
      "Accuracy: 1.000 (0.000)\n",
      "All Accuracy Scores: [1. 1. 1. 1. 1. 1. 1. 1. 1. 1.]\n"
     ]
    }
   ],
   "source": [
    "# create model\n",
    "model_svm = svm.SVC(kernel = 'linear', gamma = 0.01, degree = 1, C = 1,\n",
    "                              random_state=RANDOM_SEED,).fit(train_w_features3, y_train)\n",
    "# evaluate model\n",
    "scores_svm = cross_val_score(model_svm, train_w_features3, y_train, scoring='accuracy', cv=cv, n_jobs=-1)\n",
    "# report performance\n",
    "print('Accuracy: %.3f (%.3f)' % (mean(scores_svm), std(scores_svm)))\n",
    "print('All Accuracy Scores:',scores_svm)\n",
    "cv_scores.append(scores_svm)\n",
    "model_name.append('LinearSVM')"
   ]
  },
  {
   "cell_type": "code",
   "execution_count": 261,
   "id": "c75ed3bc",
   "metadata": {},
   "outputs": [
    {
     "name": "stdout",
     "output_type": "stream",
     "text": [
      "Accuracy: 0.825 (0.014)\n",
      "All Accuracy Scores: [0.81547619 0.81547619 0.83333333 0.84821429 0.83333333 0.80952381\n",
      " 0.8452381  0.83035714 0.80357143 0.81845238]\n"
     ]
    }
   ],
   "source": [
    "# create model\n",
    "model_lg = LogisticRegression(max_iter = 500,\n",
    "                              random_state=RANDOM_SEED,\n",
    "                              solver = 'liblinear',penalty= 'l1',\n",
    "                              C = 1.0).fit(train_w_features3, y_train)\n",
    "# evaluate model\n",
    "scores_lg = cross_val_score(model_lg, train_w_features3, y_train, scoring='accuracy', cv=cv, n_jobs=-1)\n",
    "# report performance\n",
    "print('Accuracy: %.3f (%.3f)' % (mean(scores_lg), std(scores_lg)))\n",
    "print('All Accuracy Scores:',scores_lg)\n",
    "cv_scores.append(scores_lg)\n",
    "model_name.append('Logistic Regression')"
   ]
  },
  {
   "cell_type": "code",
   "execution_count": 286,
   "id": "1492d761",
   "metadata": {},
   "outputs": [
    {
     "data": {
      "image/png": "[encoded data removed]",
      "text/plain": [
       "<Figure size 864x720 with 1 Axes>"
      ]
     },
     "metadata": {},
     "output_type": "display_data"
    }
   ],
   "source": [
    "import matplotlib.pyplot as plt\n",
    "# Plotting the cross-validated box plot \n",
    "plt.style.use(['dark_background'])\n",
    "fig, ax = plt.subplots(figsize=(12,10))\n",
    "\n",
    "#plt.suptitle('Supervised Learning Model Comparison')\n",
    "# Creating axes instance\n",
    "#ax = fig.add_axes([0, 0, 1, 1])\n",
    "\n",
    "# Creating plot\n",
    "box = ax.boxplot(cv_scores,labels = model_name,\n",
    "                 meanline=True, showmeans=True, patch_artist=True)\n",
    "#ax.set_xticklabels(model_name)\n",
    "plt.rcParams['image.cmap']='magma'\n",
    "plt.grid(False)\n",
    "ax.grid(color='white', axis='y', linestyle='-', linewidth=0.25, alpha=0.5)\n",
    "plt.rcParams.update({'text.color': \"white\",\n",
    "                     'axes.labelcolor': \"white\"})\n",
    "#figure.facecolor':'black\n",
    "plt.title(\"10 fold Cross Validation Model Comparison\",\n",
    "          {'fontsize': 12,'color': \"white\"})\n",
    "plt.rcParams['savefig.facecolor']='black'\n",
    "ax.set_xlabel('Classification Model')\n",
    "ax.set_ylabel('Accuracy Score')\n",
    "plt.rcParams['lines.color'] = 'r'\n",
    "#plt.xticks(rotation=10)\n",
    "\n",
    "colors = ['#FF0000', '#3F00FF',\n",
    "          '#FFFF00', '#51127c']\n",
    "\n",
    "for patch, color in zip(box['boxes'], colors):\n",
    "    patch.set_facecolor(color)\n",
    "\n",
    "\n",
    "plt.show()"
   ]
  },
  {
   "cell_type": "code",
   "execution_count": 287,
   "id": "647763aa",
   "metadata": {},
   "outputs": [],
   "source": [
    "data_tuples = list(zip(model_name,cv_scores))\n",
    "comp_df = pd.DataFrame(data_tuples, columns=['Model Name','Accuracy Scores'])"
   ]
  },
  {
   "cell_type": "code",
   "execution_count": 297,
   "id": "682603b7",
   "metadata": {},
   "outputs": [],
   "source": [
    "comp_df = comp_df.explode('Accuracy Scores').reset_index(drop=True)"
   ]
  },
  {
   "cell_type": "code",
   "execution_count": 298,
   "id": "667a8bfa",
   "metadata": {},
   "outputs": [],
   "source": [
    "comp_df_fin = comp_df.groupby(['Model Name'],as_index=False).agg(\n",
    "                      {'Accuracy Scores':['mean','std']})"
   ]
  },
  {
   "cell_type": "code",
   "execution_count": 300,
   "id": "37232729",
   "metadata": {},
   "outputs": [],
   "source": [
    "comp_df_fin.columns = ['Model Name','Mean Accuracy','Std Accuracy']"
   ]
  },
  {
   "cell_type": "code",
   "execution_count": 302,
   "id": "af2a604a",
   "metadata": {},
   "outputs": [],
   "source": [
    "comp_df_fin.to_csv(\"10cvalidmetrics.csv\")"
   ]
  },
  {
   "cell_type": "code",
   "execution_count": null,
   "id": "5fd0095e",
   "metadata": {},
   "outputs": [],
   "source": []
  }
 ],
 "metadata": {
  "kernelspec": {
   "display_name": "Python 3 (ipykernel)",
   "language": "python",
   "name": "python3"
  },
  "language_info": {
   "codemirror_mode": {
    "name": "ipython",
    "version": 3
   },
   "file_extension": ".py",
   "mimetype": "text/x-python",
   "name": "python",
   "nbconvert_exporter": "python",
   "pygments_lexer": "ipython3",
   "version": "3.9.8"
  }
 },
 "nbformat": 4,
 "nbformat_minor": 5
}
