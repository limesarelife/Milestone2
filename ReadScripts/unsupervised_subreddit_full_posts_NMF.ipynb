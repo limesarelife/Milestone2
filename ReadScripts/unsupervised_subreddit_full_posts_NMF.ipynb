{
 "cells": [
  {
   "cell_type": "code",
   "execution_count": 1,
   "id": "908e1448",
   "metadata": {},
   "outputs": [],
   "source": [
    "import pandas as pd"
   ]
  },
  {
   "cell_type": "code",
   "execution_count": 2,
   "id": "462c1d63",
   "metadata": {},
   "outputs": [],
   "source": [
    "dftry2 = pd.read_csv(\"posts_st.txt\",\n",
    "                    sep = '|',\n",
    "                    names = ['AUTHOR','ID','SCORE','CREATED_DATE','TITLE','NUM_COMMENTS','SELFTEXT'],\n",
    "                    header=None, lineterminator = \"\\n\")"
   ]
  },
  {
   "cell_type": "code",
   "execution_count": 3,
   "id": "0fd963eb",
   "metadata": {},
   "outputs": [
    {
     "data": {
      "text/html": [
       "<div>\n",
       "<style scoped>\n",
       "    .dataframe tbody tr th:only-of-type {\n",
       "        vertical-align: middle;\n",
       "    }\n",
       "\n",
       "    .dataframe tbody tr th {\n",
       "        vertical-align: top;\n",
       "    }\n",
       "\n",
       "    .dataframe thead th {\n",
       "        text-align: right;\n",
       "    }\n",
       "</style>\n",
       "<table border=\"1\" class=\"dataframe\">\n",
       "  <thead>\n",
       "    <tr style=\"text-align: right;\">\n",
       "      <th></th>\n",
       "      <th>AUTHOR</th>\n",
       "      <th>ID</th>\n",
       "      <th>SCORE</th>\n",
       "      <th>CREATED_DATE</th>\n",
       "      <th>TITLE</th>\n",
       "      <th>NUM_COMMENTS</th>\n",
       "      <th>SELFTEXT</th>\n",
       "    </tr>\n",
       "  </thead>\n",
       "  <tbody>\n",
       "    <tr>\n",
       "      <th>43395</th>\n",
       "      <td>Floker1</td>\n",
       "      <td>cdwiln</td>\n",
       "      <td>24310</td>\n",
       "      <td>2019-07-16</td>\n",
       "      <td>Imagine Mike and Nancy finding out that all th...</td>\n",
       "      <td>718</td>\n",
       "      <td>NaN</td>\n",
       "    </tr>\n",
       "    <tr>\n",
       "      <th>43139</th>\n",
       "      <td>Utgoffalec</td>\n",
       "      <td>cees1t</td>\n",
       "      <td>21899</td>\n",
       "      <td>2019-07-17</td>\n",
       "      <td>Hi! My name is Alec Utgoff and I play Dr. Alex...</td>\n",
       "      <td>1659</td>\n",
       "      <td>You can follow me on Twitter @AlecUtgoff and I...</td>\n",
       "    </tr>\n",
       "    <tr>\n",
       "      <th>42027</th>\n",
       "      <td>coloredneon</td>\n",
       "      <td>cibkdz</td>\n",
       "      <td>16975</td>\n",
       "      <td>2019-07-27</td>\n",
       "      <td>Wills storyline doesnt seem to be about sexual...</td>\n",
       "      <td>813</td>\n",
       "      <td>I keep seeing posts and comments about Wills s...</td>\n",
       "    </tr>\n",
       "    <tr>\n",
       "      <th>43275</th>\n",
       "      <td>brettcliffordgelman</td>\n",
       "      <td>ce4jk4</td>\n",
       "      <td>13026</td>\n",
       "      <td>2019-07-16</td>\n",
       "      <td>Im Brett Gelman aka Murray from Stranger Thing...</td>\n",
       "      <td>1225</td>\n",
       "      <td>Hi Reddit! Brett Gelman here. Im an actor and ...</td>\n",
       "    </tr>\n",
       "    <tr>\n",
       "      <th>45096</th>\n",
       "      <td>AndreyIvchenko</td>\n",
       "      <td>cbiolx</td>\n",
       "      <td>10260</td>\n",
       "      <td>2019-07-10</td>\n",
       "      <td>Hello Reddit family, it's Andrey Ivchenko here...</td>\n",
       "      <td>1114</td>\n",
       "      <td>Really excited to be here with you all today f...</td>\n",
       "    </tr>\n",
       "    <tr>\n",
       "      <th>...</th>\n",
       "      <td>...</td>\n",
       "      <td>...</td>\n",
       "      <td>...</td>\n",
       "      <td>...</td>\n",
       "      <td>...</td>\n",
       "      <td>...</td>\n",
       "      <td>...</td>\n",
       "    </tr>\n",
       "    <tr>\n",
       "      <th>62402</th>\n",
       "      <td>lendmeahann</td>\n",
       "      <td>4y0nsh</td>\n",
       "      <td>0</td>\n",
       "      <td>2016-08-16</td>\n",
       "      <td>A thought I've had since watching...</td>\n",
       "      <td>5</td>\n",
       "      <td>This isn't necessarily a theory, but I had thi...</td>\n",
       "    </tr>\n",
       "    <tr>\n",
       "      <th>33978</th>\n",
       "      <td>AnyAd8934</td>\n",
       "      <td>m4etve</td>\n",
       "      <td>0</td>\n",
       "      <td>2021-03-13</td>\n",
       "      <td>Things I would like to see in season 4</td>\n",
       "      <td>4</td>\n",
       "      <td>Keith-yes,he works now at that video store,he ...</td>\n",
       "    </tr>\n",
       "    <tr>\n",
       "      <th>45055</th>\n",
       "      <td>Pronay7</td>\n",
       "      <td>cbkeea</td>\n",
       "      <td>0</td>\n",
       "      <td>2019-07-10</td>\n",
       "      <td>I think they will link the mysteries of the St...</td>\n",
       "      <td>0</td>\n",
       "      <td>NaN</td>\n",
       "    </tr>\n",
       "    <tr>\n",
       "      <th>62406</th>\n",
       "      <td>[deleted]</td>\n",
       "      <td>4y0en0</td>\n",
       "      <td>0</td>\n",
       "      <td>2016-08-16</td>\n",
       "      <td>The sherif</td>\n",
       "      <td>0</td>\n",
       "      <td>[deleted]</td>\n",
       "    </tr>\n",
       "    <tr>\n",
       "      <th>55767</th>\n",
       "      <td>Jellysnake3486</td>\n",
       "      <td>7aws9n</td>\n",
       "      <td>0</td>\n",
       "      <td>2017-11-05</td>\n",
       "      <td>Why did everyone keep saying 11 dies at the en...</td>\n",
       "      <td>4</td>\n",
       "      <td>[removed]</td>\n",
       "    </tr>\n",
       "  </tbody>\n",
       "</table>\n",
       "<p>65507 rows × 7 columns</p>\n",
       "</div>"
      ],
      "text/plain": [
       "                    AUTHOR      ID  SCORE CREATED_DATE  \\\n",
       "43395              Floker1  cdwiln  24310   2019-07-16   \n",
       "43139           Utgoffalec  cees1t  21899   2019-07-17   \n",
       "42027          coloredneon  cibkdz  16975   2019-07-27   \n",
       "43275  brettcliffordgelman  ce4jk4  13026   2019-07-16   \n",
       "45096       AndreyIvchenko  cbiolx  10260   2019-07-10   \n",
       "...                    ...     ...    ...          ...   \n",
       "62402          lendmeahann  4y0nsh      0   2016-08-16   \n",
       "33978            AnyAd8934  m4etve      0   2021-03-13   \n",
       "45055              Pronay7  cbkeea      0   2019-07-10   \n",
       "62406            [deleted]  4y0en0      0   2016-08-16   \n",
       "55767       Jellysnake3486  7aws9n      0   2017-11-05   \n",
       "\n",
       "                                                   TITLE NUM_COMMENTS  \\\n",
       "43395  Imagine Mike and Nancy finding out that all th...          718   \n",
       "43139  Hi! My name is Alec Utgoff and I play Dr. Alex...         1659   \n",
       "42027  Wills storyline doesnt seem to be about sexual...          813   \n",
       "43275  Im Brett Gelman aka Murray from Stranger Thing...         1225   \n",
       "45096  Hello Reddit family, it's Andrey Ivchenko here...         1114   \n",
       "...                                                  ...          ...   \n",
       "62402               A thought I've had since watching...            5   \n",
       "33978             Things I would like to see in season 4            4   \n",
       "45055  I think they will link the mysteries of the St...            0   \n",
       "62406                                         The sherif            0   \n",
       "55767  Why did everyone keep saying 11 dies at the en...            4   \n",
       "\n",
       "                                                SELFTEXT  \n",
       "43395                                                NaN  \n",
       "43139  You can follow me on Twitter @AlecUtgoff and I...  \n",
       "42027  I keep seeing posts and comments about Wills s...  \n",
       "43275  Hi Reddit! Brett Gelman here. Im an actor and ...  \n",
       "45096  Really excited to be here with you all today f...  \n",
       "...                                                  ...  \n",
       "62402  This isn't necessarily a theory, but I had thi...  \n",
       "33978  Keith-yes,he works now at that video store,he ...  \n",
       "45055                                                NaN  \n",
       "62406                                          [deleted]  \n",
       "55767                                          [removed]  \n",
       "\n",
       "[65507 rows x 7 columns]"
      ]
     },
     "execution_count": 3,
     "metadata": {},
     "output_type": "execute_result"
    }
   ],
   "source": [
    "dftry2.sort_values(by=['SCORE'],ascending=False)"
   ]
  },
  {
   "cell_type": "code",
   "execution_count": 4,
   "id": "7d5e8867",
   "metadata": {},
   "outputs": [
    {
     "name": "stdout",
     "output_type": "stream",
     "text": [
      "<class 'pandas.core.frame.DataFrame'>\n",
      "RangeIndex: 65507 entries, 0 to 65506\n",
      "Data columns (total 7 columns):\n",
      " #   Column        Non-Null Count  Dtype \n",
      "---  ------        --------------  ----- \n",
      " 0   AUTHOR        65507 non-null  object\n",
      " 1   ID            65507 non-null  object\n",
      " 2   SCORE         65507 non-null  int64 \n",
      " 3   CREATED_DATE  65507 non-null  object\n",
      " 4   TITLE         65473 non-null  object\n",
      " 5   NUM_COMMENTS  65494 non-null  object\n",
      " 6   SELFTEXT      64029 non-null  object\n",
      "dtypes: int64(1), object(6)\n",
      "memory usage: 3.5+ MB\n"
     ]
    }
   ],
   "source": [
    "dftry2.info()"
   ]
  },
  {
   "cell_type": "markdown",
   "id": "dc3e27ef",
   "metadata": {},
   "source": [
    "### Removing where the title or the selftext are null and removing the posts where the moderator for the Subreddit deleted/removed the post or the original author deleted/removed the post."
   ]
  },
  {
   "cell_type": "code",
   "execution_count": 5,
   "id": "981939d8",
   "metadata": {},
   "outputs": [],
   "source": [
    "dftry2.dropna(subset=['TITLE'], inplace = True)\n",
    "dftry2.dropna(subset=['SELFTEXT'], inplace = True)\n",
    "df_touse = dftry2[dftry2['SELFTEXT'] != \"[removed]\"].copy()\n",
    "df_to_use_fin = df_touse[df_touse['SELFTEXT'] != \"[deleted]\"].copy()\n",
    "df_to_use_fin['FULL_POSTS'] = df_to_use_fin['TITLE']+\".\"+\" \"+df_touse['SELFTEXT']"
   ]
  },
  {
   "cell_type": "code",
   "execution_count": 6,
   "id": "f0a29ac6",
   "metadata": {},
   "outputs": [
    {
     "data": {
      "text/plain": [
       "(43302, 8)"
      ]
     },
     "execution_count": 6,
     "metadata": {},
     "output_type": "execute_result"
    }
   ],
   "source": [
    "df_to_use_fin.shape"
   ]
  },
  {
   "cell_type": "code",
   "execution_count": 7,
   "id": "67075b83",
   "metadata": {},
   "outputs": [],
   "source": [
    "check = df_to_use_fin[df_to_use_fin['ID'] == 'vow5wm']\n",
    "#check = dftry[dftry['ID'] == '7pzv67']"
   ]
  },
  {
   "cell_type": "code",
   "execution_count": 8,
   "id": "9cb90f63",
   "metadata": {},
   "outputs": [
    {
     "data": {
      "text/html": [
       "<div>\n",
       "<style scoped>\n",
       "    .dataframe tbody tr th:only-of-type {\n",
       "        vertical-align: middle;\n",
       "    }\n",
       "\n",
       "    .dataframe tbody tr th {\n",
       "        vertical-align: top;\n",
       "    }\n",
       "\n",
       "    .dataframe thead th {\n",
       "        text-align: right;\n",
       "    }\n",
       "</style>\n",
       "<table border=\"1\" class=\"dataframe\">\n",
       "  <thead>\n",
       "    <tr style=\"text-align: right;\">\n",
       "      <th></th>\n",
       "      <th>AUTHOR</th>\n",
       "      <th>ID</th>\n",
       "      <th>SCORE</th>\n",
       "      <th>CREATED_DATE</th>\n",
       "      <th>TITLE</th>\n",
       "      <th>NUM_COMMENTS</th>\n",
       "      <th>SELFTEXT</th>\n",
       "      <th>FULL_POSTS</th>\n",
       "    </tr>\n",
       "  </thead>\n",
       "  <tbody>\n",
       "    <tr>\n",
       "      <th>15179</th>\n",
       "      <td>StrangerTesting</td>\n",
       "      <td>vow5wm</td>\n",
       "      <td>1</td>\n",
       "      <td>2022-07-01</td>\n",
       "      <td>Stranger Things Season 4 Volume 2 Series Discu...</td>\n",
       "      <td>1</td>\n",
       "      <td># In this thread you can discuss the entirety ...</td>\n",
       "      <td>Stranger Things Season 4 Volume 2 Series Discu...</td>\n",
       "    </tr>\n",
       "  </tbody>\n",
       "</table>\n",
       "</div>"
      ],
      "text/plain": [
       "                AUTHOR      ID  SCORE CREATED_DATE  \\\n",
       "15179  StrangerTesting  vow5wm      1   2022-07-01   \n",
       "\n",
       "                                                   TITLE NUM_COMMENTS  \\\n",
       "15179  Stranger Things Season 4 Volume 2 Series Discu...            1   \n",
       "\n",
       "                                                SELFTEXT  \\\n",
       "15179  # In this thread you can discuss the entirety ...   \n",
       "\n",
       "                                              FULL_POSTS  \n",
       "15179  Stranger Things Season 4 Volume 2 Series Discu...  "
      ]
     },
     "execution_count": 8,
     "metadata": {},
     "output_type": "execute_result"
    }
   ],
   "source": [
    "check"
   ]
  },
  {
   "cell_type": "code",
   "execution_count": 9,
   "id": "47220668",
   "metadata": {},
   "outputs": [
    {
     "data": {
      "text/plain": [
       "43302"
      ]
     },
     "execution_count": 9,
     "metadata": {},
     "output_type": "execute_result"
    }
   ],
   "source": [
    "len(df_to_use_fin.ID.unique())"
   ]
  },
  {
   "cell_type": "code",
   "execution_count": 10,
   "id": "7215aece",
   "metadata": {},
   "outputs": [],
   "source": [
    "df_to_use_fin['CREATED_DATE'] = pd.to_datetime(df_to_use_fin['CREATED_DATE'])"
   ]
  },
  {
   "cell_type": "markdown",
   "id": "c056df61",
   "metadata": {},
   "source": [
    "### Only keeping posts from the release date of season 3 to current"
   ]
  },
  {
   "cell_type": "code",
   "execution_count": 11,
   "id": "450d6137",
   "metadata": {},
   "outputs": [],
   "source": [
    "df_to_use_fin = df_to_use_fin[df_to_use_fin['CREATED_DATE']> \"2019-07-04\"].copy()"
   ]
  },
  {
   "cell_type": "code",
   "execution_count": 12,
   "id": "5327fcb2",
   "metadata": {},
   "outputs": [
    {
     "data": {
      "text/plain": [
       "(31643, 8)"
      ]
     },
     "execution_count": 12,
     "metadata": {},
     "output_type": "execute_result"
    }
   ],
   "source": [
    "df_to_use_fin.shape"
   ]
  },
  {
   "cell_type": "code",
   "execution_count": 13,
   "id": "d3377738",
   "metadata": {},
   "outputs": [
    {
     "data": {
      "text/html": [
       "<div>\n",
       "<style scoped>\n",
       "    .dataframe tbody tr th:only-of-type {\n",
       "        vertical-align: middle;\n",
       "    }\n",
       "\n",
       "    .dataframe tbody tr th {\n",
       "        vertical-align: top;\n",
       "    }\n",
       "\n",
       "    .dataframe thead th {\n",
       "        text-align: right;\n",
       "    }\n",
       "</style>\n",
       "<table border=\"1\" class=\"dataframe\">\n",
       "  <thead>\n",
       "    <tr style=\"text-align: right;\">\n",
       "      <th></th>\n",
       "      <th>AUTHOR</th>\n",
       "      <th>ID</th>\n",
       "      <th>SCORE</th>\n",
       "      <th>CREATED_DATE</th>\n",
       "      <th>TITLE</th>\n",
       "      <th>NUM_COMMENTS</th>\n",
       "      <th>SELFTEXT</th>\n",
       "      <th>FULL_POSTS</th>\n",
       "    </tr>\n",
       "  </thead>\n",
       "  <tbody>\n",
       "    <tr>\n",
       "      <th>1</th>\n",
       "      <td>Lower-Adhesiveness-3</td>\n",
       "      <td>y1yfqt</td>\n",
       "      <td>1</td>\n",
       "      <td>2022-10-12</td>\n",
       "      <td>The upsidedown turns on Vecna, can he survive?</td>\n",
       "      <td>1</td>\n",
       "      <td>For some reason Vecna loses all his control ov...</td>\n",
       "      <td>The upsidedown turns on Vecna, can he survive?...</td>\n",
       "    </tr>\n",
       "    <tr>\n",
       "      <th>2</th>\n",
       "      <td>mrs_bombastic22</td>\n",
       "      <td>y1yf6g</td>\n",
       "      <td>1</td>\n",
       "      <td>2022-10-12</td>\n",
       "      <td>Season 4 rewatch - 2 questions</td>\n",
       "      <td>1</td>\n",
       "      <td>When 001 went on his killing spree in the lab....</td>\n",
       "      <td>Season 4 rewatch - 2 questions. When 001 went ...</td>\n",
       "    </tr>\n",
       "    <tr>\n",
       "      <th>8</th>\n",
       "      <td>ReliefComplex4339</td>\n",
       "      <td>y1sa5w</td>\n",
       "      <td>1</td>\n",
       "      <td>2022-10-12</td>\n",
       "      <td>Dear Billy and Vecna</td>\n",
       "      <td>1</td>\n",
       "      <td>So by episode 2-3 the kids were already convin...</td>\n",
       "      <td>Dear Billy and Vecna. So by episode 2-3 the ki...</td>\n",
       "    </tr>\n",
       "    <tr>\n",
       "      <th>9</th>\n",
       "      <td>EstablishmentWild263</td>\n",
       "      <td>y1s62k</td>\n",
       "      <td>1</td>\n",
       "      <td>2022-10-12</td>\n",
       "      <td>The Demogorgon(S1) is the child of Vecna</td>\n",
       "      <td>1</td>\n",
       "      <td>After four seasons Ive noticed the secon...</td>\n",
       "      <td>The Demogorgon(S1) is the child of Vecna.     ...</td>\n",
       "    </tr>\n",
       "    <tr>\n",
       "      <th>12</th>\n",
       "      <td>Lrac247</td>\n",
       "      <td>y1qzzh</td>\n",
       "      <td>1</td>\n",
       "      <td>2022-10-12</td>\n",
       "      <td>Anyone like my new creation?</td>\n",
       "      <td>1</td>\n",
       "      <td>&amp;amp;#x200B;https://preview.redd.it/67sxlhr77a...</td>\n",
       "      <td>Anyone like my new creation?. &amp;amp;#x200B;http...</td>\n",
       "    </tr>\n",
       "    <tr>\n",
       "      <th>...</th>\n",
       "      <td>...</td>\n",
       "      <td>...</td>\n",
       "      <td>...</td>\n",
       "      <td>...</td>\n",
       "      <td>...</td>\n",
       "      <td>...</td>\n",
       "      <td>...</td>\n",
       "      <td>...</td>\n",
       "    </tr>\n",
       "    <tr>\n",
       "      <th>48331</th>\n",
       "      <td>embarrassingaf123</td>\n",
       "      <td>c99gpu</td>\n",
       "      <td>9</td>\n",
       "      <td>2019-07-05</td>\n",
       "      <td>Next time I have a relationship struggle, I'm ...</td>\n",
       "      <td>8</td>\n",
       "      <td>This guy seems to just work</td>\n",
       "      <td>Next time I have a relationship struggle, I'm ...</td>\n",
       "    </tr>\n",
       "    <tr>\n",
       "      <th>48333</th>\n",
       "      <td>Aseph88</td>\n",
       "      <td>c99g2p</td>\n",
       "      <td>1</td>\n",
       "      <td>2019-07-05</td>\n",
       "      <td>[minor spoilers]Thought Kline's sign looked fa...</td>\n",
       "      <td>0</td>\n",
       "      <td>Sorry for getting political but couldnt help b...</td>\n",
       "      <td>[minor spoilers]Thought Kline's sign looked fa...</td>\n",
       "    </tr>\n",
       "    <tr>\n",
       "      <th>48334</th>\n",
       "      <td>Imperial3agle</td>\n",
       "      <td>c99fxn</td>\n",
       "      <td>1</td>\n",
       "      <td>2019-07-05</td>\n",
       "      <td>[No Spoilers] How sure are we that there will ...</td>\n",
       "      <td>10</td>\n",
       "      <td>By the way, I have only seen the first 4 episo...</td>\n",
       "      <td>[No Spoilers] How sure are we that there will ...</td>\n",
       "    </tr>\n",
       "    <tr>\n",
       "      <th>48335</th>\n",
       "      <td>dudeRedditSucksNow</td>\n",
       "      <td>c99ft9</td>\n",
       "      <td>1</td>\n",
       "      <td>2019-07-05</td>\n",
       "      <td>In episode 2 where Joyce is watching Friends, ...</td>\n",
       "      <td>2</td>\n",
       "      <td>We can confirm an exact timeline of the show u...</td>\n",
       "      <td>In episode 2 where Joyce is watching Friends, ...</td>\n",
       "    </tr>\n",
       "    <tr>\n",
       "      <th>48336</th>\n",
       "      <td>Marty_McFlyJR</td>\n",
       "      <td>c99fc6</td>\n",
       "      <td>627</td>\n",
       "      <td>2019-07-05</td>\n",
       "      <td>Uhm... Why so I feel like I'm the only one...</td>\n",
       "      <td>69</td>\n",
       "      <td>That feels bad about Billy? He was literally a...</td>\n",
       "      <td>Uhm... Why so I feel like I'm the only one.......</td>\n",
       "    </tr>\n",
       "  </tbody>\n",
       "</table>\n",
       "<p>31643 rows × 8 columns</p>\n",
       "</div>"
      ],
      "text/plain": [
       "                     AUTHOR      ID  SCORE CREATED_DATE  \\\n",
       "1      Lower-Adhesiveness-3  y1yfqt      1   2022-10-12   \n",
       "2           mrs_bombastic22  y1yf6g      1   2022-10-12   \n",
       "8         ReliefComplex4339  y1sa5w      1   2022-10-12   \n",
       "9      EstablishmentWild263  y1s62k      1   2022-10-12   \n",
       "12                  Lrac247  y1qzzh      1   2022-10-12   \n",
       "...                     ...     ...    ...          ...   \n",
       "48331     embarrassingaf123  c99gpu      9   2019-07-05   \n",
       "48333               Aseph88  c99g2p      1   2019-07-05   \n",
       "48334         Imperial3agle  c99fxn      1   2019-07-05   \n",
       "48335    dudeRedditSucksNow  c99ft9      1   2019-07-05   \n",
       "48336         Marty_McFlyJR  c99fc6    627   2019-07-05   \n",
       "\n",
       "                                                   TITLE NUM_COMMENTS  \\\n",
       "1         The upsidedown turns on Vecna, can he survive?            1   \n",
       "2                         Season 4 rewatch - 2 questions            1   \n",
       "8                                   Dear Billy and Vecna            1   \n",
       "9               The Demogorgon(S1) is the child of Vecna            1   \n",
       "12                          Anyone like my new creation?            1   \n",
       "...                                                  ...          ...   \n",
       "48331  Next time I have a relationship struggle, I'm ...            8   \n",
       "48333  [minor spoilers]Thought Kline's sign looked fa...            0   \n",
       "48334  [No Spoilers] How sure are we that there will ...           10   \n",
       "48335  In episode 2 where Joyce is watching Friends, ...            2   \n",
       "48336      Uhm... Why so I feel like I'm the only one...           69   \n",
       "\n",
       "                                                SELFTEXT  \\\n",
       "1      For some reason Vecna loses all his control ov...   \n",
       "2      When 001 went on his killing spree in the lab....   \n",
       "8      So by episode 2-3 the kids were already convin...   \n",
       "9            After four seasons Ive noticed the secon...   \n",
       "12     &amp;#x200B;https://preview.redd.it/67sxlhr77a...   \n",
       "...                                                  ...   \n",
       "48331                        This guy seems to just work   \n",
       "48333  Sorry for getting political but couldnt help b...   \n",
       "48334  By the way, I have only seen the first 4 episo...   \n",
       "48335  We can confirm an exact timeline of the show u...   \n",
       "48336  That feels bad about Billy? He was literally a...   \n",
       "\n",
       "                                              FULL_POSTS  \n",
       "1      The upsidedown turns on Vecna, can he survive?...  \n",
       "2      Season 4 rewatch - 2 questions. When 001 went ...  \n",
       "8      Dear Billy and Vecna. So by episode 2-3 the ki...  \n",
       "9      The Demogorgon(S1) is the child of Vecna.     ...  \n",
       "12     Anyone like my new creation?. &amp;#x200B;http...  \n",
       "...                                                  ...  \n",
       "48331  Next time I have a relationship struggle, I'm ...  \n",
       "48333  [minor spoilers]Thought Kline's sign looked fa...  \n",
       "48334  [No Spoilers] How sure are we that there will ...  \n",
       "48335  In episode 2 where Joyce is watching Friends, ...  \n",
       "48336  Uhm... Why so I feel like I'm the only one.......  \n",
       "\n",
       "[31643 rows x 8 columns]"
      ]
     },
     "execution_count": 13,
     "metadata": {},
     "output_type": "execute_result"
    }
   ],
   "source": [
    "df_to_use_fin"
   ]
  },
  {
   "cell_type": "code",
   "execution_count": 14,
   "id": "6c93748a",
   "metadata": {
    "scrolled": false
   },
   "outputs": [],
   "source": [
    "import spacy\n",
    "from spacy import displacy"
   ]
  },
  {
   "cell_type": "code",
   "execution_count": 15,
   "id": "6ed0567c",
   "metadata": {
    "scrolled": true
   },
   "outputs": [],
   "source": [
    "#pip install https://github.com/explosion/spacy-models/releases/download/en_core_web_sm-3.0.0/en_core_web_sm-3.0.0.tar.gz"
   ]
  },
  {
   "cell_type": "code",
   "execution_count": 16,
   "id": "04e7f84b",
   "metadata": {},
   "outputs": [],
   "source": [
    "import pandas as pd\n",
    "import numpy as np\n",
    "import matplotlib.pyplot as plt\n",
    "import seaborn as sns\n",
    "import string\n",
    "import nltk\n",
    "import en_core_web_sm\n",
    "#nlp = en_core_web_sm.load()\n",
    "nlp = spacy.load('en_core_web_sm')"
   ]
  },
  {
   "cell_type": "code",
   "execution_count": 17,
   "id": "dcd7d1ba",
   "metadata": {},
   "outputs": [],
   "source": [
    "# Text Cleaning Function\n",
    "import re\n",
    "\n",
    "def clean(text):\n",
    "    allowed_postags=[\"NOUN\", \"VERB\", \"ADJ\", \"ADV\", \"ADP\", \"PROPN\"]\n",
    "    \n",
    "    try: \n",
    "        text1 = re.sub(r\"http\\S+\", \"\", text)\n",
    "        #Convert text in lower case\n",
    "        text2 = text1.lower()\n",
    "        #text3 = text2.replace(\"[^a-zA-Z#]\", \" \")\n",
    "        #Removing Punctuations\n",
    "        punc_removed = text2.translate(str.maketrans('', '', string.punctuation))\n",
    "        doc= nlp(punc_removed)\n",
    "        text_out = [token.lemma_ for token in doc if token.is_stop == False and \\\n",
    "                    token.is_alpha and len(token)>2 and token.pos_ in allowed_postags\\\n",
    "                   ]\n",
    "        #txt = ' '.join(text_out)\n",
    "    except:\n",
    "        #txt = ''\n",
    "        text_out = ''\n",
    "    return text_out"
   ]
  },
  {
   "cell_type": "code",
   "execution_count": 18,
   "id": "f1825580",
   "metadata": {},
   "outputs": [],
   "source": [
    "df_to_use_fin['token_lemma'] = df_to_use_fin['FULL_POSTS'].apply(clean)"
   ]
  },
  {
   "cell_type": "code",
   "execution_count": 19,
   "id": "f439c06e",
   "metadata": {},
   "outputs": [
    {
     "name": "stderr",
     "output_type": "stream",
     "text": [
      "[nltk_data] Downloading package vader_lexicon to\n",
      "[nltk_data]     /Users/jacquelineskunda/nltk_data...\n",
      "[nltk_data]   Package vader_lexicon is already up-to-date!\n"
     ]
    },
    {
     "name": "stdout",
     "output_type": "stream",
     "text": [
      "polarity checked successfull\n"
     ]
    }
   ],
   "source": [
    "nltk.download('vader_lexicon')\n",
    "from nltk.sentiment.vader import SentimentIntensityAnalyzer\n",
    "\n",
    "sid = SentimentIntensityAnalyzer()\n",
    "\n",
    "def polarity(text):\n",
    "    pol = sid.polarity_scores(text)\n",
    "    return pol\n",
    "#polarity checking\n",
    "def joiner(text):\n",
    "    txt = ' '.join(text)\n",
    "    return txt\n",
    "df_to_use_fin['FULL_POSTS_CLEAN'] = df_to_use_fin['token_lemma'].apply(joiner)\n",
    "df_to_use_fin['polarity'] = df_to_use_fin['FULL_POSTS_CLEAN'].apply(polarity)\n",
    "df_to_use_fin['compound']  = df_to_use_fin['polarity'].apply(lambda score_dict: score_dict['compound'])\n",
    "\n",
    "df_to_use_fin['sentiment'] = df_to_use_fin['compound'].apply(lambda x: \"Positive\" if x>0 else(\"Negative\" if x<0 else \"Neutral\") )\n",
    "print(\"polarity checked successfull\")"
   ]
  },
  {
   "cell_type": "code",
   "execution_count": 20,
   "id": "1bcb6b6b",
   "metadata": {},
   "outputs": [
    {
     "data": {
      "text/plain": [
       "(31643, 13)"
      ]
     },
     "execution_count": 20,
     "metadata": {},
     "output_type": "execute_result"
    }
   ],
   "source": [
    "df_to_use_fin.shape"
   ]
  },
  {
   "cell_type": "markdown",
   "id": "b943840c",
   "metadata": {},
   "source": [
    "### Remove posts where the tokenized and lemmatized title+selftext, aka POSTS, have a length less than 5."
   ]
  },
  {
   "cell_type": "code",
   "execution_count": 21,
   "id": "a40ceed0",
   "metadata": {},
   "outputs": [
    {
     "data": {
      "text/plain": [
       "(30660, 14)"
      ]
     },
     "execution_count": 21,
     "metadata": {},
     "output_type": "execute_result"
    }
   ],
   "source": [
    "df_to_use_fin['tok_len'] = df_to_use_fin['token_lemma'].apply(lambda x: len(x))\n",
    "df_to_use_fin.groupby(['tok_len'])['tok_len'].count()#[48310]\n",
    "df_to_use_fin = df_to_use_fin[df_to_use_fin['tok_len']>=5].copy()\n",
    "df_to_use_fin.shape"
   ]
  },
  {
   "cell_type": "code",
   "execution_count": 22,
   "id": "21b3670b",
   "metadata": {},
   "outputs": [
    {
     "data": {
      "text/html": [
       "<div>\n",
       "<style scoped>\n",
       "    .dataframe tbody tr th:only-of-type {\n",
       "        vertical-align: middle;\n",
       "    }\n",
       "\n",
       "    .dataframe tbody tr th {\n",
       "        vertical-align: top;\n",
       "    }\n",
       "\n",
       "    .dataframe thead th {\n",
       "        text-align: right;\n",
       "    }\n",
       "</style>\n",
       "<table border=\"1\" class=\"dataframe\">\n",
       "  <thead>\n",
       "    <tr style=\"text-align: right;\">\n",
       "      <th></th>\n",
       "      <th>AUTHOR</th>\n",
       "      <th>ID</th>\n",
       "      <th>SCORE</th>\n",
       "      <th>CREATED_DATE</th>\n",
       "      <th>TITLE</th>\n",
       "      <th>NUM_COMMENTS</th>\n",
       "      <th>SELFTEXT</th>\n",
       "      <th>FULL_POSTS</th>\n",
       "      <th>token_lemma</th>\n",
       "      <th>FULL_POSTS_CLEAN</th>\n",
       "      <th>polarity</th>\n",
       "      <th>compound</th>\n",
       "      <th>sentiment</th>\n",
       "      <th>tok_len</th>\n",
       "    </tr>\n",
       "  </thead>\n",
       "  <tbody>\n",
       "    <tr>\n",
       "      <th>1</th>\n",
       "      <td>Lower-Adhesiveness-3</td>\n",
       "      <td>y1yfqt</td>\n",
       "      <td>1</td>\n",
       "      <td>2022-10-12</td>\n",
       "      <td>The upsidedown turns on Vecna, can he survive?</td>\n",
       "      <td>1</td>\n",
       "      <td>For some reason Vecna loses all his control ov...</td>\n",
       "      <td>The upsidedown turns on Vecna, can he survive?...</td>\n",
       "      <td>[upsidedown, turn, vecna, survive, reason, vec...</td>\n",
       "      <td>upsidedown turn vecna survive reason vecna los...</td>\n",
       "      <td>{'neg': 0.365, 'neu': 0.635, 'pos': 0.0, 'comp...</td>\n",
       "      <td>-0.8720</td>\n",
       "      <td>Negative</td>\n",
       "      <td>23</td>\n",
       "    </tr>\n",
       "    <tr>\n",
       "      <th>2</th>\n",
       "      <td>mrs_bombastic22</td>\n",
       "      <td>y1yf6g</td>\n",
       "      <td>1</td>\n",
       "      <td>2022-10-12</td>\n",
       "      <td>Season 4 rewatch - 2 questions</td>\n",
       "      <td>1</td>\n",
       "      <td>When 001 went on his killing spree in the lab....</td>\n",
       "      <td>Season 4 rewatch - 2 questions. When 001 went ...</td>\n",
       "      <td>[season, rewatch, question, go, killing, spree...</td>\n",
       "      <td>season rewatch question go killing spree lab k...</td>\n",
       "      <td>{'neg': 0.503, 'neu': 0.497, 'pos': 0.0, 'comp...</td>\n",
       "      <td>-0.8779</td>\n",
       "      <td>Negative</td>\n",
       "      <td>11</td>\n",
       "    </tr>\n",
       "  </tbody>\n",
       "</table>\n",
       "</div>"
      ],
      "text/plain": [
       "                 AUTHOR      ID  SCORE CREATED_DATE  \\\n",
       "1  Lower-Adhesiveness-3  y1yfqt      1   2022-10-12   \n",
       "2       mrs_bombastic22  y1yf6g      1   2022-10-12   \n",
       "\n",
       "                                            TITLE NUM_COMMENTS  \\\n",
       "1  The upsidedown turns on Vecna, can he survive?            1   \n",
       "2                  Season 4 rewatch - 2 questions            1   \n",
       "\n",
       "                                            SELFTEXT  \\\n",
       "1  For some reason Vecna loses all his control ov...   \n",
       "2  When 001 went on his killing spree in the lab....   \n",
       "\n",
       "                                          FULL_POSTS  \\\n",
       "1  The upsidedown turns on Vecna, can he survive?...   \n",
       "2  Season 4 rewatch - 2 questions. When 001 went ...   \n",
       "\n",
       "                                         token_lemma  \\\n",
       "1  [upsidedown, turn, vecna, survive, reason, vec...   \n",
       "2  [season, rewatch, question, go, killing, spree...   \n",
       "\n",
       "                                    FULL_POSTS_CLEAN  \\\n",
       "1  upsidedown turn vecna survive reason vecna los...   \n",
       "2  season rewatch question go killing spree lab k...   \n",
       "\n",
       "                                            polarity  compound sentiment  \\\n",
       "1  {'neg': 0.365, 'neu': 0.635, 'pos': 0.0, 'comp...   -0.8720  Negative   \n",
       "2  {'neg': 0.503, 'neu': 0.497, 'pos': 0.0, 'comp...   -0.8779  Negative   \n",
       "\n",
       "   tok_len  \n",
       "1       23  \n",
       "2       11  "
      ]
     },
     "execution_count": 22,
     "metadata": {},
     "output_type": "execute_result"
    }
   ],
   "source": [
    "df_to_use_fin.head(2)"
   ]
  },
  {
   "cell_type": "markdown",
   "id": "d47e6107",
   "metadata": {},
   "source": [
    "## Non Negative Matrix Factorization"
   ]
  },
  {
   "cell_type": "code",
   "execution_count": 23,
   "id": "8b77493e",
   "metadata": {},
   "outputs": [],
   "source": [
    "RANDOM_SEED = 655"
   ]
  },
  {
   "cell_type": "code",
   "execution_count": 24,
   "id": "3c30f881",
   "metadata": {},
   "outputs": [],
   "source": [
    "import pandas as pd\n",
    "from sklearn.cluster import DBSCAN\n",
    "import numpy as np\n",
    "import seaborn as sns\n",
    "\n",
    "# import the dataset from sklearn\n",
    "from sklearn.decomposition import NMF\n",
    "from sklearn.feature_extraction.text import TfidfVectorizer\n",
    "\n",
    "# import other required libs\n",
    "import pandas as pd\n",
    "\n",
    "# string manipulation libs\n",
    "import re\n",
    "import string\n",
    "import nltk\n",
    "from nltk.corpus import stopwords\n",
    "\n",
    "#metrics and etc\n",
    "from sklearn import metrics\n",
    "from sklearn.datasets import make_blobs\n",
    "from sklearn.preprocessing import StandardScaler"
   ]
  },
  {
   "cell_type": "code",
   "execution_count": 25,
   "id": "c0561028",
   "metadata": {},
   "outputs": [
    {
     "data": {
      "text/html": [
       "<div>\n",
       "<style scoped>\n",
       "    .dataframe tbody tr th:only-of-type {\n",
       "        vertical-align: middle;\n",
       "    }\n",
       "\n",
       "    .dataframe tbody tr th {\n",
       "        vertical-align: top;\n",
       "    }\n",
       "\n",
       "    .dataframe thead th {\n",
       "        text-align: right;\n",
       "    }\n",
       "</style>\n",
       "<table border=\"1\" class=\"dataframe\">\n",
       "  <thead>\n",
       "    <tr style=\"text-align: right;\">\n",
       "      <th></th>\n",
       "      <th>AUTHOR</th>\n",
       "      <th>ID</th>\n",
       "      <th>SCORE</th>\n",
       "      <th>CREATED_DATE</th>\n",
       "      <th>TITLE</th>\n",
       "      <th>NUM_COMMENTS</th>\n",
       "      <th>SELFTEXT</th>\n",
       "      <th>FULL_POSTS</th>\n",
       "      <th>token_lemma</th>\n",
       "      <th>FULL_POSTS_CLEAN</th>\n",
       "      <th>polarity</th>\n",
       "      <th>compound</th>\n",
       "      <th>sentiment</th>\n",
       "      <th>tok_len</th>\n",
       "    </tr>\n",
       "  </thead>\n",
       "  <tbody>\n",
       "    <tr>\n",
       "      <th>1</th>\n",
       "      <td>Lower-Adhesiveness-3</td>\n",
       "      <td>y1yfqt</td>\n",
       "      <td>1</td>\n",
       "      <td>2022-10-12</td>\n",
       "      <td>The upsidedown turns on Vecna, can he survive?</td>\n",
       "      <td>1</td>\n",
       "      <td>For some reason Vecna loses all his control ov...</td>\n",
       "      <td>The upsidedown turns on Vecna, can he survive?...</td>\n",
       "      <td>[upsidedown, turn, vecna, survive, reason, vec...</td>\n",
       "      <td>upsidedown turn vecna survive reason vecna los...</td>\n",
       "      <td>{'neg': 0.365, 'neu': 0.635, 'pos': 0.0, 'comp...</td>\n",
       "      <td>-0.872</td>\n",
       "      <td>Negative</td>\n",
       "      <td>23</td>\n",
       "    </tr>\n",
       "  </tbody>\n",
       "</table>\n",
       "</div>"
      ],
      "text/plain": [
       "                 AUTHOR      ID  SCORE CREATED_DATE  \\\n",
       "1  Lower-Adhesiveness-3  y1yfqt      1   2022-10-12   \n",
       "\n",
       "                                            TITLE NUM_COMMENTS  \\\n",
       "1  The upsidedown turns on Vecna, can he survive?            1   \n",
       "\n",
       "                                            SELFTEXT  \\\n",
       "1  For some reason Vecna loses all his control ov...   \n",
       "\n",
       "                                          FULL_POSTS  \\\n",
       "1  The upsidedown turns on Vecna, can he survive?...   \n",
       "\n",
       "                                         token_lemma  \\\n",
       "1  [upsidedown, turn, vecna, survive, reason, vec...   \n",
       "\n",
       "                                    FULL_POSTS_CLEAN  \\\n",
       "1  upsidedown turn vecna survive reason vecna los...   \n",
       "\n",
       "                                            polarity  compound sentiment  \\\n",
       "1  {'neg': 0.365, 'neu': 0.635, 'pos': 0.0, 'comp...    -0.872  Negative   \n",
       "\n",
       "   tok_len  \n",
       "1       23  "
      ]
     },
     "execution_count": 25,
     "metadata": {},
     "output_type": "execute_result"
    }
   ],
   "source": [
    "df = df_to_use_fin.copy()\n",
    "df.head(1)"
   ]
  },
  {
   "cell_type": "code",
   "execution_count": 69,
   "id": "f306b4fe",
   "metadata": {},
   "outputs": [],
   "source": [
    "df.reset_index(inplace = True)"
   ]
  },
  {
   "cell_type": "code",
   "execution_count": 26,
   "id": "46ddff69",
   "metadata": {},
   "outputs": [],
   "source": [
    "from sklearn.feature_extraction.text import TfidfVectorizer\n",
    "from sklearn.feature_extraction.text import CountVectorizer\n",
    "\n",
    "import pandas as pd\n",
    "tf_idf_vectorizer = TfidfVectorizer(max_features=20000, min_df=10) #1\n",
    "tf_idf = tf_idf_vectorizer.fit_transform(df_to_use_fin['FULL_POSTS_CLEAN']) #2\n",
    "#tf_idf_array = tf_idf.toarray() \n",
    "X = pd.DataFrame(tf_idf.toarray(),columns=tf_idf_vectorizer.get_feature_names_out())#4"
   ]
  },
  {
   "cell_type": "code",
   "execution_count": 27,
   "id": "c5fafe87",
   "metadata": {},
   "outputs": [
    {
     "data": {
      "text/plain": [
       "(30660, 6205)"
      ]
     },
     "execution_count": 27,
     "metadata": {},
     "output_type": "execute_result"
    }
   ],
   "source": [
    "X.shape"
   ]
  },
  {
   "cell_type": "code",
   "execution_count": 28,
   "id": "4c1bcc0e",
   "metadata": {},
   "outputs": [
    {
     "name": "stderr",
     "output_type": "stream",
     "text": [
      "/usr/local/lib/python3.9/site-packages/sklearn/decomposition/_nmf.py:289: FutureWarning: The 'init' value, when 'init=None' and n_components is less than n_samples and n_features, will be changed from 'nndsvd' to 'nndsvda' in 1.1 (renaming of 0.26).\n",
      "  warnings.warn(\n"
     ]
    }
   ],
   "source": [
    "#Trying NMF on just 10 topics with basic parameters\n",
    "# Create an NMF instance: model\n",
    "# the 10 components will be the topics\n",
    "model = NMF(n_components=10, random_state=RANDOM_SEED)\n",
    " \n",
    "# Fit the model to TF-IDF\n",
    "model.fit(tf_idf)\n",
    " \n",
    "# Transform the TF-IDF: nmf_features\n",
    "nmf_features = model.transform(tf_idf)"
   ]
  },
  {
   "cell_type": "code",
   "execution_count": 29,
   "id": "940b8237",
   "metadata": {},
   "outputs": [
    {
     "data": {
      "text/plain": [
       "(30660, 10)"
      ]
     },
     "execution_count": 29,
     "metadata": {},
     "output_type": "execute_result"
    }
   ],
   "source": [
    "nmf_features.shape"
   ]
  },
  {
   "cell_type": "code",
   "execution_count": 30,
   "id": "4130ee73",
   "metadata": {},
   "outputs": [
    {
     "data": {
      "text/plain": [
       "(10, 6205)"
      ]
     },
     "execution_count": 30,
     "metadata": {},
     "output_type": "execute_result"
    }
   ],
   "source": [
    "model.components_.shape"
   ]
  },
  {
   "cell_type": "code",
   "execution_count": 31,
   "id": "a5fa0189",
   "metadata": {},
   "outputs": [
    {
     "name": "stderr",
     "output_type": "stream",
     "text": [
      "/usr/local/lib/python3.9/site-packages/sklearn/utils/deprecation.py:87: FutureWarning: Function get_feature_names is deprecated; get_feature_names is deprecated in 1.0 and will be removed in 1.2. Please use get_feature_names_out instead.\n",
      "  warnings.warn(msg, category=FutureWarning)\n"
     ]
    },
    {
     "data": {
      "text/html": [
       "<div>\n",
       "<style scoped>\n",
       "    .dataframe tbody tr th:only-of-type {\n",
       "        vertical-align: middle;\n",
       "    }\n",
       "\n",
       "    .dataframe tbody tr th {\n",
       "        vertical-align: top;\n",
       "    }\n",
       "\n",
       "    .dataframe thead th {\n",
       "        text-align: right;\n",
       "    }\n",
       "</style>\n",
       "<table border=\"1\" class=\"dataframe\">\n",
       "  <thead>\n",
       "    <tr style=\"text-align: right;\">\n",
       "      <th></th>\n",
       "      <th>abandon</th>\n",
       "      <th>abduct</th>\n",
       "      <th>abduction</th>\n",
       "      <th>ability</th>\n",
       "      <th>able</th>\n",
       "      <th>abnormal</th>\n",
       "      <th>abomination</th>\n",
       "      <th>abrupt</th>\n",
       "      <th>abruptly</th>\n",
       "      <th>absence</th>\n",
       "      <th>...</th>\n",
       "      <th>youth</th>\n",
       "      <th>youtube</th>\n",
       "      <th>youtuber</th>\n",
       "      <th>yuri</th>\n",
       "      <th>yuris</th>\n",
       "      <th>zap</th>\n",
       "      <th>zombie</th>\n",
       "      <th>zone</th>\n",
       "      <th>zoom</th>\n",
       "      <th>zoomer</th>\n",
       "    </tr>\n",
       "  </thead>\n",
       "  <tbody>\n",
       "    <tr>\n",
       "      <th>0</th>\n",
       "      <td>0.000000</td>\n",
       "      <td>0.000000</td>\n",
       "      <td>0.000000</td>\n",
       "      <td>0.000000</td>\n",
       "      <td>0.041512</td>\n",
       "      <td>0.000000</td>\n",
       "      <td>0.000000</td>\n",
       "      <td>0.000000</td>\n",
       "      <td>0.000000e+00</td>\n",
       "      <td>0.001860</td>\n",
       "      <td>...</td>\n",
       "      <td>0.000000</td>\n",
       "      <td>0.013834</td>\n",
       "      <td>0.000000</td>\n",
       "      <td>0.000000</td>\n",
       "      <td>0.000000</td>\n",
       "      <td>0.000000</td>\n",
       "      <td>0.000000</td>\n",
       "      <td>0.007931</td>\n",
       "      <td>0.000000</td>\n",
       "      <td>0.000036</td>\n",
       "    </tr>\n",
       "    <tr>\n",
       "      <th>1</th>\n",
       "      <td>0.002545</td>\n",
       "      <td>0.000000</td>\n",
       "      <td>0.002577</td>\n",
       "      <td>0.045405</td>\n",
       "      <td>0.024546</td>\n",
       "      <td>0.000102</td>\n",
       "      <td>0.004553</td>\n",
       "      <td>0.000000</td>\n",
       "      <td>4.778247e-04</td>\n",
       "      <td>0.002820</td>\n",
       "      <td>...</td>\n",
       "      <td>0.001506</td>\n",
       "      <td>0.000000</td>\n",
       "      <td>0.000000</td>\n",
       "      <td>0.000000</td>\n",
       "      <td>0.000000</td>\n",
       "      <td>0.000195</td>\n",
       "      <td>0.011448</td>\n",
       "      <td>0.000000</td>\n",
       "      <td>0.000000</td>\n",
       "      <td>0.000227</td>\n",
       "    </tr>\n",
       "    <tr>\n",
       "      <th>2</th>\n",
       "      <td>0.000000</td>\n",
       "      <td>0.013844</td>\n",
       "      <td>0.000819</td>\n",
       "      <td>0.085204</td>\n",
       "      <td>0.097155</td>\n",
       "      <td>0.001754</td>\n",
       "      <td>0.000000</td>\n",
       "      <td>0.000000</td>\n",
       "      <td>3.051545e-04</td>\n",
       "      <td>0.000685</td>\n",
       "      <td>...</td>\n",
       "      <td>0.000000</td>\n",
       "      <td>0.000000</td>\n",
       "      <td>0.004194</td>\n",
       "      <td>0.000000</td>\n",
       "      <td>0.000509</td>\n",
       "      <td>0.000000</td>\n",
       "      <td>0.000000</td>\n",
       "      <td>0.000000</td>\n",
       "      <td>0.004161</td>\n",
       "      <td>0.000000</td>\n",
       "    </tr>\n",
       "    <tr>\n",
       "      <th>3</th>\n",
       "      <td>0.000328</td>\n",
       "      <td>0.002160</td>\n",
       "      <td>0.000000</td>\n",
       "      <td>0.001599</td>\n",
       "      <td>0.000000</td>\n",
       "      <td>0.001288</td>\n",
       "      <td>0.000706</td>\n",
       "      <td>0.000000</td>\n",
       "      <td>0.000000e+00</td>\n",
       "      <td>0.000499</td>\n",
       "      <td>...</td>\n",
       "      <td>0.000218</td>\n",
       "      <td>0.052714</td>\n",
       "      <td>0.008938</td>\n",
       "      <td>0.000000</td>\n",
       "      <td>0.000967</td>\n",
       "      <td>0.000000</td>\n",
       "      <td>0.006318</td>\n",
       "      <td>0.003255</td>\n",
       "      <td>0.002311</td>\n",
       "      <td>0.000000</td>\n",
       "    </tr>\n",
       "    <tr>\n",
       "      <th>4</th>\n",
       "      <td>0.006913</td>\n",
       "      <td>0.001194</td>\n",
       "      <td>0.000000</td>\n",
       "      <td>0.000000</td>\n",
       "      <td>0.019531</td>\n",
       "      <td>0.000000</td>\n",
       "      <td>0.000342</td>\n",
       "      <td>0.000000</td>\n",
       "      <td>0.000000e+00</td>\n",
       "      <td>0.001738</td>\n",
       "      <td>...</td>\n",
       "      <td>0.000000</td>\n",
       "      <td>0.000934</td>\n",
       "      <td>0.001486</td>\n",
       "      <td>0.038945</td>\n",
       "      <td>0.003965</td>\n",
       "      <td>0.006955</td>\n",
       "      <td>0.003852</td>\n",
       "      <td>0.001731</td>\n",
       "      <td>0.007652</td>\n",
       "      <td>0.000180</td>\n",
       "    </tr>\n",
       "    <tr>\n",
       "      <th>5</th>\n",
       "      <td>0.000000</td>\n",
       "      <td>0.000000</td>\n",
       "      <td>0.000000</td>\n",
       "      <td>0.000000</td>\n",
       "      <td>0.008907</td>\n",
       "      <td>0.000000</td>\n",
       "      <td>0.000000</td>\n",
       "      <td>0.000000</td>\n",
       "      <td>4.796296e-07</td>\n",
       "      <td>0.000000</td>\n",
       "      <td>...</td>\n",
       "      <td>0.004058</td>\n",
       "      <td>0.045972</td>\n",
       "      <td>0.000000</td>\n",
       "      <td>0.000526</td>\n",
       "      <td>0.000000</td>\n",
       "      <td>0.008539</td>\n",
       "      <td>0.001263</td>\n",
       "      <td>0.002463</td>\n",
       "      <td>0.004147</td>\n",
       "      <td>0.000000</td>\n",
       "    </tr>\n",
       "    <tr>\n",
       "      <th>6</th>\n",
       "      <td>0.003570</td>\n",
       "      <td>0.000000</td>\n",
       "      <td>0.000000</td>\n",
       "      <td>0.000000</td>\n",
       "      <td>0.008257</td>\n",
       "      <td>0.000000</td>\n",
       "      <td>0.000000</td>\n",
       "      <td>0.005281</td>\n",
       "      <td>1.103637e-03</td>\n",
       "      <td>0.002412</td>\n",
       "      <td>...</td>\n",
       "      <td>0.000000</td>\n",
       "      <td>0.000000</td>\n",
       "      <td>0.000000</td>\n",
       "      <td>0.003734</td>\n",
       "      <td>0.000798</td>\n",
       "      <td>0.000000</td>\n",
       "      <td>0.000000</td>\n",
       "      <td>0.000000</td>\n",
       "      <td>0.000000</td>\n",
       "      <td>0.000272</td>\n",
       "    </tr>\n",
       "    <tr>\n",
       "      <th>7</th>\n",
       "      <td>0.006592</td>\n",
       "      <td>0.000000</td>\n",
       "      <td>0.000000</td>\n",
       "      <td>0.000000</td>\n",
       "      <td>0.000000</td>\n",
       "      <td>0.000645</td>\n",
       "      <td>0.003741</td>\n",
       "      <td>0.000000</td>\n",
       "      <td>1.823314e-03</td>\n",
       "      <td>0.006137</td>\n",
       "      <td>...</td>\n",
       "      <td>0.000000</td>\n",
       "      <td>0.000000</td>\n",
       "      <td>0.000000</td>\n",
       "      <td>0.029501</td>\n",
       "      <td>0.000000</td>\n",
       "      <td>0.000000</td>\n",
       "      <td>0.002318</td>\n",
       "      <td>0.000000</td>\n",
       "      <td>0.000000</td>\n",
       "      <td>0.000169</td>\n",
       "    </tr>\n",
       "    <tr>\n",
       "      <th>8</th>\n",
       "      <td>0.017108</td>\n",
       "      <td>0.007403</td>\n",
       "      <td>0.001189</td>\n",
       "      <td>0.046372</td>\n",
       "      <td>0.087922</td>\n",
       "      <td>0.001265</td>\n",
       "      <td>0.001313</td>\n",
       "      <td>0.002276</td>\n",
       "      <td>2.008793e-03</td>\n",
       "      <td>0.004270</td>\n",
       "      <td>...</td>\n",
       "      <td>0.004844</td>\n",
       "      <td>0.010969</td>\n",
       "      <td>0.000000</td>\n",
       "      <td>0.004816</td>\n",
       "      <td>0.000029</td>\n",
       "      <td>0.000000</td>\n",
       "      <td>0.018604</td>\n",
       "      <td>0.009473</td>\n",
       "      <td>0.006571</td>\n",
       "      <td>0.005248</td>\n",
       "    </tr>\n",
       "    <tr>\n",
       "      <th>9</th>\n",
       "      <td>0.007451</td>\n",
       "      <td>0.012407</td>\n",
       "      <td>0.006424</td>\n",
       "      <td>0.105463</td>\n",
       "      <td>0.266319</td>\n",
       "      <td>0.001130</td>\n",
       "      <td>0.000608</td>\n",
       "      <td>0.000966</td>\n",
       "      <td>8.924901e-04</td>\n",
       "      <td>0.001298</td>\n",
       "      <td>...</td>\n",
       "      <td>0.001233</td>\n",
       "      <td>0.000000</td>\n",
       "      <td>0.000000</td>\n",
       "      <td>0.000000</td>\n",
       "      <td>0.000035</td>\n",
       "      <td>0.001518</td>\n",
       "      <td>0.003479</td>\n",
       "      <td>0.005744</td>\n",
       "      <td>0.002980</td>\n",
       "      <td>0.000000</td>\n",
       "    </tr>\n",
       "  </tbody>\n",
       "</table>\n",
       "<p>10 rows × 6205 columns</p>\n",
       "</div>"
      ],
      "text/plain": [
       "    abandon    abduct  abduction   ability      able  abnormal  abomination  \\\n",
       "0  0.000000  0.000000   0.000000  0.000000  0.041512  0.000000     0.000000   \n",
       "1  0.002545  0.000000   0.002577  0.045405  0.024546  0.000102     0.004553   \n",
       "2  0.000000  0.013844   0.000819  0.085204  0.097155  0.001754     0.000000   \n",
       "3  0.000328  0.002160   0.000000  0.001599  0.000000  0.001288     0.000706   \n",
       "4  0.006913  0.001194   0.000000  0.000000  0.019531  0.000000     0.000342   \n",
       "5  0.000000  0.000000   0.000000  0.000000  0.008907  0.000000     0.000000   \n",
       "6  0.003570  0.000000   0.000000  0.000000  0.008257  0.000000     0.000000   \n",
       "7  0.006592  0.000000   0.000000  0.000000  0.000000  0.000645     0.003741   \n",
       "8  0.017108  0.007403   0.001189  0.046372  0.087922  0.001265     0.001313   \n",
       "9  0.007451  0.012407   0.006424  0.105463  0.266319  0.001130     0.000608   \n",
       "\n",
       "     abrupt      abruptly   absence  ...     youth   youtube  youtuber  \\\n",
       "0  0.000000  0.000000e+00  0.001860  ...  0.000000  0.013834  0.000000   \n",
       "1  0.000000  4.778247e-04  0.002820  ...  0.001506  0.000000  0.000000   \n",
       "2  0.000000  3.051545e-04  0.000685  ...  0.000000  0.000000  0.004194   \n",
       "3  0.000000  0.000000e+00  0.000499  ...  0.000218  0.052714  0.008938   \n",
       "4  0.000000  0.000000e+00  0.001738  ...  0.000000  0.000934  0.001486   \n",
       "5  0.000000  4.796296e-07  0.000000  ...  0.004058  0.045972  0.000000   \n",
       "6  0.005281  1.103637e-03  0.002412  ...  0.000000  0.000000  0.000000   \n",
       "7  0.000000  1.823314e-03  0.006137  ...  0.000000  0.000000  0.000000   \n",
       "8  0.002276  2.008793e-03  0.004270  ...  0.004844  0.010969  0.000000   \n",
       "9  0.000966  8.924901e-04  0.001298  ...  0.001233  0.000000  0.000000   \n",
       "\n",
       "       yuri     yuris       zap    zombie      zone      zoom    zoomer  \n",
       "0  0.000000  0.000000  0.000000  0.000000  0.007931  0.000000  0.000036  \n",
       "1  0.000000  0.000000  0.000195  0.011448  0.000000  0.000000  0.000227  \n",
       "2  0.000000  0.000509  0.000000  0.000000  0.000000  0.004161  0.000000  \n",
       "3  0.000000  0.000967  0.000000  0.006318  0.003255  0.002311  0.000000  \n",
       "4  0.038945  0.003965  0.006955  0.003852  0.001731  0.007652  0.000180  \n",
       "5  0.000526  0.000000  0.008539  0.001263  0.002463  0.004147  0.000000  \n",
       "6  0.003734  0.000798  0.000000  0.000000  0.000000  0.000000  0.000272  \n",
       "7  0.029501  0.000000  0.000000  0.002318  0.000000  0.000000  0.000169  \n",
       "8  0.004816  0.000029  0.000000  0.018604  0.009473  0.006571  0.005248  \n",
       "9  0.000000  0.000035  0.001518  0.003479  0.005744  0.002980  0.000000  \n",
       "\n",
       "[10 rows x 6205 columns]"
      ]
     },
     "execution_count": 31,
     "metadata": {},
     "output_type": "execute_result"
    }
   ],
   "source": [
    "components_df = pd.DataFrame(model.components_, columns=tf_idf_vectorizer.get_feature_names())\n",
    "components_df"
   ]
  },
  {
   "cell_type": "code",
   "execution_count": 32,
   "id": "8be7547f",
   "metadata": {},
   "outputs": [
    {
     "name": "stdout",
     "output_type": "stream",
     "text": [
      "For topic 1 the words with the highest value are:\n",
      "season     5.448604\n",
      "episode    0.918254\n",
      "watch      0.778134\n",
      "end        0.537894\n",
      "good       0.434750\n",
      "release    0.376154\n",
      "think      0.375202\n",
      "finish     0.370733\n",
      "time       0.342504\n",
      "new        0.307801\n",
      "Name: 0, dtype: float64\n",
      "\n",
      "\n",
      "For topic 2 the words with the highest value are:\n",
      "mind       2.590619\n",
      "flayer     2.562181\n",
      "billy      0.401938\n",
      "control    0.329030\n",
      "monster    0.265460\n",
      "form       0.185981\n",
      "hive       0.151228\n",
      "flay       0.151105\n",
      "human      0.135448\n",
      "create     0.132393\n",
      "Name: 1, dtype: float64\n",
      "\n",
      "\n",
      "For topic 3 the words with the highest value are:\n",
      "vecna     3.345580\n",
      "kill      0.764863\n",
      "max       0.739547\n",
      "think     0.627203\n",
      "theory    0.596514\n",
      "power     0.570444\n",
      "victim    0.297155\n",
      "die       0.277801\n",
      "eddie     0.265225\n",
      "henry     0.250669\n",
      "Name: 2, dtype: float64\n",
      "\n",
      "\n",
      "For topic 4 the words with the highest value are:\n",
      "thing       2.655268\n",
      "strange     2.438979\n",
      "watch       0.816778\n",
      "stranger    0.561598\n",
      "game        0.259764\n",
      "good        0.212300\n",
      "netflix     0.200372\n",
      "want        0.197301\n",
      "series      0.188004\n",
      "fan         0.183411\n",
      "Name: 3, dtype: float64\n",
      "\n",
      "\n",
      "For topic 5 the words with the highest value are:\n",
      "hopper      2.676849\n",
      "russian     1.047797\n",
      "joyce       0.834287\n",
      "american    0.732104\n",
      "alive       0.566067\n",
      "theory      0.493342\n",
      "end         0.437693\n",
      "think       0.434773\n",
      "russia      0.375375\n",
      "scene       0.374620\n",
      "Name: 4, dtype: float64\n",
      "\n",
      "\n",
      "For topic 6 the words with the highest value are:\n",
      "song          3.407556\n",
      "play          1.096119\n",
      "music         0.623877\n",
      "episode       0.451238\n",
      "scene         0.426913\n",
      "eddie         0.359795\n",
      "soundtrack    0.353737\n",
      "favorite      0.332530\n",
      "run           0.305276\n",
      "hill          0.297765\n",
      "Name: 5, dtype: float64\n",
      "\n",
      "\n",
      "For topic 7 the words with the highest value are:\n",
      "steve           3.244436\n",
      "nancy           2.239503\n",
      "jonathan        1.277234\n",
      "robin           1.227578\n",
      "dustin          0.736214\n",
      "love            0.299362\n",
      "johnathan       0.230752\n",
      "relationship    0.211115\n",
      "harrington      0.180520\n",
      "eddie           0.175608\n",
      "Name: 6, dtype: float64\n",
      "\n",
      "\n",
      "For topic 8 the words with the highest value are:\n",
      "character    3.880220\n",
      "die          1.400797\n",
      "eddie        1.016666\n",
      "death        0.816650\n",
      "main         0.814227\n",
      "favorite     0.726353\n",
      "kill         0.585001\n",
      "like         0.382377\n",
      "opinion      0.377980\n",
      "feel         0.372935\n",
      "Name: 7, dtype: float64\n",
      "\n",
      "\n",
      "For topic 9 the words with the highest value are:\n",
      "like      1.643327\n",
      "mike      1.587248\n",
      "think     1.156033\n",
      "feel      0.967210\n",
      "know      0.964858\n",
      "people    0.716002\n",
      "love      0.640232\n",
      "time      0.624697\n",
      "go        0.619606\n",
      "say       0.604147\n",
      "Name: 8, dtype: float64\n",
      "\n",
      "\n",
      "For topic 10 the words with the highest value are:\n",
      "upside        2.407992\n",
      "gate          1.642390\n",
      "open          1.201234\n",
      "demogorgon    0.990593\n",
      "hawkin        0.714897\n",
      "portal        0.607499\n",
      "world         0.579868\n",
      "question      0.544523\n",
      "russian       0.468837\n",
      "time          0.405141\n",
      "Name: 9, dtype: float64\n",
      "\n",
      "\n"
     ]
    }
   ],
   "source": [
    "for topic in range(components_df.shape[0]):\n",
    "    tmp = components_df.iloc[topic]\n",
    "    print(f'For topic {topic+1} the words with the highest value are:')\n",
    "    print(tmp.nlargest(10))\n",
    "    print('\\n')"
   ]
  },
  {
   "cell_type": "code",
   "execution_count": 33,
   "id": "459ba9d2",
   "metadata": {},
   "outputs": [],
   "source": [
    "from sklearn.model_selection import RandomizedSearchCV\n",
    "from sklearn.model_selection import GridSearchCV"
   ]
  },
  {
   "cell_type": "markdown",
   "id": "d124ee40",
   "metadata": {},
   "source": [
    "### NMF looks like it is producing clearer topics than LDA, lets hyper parameter tune."
   ]
  },
  {
   "cell_type": "code",
   "execution_count": 34,
   "id": "e5b1ae4c",
   "metadata": {},
   "outputs": [],
   "source": [
    "##https://www.kaggle.com/code/akashram/topic-modeling-intro-implementation/notebook#Non-Negative-Matrix-Factorization"
   ]
  },
  {
   "cell_type": "code",
   "execution_count": 39,
   "id": "b895063e",
   "metadata": {},
   "outputs": [],
   "source": [
    "import gensim\n",
    "from gensim.models import Word2Vec"
   ]
  },
  {
   "cell_type": "code",
   "execution_count": 40,
   "id": "9eec5f09",
   "metadata": {},
   "outputs": [],
   "source": [
    "# To re-load this model, run\n",
    "w2v_model = gensim.models.Word2Vec.load(\"w2v-model.bin\")"
   ]
  },
  {
   "cell_type": "code",
   "execution_count": null,
   "id": "51dcc06b",
   "metadata": {},
   "outputs": [],
   "source": [
    "# To re-load this model, run\n",
    "#w2v_model = gensim.models.Word2Vec.load(\"w2v-model.bin\")"
   ]
  },
  {
   "cell_type": "code",
   "execution_count": 41,
   "id": "2fc797ba",
   "metadata": {},
   "outputs": [
    {
     "name": "stdout",
     "output_type": "stream",
     "text": [
      "Model has 4426 terms\n"
     ]
    }
   ],
   "source": [
    "#w2v_model = Word2Vec(df_to_use_fin['token_lemma'], vector_size=10000, min_count=20)\n",
    "print(\"Model has %d terms\" % len(w2v_model.wv.key_to_index))"
   ]
  },
  {
   "cell_type": "code",
   "execution_count": 42,
   "id": "39e4ad9e",
   "metadata": {},
   "outputs": [],
   "source": [
    "#w2v_model.save(\"w2v-model.bin\")"
   ]
  },
  {
   "cell_type": "code",
   "execution_count": 43,
   "id": "c2bba568",
   "metadata": {},
   "outputs": [
    {
     "name": "stdout",
     "output_type": "stream",
     "text": [
      "Applying NMF for k=4 ...\n",
      "Applying NMF for k=6 ...\n",
      "Applying NMF for k=8 ...\n",
      "Applying NMF for k=10 ...\n",
      "Applying NMF for k=12 ...\n",
      "Applying NMF for k=20 ...\n"
     ]
    }
   ],
   "source": [
    "kcluster=[4,6,8,10,12,20]\n",
    "\n",
    "topic_models = []\n",
    "# try each value of k\n",
    "for k in kcluster:\n",
    "    print(\"Applying NMF for k=%d ...\" % k )\n",
    "    # run NMF\n",
    "    model = NMF(max_iter=2000,init=\"nndsvd\", n_components=k,random_state = RANDOM_SEED) \n",
    "    W = model.fit_transform(tf_idf)\n",
    "    H = model.components_    \n",
    "    # store for later\n",
    "    topic_models.append( (k,W,H) )\n"
   ]
  },
  {
   "cell_type": "code",
   "execution_count": 44,
   "id": "2a9565a3",
   "metadata": {},
   "outputs": [],
   "source": [
    "def get_descriptor(all_terms, H, topic_index, top):\n",
    "    # reverse sort the values to sort the indices\n",
    "    top_indices = np.argsort( H[topic_index,:] )[::-1]\n",
    "    # now get the terms corresponding to the top-ranked indices\n",
    "    top_terms = []\n",
    "    for term_index in top_indices[0:top]:\n",
    "        top_terms.append(all_terms[term_index])\n",
    "    return top_terms"
   ]
  },
  {
   "cell_type": "code",
   "execution_count": 45,
   "id": "1993d39f",
   "metadata": {},
   "outputs": [],
   "source": [
    "def calculate_coherence( w2v_model, term_rankings ):\n",
    "    overall_coherence = 0.0\n",
    "    for topic_index in range(len(term_rankings)):\n",
    "        # check each pair of terms\n",
    "        pair_scores = []\n",
    "        for pair in combinations( term_rankings[topic_index], 2 ):\n",
    "            #print(str(pair[0]) + \" \" + str(pair[1]))\n",
    "            pair_scores.append(w2v_model.wv.similarity(pair[0], pair[1]))\n",
    "        # get the mean for all pairs in this topic\n",
    "        topic_score = sum(pair_scores) / len(pair_scores)\n",
    "        overall_coherence += topic_score\n",
    "    # get the mean score across all topics\n",
    "    return overall_coherence / len(term_rankings)"
   ]
  },
  {
   "cell_type": "code",
   "execution_count": 46,
   "id": "6df2e393",
   "metadata": {},
   "outputs": [],
   "source": [
    "#term_rankings"
   ]
  },
  {
   "cell_type": "code",
   "execution_count": 47,
   "id": "a6eefe36",
   "metadata": {},
   "outputs": [
    {
     "name": "stdout",
     "output_type": "stream",
     "text": [
      "K=04: Coherence=0.2321\n",
      "K=06: Coherence=0.2421\n",
      "K=08: Coherence=0.3054\n",
      "K=10: Coherence=0.3221\n",
      "K=12: Coherence=0.3282\n",
      "K=20: Coherence=0.3607\n"
     ]
    }
   ],
   "source": [
    "from itertools import combinations\n",
    "\n",
    "k_values = []\n",
    "coherences = []\n",
    "for (k,W,H) in topic_models:\n",
    "    # Get all of the topic descriptors - the term_rankings, based on top 10 terms\n",
    "    term_rankings = []\n",
    "    for topic_index in range(k):\n",
    "        terms = tf_idf_vectorizer.get_feature_names_out()\n",
    "        term_rankings.append(get_descriptor(terms, H, topic_index, 10))\n",
    "        #print(term_rankings)\n",
    "    # Now calculate the coherence based on our Word2vec model\n",
    "    k_values.append(k)\n",
    "    coherences.append(calculate_coherence(w2v_model,term_rankings))\n",
    "    print(\"K=%02d: Coherence=%.4f\" % (k, coherences[-1]))"
   ]
  },
  {
   "cell_type": "code",
   "execution_count": 48,
   "id": "18452477",
   "metadata": {},
   "outputs": [
    {
     "data": {
      "image/png": "[encoded data removed]",
      "text/plain": [
       "<Figure size 720x504 with 1 Axes>"
      ]
     },
     "metadata": {},
     "output_type": "display_data"
    }
   ],
   "source": [
    "import matplotlib\n",
    "plt.style.use(['dark_background'])\n",
    "matplotlib.rcParams.update({\"font.size\": 14})\n",
    "\n",
    "fig = plt.figure(figsize=(10,7))\n",
    "# create the line plot\n",
    "ax = plt.plot(k_values, coherences,color = 'red')\n",
    "plt.xticks(k_values)\n",
    "plt.xlabel(\"Number of Topics\")\n",
    "plt.ylabel(\"Mean Coherence\")\n",
    "# add the points\n",
    "plt.scatter(k_values, coherences,color = 'red',s=120)\n",
    "# find and annotate the maximum point on the plot\n",
    "ymax = max(coherences)\n",
    "xpos = coherences.index(ymax)\n",
    "best_k = k_values[xpos]\n",
    "plt.rcParams.update({'text.color': \"white\",\n",
    "                     'axes.labelcolor': \"white\"})\n",
    "#figure.facecolor':'black\n",
    "plt.title(\"Ideal K Topics based on Mean Coherence Score\",\n",
    "          {'color': \"white\"})\n",
    "plt.rcParams['savefig.facecolor']='black'\n",
    "plt.rcParams['lines.color'] = 'red'\n",
    "plt.annotate( \"k=%d\" % best_k, xy=(best_k, ymax), xytext=(best_k, ymax), textcoords=\"offset points\", fontsize=16)\n",
    "# show the plot\n",
    "plt.show()"
   ]
  },
  {
   "cell_type": "code",
   "execution_count": 49,
   "id": "eebc5e48",
   "metadata": {},
   "outputs": [],
   "source": [
    "from gensim import corpora\n",
    "from gensim.models import Nmf\n",
    "from gensim.models.coherencemodel import CoherenceModel"
   ]
  },
  {
   "cell_type": "markdown",
   "id": "676b671f",
   "metadata": {},
   "source": [
    "### Getting top 20 topics via NMF based on highest coherence values"
   ]
  },
  {
   "cell_type": "code",
   "execution_count": 50,
   "id": "28d6a55e",
   "metadata": {},
   "outputs": [],
   "source": [
    "model_fin = NMF(n_components=20, random_state=RANDOM_SEED,max_iter=2000,init=\"nndsvd\")\n",
    " \n",
    "# Fit the model to TF-IDF\n",
    "model_fin.fit(tf_idf)\n",
    " \n",
    "# Transform the TF-IDF: nmf_features\n",
    "nmf_features_fin = model_fin.transform(tf_idf)"
   ]
  },
  {
   "cell_type": "code",
   "execution_count": 51,
   "id": "ccce3010",
   "metadata": {},
   "outputs": [
    {
     "name": "stderr",
     "output_type": "stream",
     "text": [
      "/usr/local/lib/python3.9/site-packages/sklearn/utils/deprecation.py:87: FutureWarning: Function get_feature_names is deprecated; get_feature_names is deprecated in 1.0 and will be removed in 1.2. Please use get_feature_names_out instead.\n",
      "  warnings.warn(msg, category=FutureWarning)\n"
     ]
    },
    {
     "data": {
      "text/html": [
       "<div>\n",
       "<style scoped>\n",
       "    .dataframe tbody tr th:only-of-type {\n",
       "        vertical-align: middle;\n",
       "    }\n",
       "\n",
       "    .dataframe tbody tr th {\n",
       "        vertical-align: top;\n",
       "    }\n",
       "\n",
       "    .dataframe thead th {\n",
       "        text-align: right;\n",
       "    }\n",
       "</style>\n",
       "<table border=\"1\" class=\"dataframe\">\n",
       "  <thead>\n",
       "    <tr style=\"text-align: right;\">\n",
       "      <th></th>\n",
       "      <th>abandon</th>\n",
       "      <th>abduct</th>\n",
       "      <th>abduction</th>\n",
       "      <th>ability</th>\n",
       "      <th>able</th>\n",
       "      <th>abnormal</th>\n",
       "      <th>abomination</th>\n",
       "      <th>abrupt</th>\n",
       "      <th>abruptly</th>\n",
       "      <th>absence</th>\n",
       "      <th>...</th>\n",
       "      <th>youth</th>\n",
       "      <th>youtube</th>\n",
       "      <th>youtuber</th>\n",
       "      <th>yuri</th>\n",
       "      <th>yuris</th>\n",
       "      <th>zap</th>\n",
       "      <th>zombie</th>\n",
       "      <th>zone</th>\n",
       "      <th>zoom</th>\n",
       "      <th>zoomer</th>\n",
       "    </tr>\n",
       "  </thead>\n",
       "  <tbody>\n",
       "    <tr>\n",
       "      <th>0</th>\n",
       "      <td>0.000000</td>\n",
       "      <td>0.000000</td>\n",
       "      <td>0.000000</td>\n",
       "      <td>0.000000</td>\n",
       "      <td>0.040228</td>\n",
       "      <td>0.000000</td>\n",
       "      <td>0.000000</td>\n",
       "      <td>0.000000</td>\n",
       "      <td>0.000000</td>\n",
       "      <td>0.002438</td>\n",
       "      <td>...</td>\n",
       "      <td>0.000000</td>\n",
       "      <td>0.000000</td>\n",
       "      <td>0.000000</td>\n",
       "      <td>0.000000</td>\n",
       "      <td>0.000000</td>\n",
       "      <td>0.000000</td>\n",
       "      <td>0.000000</td>\n",
       "      <td>0.000000</td>\n",
       "      <td>0.000000</td>\n",
       "      <td>0.000217</td>\n",
       "    </tr>\n",
       "    <tr>\n",
       "      <th>1</th>\n",
       "      <td>0.001938</td>\n",
       "      <td>0.000000</td>\n",
       "      <td>0.002905</td>\n",
       "      <td>0.043082</td>\n",
       "      <td>0.020994</td>\n",
       "      <td>0.000000</td>\n",
       "      <td>0.004622</td>\n",
       "      <td>0.000000</td>\n",
       "      <td>0.000484</td>\n",
       "      <td>0.002653</td>\n",
       "      <td>...</td>\n",
       "      <td>0.001760</td>\n",
       "      <td>0.000000</td>\n",
       "      <td>0.000000</td>\n",
       "      <td>0.000000</td>\n",
       "      <td>0.000000</td>\n",
       "      <td>0.000000</td>\n",
       "      <td>0.012086</td>\n",
       "      <td>0.000000</td>\n",
       "      <td>0.000000</td>\n",
       "      <td>0.000000</td>\n",
       "    </tr>\n",
       "    <tr>\n",
       "      <th>2</th>\n",
       "      <td>0.008165</td>\n",
       "      <td>0.000000</td>\n",
       "      <td>0.001188</td>\n",
       "      <td>0.000000</td>\n",
       "      <td>0.054667</td>\n",
       "      <td>0.000000</td>\n",
       "      <td>0.000000</td>\n",
       "      <td>0.002962</td>\n",
       "      <td>0.001695</td>\n",
       "      <td>0.000000</td>\n",
       "      <td>...</td>\n",
       "      <td>0.002364</td>\n",
       "      <td>0.003408</td>\n",
       "      <td>0.000000</td>\n",
       "      <td>0.004506</td>\n",
       "      <td>0.000695</td>\n",
       "      <td>0.000000</td>\n",
       "      <td>0.006519</td>\n",
       "      <td>0.050168</td>\n",
       "      <td>0.006037</td>\n",
       "      <td>0.000385</td>\n",
       "    </tr>\n",
       "    <tr>\n",
       "      <th>3</th>\n",
       "      <td>0.000961</td>\n",
       "      <td>0.000000</td>\n",
       "      <td>0.000000</td>\n",
       "      <td>0.000000</td>\n",
       "      <td>0.000000</td>\n",
       "      <td>0.001490</td>\n",
       "      <td>0.000681</td>\n",
       "      <td>0.000000</td>\n",
       "      <td>0.000000</td>\n",
       "      <td>0.000808</td>\n",
       "      <td>...</td>\n",
       "      <td>0.000000</td>\n",
       "      <td>0.039632</td>\n",
       "      <td>0.009416</td>\n",
       "      <td>0.000000</td>\n",
       "      <td>0.000868</td>\n",
       "      <td>0.000000</td>\n",
       "      <td>0.005022</td>\n",
       "      <td>0.000000</td>\n",
       "      <td>0.000931</td>\n",
       "      <td>0.000000</td>\n",
       "    </tr>\n",
       "    <tr>\n",
       "      <th>4</th>\n",
       "      <td>0.005914</td>\n",
       "      <td>0.000000</td>\n",
       "      <td>0.000000</td>\n",
       "      <td>0.000000</td>\n",
       "      <td>0.015155</td>\n",
       "      <td>0.000000</td>\n",
       "      <td>0.000187</td>\n",
       "      <td>0.000000</td>\n",
       "      <td>0.000000</td>\n",
       "      <td>0.001829</td>\n",
       "      <td>...</td>\n",
       "      <td>0.000000</td>\n",
       "      <td>0.000000</td>\n",
       "      <td>0.001984</td>\n",
       "      <td>0.041496</td>\n",
       "      <td>0.003390</td>\n",
       "      <td>0.006869</td>\n",
       "      <td>0.004749</td>\n",
       "      <td>0.000281</td>\n",
       "      <td>0.006410</td>\n",
       "      <td>0.000195</td>\n",
       "    </tr>\n",
       "    <tr>\n",
       "      <th>5</th>\n",
       "      <td>0.000000</td>\n",
       "      <td>0.000000</td>\n",
       "      <td>0.000000</td>\n",
       "      <td>0.000000</td>\n",
       "      <td>0.006716</td>\n",
       "      <td>0.000000</td>\n",
       "      <td>0.000000</td>\n",
       "      <td>0.000000</td>\n",
       "      <td>0.000000</td>\n",
       "      <td>0.000000</td>\n",
       "      <td>...</td>\n",
       "      <td>0.004634</td>\n",
       "      <td>0.048205</td>\n",
       "      <td>0.000000</td>\n",
       "      <td>0.000000</td>\n",
       "      <td>0.000000</td>\n",
       "      <td>0.010477</td>\n",
       "      <td>0.000292</td>\n",
       "      <td>0.000174</td>\n",
       "      <td>0.001678</td>\n",
       "      <td>0.000000</td>\n",
       "    </tr>\n",
       "    <tr>\n",
       "      <th>6</th>\n",
       "      <td>0.003354</td>\n",
       "      <td>0.000000</td>\n",
       "      <td>0.000000</td>\n",
       "      <td>0.000000</td>\n",
       "      <td>0.017342</td>\n",
       "      <td>0.000000</td>\n",
       "      <td>0.000000</td>\n",
       "      <td>0.005355</td>\n",
       "      <td>0.001112</td>\n",
       "      <td>0.002276</td>\n",
       "      <td>...</td>\n",
       "      <td>0.000104</td>\n",
       "      <td>0.000000</td>\n",
       "      <td>0.000000</td>\n",
       "      <td>0.001830</td>\n",
       "      <td>0.000622</td>\n",
       "      <td>0.000000</td>\n",
       "      <td>0.000000</td>\n",
       "      <td>0.000000</td>\n",
       "      <td>0.000000</td>\n",
       "      <td>0.000000</td>\n",
       "    </tr>\n",
       "    <tr>\n",
       "      <th>7</th>\n",
       "      <td>0.005983</td>\n",
       "      <td>0.000000</td>\n",
       "      <td>0.000111</td>\n",
       "      <td>0.005300</td>\n",
       "      <td>0.000000</td>\n",
       "      <td>0.000000</td>\n",
       "      <td>0.002641</td>\n",
       "      <td>0.000000</td>\n",
       "      <td>0.002178</td>\n",
       "      <td>0.008874</td>\n",
       "      <td>...</td>\n",
       "      <td>0.000000</td>\n",
       "      <td>0.000000</td>\n",
       "      <td>0.000000</td>\n",
       "      <td>0.031370</td>\n",
       "      <td>0.000000</td>\n",
       "      <td>0.000000</td>\n",
       "      <td>0.000933</td>\n",
       "      <td>0.000000</td>\n",
       "      <td>0.000000</td>\n",
       "      <td>0.000000</td>\n",
       "    </tr>\n",
       "    <tr>\n",
       "      <th>8</th>\n",
       "      <td>0.007159</td>\n",
       "      <td>0.004152</td>\n",
       "      <td>0.000000</td>\n",
       "      <td>0.000000</td>\n",
       "      <td>0.006729</td>\n",
       "      <td>0.000000</td>\n",
       "      <td>0.000226</td>\n",
       "      <td>0.000000</td>\n",
       "      <td>0.000000</td>\n",
       "      <td>0.005690</td>\n",
       "      <td>...</td>\n",
       "      <td>0.001245</td>\n",
       "      <td>0.000000</td>\n",
       "      <td>0.000000</td>\n",
       "      <td>0.000000</td>\n",
       "      <td>0.000184</td>\n",
       "      <td>0.000000</td>\n",
       "      <td>0.013013</td>\n",
       "      <td>0.000000</td>\n",
       "      <td>0.000000</td>\n",
       "      <td>0.003846</td>\n",
       "    </tr>\n",
       "    <tr>\n",
       "      <th>9</th>\n",
       "      <td>0.007879</td>\n",
       "      <td>0.005415</td>\n",
       "      <td>0.004787</td>\n",
       "      <td>0.052103</td>\n",
       "      <td>0.109763</td>\n",
       "      <td>0.000000</td>\n",
       "      <td>0.001843</td>\n",
       "      <td>0.000000</td>\n",
       "      <td>0.000540</td>\n",
       "      <td>0.000000</td>\n",
       "      <td>...</td>\n",
       "      <td>0.000223</td>\n",
       "      <td>0.000000</td>\n",
       "      <td>0.000000</td>\n",
       "      <td>0.000000</td>\n",
       "      <td>0.002154</td>\n",
       "      <td>0.000000</td>\n",
       "      <td>0.000000</td>\n",
       "      <td>0.000177</td>\n",
       "      <td>0.003363</td>\n",
       "      <td>0.000000</td>\n",
       "    </tr>\n",
       "    <tr>\n",
       "      <th>10</th>\n",
       "      <td>0.000000</td>\n",
       "      <td>0.006917</td>\n",
       "      <td>0.000000</td>\n",
       "      <td>0.000000</td>\n",
       "      <td>0.011556</td>\n",
       "      <td>0.000000</td>\n",
       "      <td>0.000000</td>\n",
       "      <td>0.000000</td>\n",
       "      <td>0.000698</td>\n",
       "      <td>0.000000</td>\n",
       "      <td>...</td>\n",
       "      <td>0.000000</td>\n",
       "      <td>0.016567</td>\n",
       "      <td>0.000000</td>\n",
       "      <td>0.000000</td>\n",
       "      <td>0.000000</td>\n",
       "      <td>0.000000</td>\n",
       "      <td>0.001779</td>\n",
       "      <td>0.000761</td>\n",
       "      <td>0.011868</td>\n",
       "      <td>0.000000</td>\n",
       "    </tr>\n",
       "    <tr>\n",
       "      <th>11</th>\n",
       "      <td>0.000000</td>\n",
       "      <td>0.015211</td>\n",
       "      <td>0.000500</td>\n",
       "      <td>0.026266</td>\n",
       "      <td>0.051578</td>\n",
       "      <td>0.000517</td>\n",
       "      <td>0.000000</td>\n",
       "      <td>0.000000</td>\n",
       "      <td>0.000439</td>\n",
       "      <td>0.000000</td>\n",
       "      <td>...</td>\n",
       "      <td>0.000000</td>\n",
       "      <td>0.000000</td>\n",
       "      <td>0.005344</td>\n",
       "      <td>0.000000</td>\n",
       "      <td>0.000045</td>\n",
       "      <td>0.000000</td>\n",
       "      <td>0.000000</td>\n",
       "      <td>0.000000</td>\n",
       "      <td>0.003724</td>\n",
       "      <td>0.000000</td>\n",
       "    </tr>\n",
       "    <tr>\n",
       "      <th>12</th>\n",
       "      <td>0.003523</td>\n",
       "      <td>0.000000</td>\n",
       "      <td>0.000000</td>\n",
       "      <td>0.000000</td>\n",
       "      <td>0.009981</td>\n",
       "      <td>0.002550</td>\n",
       "      <td>0.000889</td>\n",
       "      <td>0.000231</td>\n",
       "      <td>0.000000</td>\n",
       "      <td>0.000000</td>\n",
       "      <td>...</td>\n",
       "      <td>0.000000</td>\n",
       "      <td>0.000000</td>\n",
       "      <td>0.000000</td>\n",
       "      <td>0.010159</td>\n",
       "      <td>0.000000</td>\n",
       "      <td>0.000000</td>\n",
       "      <td>0.004706</td>\n",
       "      <td>0.000000</td>\n",
       "      <td>0.000000</td>\n",
       "      <td>0.000000</td>\n",
       "    </tr>\n",
       "    <tr>\n",
       "      <th>13</th>\n",
       "      <td>0.006585</td>\n",
       "      <td>0.005075</td>\n",
       "      <td>0.002147</td>\n",
       "      <td>0.326560</td>\n",
       "      <td>0.203184</td>\n",
       "      <td>0.002227</td>\n",
       "      <td>0.000000</td>\n",
       "      <td>0.000000</td>\n",
       "      <td>0.000240</td>\n",
       "      <td>0.004921</td>\n",
       "      <td>...</td>\n",
       "      <td>0.000000</td>\n",
       "      <td>0.000000</td>\n",
       "      <td>0.000000</td>\n",
       "      <td>0.000000</td>\n",
       "      <td>0.000000</td>\n",
       "      <td>0.002308</td>\n",
       "      <td>0.000138</td>\n",
       "      <td>0.000000</td>\n",
       "      <td>0.000000</td>\n",
       "      <td>0.001029</td>\n",
       "    </tr>\n",
       "    <tr>\n",
       "      <th>14</th>\n",
       "      <td>0.003802</td>\n",
       "      <td>0.003050</td>\n",
       "      <td>0.000000</td>\n",
       "      <td>0.000000</td>\n",
       "      <td>0.008998</td>\n",
       "      <td>0.000755</td>\n",
       "      <td>0.002843</td>\n",
       "      <td>0.000816</td>\n",
       "      <td>0.001698</td>\n",
       "      <td>0.000000</td>\n",
       "      <td>...</td>\n",
       "      <td>0.002077</td>\n",
       "      <td>0.000000</td>\n",
       "      <td>0.000000</td>\n",
       "      <td>0.003274</td>\n",
       "      <td>0.000000</td>\n",
       "      <td>0.000000</td>\n",
       "      <td>0.010274</td>\n",
       "      <td>0.000000</td>\n",
       "      <td>0.000620</td>\n",
       "      <td>0.001120</td>\n",
       "    </tr>\n",
       "    <tr>\n",
       "      <th>15</th>\n",
       "      <td>0.003696</td>\n",
       "      <td>0.000000</td>\n",
       "      <td>0.000000</td>\n",
       "      <td>0.000000</td>\n",
       "      <td>0.000000</td>\n",
       "      <td>0.000000</td>\n",
       "      <td>0.000000</td>\n",
       "      <td>0.000000</td>\n",
       "      <td>0.000000</td>\n",
       "      <td>0.000000</td>\n",
       "      <td>...</td>\n",
       "      <td>0.000000</td>\n",
       "      <td>0.000000</td>\n",
       "      <td>0.000000</td>\n",
       "      <td>0.000000</td>\n",
       "      <td>0.000000</td>\n",
       "      <td>0.001214</td>\n",
       "      <td>0.000000</td>\n",
       "      <td>0.000000</td>\n",
       "      <td>0.001156</td>\n",
       "      <td>0.000000</td>\n",
       "    </tr>\n",
       "    <tr>\n",
       "      <th>16</th>\n",
       "      <td>0.000049</td>\n",
       "      <td>0.010175</td>\n",
       "      <td>0.002052</td>\n",
       "      <td>0.024743</td>\n",
       "      <td>0.222024</td>\n",
       "      <td>0.001781</td>\n",
       "      <td>0.000000</td>\n",
       "      <td>0.000317</td>\n",
       "      <td>0.000164</td>\n",
       "      <td>0.002545</td>\n",
       "      <td>...</td>\n",
       "      <td>0.000686</td>\n",
       "      <td>0.000000</td>\n",
       "      <td>0.000538</td>\n",
       "      <td>0.000000</td>\n",
       "      <td>0.000000</td>\n",
       "      <td>0.002252</td>\n",
       "      <td>0.007970</td>\n",
       "      <td>0.000000</td>\n",
       "      <td>0.000698</td>\n",
       "      <td>0.000000</td>\n",
       "    </tr>\n",
       "    <tr>\n",
       "      <th>17</th>\n",
       "      <td>0.000000</td>\n",
       "      <td>0.003740</td>\n",
       "      <td>0.000000</td>\n",
       "      <td>0.000000</td>\n",
       "      <td>0.016833</td>\n",
       "      <td>0.000000</td>\n",
       "      <td>0.000000</td>\n",
       "      <td>0.000000</td>\n",
       "      <td>0.000000</td>\n",
       "      <td>0.000000</td>\n",
       "      <td>...</td>\n",
       "      <td>0.000455</td>\n",
       "      <td>0.045834</td>\n",
       "      <td>0.001228</td>\n",
       "      <td>0.000000</td>\n",
       "      <td>0.000000</td>\n",
       "      <td>0.000000</td>\n",
       "      <td>0.004528</td>\n",
       "      <td>0.000000</td>\n",
       "      <td>0.000000</td>\n",
       "      <td>0.000000</td>\n",
       "    </tr>\n",
       "    <tr>\n",
       "      <th>18</th>\n",
       "      <td>0.007809</td>\n",
       "      <td>0.000000</td>\n",
       "      <td>0.000000</td>\n",
       "      <td>0.000000</td>\n",
       "      <td>0.039997</td>\n",
       "      <td>0.000783</td>\n",
       "      <td>0.000347</td>\n",
       "      <td>0.000000</td>\n",
       "      <td>0.000051</td>\n",
       "      <td>0.001706</td>\n",
       "      <td>...</td>\n",
       "      <td>0.000647</td>\n",
       "      <td>0.000000</td>\n",
       "      <td>0.000000</td>\n",
       "      <td>0.000000</td>\n",
       "      <td>0.000823</td>\n",
       "      <td>0.000000</td>\n",
       "      <td>0.000000</td>\n",
       "      <td>0.000000</td>\n",
       "      <td>0.003454</td>\n",
       "      <td>0.007095</td>\n",
       "    </tr>\n",
       "    <tr>\n",
       "      <th>19</th>\n",
       "      <td>0.001679</td>\n",
       "      <td>0.006177</td>\n",
       "      <td>0.002754</td>\n",
       "      <td>0.000000</td>\n",
       "      <td>0.014151</td>\n",
       "      <td>0.000127</td>\n",
       "      <td>0.000000</td>\n",
       "      <td>0.000895</td>\n",
       "      <td>0.000050</td>\n",
       "      <td>0.000000</td>\n",
       "      <td>...</td>\n",
       "      <td>0.002071</td>\n",
       "      <td>0.012636</td>\n",
       "      <td>0.000000</td>\n",
       "      <td>0.006716</td>\n",
       "      <td>0.000000</td>\n",
       "      <td>0.000000</td>\n",
       "      <td>0.000000</td>\n",
       "      <td>0.000000</td>\n",
       "      <td>0.001709</td>\n",
       "      <td>0.000000</td>\n",
       "    </tr>\n",
       "  </tbody>\n",
       "</table>\n",
       "<p>20 rows × 6205 columns</p>\n",
       "</div>"
      ],
      "text/plain": [
       "     abandon    abduct  abduction   ability      able  abnormal  abomination  \\\n",
       "0   0.000000  0.000000   0.000000  0.000000  0.040228  0.000000     0.000000   \n",
       "1   0.001938  0.000000   0.002905  0.043082  0.020994  0.000000     0.004622   \n",
       "2   0.008165  0.000000   0.001188  0.000000  0.054667  0.000000     0.000000   \n",
       "3   0.000961  0.000000   0.000000  0.000000  0.000000  0.001490     0.000681   \n",
       "4   0.005914  0.000000   0.000000  0.000000  0.015155  0.000000     0.000187   \n",
       "5   0.000000  0.000000   0.000000  0.000000  0.006716  0.000000     0.000000   \n",
       "6   0.003354  0.000000   0.000000  0.000000  0.017342  0.000000     0.000000   \n",
       "7   0.005983  0.000000   0.000111  0.005300  0.000000  0.000000     0.002641   \n",
       "8   0.007159  0.004152   0.000000  0.000000  0.006729  0.000000     0.000226   \n",
       "9   0.007879  0.005415   0.004787  0.052103  0.109763  0.000000     0.001843   \n",
       "10  0.000000  0.006917   0.000000  0.000000  0.011556  0.000000     0.000000   \n",
       "11  0.000000  0.015211   0.000500  0.026266  0.051578  0.000517     0.000000   \n",
       "12  0.003523  0.000000   0.000000  0.000000  0.009981  0.002550     0.000889   \n",
       "13  0.006585  0.005075   0.002147  0.326560  0.203184  0.002227     0.000000   \n",
       "14  0.003802  0.003050   0.000000  0.000000  0.008998  0.000755     0.002843   \n",
       "15  0.003696  0.000000   0.000000  0.000000  0.000000  0.000000     0.000000   \n",
       "16  0.000049  0.010175   0.002052  0.024743  0.222024  0.001781     0.000000   \n",
       "17  0.000000  0.003740   0.000000  0.000000  0.016833  0.000000     0.000000   \n",
       "18  0.007809  0.000000   0.000000  0.000000  0.039997  0.000783     0.000347   \n",
       "19  0.001679  0.006177   0.002754  0.000000  0.014151  0.000127     0.000000   \n",
       "\n",
       "      abrupt  abruptly   absence  ...     youth   youtube  youtuber      yuri  \\\n",
       "0   0.000000  0.000000  0.002438  ...  0.000000  0.000000  0.000000  0.000000   \n",
       "1   0.000000  0.000484  0.002653  ...  0.001760  0.000000  0.000000  0.000000   \n",
       "2   0.002962  0.001695  0.000000  ...  0.002364  0.003408  0.000000  0.004506   \n",
       "3   0.000000  0.000000  0.000808  ...  0.000000  0.039632  0.009416  0.000000   \n",
       "4   0.000000  0.000000  0.001829  ...  0.000000  0.000000  0.001984  0.041496   \n",
       "5   0.000000  0.000000  0.000000  ...  0.004634  0.048205  0.000000  0.000000   \n",
       "6   0.005355  0.001112  0.002276  ...  0.000104  0.000000  0.000000  0.001830   \n",
       "7   0.000000  0.002178  0.008874  ...  0.000000  0.000000  0.000000  0.031370   \n",
       "8   0.000000  0.000000  0.005690  ...  0.001245  0.000000  0.000000  0.000000   \n",
       "9   0.000000  0.000540  0.000000  ...  0.000223  0.000000  0.000000  0.000000   \n",
       "10  0.000000  0.000698  0.000000  ...  0.000000  0.016567  0.000000  0.000000   \n",
       "11  0.000000  0.000439  0.000000  ...  0.000000  0.000000  0.005344  0.000000   \n",
       "12  0.000231  0.000000  0.000000  ...  0.000000  0.000000  0.000000  0.010159   \n",
       "13  0.000000  0.000240  0.004921  ...  0.000000  0.000000  0.000000  0.000000   \n",
       "14  0.000816  0.001698  0.000000  ...  0.002077  0.000000  0.000000  0.003274   \n",
       "15  0.000000  0.000000  0.000000  ...  0.000000  0.000000  0.000000  0.000000   \n",
       "16  0.000317  0.000164  0.002545  ...  0.000686  0.000000  0.000538  0.000000   \n",
       "17  0.000000  0.000000  0.000000  ...  0.000455  0.045834  0.001228  0.000000   \n",
       "18  0.000000  0.000051  0.001706  ...  0.000647  0.000000  0.000000  0.000000   \n",
       "19  0.000895  0.000050  0.000000  ...  0.002071  0.012636  0.000000  0.006716   \n",
       "\n",
       "       yuris       zap    zombie      zone      zoom    zoomer  \n",
       "0   0.000000  0.000000  0.000000  0.000000  0.000000  0.000217  \n",
       "1   0.000000  0.000000  0.012086  0.000000  0.000000  0.000000  \n",
       "2   0.000695  0.000000  0.006519  0.050168  0.006037  0.000385  \n",
       "3   0.000868  0.000000  0.005022  0.000000  0.000931  0.000000  \n",
       "4   0.003390  0.006869  0.004749  0.000281  0.006410  0.000195  \n",
       "5   0.000000  0.010477  0.000292  0.000174  0.001678  0.000000  \n",
       "6   0.000622  0.000000  0.000000  0.000000  0.000000  0.000000  \n",
       "7   0.000000  0.000000  0.000933  0.000000  0.000000  0.000000  \n",
       "8   0.000184  0.000000  0.013013  0.000000  0.000000  0.003846  \n",
       "9   0.002154  0.000000  0.000000  0.000177  0.003363  0.000000  \n",
       "10  0.000000  0.000000  0.001779  0.000761  0.011868  0.000000  \n",
       "11  0.000045  0.000000  0.000000  0.000000  0.003724  0.000000  \n",
       "12  0.000000  0.000000  0.004706  0.000000  0.000000  0.000000  \n",
       "13  0.000000  0.002308  0.000138  0.000000  0.000000  0.001029  \n",
       "14  0.000000  0.000000  0.010274  0.000000  0.000620  0.001120  \n",
       "15  0.000000  0.001214  0.000000  0.000000  0.001156  0.000000  \n",
       "16  0.000000  0.002252  0.007970  0.000000  0.000698  0.000000  \n",
       "17  0.000000  0.000000  0.004528  0.000000  0.000000  0.000000  \n",
       "18  0.000823  0.000000  0.000000  0.000000  0.003454  0.007095  \n",
       "19  0.000000  0.000000  0.000000  0.000000  0.001709  0.000000  \n",
       "\n",
       "[20 rows x 6205 columns]"
      ]
     },
     "execution_count": 51,
     "metadata": {},
     "output_type": "execute_result"
    }
   ],
   "source": [
    "components_fin = pd.DataFrame(model_fin.components_, columns=tf_idf_vectorizer.get_feature_names())\n",
    "components_fin"
   ]
  },
  {
   "cell_type": "code",
   "execution_count": 114,
   "id": "00059eee",
   "metadata": {},
   "outputs": [
    {
     "name": "stdout",
     "output_type": "stream",
     "text": [
      "For topic 1 the words with the highest value are:\n",
      "season      7.302391\n",
      "end         0.637098\n",
      "good        0.457603\n",
      "finish      0.282417\n",
      "hope        0.279212\n",
      "new         0.242411\n",
      "rewatche    0.211391\n",
      "well        0.184132\n",
      "come        0.179829\n",
      "spoiler     0.167959\n",
      "plot        0.167757\n",
      "final       0.167444\n",
      "rank        0.157004\n",
      "finale      0.153061\n",
      "start       0.152092\n",
      "previous    0.148363\n",
      "ending      0.145450\n",
      "happen      0.142304\n",
      "great       0.133309\n",
      "wait        0.132331\n",
      "Name: 0, dtype: float64\n",
      "\n",
      "\n",
      "For topic 2 the words with the highest value are:\n",
      "mind          2.869288\n",
      "flayer        2.842492\n",
      "control       0.355129\n",
      "monster       0.282945\n",
      "form          0.202153\n",
      "hive          0.167741\n",
      "flay          0.147717\n",
      "demogorgon    0.146063\n",
      "human         0.140411\n",
      "create        0.136529\n",
      "spider        0.133935\n",
      "henry         0.131000\n",
      "possess       0.124606\n",
      "world         0.121239\n",
      "body          0.120299\n",
      "creature      0.115340\n",
      "shadow        0.111778\n",
      "close         0.106379\n",
      "theory        0.100291\n",
      "big           0.095213\n",
      "Name: 1, dtype: float64\n",
      "\n",
      "\n",
      "For topic 3 the words with the highest value are:\n",
      "time       2.551257\n",
      "release    1.120115\n",
      "year       0.939232\n",
      "go         0.803853\n",
      "come       0.688820\n",
      "trailer    0.654629\n",
      "day        0.622431\n",
      "new        0.469448\n",
      "date       0.446824\n",
      "wait       0.387314\n",
      "long       0.382812\n",
      "see        0.380647\n",
      "get        0.359354\n",
      "travel     0.339673\n",
      "jump       0.326655\n",
      "clock      0.309335\n",
      "month      0.306698\n",
      "say        0.305116\n",
      "old        0.289663\n",
      "teaser     0.288796\n",
      "Name: 2, dtype: float64\n",
      "\n",
      "\n",
      "For topic 4 the words with the highest value are:\n",
      "thing       2.965138\n",
      "strange     2.748412\n",
      "stranger    0.609683\n",
      "game        0.286685\n",
      "good        0.166284\n",
      "fan         0.162657\n",
      "netflix     0.147574\n",
      "video       0.145710\n",
      "book        0.116423\n",
      "show        0.111957\n",
      "series      0.105972\n",
      "want        0.105165\n",
      "movie       0.099369\n",
      "guy         0.093939\n",
      "cast        0.092788\n",
      "find        0.088084\n",
      "thank       0.085670\n",
      "new         0.082538\n",
      "theme       0.081530\n",
      "post        0.079912\n",
      "Name: 3, dtype: float64\n",
      "\n",
      "\n",
      "For topic 5 the words with the highest value are:\n",
      "hopper      3.081296\n",
      "joyce       0.977631\n",
      "russian     0.939784\n",
      "american    0.749034\n",
      "alive       0.570151\n",
      "scene       0.414669\n",
      "end         0.407353\n",
      "russia      0.377687\n",
      "theory      0.348428\n",
      "murray      0.344355\n",
      "credit      0.305740\n",
      "dead        0.292832\n",
      "machine     0.231938\n",
      "jim         0.225488\n",
      "find        0.199611\n",
      "die         0.197028\n",
      "death       0.182423\n",
      "brenner     0.182292\n",
      "hop         0.177480\n",
      "prison      0.172268\n",
      "Name: 4, dtype: float64\n",
      "\n",
      "\n",
      "For topic 6 the words with the highest value are:\n",
      "song          4.084994\n",
      "play          1.205149\n",
      "music         0.685352\n",
      "favorite      0.408951\n",
      "soundtrack    0.405751\n",
      "scene         0.346366\n",
      "hill          0.338047\n",
      "listen        0.321316\n",
      "run           0.306003\n",
      "hear          0.298762\n",
      "find          0.260246\n",
      "save          0.258857\n",
      "kate          0.208817\n",
      "love          0.175642\n",
      "bush          0.171848\n",
      "playlist      0.157211\n",
      "sound         0.144863\n",
      "help          0.144090\n",
      "background    0.143091\n",
      "guitar        0.142382\n",
      "Name: 5, dtype: float64\n",
      "\n",
      "\n",
      "For topic 7 the words with the highest value are:\n",
      "steve           3.294529\n",
      "nancy           2.294148\n",
      "jonathan        1.303284\n",
      "robin           1.240634\n",
      "dustin          0.596113\n",
      "love            0.317003\n",
      "johnathan       0.234245\n",
      "relationship    0.213456\n",
      "harrington      0.184526\n",
      "go              0.165505\n",
      "nancys          0.164650\n",
      "joyce           0.162063\n",
      "want            0.161461\n",
      "barb            0.150144\n",
      "get             0.146247\n",
      "work            0.137942\n",
      "amp             0.128346\n",
      "murray          0.127750\n",
      "friend          0.126126\n",
      "fight           0.122226\n",
      "Name: 6, dtype: float64\n",
      "\n",
      "\n",
      "For topic 8 the words with the highest value are:\n",
      "character      4.931174\n",
      "favorite       1.103230\n",
      "main           0.959737\n",
      "die            0.491729\n",
      "death          0.482077\n",
      "kill           0.480703\n",
      "love           0.472953\n",
      "good           0.455946\n",
      "new            0.430609\n",
      "development    0.334117\n",
      "opinion        0.327353\n",
      "cast           0.318587\n",
      "favourite      0.302415\n",
      "story          0.291810\n",
      "want           0.286784\n",
      "arc            0.272477\n",
      "great          0.268430\n",
      "plot           0.239195\n",
      "hate           0.233733\n",
      "poll           0.228215\n",
      "Name: 7, dtype: float64\n",
      "\n",
      "\n",
      "For topic 9 the words with the highest value are:\n",
      "mike            3.627831\n",
      "love            0.667360\n",
      "friend          0.566452\n",
      "dustin          0.428866\n",
      "gay             0.389447\n",
      "will            0.353659\n",
      "lucas           0.334675\n",
      "relationship    0.327389\n",
      "say             0.315997\n",
      "tell            0.259119\n",
      "girl            0.253167\n",
      "want            0.241353\n",
      "feeling         0.233662\n",
      "wheeler         0.211876\n",
      "group           0.180437\n",
      "hate            0.178156\n",
      "max             0.172200\n",
      "boy             0.168616\n",
      "go              0.167797\n",
      "talk            0.164056\n",
      "Name: 8, dtype: float64\n",
      "\n",
      "\n",
      "For topic 10 the words with the highest value are:\n",
      "gate          2.601068\n",
      "open          1.708183\n",
      "demogorgon    1.402009\n",
      "russian       1.020329\n",
      "close         0.625810\n",
      "portal        0.503370\n",
      "question      0.420516\n",
      "hawkin        0.415240\n",
      "russia        0.301921\n",
      "kill          0.300096\n",
      "demodog       0.216633\n",
      "lab           0.195235\n",
      "door          0.170245\n",
      "upsidedown    0.163867\n",
      "end           0.153176\n",
      "explain       0.149935\n",
      "escape        0.141558\n",
      "spoiler       0.140664\n",
      "miss          0.140324\n",
      "demogorgan    0.133612\n",
      "Name: 9, dtype: float64\n",
      "\n",
      "\n",
      "For topic 11 the words with the highest value are:\n",
      "episode       3.484631\n",
      "scene         0.350712\n",
      "volume        0.235736\n",
      "final         0.198057\n",
      "minute        0.194570\n",
      "spoiler       0.180783\n",
      "hour          0.165332\n",
      "title         0.165264\n",
      "sister        0.147051\n",
      "long          0.145987\n",
      "end           0.141763\n",
      "notice        0.132794\n",
      "question      0.119026\n",
      "favorite      0.116609\n",
      "lost          0.111167\n",
      "music         0.106091\n",
      "discussion    0.098180\n",
      "find          0.095214\n",
      "series        0.092742\n",
      "say           0.092505\n",
      "Name: 10, dtype: float64\n",
      "\n",
      "\n",
      "For topic 12 the words with the highest value are:\n",
      "vecna         3.986615\n",
      "kill          0.765619\n",
      "victim        0.327913\n",
      "theory        0.301503\n",
      "max           0.296293\n",
      "defeat        0.259163\n",
      "creel         0.213823\n",
      "mindflayer    0.213509\n",
      "clock         0.206975\n",
      "nancy         0.184016\n",
      "villain       0.180163\n",
      "henry         0.169405\n",
      "control       0.168154\n",
      "body          0.159906\n",
      "save          0.157344\n",
      "curse         0.144807\n",
      "victor        0.136445\n",
      "trauma        0.136147\n",
      "attack        0.126460\n",
      "plan          0.124506\n",
      "Name: 11, dtype: float64\n",
      "\n",
      "\n",
      "For topic 13 the words with the highest value are:\n",
      "eddie        3.114063\n",
      "die          1.237752\n",
      "dustin       0.719308\n",
      "death        0.609177\n",
      "eddy         0.597113\n",
      "jason        0.577039\n",
      "chrissy      0.389533\n",
      "kill         0.383636\n",
      "guitar       0.355887\n",
      "munson       0.341450\n",
      "bat          0.318154\n",
      "play         0.286993\n",
      "go           0.222463\n",
      "master       0.197207\n",
      "puppet       0.191028\n",
      "trailer      0.181070\n",
      "hero         0.171275\n",
      "kas          0.171005\n",
      "sacrifice    0.162129\n",
      "bring        0.155612\n",
      "Name: 12, dtype: float64\n",
      "\n",
      "\n",
      "For topic 14 the words with the highest value are:\n",
      "power         2.906684\n",
      "brenner       1.199035\n",
      "kali          0.641752\n",
      "kid           0.635493\n",
      "lab           0.631442\n",
      "child         0.477506\n",
      "henry         0.443537\n",
      "theory        0.437863\n",
      "eleven        0.406906\n",
      "lose          0.381070\n",
      "use           0.361190\n",
      "ability       0.326560\n",
      "el            0.301641\n",
      "experiment    0.301323\n",
      "maybe         0.292758\n",
      "number        0.264285\n",
      "escape        0.234918\n",
      "try           0.234882\n",
      "get           0.227402\n",
      "subject       0.219135\n",
      "Name: 13, dtype: float64\n",
      "\n",
      "\n",
      "For topic 15 the words with the highest value are:\n",
      "like         2.886827\n",
      "feel         1.861851\n",
      "look         0.553316\n",
      "people       0.506176\n",
      "way          0.336724\n",
      "opinion      0.311032\n",
      "lot          0.307921\n",
      "bad          0.295299\n",
      "scene        0.294339\n",
      "love         0.255515\n",
      "kid          0.220932\n",
      "good         0.217758\n",
      "get          0.204363\n",
      "different    0.191477\n",
      "kind         0.189783\n",
      "unpopular    0.184495\n",
      "kinda        0.182829\n",
      "story        0.173096\n",
      "hate         0.168960\n",
      "bit          0.167464\n",
      "Name: 14, dtype: float64\n",
      "\n",
      "\n",
      "For topic 16 the words with the highest value are:\n",
      "think         3.743665\n",
      "guy           0.888692\n",
      "theory        0.363474\n",
      "happen        0.321420\n",
      "die           0.318658\n",
      "go            0.255824\n",
      "end           0.219913\n",
      "people        0.216144\n",
      "gon           0.198163\n",
      "maybe         0.196687\n",
      "personally    0.174345\n",
      "thought       0.162793\n",
      "see           0.147962\n",
      "good          0.130023\n",
      "curious       0.128969\n",
      "actually      0.127570\n",
      "sure          0.120640\n",
      "cool          0.113501\n",
      "probably      0.113202\n",
      "lot           0.108670\n",
      "Name: 15, dtype: float64\n",
      "\n",
      "\n",
      "For topic 17 the words with the highest value are:\n",
      "upside         3.690141\n",
      "world          0.774386\n",
      "theory         0.569506\n",
      "light          0.535208\n",
      "hawkin         0.478520\n",
      "create         0.400152\n",
      "portal         0.373171\n",
      "real           0.332329\n",
      "stick          0.320946\n",
      "dimension      0.244809\n",
      "able           0.222024\n",
      "exist          0.218972\n",
      "creature       0.208853\n",
      "wall           0.202703\n",
      "communicate    0.201887\n",
      "house          0.199024\n",
      "freeze         0.170673\n",
      "explain        0.162416\n",
      "send           0.161533\n",
      "version        0.155946\n",
      "Name: 16, dtype: float64\n",
      "\n",
      "\n",
      "For topic 18 the words with the highest value are:\n",
      "watch      3.066756\n",
      "finish     0.442739\n",
      "start      0.337636\n",
      "good       0.284801\n",
      "love       0.264295\n",
      "binge      0.250599\n",
      "series     0.236585\n",
      "want       0.206006\n",
      "cry        0.154668\n",
      "wait       0.154611\n",
      "rewatch    0.150242\n",
      "worth      0.131325\n",
      "week       0.128350\n",
      "show       0.120734\n",
      "spoiler    0.119898\n",
      "day        0.116264\n",
      "ago        0.108500\n",
      "get        0.106202\n",
      "scene      0.105214\n",
      "friend     0.101291\n",
      "Name: 17, dtype: float64\n",
      "\n",
      "\n",
      "For topic 19 the words with the highest value are:\n",
      "max       2.190487\n",
      "billy     2.142209\n",
      "lucas     0.501431\n",
      "scene     0.470905\n",
      "die       0.342079\n",
      "maxs      0.248032\n",
      "luca      0.245093\n",
      "billys    0.219163\n",
      "death     0.205130\n",
      "letter    0.161769\n",
      "save      0.145082\n",
      "dear      0.141336\n",
      "racist    0.135422\n",
      "dead      0.133433\n",
      "dad       0.130488\n",
      "get       0.130249\n",
      "see       0.121480\n",
      "jason     0.119288\n",
      "mom       0.112844\n",
      "end       0.109534\n",
      "Name: 18, dtype: float64\n",
      "\n",
      "\n",
      "For topic 20 the words with the highest value are:\n",
      "know        2.678942\n",
      "want        0.599414\n",
      "question    0.516775\n",
      "find        0.352308\n",
      "tell        0.289169\n",
      "people      0.272467\n",
      "ask         0.266431\n",
      "happen      0.219440\n",
      "answer      0.191998\n",
      "let         0.189790\n",
      "say         0.178801\n",
      "spoiler     0.166643\n",
      "talk        0.141066\n",
      "post        0.140109\n",
      "miss        0.137683\n",
      "see         0.133675\n",
      "come        0.131334\n",
      "wonder      0.121734\n",
      "try         0.118687\n",
      "sure        0.118119\n",
      "Name: 19, dtype: float64\n",
      "\n",
      "\n"
     ]
    }
   ],
   "source": [
    "for topic in range(components_fin.shape[0]):\n",
    "    tmp = components_fin.iloc[topic]\n",
    "    print(f'For topic {topic+1} the words with the highest value are:')\n",
    "    print(tmp.nlargest(20))\n",
    "    print('\\n')"
   ]
  },
  {
   "cell_type": "code",
   "execution_count": 58,
   "id": "0a214432",
   "metadata": {},
   "outputs": [],
   "source": [
    "H = model_fin.fit_transform(tf_idf)"
   ]
  },
  {
   "cell_type": "code",
   "execution_count": 64,
   "id": "6be8a206",
   "metadata": {},
   "outputs": [
    {
     "data": {
      "text/plain": [
       "(30660, 20)"
      ]
     },
     "execution_count": 64,
     "metadata": {},
     "output_type": "execute_result"
    }
   ],
   "source": [
    "H.shape"
   ]
  },
  {
   "cell_type": "code",
   "execution_count": 63,
   "id": "538f0463",
   "metadata": {},
   "outputs": [
    {
     "data": {
      "text/plain": [
       "array([11,  0, 11, ..., 10, 10, 14])"
      ]
     },
     "execution_count": 63,
     "metadata": {},
     "output_type": "execute_result"
    }
   ],
   "source": [
    "H.argmax(axis=1)"
   ]
  },
  {
   "cell_type": "code",
   "execution_count": 65,
   "id": "cce64ebf",
   "metadata": {},
   "outputs": [],
   "source": [
    "topic_df = pd.DataFrame(H.argmax(axis=1),columns = ['Topic Assigned'])"
   ]
  },
  {
   "cell_type": "code",
   "execution_count": 66,
   "id": "f87336b3",
   "metadata": {},
   "outputs": [
    {
     "data": {
      "text/html": [
       "<div>\n",
       "<style scoped>\n",
       "    .dataframe tbody tr th:only-of-type {\n",
       "        vertical-align: middle;\n",
       "    }\n",
       "\n",
       "    .dataframe tbody tr th {\n",
       "        vertical-align: top;\n",
       "    }\n",
       "\n",
       "    .dataframe thead th {\n",
       "        text-align: right;\n",
       "    }\n",
       "</style>\n",
       "<table border=\"1\" class=\"dataframe\">\n",
       "  <thead>\n",
       "    <tr style=\"text-align: right;\">\n",
       "      <th></th>\n",
       "      <th>Topic Assigned</th>\n",
       "    </tr>\n",
       "  </thead>\n",
       "  <tbody>\n",
       "    <tr>\n",
       "      <th>0</th>\n",
       "      <td>11</td>\n",
       "    </tr>\n",
       "    <tr>\n",
       "      <th>1</th>\n",
       "      <td>0</td>\n",
       "    </tr>\n",
       "    <tr>\n",
       "      <th>2</th>\n",
       "      <td>11</td>\n",
       "    </tr>\n",
       "    <tr>\n",
       "      <th>3</th>\n",
       "      <td>9</td>\n",
       "    </tr>\n",
       "    <tr>\n",
       "      <th>4</th>\n",
       "      <td>1</td>\n",
       "    </tr>\n",
       "  </tbody>\n",
       "</table>\n",
       "</div>"
      ],
      "text/plain": [
       "   Topic Assigned\n",
       "0              11\n",
       "1               0\n",
       "2              11\n",
       "3               9\n",
       "4               1"
      ]
     },
     "execution_count": 66,
     "metadata": {},
     "output_type": "execute_result"
    }
   ],
   "source": [
    "topic_df.head()"
   ]
  },
  {
   "cell_type": "code",
   "execution_count": 70,
   "id": "f6faa3c0",
   "metadata": {},
   "outputs": [],
   "source": [
    "fin_w_topics = pd.concat([df,topic_df],axis=1)"
   ]
  },
  {
   "cell_type": "code",
   "execution_count": 71,
   "id": "6087a388",
   "metadata": {},
   "outputs": [
    {
     "data": {
      "text/html": [
       "<div>\n",
       "<style scoped>\n",
       "    .dataframe tbody tr th:only-of-type {\n",
       "        vertical-align: middle;\n",
       "    }\n",
       "\n",
       "    .dataframe tbody tr th {\n",
       "        vertical-align: top;\n",
       "    }\n",
       "\n",
       "    .dataframe thead th {\n",
       "        text-align: right;\n",
       "    }\n",
       "</style>\n",
       "<table border=\"1\" class=\"dataframe\">\n",
       "  <thead>\n",
       "    <tr style=\"text-align: right;\">\n",
       "      <th></th>\n",
       "      <th>index</th>\n",
       "      <th>AUTHOR</th>\n",
       "      <th>ID</th>\n",
       "      <th>SCORE</th>\n",
       "      <th>CREATED_DATE</th>\n",
       "      <th>TITLE</th>\n",
       "      <th>NUM_COMMENTS</th>\n",
       "      <th>SELFTEXT</th>\n",
       "      <th>FULL_POSTS</th>\n",
       "      <th>token_lemma</th>\n",
       "      <th>FULL_POSTS_CLEAN</th>\n",
       "      <th>polarity</th>\n",
       "      <th>compound</th>\n",
       "      <th>sentiment</th>\n",
       "      <th>tok_len</th>\n",
       "      <th>Topic Assigned</th>\n",
       "    </tr>\n",
       "  </thead>\n",
       "  <tbody>\n",
       "    <tr>\n",
       "      <th>0</th>\n",
       "      <td>1</td>\n",
       "      <td>Lower-Adhesiveness-3</td>\n",
       "      <td>y1yfqt</td>\n",
       "      <td>1</td>\n",
       "      <td>2022-10-12</td>\n",
       "      <td>The upsidedown turns on Vecna, can he survive?</td>\n",
       "      <td>1</td>\n",
       "      <td>For some reason Vecna loses all his control ov...</td>\n",
       "      <td>The upsidedown turns on Vecna, can he survive?...</td>\n",
       "      <td>[upsidedown, turn, vecna, survive, reason, vec...</td>\n",
       "      <td>upsidedown turn vecna survive reason vecna los...</td>\n",
       "      <td>{'neg': 0.365, 'neu': 0.635, 'pos': 0.0, 'comp...</td>\n",
       "      <td>-0.8720</td>\n",
       "      <td>Negative</td>\n",
       "      <td>23</td>\n",
       "      <td>11</td>\n",
       "    </tr>\n",
       "    <tr>\n",
       "      <th>1</th>\n",
       "      <td>2</td>\n",
       "      <td>mrs_bombastic22</td>\n",
       "      <td>y1yf6g</td>\n",
       "      <td>1</td>\n",
       "      <td>2022-10-12</td>\n",
       "      <td>Season 4 rewatch - 2 questions</td>\n",
       "      <td>1</td>\n",
       "      <td>When 001 went on his killing spree in the lab....</td>\n",
       "      <td>Season 4 rewatch - 2 questions. When 001 went ...</td>\n",
       "      <td>[season, rewatch, question, go, killing, spree...</td>\n",
       "      <td>season rewatch question go killing spree lab k...</td>\n",
       "      <td>{'neg': 0.503, 'neu': 0.497, 'pos': 0.0, 'comp...</td>\n",
       "      <td>-0.8779</td>\n",
       "      <td>Negative</td>\n",
       "      <td>11</td>\n",
       "      <td>0</td>\n",
       "    </tr>\n",
       "    <tr>\n",
       "      <th>2</th>\n",
       "      <td>8</td>\n",
       "      <td>ReliefComplex4339</td>\n",
       "      <td>y1sa5w</td>\n",
       "      <td>1</td>\n",
       "      <td>2022-10-12</td>\n",
       "      <td>Dear Billy and Vecna</td>\n",
       "      <td>1</td>\n",
       "      <td>So by episode 2-3 the kids were already convin...</td>\n",
       "      <td>Dear Billy and Vecna. So by episode 2-3 the ki...</td>\n",
       "      <td>[dear, billy, vecna, episode, kid, convince, e...</td>\n",
       "      <td>dear billy vecna episode kid convince evil cal...</td>\n",
       "      <td>{'neg': 0.29, 'neu': 0.536, 'pos': 0.174, 'com...</td>\n",
       "      <td>-0.8979</td>\n",
       "      <td>Negative</td>\n",
       "      <td>52</td>\n",
       "      <td>11</td>\n",
       "    </tr>\n",
       "    <tr>\n",
       "      <th>3</th>\n",
       "      <td>9</td>\n",
       "      <td>EstablishmentWild263</td>\n",
       "      <td>y1s62k</td>\n",
       "      <td>1</td>\n",
       "      <td>2022-10-12</td>\n",
       "      <td>The Demogorgon(S1) is the child of Vecna</td>\n",
       "      <td>1</td>\n",
       "      <td>After four seasons Ive noticed the secon...</td>\n",
       "      <td>The Demogorgon(S1) is the child of Vecna.     ...</td>\n",
       "      <td>[child, vecna, season, notice, second, big, my...</td>\n",
       "      <td>child vecna season notice second big mystery u...</td>\n",
       "      <td>{'neg': 0.016, 'neu': 0.893, 'pos': 0.091, 'co...</td>\n",
       "      <td>0.8176</td>\n",
       "      <td>Positive</td>\n",
       "      <td>106</td>\n",
       "      <td>9</td>\n",
       "    </tr>\n",
       "    <tr>\n",
       "      <th>4</th>\n",
       "      <td>13</td>\n",
       "      <td>Pareeeee</td>\n",
       "      <td>y1psjo</td>\n",
       "      <td>1</td>\n",
       "      <td>2022-10-12</td>\n",
       "      <td>My theory [SPOILERS]</td>\n",
       "      <td>1</td>\n",
       "      <td>What if Vecna isn't in control, but only think...</td>\n",
       "      <td>My theory [SPOILERS]. What if Vecna isn't in c...</td>\n",
       "      <td>[theory, spoiler, vecna, control, think, mind,...</td>\n",
       "      <td>theory spoiler vecna control think mind flayer...</td>\n",
       "      <td>{'neg': 0.115, 'neu': 0.749, 'pos': 0.136, 'co...</td>\n",
       "      <td>-0.2960</td>\n",
       "      <td>Negative</td>\n",
       "      <td>32</td>\n",
       "      <td>1</td>\n",
       "    </tr>\n",
       "    <tr>\n",
       "      <th>...</th>\n",
       "      <td>...</td>\n",
       "      <td>...</td>\n",
       "      <td>...</td>\n",
       "      <td>...</td>\n",
       "      <td>...</td>\n",
       "      <td>...</td>\n",
       "      <td>...</td>\n",
       "      <td>...</td>\n",
       "      <td>...</td>\n",
       "      <td>...</td>\n",
       "      <td>...</td>\n",
       "      <td>...</td>\n",
       "      <td>...</td>\n",
       "      <td>...</td>\n",
       "      <td>...</td>\n",
       "      <td>...</td>\n",
       "    </tr>\n",
       "    <tr>\n",
       "      <th>30655</th>\n",
       "      <td>48331</td>\n",
       "      <td>embarrassingaf123</td>\n",
       "      <td>c99gpu</td>\n",
       "      <td>9</td>\n",
       "      <td>2019-07-05</td>\n",
       "      <td>Next time I have a relationship struggle, I'm ...</td>\n",
       "      <td>8</td>\n",
       "      <td>This guy seems to just work</td>\n",
       "      <td>Next time I have a relationship struggle, I'm ...</td>\n",
       "      <td>[time, relationship, struggle, call, murray, g...</td>\n",
       "      <td>time relationship struggle call murray guy work</td>\n",
       "      <td>{'neg': 0.277, 'neu': 0.723, 'pos': 0.0, 'comp...</td>\n",
       "      <td>-0.3182</td>\n",
       "      <td>Negative</td>\n",
       "      <td>7</td>\n",
       "      <td>2</td>\n",
       "    </tr>\n",
       "    <tr>\n",
       "      <th>30656</th>\n",
       "      <td>48333</td>\n",
       "      <td>Aseph88</td>\n",
       "      <td>c99g2p</td>\n",
       "      <td>1</td>\n",
       "      <td>2019-07-05</td>\n",
       "      <td>[minor spoilers]Thought Kline's sign looked fa...</td>\n",
       "      <td>0</td>\n",
       "      <td>Sorry for getting political but couldnt help b...</td>\n",
       "      <td>[minor spoilers]Thought Kline's sign looked fa...</td>\n",
       "      <td>[minor, spoilersthought, kline, sign, look, fa...</td>\n",
       "      <td>minor spoilersthought kline sign look familiar...</td>\n",
       "      <td>{'neg': 0.053, 'neu': 0.574, 'pos': 0.373, 'co...</td>\n",
       "      <td>0.7783</td>\n",
       "      <td>Positive</td>\n",
       "      <td>19</td>\n",
       "      <td>15</td>\n",
       "    </tr>\n",
       "    <tr>\n",
       "      <th>30657</th>\n",
       "      <td>48334</td>\n",
       "      <td>Imperial3agle</td>\n",
       "      <td>c99fxn</td>\n",
       "      <td>1</td>\n",
       "      <td>2019-07-05</td>\n",
       "      <td>[No Spoilers] How sure are we that there will ...</td>\n",
       "      <td>10</td>\n",
       "      <td>By the way, I have only seen the first 4 episo...</td>\n",
       "      <td>[No Spoilers] How sure are we that there will ...</td>\n",
       "      <td>[spoiler, sure, season, way, see, episode, spo...</td>\n",
       "      <td>spoiler sure season way see episode spoiler</td>\n",
       "      <td>{'neg': 0.0, 'neu': 0.723, 'pos': 0.277, 'comp...</td>\n",
       "      <td>0.3182</td>\n",
       "      <td>Positive</td>\n",
       "      <td>7</td>\n",
       "      <td>10</td>\n",
       "    </tr>\n",
       "    <tr>\n",
       "      <th>30658</th>\n",
       "      <td>48335</td>\n",
       "      <td>dudeRedditSucksNow</td>\n",
       "      <td>c99ft9</td>\n",
       "      <td>1</td>\n",
       "      <td>2019-07-05</td>\n",
       "      <td>In episode 2 where Joyce is watching Friends, ...</td>\n",
       "      <td>2</td>\n",
       "      <td>We can confirm an exact timeline of the show u...</td>\n",
       "      <td>In episode 2 where Joyce is watching Friends, ...</td>\n",
       "      <td>[episode, joyce, watch, friend, episode, diane...</td>\n",
       "      <td>episode joyce watch friend episode diane marry...</td>\n",
       "      <td>{'neg': 0.0, 'neu': 0.802, 'pos': 0.198, 'comp...</td>\n",
       "      <td>0.7506</td>\n",
       "      <td>Positive</td>\n",
       "      <td>28</td>\n",
       "      <td>10</td>\n",
       "    </tr>\n",
       "    <tr>\n",
       "      <th>30659</th>\n",
       "      <td>48336</td>\n",
       "      <td>Marty_McFlyJR</td>\n",
       "      <td>c99fc6</td>\n",
       "      <td>627</td>\n",
       "      <td>2019-07-05</td>\n",
       "      <td>Uhm... Why so I feel like I'm the only one...</td>\n",
       "      <td>69</td>\n",
       "      <td>That feels bad about Billy? He was literally a...</td>\n",
       "      <td>Uhm... Why so I feel like I'm the only one.......</td>\n",
       "      <td>[feel, like, feel, bad, billy, literally, kid,...</td>\n",
       "      <td>feel like feel bad billy literally kid abuse d...</td>\n",
       "      <td>{'neg': 0.328, 'neu': 0.426, 'pos': 0.246, 'co...</td>\n",
       "      <td>-0.5719</td>\n",
       "      <td>Negative</td>\n",
       "      <td>20</td>\n",
       "      <td>14</td>\n",
       "    </tr>\n",
       "  </tbody>\n",
       "</table>\n",
       "<p>30660 rows × 16 columns</p>\n",
       "</div>"
      ],
      "text/plain": [
       "       index                AUTHOR      ID  SCORE CREATED_DATE  \\\n",
       "0          1  Lower-Adhesiveness-3  y1yfqt      1   2022-10-12   \n",
       "1          2       mrs_bombastic22  y1yf6g      1   2022-10-12   \n",
       "2          8     ReliefComplex4339  y1sa5w      1   2022-10-12   \n",
       "3          9  EstablishmentWild263  y1s62k      1   2022-10-12   \n",
       "4         13              Pareeeee  y1psjo      1   2022-10-12   \n",
       "...      ...                   ...     ...    ...          ...   \n",
       "30655  48331     embarrassingaf123  c99gpu      9   2019-07-05   \n",
       "30656  48333               Aseph88  c99g2p      1   2019-07-05   \n",
       "30657  48334         Imperial3agle  c99fxn      1   2019-07-05   \n",
       "30658  48335    dudeRedditSucksNow  c99ft9      1   2019-07-05   \n",
       "30659  48336         Marty_McFlyJR  c99fc6    627   2019-07-05   \n",
       "\n",
       "                                                   TITLE NUM_COMMENTS  \\\n",
       "0         The upsidedown turns on Vecna, can he survive?            1   \n",
       "1                         Season 4 rewatch - 2 questions            1   \n",
       "2                                   Dear Billy and Vecna            1   \n",
       "3               The Demogorgon(S1) is the child of Vecna            1   \n",
       "4                                   My theory [SPOILERS]            1   \n",
       "...                                                  ...          ...   \n",
       "30655  Next time I have a relationship struggle, I'm ...            8   \n",
       "30656  [minor spoilers]Thought Kline's sign looked fa...            0   \n",
       "30657  [No Spoilers] How sure are we that there will ...           10   \n",
       "30658  In episode 2 where Joyce is watching Friends, ...            2   \n",
       "30659      Uhm... Why so I feel like I'm the only one...           69   \n",
       "\n",
       "                                                SELFTEXT  \\\n",
       "0      For some reason Vecna loses all his control ov...   \n",
       "1      When 001 went on his killing spree in the lab....   \n",
       "2      So by episode 2-3 the kids were already convin...   \n",
       "3            After four seasons Ive noticed the secon...   \n",
       "4      What if Vecna isn't in control, but only think...   \n",
       "...                                                  ...   \n",
       "30655                        This guy seems to just work   \n",
       "30656  Sorry for getting political but couldnt help b...   \n",
       "30657  By the way, I have only seen the first 4 episo...   \n",
       "30658  We can confirm an exact timeline of the show u...   \n",
       "30659  That feels bad about Billy? He was literally a...   \n",
       "\n",
       "                                              FULL_POSTS  \\\n",
       "0      The upsidedown turns on Vecna, can he survive?...   \n",
       "1      Season 4 rewatch - 2 questions. When 001 went ...   \n",
       "2      Dear Billy and Vecna. So by episode 2-3 the ki...   \n",
       "3      The Demogorgon(S1) is the child of Vecna.     ...   \n",
       "4      My theory [SPOILERS]. What if Vecna isn't in c...   \n",
       "...                                                  ...   \n",
       "30655  Next time I have a relationship struggle, I'm ...   \n",
       "30656  [minor spoilers]Thought Kline's sign looked fa...   \n",
       "30657  [No Spoilers] How sure are we that there will ...   \n",
       "30658  In episode 2 where Joyce is watching Friends, ...   \n",
       "30659  Uhm... Why so I feel like I'm the only one.......   \n",
       "\n",
       "                                             token_lemma  \\\n",
       "0      [upsidedown, turn, vecna, survive, reason, vec...   \n",
       "1      [season, rewatch, question, go, killing, spree...   \n",
       "2      [dear, billy, vecna, episode, kid, convince, e...   \n",
       "3      [child, vecna, season, notice, second, big, my...   \n",
       "4      [theory, spoiler, vecna, control, think, mind,...   \n",
       "...                                                  ...   \n",
       "30655  [time, relationship, struggle, call, murray, g...   \n",
       "30656  [minor, spoilersthought, kline, sign, look, fa...   \n",
       "30657  [spoiler, sure, season, way, see, episode, spo...   \n",
       "30658  [episode, joyce, watch, friend, episode, diane...   \n",
       "30659  [feel, like, feel, bad, billy, literally, kid,...   \n",
       "\n",
       "                                        FULL_POSTS_CLEAN  \\\n",
       "0      upsidedown turn vecna survive reason vecna los...   \n",
       "1      season rewatch question go killing spree lab k...   \n",
       "2      dear billy vecna episode kid convince evil cal...   \n",
       "3      child vecna season notice second big mystery u...   \n",
       "4      theory spoiler vecna control think mind flayer...   \n",
       "...                                                  ...   \n",
       "30655    time relationship struggle call murray guy work   \n",
       "30656  minor spoilersthought kline sign look familiar...   \n",
       "30657        spoiler sure season way see episode spoiler   \n",
       "30658  episode joyce watch friend episode diane marry...   \n",
       "30659  feel like feel bad billy literally kid abuse d...   \n",
       "\n",
       "                                                polarity  compound sentiment  \\\n",
       "0      {'neg': 0.365, 'neu': 0.635, 'pos': 0.0, 'comp...   -0.8720  Negative   \n",
       "1      {'neg': 0.503, 'neu': 0.497, 'pos': 0.0, 'comp...   -0.8779  Negative   \n",
       "2      {'neg': 0.29, 'neu': 0.536, 'pos': 0.174, 'com...   -0.8979  Negative   \n",
       "3      {'neg': 0.016, 'neu': 0.893, 'pos': 0.091, 'co...    0.8176  Positive   \n",
       "4      {'neg': 0.115, 'neu': 0.749, 'pos': 0.136, 'co...   -0.2960  Negative   \n",
       "...                                                  ...       ...       ...   \n",
       "30655  {'neg': 0.277, 'neu': 0.723, 'pos': 0.0, 'comp...   -0.3182  Negative   \n",
       "30656  {'neg': 0.053, 'neu': 0.574, 'pos': 0.373, 'co...    0.7783  Positive   \n",
       "30657  {'neg': 0.0, 'neu': 0.723, 'pos': 0.277, 'comp...    0.3182  Positive   \n",
       "30658  {'neg': 0.0, 'neu': 0.802, 'pos': 0.198, 'comp...    0.7506  Positive   \n",
       "30659  {'neg': 0.328, 'neu': 0.426, 'pos': 0.246, 'co...   -0.5719  Negative   \n",
       "\n",
       "       tok_len  Topic Assigned  \n",
       "0           23              11  \n",
       "1           11               0  \n",
       "2           52              11  \n",
       "3          106               9  \n",
       "4           32               1  \n",
       "...        ...             ...  \n",
       "30655        7               2  \n",
       "30656       19              15  \n",
       "30657        7              10  \n",
       "30658       28              10  \n",
       "30659       20              14  \n",
       "\n",
       "[30660 rows x 16 columns]"
      ]
     },
     "execution_count": 71,
     "metadata": {},
     "output_type": "execute_result"
    }
   ],
   "source": [
    "fin_w_topics"
   ]
  },
  {
   "cell_type": "code",
   "execution_count": 74,
   "id": "a5a108b1",
   "metadata": {},
   "outputs": [
    {
     "data": {
      "text/plain": [
       "\"In episode 2 where Joyce is watching Friends, the episode where Diane almost marries Frasier is on. This episode of Stranger Things happens around May-July of 1984. In real life, the episode where Diane almost marries Frasier was first aired live on May 9, 1984.. We can confirm an exact timeline of the show using the Friends episode aired because they didn't have DVRs back then.\""
      ]
     },
     "execution_count": 74,
     "metadata": {},
     "output_type": "execute_result"
    }
   ],
   "source": [
    "fin_w_topics.loc[30658,'FULL_POSTS']"
   ]
  },
  {
   "cell_type": "code",
   "execution_count": 84,
   "id": "d46349cb",
   "metadata": {},
   "outputs": [],
   "source": [
    "fin_graph = fin_w_topics['Topic Assigned'].value_counts().reset_index()"
   ]
  },
  {
   "cell_type": "code",
   "execution_count": 86,
   "id": "23818cb5",
   "metadata": {},
   "outputs": [],
   "source": [
    "fin_graph.rename(columns={'index':\"Topic\",\"Topic Assigned\":\"Topic Count\"},inplace=True)"
   ]
  },
  {
   "cell_type": "code",
   "execution_count": 87,
   "id": "fc221569",
   "metadata": {},
   "outputs": [
    {
     "data": {
      "text/html": [
       "<div>\n",
       "<style scoped>\n",
       "    .dataframe tbody tr th:only-of-type {\n",
       "        vertical-align: middle;\n",
       "    }\n",
       "\n",
       "    .dataframe tbody tr th {\n",
       "        vertical-align: top;\n",
       "    }\n",
       "\n",
       "    .dataframe thead th {\n",
       "        text-align: right;\n",
       "    }\n",
       "</style>\n",
       "<table border=\"1\" class=\"dataframe\">\n",
       "  <thead>\n",
       "    <tr style=\"text-align: right;\">\n",
       "      <th></th>\n",
       "      <th>Topic</th>\n",
       "      <th>Topic Count</th>\n",
       "    </tr>\n",
       "  </thead>\n",
       "  <tbody>\n",
       "    <tr>\n",
       "      <th>0</th>\n",
       "      <td>19</td>\n",
       "      <td>2378</td>\n",
       "    </tr>\n",
       "    <tr>\n",
       "      <th>1</th>\n",
       "      <td>14</td>\n",
       "      <td>2313</td>\n",
       "    </tr>\n",
       "    <tr>\n",
       "      <th>2</th>\n",
       "      <td>3</td>\n",
       "      <td>2150</td>\n",
       "    </tr>\n",
       "    <tr>\n",
       "      <th>3</th>\n",
       "      <td>4</td>\n",
       "      <td>2111</td>\n",
       "    </tr>\n",
       "    <tr>\n",
       "      <th>4</th>\n",
       "      <td>2</td>\n",
       "      <td>1842</td>\n",
       "    </tr>\n",
       "    <tr>\n",
       "      <th>5</th>\n",
       "      <td>15</td>\n",
       "      <td>1662</td>\n",
       "    </tr>\n",
       "    <tr>\n",
       "      <th>6</th>\n",
       "      <td>6</td>\n",
       "      <td>1612</td>\n",
       "    </tr>\n",
       "    <tr>\n",
       "      <th>7</th>\n",
       "      <td>17</td>\n",
       "      <td>1594</td>\n",
       "    </tr>\n",
       "    <tr>\n",
       "      <th>8</th>\n",
       "      <td>18</td>\n",
       "      <td>1568</td>\n",
       "    </tr>\n",
       "    <tr>\n",
       "      <th>9</th>\n",
       "      <td>11</td>\n",
       "      <td>1490</td>\n",
       "    </tr>\n",
       "    <tr>\n",
       "      <th>10</th>\n",
       "      <td>12</td>\n",
       "      <td>1409</td>\n",
       "    </tr>\n",
       "    <tr>\n",
       "      <th>11</th>\n",
       "      <td>13</td>\n",
       "      <td>1366</td>\n",
       "    </tr>\n",
       "    <tr>\n",
       "      <th>12</th>\n",
       "      <td>8</td>\n",
       "      <td>1342</td>\n",
       "    </tr>\n",
       "    <tr>\n",
       "      <th>13</th>\n",
       "      <td>10</td>\n",
       "      <td>1334</td>\n",
       "    </tr>\n",
       "    <tr>\n",
       "      <th>14</th>\n",
       "      <td>16</td>\n",
       "      <td>1245</td>\n",
       "    </tr>\n",
       "    <tr>\n",
       "      <th>15</th>\n",
       "      <td>1</td>\n",
       "      <td>1180</td>\n",
       "    </tr>\n",
       "    <tr>\n",
       "      <th>16</th>\n",
       "      <td>9</td>\n",
       "      <td>1108</td>\n",
       "    </tr>\n",
       "    <tr>\n",
       "      <th>17</th>\n",
       "      <td>7</td>\n",
       "      <td>1065</td>\n",
       "    </tr>\n",
       "    <tr>\n",
       "      <th>18</th>\n",
       "      <td>5</td>\n",
       "      <td>971</td>\n",
       "    </tr>\n",
       "    <tr>\n",
       "      <th>19</th>\n",
       "      <td>0</td>\n",
       "      <td>920</td>\n",
       "    </tr>\n",
       "  </tbody>\n",
       "</table>\n",
       "</div>"
      ],
      "text/plain": [
       "    Topic  Topic Count\n",
       "0      19         2378\n",
       "1      14         2313\n",
       "2       3         2150\n",
       "3       4         2111\n",
       "4       2         1842\n",
       "5      15         1662\n",
       "6       6         1612\n",
       "7      17         1594\n",
       "8      18         1568\n",
       "9      11         1490\n",
       "10     12         1409\n",
       "11     13         1366\n",
       "12      8         1342\n",
       "13     10         1334\n",
       "14     16         1245\n",
       "15      1         1180\n",
       "16      9         1108\n",
       "17      7         1065\n",
       "18      5          971\n",
       "19      0          920"
      ]
     },
     "execution_count": 87,
     "metadata": {},
     "output_type": "execute_result"
    }
   ],
   "source": [
    "fin_graph"
   ]
  },
  {
   "cell_type": "code",
   "execution_count": 89,
   "id": "2daf2912",
   "metadata": {},
   "outputs": [],
   "source": [
    "import plotly as py\n",
    "import plotly.express as px"
   ]
  },
  {
   "cell_type": "code",
   "execution_count": 99,
   "id": "4617d837",
   "metadata": {},
   "outputs": [
    {
     "data": {
      "application/vnd.plotly.v1+json": {
       "config": {
        "plotlyServerURL": "https://plot.ly"
       },
       "data": [
        {
         "hovertemplate": "<b>%{hovertext}</b><br><br>Topic=%{marker.color}<br>Topic Count=%{marker.size}<extra></extra>",
         "hovertext": [
          19,
          14,
          3,
          4,
          2,
          15,
          6,
          17,
          18,
          11,
          12,
          13,
          8,
          10,
          16,
          1,
          9,
          7,
          5,
          0
         ],
         "legendgroup": "",
         "marker": {
          "color": [
           19,
           14,
           3,
           4,
           2,
           15,
           6,
           17,
           18,
           11,
           12,
           13,
           8,
           10,
           16,
           1,
           9,
           7,
           5,
           0
          ],
          "coloraxis": "coloraxis",
          "size": [
           2378,
           2313,
           2150,
           2111,
           1842,
           1662,
           1612,
           1594,
           1568,
           1490,
           1409,
           1366,
           1342,
           1334,
           1245,
           1180,
           1108,
           1065,
           971,
           920
          ],
          "sizemode": "area",
          "sizeref": 0.6605555555555556,
          "symbol": "circle"
         },
         "mode": "markers+text",
         "name": "",
         "orientation": "v",
         "showlegend": false,
         "text": [
          19,
          14,
          3,
          4,
          2,
          15,
          6,
          17,
          18,
          11,
          12,
          13,
          8,
          10,
          16,
          1,
          9,
          7,
          5,
          0
         ],
         "type": "scatter",
         "x": [
          19,
          14,
          3,
          4,
          2,
          15,
          6,
          17,
          18,
          11,
          12,
          13,
          8,
          10,
          16,
          1,
          9,
          7,
          5,
          0
         ],
         "xaxis": "x",
         "y": [
          2378,
          2313,
          2150,
          2111,
          1842,
          1662,
          1612,
          1594,
          1568,
          1490,
          1409,
          1366,
          1342,
          1334,
          1245,
          1180,
          1108,
          1065,
          971,
          920
         ],
         "yaxis": "y"
        }
       ],
       "layout": {
        "coloraxis": {
         "colorbar": {
          "title": {
           "text": "Topic"
          }
         },
         "colorscale": [
          [
           0,
           "rgb(0,0,255)"
          ],
          [
           1,
           "rgb(255,0,0)"
          ]
         ],
         "showscale": false
        },
        "font": {
         "color": "white"
        },
        "legend": {
         "itemsizing": "constant",
         "tracegroupgap": 0
        },
        "paper_bgcolor": "black",
        "plot_bgcolor": "black",
        "template": {
         "data": {
          "bar": [
           {
            "error_x": {
             "color": "#2a3f5f"
            },
            "error_y": {
             "color": "#2a3f5f"
            },
            "marker": {
             "line": {
              "color": "#E5ECF6",
              "width": 0.5
             },
             "pattern": {
              "fillmode": "overlay",
              "size": 10,
              "solidity": 0.2
             }
            },
            "type": "bar"
           }
          ],
          "barpolar": [
           {
            "marker": {
             "line": {
              "color": "#E5ECF6",
              "width": 0.5
             },
             "pattern": {
              "fillmode": "overlay",
              "size": 10,
              "solidity": 0.2
             }
            },
            "type": "barpolar"
           }
          ],
          "carpet": [
           {
            "aaxis": {
             "endlinecolor": "#2a3f5f",
             "gridcolor": "white",
             "linecolor": "white",
             "minorgridcolor": "white",
             "startlinecolor": "#2a3f5f"
            },
            "baxis": {
             "endlinecolor": "#2a3f5f",
             "gridcolor": "white",
             "linecolor": "white",
             "minorgridcolor": "white",
             "startlinecolor": "#2a3f5f"
            },
            "type": "carpet"
           }
          ],
          "choropleth": [
           {
            "colorbar": {
             "outlinewidth": 0,
             "ticks": ""
            },
            "type": "choropleth"
           }
          ],
          "contour": [
           {
            "colorbar": {
             "outlinewidth": 0,
             "ticks": ""
            },
            "colorscale": [
             [
              0,
              "#0d0887"
             ],
             [
              0.1111111111111111,
              "#46039f"
             ],
             [
              0.2222222222222222,
              "#7201a8"
             ],
             [
              0.3333333333333333,
              "#9c179e"
             ],
             [
              0.4444444444444444,
              "#bd3786"
             ],
             [
              0.5555555555555556,
              "#d8576b"
             ],
             [
              0.6666666666666666,
              "#ed7953"
             ],
             [
              0.7777777777777778,
              "#fb9f3a"
             ],
             [
              0.8888888888888888,
              "#fdca26"
             ],
             [
              1,
              "#f0f921"
             ]
            ],
            "type": "contour"
           }
          ],
          "contourcarpet": [
           {
            "colorbar": {
             "outlinewidth": 0,
             "ticks": ""
            },
            "type": "contourcarpet"
           }
          ],
          "heatmap": [
           {
            "colorbar": {
             "outlinewidth": 0,
             "ticks": ""
            },
            "colorscale": [
             [
              0,
              "#0d0887"
             ],
             [
              0.1111111111111111,
              "#46039f"
             ],
             [
              0.2222222222222222,
              "#7201a8"
             ],
             [
              0.3333333333333333,
              "#9c179e"
             ],
             [
              0.4444444444444444,
              "#bd3786"
             ],
             [
              0.5555555555555556,
              "#d8576b"
             ],
             [
              0.6666666666666666,
              "#ed7953"
             ],
             [
              0.7777777777777778,
              "#fb9f3a"
             ],
             [
              0.8888888888888888,
              "#fdca26"
             ],
             [
              1,
              "#f0f921"
             ]
            ],
            "type": "heatmap"
           }
          ],
          "heatmapgl": [
           {
            "colorbar": {
             "outlinewidth": 0,
             "ticks": ""
            },
            "colorscale": [
             [
              0,
              "#0d0887"
             ],
             [
              0.1111111111111111,
              "#46039f"
             ],
             [
              0.2222222222222222,
              "#7201a8"
             ],
             [
              0.3333333333333333,
              "#9c179e"
             ],
             [
              0.4444444444444444,
              "#bd3786"
             ],
             [
              0.5555555555555556,
              "#d8576b"
             ],
             [
              0.6666666666666666,
              "#ed7953"
             ],
             [
              0.7777777777777778,
              "#fb9f3a"
             ],
             [
              0.8888888888888888,
              "#fdca26"
             ],
             [
              1,
              "#f0f921"
             ]
            ],
            "type": "heatmapgl"
           }
          ],
          "histogram": [
           {
            "marker": {
             "pattern": {
              "fillmode": "overlay",
              "size": 10,
              "solidity": 0.2
             }
            },
            "type": "histogram"
           }
          ],
          "histogram2d": [
           {
            "colorbar": {
             "outlinewidth": 0,
             "ticks": ""
            },
            "colorscale": [
             [
              0,
              "#0d0887"
             ],
             [
              0.1111111111111111,
              "#46039f"
             ],
             [
              0.2222222222222222,
              "#7201a8"
             ],
             [
              0.3333333333333333,
              "#9c179e"
             ],
             [
              0.4444444444444444,
              "#bd3786"
             ],
             [
              0.5555555555555556,
              "#d8576b"
             ],
             [
              0.6666666666666666,
              "#ed7953"
             ],
             [
              0.7777777777777778,
              "#fb9f3a"
             ],
             [
              0.8888888888888888,
              "#fdca26"
             ],
             [
              1,
              "#f0f921"
             ]
            ],
            "type": "histogram2d"
           }
          ],
          "histogram2dcontour": [
           {
            "colorbar": {
             "outlinewidth": 0,
             "ticks": ""
            },
            "colorscale": [
             [
              0,
              "#0d0887"
             ],
             [
              0.1111111111111111,
              "#46039f"
             ],
             [
              0.2222222222222222,
              "#7201a8"
             ],
             [
              0.3333333333333333,
              "#9c179e"
             ],
             [
              0.4444444444444444,
              "#bd3786"
             ],
             [
              0.5555555555555556,
              "#d8576b"
             ],
             [
              0.6666666666666666,
              "#ed7953"
             ],
             [
              0.7777777777777778,
              "#fb9f3a"
             ],
             [
              0.8888888888888888,
              "#fdca26"
             ],
             [
              1,
              "#f0f921"
             ]
            ],
            "type": "histogram2dcontour"
           }
          ],
          "mesh3d": [
           {
            "colorbar": {
             "outlinewidth": 0,
             "ticks": ""
            },
            "type": "mesh3d"
           }
          ],
          "parcoords": [
           {
            "line": {
             "colorbar": {
              "outlinewidth": 0,
              "ticks": ""
             }
            },
            "type": "parcoords"
           }
          ],
          "pie": [
           {
            "automargin": true,
            "type": "pie"
           }
          ],
          "scatter": [
           {
            "marker": {
             "colorbar": {
              "outlinewidth": 0,
              "ticks": ""
             }
            },
            "type": "scatter"
           }
          ],
          "scatter3d": [
           {
            "line": {
             "colorbar": {
              "outlinewidth": 0,
              "ticks": ""
             }
            },
            "marker": {
             "colorbar": {
              "outlinewidth": 0,
              "ticks": ""
             }
            },
            "type": "scatter3d"
           }
          ],
          "scattercarpet": [
           {
            "marker": {
             "colorbar": {
              "outlinewidth": 0,
              "ticks": ""
             }
            },
            "type": "scattercarpet"
           }
          ],
          "scattergeo": [
           {
            "marker": {
             "colorbar": {
              "outlinewidth": 0,
              "ticks": ""
             }
            },
            "type": "scattergeo"
           }
          ],
          "scattergl": [
           {
            "marker": {
             "colorbar": {
              "outlinewidth": 0,
              "ticks": ""
             }
            },
            "type": "scattergl"
           }
          ],
          "scattermapbox": [
           {
            "marker": {
             "colorbar": {
              "outlinewidth": 0,
              "ticks": ""
             }
            },
            "type": "scattermapbox"
           }
          ],
          "scatterpolar": [
           {
            "marker": {
             "colorbar": {
              "outlinewidth": 0,
              "ticks": ""
             }
            },
            "type": "scatterpolar"
           }
          ],
          "scatterpolargl": [
           {
            "marker": {
             "colorbar": {
              "outlinewidth": 0,
              "ticks": ""
             }
            },
            "type": "scatterpolargl"
           }
          ],
          "scatterternary": [
           {
            "marker": {
             "colorbar": {
              "outlinewidth": 0,
              "ticks": ""
             }
            },
            "type": "scatterternary"
           }
          ],
          "surface": [
           {
            "colorbar": {
             "outlinewidth": 0,
             "ticks": ""
            },
            "colorscale": [
             [
              0,
              "#0d0887"
             ],
             [
              0.1111111111111111,
              "#46039f"
             ],
             [
              0.2222222222222222,
              "#7201a8"
             ],
             [
              0.3333333333333333,
              "#9c179e"
             ],
             [
              0.4444444444444444,
              "#bd3786"
             ],
             [
              0.5555555555555556,
              "#d8576b"
             ],
             [
              0.6666666666666666,
              "#ed7953"
             ],
             [
              0.7777777777777778,
              "#fb9f3a"
             ],
             [
              0.8888888888888888,
              "#fdca26"
             ],
             [
              1,
              "#f0f921"
             ]
            ],
            "type": "surface"
           }
          ],
          "table": [
           {
            "cells": {
             "fill": {
              "color": "#EBF0F8"
             },
             "line": {
              "color": "white"
             }
            },
            "header": {
             "fill": {
              "color": "#C8D4E3"
             },
             "line": {
              "color": "white"
             }
            },
            "type": "table"
           }
          ]
         },
         "layout": {
          "annotationdefaults": {
           "arrowcolor": "#2a3f5f",
           "arrowhead": 0,
           "arrowwidth": 1
          },
          "autotypenumbers": "strict",
          "coloraxis": {
           "colorbar": {
            "outlinewidth": 0,
            "ticks": ""
           }
          },
          "colorscale": {
           "diverging": [
            [
             0,
             "#8e0152"
            ],
            [
             0.1,
             "#c51b7d"
            ],
            [
             0.2,
             "#de77ae"
            ],
            [
             0.3,
             "#f1b6da"
            ],
            [
             0.4,
             "#fde0ef"
            ],
            [
             0.5,
             "#f7f7f7"
            ],
            [
             0.6,
             "#e6f5d0"
            ],
            [
             0.7,
             "#b8e186"
            ],
            [
             0.8,
             "#7fbc41"
            ],
            [
             0.9,
             "#4d9221"
            ],
            [
             1,
             "#276419"
            ]
           ],
           "sequential": [
            [
             0,
             "#0d0887"
            ],
            [
             0.1111111111111111,
             "#46039f"
            ],
            [
             0.2222222222222222,
             "#7201a8"
            ],
            [
             0.3333333333333333,
             "#9c179e"
            ],
            [
             0.4444444444444444,
             "#bd3786"
            ],
            [
             0.5555555555555556,
             "#d8576b"
            ],
            [
             0.6666666666666666,
             "#ed7953"
            ],
            [
             0.7777777777777778,
             "#fb9f3a"
            ],
            [
             0.8888888888888888,
             "#fdca26"
            ],
            [
             1,
             "#f0f921"
            ]
           ],
           "sequentialminus": [
            [
             0,
             "#0d0887"
            ],
            [
             0.1111111111111111,
             "#46039f"
            ],
            [
             0.2222222222222222,
             "#7201a8"
            ],
            [
             0.3333333333333333,
             "#9c179e"
            ],
            [
             0.4444444444444444,
             "#bd3786"
            ],
            [
             0.5555555555555556,
             "#d8576b"
            ],
            [
             0.6666666666666666,
             "#ed7953"
            ],
            [
             0.7777777777777778,
             "#fb9f3a"
            ],
            [
             0.8888888888888888,
             "#fdca26"
            ],
            [
             1,
             "#f0f921"
            ]
           ]
          },
          "colorway": [
           "#636efa",
           "#EF553B",
           "#00cc96",
           "#ab63fa",
           "#FFA15A",
           "#19d3f3",
           "#FF6692",
           "#B6E880",
           "#FF97FF",
           "#FECB52"
          ],
          "font": {
           "color": "#2a3f5f"
          },
          "geo": {
           "bgcolor": "white",
           "lakecolor": "white",
           "landcolor": "#E5ECF6",
           "showlakes": true,
           "showland": true,
           "subunitcolor": "white"
          },
          "hoverlabel": {
           "align": "left"
          },
          "hovermode": "closest",
          "mapbox": {
           "style": "light"
          },
          "paper_bgcolor": "white",
          "plot_bgcolor": "#E5ECF6",
          "polar": {
           "angularaxis": {
            "gridcolor": "white",
            "linecolor": "white",
            "ticks": ""
           },
           "bgcolor": "#E5ECF6",
           "radialaxis": {
            "gridcolor": "white",
            "linecolor": "white",
            "ticks": ""
           }
          },
          "scene": {
           "xaxis": {
            "backgroundcolor": "#E5ECF6",
            "gridcolor": "white",
            "gridwidth": 2,
            "linecolor": "white",
            "showbackground": true,
            "ticks": "",
            "zerolinecolor": "white"
           },
           "yaxis": {
            "backgroundcolor": "#E5ECF6",
            "gridcolor": "white",
            "gridwidth": 2,
            "linecolor": "white",
            "showbackground": true,
            "ticks": "",
            "zerolinecolor": "white"
           },
           "zaxis": {
            "backgroundcolor": "#E5ECF6",
            "gridcolor": "white",
            "gridwidth": 2,
            "linecolor": "white",
            "showbackground": true,
            "ticks": "",
            "zerolinecolor": "white"
           }
          },
          "shapedefaults": {
           "line": {
            "color": "#2a3f5f"
           }
          },
          "ternary": {
           "aaxis": {
            "gridcolor": "white",
            "linecolor": "white",
            "ticks": ""
           },
           "baxis": {
            "gridcolor": "white",
            "linecolor": "white",
            "ticks": ""
           },
           "bgcolor": "#E5ECF6",
           "caxis": {
            "gridcolor": "white",
            "linecolor": "white",
            "ticks": ""
           }
          },
          "title": {
           "x": 0.05
          },
          "xaxis": {
           "automargin": true,
           "gridcolor": "white",
           "linecolor": "white",
           "ticks": "",
           "title": {
            "standoff": 15
           },
           "zerolinecolor": "white",
           "zerolinewidth": 2
          },
          "yaxis": {
           "automargin": true,
           "gridcolor": "white",
           "linecolor": "white",
           "ticks": "",
           "title": {
            "standoff": 15
           },
           "zerolinecolor": "white",
           "zerolinewidth": 2
          }
         }
        },
        "title": {
         "font": {
          "color": "white"
         },
         "text": "Top 20 Topics NMF",
         "x": 0.5
        },
        "xaxis": {
         "anchor": "y",
         "domain": [
          0,
          1
         ],
         "title": {
          "text": "Topic"
         }
        },
        "yaxis": {
         "anchor": "x",
         "domain": [
          0,
          1
         ],
         "title": {
          "text": "Count of posts in Topic"
         }
        }
       }
      },
      "text/html": [
       "<div>                            <div id=\"3459c9f7-916f-4f52-96f7-aceb29761a32\" class=\"plotly-graph-div\" style=\"height:525px; width:100%;\"></div>            <script type=\"text/javascript\">                require([\"plotly\"], function(Plotly) {                    window.PLOTLYENV=window.PLOTLYENV || {};                                    if (document.getElementById(\"3459c9f7-916f-4f52-96f7-aceb29761a32\")) {                    Plotly.newPlot(                        \"3459c9f7-916f-4f52-96f7-aceb29761a32\",                        [{\"hovertemplate\":\"<b>%{hovertext}</b><br><br>Topic=%{marker.color}<br>Topic Count=%{marker.size}<extra></extra>\",\"hovertext\":[19.0,14.0,3.0,4.0,2.0,15.0,6.0,17.0,18.0,11.0,12.0,13.0,8.0,10.0,16.0,1.0,9.0,7.0,5.0,0.0],\"legendgroup\":\"\",\"marker\":{\"color\":[19,14,3,4,2,15,6,17,18,11,12,13,8,10,16,1,9,7,5,0],\"coloraxis\":\"coloraxis\",\"size\":[2378,2313,2150,2111,1842,1662,1612,1594,1568,1490,1409,1366,1342,1334,1245,1180,1108,1065,971,920],\"sizemode\":\"area\",\"sizeref\":0.6605555555555556,\"symbol\":\"circle\"},\"mode\":\"markers+text\",\"name\":\"\",\"orientation\":\"v\",\"showlegend\":false,\"text\":[19.0,14.0,3.0,4.0,2.0,15.0,6.0,17.0,18.0,11.0,12.0,13.0,8.0,10.0,16.0,1.0,9.0,7.0,5.0,0.0],\"x\":[19,14,3,4,2,15,6,17,18,11,12,13,8,10,16,1,9,7,5,0],\"xaxis\":\"x\",\"y\":[2378,2313,2150,2111,1842,1662,1612,1594,1568,1490,1409,1366,1342,1334,1245,1180,1108,1065,971,920],\"yaxis\":\"y\",\"type\":\"scatter\"}],                        {\"template\":{\"data\":{\"bar\":[{\"error_x\":{\"color\":\"#2a3f5f\"},\"error_y\":{\"color\":\"#2a3f5f\"},\"marker\":{\"line\":{\"color\":\"#E5ECF6\",\"width\":0.5},\"pattern\":{\"fillmode\":\"overlay\",\"size\":10,\"solidity\":0.2}},\"type\":\"bar\"}],\"barpolar\":[{\"marker\":{\"line\":{\"color\":\"#E5ECF6\",\"width\":0.5},\"pattern\":{\"fillmode\":\"overlay\",\"size\":10,\"solidity\":0.2}},\"type\":\"barpolar\"}],\"carpet\":[{\"aaxis\":{\"endlinecolor\":\"#2a3f5f\",\"gridcolor\":\"white\",\"linecolor\":\"white\",\"minorgridcolor\":\"white\",\"startlinecolor\":\"#2a3f5f\"},\"baxis\":{\"endlinecolor\":\"#2a3f5f\",\"gridcolor\":\"white\",\"linecolor\":\"white\",\"minorgridcolor\":\"white\",\"startlinecolor\":\"#2a3f5f\"},\"type\":\"carpet\"}],\"choropleth\":[{\"colorbar\":{\"outlinewidth\":0,\"ticks\":\"\"},\"type\":\"choropleth\"}],\"contour\":[{\"colorbar\":{\"outlinewidth\":0,\"ticks\":\"\"},\"colorscale\":[[0.0,\"#0d0887\"],[0.1111111111111111,\"#46039f\"],[0.2222222222222222,\"#7201a8\"],[0.3333333333333333,\"#9c179e\"],[0.4444444444444444,\"#bd3786\"],[0.5555555555555556,\"#d8576b\"],[0.6666666666666666,\"#ed7953\"],[0.7777777777777778,\"#fb9f3a\"],[0.8888888888888888,\"#fdca26\"],[1.0,\"#f0f921\"]],\"type\":\"contour\"}],\"contourcarpet\":[{\"colorbar\":{\"outlinewidth\":0,\"ticks\":\"\"},\"type\":\"contourcarpet\"}],\"heatmap\":[{\"colorbar\":{\"outlinewidth\":0,\"ticks\":\"\"},\"colorscale\":[[0.0,\"#0d0887\"],[0.1111111111111111,\"#46039f\"],[0.2222222222222222,\"#7201a8\"],[0.3333333333333333,\"#9c179e\"],[0.4444444444444444,\"#bd3786\"],[0.5555555555555556,\"#d8576b\"],[0.6666666666666666,\"#ed7953\"],[0.7777777777777778,\"#fb9f3a\"],[0.8888888888888888,\"#fdca26\"],[1.0,\"#f0f921\"]],\"type\":\"heatmap\"}],\"heatmapgl\":[{\"colorbar\":{\"outlinewidth\":0,\"ticks\":\"\"},\"colorscale\":[[0.0,\"#0d0887\"],[0.1111111111111111,\"#46039f\"],[0.2222222222222222,\"#7201a8\"],[0.3333333333333333,\"#9c179e\"],[0.4444444444444444,\"#bd3786\"],[0.5555555555555556,\"#d8576b\"],[0.6666666666666666,\"#ed7953\"],[0.7777777777777778,\"#fb9f3a\"],[0.8888888888888888,\"#fdca26\"],[1.0,\"#f0f921\"]],\"type\":\"heatmapgl\"}],\"histogram\":[{\"marker\":{\"pattern\":{\"fillmode\":\"overlay\",\"size\":10,\"solidity\":0.2}},\"type\":\"histogram\"}],\"histogram2d\":[{\"colorbar\":{\"outlinewidth\":0,\"ticks\":\"\"},\"colorscale\":[[0.0,\"#0d0887\"],[0.1111111111111111,\"#46039f\"],[0.2222222222222222,\"#7201a8\"],[0.3333333333333333,\"#9c179e\"],[0.4444444444444444,\"#bd3786\"],[0.5555555555555556,\"#d8576b\"],[0.6666666666666666,\"#ed7953\"],[0.7777777777777778,\"#fb9f3a\"],[0.8888888888888888,\"#fdca26\"],[1.0,\"#f0f921\"]],\"type\":\"histogram2d\"}],\"histogram2dcontour\":[{\"colorbar\":{\"outlinewidth\":0,\"ticks\":\"\"},\"colorscale\":[[0.0,\"#0d0887\"],[0.1111111111111111,\"#46039f\"],[0.2222222222222222,\"#7201a8\"],[0.3333333333333333,\"#9c179e\"],[0.4444444444444444,\"#bd3786\"],[0.5555555555555556,\"#d8576b\"],[0.6666666666666666,\"#ed7953\"],[0.7777777777777778,\"#fb9f3a\"],[0.8888888888888888,\"#fdca26\"],[1.0,\"#f0f921\"]],\"type\":\"histogram2dcontour\"}],\"mesh3d\":[{\"colorbar\":{\"outlinewidth\":0,\"ticks\":\"\"},\"type\":\"mesh3d\"}],\"parcoords\":[{\"line\":{\"colorbar\":{\"outlinewidth\":0,\"ticks\":\"\"}},\"type\":\"parcoords\"}],\"pie\":[{\"automargin\":true,\"type\":\"pie\"}],\"scatter\":[{\"marker\":{\"colorbar\":{\"outlinewidth\":0,\"ticks\":\"\"}},\"type\":\"scatter\"}],\"scatter3d\":[{\"line\":{\"colorbar\":{\"outlinewidth\":0,\"ticks\":\"\"}},\"marker\":{\"colorbar\":{\"outlinewidth\":0,\"ticks\":\"\"}},\"type\":\"scatter3d\"}],\"scattercarpet\":[{\"marker\":{\"colorbar\":{\"outlinewidth\":0,\"ticks\":\"\"}},\"type\":\"scattercarpet\"}],\"scattergeo\":[{\"marker\":{\"colorbar\":{\"outlinewidth\":0,\"ticks\":\"\"}},\"type\":\"scattergeo\"}],\"scattergl\":[{\"marker\":{\"colorbar\":{\"outlinewidth\":0,\"ticks\":\"\"}},\"type\":\"scattergl\"}],\"scattermapbox\":[{\"marker\":{\"colorbar\":{\"outlinewidth\":0,\"ticks\":\"\"}},\"type\":\"scattermapbox\"}],\"scatterpolar\":[{\"marker\":{\"colorbar\":{\"outlinewidth\":0,\"ticks\":\"\"}},\"type\":\"scatterpolar\"}],\"scatterpolargl\":[{\"marker\":{\"colorbar\":{\"outlinewidth\":0,\"ticks\":\"\"}},\"type\":\"scatterpolargl\"}],\"scatterternary\":[{\"marker\":{\"colorbar\":{\"outlinewidth\":0,\"ticks\":\"\"}},\"type\":\"scatterternary\"}],\"surface\":[{\"colorbar\":{\"outlinewidth\":0,\"ticks\":\"\"},\"colorscale\":[[0.0,\"#0d0887\"],[0.1111111111111111,\"#46039f\"],[0.2222222222222222,\"#7201a8\"],[0.3333333333333333,\"#9c179e\"],[0.4444444444444444,\"#bd3786\"],[0.5555555555555556,\"#d8576b\"],[0.6666666666666666,\"#ed7953\"],[0.7777777777777778,\"#fb9f3a\"],[0.8888888888888888,\"#fdca26\"],[1.0,\"#f0f921\"]],\"type\":\"surface\"}],\"table\":[{\"cells\":{\"fill\":{\"color\":\"#EBF0F8\"},\"line\":{\"color\":\"white\"}},\"header\":{\"fill\":{\"color\":\"#C8D4E3\"},\"line\":{\"color\":\"white\"}},\"type\":\"table\"}]},\"layout\":{\"annotationdefaults\":{\"arrowcolor\":\"#2a3f5f\",\"arrowhead\":0,\"arrowwidth\":1},\"autotypenumbers\":\"strict\",\"coloraxis\":{\"colorbar\":{\"outlinewidth\":0,\"ticks\":\"\"}},\"colorscale\":{\"diverging\":[[0,\"#8e0152\"],[0.1,\"#c51b7d\"],[0.2,\"#de77ae\"],[0.3,\"#f1b6da\"],[0.4,\"#fde0ef\"],[0.5,\"#f7f7f7\"],[0.6,\"#e6f5d0\"],[0.7,\"#b8e186\"],[0.8,\"#7fbc41\"],[0.9,\"#4d9221\"],[1,\"#276419\"]],\"sequential\":[[0.0,\"#0d0887\"],[0.1111111111111111,\"#46039f\"],[0.2222222222222222,\"#7201a8\"],[0.3333333333333333,\"#9c179e\"],[0.4444444444444444,\"#bd3786\"],[0.5555555555555556,\"#d8576b\"],[0.6666666666666666,\"#ed7953\"],[0.7777777777777778,\"#fb9f3a\"],[0.8888888888888888,\"#fdca26\"],[1.0,\"#f0f921\"]],\"sequentialminus\":[[0.0,\"#0d0887\"],[0.1111111111111111,\"#46039f\"],[0.2222222222222222,\"#7201a8\"],[0.3333333333333333,\"#9c179e\"],[0.4444444444444444,\"#bd3786\"],[0.5555555555555556,\"#d8576b\"],[0.6666666666666666,\"#ed7953\"],[0.7777777777777778,\"#fb9f3a\"],[0.8888888888888888,\"#fdca26\"],[1.0,\"#f0f921\"]]},\"colorway\":[\"#636efa\",\"#EF553B\",\"#00cc96\",\"#ab63fa\",\"#FFA15A\",\"#19d3f3\",\"#FF6692\",\"#B6E880\",\"#FF97FF\",\"#FECB52\"],\"font\":{\"color\":\"#2a3f5f\"},\"geo\":{\"bgcolor\":\"white\",\"lakecolor\":\"white\",\"landcolor\":\"#E5ECF6\",\"showlakes\":true,\"showland\":true,\"subunitcolor\":\"white\"},\"hoverlabel\":{\"align\":\"left\"},\"hovermode\":\"closest\",\"mapbox\":{\"style\":\"light\"},\"paper_bgcolor\":\"white\",\"plot_bgcolor\":\"#E5ECF6\",\"polar\":{\"angularaxis\":{\"gridcolor\":\"white\",\"linecolor\":\"white\",\"ticks\":\"\"},\"bgcolor\":\"#E5ECF6\",\"radialaxis\":{\"gridcolor\":\"white\",\"linecolor\":\"white\",\"ticks\":\"\"}},\"scene\":{\"xaxis\":{\"backgroundcolor\":\"#E5ECF6\",\"gridcolor\":\"white\",\"gridwidth\":2,\"linecolor\":\"white\",\"showbackground\":true,\"ticks\":\"\",\"zerolinecolor\":\"white\"},\"yaxis\":{\"backgroundcolor\":\"#E5ECF6\",\"gridcolor\":\"white\",\"gridwidth\":2,\"linecolor\":\"white\",\"showbackground\":true,\"ticks\":\"\",\"zerolinecolor\":\"white\"},\"zaxis\":{\"backgroundcolor\":\"#E5ECF6\",\"gridcolor\":\"white\",\"gridwidth\":2,\"linecolor\":\"white\",\"showbackground\":true,\"ticks\":\"\",\"zerolinecolor\":\"white\"}},\"shapedefaults\":{\"line\":{\"color\":\"#2a3f5f\"}},\"ternary\":{\"aaxis\":{\"gridcolor\":\"white\",\"linecolor\":\"white\",\"ticks\":\"\"},\"baxis\":{\"gridcolor\":\"white\",\"linecolor\":\"white\",\"ticks\":\"\"},\"bgcolor\":\"#E5ECF6\",\"caxis\":{\"gridcolor\":\"white\",\"linecolor\":\"white\",\"ticks\":\"\"}},\"title\":{\"x\":0.05},\"xaxis\":{\"automargin\":true,\"gridcolor\":\"white\",\"linecolor\":\"white\",\"ticks\":\"\",\"title\":{\"standoff\":15},\"zerolinecolor\":\"white\",\"zerolinewidth\":2},\"yaxis\":{\"automargin\":true,\"gridcolor\":\"white\",\"linecolor\":\"white\",\"ticks\":\"\",\"title\":{\"standoff\":15},\"zerolinecolor\":\"white\",\"zerolinewidth\":2}}},\"xaxis\":{\"anchor\":\"y\",\"domain\":[0.0,1.0],\"title\":{\"text\":\"Topic\"}},\"yaxis\":{\"anchor\":\"x\",\"domain\":[0.0,1.0],\"title\":{\"text\":\"Count of posts in Topic\"}},\"coloraxis\":{\"colorbar\":{\"title\":{\"text\":\"Topic\"}},\"colorscale\":[[0.0,\"rgb(0,0,255)\"],[1.0,\"rgb(255,0,0)\"]],\"showscale\":false},\"legend\":{\"tracegroupgap\":0,\"itemsizing\":\"constant\"},\"title\":{\"text\":\"Top 20 Topics NMF\",\"x\":0.5,\"font\":{\"color\":\"white\"}},\"paper_bgcolor\":\"black\",\"plot_bgcolor\":\"black\",\"font\":{\"color\":\"white\"}},                        {\"responsive\": true}                    ).then(function(){\n",
       "                            \n",
       "var gd = document.getElementById('3459c9f7-916f-4f52-96f7-aceb29761a32');\n",
       "var x = new MutationObserver(function (mutations, observer) {{\n",
       "        var display = window.getComputedStyle(gd).display;\n",
       "        if (!display || display === 'none') {{\n",
       "            console.log([gd, 'removed!']);\n",
       "            Plotly.purge(gd);\n",
       "            observer.disconnect();\n",
       "        }}\n",
       "}});\n",
       "\n",
       "// Listen for the removal of the full notebook cells\n",
       "var notebookContainer = gd.closest('#notebook-container');\n",
       "if (notebookContainer) {{\n",
       "    x.observe(notebookContainer, {childList: true});\n",
       "}}\n",
       "\n",
       "// Listen for the clearing of the current output cell\n",
       "var outputEl = gd.closest('.output');\n",
       "if (outputEl) {{\n",
       "    x.observe(outputEl, {childList: true});\n",
       "}}\n",
       "\n",
       "                        })                };                });            </script>        </div>"
      ]
     },
     "metadata": {},
     "output_type": "display_data"
    }
   ],
   "source": [
    "fig = px.scatter(fin_graph, x=\"Topic\", y=\"Topic Count\",text=\"Topic\",\n",
    "                 size=\"Topic Count\",hover_name=\"Topic\",\n",
    "                 color_continuous_scale=\"Bluered\", \n",
    "                 size_max=60, color='Topic',\n",
    "                 title= \"Top 20 Topics NMF\")\n",
    "#fig.update_layout(paper_bgcolor = 'rgba(0, 0, 0, 0)', plot_bgcolor = 'rgba(0, 0, 0, 0)')\n",
    "fig.update_layout(paper_bgcolor = 'black', plot_bgcolor = 'black', title_x=0.5)\n",
    "fig.update_layout(title_font_color='white',font_color=\"white\") \n",
    "fig.update_yaxes(title_text=\"Count of posts in Topic\")\n",
    "fig.update(layout_coloraxis_showscale=False)\n",
    "fig.show()"
   ]
  },
  {
   "cell_type": "markdown",
   "id": "4efd5dd4",
   "metadata": {},
   "source": [
    "#### Check Coherence of Kmean, LDA and NMF comparison"
   ]
  },
  {
   "cell_type": "markdown",
   "id": "f6640df4",
   "metadata": {},
   "source": [
    "Kmeans Top Scorer:  20 Clusters, k-means++,\t4.968s,\t575118026,\t0.008,\t1.000,\t0.015,\t0.000,\t-0.000,\t0.707"
   ]
  },
  {
   "cell_type": "code",
   "execution_count": 103,
   "id": "bd2b7943",
   "metadata": {},
   "outputs": [],
   "source": [
    "from sklearn.cluster import KMeans\n",
    "from sklearn.decomposition import LatentDirichletAllocation as LDA"
   ]
  },
  {
   "cell_type": "code",
   "execution_count": 102,
   "id": "f37ac1c8",
   "metadata": {},
   "outputs": [],
   "source": [
    "num_clusters = 20\n",
    "kmeans_model = KMeans(n_clusters=num_clusters, init='k-means++', n_init=10, \n",
    "                          random_state = RANDOM_SEED,\n",
    "                         verbose=False, max_iter=1000)\n",
    "kmeans_20 = kmeans_model.fit(tf_idf)"
   ]
  },
  {
   "cell_type": "code",
   "execution_count": 107,
   "id": "ee08a1d2",
   "metadata": {},
   "outputs": [],
   "source": [
    "number_topics = 4\n",
    "# Create and fit the LDA model\n",
    "lda_fin4 = LDA(n_components=number_topics, n_jobs=-1, \n",
    "              learning_decay=0.9,learning_method='online',\n",
    "              batch_size = 5000,max_iter=10,random_state = 100)\n",
    "lda_fin = lda_fin4.fit(tf_idf)"
   ]
  },
  {
   "cell_type": "code",
   "execution_count": 113,
   "id": "b93ebcf4",
   "metadata": {},
   "outputs": [
    {
     "name": "stdout",
     "output_type": "stream",
     "text": [
      "ModelNMF, K=20: Coherence=0.3607\n",
      "ModelKMeans, K=20: Coherence=0.2432\n",
      "ModelLDA, K=04: Coherence=0.1864\n"
     ]
    }
   ],
   "source": [
    "from itertools import combinations\n",
    "#W = model.fit_transform(tf_idf)\n",
    "#H = model.components_    \n",
    "# store for later\n",
    "#topic_models.append( (k,W,H) )\n",
    "\n",
    "k_values = []\n",
    "coherences = []\n",
    "topic_model_fin =[(20, \"NMF\",model_fin.fit_transform(tf_idf),model_fin.components_),\n",
    "                  (20, \"KMeans\",kmeans_model.fit_transform(tf_idf),kmeans_model.cluster_centers_),\n",
    "                  (4, \"LDA\",lda_fin4.fit_transform(tf_idf),lda_fin.components_)]\n",
    "for (k,name_mod,W,H) in topic_model_fin:\n",
    "    # Get all of the topic descriptors - the term_rankings, based on top 10 terms\n",
    "    term_rankings = []\n",
    "    for topic_index in range(k):\n",
    "        terms = tf_idf_vectorizer.get_feature_names_out()\n",
    "        term_rankings.append(get_descriptor(terms, H, topic_index, 10))\n",
    "        #print(term_rankings)\n",
    "    # Now calculate the coherence based on our Word2vec model\n",
    "    k_values.append(k)\n",
    "    coherences.append(calculate_coherence(w2v_model,term_rankings))\n",
    "    print(f\"Model{name_mod}, K=%02d: Coherence=%.4f\" % (k, coherences[-1]))"
   ]
  },
  {
   "cell_type": "markdown",
   "id": "7e14a289",
   "metadata": {},
   "source": [
    "### NMF has the highest coherence "
   ]
  },
  {
   "cell_type": "code",
   "execution_count": 204,
   "id": "fa9bee81",
   "metadata": {},
   "outputs": [],
   "source": [
    "topic_labels = {0:'Season<br>Finale',1:'Mind<br>Flayer',2:\"Release<br>Season 4\",\n",
    "                3: \"Cast\", 4:\"\"\"Hopper<br>in<br>Russia\"\"\",5:\"Kate Bush<br>Soundrack\",\n",
    "                6:\"\"\"Steve,Nancy,<br>Dustin,Robin\"\"\",7:\"Favorite<br>Characters\",\n",
    "                8:\"Will &<br>Mike \",9:\"Hawkins<br>Portal\",10:\"Final<br>Episode\",\n",
    "                11:\"Vecna\", 12:\"Eddie<br>Metallica\",13:\"Dr Brenner<br>Powers\",\n",
    "                14:\"Scene<br>Opinions\", 15:\"Theories\",16:\"Upside<br>Down\",\n",
    "                17:\"Binge<br>Watch\",18:\"Dear<br>Billy\", 19:\"Spoilers\"}"
   ]
  },
  {
   "cell_type": "code",
   "execution_count": 205,
   "id": "27a1e9f4",
   "metadata": {},
   "outputs": [],
   "source": [
    "fin_graph['Topic_Name'] = fin_graph['Topic']"
   ]
  },
  {
   "cell_type": "code",
   "execution_count": 206,
   "id": "937e3131",
   "metadata": {},
   "outputs": [],
   "source": [
    "fin_graph.replace({\"Topic_Name\": topic_labels},inplace = True)"
   ]
  },
  {
   "cell_type": "code",
   "execution_count": 207,
   "id": "808b8287",
   "metadata": {},
   "outputs": [],
   "source": [
    "fin_graph.to_csv(\"final_topics20_NMF.csv\")"
   ]
  },
  {
   "cell_type": "code",
   "execution_count": 235,
   "id": "24a5241d",
   "metadata": {},
   "outputs": [
    {
     "data": {
      "application/vnd.plotly.v1+json": {
       "config": {
        "plotlyServerURL": "https://plot.ly"
       },
       "data": [
        {
         "hovertemplate": "Topic=%{marker.color}<br>Topic Count=%{marker.size}<br>Topic_Name=%{text}<extra></extra>",
         "legendgroup": "",
         "marker": {
          "color": [
           19,
           14,
           3,
           4,
           2,
           15,
           6,
           17,
           18,
           11,
           12,
           13,
           8,
           10,
           16,
           1,
           9,
           7,
           5,
           0
          ],
          "coloraxis": "coloraxis",
          "size": [
           2378,
           2313,
           2150,
           2111,
           1842,
           1662,
           1612,
           1594,
           1568,
           1490,
           1409,
           1366,
           1342,
           1334,
           1245,
           1180,
           1108,
           1065,
           971,
           920
          ],
          "sizemode": "area",
          "sizeref": 0.4853061224489796,
          "symbol": "circle"
         },
         "mode": "markers+text",
         "name": "",
         "orientation": "v",
         "showlegend": false,
         "text": [
          "Spoilers",
          "Scene<br>Opinions",
          "Cast",
          "Hopper<br>in<br>Russia",
          "Release<br>Season 4",
          "Theories",
          "Steve,Nancy,<br>Dustin,Robin",
          "Binge<br>Watch",
          "Dear<br>Billy",
          "Vecna",
          "Eddie<br>Metallica",
          "Dr Brenner<br>Powers",
          "Will &<br>Mike ",
          "Final<br>Episode",
          "Upside<br>Down",
          "Mind<br>Flayer",
          "Hawkins<br>Portal",
          "Favorite<br>Characters",
          "Kate Bush<br>Soundrack",
          "Season<br>Finale"
         ],
         "textposition": "middle center",
         "type": "scatter",
         "x": [
          19,
          14,
          3,
          4,
          2,
          15,
          6,
          17,
          18,
          11,
          12,
          13,
          8,
          10,
          16,
          1,
          9,
          7,
          5,
          0
         ],
         "xaxis": "x",
         "y": [
          2378,
          2313,
          2150,
          2111,
          1842,
          1662,
          1612,
          1594,
          1568,
          1490,
          1409,
          1366,
          1342,
          1334,
          1245,
          1180,
          1108,
          1065,
          971,
          920
         ],
         "yaxis": "y"
        }
       ],
       "layout": {
        "coloraxis": {
         "colorbar": {
          "title": {
           "text": "Topic"
          }
         },
         "colorscale": [
          [
           0,
           "rgb(0,0,255)"
          ],
          [
           1,
           "rgb(255,0,0)"
          ]
         ],
         "showscale": false
        },
        "font": {
         "color": "white"
        },
        "height": 600,
        "legend": {
         "itemsizing": "constant",
         "tracegroupgap": 0
        },
        "margin": {
         "b": 2,
         "r": 4
        },
        "paper_bgcolor": "black",
        "plot_bgcolor": "black",
        "template": {
         "data": {
          "bar": [
           {
            "error_x": {
             "color": "#2a3f5f"
            },
            "error_y": {
             "color": "#2a3f5f"
            },
            "marker": {
             "line": {
              "color": "#E5ECF6",
              "width": 0.5
             },
             "pattern": {
              "fillmode": "overlay",
              "size": 10,
              "solidity": 0.2
             }
            },
            "type": "bar"
           }
          ],
          "barpolar": [
           {
            "marker": {
             "line": {
              "color": "#E5ECF6",
              "width": 0.5
             },
             "pattern": {
              "fillmode": "overlay",
              "size": 10,
              "solidity": 0.2
             }
            },
            "type": "barpolar"
           }
          ],
          "carpet": [
           {
            "aaxis": {
             "endlinecolor": "#2a3f5f",
             "gridcolor": "white",
             "linecolor": "white",
             "minorgridcolor": "white",
             "startlinecolor": "#2a3f5f"
            },
            "baxis": {
             "endlinecolor": "#2a3f5f",
             "gridcolor": "white",
             "linecolor": "white",
             "minorgridcolor": "white",
             "startlinecolor": "#2a3f5f"
            },
            "type": "carpet"
           }
          ],
          "choropleth": [
           {
            "colorbar": {
             "outlinewidth": 0,
             "ticks": ""
            },
            "type": "choropleth"
           }
          ],
          "contour": [
           {
            "colorbar": {
             "outlinewidth": 0,
             "ticks": ""
            },
            "colorscale": [
             [
              0,
              "#0d0887"
             ],
             [
              0.1111111111111111,
              "#46039f"
             ],
             [
              0.2222222222222222,
              "#7201a8"
             ],
             [
              0.3333333333333333,
              "#9c179e"
             ],
             [
              0.4444444444444444,
              "#bd3786"
             ],
             [
              0.5555555555555556,
              "#d8576b"
             ],
             [
              0.6666666666666666,
              "#ed7953"
             ],
             [
              0.7777777777777778,
              "#fb9f3a"
             ],
             [
              0.8888888888888888,
              "#fdca26"
             ],
             [
              1,
              "#f0f921"
             ]
            ],
            "type": "contour"
           }
          ],
          "contourcarpet": [
           {
            "colorbar": {
             "outlinewidth": 0,
             "ticks": ""
            },
            "type": "contourcarpet"
           }
          ],
          "heatmap": [
           {
            "colorbar": {
             "outlinewidth": 0,
             "ticks": ""
            },
            "colorscale": [
             [
              0,
              "#0d0887"
             ],
             [
              0.1111111111111111,
              "#46039f"
             ],
             [
              0.2222222222222222,
              "#7201a8"
             ],
             [
              0.3333333333333333,
              "#9c179e"
             ],
             [
              0.4444444444444444,
              "#bd3786"
             ],
             [
              0.5555555555555556,
              "#d8576b"
             ],
             [
              0.6666666666666666,
              "#ed7953"
             ],
             [
              0.7777777777777778,
              "#fb9f3a"
             ],
             [
              0.8888888888888888,
              "#fdca26"
             ],
             [
              1,
              "#f0f921"
             ]
            ],
            "type": "heatmap"
           }
          ],
          "heatmapgl": [
           {
            "colorbar": {
             "outlinewidth": 0,
             "ticks": ""
            },
            "colorscale": [
             [
              0,
              "#0d0887"
             ],
             [
              0.1111111111111111,
              "#46039f"
             ],
             [
              0.2222222222222222,
              "#7201a8"
             ],
             [
              0.3333333333333333,
              "#9c179e"
             ],
             [
              0.4444444444444444,
              "#bd3786"
             ],
             [
              0.5555555555555556,
              "#d8576b"
             ],
             [
              0.6666666666666666,
              "#ed7953"
             ],
             [
              0.7777777777777778,
              "#fb9f3a"
             ],
             [
              0.8888888888888888,
              "#fdca26"
             ],
             [
              1,
              "#f0f921"
             ]
            ],
            "type": "heatmapgl"
           }
          ],
          "histogram": [
           {
            "marker": {
             "pattern": {
              "fillmode": "overlay",
              "size": 10,
              "solidity": 0.2
             }
            },
            "type": "histogram"
           }
          ],
          "histogram2d": [
           {
            "colorbar": {
             "outlinewidth": 0,
             "ticks": ""
            },
            "colorscale": [
             [
              0,
              "#0d0887"
             ],
             [
              0.1111111111111111,
              "#46039f"
             ],
             [
              0.2222222222222222,
              "#7201a8"
             ],
             [
              0.3333333333333333,
              "#9c179e"
             ],
             [
              0.4444444444444444,
              "#bd3786"
             ],
             [
              0.5555555555555556,
              "#d8576b"
             ],
             [
              0.6666666666666666,
              "#ed7953"
             ],
             [
              0.7777777777777778,
              "#fb9f3a"
             ],
             [
              0.8888888888888888,
              "#fdca26"
             ],
             [
              1,
              "#f0f921"
             ]
            ],
            "type": "histogram2d"
           }
          ],
          "histogram2dcontour": [
           {
            "colorbar": {
             "outlinewidth": 0,
             "ticks": ""
            },
            "colorscale": [
             [
              0,
              "#0d0887"
             ],
             [
              0.1111111111111111,
              "#46039f"
             ],
             [
              0.2222222222222222,
              "#7201a8"
             ],
             [
              0.3333333333333333,
              "#9c179e"
             ],
             [
              0.4444444444444444,
              "#bd3786"
             ],
             [
              0.5555555555555556,
              "#d8576b"
             ],
             [
              0.6666666666666666,
              "#ed7953"
             ],
             [
              0.7777777777777778,
              "#fb9f3a"
             ],
             [
              0.8888888888888888,
              "#fdca26"
             ],
             [
              1,
              "#f0f921"
             ]
            ],
            "type": "histogram2dcontour"
           }
          ],
          "mesh3d": [
           {
            "colorbar": {
             "outlinewidth": 0,
             "ticks": ""
            },
            "type": "mesh3d"
           }
          ],
          "parcoords": [
           {
            "line": {
             "colorbar": {
              "outlinewidth": 0,
              "ticks": ""
             }
            },
            "type": "parcoords"
           }
          ],
          "pie": [
           {
            "automargin": true,
            "type": "pie"
           }
          ],
          "scatter": [
           {
            "marker": {
             "colorbar": {
              "outlinewidth": 0,
              "ticks": ""
             }
            },
            "type": "scatter"
           }
          ],
          "scatter3d": [
           {
            "line": {
             "colorbar": {
              "outlinewidth": 0,
              "ticks": ""
             }
            },
            "marker": {
             "colorbar": {
              "outlinewidth": 0,
              "ticks": ""
             }
            },
            "type": "scatter3d"
           }
          ],
          "scattercarpet": [
           {
            "marker": {
             "colorbar": {
              "outlinewidth": 0,
              "ticks": ""
             }
            },
            "type": "scattercarpet"
           }
          ],
          "scattergeo": [
           {
            "marker": {
             "colorbar": {
              "outlinewidth": 0,
              "ticks": ""
             }
            },
            "type": "scattergeo"
           }
          ],
          "scattergl": [
           {
            "marker": {
             "colorbar": {
              "outlinewidth": 0,
              "ticks": ""
             }
            },
            "type": "scattergl"
           }
          ],
          "scattermapbox": [
           {
            "marker": {
             "colorbar": {
              "outlinewidth": 0,
              "ticks": ""
             }
            },
            "type": "scattermapbox"
           }
          ],
          "scatterpolar": [
           {
            "marker": {
             "colorbar": {
              "outlinewidth": 0,
              "ticks": ""
             }
            },
            "type": "scatterpolar"
           }
          ],
          "scatterpolargl": [
           {
            "marker": {
             "colorbar": {
              "outlinewidth": 0,
              "ticks": ""
             }
            },
            "type": "scatterpolargl"
           }
          ],
          "scatterternary": [
           {
            "marker": {
             "colorbar": {
              "outlinewidth": 0,
              "ticks": ""
             }
            },
            "type": "scatterternary"
           }
          ],
          "surface": [
           {
            "colorbar": {
             "outlinewidth": 0,
             "ticks": ""
            },
            "colorscale": [
             [
              0,
              "#0d0887"
             ],
             [
              0.1111111111111111,
              "#46039f"
             ],
             [
              0.2222222222222222,
              "#7201a8"
             ],
             [
              0.3333333333333333,
              "#9c179e"
             ],
             [
              0.4444444444444444,
              "#bd3786"
             ],
             [
              0.5555555555555556,
              "#d8576b"
             ],
             [
              0.6666666666666666,
              "#ed7953"
             ],
             [
              0.7777777777777778,
              "#fb9f3a"
             ],
             [
              0.8888888888888888,
              "#fdca26"
             ],
             [
              1,
              "#f0f921"
             ]
            ],
            "type": "surface"
           }
          ],
          "table": [
           {
            "cells": {
             "fill": {
              "color": "#EBF0F8"
             },
             "line": {
              "color": "white"
             }
            },
            "header": {
             "fill": {
              "color": "#C8D4E3"
             },
             "line": {
              "color": "white"
             }
            },
            "type": "table"
           }
          ]
         },
         "layout": {
          "annotationdefaults": {
           "arrowcolor": "#2a3f5f",
           "arrowhead": 0,
           "arrowwidth": 1
          },
          "autotypenumbers": "strict",
          "coloraxis": {
           "colorbar": {
            "outlinewidth": 0,
            "ticks": ""
           }
          },
          "colorscale": {
           "diverging": [
            [
             0,
             "#8e0152"
            ],
            [
             0.1,
             "#c51b7d"
            ],
            [
             0.2,
             "#de77ae"
            ],
            [
             0.3,
             "#f1b6da"
            ],
            [
             0.4,
             "#fde0ef"
            ],
            [
             0.5,
             "#f7f7f7"
            ],
            [
             0.6,
             "#e6f5d0"
            ],
            [
             0.7,
             "#b8e186"
            ],
            [
             0.8,
             "#7fbc41"
            ],
            [
             0.9,
             "#4d9221"
            ],
            [
             1,
             "#276419"
            ]
           ],
           "sequential": [
            [
             0,
             "#0d0887"
            ],
            [
             0.1111111111111111,
             "#46039f"
            ],
            [
             0.2222222222222222,
             "#7201a8"
            ],
            [
             0.3333333333333333,
             "#9c179e"
            ],
            [
             0.4444444444444444,
             "#bd3786"
            ],
            [
             0.5555555555555556,
             "#d8576b"
            ],
            [
             0.6666666666666666,
             "#ed7953"
            ],
            [
             0.7777777777777778,
             "#fb9f3a"
            ],
            [
             0.8888888888888888,
             "#fdca26"
            ],
            [
             1,
             "#f0f921"
            ]
           ],
           "sequentialminus": [
            [
             0,
             "#0d0887"
            ],
            [
             0.1111111111111111,
             "#46039f"
            ],
            [
             0.2222222222222222,
             "#7201a8"
            ],
            [
             0.3333333333333333,
             "#9c179e"
            ],
            [
             0.4444444444444444,
             "#bd3786"
            ],
            [
             0.5555555555555556,
             "#d8576b"
            ],
            [
             0.6666666666666666,
             "#ed7953"
            ],
            [
             0.7777777777777778,
             "#fb9f3a"
            ],
            [
             0.8888888888888888,
             "#fdca26"
            ],
            [
             1,
             "#f0f921"
            ]
           ]
          },
          "colorway": [
           "#636efa",
           "#EF553B",
           "#00cc96",
           "#ab63fa",
           "#FFA15A",
           "#19d3f3",
           "#FF6692",
           "#B6E880",
           "#FF97FF",
           "#FECB52"
          ],
          "font": {
           "color": "#2a3f5f"
          },
          "geo": {
           "bgcolor": "white",
           "lakecolor": "white",
           "landcolor": "#E5ECF6",
           "showlakes": true,
           "showland": true,
           "subunitcolor": "white"
          },
          "hoverlabel": {
           "align": "left"
          },
          "hovermode": "closest",
          "mapbox": {
           "style": "light"
          },
          "paper_bgcolor": "white",
          "plot_bgcolor": "#E5ECF6",
          "polar": {
           "angularaxis": {
            "gridcolor": "white",
            "linecolor": "white",
            "ticks": ""
           },
           "bgcolor": "#E5ECF6",
           "radialaxis": {
            "gridcolor": "white",
            "linecolor": "white",
            "ticks": ""
           }
          },
          "scene": {
           "xaxis": {
            "backgroundcolor": "#E5ECF6",
            "gridcolor": "white",
            "gridwidth": 2,
            "linecolor": "white",
            "showbackground": true,
            "ticks": "",
            "zerolinecolor": "white"
           },
           "yaxis": {
            "backgroundcolor": "#E5ECF6",
            "gridcolor": "white",
            "gridwidth": 2,
            "linecolor": "white",
            "showbackground": true,
            "ticks": "",
            "zerolinecolor": "white"
           },
           "zaxis": {
            "backgroundcolor": "#E5ECF6",
            "gridcolor": "white",
            "gridwidth": 2,
            "linecolor": "white",
            "showbackground": true,
            "ticks": "",
            "zerolinecolor": "white"
           }
          },
          "shapedefaults": {
           "line": {
            "color": "#2a3f5f"
           }
          },
          "ternary": {
           "aaxis": {
            "gridcolor": "white",
            "linecolor": "white",
            "ticks": ""
           },
           "baxis": {
            "gridcolor": "white",
            "linecolor": "white",
            "ticks": ""
           },
           "bgcolor": "#E5ECF6",
           "caxis": {
            "gridcolor": "white",
            "linecolor": "white",
            "ticks": ""
           }
          },
          "title": {
           "x": 0.05
          },
          "xaxis": {
           "automargin": true,
           "gridcolor": "white",
           "linecolor": "white",
           "ticks": "",
           "title": {
            "standoff": 15
           },
           "zerolinecolor": "white",
           "zerolinewidth": 2
          },
          "yaxis": {
           "automargin": true,
           "gridcolor": "white",
           "linecolor": "white",
           "ticks": "",
           "title": {
            "standoff": 15
           },
           "zerolinecolor": "white",
           "zerolinewidth": 2
          }
         }
        },
        "title": {
         "font": {
          "color": "white"
         },
         "text": "Stranger Things Subreddit Top 20 Topics (NMF)",
         "x": 0.5
        },
        "width": 1300,
        "xaxis": {
         "anchor": "y",
         "domain": [
          0,
          1
         ],
         "tickmode": "array",
         "tickvals": [
          0,
          2,
          4,
          6,
          8,
          10,
          12,
          14,
          16,
          18
         ],
         "title": {
          "text": "Topic"
         }
        },
        "yaxis": {
         "anchor": "x",
         "automargin": false,
         "domain": [
          0,
          1
         ],
         "range": [
          600,
          2750
         ],
         "title": {
          "text": "Count of posts in Topic"
         }
        }
       }
      },
      "text/html": [
       "<div>                            <div id=\"570abeed-9a40-4381-b5d3-1bd08d1fc6c4\" class=\"plotly-graph-div\" style=\"height:600px; width:1300px;\"></div>            <script type=\"text/javascript\">                require([\"plotly\"], function(Plotly) {                    window.PLOTLYENV=window.PLOTLYENV || {};                                    if (document.getElementById(\"570abeed-9a40-4381-b5d3-1bd08d1fc6c4\")) {                    Plotly.newPlot(                        \"570abeed-9a40-4381-b5d3-1bd08d1fc6c4\",                        [{\"hovertemplate\":\"Topic=%{marker.color}<br>Topic Count=%{marker.size}<br>Topic_Name=%{text}<extra></extra>\",\"legendgroup\":\"\",\"marker\":{\"color\":[19,14,3,4,2,15,6,17,18,11,12,13,8,10,16,1,9,7,5,0],\"coloraxis\":\"coloraxis\",\"size\":[2378,2313,2150,2111,1842,1662,1612,1594,1568,1490,1409,1366,1342,1334,1245,1180,1108,1065,971,920],\"sizemode\":\"area\",\"sizeref\":0.4853061224489796,\"symbol\":\"circle\"},\"mode\":\"markers+text\",\"name\":\"\",\"orientation\":\"v\",\"showlegend\":false,\"text\":[\"Spoilers\",\"Scene<br>Opinions\",\"Cast\",\"Hopper<br>in<br>Russia\",\"Release<br>Season 4\",\"Theories\",\"Steve,Nancy,<br>Dustin,Robin\",\"Binge<br>Watch\",\"Dear<br>Billy\",\"Vecna\",\"Eddie<br>Metallica\",\"Dr Brenner<br>Powers\",\"Will &<br>Mike \",\"Final<br>Episode\",\"Upside<br>Down\",\"Mind<br>Flayer\",\"Hawkins<br>Portal\",\"Favorite<br>Characters\",\"Kate Bush<br>Soundrack\",\"Season<br>Finale\"],\"x\":[19,14,3,4,2,15,6,17,18,11,12,13,8,10,16,1,9,7,5,0],\"xaxis\":\"x\",\"y\":[2378,2313,2150,2111,1842,1662,1612,1594,1568,1490,1409,1366,1342,1334,1245,1180,1108,1065,971,920],\"yaxis\":\"y\",\"type\":\"scatter\",\"textposition\":\"middle center\"}],                        {\"template\":{\"data\":{\"bar\":[{\"error_x\":{\"color\":\"#2a3f5f\"},\"error_y\":{\"color\":\"#2a3f5f\"},\"marker\":{\"line\":{\"color\":\"#E5ECF6\",\"width\":0.5},\"pattern\":{\"fillmode\":\"overlay\",\"size\":10,\"solidity\":0.2}},\"type\":\"bar\"}],\"barpolar\":[{\"marker\":{\"line\":{\"color\":\"#E5ECF6\",\"width\":0.5},\"pattern\":{\"fillmode\":\"overlay\",\"size\":10,\"solidity\":0.2}},\"type\":\"barpolar\"}],\"carpet\":[{\"aaxis\":{\"endlinecolor\":\"#2a3f5f\",\"gridcolor\":\"white\",\"linecolor\":\"white\",\"minorgridcolor\":\"white\",\"startlinecolor\":\"#2a3f5f\"},\"baxis\":{\"endlinecolor\":\"#2a3f5f\",\"gridcolor\":\"white\",\"linecolor\":\"white\",\"minorgridcolor\":\"white\",\"startlinecolor\":\"#2a3f5f\"},\"type\":\"carpet\"}],\"choropleth\":[{\"colorbar\":{\"outlinewidth\":0,\"ticks\":\"\"},\"type\":\"choropleth\"}],\"contour\":[{\"colorbar\":{\"outlinewidth\":0,\"ticks\":\"\"},\"colorscale\":[[0.0,\"#0d0887\"],[0.1111111111111111,\"#46039f\"],[0.2222222222222222,\"#7201a8\"],[0.3333333333333333,\"#9c179e\"],[0.4444444444444444,\"#bd3786\"],[0.5555555555555556,\"#d8576b\"],[0.6666666666666666,\"#ed7953\"],[0.7777777777777778,\"#fb9f3a\"],[0.8888888888888888,\"#fdca26\"],[1.0,\"#f0f921\"]],\"type\":\"contour\"}],\"contourcarpet\":[{\"colorbar\":{\"outlinewidth\":0,\"ticks\":\"\"},\"type\":\"contourcarpet\"}],\"heatmap\":[{\"colorbar\":{\"outlinewidth\":0,\"ticks\":\"\"},\"colorscale\":[[0.0,\"#0d0887\"],[0.1111111111111111,\"#46039f\"],[0.2222222222222222,\"#7201a8\"],[0.3333333333333333,\"#9c179e\"],[0.4444444444444444,\"#bd3786\"],[0.5555555555555556,\"#d8576b\"],[0.6666666666666666,\"#ed7953\"],[0.7777777777777778,\"#fb9f3a\"],[0.8888888888888888,\"#fdca26\"],[1.0,\"#f0f921\"]],\"type\":\"heatmap\"}],\"heatmapgl\":[{\"colorbar\":{\"outlinewidth\":0,\"ticks\":\"\"},\"colorscale\":[[0.0,\"#0d0887\"],[0.1111111111111111,\"#46039f\"],[0.2222222222222222,\"#7201a8\"],[0.3333333333333333,\"#9c179e\"],[0.4444444444444444,\"#bd3786\"],[0.5555555555555556,\"#d8576b\"],[0.6666666666666666,\"#ed7953\"],[0.7777777777777778,\"#fb9f3a\"],[0.8888888888888888,\"#fdca26\"],[1.0,\"#f0f921\"]],\"type\":\"heatmapgl\"}],\"histogram\":[{\"marker\":{\"pattern\":{\"fillmode\":\"overlay\",\"size\":10,\"solidity\":0.2}},\"type\":\"histogram\"}],\"histogram2d\":[{\"colorbar\":{\"outlinewidth\":0,\"ticks\":\"\"},\"colorscale\":[[0.0,\"#0d0887\"],[0.1111111111111111,\"#46039f\"],[0.2222222222222222,\"#7201a8\"],[0.3333333333333333,\"#9c179e\"],[0.4444444444444444,\"#bd3786\"],[0.5555555555555556,\"#d8576b\"],[0.6666666666666666,\"#ed7953\"],[0.7777777777777778,\"#fb9f3a\"],[0.8888888888888888,\"#fdca26\"],[1.0,\"#f0f921\"]],\"type\":\"histogram2d\"}],\"histogram2dcontour\":[{\"colorbar\":{\"outlinewidth\":0,\"ticks\":\"\"},\"colorscale\":[[0.0,\"#0d0887\"],[0.1111111111111111,\"#46039f\"],[0.2222222222222222,\"#7201a8\"],[0.3333333333333333,\"#9c179e\"],[0.4444444444444444,\"#bd3786\"],[0.5555555555555556,\"#d8576b\"],[0.6666666666666666,\"#ed7953\"],[0.7777777777777778,\"#fb9f3a\"],[0.8888888888888888,\"#fdca26\"],[1.0,\"#f0f921\"]],\"type\":\"histogram2dcontour\"}],\"mesh3d\":[{\"colorbar\":{\"outlinewidth\":0,\"ticks\":\"\"},\"type\":\"mesh3d\"}],\"parcoords\":[{\"line\":{\"colorbar\":{\"outlinewidth\":0,\"ticks\":\"\"}},\"type\":\"parcoords\"}],\"pie\":[{\"automargin\":true,\"type\":\"pie\"}],\"scatter\":[{\"marker\":{\"colorbar\":{\"outlinewidth\":0,\"ticks\":\"\"}},\"type\":\"scatter\"}],\"scatter3d\":[{\"line\":{\"colorbar\":{\"outlinewidth\":0,\"ticks\":\"\"}},\"marker\":{\"colorbar\":{\"outlinewidth\":0,\"ticks\":\"\"}},\"type\":\"scatter3d\"}],\"scattercarpet\":[{\"marker\":{\"colorbar\":{\"outlinewidth\":0,\"ticks\":\"\"}},\"type\":\"scattercarpet\"}],\"scattergeo\":[{\"marker\":{\"colorbar\":{\"outlinewidth\":0,\"ticks\":\"\"}},\"type\":\"scattergeo\"}],\"scattergl\":[{\"marker\":{\"colorbar\":{\"outlinewidth\":0,\"ticks\":\"\"}},\"type\":\"scattergl\"}],\"scattermapbox\":[{\"marker\":{\"colorbar\":{\"outlinewidth\":0,\"ticks\":\"\"}},\"type\":\"scattermapbox\"}],\"scatterpolar\":[{\"marker\":{\"colorbar\":{\"outlinewidth\":0,\"ticks\":\"\"}},\"type\":\"scatterpolar\"}],\"scatterpolargl\":[{\"marker\":{\"colorbar\":{\"outlinewidth\":0,\"ticks\":\"\"}},\"type\":\"scatterpolargl\"}],\"scatterternary\":[{\"marker\":{\"colorbar\":{\"outlinewidth\":0,\"ticks\":\"\"}},\"type\":\"scatterternary\"}],\"surface\":[{\"colorbar\":{\"outlinewidth\":0,\"ticks\":\"\"},\"colorscale\":[[0.0,\"#0d0887\"],[0.1111111111111111,\"#46039f\"],[0.2222222222222222,\"#7201a8\"],[0.3333333333333333,\"#9c179e\"],[0.4444444444444444,\"#bd3786\"],[0.5555555555555556,\"#d8576b\"],[0.6666666666666666,\"#ed7953\"],[0.7777777777777778,\"#fb9f3a\"],[0.8888888888888888,\"#fdca26\"],[1.0,\"#f0f921\"]],\"type\":\"surface\"}],\"table\":[{\"cells\":{\"fill\":{\"color\":\"#EBF0F8\"},\"line\":{\"color\":\"white\"}},\"header\":{\"fill\":{\"color\":\"#C8D4E3\"},\"line\":{\"color\":\"white\"}},\"type\":\"table\"}]},\"layout\":{\"annotationdefaults\":{\"arrowcolor\":\"#2a3f5f\",\"arrowhead\":0,\"arrowwidth\":1},\"autotypenumbers\":\"strict\",\"coloraxis\":{\"colorbar\":{\"outlinewidth\":0,\"ticks\":\"\"}},\"colorscale\":{\"diverging\":[[0,\"#8e0152\"],[0.1,\"#c51b7d\"],[0.2,\"#de77ae\"],[0.3,\"#f1b6da\"],[0.4,\"#fde0ef\"],[0.5,\"#f7f7f7\"],[0.6,\"#e6f5d0\"],[0.7,\"#b8e186\"],[0.8,\"#7fbc41\"],[0.9,\"#4d9221\"],[1,\"#276419\"]],\"sequential\":[[0.0,\"#0d0887\"],[0.1111111111111111,\"#46039f\"],[0.2222222222222222,\"#7201a8\"],[0.3333333333333333,\"#9c179e\"],[0.4444444444444444,\"#bd3786\"],[0.5555555555555556,\"#d8576b\"],[0.6666666666666666,\"#ed7953\"],[0.7777777777777778,\"#fb9f3a\"],[0.8888888888888888,\"#fdca26\"],[1.0,\"#f0f921\"]],\"sequentialminus\":[[0.0,\"#0d0887\"],[0.1111111111111111,\"#46039f\"],[0.2222222222222222,\"#7201a8\"],[0.3333333333333333,\"#9c179e\"],[0.4444444444444444,\"#bd3786\"],[0.5555555555555556,\"#d8576b\"],[0.6666666666666666,\"#ed7953\"],[0.7777777777777778,\"#fb9f3a\"],[0.8888888888888888,\"#fdca26\"],[1.0,\"#f0f921\"]]},\"colorway\":[\"#636efa\",\"#EF553B\",\"#00cc96\",\"#ab63fa\",\"#FFA15A\",\"#19d3f3\",\"#FF6692\",\"#B6E880\",\"#FF97FF\",\"#FECB52\"],\"font\":{\"color\":\"#2a3f5f\"},\"geo\":{\"bgcolor\":\"white\",\"lakecolor\":\"white\",\"landcolor\":\"#E5ECF6\",\"showlakes\":true,\"showland\":true,\"subunitcolor\":\"white\"},\"hoverlabel\":{\"align\":\"left\"},\"hovermode\":\"closest\",\"mapbox\":{\"style\":\"light\"},\"paper_bgcolor\":\"white\",\"plot_bgcolor\":\"#E5ECF6\",\"polar\":{\"angularaxis\":{\"gridcolor\":\"white\",\"linecolor\":\"white\",\"ticks\":\"\"},\"bgcolor\":\"#E5ECF6\",\"radialaxis\":{\"gridcolor\":\"white\",\"linecolor\":\"white\",\"ticks\":\"\"}},\"scene\":{\"xaxis\":{\"backgroundcolor\":\"#E5ECF6\",\"gridcolor\":\"white\",\"gridwidth\":2,\"linecolor\":\"white\",\"showbackground\":true,\"ticks\":\"\",\"zerolinecolor\":\"white\"},\"yaxis\":{\"backgroundcolor\":\"#E5ECF6\",\"gridcolor\":\"white\",\"gridwidth\":2,\"linecolor\":\"white\",\"showbackground\":true,\"ticks\":\"\",\"zerolinecolor\":\"white\"},\"zaxis\":{\"backgroundcolor\":\"#E5ECF6\",\"gridcolor\":\"white\",\"gridwidth\":2,\"linecolor\":\"white\",\"showbackground\":true,\"ticks\":\"\",\"zerolinecolor\":\"white\"}},\"shapedefaults\":{\"line\":{\"color\":\"#2a3f5f\"}},\"ternary\":{\"aaxis\":{\"gridcolor\":\"white\",\"linecolor\":\"white\",\"ticks\":\"\"},\"baxis\":{\"gridcolor\":\"white\",\"linecolor\":\"white\",\"ticks\":\"\"},\"bgcolor\":\"#E5ECF6\",\"caxis\":{\"gridcolor\":\"white\",\"linecolor\":\"white\",\"ticks\":\"\"}},\"title\":{\"x\":0.05},\"xaxis\":{\"automargin\":true,\"gridcolor\":\"white\",\"linecolor\":\"white\",\"ticks\":\"\",\"title\":{\"standoff\":15},\"zerolinecolor\":\"white\",\"zerolinewidth\":2},\"yaxis\":{\"automargin\":true,\"gridcolor\":\"white\",\"linecolor\":\"white\",\"ticks\":\"\",\"title\":{\"standoff\":15},\"zerolinecolor\":\"white\",\"zerolinewidth\":2}}},\"xaxis\":{\"anchor\":\"y\",\"domain\":[0.0,1.0],\"title\":{\"text\":\"Topic\"},\"tickmode\":\"array\",\"tickvals\":[0,2,4,6,8,10,12,14,16,18]},\"yaxis\":{\"anchor\":\"x\",\"domain\":[0.0,1.0],\"title\":{\"text\":\"Count of posts in Topic\"},\"automargin\":false,\"range\":[600,2750]},\"coloraxis\":{\"colorbar\":{\"title\":{\"text\":\"Topic\"}},\"colorscale\":[[0.0,\"rgb(0,0,255)\"],[1.0,\"rgb(255,0,0)\"]],\"showscale\":false},\"legend\":{\"tracegroupgap\":0,\"itemsizing\":\"constant\"},\"title\":{\"text\":\"Stranger Things Subreddit Top 20 Topics (NMF)\",\"x\":0.5,\"font\":{\"color\":\"white\"}},\"height\":600,\"width\":1300,\"paper_bgcolor\":\"black\",\"plot_bgcolor\":\"black\",\"font\":{\"color\":\"white\"},\"margin\":{\"r\":4,\"b\":2}},                        {\"responsive\": true}                    ).then(function(){\n",
       "                            \n",
       "var gd = document.getElementById('570abeed-9a40-4381-b5d3-1bd08d1fc6c4');\n",
       "var x = new MutationObserver(function (mutations, observer) {{\n",
       "        var display = window.getComputedStyle(gd).display;\n",
       "        if (!display || display === 'none') {{\n",
       "            console.log([gd, 'removed!']);\n",
       "            Plotly.purge(gd);\n",
       "            observer.disconnect();\n",
       "        }}\n",
       "}});\n",
       "\n",
       "// Listen for the removal of the full notebook cells\n",
       "var notebookContainer = gd.closest('#notebook-container');\n",
       "if (notebookContainer) {{\n",
       "    x.observe(notebookContainer, {childList: true});\n",
       "}}\n",
       "\n",
       "// Listen for the clearing of the current output cell\n",
       "var outputEl = gd.closest('.output');\n",
       "if (outputEl) {{\n",
       "    x.observe(outputEl, {childList: true});\n",
       "}}\n",
       "\n",
       "                        })                };                });            </script>        </div>"
      ]
     },
     "metadata": {},
     "output_type": "display_data"
    }
   ],
   "source": [
    "fig2 = px.scatter(fin_graph, x=\"Topic\", y=\"Topic Count\",text=\"Topic_Name\",\n",
    "                 size=\"Topic Count\",\n",
    "                 color_continuous_scale=\"Bluered\", \n",
    "                 size_max=70, color='Topic',\n",
    "                 title= \"Stranger Things Subreddit Top 20 Topics (NMF)\",width=1300, height=600\n",
    "                 )\n",
    "#fig.update_layout(paper_bgcolor = 'rgba(0, 0, 0, 0)', plot_bgcolor = 'rgba(0, 0, 0, 0)')\n",
    "fig2.update_layout(paper_bgcolor = 'black', plot_bgcolor = 'black', title_x=0.5)\n",
    "fig2.update_layout(title_font_color='white',font_color=\"white\") \n",
    "fig2.update_yaxes(title_text=\"Count of posts in Topic\")\n",
    "fig2.update(layout_coloraxis_showscale=False)\n",
    "fig2.update_layout({\"margin\":{\"r\":4,\"b\":2}},\n",
    "    xaxis = dict(\n",
    "        tickmode = 'array',\n",
    "        tickvals = [0,2,4,6,8,10,12,14,16,18],\n",
    "        #ticktext = ['One', 'Three', 'Five', 'Seven', 'Nine', 'Eleven']\n",
    "    )\n",
    ")\n",
    "fig2.update_yaxes(automargin=False)\n",
    "fig2.update_traces(textposition='middle center')\n",
    "fig2.update_layout(yaxis_range=[600,2750])\n",
    "fig2.show()"
   ]
  },
  {
   "cell_type": "code",
   "execution_count": null,
   "id": "55487688",
   "metadata": {},
   "outputs": [],
   "source": []
  },
  {
   "cell_type": "code",
   "execution_count": null,
   "id": "24c4f884",
   "metadata": {},
   "outputs": [],
   "source": []
  },
  {
   "cell_type": "code",
   "execution_count": null,
   "id": "aeb37ee9",
   "metadata": {},
   "outputs": [],
   "source": []
  }
 ],
 "metadata": {
  "kernelspec": {
   "display_name": "Python 3 (ipykernel)",
   "language": "python",
   "name": "python3"
  },
  "language_info": {
   "codemirror_mode": {
    "name": "ipython",
    "version": 3
   },
   "file_extension": ".py",
   "mimetype": "text/x-python",
   "name": "python",
   "nbconvert_exporter": "python",
   "pygments_lexer": "ipython3",
   "version": "3.9.8"
  }
 },
 "nbformat": 4,
 "nbformat_minor": 5
}
